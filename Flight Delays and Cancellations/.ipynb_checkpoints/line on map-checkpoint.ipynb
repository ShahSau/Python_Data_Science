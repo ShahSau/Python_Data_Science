{
 "cells": [
  {
   "cell_type": "code",
   "execution_count": 1,
   "metadata": {
    "ExecuteTime": {
     "end_time": "2020-06-29T22:22:24.197719Z",
     "start_time": "2020-06-29T22:22:22.066380Z"
    }
   },
   "outputs": [
    {
     "data": {
      "text/html": [
       "        <script type=\"text/javascript\">\n",
       "        window.PlotlyConfig = {MathJaxConfig: 'local'};\n",
       "        if (window.MathJax) {MathJax.Hub.Config({SVG: {font: \"STIX-Web\"}});}\n",
       "        if (typeof require !== 'undefined') {\n",
       "        require.undef(\"plotly\");\n",
       "        requirejs.config({\n",
       "            paths: {\n",
       "                'plotly': ['https://cdn.plot.ly/plotly-latest.min']\n",
       "            }\n",
       "        });\n",
       "        require(['plotly'], function(Plotly) {\n",
       "            window._Plotly = Plotly;\n",
       "        });\n",
       "        }\n",
       "        </script>\n",
       "        "
      ]
     },
     "metadata": {},
     "output_type": "display_data"
    }
   ],
   "source": [
    "# import necessary libraries\n",
    "import dask.dataframe as dd\n",
    "\n",
    "import matplotlib.pyplot as plt\n",
    "import pandas as pd\n",
    "import numpy as np\n",
    "import seaborn as sns\n",
    "import datetime as dt\n",
    "\n",
    "import plotly.offline as py\n",
    "import plotly.figure_factory as ff\n",
    "py.init_notebook_mode(connected=True)\n",
    "import plotly.graph_objs as go\n",
    "from plotly import tools"
   ]
  },
  {
   "cell_type": "code",
   "execution_count": 2,
   "metadata": {
    "ExecuteTime": {
     "end_time": "2020-06-29T22:22:58.271873Z",
     "start_time": "2020-06-29T22:22:58.190292Z"
    }
   },
   "outputs": [],
   "source": [
    "# import data into DASK dataframe\n",
    "df= dd.read_csv(\"flights.csv\",assume_missing=True,low_memory=False)\n"
   ]
  },
  {
   "cell_type": "code",
   "execution_count": 3,
   "metadata": {
    "ExecuteTime": {
     "end_time": "2020-06-29T22:24:09.085513Z",
     "start_time": "2020-06-29T22:24:09.039332Z"
    }
   },
   "outputs": [],
   "source": [
    "airlines = dd.read_csv(\"airlines.csv\")\n",
    "airports= dd.read_csv(\"airports.csv\")"
   ]
  },
  {
   "cell_type": "code",
   "execution_count": 4,
   "metadata": {
    "ExecuteTime": {
     "end_time": "2020-06-29T22:24:23.522601Z",
     "start_time": "2020-06-29T22:24:23.489614Z"
    }
   },
   "outputs": [],
   "source": [
    "df = dd.merge(df,airlines, left_on='AIRLINE', right_on = 'IATA_CODE')"
   ]
  },
  {
   "cell_type": "code",
   "execution_count": 5,
   "metadata": {
    "ExecuteTime": {
     "end_time": "2020-06-29T22:24:41.215569Z",
     "start_time": "2020-06-29T22:24:37.353907Z"
    }
   },
   "outputs": [
    {
     "data": {
      "text/html": [
       "<div>\n",
       "<style scoped>\n",
       "    .dataframe tbody tr th:only-of-type {\n",
       "        vertical-align: middle;\n",
       "    }\n",
       "\n",
       "    .dataframe tbody tr th {\n",
       "        vertical-align: top;\n",
       "    }\n",
       "\n",
       "    .dataframe thead th {\n",
       "        text-align: right;\n",
       "    }\n",
       "</style>\n",
       "<table border=\"1\" class=\"dataframe\">\n",
       "  <thead>\n",
       "    <tr style=\"text-align: right;\">\n",
       "      <th></th>\n",
       "      <th>0</th>\n",
       "      <th>1</th>\n",
       "      <th>2</th>\n",
       "      <th>3</th>\n",
       "      <th>4</th>\n",
       "    </tr>\n",
       "  </thead>\n",
       "  <tbody>\n",
       "    <tr>\n",
       "      <th>YEAR</th>\n",
       "      <td>2015</td>\n",
       "      <td>2015</td>\n",
       "      <td>2015</td>\n",
       "      <td>2015</td>\n",
       "      <td>2015</td>\n",
       "    </tr>\n",
       "    <tr>\n",
       "      <th>MONTH</th>\n",
       "      <td>1</td>\n",
       "      <td>1</td>\n",
       "      <td>1</td>\n",
       "      <td>1</td>\n",
       "      <td>1</td>\n",
       "    </tr>\n",
       "    <tr>\n",
       "      <th>DAY</th>\n",
       "      <td>1</td>\n",
       "      <td>1</td>\n",
       "      <td>1</td>\n",
       "      <td>1</td>\n",
       "      <td>1</td>\n",
       "    </tr>\n",
       "    <tr>\n",
       "      <th>DAY_OF_WEEK</th>\n",
       "      <td>4</td>\n",
       "      <td>4</td>\n",
       "      <td>4</td>\n",
       "      <td>4</td>\n",
       "      <td>4</td>\n",
       "    </tr>\n",
       "    <tr>\n",
       "      <th>AIRLINE_x</th>\n",
       "      <td>AS</td>\n",
       "      <td>AS</td>\n",
       "      <td>AS</td>\n",
       "      <td>AS</td>\n",
       "      <td>AS</td>\n",
       "    </tr>\n",
       "    <tr>\n",
       "      <th>FLIGHT_NUMBER</th>\n",
       "      <td>98</td>\n",
       "      <td>135</td>\n",
       "      <td>108</td>\n",
       "      <td>122</td>\n",
       "      <td>130</td>\n",
       "    </tr>\n",
       "    <tr>\n",
       "      <th>TAIL_NUMBER</th>\n",
       "      <td>N407AS</td>\n",
       "      <td>N527AS</td>\n",
       "      <td>N309AS</td>\n",
       "      <td>N413AS</td>\n",
       "      <td>N457AS</td>\n",
       "    </tr>\n",
       "    <tr>\n",
       "      <th>ORIGIN_AIRPORT</th>\n",
       "      <td>ANC</td>\n",
       "      <td>SEA</td>\n",
       "      <td>ANC</td>\n",
       "      <td>ANC</td>\n",
       "      <td>FAI</td>\n",
       "    </tr>\n",
       "    <tr>\n",
       "      <th>DESTINATION_AIRPORT</th>\n",
       "      <td>SEA</td>\n",
       "      <td>ANC</td>\n",
       "      <td>SEA</td>\n",
       "      <td>PDX</td>\n",
       "      <td>SEA</td>\n",
       "    </tr>\n",
       "    <tr>\n",
       "      <th>SCHEDULED_DEPARTURE</th>\n",
       "      <td>5</td>\n",
       "      <td>25</td>\n",
       "      <td>45</td>\n",
       "      <td>50</td>\n",
       "      <td>115</td>\n",
       "    </tr>\n",
       "    <tr>\n",
       "      <th>DEPARTURE_TIME</th>\n",
       "      <td>2354</td>\n",
       "      <td>24</td>\n",
       "      <td>41</td>\n",
       "      <td>46</td>\n",
       "      <td>107</td>\n",
       "    </tr>\n",
       "    <tr>\n",
       "      <th>DEPARTURE_DELAY</th>\n",
       "      <td>-11</td>\n",
       "      <td>-1</td>\n",
       "      <td>-4</td>\n",
       "      <td>-4</td>\n",
       "      <td>-8</td>\n",
       "    </tr>\n",
       "    <tr>\n",
       "      <th>TAXI_OUT</th>\n",
       "      <td>21</td>\n",
       "      <td>11</td>\n",
       "      <td>17</td>\n",
       "      <td>11</td>\n",
       "      <td>25</td>\n",
       "    </tr>\n",
       "    <tr>\n",
       "      <th>WHEELS_OFF</th>\n",
       "      <td>15</td>\n",
       "      <td>35</td>\n",
       "      <td>58</td>\n",
       "      <td>57</td>\n",
       "      <td>132</td>\n",
       "    </tr>\n",
       "    <tr>\n",
       "      <th>SCHEDULED_TIME</th>\n",
       "      <td>205</td>\n",
       "      <td>235</td>\n",
       "      <td>204</td>\n",
       "      <td>215</td>\n",
       "      <td>213</td>\n",
       "    </tr>\n",
       "    <tr>\n",
       "      <th>ELAPSED_TIME</th>\n",
       "      <td>194</td>\n",
       "      <td>215</td>\n",
       "      <td>194</td>\n",
       "      <td>201</td>\n",
       "      <td>218</td>\n",
       "    </tr>\n",
       "    <tr>\n",
       "      <th>AIR_TIME</th>\n",
       "      <td>169</td>\n",
       "      <td>199</td>\n",
       "      <td>173</td>\n",
       "      <td>187</td>\n",
       "      <td>186</td>\n",
       "    </tr>\n",
       "    <tr>\n",
       "      <th>DISTANCE</th>\n",
       "      <td>1448</td>\n",
       "      <td>1448</td>\n",
       "      <td>1448</td>\n",
       "      <td>1542</td>\n",
       "      <td>1533</td>\n",
       "    </tr>\n",
       "    <tr>\n",
       "      <th>WHEELS_ON</th>\n",
       "      <td>404</td>\n",
       "      <td>254</td>\n",
       "      <td>451</td>\n",
       "      <td>504</td>\n",
       "      <td>538</td>\n",
       "    </tr>\n",
       "    <tr>\n",
       "      <th>TAXI_IN</th>\n",
       "      <td>4</td>\n",
       "      <td>5</td>\n",
       "      <td>4</td>\n",
       "      <td>3</td>\n",
       "      <td>7</td>\n",
       "    </tr>\n",
       "    <tr>\n",
       "      <th>SCHEDULED_ARRIVAL</th>\n",
       "      <td>430</td>\n",
       "      <td>320</td>\n",
       "      <td>509</td>\n",
       "      <td>525</td>\n",
       "      <td>548</td>\n",
       "    </tr>\n",
       "    <tr>\n",
       "      <th>ARRIVAL_TIME</th>\n",
       "      <td>408</td>\n",
       "      <td>259</td>\n",
       "      <td>455</td>\n",
       "      <td>507</td>\n",
       "      <td>545</td>\n",
       "    </tr>\n",
       "    <tr>\n",
       "      <th>ARRIVAL_DELAY</th>\n",
       "      <td>-22</td>\n",
       "      <td>-21</td>\n",
       "      <td>-14</td>\n",
       "      <td>-18</td>\n",
       "      <td>-3</td>\n",
       "    </tr>\n",
       "    <tr>\n",
       "      <th>DIVERTED</th>\n",
       "      <td>0</td>\n",
       "      <td>0</td>\n",
       "      <td>0</td>\n",
       "      <td>0</td>\n",
       "      <td>0</td>\n",
       "    </tr>\n",
       "    <tr>\n",
       "      <th>CANCELLED</th>\n",
       "      <td>0</td>\n",
       "      <td>0</td>\n",
       "      <td>0</td>\n",
       "      <td>0</td>\n",
       "      <td>0</td>\n",
       "    </tr>\n",
       "    <tr>\n",
       "      <th>CANCELLATION_REASON</th>\n",
       "      <td>NaN</td>\n",
       "      <td>NaN</td>\n",
       "      <td>NaN</td>\n",
       "      <td>NaN</td>\n",
       "      <td>NaN</td>\n",
       "    </tr>\n",
       "    <tr>\n",
       "      <th>AIR_SYSTEM_DELAY</th>\n",
       "      <td>NaN</td>\n",
       "      <td>NaN</td>\n",
       "      <td>NaN</td>\n",
       "      <td>NaN</td>\n",
       "      <td>NaN</td>\n",
       "    </tr>\n",
       "    <tr>\n",
       "      <th>SECURITY_DELAY</th>\n",
       "      <td>NaN</td>\n",
       "      <td>NaN</td>\n",
       "      <td>NaN</td>\n",
       "      <td>NaN</td>\n",
       "      <td>NaN</td>\n",
       "    </tr>\n",
       "    <tr>\n",
       "      <th>AIRLINE_DELAY</th>\n",
       "      <td>NaN</td>\n",
       "      <td>NaN</td>\n",
       "      <td>NaN</td>\n",
       "      <td>NaN</td>\n",
       "      <td>NaN</td>\n",
       "    </tr>\n",
       "    <tr>\n",
       "      <th>LATE_AIRCRAFT_DELAY</th>\n",
       "      <td>NaN</td>\n",
       "      <td>NaN</td>\n",
       "      <td>NaN</td>\n",
       "      <td>NaN</td>\n",
       "      <td>NaN</td>\n",
       "    </tr>\n",
       "    <tr>\n",
       "      <th>WEATHER_DELAY</th>\n",
       "      <td>NaN</td>\n",
       "      <td>NaN</td>\n",
       "      <td>NaN</td>\n",
       "      <td>NaN</td>\n",
       "      <td>NaN</td>\n",
       "    </tr>\n",
       "    <tr>\n",
       "      <th>IATA_CODE</th>\n",
       "      <td>AS</td>\n",
       "      <td>AS</td>\n",
       "      <td>AS</td>\n",
       "      <td>AS</td>\n",
       "      <td>AS</td>\n",
       "    </tr>\n",
       "    <tr>\n",
       "      <th>AIRLINE_y</th>\n",
       "      <td>Alaska Airlines Inc.</td>\n",
       "      <td>Alaska Airlines Inc.</td>\n",
       "      <td>Alaska Airlines Inc.</td>\n",
       "      <td>Alaska Airlines Inc.</td>\n",
       "      <td>Alaska Airlines Inc.</td>\n",
       "    </tr>\n",
       "  </tbody>\n",
       "</table>\n",
       "</div>"
      ],
      "text/plain": [
       "                                        0                     1  \\\n",
       "YEAR                                 2015                  2015   \n",
       "MONTH                                   1                     1   \n",
       "DAY                                     1                     1   \n",
       "DAY_OF_WEEK                             4                     4   \n",
       "AIRLINE_x                              AS                    AS   \n",
       "FLIGHT_NUMBER                          98                   135   \n",
       "TAIL_NUMBER                        N407AS                N527AS   \n",
       "ORIGIN_AIRPORT                        ANC                   SEA   \n",
       "DESTINATION_AIRPORT                   SEA                   ANC   \n",
       "SCHEDULED_DEPARTURE                     5                    25   \n",
       "DEPARTURE_TIME                       2354                    24   \n",
       "DEPARTURE_DELAY                       -11                    -1   \n",
       "TAXI_OUT                               21                    11   \n",
       "WHEELS_OFF                             15                    35   \n",
       "SCHEDULED_TIME                        205                   235   \n",
       "ELAPSED_TIME                          194                   215   \n",
       "AIR_TIME                              169                   199   \n",
       "DISTANCE                             1448                  1448   \n",
       "WHEELS_ON                             404                   254   \n",
       "TAXI_IN                                 4                     5   \n",
       "SCHEDULED_ARRIVAL                     430                   320   \n",
       "ARRIVAL_TIME                          408                   259   \n",
       "ARRIVAL_DELAY                         -22                   -21   \n",
       "DIVERTED                                0                     0   \n",
       "CANCELLED                               0                     0   \n",
       "CANCELLATION_REASON                   NaN                   NaN   \n",
       "AIR_SYSTEM_DELAY                      NaN                   NaN   \n",
       "SECURITY_DELAY                        NaN                   NaN   \n",
       "AIRLINE_DELAY                         NaN                   NaN   \n",
       "LATE_AIRCRAFT_DELAY                   NaN                   NaN   \n",
       "WEATHER_DELAY                         NaN                   NaN   \n",
       "IATA_CODE                              AS                    AS   \n",
       "AIRLINE_y            Alaska Airlines Inc.  Alaska Airlines Inc.   \n",
       "\n",
       "                                        2                     3  \\\n",
       "YEAR                                 2015                  2015   \n",
       "MONTH                                   1                     1   \n",
       "DAY                                     1                     1   \n",
       "DAY_OF_WEEK                             4                     4   \n",
       "AIRLINE_x                              AS                    AS   \n",
       "FLIGHT_NUMBER                         108                   122   \n",
       "TAIL_NUMBER                        N309AS                N413AS   \n",
       "ORIGIN_AIRPORT                        ANC                   ANC   \n",
       "DESTINATION_AIRPORT                   SEA                   PDX   \n",
       "SCHEDULED_DEPARTURE                    45                    50   \n",
       "DEPARTURE_TIME                         41                    46   \n",
       "DEPARTURE_DELAY                        -4                    -4   \n",
       "TAXI_OUT                               17                    11   \n",
       "WHEELS_OFF                             58                    57   \n",
       "SCHEDULED_TIME                        204                   215   \n",
       "ELAPSED_TIME                          194                   201   \n",
       "AIR_TIME                              173                   187   \n",
       "DISTANCE                             1448                  1542   \n",
       "WHEELS_ON                             451                   504   \n",
       "TAXI_IN                                 4                     3   \n",
       "SCHEDULED_ARRIVAL                     509                   525   \n",
       "ARRIVAL_TIME                          455                   507   \n",
       "ARRIVAL_DELAY                         -14                   -18   \n",
       "DIVERTED                                0                     0   \n",
       "CANCELLED                               0                     0   \n",
       "CANCELLATION_REASON                   NaN                   NaN   \n",
       "AIR_SYSTEM_DELAY                      NaN                   NaN   \n",
       "SECURITY_DELAY                        NaN                   NaN   \n",
       "AIRLINE_DELAY                         NaN                   NaN   \n",
       "LATE_AIRCRAFT_DELAY                   NaN                   NaN   \n",
       "WEATHER_DELAY                         NaN                   NaN   \n",
       "IATA_CODE                              AS                    AS   \n",
       "AIRLINE_y            Alaska Airlines Inc.  Alaska Airlines Inc.   \n",
       "\n",
       "                                        4  \n",
       "YEAR                                 2015  \n",
       "MONTH                                   1  \n",
       "DAY                                     1  \n",
       "DAY_OF_WEEK                             4  \n",
       "AIRLINE_x                              AS  \n",
       "FLIGHT_NUMBER                         130  \n",
       "TAIL_NUMBER                        N457AS  \n",
       "ORIGIN_AIRPORT                        FAI  \n",
       "DESTINATION_AIRPORT                   SEA  \n",
       "SCHEDULED_DEPARTURE                   115  \n",
       "DEPARTURE_TIME                        107  \n",
       "DEPARTURE_DELAY                        -8  \n",
       "TAXI_OUT                               25  \n",
       "WHEELS_OFF                            132  \n",
       "SCHEDULED_TIME                        213  \n",
       "ELAPSED_TIME                          218  \n",
       "AIR_TIME                              186  \n",
       "DISTANCE                             1533  \n",
       "WHEELS_ON                             538  \n",
       "TAXI_IN                                 7  \n",
       "SCHEDULED_ARRIVAL                     548  \n",
       "ARRIVAL_TIME                          545  \n",
       "ARRIVAL_DELAY                          -3  \n",
       "DIVERTED                                0  \n",
       "CANCELLED                               0  \n",
       "CANCELLATION_REASON                   NaN  \n",
       "AIR_SYSTEM_DELAY                      NaN  \n",
       "SECURITY_DELAY                        NaN  \n",
       "AIRLINE_DELAY                         NaN  \n",
       "LATE_AIRCRAFT_DELAY                   NaN  \n",
       "WEATHER_DELAY                         NaN  \n",
       "IATA_CODE                              AS  \n",
       "AIRLINE_y            Alaska Airlines Inc.  "
      ]
     },
     "execution_count": 5,
     "metadata": {},
     "output_type": "execute_result"
    }
   ],
   "source": [
    "df.head(5).T"
   ]
  },
  {
   "cell_type": "code",
   "execution_count": 6,
   "metadata": {
    "ExecuteTime": {
     "end_time": "2020-06-29T22:24:56.796638Z",
     "start_time": "2020-06-29T22:24:56.775004Z"
    }
   },
   "outputs": [],
   "source": [
    "df.columns = ['AIRLINE' if x=='AIRLINE_y' else x for x in df.columns]\n",
    "df = df.drop(['IATA_CODE'], axis=1)"
   ]
  },
  {
   "cell_type": "code",
   "execution_count": 7,
   "metadata": {
    "ExecuteTime": {
     "end_time": "2020-06-29T22:25:26.518934Z",
     "start_time": "2020-06-29T22:25:26.487131Z"
    }
   },
   "outputs": [],
   "source": [
    "df = dd.merge(df,airports[['IATA_CODE','AIRPORT','CITY']], left_on='ORIGIN_AIRPORT', right_on = 'IATA_CODE')"
   ]
  },
  {
   "cell_type": "code",
   "execution_count": 8,
   "metadata": {
    "ExecuteTime": {
     "end_time": "2020-06-29T22:25:44.805784Z",
     "start_time": "2020-06-29T22:25:41.157280Z"
    }
   },
   "outputs": [
    {
     "data": {
      "text/html": [
       "<div>\n",
       "<style scoped>\n",
       "    .dataframe tbody tr th:only-of-type {\n",
       "        vertical-align: middle;\n",
       "    }\n",
       "\n",
       "    .dataframe tbody tr th {\n",
       "        vertical-align: top;\n",
       "    }\n",
       "\n",
       "    .dataframe thead th {\n",
       "        text-align: right;\n",
       "    }\n",
       "</style>\n",
       "<table border=\"1\" class=\"dataframe\">\n",
       "  <thead>\n",
       "    <tr style=\"text-align: right;\">\n",
       "      <th></th>\n",
       "      <th>0</th>\n",
       "      <th>1</th>\n",
       "      <th>2</th>\n",
       "      <th>3</th>\n",
       "      <th>4</th>\n",
       "    </tr>\n",
       "  </thead>\n",
       "  <tbody>\n",
       "    <tr>\n",
       "      <th>YEAR</th>\n",
       "      <td>2015</td>\n",
       "      <td>2015</td>\n",
       "      <td>2015</td>\n",
       "      <td>2015</td>\n",
       "      <td>2015</td>\n",
       "    </tr>\n",
       "    <tr>\n",
       "      <th>MONTH</th>\n",
       "      <td>1</td>\n",
       "      <td>1</td>\n",
       "      <td>1</td>\n",
       "      <td>1</td>\n",
       "      <td>1</td>\n",
       "    </tr>\n",
       "    <tr>\n",
       "      <th>DAY</th>\n",
       "      <td>1</td>\n",
       "      <td>1</td>\n",
       "      <td>1</td>\n",
       "      <td>1</td>\n",
       "      <td>1</td>\n",
       "    </tr>\n",
       "    <tr>\n",
       "      <th>DAY_OF_WEEK</th>\n",
       "      <td>4</td>\n",
       "      <td>4</td>\n",
       "      <td>4</td>\n",
       "      <td>4</td>\n",
       "      <td>4</td>\n",
       "    </tr>\n",
       "    <tr>\n",
       "      <th>AIRLINE_x</th>\n",
       "      <td>AS</td>\n",
       "      <td>AS</td>\n",
       "      <td>AS</td>\n",
       "      <td>AS</td>\n",
       "      <td>AS</td>\n",
       "    </tr>\n",
       "    <tr>\n",
       "      <th>FLIGHT_NUMBER</th>\n",
       "      <td>98</td>\n",
       "      <td>108</td>\n",
       "      <td>122</td>\n",
       "      <td>136</td>\n",
       "      <td>134</td>\n",
       "    </tr>\n",
       "    <tr>\n",
       "      <th>TAIL_NUMBER</th>\n",
       "      <td>N407AS</td>\n",
       "      <td>N309AS</td>\n",
       "      <td>N413AS</td>\n",
       "      <td>N431AS</td>\n",
       "      <td>N464AS</td>\n",
       "    </tr>\n",
       "    <tr>\n",
       "      <th>ORIGIN_AIRPORT</th>\n",
       "      <td>ANC</td>\n",
       "      <td>ANC</td>\n",
       "      <td>ANC</td>\n",
       "      <td>ANC</td>\n",
       "      <td>ANC</td>\n",
       "    </tr>\n",
       "    <tr>\n",
       "      <th>DESTINATION_AIRPORT</th>\n",
       "      <td>SEA</td>\n",
       "      <td>SEA</td>\n",
       "      <td>PDX</td>\n",
       "      <td>SEA</td>\n",
       "      <td>SEA</td>\n",
       "    </tr>\n",
       "    <tr>\n",
       "      <th>SCHEDULED_DEPARTURE</th>\n",
       "      <td>5</td>\n",
       "      <td>45</td>\n",
       "      <td>50</td>\n",
       "      <td>135</td>\n",
       "      <td>155</td>\n",
       "    </tr>\n",
       "    <tr>\n",
       "      <th>DEPARTURE_TIME</th>\n",
       "      <td>2354</td>\n",
       "      <td>41</td>\n",
       "      <td>46</td>\n",
       "      <td>NaN</td>\n",
       "      <td>140</td>\n",
       "    </tr>\n",
       "    <tr>\n",
       "      <th>DEPARTURE_DELAY</th>\n",
       "      <td>-11</td>\n",
       "      <td>-4</td>\n",
       "      <td>-4</td>\n",
       "      <td>NaN</td>\n",
       "      <td>-15</td>\n",
       "    </tr>\n",
       "    <tr>\n",
       "      <th>TAXI_OUT</th>\n",
       "      <td>21</td>\n",
       "      <td>17</td>\n",
       "      <td>11</td>\n",
       "      <td>NaN</td>\n",
       "      <td>17</td>\n",
       "    </tr>\n",
       "    <tr>\n",
       "      <th>WHEELS_OFF</th>\n",
       "      <td>15</td>\n",
       "      <td>58</td>\n",
       "      <td>57</td>\n",
       "      <td>NaN</td>\n",
       "      <td>157</td>\n",
       "    </tr>\n",
       "    <tr>\n",
       "      <th>SCHEDULED_TIME</th>\n",
       "      <td>205</td>\n",
       "      <td>204</td>\n",
       "      <td>215</td>\n",
       "      <td>205</td>\n",
       "      <td>218</td>\n",
       "    </tr>\n",
       "    <tr>\n",
       "      <th>ELAPSED_TIME</th>\n",
       "      <td>194</td>\n",
       "      <td>194</td>\n",
       "      <td>201</td>\n",
       "      <td>NaN</td>\n",
       "      <td>198</td>\n",
       "    </tr>\n",
       "    <tr>\n",
       "      <th>AIR_TIME</th>\n",
       "      <td>169</td>\n",
       "      <td>173</td>\n",
       "      <td>187</td>\n",
       "      <td>NaN</td>\n",
       "      <td>170</td>\n",
       "    </tr>\n",
       "    <tr>\n",
       "      <th>DISTANCE</th>\n",
       "      <td>1448</td>\n",
       "      <td>1448</td>\n",
       "      <td>1542</td>\n",
       "      <td>1448</td>\n",
       "      <td>1448</td>\n",
       "    </tr>\n",
       "    <tr>\n",
       "      <th>WHEELS_ON</th>\n",
       "      <td>404</td>\n",
       "      <td>451</td>\n",
       "      <td>504</td>\n",
       "      <td>NaN</td>\n",
       "      <td>547</td>\n",
       "    </tr>\n",
       "    <tr>\n",
       "      <th>TAXI_IN</th>\n",
       "      <td>4</td>\n",
       "      <td>4</td>\n",
       "      <td>3</td>\n",
       "      <td>NaN</td>\n",
       "      <td>11</td>\n",
       "    </tr>\n",
       "    <tr>\n",
       "      <th>SCHEDULED_ARRIVAL</th>\n",
       "      <td>430</td>\n",
       "      <td>509</td>\n",
       "      <td>525</td>\n",
       "      <td>600</td>\n",
       "      <td>633</td>\n",
       "    </tr>\n",
       "    <tr>\n",
       "      <th>ARRIVAL_TIME</th>\n",
       "      <td>408</td>\n",
       "      <td>455</td>\n",
       "      <td>507</td>\n",
       "      <td>NaN</td>\n",
       "      <td>558</td>\n",
       "    </tr>\n",
       "    <tr>\n",
       "      <th>ARRIVAL_DELAY</th>\n",
       "      <td>-22</td>\n",
       "      <td>-14</td>\n",
       "      <td>-18</td>\n",
       "      <td>NaN</td>\n",
       "      <td>-35</td>\n",
       "    </tr>\n",
       "    <tr>\n",
       "      <th>DIVERTED</th>\n",
       "      <td>0</td>\n",
       "      <td>0</td>\n",
       "      <td>0</td>\n",
       "      <td>0</td>\n",
       "      <td>0</td>\n",
       "    </tr>\n",
       "    <tr>\n",
       "      <th>CANCELLED</th>\n",
       "      <td>0</td>\n",
       "      <td>0</td>\n",
       "      <td>0</td>\n",
       "      <td>1</td>\n",
       "      <td>0</td>\n",
       "    </tr>\n",
       "    <tr>\n",
       "      <th>CANCELLATION_REASON</th>\n",
       "      <td>NaN</td>\n",
       "      <td>NaN</td>\n",
       "      <td>NaN</td>\n",
       "      <td>A</td>\n",
       "      <td>NaN</td>\n",
       "    </tr>\n",
       "    <tr>\n",
       "      <th>AIR_SYSTEM_DELAY</th>\n",
       "      <td>NaN</td>\n",
       "      <td>NaN</td>\n",
       "      <td>NaN</td>\n",
       "      <td>NaN</td>\n",
       "      <td>NaN</td>\n",
       "    </tr>\n",
       "    <tr>\n",
       "      <th>SECURITY_DELAY</th>\n",
       "      <td>NaN</td>\n",
       "      <td>NaN</td>\n",
       "      <td>NaN</td>\n",
       "      <td>NaN</td>\n",
       "      <td>NaN</td>\n",
       "    </tr>\n",
       "    <tr>\n",
       "      <th>AIRLINE_DELAY</th>\n",
       "      <td>NaN</td>\n",
       "      <td>NaN</td>\n",
       "      <td>NaN</td>\n",
       "      <td>NaN</td>\n",
       "      <td>NaN</td>\n",
       "    </tr>\n",
       "    <tr>\n",
       "      <th>LATE_AIRCRAFT_DELAY</th>\n",
       "      <td>NaN</td>\n",
       "      <td>NaN</td>\n",
       "      <td>NaN</td>\n",
       "      <td>NaN</td>\n",
       "      <td>NaN</td>\n",
       "    </tr>\n",
       "    <tr>\n",
       "      <th>WEATHER_DELAY</th>\n",
       "      <td>NaN</td>\n",
       "      <td>NaN</td>\n",
       "      <td>NaN</td>\n",
       "      <td>NaN</td>\n",
       "      <td>NaN</td>\n",
       "    </tr>\n",
       "    <tr>\n",
       "      <th>AIRLINE</th>\n",
       "      <td>Alaska Airlines Inc.</td>\n",
       "      <td>Alaska Airlines Inc.</td>\n",
       "      <td>Alaska Airlines Inc.</td>\n",
       "      <td>Alaska Airlines Inc.</td>\n",
       "      <td>Alaska Airlines Inc.</td>\n",
       "    </tr>\n",
       "    <tr>\n",
       "      <th>IATA_CODE</th>\n",
       "      <td>ANC</td>\n",
       "      <td>ANC</td>\n",
       "      <td>ANC</td>\n",
       "      <td>ANC</td>\n",
       "      <td>ANC</td>\n",
       "    </tr>\n",
       "    <tr>\n",
       "      <th>AIRPORT</th>\n",
       "      <td>Ted Stevens Anchorage International Airport</td>\n",
       "      <td>Ted Stevens Anchorage International Airport</td>\n",
       "      <td>Ted Stevens Anchorage International Airport</td>\n",
       "      <td>Ted Stevens Anchorage International Airport</td>\n",
       "      <td>Ted Stevens Anchorage International Airport</td>\n",
       "    </tr>\n",
       "    <tr>\n",
       "      <th>CITY</th>\n",
       "      <td>Anchorage</td>\n",
       "      <td>Anchorage</td>\n",
       "      <td>Anchorage</td>\n",
       "      <td>Anchorage</td>\n",
       "      <td>Anchorage</td>\n",
       "    </tr>\n",
       "  </tbody>\n",
       "</table>\n",
       "</div>"
      ],
      "text/plain": [
       "                                                               0  \\\n",
       "YEAR                                                        2015   \n",
       "MONTH                                                          1   \n",
       "DAY                                                            1   \n",
       "DAY_OF_WEEK                                                    4   \n",
       "AIRLINE_x                                                     AS   \n",
       "FLIGHT_NUMBER                                                 98   \n",
       "TAIL_NUMBER                                               N407AS   \n",
       "ORIGIN_AIRPORT                                               ANC   \n",
       "DESTINATION_AIRPORT                                          SEA   \n",
       "SCHEDULED_DEPARTURE                                            5   \n",
       "DEPARTURE_TIME                                              2354   \n",
       "DEPARTURE_DELAY                                              -11   \n",
       "TAXI_OUT                                                      21   \n",
       "WHEELS_OFF                                                    15   \n",
       "SCHEDULED_TIME                                               205   \n",
       "ELAPSED_TIME                                                 194   \n",
       "AIR_TIME                                                     169   \n",
       "DISTANCE                                                    1448   \n",
       "WHEELS_ON                                                    404   \n",
       "TAXI_IN                                                        4   \n",
       "SCHEDULED_ARRIVAL                                            430   \n",
       "ARRIVAL_TIME                                                 408   \n",
       "ARRIVAL_DELAY                                                -22   \n",
       "DIVERTED                                                       0   \n",
       "CANCELLED                                                      0   \n",
       "CANCELLATION_REASON                                          NaN   \n",
       "AIR_SYSTEM_DELAY                                             NaN   \n",
       "SECURITY_DELAY                                               NaN   \n",
       "AIRLINE_DELAY                                                NaN   \n",
       "LATE_AIRCRAFT_DELAY                                          NaN   \n",
       "WEATHER_DELAY                                                NaN   \n",
       "AIRLINE                                     Alaska Airlines Inc.   \n",
       "IATA_CODE                                                    ANC   \n",
       "AIRPORT              Ted Stevens Anchorage International Airport   \n",
       "CITY                                                   Anchorage   \n",
       "\n",
       "                                                               1  \\\n",
       "YEAR                                                        2015   \n",
       "MONTH                                                          1   \n",
       "DAY                                                            1   \n",
       "DAY_OF_WEEK                                                    4   \n",
       "AIRLINE_x                                                     AS   \n",
       "FLIGHT_NUMBER                                                108   \n",
       "TAIL_NUMBER                                               N309AS   \n",
       "ORIGIN_AIRPORT                                               ANC   \n",
       "DESTINATION_AIRPORT                                          SEA   \n",
       "SCHEDULED_DEPARTURE                                           45   \n",
       "DEPARTURE_TIME                                                41   \n",
       "DEPARTURE_DELAY                                               -4   \n",
       "TAXI_OUT                                                      17   \n",
       "WHEELS_OFF                                                    58   \n",
       "SCHEDULED_TIME                                               204   \n",
       "ELAPSED_TIME                                                 194   \n",
       "AIR_TIME                                                     173   \n",
       "DISTANCE                                                    1448   \n",
       "WHEELS_ON                                                    451   \n",
       "TAXI_IN                                                        4   \n",
       "SCHEDULED_ARRIVAL                                            509   \n",
       "ARRIVAL_TIME                                                 455   \n",
       "ARRIVAL_DELAY                                                -14   \n",
       "DIVERTED                                                       0   \n",
       "CANCELLED                                                      0   \n",
       "CANCELLATION_REASON                                          NaN   \n",
       "AIR_SYSTEM_DELAY                                             NaN   \n",
       "SECURITY_DELAY                                               NaN   \n",
       "AIRLINE_DELAY                                                NaN   \n",
       "LATE_AIRCRAFT_DELAY                                          NaN   \n",
       "WEATHER_DELAY                                                NaN   \n",
       "AIRLINE                                     Alaska Airlines Inc.   \n",
       "IATA_CODE                                                    ANC   \n",
       "AIRPORT              Ted Stevens Anchorage International Airport   \n",
       "CITY                                                   Anchorage   \n",
       "\n",
       "                                                               2  \\\n",
       "YEAR                                                        2015   \n",
       "MONTH                                                          1   \n",
       "DAY                                                            1   \n",
       "DAY_OF_WEEK                                                    4   \n",
       "AIRLINE_x                                                     AS   \n",
       "FLIGHT_NUMBER                                                122   \n",
       "TAIL_NUMBER                                               N413AS   \n",
       "ORIGIN_AIRPORT                                               ANC   \n",
       "DESTINATION_AIRPORT                                          PDX   \n",
       "SCHEDULED_DEPARTURE                                           50   \n",
       "DEPARTURE_TIME                                                46   \n",
       "DEPARTURE_DELAY                                               -4   \n",
       "TAXI_OUT                                                      11   \n",
       "WHEELS_OFF                                                    57   \n",
       "SCHEDULED_TIME                                               215   \n",
       "ELAPSED_TIME                                                 201   \n",
       "AIR_TIME                                                     187   \n",
       "DISTANCE                                                    1542   \n",
       "WHEELS_ON                                                    504   \n",
       "TAXI_IN                                                        3   \n",
       "SCHEDULED_ARRIVAL                                            525   \n",
       "ARRIVAL_TIME                                                 507   \n",
       "ARRIVAL_DELAY                                                -18   \n",
       "DIVERTED                                                       0   \n",
       "CANCELLED                                                      0   \n",
       "CANCELLATION_REASON                                          NaN   \n",
       "AIR_SYSTEM_DELAY                                             NaN   \n",
       "SECURITY_DELAY                                               NaN   \n",
       "AIRLINE_DELAY                                                NaN   \n",
       "LATE_AIRCRAFT_DELAY                                          NaN   \n",
       "WEATHER_DELAY                                                NaN   \n",
       "AIRLINE                                     Alaska Airlines Inc.   \n",
       "IATA_CODE                                                    ANC   \n",
       "AIRPORT              Ted Stevens Anchorage International Airport   \n",
       "CITY                                                   Anchorage   \n",
       "\n",
       "                                                               3  \\\n",
       "YEAR                                                        2015   \n",
       "MONTH                                                          1   \n",
       "DAY                                                            1   \n",
       "DAY_OF_WEEK                                                    4   \n",
       "AIRLINE_x                                                     AS   \n",
       "FLIGHT_NUMBER                                                136   \n",
       "TAIL_NUMBER                                               N431AS   \n",
       "ORIGIN_AIRPORT                                               ANC   \n",
       "DESTINATION_AIRPORT                                          SEA   \n",
       "SCHEDULED_DEPARTURE                                          135   \n",
       "DEPARTURE_TIME                                               NaN   \n",
       "DEPARTURE_DELAY                                              NaN   \n",
       "TAXI_OUT                                                     NaN   \n",
       "WHEELS_OFF                                                   NaN   \n",
       "SCHEDULED_TIME                                               205   \n",
       "ELAPSED_TIME                                                 NaN   \n",
       "AIR_TIME                                                     NaN   \n",
       "DISTANCE                                                    1448   \n",
       "WHEELS_ON                                                    NaN   \n",
       "TAXI_IN                                                      NaN   \n",
       "SCHEDULED_ARRIVAL                                            600   \n",
       "ARRIVAL_TIME                                                 NaN   \n",
       "ARRIVAL_DELAY                                                NaN   \n",
       "DIVERTED                                                       0   \n",
       "CANCELLED                                                      1   \n",
       "CANCELLATION_REASON                                            A   \n",
       "AIR_SYSTEM_DELAY                                             NaN   \n",
       "SECURITY_DELAY                                               NaN   \n",
       "AIRLINE_DELAY                                                NaN   \n",
       "LATE_AIRCRAFT_DELAY                                          NaN   \n",
       "WEATHER_DELAY                                                NaN   \n",
       "AIRLINE                                     Alaska Airlines Inc.   \n",
       "IATA_CODE                                                    ANC   \n",
       "AIRPORT              Ted Stevens Anchorage International Airport   \n",
       "CITY                                                   Anchorage   \n",
       "\n",
       "                                                               4  \n",
       "YEAR                                                        2015  \n",
       "MONTH                                                          1  \n",
       "DAY                                                            1  \n",
       "DAY_OF_WEEK                                                    4  \n",
       "AIRLINE_x                                                     AS  \n",
       "FLIGHT_NUMBER                                                134  \n",
       "TAIL_NUMBER                                               N464AS  \n",
       "ORIGIN_AIRPORT                                               ANC  \n",
       "DESTINATION_AIRPORT                                          SEA  \n",
       "SCHEDULED_DEPARTURE                                          155  \n",
       "DEPARTURE_TIME                                               140  \n",
       "DEPARTURE_DELAY                                              -15  \n",
       "TAXI_OUT                                                      17  \n",
       "WHEELS_OFF                                                   157  \n",
       "SCHEDULED_TIME                                               218  \n",
       "ELAPSED_TIME                                                 198  \n",
       "AIR_TIME                                                     170  \n",
       "DISTANCE                                                    1448  \n",
       "WHEELS_ON                                                    547  \n",
       "TAXI_IN                                                       11  \n",
       "SCHEDULED_ARRIVAL                                            633  \n",
       "ARRIVAL_TIME                                                 558  \n",
       "ARRIVAL_DELAY                                                -35  \n",
       "DIVERTED                                                       0  \n",
       "CANCELLED                                                      0  \n",
       "CANCELLATION_REASON                                          NaN  \n",
       "AIR_SYSTEM_DELAY                                             NaN  \n",
       "SECURITY_DELAY                                               NaN  \n",
       "AIRLINE_DELAY                                                NaN  \n",
       "LATE_AIRCRAFT_DELAY                                          NaN  \n",
       "WEATHER_DELAY                                                NaN  \n",
       "AIRLINE                                     Alaska Airlines Inc.  \n",
       "IATA_CODE                                                    ANC  \n",
       "AIRPORT              Ted Stevens Anchorage International Airport  \n",
       "CITY                                                   Anchorage  "
      ]
     },
     "execution_count": 8,
     "metadata": {},
     "output_type": "execute_result"
    }
   ],
   "source": [
    "df.head(5).T"
   ]
  },
  {
   "cell_type": "code",
   "execution_count": 9,
   "metadata": {
    "ExecuteTime": {
     "end_time": "2020-06-29T22:26:41.341885Z",
     "start_time": "2020-06-29T22:26:41.318956Z"
    }
   },
   "outputs": [],
   "source": [
    "df = df.drop(['IATA_CODE'], axis=1)\n",
    "# now we conver AIRLINE_x column name to IATA_CODE_PLANE\n",
    "df.columns = ['IATA_CODE_PLANE' if x=='AIRLINE_x' else x for x in df.columns]"
   ]
  },
  {
   "cell_type": "code",
   "execution_count": 10,
   "metadata": {
    "ExecuteTime": {
     "end_time": "2020-06-29T22:26:58.223569Z",
     "start_time": "2020-06-29T22:26:54.208127Z"
    }
   },
   "outputs": [
    {
     "data": {
      "text/html": [
       "<div>\n",
       "<style scoped>\n",
       "    .dataframe tbody tr th:only-of-type {\n",
       "        vertical-align: middle;\n",
       "    }\n",
       "\n",
       "    .dataframe tbody tr th {\n",
       "        vertical-align: top;\n",
       "    }\n",
       "\n",
       "    .dataframe thead th {\n",
       "        text-align: right;\n",
       "    }\n",
       "</style>\n",
       "<table border=\"1\" class=\"dataframe\">\n",
       "  <thead>\n",
       "    <tr style=\"text-align: right;\">\n",
       "      <th></th>\n",
       "      <th>0</th>\n",
       "      <th>1</th>\n",
       "      <th>2</th>\n",
       "      <th>3</th>\n",
       "      <th>4</th>\n",
       "    </tr>\n",
       "  </thead>\n",
       "  <tbody>\n",
       "    <tr>\n",
       "      <th>YEAR</th>\n",
       "      <td>2015</td>\n",
       "      <td>2015</td>\n",
       "      <td>2015</td>\n",
       "      <td>2015</td>\n",
       "      <td>2015</td>\n",
       "    </tr>\n",
       "    <tr>\n",
       "      <th>MONTH</th>\n",
       "      <td>1</td>\n",
       "      <td>1</td>\n",
       "      <td>1</td>\n",
       "      <td>1</td>\n",
       "      <td>1</td>\n",
       "    </tr>\n",
       "    <tr>\n",
       "      <th>DAY</th>\n",
       "      <td>1</td>\n",
       "      <td>1</td>\n",
       "      <td>1</td>\n",
       "      <td>1</td>\n",
       "      <td>1</td>\n",
       "    </tr>\n",
       "    <tr>\n",
       "      <th>DAY_OF_WEEK</th>\n",
       "      <td>4</td>\n",
       "      <td>4</td>\n",
       "      <td>4</td>\n",
       "      <td>4</td>\n",
       "      <td>4</td>\n",
       "    </tr>\n",
       "    <tr>\n",
       "      <th>IATA_CODE_PLANE</th>\n",
       "      <td>AS</td>\n",
       "      <td>AS</td>\n",
       "      <td>AS</td>\n",
       "      <td>AS</td>\n",
       "      <td>AS</td>\n",
       "    </tr>\n",
       "    <tr>\n",
       "      <th>FLIGHT_NUMBER</th>\n",
       "      <td>98</td>\n",
       "      <td>108</td>\n",
       "      <td>122</td>\n",
       "      <td>136</td>\n",
       "      <td>134</td>\n",
       "    </tr>\n",
       "    <tr>\n",
       "      <th>TAIL_NUMBER</th>\n",
       "      <td>N407AS</td>\n",
       "      <td>N309AS</td>\n",
       "      <td>N413AS</td>\n",
       "      <td>N431AS</td>\n",
       "      <td>N464AS</td>\n",
       "    </tr>\n",
       "    <tr>\n",
       "      <th>ORIGIN_AIRPORT</th>\n",
       "      <td>ANC</td>\n",
       "      <td>ANC</td>\n",
       "      <td>ANC</td>\n",
       "      <td>ANC</td>\n",
       "      <td>ANC</td>\n",
       "    </tr>\n",
       "    <tr>\n",
       "      <th>DESTINATION_AIRPORT</th>\n",
       "      <td>SEA</td>\n",
       "      <td>SEA</td>\n",
       "      <td>PDX</td>\n",
       "      <td>SEA</td>\n",
       "      <td>SEA</td>\n",
       "    </tr>\n",
       "    <tr>\n",
       "      <th>SCHEDULED_DEPARTURE</th>\n",
       "      <td>5</td>\n",
       "      <td>45</td>\n",
       "      <td>50</td>\n",
       "      <td>135</td>\n",
       "      <td>155</td>\n",
       "    </tr>\n",
       "    <tr>\n",
       "      <th>DEPARTURE_TIME</th>\n",
       "      <td>2354</td>\n",
       "      <td>41</td>\n",
       "      <td>46</td>\n",
       "      <td>NaN</td>\n",
       "      <td>140</td>\n",
       "    </tr>\n",
       "    <tr>\n",
       "      <th>DEPARTURE_DELAY</th>\n",
       "      <td>-11</td>\n",
       "      <td>-4</td>\n",
       "      <td>-4</td>\n",
       "      <td>NaN</td>\n",
       "      <td>-15</td>\n",
       "    </tr>\n",
       "    <tr>\n",
       "      <th>TAXI_OUT</th>\n",
       "      <td>21</td>\n",
       "      <td>17</td>\n",
       "      <td>11</td>\n",
       "      <td>NaN</td>\n",
       "      <td>17</td>\n",
       "    </tr>\n",
       "    <tr>\n",
       "      <th>WHEELS_OFF</th>\n",
       "      <td>15</td>\n",
       "      <td>58</td>\n",
       "      <td>57</td>\n",
       "      <td>NaN</td>\n",
       "      <td>157</td>\n",
       "    </tr>\n",
       "    <tr>\n",
       "      <th>SCHEDULED_TIME</th>\n",
       "      <td>205</td>\n",
       "      <td>204</td>\n",
       "      <td>215</td>\n",
       "      <td>205</td>\n",
       "      <td>218</td>\n",
       "    </tr>\n",
       "    <tr>\n",
       "      <th>ELAPSED_TIME</th>\n",
       "      <td>194</td>\n",
       "      <td>194</td>\n",
       "      <td>201</td>\n",
       "      <td>NaN</td>\n",
       "      <td>198</td>\n",
       "    </tr>\n",
       "    <tr>\n",
       "      <th>AIR_TIME</th>\n",
       "      <td>169</td>\n",
       "      <td>173</td>\n",
       "      <td>187</td>\n",
       "      <td>NaN</td>\n",
       "      <td>170</td>\n",
       "    </tr>\n",
       "    <tr>\n",
       "      <th>DISTANCE</th>\n",
       "      <td>1448</td>\n",
       "      <td>1448</td>\n",
       "      <td>1542</td>\n",
       "      <td>1448</td>\n",
       "      <td>1448</td>\n",
       "    </tr>\n",
       "    <tr>\n",
       "      <th>WHEELS_ON</th>\n",
       "      <td>404</td>\n",
       "      <td>451</td>\n",
       "      <td>504</td>\n",
       "      <td>NaN</td>\n",
       "      <td>547</td>\n",
       "    </tr>\n",
       "    <tr>\n",
       "      <th>TAXI_IN</th>\n",
       "      <td>4</td>\n",
       "      <td>4</td>\n",
       "      <td>3</td>\n",
       "      <td>NaN</td>\n",
       "      <td>11</td>\n",
       "    </tr>\n",
       "    <tr>\n",
       "      <th>SCHEDULED_ARRIVAL</th>\n",
       "      <td>430</td>\n",
       "      <td>509</td>\n",
       "      <td>525</td>\n",
       "      <td>600</td>\n",
       "      <td>633</td>\n",
       "    </tr>\n",
       "    <tr>\n",
       "      <th>ARRIVAL_TIME</th>\n",
       "      <td>408</td>\n",
       "      <td>455</td>\n",
       "      <td>507</td>\n",
       "      <td>NaN</td>\n",
       "      <td>558</td>\n",
       "    </tr>\n",
       "    <tr>\n",
       "      <th>ARRIVAL_DELAY</th>\n",
       "      <td>-22</td>\n",
       "      <td>-14</td>\n",
       "      <td>-18</td>\n",
       "      <td>NaN</td>\n",
       "      <td>-35</td>\n",
       "    </tr>\n",
       "    <tr>\n",
       "      <th>DIVERTED</th>\n",
       "      <td>0</td>\n",
       "      <td>0</td>\n",
       "      <td>0</td>\n",
       "      <td>0</td>\n",
       "      <td>0</td>\n",
       "    </tr>\n",
       "    <tr>\n",
       "      <th>CANCELLED</th>\n",
       "      <td>0</td>\n",
       "      <td>0</td>\n",
       "      <td>0</td>\n",
       "      <td>1</td>\n",
       "      <td>0</td>\n",
       "    </tr>\n",
       "    <tr>\n",
       "      <th>CANCELLATION_REASON</th>\n",
       "      <td>NaN</td>\n",
       "      <td>NaN</td>\n",
       "      <td>NaN</td>\n",
       "      <td>A</td>\n",
       "      <td>NaN</td>\n",
       "    </tr>\n",
       "    <tr>\n",
       "      <th>AIR_SYSTEM_DELAY</th>\n",
       "      <td>NaN</td>\n",
       "      <td>NaN</td>\n",
       "      <td>NaN</td>\n",
       "      <td>NaN</td>\n",
       "      <td>NaN</td>\n",
       "    </tr>\n",
       "    <tr>\n",
       "      <th>SECURITY_DELAY</th>\n",
       "      <td>NaN</td>\n",
       "      <td>NaN</td>\n",
       "      <td>NaN</td>\n",
       "      <td>NaN</td>\n",
       "      <td>NaN</td>\n",
       "    </tr>\n",
       "    <tr>\n",
       "      <th>AIRLINE_DELAY</th>\n",
       "      <td>NaN</td>\n",
       "      <td>NaN</td>\n",
       "      <td>NaN</td>\n",
       "      <td>NaN</td>\n",
       "      <td>NaN</td>\n",
       "    </tr>\n",
       "    <tr>\n",
       "      <th>LATE_AIRCRAFT_DELAY</th>\n",
       "      <td>NaN</td>\n",
       "      <td>NaN</td>\n",
       "      <td>NaN</td>\n",
       "      <td>NaN</td>\n",
       "      <td>NaN</td>\n",
       "    </tr>\n",
       "    <tr>\n",
       "      <th>WEATHER_DELAY</th>\n",
       "      <td>NaN</td>\n",
       "      <td>NaN</td>\n",
       "      <td>NaN</td>\n",
       "      <td>NaN</td>\n",
       "      <td>NaN</td>\n",
       "    </tr>\n",
       "    <tr>\n",
       "      <th>AIRLINE</th>\n",
       "      <td>Alaska Airlines Inc.</td>\n",
       "      <td>Alaska Airlines Inc.</td>\n",
       "      <td>Alaska Airlines Inc.</td>\n",
       "      <td>Alaska Airlines Inc.</td>\n",
       "      <td>Alaska Airlines Inc.</td>\n",
       "    </tr>\n",
       "    <tr>\n",
       "      <th>AIRPORT</th>\n",
       "      <td>Ted Stevens Anchorage International Airport</td>\n",
       "      <td>Ted Stevens Anchorage International Airport</td>\n",
       "      <td>Ted Stevens Anchorage International Airport</td>\n",
       "      <td>Ted Stevens Anchorage International Airport</td>\n",
       "      <td>Ted Stevens Anchorage International Airport</td>\n",
       "    </tr>\n",
       "    <tr>\n",
       "      <th>CITY</th>\n",
       "      <td>Anchorage</td>\n",
       "      <td>Anchorage</td>\n",
       "      <td>Anchorage</td>\n",
       "      <td>Anchorage</td>\n",
       "      <td>Anchorage</td>\n",
       "    </tr>\n",
       "  </tbody>\n",
       "</table>\n",
       "</div>"
      ],
      "text/plain": [
       "                                                               0  \\\n",
       "YEAR                                                        2015   \n",
       "MONTH                                                          1   \n",
       "DAY                                                            1   \n",
       "DAY_OF_WEEK                                                    4   \n",
       "IATA_CODE_PLANE                                               AS   \n",
       "FLIGHT_NUMBER                                                 98   \n",
       "TAIL_NUMBER                                               N407AS   \n",
       "ORIGIN_AIRPORT                                               ANC   \n",
       "DESTINATION_AIRPORT                                          SEA   \n",
       "SCHEDULED_DEPARTURE                                            5   \n",
       "DEPARTURE_TIME                                              2354   \n",
       "DEPARTURE_DELAY                                              -11   \n",
       "TAXI_OUT                                                      21   \n",
       "WHEELS_OFF                                                    15   \n",
       "SCHEDULED_TIME                                               205   \n",
       "ELAPSED_TIME                                                 194   \n",
       "AIR_TIME                                                     169   \n",
       "DISTANCE                                                    1448   \n",
       "WHEELS_ON                                                    404   \n",
       "TAXI_IN                                                        4   \n",
       "SCHEDULED_ARRIVAL                                            430   \n",
       "ARRIVAL_TIME                                                 408   \n",
       "ARRIVAL_DELAY                                                -22   \n",
       "DIVERTED                                                       0   \n",
       "CANCELLED                                                      0   \n",
       "CANCELLATION_REASON                                          NaN   \n",
       "AIR_SYSTEM_DELAY                                             NaN   \n",
       "SECURITY_DELAY                                               NaN   \n",
       "AIRLINE_DELAY                                                NaN   \n",
       "LATE_AIRCRAFT_DELAY                                          NaN   \n",
       "WEATHER_DELAY                                                NaN   \n",
       "AIRLINE                                     Alaska Airlines Inc.   \n",
       "AIRPORT              Ted Stevens Anchorage International Airport   \n",
       "CITY                                                   Anchorage   \n",
       "\n",
       "                                                               1  \\\n",
       "YEAR                                                        2015   \n",
       "MONTH                                                          1   \n",
       "DAY                                                            1   \n",
       "DAY_OF_WEEK                                                    4   \n",
       "IATA_CODE_PLANE                                               AS   \n",
       "FLIGHT_NUMBER                                                108   \n",
       "TAIL_NUMBER                                               N309AS   \n",
       "ORIGIN_AIRPORT                                               ANC   \n",
       "DESTINATION_AIRPORT                                          SEA   \n",
       "SCHEDULED_DEPARTURE                                           45   \n",
       "DEPARTURE_TIME                                                41   \n",
       "DEPARTURE_DELAY                                               -4   \n",
       "TAXI_OUT                                                      17   \n",
       "WHEELS_OFF                                                    58   \n",
       "SCHEDULED_TIME                                               204   \n",
       "ELAPSED_TIME                                                 194   \n",
       "AIR_TIME                                                     173   \n",
       "DISTANCE                                                    1448   \n",
       "WHEELS_ON                                                    451   \n",
       "TAXI_IN                                                        4   \n",
       "SCHEDULED_ARRIVAL                                            509   \n",
       "ARRIVAL_TIME                                                 455   \n",
       "ARRIVAL_DELAY                                                -14   \n",
       "DIVERTED                                                       0   \n",
       "CANCELLED                                                      0   \n",
       "CANCELLATION_REASON                                          NaN   \n",
       "AIR_SYSTEM_DELAY                                             NaN   \n",
       "SECURITY_DELAY                                               NaN   \n",
       "AIRLINE_DELAY                                                NaN   \n",
       "LATE_AIRCRAFT_DELAY                                          NaN   \n",
       "WEATHER_DELAY                                                NaN   \n",
       "AIRLINE                                     Alaska Airlines Inc.   \n",
       "AIRPORT              Ted Stevens Anchorage International Airport   \n",
       "CITY                                                   Anchorage   \n",
       "\n",
       "                                                               2  \\\n",
       "YEAR                                                        2015   \n",
       "MONTH                                                          1   \n",
       "DAY                                                            1   \n",
       "DAY_OF_WEEK                                                    4   \n",
       "IATA_CODE_PLANE                                               AS   \n",
       "FLIGHT_NUMBER                                                122   \n",
       "TAIL_NUMBER                                               N413AS   \n",
       "ORIGIN_AIRPORT                                               ANC   \n",
       "DESTINATION_AIRPORT                                          PDX   \n",
       "SCHEDULED_DEPARTURE                                           50   \n",
       "DEPARTURE_TIME                                                46   \n",
       "DEPARTURE_DELAY                                               -4   \n",
       "TAXI_OUT                                                      11   \n",
       "WHEELS_OFF                                                    57   \n",
       "SCHEDULED_TIME                                               215   \n",
       "ELAPSED_TIME                                                 201   \n",
       "AIR_TIME                                                     187   \n",
       "DISTANCE                                                    1542   \n",
       "WHEELS_ON                                                    504   \n",
       "TAXI_IN                                                        3   \n",
       "SCHEDULED_ARRIVAL                                            525   \n",
       "ARRIVAL_TIME                                                 507   \n",
       "ARRIVAL_DELAY                                                -18   \n",
       "DIVERTED                                                       0   \n",
       "CANCELLED                                                      0   \n",
       "CANCELLATION_REASON                                          NaN   \n",
       "AIR_SYSTEM_DELAY                                             NaN   \n",
       "SECURITY_DELAY                                               NaN   \n",
       "AIRLINE_DELAY                                                NaN   \n",
       "LATE_AIRCRAFT_DELAY                                          NaN   \n",
       "WEATHER_DELAY                                                NaN   \n",
       "AIRLINE                                     Alaska Airlines Inc.   \n",
       "AIRPORT              Ted Stevens Anchorage International Airport   \n",
       "CITY                                                   Anchorage   \n",
       "\n",
       "                                                               3  \\\n",
       "YEAR                                                        2015   \n",
       "MONTH                                                          1   \n",
       "DAY                                                            1   \n",
       "DAY_OF_WEEK                                                    4   \n",
       "IATA_CODE_PLANE                                               AS   \n",
       "FLIGHT_NUMBER                                                136   \n",
       "TAIL_NUMBER                                               N431AS   \n",
       "ORIGIN_AIRPORT                                               ANC   \n",
       "DESTINATION_AIRPORT                                          SEA   \n",
       "SCHEDULED_DEPARTURE                                          135   \n",
       "DEPARTURE_TIME                                               NaN   \n",
       "DEPARTURE_DELAY                                              NaN   \n",
       "TAXI_OUT                                                     NaN   \n",
       "WHEELS_OFF                                                   NaN   \n",
       "SCHEDULED_TIME                                               205   \n",
       "ELAPSED_TIME                                                 NaN   \n",
       "AIR_TIME                                                     NaN   \n",
       "DISTANCE                                                    1448   \n",
       "WHEELS_ON                                                    NaN   \n",
       "TAXI_IN                                                      NaN   \n",
       "SCHEDULED_ARRIVAL                                            600   \n",
       "ARRIVAL_TIME                                                 NaN   \n",
       "ARRIVAL_DELAY                                                NaN   \n",
       "DIVERTED                                                       0   \n",
       "CANCELLED                                                      1   \n",
       "CANCELLATION_REASON                                            A   \n",
       "AIR_SYSTEM_DELAY                                             NaN   \n",
       "SECURITY_DELAY                                               NaN   \n",
       "AIRLINE_DELAY                                                NaN   \n",
       "LATE_AIRCRAFT_DELAY                                          NaN   \n",
       "WEATHER_DELAY                                                NaN   \n",
       "AIRLINE                                     Alaska Airlines Inc.   \n",
       "AIRPORT              Ted Stevens Anchorage International Airport   \n",
       "CITY                                                   Anchorage   \n",
       "\n",
       "                                                               4  \n",
       "YEAR                                                        2015  \n",
       "MONTH                                                          1  \n",
       "DAY                                                            1  \n",
       "DAY_OF_WEEK                                                    4  \n",
       "IATA_CODE_PLANE                                               AS  \n",
       "FLIGHT_NUMBER                                                134  \n",
       "TAIL_NUMBER                                               N464AS  \n",
       "ORIGIN_AIRPORT                                               ANC  \n",
       "DESTINATION_AIRPORT                                          SEA  \n",
       "SCHEDULED_DEPARTURE                                          155  \n",
       "DEPARTURE_TIME                                               140  \n",
       "DEPARTURE_DELAY                                              -15  \n",
       "TAXI_OUT                                                      17  \n",
       "WHEELS_OFF                                                   157  \n",
       "SCHEDULED_TIME                                               218  \n",
       "ELAPSED_TIME                                                 198  \n",
       "AIR_TIME                                                     170  \n",
       "DISTANCE                                                    1448  \n",
       "WHEELS_ON                                                    547  \n",
       "TAXI_IN                                                       11  \n",
       "SCHEDULED_ARRIVAL                                            633  \n",
       "ARRIVAL_TIME                                                 558  \n",
       "ARRIVAL_DELAY                                                -35  \n",
       "DIVERTED                                                       0  \n",
       "CANCELLED                                                      0  \n",
       "CANCELLATION_REASON                                          NaN  \n",
       "AIR_SYSTEM_DELAY                                             NaN  \n",
       "SECURITY_DELAY                                               NaN  \n",
       "AIRLINE_DELAY                                                NaN  \n",
       "LATE_AIRCRAFT_DELAY                                          NaN  \n",
       "WEATHER_DELAY                                                NaN  \n",
       "AIRLINE                                     Alaska Airlines Inc.  \n",
       "AIRPORT              Ted Stevens Anchorage International Airport  \n",
       "CITY                                                   Anchorage  "
      ]
     },
     "execution_count": 10,
     "metadata": {},
     "output_type": "execute_result"
    }
   ],
   "source": [
    "df.head(5).T"
   ]
  },
  {
   "cell_type": "markdown",
   "metadata": {},
   "source": [
    "## LINE ON PLOT"
   ]
  },
  {
   "cell_type": "code",
   "execution_count": 23,
   "metadata": {
    "ExecuteTime": {
     "end_time": "2020-06-29T22:48:05.843422Z",
     "start_time": "2020-06-29T22:47:28.131576Z"
    }
   },
   "outputs": [
    {
     "data": {
      "text/plain": [
       "0     AS\n",
       "1     US\n",
       "2     DL\n",
       "3     UA\n",
       "4     AA\n",
       "5     HA\n",
       "6     B6\n",
       "7     OO\n",
       "8     F9\n",
       "9     WN\n",
       "10    VX\n",
       "11    NK\n",
       "12    MQ\n",
       "13    EV\n",
       "Name: IATA_CODE_PLANE, dtype: object"
      ]
     },
     "execution_count": 23,
     "metadata": {},
     "output_type": "execute_result"
    }
   ],
   "source": [
    "df['IATA_CODE_PLANE'].unique().compute()"
   ]
  },
  {
   "cell_type": "code",
   "execution_count": 12,
   "metadata": {
    "ExecuteTime": {
     "end_time": "2020-06-29T22:27:51.805064Z",
     "start_time": "2020-06-29T22:27:51.552862Z"
    }
   },
   "outputs": [
    {
     "data": {
      "text/html": [
       "<div>\n",
       "<style scoped>\n",
       "    .dataframe tbody tr th:only-of-type {\n",
       "        vertical-align: middle;\n",
       "    }\n",
       "\n",
       "    .dataframe tbody tr th {\n",
       "        vertical-align: top;\n",
       "    }\n",
       "\n",
       "    .dataframe thead th {\n",
       "        text-align: right;\n",
       "    }\n",
       "</style>\n",
       "<table border=\"1\" class=\"dataframe\">\n",
       "  <thead>\n",
       "    <tr style=\"text-align: right;\">\n",
       "      <th></th>\n",
       "      <th>IATA_CODE</th>\n",
       "      <th>AIRPORT</th>\n",
       "      <th>CITY</th>\n",
       "      <th>STATE</th>\n",
       "      <th>COUNTRY</th>\n",
       "      <th>LATITUDE</th>\n",
       "      <th>LONGITUDE</th>\n",
       "    </tr>\n",
       "  </thead>\n",
       "  <tbody>\n",
       "    <tr>\n",
       "      <th>0</th>\n",
       "      <td>ABE</td>\n",
       "      <td>Lehigh Valley International Airport</td>\n",
       "      <td>Allentown</td>\n",
       "      <td>PA</td>\n",
       "      <td>USA</td>\n",
       "      <td>40.65236</td>\n",
       "      <td>-75.44040</td>\n",
       "    </tr>\n",
       "    <tr>\n",
       "      <th>1</th>\n",
       "      <td>ABI</td>\n",
       "      <td>Abilene Regional Airport</td>\n",
       "      <td>Abilene</td>\n",
       "      <td>TX</td>\n",
       "      <td>USA</td>\n",
       "      <td>32.41132</td>\n",
       "      <td>-99.68190</td>\n",
       "    </tr>\n",
       "    <tr>\n",
       "      <th>2</th>\n",
       "      <td>ABQ</td>\n",
       "      <td>Albuquerque International Sunport</td>\n",
       "      <td>Albuquerque</td>\n",
       "      <td>NM</td>\n",
       "      <td>USA</td>\n",
       "      <td>35.04022</td>\n",
       "      <td>-106.60919</td>\n",
       "    </tr>\n",
       "    <tr>\n",
       "      <th>3</th>\n",
       "      <td>ABR</td>\n",
       "      <td>Aberdeen Regional Airport</td>\n",
       "      <td>Aberdeen</td>\n",
       "      <td>SD</td>\n",
       "      <td>USA</td>\n",
       "      <td>45.44906</td>\n",
       "      <td>-98.42183</td>\n",
       "    </tr>\n",
       "    <tr>\n",
       "      <th>4</th>\n",
       "      <td>ABY</td>\n",
       "      <td>Southwest Georgia Regional Airport</td>\n",
       "      <td>Albany</td>\n",
       "      <td>GA</td>\n",
       "      <td>USA</td>\n",
       "      <td>31.53552</td>\n",
       "      <td>-84.19447</td>\n",
       "    </tr>\n",
       "  </tbody>\n",
       "</table>\n",
       "</div>"
      ],
      "text/plain": [
       "  IATA_CODE                              AIRPORT         CITY STATE COUNTRY  \\\n",
       "0       ABE  Lehigh Valley International Airport    Allentown    PA     USA   \n",
       "1       ABI             Abilene Regional Airport      Abilene    TX     USA   \n",
       "2       ABQ    Albuquerque International Sunport  Albuquerque    NM     USA   \n",
       "3       ABR            Aberdeen Regional Airport     Aberdeen    SD     USA   \n",
       "4       ABY   Southwest Georgia Regional Airport       Albany    GA     USA   \n",
       "\n",
       "   LATITUDE  LONGITUDE  \n",
       "0  40.65236  -75.44040  \n",
       "1  32.41132  -99.68190  \n",
       "2  35.04022 -106.60919  \n",
       "3  45.44906  -98.42183  \n",
       "4  31.53552  -84.19447  "
      ]
     },
     "execution_count": 12,
     "metadata": {},
     "output_type": "execute_result"
    }
   ],
   "source": [
    "airport= dd.read_csv(\"airports.csv\")\n",
    "airport.head(5)"
   ]
  },
  {
   "cell_type": "code",
   "execution_count": 75,
   "metadata": {
    "ExecuteTime": {
     "end_time": "2020-06-29T23:28:19.606084Z",
     "start_time": "2020-06-29T23:27:44.481317Z"
    }
   },
   "outputs": [],
   "source": [
    "a = df[df.IATA_CODE_PLANE == 'WN'].loc[:, ['ORIGIN_AIRPORT', 'DESTINATION_AIRPORT', 'ARRIVAL_DELAY']]\n",
    "a['AtoB'] = a['ORIGIN_AIRPORT'] + a['DESTINATION_AIRPORT']\n",
    "b = a.loc[:,['AtoB','ARRIVAL_DELAY']].groupby('AtoB').mean().compute()\n",
    "b['IATA_CODE'] = b.index.str[:3]\n",
    "c = dd.merge(airport, b.reset_index())"
   ]
  },
  {
   "cell_type": "code",
   "execution_count": 76,
   "metadata": {
    "ExecuteTime": {
     "end_time": "2020-06-29T23:28:28.887928Z",
     "start_time": "2020-06-29T23:28:28.819700Z"
    }
   },
   "outputs": [
    {
     "data": {
      "text/html": [
       "<div>\n",
       "<style scoped>\n",
       "    .dataframe tbody tr th:only-of-type {\n",
       "        vertical-align: middle;\n",
       "    }\n",
       "\n",
       "    .dataframe tbody tr th {\n",
       "        vertical-align: top;\n",
       "    }\n",
       "\n",
       "    .dataframe thead th {\n",
       "        text-align: right;\n",
       "    }\n",
       "</style>\n",
       "<table border=\"1\" class=\"dataframe\">\n",
       "  <thead>\n",
       "    <tr style=\"text-align: right;\">\n",
       "      <th></th>\n",
       "      <th>ORIGIN_AIRPORT</th>\n",
       "      <th>AIRPORT</th>\n",
       "      <th>CITY</th>\n",
       "      <th>STATE</th>\n",
       "      <th>COUNTRY</th>\n",
       "      <th>LATITUDE</th>\n",
       "      <th>LONGITUDE</th>\n",
       "      <th>ARRIVAL_DELAY</th>\n",
       "    </tr>\n",
       "    <tr>\n",
       "      <th>AtoB</th>\n",
       "      <th></th>\n",
       "      <th></th>\n",
       "      <th></th>\n",
       "      <th></th>\n",
       "      <th></th>\n",
       "      <th></th>\n",
       "      <th></th>\n",
       "      <th></th>\n",
       "    </tr>\n",
       "  </thead>\n",
       "  <tbody>\n",
       "    <tr>\n",
       "      <th>ABQBWI</th>\n",
       "      <td>ABQ</td>\n",
       "      <td>Albuquerque International Sunport</td>\n",
       "      <td>Albuquerque</td>\n",
       "      <td>NM</td>\n",
       "      <td>USA</td>\n",
       "      <td>35.04022</td>\n",
       "      <td>-106.60919</td>\n",
       "      <td>4.572289</td>\n",
       "    </tr>\n",
       "    <tr>\n",
       "      <th>ABQDAL</th>\n",
       "      <td>ABQ</td>\n",
       "      <td>Albuquerque International Sunport</td>\n",
       "      <td>Albuquerque</td>\n",
       "      <td>NM</td>\n",
       "      <td>USA</td>\n",
       "      <td>35.04022</td>\n",
       "      <td>-106.60919</td>\n",
       "      <td>10.073077</td>\n",
       "    </tr>\n",
       "    <tr>\n",
       "      <th>ABQDEN</th>\n",
       "      <td>ABQ</td>\n",
       "      <td>Albuquerque International Sunport</td>\n",
       "      <td>Albuquerque</td>\n",
       "      <td>NM</td>\n",
       "      <td>USA</td>\n",
       "      <td>35.04022</td>\n",
       "      <td>-106.60919</td>\n",
       "      <td>4.924160</td>\n",
       "    </tr>\n",
       "    <tr>\n",
       "      <th>ABQHOU</th>\n",
       "      <td>ABQ</td>\n",
       "      <td>Albuquerque International Sunport</td>\n",
       "      <td>Albuquerque</td>\n",
       "      <td>NM</td>\n",
       "      <td>USA</td>\n",
       "      <td>35.04022</td>\n",
       "      <td>-106.60919</td>\n",
       "      <td>5.538877</td>\n",
       "    </tr>\n",
       "    <tr>\n",
       "      <th>ABQLAS</th>\n",
       "      <td>ABQ</td>\n",
       "      <td>Albuquerque International Sunport</td>\n",
       "      <td>Albuquerque</td>\n",
       "      <td>NM</td>\n",
       "      <td>USA</td>\n",
       "      <td>35.04022</td>\n",
       "      <td>-106.60919</td>\n",
       "      <td>4.037391</td>\n",
       "    </tr>\n",
       "  </tbody>\n",
       "</table>\n",
       "</div>"
      ],
      "text/plain": [
       "       ORIGIN_AIRPORT                            AIRPORT         CITY STATE  \\\n",
       "AtoB                                                                          \n",
       "ABQBWI            ABQ  Albuquerque International Sunport  Albuquerque    NM   \n",
       "ABQDAL            ABQ  Albuquerque International Sunport  Albuquerque    NM   \n",
       "ABQDEN            ABQ  Albuquerque International Sunport  Albuquerque    NM   \n",
       "ABQHOU            ABQ  Albuquerque International Sunport  Albuquerque    NM   \n",
       "ABQLAS            ABQ  Albuquerque International Sunport  Albuquerque    NM   \n",
       "\n",
       "       COUNTRY  LATITUDE  LONGITUDE  ARRIVAL_DELAY  \n",
       "AtoB                                                \n",
       "ABQBWI     USA  35.04022 -106.60919       4.572289  \n",
       "ABQDAL     USA  35.04022 -106.60919      10.073077  \n",
       "ABQDEN     USA  35.04022 -106.60919       4.924160  \n",
       "ABQHOU     USA  35.04022 -106.60919       5.538877  \n",
       "ABQLAS     USA  35.04022 -106.60919       4.037391  "
      ]
     },
     "execution_count": 76,
     "metadata": {},
     "output_type": "execute_result"
    }
   ],
   "source": [
    "c=c.rename(columns={'IATA_CODE': 'ORIGIN_AIRPORT'})\n",
    "c_sorted = c.set_index('AtoB').compute()\n",
    "c_sorted.head(5)"
   ]
  },
  {
   "cell_type": "code",
   "execution_count": 55,
   "metadata": {
    "ExecuteTime": {
     "end_time": "2020-06-29T23:14:59.837189Z",
     "start_time": "2020-06-29T23:14:59.816445Z"
    }
   },
   "outputs": [
    {
     "data": {
      "text/plain": [
       "35.04022"
      ]
     },
     "execution_count": 55,
     "metadata": {},
     "output_type": "execute_result"
    }
   ],
   "source": [
    "c_sorted['LATITUDE'].iloc[0]"
   ]
  },
  {
   "cell_type": "code",
   "execution_count": 77,
   "metadata": {
    "ExecuteTime": {
     "end_time": "2020-06-29T23:28:38.469363Z",
     "start_time": "2020-06-29T23:28:38.453200Z"
    }
   },
   "outputs": [],
   "source": [
    "b.drop('IATA_CODE', axis=1, inplace=True)\n",
    "b['IATA_CODE'] = b.index.str[3:]\n",
    "d = dd.merge(airport, b.reset_index())"
   ]
  },
  {
   "cell_type": "code",
   "execution_count": 78,
   "metadata": {
    "ExecuteTime": {
     "end_time": "2020-06-29T23:28:39.571137Z",
     "start_time": "2020-06-29T23:28:39.428868Z"
    }
   },
   "outputs": [],
   "source": [
    "d.rename(columns={'IATA_CODE': 'DESTINATION_AIRPORT'})\n",
    "d_sorted = d.set_index('AtoB').compute()"
   ]
  },
  {
   "cell_type": "code",
   "execution_count": 79,
   "metadata": {
    "ExecuteTime": {
     "end_time": "2020-06-29T23:28:40.471901Z",
     "start_time": "2020-06-29T23:28:40.454609Z"
    }
   },
   "outputs": [
    {
     "data": {
      "text/html": [
       "<div>\n",
       "<style scoped>\n",
       "    .dataframe tbody tr th:only-of-type {\n",
       "        vertical-align: middle;\n",
       "    }\n",
       "\n",
       "    .dataframe tbody tr th {\n",
       "        vertical-align: top;\n",
       "    }\n",
       "\n",
       "    .dataframe thead th {\n",
       "        text-align: right;\n",
       "    }\n",
       "</style>\n",
       "<table border=\"1\" class=\"dataframe\">\n",
       "  <thead>\n",
       "    <tr style=\"text-align: right;\">\n",
       "      <th></th>\n",
       "      <th>IATA_CODE</th>\n",
       "      <th>AIRPORT</th>\n",
       "      <th>CITY</th>\n",
       "      <th>STATE</th>\n",
       "      <th>COUNTRY</th>\n",
       "      <th>LATITUDE</th>\n",
       "      <th>LONGITUDE</th>\n",
       "      <th>ARRIVAL_DELAY</th>\n",
       "    </tr>\n",
       "    <tr>\n",
       "      <th>AtoB</th>\n",
       "      <th></th>\n",
       "      <th></th>\n",
       "      <th></th>\n",
       "      <th></th>\n",
       "      <th></th>\n",
       "      <th></th>\n",
       "      <th></th>\n",
       "      <th></th>\n",
       "    </tr>\n",
       "  </thead>\n",
       "  <tbody>\n",
       "    <tr>\n",
       "      <th>ABQBWI</th>\n",
       "      <td>BWI</td>\n",
       "      <td>Baltimore-Washington International Airport</td>\n",
       "      <td>Baltimore</td>\n",
       "      <td>MD</td>\n",
       "      <td>USA</td>\n",
       "      <td>39.17540</td>\n",
       "      <td>-76.66820</td>\n",
       "      <td>4.572289</td>\n",
       "    </tr>\n",
       "    <tr>\n",
       "      <th>ABQDAL</th>\n",
       "      <td>DAL</td>\n",
       "      <td>Dallas Love Field</td>\n",
       "      <td>Dallas</td>\n",
       "      <td>TX</td>\n",
       "      <td>USA</td>\n",
       "      <td>32.84711</td>\n",
       "      <td>-96.85177</td>\n",
       "      <td>10.073077</td>\n",
       "    </tr>\n",
       "    <tr>\n",
       "      <th>ABQDEN</th>\n",
       "      <td>DEN</td>\n",
       "      <td>Denver International Airport</td>\n",
       "      <td>Denver</td>\n",
       "      <td>CO</td>\n",
       "      <td>USA</td>\n",
       "      <td>39.85841</td>\n",
       "      <td>-104.66700</td>\n",
       "      <td>4.924160</td>\n",
       "    </tr>\n",
       "    <tr>\n",
       "      <th>ABQHOU</th>\n",
       "      <td>HOU</td>\n",
       "      <td>William P. Hobby Airport</td>\n",
       "      <td>Houston</td>\n",
       "      <td>TX</td>\n",
       "      <td>USA</td>\n",
       "      <td>29.64542</td>\n",
       "      <td>-95.27889</td>\n",
       "      <td>5.538877</td>\n",
       "    </tr>\n",
       "    <tr>\n",
       "      <th>ABQLAS</th>\n",
       "      <td>LAS</td>\n",
       "      <td>McCarran International Airport</td>\n",
       "      <td>Las Vegas</td>\n",
       "      <td>NV</td>\n",
       "      <td>USA</td>\n",
       "      <td>36.08036</td>\n",
       "      <td>-115.15233</td>\n",
       "      <td>4.037391</td>\n",
       "    </tr>\n",
       "  </tbody>\n",
       "</table>\n",
       "</div>"
      ],
      "text/plain": [
       "       IATA_CODE                                     AIRPORT       CITY STATE  \\\n",
       "AtoB                                                                            \n",
       "ABQBWI       BWI  Baltimore-Washington International Airport  Baltimore    MD   \n",
       "ABQDAL       DAL                           Dallas Love Field     Dallas    TX   \n",
       "ABQDEN       DEN                Denver International Airport     Denver    CO   \n",
       "ABQHOU       HOU                    William P. Hobby Airport    Houston    TX   \n",
       "ABQLAS       LAS              McCarran International Airport  Las Vegas    NV   \n",
       "\n",
       "       COUNTRY  LATITUDE  LONGITUDE  ARRIVAL_DELAY  \n",
       "AtoB                                                \n",
       "ABQBWI     USA  39.17540  -76.66820       4.572289  \n",
       "ABQDAL     USA  32.84711  -96.85177      10.073077  \n",
       "ABQDEN     USA  39.85841 -104.66700       4.924160  \n",
       "ABQHOU     USA  29.64542  -95.27889       5.538877  \n",
       "ABQLAS     USA  36.08036 -115.15233       4.037391  "
      ]
     },
     "execution_count": 79,
     "metadata": {},
     "output_type": "execute_result"
    }
   ],
   "source": [
    "d_sorted.head(5)"
   ]
  },
  {
   "cell_type": "code",
   "execution_count": 83,
   "metadata": {
    "ExecuteTime": {
     "end_time": "2020-06-29T23:30:24.899904Z",
     "start_time": "2020-06-29T23:30:24.381736Z"
    }
   },
   "outputs": [
    {
     "data": {
      "application/vnd.plotly.v1+json": {
       "config": {
        "linkText": "Export to plot.ly",
        "plotlyServerURL": "https://plot.ly",
        "showLink": false
       },
       "data": [
        {
         "lat": [
          35.04022,
          35.04022,
          35.04022,
          35.04022,
          35.04022,
          35.04022,
          35.04022,
          35.04022,
          35.04022,
          35.04022,
          35.04022,
          35.04022,
          35.04022,
          35.04022,
          42.74812,
          42.74812,
          42.74812,
          42.74812,
          42.74812,
          42.74812,
          42.74812,
          42.74812,
          35.21937,
          35.21937,
          33.640440000000005,
          33.640440000000005,
          33.640440000000005,
          33.640440000000005,
          33.640440000000005,
          33.640440000000005,
          33.640440000000005,
          33.640440000000005,
          33.640440000000005,
          33.640440000000005,
          33.640440000000005,
          33.640440000000005,
          33.640440000000005,
          33.640440000000005,
          33.640440000000005,
          33.640440000000005,
          33.640440000000005,
          33.640440000000005,
          33.640440000000005,
          33.640440000000005,
          33.640440000000005,
          33.640440000000005,
          33.640440000000005,
          33.640440000000005,
          33.640440000000005,
          33.640440000000005,
          33.640440000000005,
          33.640440000000005,
          33.640440000000005,
          33.640440000000005,
          33.640440000000005,
          33.640440000000005,
          33.640440000000005,
          33.640440000000005,
          33.640440000000005,
          33.640440000000005,
          33.640440000000005,
          33.640440000000005,
          33.640440000000005,
          30.19453,
          30.19453,
          30.19453,
          30.19453,
          30.19453,
          30.19453,
          30.19453,
          30.19453,
          30.19453,
          30.19453,
          30.19453,
          30.19453,
          30.19453,
          30.19453,
          30.19453,
          30.19453,
          30.19453,
          30.19453,
          30.19453,
          30.19453,
          30.19453,
          30.19453,
          30.19453,
          30.19453,
          30.19453,
          30.19453,
          30.19453,
          30.19453,
          41.93887,
          41.93887,
          41.93887,
          41.93887,
          41.93887,
          41.93887,
          41.93887,
          41.93887,
          41.93887,
          41.93887,
          33.562940000000005,
          33.562940000000005,
          33.562940000000005,
          33.562940000000005,
          33.562940000000005,
          33.562940000000005,
          33.562940000000005,
          36.12448,
          36.12448,
          36.12448,
          36.12448,
          36.12448,
          36.12448,
          36.12448,
          36.12448,
          36.12448,
          36.12448,
          36.12448,
          36.12448,
          36.12448,
          36.12448,
          36.12448,
          36.12448,
          36.12448,
          36.12448,
          36.12448,
          36.12448,
          36.12448,
          36.12448,
          36.12448,
          36.12448,
          36.12448,
          36.12448,
          36.12448,
          36.12448,
          36.12448,
          36.12448,
          36.12448,
          36.12448,
          36.12448,
          36.12448,
          43.564440000000005,
          43.564440000000005,
          43.564440000000005,
          43.564440000000005,
          43.564440000000005,
          43.564440000000005,
          42.36435,
          42.36435,
          42.36435,
          42.36435,
          42.36435,
          42.36435,
          42.36435,
          42.36435,
          42.36435,
          42.36435,
          42.36435,
          42.36435,
          42.36435,
          42.36435,
          42.36435,
          42.36435,
          42.36435,
          42.94052,
          42.94052,
          42.94052,
          42.94052,
          42.94052,
          42.94052,
          42.94052,
          42.94052,
          34.20062,
          34.20062,
          34.20062,
          34.20062,
          34.20062,
          34.20062,
          39.1754,
          39.1754,
          39.1754,
          39.1754,
          39.1754,
          39.1754,
          39.1754,
          39.1754,
          39.1754,
          39.1754,
          39.1754,
          39.1754,
          39.1754,
          39.1754,
          39.1754,
          39.1754,
          39.1754,
          39.1754,
          39.1754,
          39.1754,
          39.1754,
          39.1754,
          39.1754,
          39.1754,
          39.1754,
          39.1754,
          39.1754,
          39.1754,
          39.1754,
          39.1754,
          39.1754,
          39.1754,
          39.1754,
          39.1754,
          39.1754,
          39.1754,
          39.1754,
          39.1754,
          39.1754,
          39.1754,
          39.1754,
          39.1754,
          39.1754,
          39.1754,
          39.1754,
          39.1754,
          39.1754,
          39.1754,
          39.1754,
          39.1754,
          39.1754,
          39.1754,
          39.1754,
          39.1754,
          39.1754,
          39.1754,
          40.916309999999996,
          40.916309999999996,
          40.916309999999996,
          40.916309999999996,
          40.916309999999996,
          40.916309999999996,
          40.916309999999996,
          40.916309999999996,
          40.916309999999996,
          32.89865,
          32.89865,
          32.89865,
          32.89865,
          32.89865,
          41.41089,
          41.41089,
          41.41089,
          41.41089,
          41.41089,
          41.41089,
          41.41089,
          41.41089,
          35.214009999999995,
          35.214009999999995,
          35.214009999999995,
          35.214009999999995,
          35.214009999999995,
          39.99799,
          39.99799,
          39.99799,
          39.99799,
          39.99799,
          39.99799,
          39.99799,
          39.99799,
          39.99799,
          39.99799,
          39.99799,
          39.99799,
          39.99799,
          39.99799,
          39.99799,
          39.99799,
          27.770359999999997,
          32.84711,
          32.84711,
          32.84711,
          32.84711,
          32.84711,
          32.84711,
          32.84711,
          32.84711,
          32.84711,
          32.84711,
          32.84711,
          32.84711,
          32.84711,
          32.84711,
          32.84711,
          32.84711,
          32.84711,
          32.84711,
          32.84711,
          32.84711,
          32.84711,
          32.84711,
          32.84711,
          32.84711,
          32.84711,
          32.84711,
          32.84711,
          32.84711,
          32.84711,
          32.84711,
          32.84711,
          32.84711,
          32.84711,
          32.84711,
          32.84711,
          32.84711,
          32.84711,
          32.84711,
          32.84711,
          32.84711,
          32.84711,
          32.84711,
          32.84711,
          32.84711,
          32.84711,
          32.84711,
          32.84711,
          32.84711,
          32.84711,
          32.84711,
          32.84711,
          39.90238,
          39.90238,
          39.90238,
          39.90238,
          38.85208,
          38.85208,
          38.85208,
          38.85208,
          38.85208,
          38.85208,
          38.85208,
          38.85208,
          38.85208,
          38.85208,
          38.85208,
          38.85208,
          38.85208,
          38.85208,
          38.85208,
          38.85208,
          38.85208,
          39.85841,
          39.85841,
          39.85841,
          39.85841,
          39.85841,
          39.85841,
          39.85841,
          39.85841,
          39.85841,
          39.85841,
          39.85841,
          39.85841,
          39.85841,
          39.85841,
          39.85841,
          39.85841,
          39.85841,
          39.85841,
          39.85841,
          39.85841,
          39.85841,
          39.85841,
          39.85841,
          39.85841,
          39.85841,
          39.85841,
          39.85841,
          39.85841,
          39.85841,
          39.85841,
          39.85841,
          39.85841,
          39.85841,
          39.85841,
          39.85841,
          39.85841,
          39.85841,
          39.85841,
          39.85841,
          39.85841,
          39.85841,
          39.85841,
          39.85841,
          39.85841,
          39.85841,
          39.85841,
          39.85841,
          39.85841,
          39.85841,
          39.85841,
          39.85841,
          39.85841,
          39.85841,
          39.85841,
          39.85841,
          39.85841,
          39.85841,
          41.534929999999996,
          41.534929999999996,
          42.21206,
          42.21206,
          42.21206,
          42.21206,
          42.21206,
          42.21206,
          42.21206,
          42.21206,
          42.21206,
          42.21206,
          null,
          null,
          null,
          null,
          null,
          31.80667,
          31.80667,
          31.80667,
          31.80667,
          31.80667,
          31.80667,
          31.80667,
          40.6925,
          40.6925,
          40.6925,
          40.6925,
          40.6925,
          40.6925,
          40.6925,
          40.6925,
          26.07258,
          26.07258,
          26.07258,
          26.07258,
          26.07258,
          26.07258,
          26.07258,
          26.07258,
          26.07258,
          26.07258,
          26.07258,
          26.07258,
          26.07258,
          26.07258,
          26.07258,
          26.07258,
          26.07258,
          26.07258,
          26.07258,
          26.07258,
          26.07258,
          26.07258,
          26.07258,
          26.07258,
          26.07258,
          26.07258,
          26.07258,
          26.07258,
          42.9655,
          42.9655,
          42.9655,
          42.9655,
          42.9655,
          47.619859999999996,
          47.619859999999996,
          47.619859999999996,
          47.619859999999996,
          47.619859999999996,
          47.619859999999996,
          42.88082,
          42.88082,
          42.88082,
          42.88082,
          42.88082,
          42.88082,
          34.89567,
          34.89567,
          34.89567,
          29.64542,
          29.64542,
          29.64542,
          29.64542,
          29.64542,
          29.64542,
          29.64542,
          29.64542,
          29.64542,
          29.64542,
          29.64542,
          29.64542,
          29.64542,
          29.64542,
          29.64542,
          29.64542,
          29.64542,
          29.64542,
          29.64542,
          29.64542,
          29.64542,
          29.64542,
          29.64542,
          29.64542,
          29.64542,
          29.64542,
          29.64542,
          29.64542,
          29.64542,
          29.64542,
          29.64542,
          29.64542,
          29.64542,
          29.64542,
          29.64542,
          29.64542,
          29.64542,
          29.64542,
          29.64542,
          29.64542,
          29.64542,
          29.64542,
          29.64542,
          29.64542,
          29.64542,
          29.64542,
          29.64542,
          29.64542,
          29.64542,
          26.228509999999996,
          26.228509999999996,
          38.94453,
          38.94453,
          38.94453,
          38.94453,
          37.64996,
          37.64996,
          37.64996,
          39.71733,
          39.71733,
          39.71733,
          39.71733,
          39.71733,
          39.71733,
          39.71733,
          39.71733,
          39.71733,
          39.71733,
          39.71733,
          39.71733,
          39.71733,
          39.71733,
          39.71733,
          39.71733,
          40.79524,
          40.79524,
          40.79524,
          40.79524,
          40.79524,
          40.79524,
          30.494059999999998,
          30.494059999999998,
          30.494059999999998,
          30.494059999999998,
          30.494059999999998,
          30.494059999999998,
          30.494059999999998,
          36.08036,
          36.08036,
          36.08036,
          36.08036,
          36.08036,
          36.08036,
          36.08036,
          36.08036,
          36.08036,
          36.08036,
          36.08036,
          36.08036,
          36.08036,
          36.08036,
          36.08036,
          36.08036,
          36.08036,
          36.08036,
          36.08036,
          36.08036,
          36.08036,
          36.08036,
          36.08036,
          36.08036,
          36.08036,
          36.08036,
          36.08036,
          36.08036,
          36.08036,
          36.08036,
          36.08036,
          36.08036,
          36.08036,
          36.08036,
          36.08036,
          36.08036,
          36.08036,
          36.08036,
          36.08036,
          36.08036,
          36.08036,
          36.08036,
          36.08036,
          36.08036,
          36.08036,
          36.08036,
          36.08036,
          36.08036,
          36.08036,
          36.08036,
          36.08036,
          36.08036,
          36.08036,
          36.08036,
          36.08036,
          36.08036,
          36.08036,
          36.08036,
          36.08036,
          36.08036,
          36.08036,
          33.94254,
          33.94254,
          33.94254,
          33.94254,
          33.94254,
          33.94254,
          33.94254,
          33.94254,
          33.94254,
          33.94254,
          33.94254,
          33.94254,
          33.94254,
          33.94254,
          33.94254,
          33.94254,
          33.94254,
          33.94254,
          33.94254,
          33.94254,
          33.94254,
          33.94254,
          33.94254,
          33.94254,
          33.94254,
          33.94254,
          33.94254,
          33.66364,
          33.66364,
          33.66364,
          33.66364,
          40.77724,
          40.77724,
          40.77724,
          40.77724,
          40.77724,
          40.77724,
          40.77724,
          40.77724,
          40.77724,
          40.77724,
          40.77724,
          34.7294,
          34.7294,
          34.7294,
          34.7294,
          34.7294,
          31.942529999999998,
          31.942529999999998,
          31.942529999999998,
          39.29761,
          39.29761,
          39.29761,
          39.29761,
          39.29761,
          39.29761,
          39.29761,
          39.29761,
          39.29761,
          39.29761,
          39.29761,
          39.29761,
          39.29761,
          39.29761,
          39.29761,
          39.29761,
          39.29761,
          39.29761,
          39.29761,
          39.29761,
          39.29761,
          39.29761,
          39.29761,
          39.29761,
          39.29761,
          39.29761,
          39.29761,
          39.29761,
          28.428890000000003,
          28.428890000000003,
          28.428890000000003,
          28.428890000000003,
          28.428890000000003,
          28.428890000000003,
          28.428890000000003,
          28.428890000000003,
          28.428890000000003,
          28.428890000000003,
          28.428890000000003,
          28.428890000000003,
          28.428890000000003,
          28.428890000000003,
          28.428890000000003,
          28.428890000000003,
          28.428890000000003,
          28.428890000000003,
          28.428890000000003,
          28.428890000000003,
          28.428890000000003,
          28.428890000000003,
          28.428890000000003,
          28.428890000000003,
          28.428890000000003,
          28.428890000000003,
          28.428890000000003,
          28.428890000000003,
          28.428890000000003,
          28.428890000000003,
          28.428890000000003,
          28.428890000000003,
          28.428890000000003,
          28.428890000000003,
          28.428890000000003,
          28.428890000000003,
          28.428890000000003,
          28.428890000000003,
          28.428890000000003,
          28.428890000000003,
          28.428890000000003,
          28.428890000000003,
          28.428890000000003,
          28.428890000000003,
          28.428890000000003,
          28.428890000000003,
          41.78598,
          41.78598,
          41.78598,
          41.78598,
          41.78598,
          41.78598,
          41.78598,
          41.78598,
          41.78598,
          41.78598,
          41.78598,
          41.78598,
          41.78598,
          41.78598,
          41.78598,
          41.78598,
          41.78598,
          41.78598,
          41.78598,
          41.78598,
          41.78598,
          41.78598,
          41.78598,
          41.78598,
          41.78598,
          41.78598,
          41.78598,
          41.78598,
          41.78598,
          41.78598,
          41.78598,
          41.78598,
          41.78598,
          41.78598,
          41.78598,
          41.78598,
          41.78598,
          41.78598,
          41.78598,
          41.78598,
          41.78598,
          41.78598,
          41.78598,
          41.78598,
          41.78598,
          41.78598,
          41.78598,
          41.78598,
          41.78598,
          41.78598,
          41.78598,
          41.78598,
          41.78598,
          41.78598,
          41.78598,
          41.78598,
          41.78598,
          41.78598,
          41.78598,
          41.78598,
          41.78598,
          41.78598,
          41.78598,
          41.78598,
          41.78598,
          41.78598,
          41.78598,
          41.78598,
          35.04242,
          35.04242,
          35.04242,
          35.04242,
          35.04242,
          35.04242,
          35.04242,
          42.93452,
          42.93452,
          42.93452,
          42.93452,
          42.93452,
          42.93452,
          42.93452,
          42.94722,
          42.94722,
          42.94722,
          42.94722,
          42.94722,
          42.94722,
          42.94722,
          42.94722,
          42.94722,
          42.94722,
          42.94722,
          42.94722,
          42.94722,
          42.94722,
          42.94722,
          42.94722,
          42.94722,
          42.94722,
          42.94722,
          42.94722,
          42.94722,
          44.88055,
          44.88055,
          44.88055,
          44.88055,
          44.88055,
          44.88055,
          44.88055,
          44.88055,
          44.88055,
          44.88055,
          29.99339,
          29.99339,
          29.99339,
          29.99339,
          29.99339,
          29.99339,
          29.99339,
          29.99339,
          29.99339,
          29.99339,
          29.99339,
          29.99339,
          29.99339,
          29.99339,
          29.99339,
          29.99339,
          29.99339,
          29.99339,
          29.99339,
          29.99339,
          29.99339,
          29.99339,
          37.72129,
          37.72129,
          37.72129,
          37.72129,
          37.72129,
          37.72129,
          37.72129,
          37.72129,
          37.72129,
          37.72129,
          37.72129,
          37.72129,
          37.72129,
          37.72129,
          37.72129,
          37.72129,
          37.72129,
          37.72129,
          37.72129,
          37.72129,
          37.72129,
          37.72129,
          37.72129,
          37.72129,
          35.39309,
          35.39309,
          35.39309,
          35.39309,
          35.39309,
          35.39309,
          35.39309,
          35.39309,
          35.39309,
          35.39309,
          41.30252,
          41.30252,
          41.30252,
          41.30252,
          41.30252,
          41.30252,
          41.30252,
          41.30252,
          34.056,
          34.056,
          34.056,
          34.056,
          34.056,
          34.056,
          34.056,
          36.89461,
          36.89461,
          36.89461,
          36.89461,
          26.683159999999997,
          26.683159999999997,
          26.683159999999997,
          26.683159999999997,
          26.683159999999997,
          26.683159999999997,
          26.683159999999997,
          26.683159999999997,
          45.58872,
          45.58872,
          45.58872,
          45.58872,
          45.58872,
          45.58872,
          45.58872,
          45.58872,
          45.58872,
          45.58872,
          45.58872,
          45.58872,
          45.58872,
          45.58872,
          45.58872,
          45.58872,
          39.87195,
          39.87195,
          39.87195,
          39.87195,
          39.87195,
          39.87195,
          39.87195,
          39.87195,
          39.87195,
          39.87195,
          39.87195,
          39.87195,
          33.43417,
          33.43417,
          33.43417,
          33.43417,
          33.43417,
          33.43417,
          33.43417,
          33.43417,
          33.43417,
          33.43417,
          33.43417,
          33.43417,
          33.43417,
          33.43417,
          33.43417,
          33.43417,
          33.43417,
          33.43417,
          33.43417,
          33.43417,
          33.43417,
          33.43417,
          33.43417,
          33.43417,
          33.43417,
          33.43417,
          33.43417,
          33.43417,
          33.43417,
          33.43417,
          33.43417,
          33.43417,
          33.43417,
          33.43417,
          33.43417,
          33.43417,
          33.43417,
          33.43417,
          33.43417,
          33.43417,
          33.43417,
          33.43417,
          33.43417,
          33.43417,
          33.43417,
          33.43417,
          33.43417,
          33.43417,
          33.43417,
          33.43417,
          33.43417,
          40.49147,
          40.49147,
          40.49147,
          40.49147,
          40.49147,
          40.49147,
          40.49147,
          40.49147,
          40.49147,
          40.49147,
          40.49147,
          40.49147,
          40.49147,
          40.49147,
          30.473309999999998,
          30.473309999999998,
          30.473309999999998,
          41.724,
          41.724,
          41.724,
          41.724,
          41.724,
          41.724,
          41.724,
          43.64617,
          43.64617,
          43.64617,
          35.87764,
          35.87764,
          35.87764,
          35.87764,
          35.87764,
          35.87764,
          35.87764,
          35.87764,
          35.87764,
          35.87764,
          35.87764,
          35.87764,
          35.87764,
          37.50517,
          37.50517,
          39.49858,
          39.49858,
          39.49858,
          39.49858,
          39.49858,
          39.49858,
          43.11887,
          43.11887,
          43.11887,
          43.11887,
          26.536170000000002,
          26.536170000000002,
          26.536170000000002,
          26.536170000000002,
          26.536170000000002,
          26.536170000000002,
          26.536170000000002,
          26.536170000000002,
          26.536170000000002,
          26.536170000000002,
          26.536170000000002,
          26.536170000000002,
          26.536170000000002,
          26.536170000000002,
          26.536170000000002,
          26.536170000000002,
          26.536170000000002,
          26.536170000000002,
          26.536170000000002,
          26.536170000000002,
          26.536170000000002,
          26.536170000000002,
          26.536170000000002,
          26.536170000000002,
          32.73356,
          32.73356,
          32.73356,
          32.73356,
          32.73356,
          32.73356,
          32.73356,
          32.73356,
          32.73356,
          32.73356,
          32.73356,
          32.73356,
          32.73356,
          32.73356,
          32.73356,
          32.73356,
          32.73356,
          32.73356,
          32.73356,
          32.73356,
          32.73356,
          32.73356,
          32.73356,
          32.73356,
          32.73356,
          32.73356,
          29.533690000000004,
          29.533690000000004,
          29.533690000000004,
          29.533690000000004,
          29.533690000000004,
          29.533690000000004,
          29.533690000000004,
          29.533690000000004,
          29.533690000000004,
          29.533690000000004,
          29.533690000000004,
          29.533690000000004,
          29.533690000000004,
          29.533690000000004,
          29.533690000000004,
          29.533690000000004,
          38.17439,
          38.17439,
          38.17439,
          38.17439,
          38.17439,
          38.17439,
          38.17439,
          47.44898,
          47.44898,
          47.44898,
          47.44898,
          47.44898,
          47.44898,
          47.44898,
          47.44898,
          47.44898,
          47.44898,
          47.44898,
          47.44898,
          47.44898,
          47.44898,
          47.44898,
          47.44898,
          47.44898,
          47.44898,
          47.44898,
          37.619,
          37.619,
          37.619,
          37.619,
          37.619,
          37.619,
          37.619,
          37.619,
          37.619,
          37.619,
          37.619,
          37.36186,
          37.36186,
          37.36186,
          37.36186,
          37.36186,
          37.36186,
          37.36186,
          37.36186,
          37.36186,
          37.36186,
          37.36186,
          37.36186,
          37.36186,
          18.439420000000002,
          18.439420000000002,
          18.439420000000002,
          18.439420000000002,
          18.439420000000002,
          18.439420000000002,
          40.78839,
          40.78839,
          40.78839,
          40.78839,
          40.78839,
          40.78839,
          40.78839,
          40.78839,
          40.78839,
          38.69542,
          38.69542,
          38.69542,
          38.69542,
          38.69542,
          38.69542,
          38.69542,
          38.69542,
          38.69542,
          38.69542,
          38.69542,
          38.69542,
          33.67566,
          33.67566,
          33.67566,
          33.67566,
          33.67566,
          33.67566,
          33.67566,
          33.67566,
          33.67566,
          33.67566,
          33.67566,
          33.67566,
          33.67566,
          33.67566,
          33.67566,
          38.747690000000006,
          38.747690000000006,
          38.747690000000006,
          38.747690000000006,
          38.747690000000006,
          38.747690000000006,
          38.747690000000006,
          38.747690000000006,
          38.747690000000006,
          38.747690000000006,
          38.747690000000006,
          38.747690000000006,
          38.747690000000006,
          38.747690000000006,
          38.747690000000006,
          38.747690000000006,
          38.747690000000006,
          38.747690000000006,
          38.747690000000006,
          38.747690000000006,
          38.747690000000006,
          38.747690000000006,
          38.747690000000006,
          38.747690000000006,
          38.747690000000006,
          38.747690000000006,
          38.747690000000006,
          38.747690000000006,
          38.747690000000006,
          38.747690000000006,
          38.747690000000006,
          38.747690000000006,
          38.747690000000006,
          38.747690000000006,
          38.747690000000006,
          38.747690000000006,
          38.747690000000006,
          27.97547,
          27.97547,
          27.97547,
          27.97547,
          27.97547,
          27.97547,
          27.97547,
          27.97547,
          27.97547,
          27.97547,
          27.97547,
          27.97547,
          27.97547,
          27.97547,
          27.97547,
          27.97547,
          27.97547,
          27.97547,
          27.97547,
          27.97547,
          27.97547,
          27.97547,
          27.97547,
          27.97547,
          27.97547,
          27.97547,
          27.97547,
          27.97547,
          27.97547,
          27.97547,
          27.97547,
          27.97547,
          27.97547,
          27.97547,
          27.97547,
          27.97547,
          27.97547,
          27.97547,
          27.97547,
          36.198370000000004,
          36.198370000000004,
          36.198370000000004,
          36.198370000000004,
          36.198370000000004,
          36.198370000000004,
          36.198370000000004,
          32.11608,
          32.11608,
          32.11608,
          32.11608,
          32.11608,
          32.11608
         ],
         "lon": [
          -106.60918999999998,
          -106.60918999999998,
          -106.60918999999998,
          -106.60918999999998,
          -106.60918999999998,
          -106.60918999999998,
          -106.60918999999998,
          -106.60918999999998,
          -106.60918999999998,
          -106.60918999999998,
          -106.60918999999998,
          -106.60918999999998,
          -106.60918999999998,
          -106.60918999999998,
          -73.80298,
          -73.80298,
          -73.80298,
          -73.80298,
          -73.80298,
          -73.80298,
          -73.80298,
          -73.80298,
          -101.70593000000001,
          -101.70593000000001,
          -84.42694,
          -84.42694,
          -84.42694,
          -84.42694,
          -84.42694,
          -84.42694,
          -84.42694,
          -84.42694,
          -84.42694,
          -84.42694,
          -84.42694,
          -84.42694,
          -84.42694,
          -84.42694,
          -84.42694,
          -84.42694,
          -84.42694,
          -84.42694,
          -84.42694,
          -84.42694,
          -84.42694,
          -84.42694,
          -84.42694,
          -84.42694,
          -84.42694,
          -84.42694,
          -84.42694,
          -84.42694,
          -84.42694,
          -84.42694,
          -84.42694,
          -84.42694,
          -84.42694,
          -84.42694,
          -84.42694,
          -84.42694,
          -84.42694,
          -84.42694,
          -84.42694,
          -97.66986999999999,
          -97.66986999999999,
          -97.66986999999999,
          -97.66986999999999,
          -97.66986999999999,
          -97.66986999999999,
          -97.66986999999999,
          -97.66986999999999,
          -97.66986999999999,
          -97.66986999999999,
          -97.66986999999999,
          -97.66986999999999,
          -97.66986999999999,
          -97.66986999999999,
          -97.66986999999999,
          -97.66986999999999,
          -97.66986999999999,
          -97.66986999999999,
          -97.66986999999999,
          -97.66986999999999,
          -97.66986999999999,
          -97.66986999999999,
          -97.66986999999999,
          -97.66986999999999,
          -97.66986999999999,
          -97.66986999999999,
          -97.66986999999999,
          -97.66986999999999,
          -72.68323000000001,
          -72.68323000000001,
          -72.68323000000001,
          -72.68323000000001,
          -72.68323000000001,
          -72.68323000000001,
          -72.68323000000001,
          -72.68323000000001,
          -72.68323000000001,
          -72.68323000000001,
          -86.75355,
          -86.75355,
          -86.75355,
          -86.75355,
          -86.75355,
          -86.75355,
          -86.75355,
          -86.67818,
          -86.67818,
          -86.67818,
          -86.67818,
          -86.67818,
          -86.67818,
          -86.67818,
          -86.67818,
          -86.67818,
          -86.67818,
          -86.67818,
          -86.67818,
          -86.67818,
          -86.67818,
          -86.67818,
          -86.67818,
          -86.67818,
          -86.67818,
          -86.67818,
          -86.67818,
          -86.67818,
          -86.67818,
          -86.67818,
          -86.67818,
          -86.67818,
          -86.67818,
          -86.67818,
          -86.67818,
          -86.67818,
          -86.67818,
          -86.67818,
          -86.67818,
          -86.67818,
          -86.67818,
          -116.22278,
          -116.22278,
          -116.22278,
          -116.22278,
          -116.22278,
          -116.22278,
          -71.00518000000001,
          -71.00518000000001,
          -71.00518000000001,
          -71.00518000000001,
          -71.00518000000001,
          -71.00518000000001,
          -71.00518000000001,
          -71.00518000000001,
          -71.00518000000001,
          -71.00518000000001,
          -71.00518000000001,
          -71.00518000000001,
          -71.00518000000001,
          -71.00518000000001,
          -71.00518000000001,
          -71.00518000000001,
          -71.00518000000001,
          -78.73217,
          -78.73217,
          -78.73217,
          -78.73217,
          -78.73217,
          -78.73217,
          -78.73217,
          -78.73217,
          -118.3585,
          -118.3585,
          -118.3585,
          -118.3585,
          -118.3585,
          -118.3585,
          -76.6682,
          -76.6682,
          -76.6682,
          -76.6682,
          -76.6682,
          -76.6682,
          -76.6682,
          -76.6682,
          -76.6682,
          -76.6682,
          -76.6682,
          -76.6682,
          -76.6682,
          -76.6682,
          -76.6682,
          -76.6682,
          -76.6682,
          -76.6682,
          -76.6682,
          -76.6682,
          -76.6682,
          -76.6682,
          -76.6682,
          -76.6682,
          -76.6682,
          -76.6682,
          -76.6682,
          -76.6682,
          -76.6682,
          -76.6682,
          -76.6682,
          -76.6682,
          -76.6682,
          -76.6682,
          -76.6682,
          -76.6682,
          -76.6682,
          -76.6682,
          -76.6682,
          -76.6682,
          -76.6682,
          -76.6682,
          -76.6682,
          -76.6682,
          -76.6682,
          -76.6682,
          -76.6682,
          -76.6682,
          -76.6682,
          -76.6682,
          -76.6682,
          -76.6682,
          -76.6682,
          -76.6682,
          -76.6682,
          -76.6682,
          -81.44247,
          -81.44247,
          -81.44247,
          -81.44247,
          -81.44247,
          -81.44247,
          -81.44247,
          -81.44247,
          -81.44247,
          -80.04051,
          -80.04051,
          -80.04051,
          -80.04051,
          -80.04051,
          -81.8494,
          -81.8494,
          -81.8494,
          -81.8494,
          -81.8494,
          -81.8494,
          -81.8494,
          -81.8494,
          -80.94313000000001,
          -80.94313000000001,
          -80.94313000000001,
          -80.94313000000001,
          -80.94313000000001,
          -82.89188,
          -82.89188,
          -82.89188,
          -82.89188,
          -82.89188,
          -82.89188,
          -82.89188,
          -82.89188,
          -82.89188,
          -82.89188,
          -82.89188,
          -82.89188,
          -82.89188,
          -82.89188,
          -82.89188,
          -82.89188,
          -97.50121999999999,
          -96.85177,
          -96.85177,
          -96.85177,
          -96.85177,
          -96.85177,
          -96.85177,
          -96.85177,
          -96.85177,
          -96.85177,
          -96.85177,
          -96.85177,
          -96.85177,
          -96.85177,
          -96.85177,
          -96.85177,
          -96.85177,
          -96.85177,
          -96.85177,
          -96.85177,
          -96.85177,
          -96.85177,
          -96.85177,
          -96.85177,
          -96.85177,
          -96.85177,
          -96.85177,
          -96.85177,
          -96.85177,
          -96.85177,
          -96.85177,
          -96.85177,
          -96.85177,
          -96.85177,
          -96.85177,
          -96.85177,
          -96.85177,
          -96.85177,
          -96.85177,
          -96.85177,
          -96.85177,
          -96.85177,
          -96.85177,
          -96.85177,
          -96.85177,
          -96.85177,
          -96.85177,
          -96.85177,
          -96.85177,
          -96.85177,
          -96.85177,
          -96.85177,
          -84.21938,
          -84.21938,
          -84.21938,
          -84.21938,
          -77.03772,
          -77.03772,
          -77.03772,
          -77.03772,
          -77.03772,
          -77.03772,
          -77.03772,
          -77.03772,
          -77.03772,
          -77.03772,
          -77.03772,
          -77.03772,
          -77.03772,
          -77.03772,
          -77.03772,
          -77.03772,
          -77.03772,
          -104.667,
          -104.667,
          -104.667,
          -104.667,
          -104.667,
          -104.667,
          -104.667,
          -104.667,
          -104.667,
          -104.667,
          -104.667,
          -104.667,
          -104.667,
          -104.667,
          -104.667,
          -104.667,
          -104.667,
          -104.667,
          -104.667,
          -104.667,
          -104.667,
          -104.667,
          -104.667,
          -104.667,
          -104.667,
          -104.667,
          -104.667,
          -104.667,
          -104.667,
          -104.667,
          -104.667,
          -104.667,
          -104.667,
          -104.667,
          -104.667,
          -104.667,
          -104.667,
          -104.667,
          -104.667,
          -104.667,
          -104.667,
          -104.667,
          -104.667,
          -104.667,
          -104.667,
          -104.667,
          -104.667,
          -104.667,
          -104.667,
          -104.667,
          -104.667,
          -104.667,
          -104.667,
          -104.667,
          -104.667,
          -104.667,
          -104.667,
          -93.66068,
          -93.66068,
          -83.34884,
          -83.34884,
          -83.34884,
          -83.34884,
          -83.34884,
          -83.34884,
          -83.34884,
          -83.34884,
          -83.34884,
          -83.34884,
          null,
          null,
          null,
          null,
          null,
          -106.37781000000001,
          -106.37781000000001,
          -106.37781000000001,
          -106.37781000000001,
          -106.37781000000001,
          -106.37781000000001,
          -106.37781000000001,
          -74.16866,
          -74.16866,
          -74.16866,
          -74.16866,
          -74.16866,
          -74.16866,
          -74.16866,
          -74.16866,
          -80.15275,
          -80.15275,
          -80.15275,
          -80.15275,
          -80.15275,
          -80.15275,
          -80.15275,
          -80.15275,
          -80.15275,
          -80.15275,
          -80.15275,
          -80.15275,
          -80.15275,
          -80.15275,
          -80.15275,
          -80.15275,
          -80.15275,
          -80.15275,
          -80.15275,
          -80.15275,
          -80.15275,
          -80.15275,
          -80.15275,
          -80.15275,
          -80.15275,
          -80.15275,
          -80.15275,
          -80.15275,
          -83.74346,
          -83.74346,
          -83.74346,
          -83.74346,
          -83.74346,
          -117.53383999999998,
          -117.53383999999998,
          -117.53383999999998,
          -117.53383999999998,
          -117.53383999999998,
          -117.53383999999998,
          -85.52277,
          -85.52277,
          -85.52277,
          -85.52277,
          -85.52277,
          -85.52277,
          -82.21885999999999,
          -82.21885999999999,
          -82.21885999999999,
          -95.27889,
          -95.27889,
          -95.27889,
          -95.27889,
          -95.27889,
          -95.27889,
          -95.27889,
          -95.27889,
          -95.27889,
          -95.27889,
          -95.27889,
          -95.27889,
          -95.27889,
          -95.27889,
          -95.27889,
          -95.27889,
          -95.27889,
          -95.27889,
          -95.27889,
          -95.27889,
          -95.27889,
          -95.27889,
          -95.27889,
          -95.27889,
          -95.27889,
          -95.27889,
          -95.27889,
          -95.27889,
          -95.27889,
          -95.27889,
          -95.27889,
          -95.27889,
          -95.27889,
          -95.27889,
          -95.27889,
          -95.27889,
          -95.27889,
          -95.27889,
          -95.27889,
          -95.27889,
          -95.27889,
          -95.27889,
          -95.27889,
          -95.27889,
          -95.27889,
          -95.27889,
          -95.27889,
          -95.27889,
          -95.27889,
          -97.65439,
          -97.65439,
          -77.45581,
          -77.45581,
          -77.45581,
          -77.45581,
          -97.43305,
          -97.43305,
          -97.43305,
          -86.29438,
          -86.29438,
          -86.29438,
          -86.29438,
          -86.29438,
          -86.29438,
          -86.29438,
          -86.29438,
          -86.29438,
          -86.29438,
          -86.29438,
          -86.29438,
          -86.29438,
          -86.29438,
          -86.29438,
          -86.29438,
          -73.10021,
          -73.10021,
          -73.10021,
          -73.10021,
          -73.10021,
          -73.10021,
          -81.68786,
          -81.68786,
          -81.68786,
          -81.68786,
          -81.68786,
          -81.68786,
          -81.68786,
          -115.15233,
          -115.15233,
          -115.15233,
          -115.15233,
          -115.15233,
          -115.15233,
          -115.15233,
          -115.15233,
          -115.15233,
          -115.15233,
          -115.15233,
          -115.15233,
          -115.15233,
          -115.15233,
          -115.15233,
          -115.15233,
          -115.15233,
          -115.15233,
          -115.15233,
          -115.15233,
          -115.15233,
          -115.15233,
          -115.15233,
          -115.15233,
          -115.15233,
          -115.15233,
          -115.15233,
          -115.15233,
          -115.15233,
          -115.15233,
          -115.15233,
          -115.15233,
          -115.15233,
          -115.15233,
          -115.15233,
          -115.15233,
          -115.15233,
          -115.15233,
          -115.15233,
          -115.15233,
          -115.15233,
          -115.15233,
          -115.15233,
          -115.15233,
          -115.15233,
          -115.15233,
          -115.15233,
          -115.15233,
          -115.15233,
          -115.15233,
          -115.15233,
          -115.15233,
          -115.15233,
          -115.15233,
          -115.15233,
          -115.15233,
          -115.15233,
          -115.15233,
          -115.15233,
          -115.15233,
          -115.15233,
          -118.40807,
          -118.40807,
          -118.40807,
          -118.40807,
          -118.40807,
          -118.40807,
          -118.40807,
          -118.40807,
          -118.40807,
          -118.40807,
          -118.40807,
          -118.40807,
          -118.40807,
          -118.40807,
          -118.40807,
          -118.40807,
          -118.40807,
          -118.40807,
          -118.40807,
          -118.40807,
          -118.40807,
          -118.40807,
          -118.40807,
          -118.40807,
          -118.40807,
          -118.40807,
          -118.40807,
          -101.82278000000001,
          -101.82278000000001,
          -101.82278000000001,
          -101.82278000000001,
          -73.87261,
          -73.87261,
          -73.87261,
          -73.87261,
          -73.87261,
          -73.87261,
          -73.87261,
          -73.87261,
          -73.87261,
          -73.87261,
          -73.87261,
          -92.22425,
          -92.22425,
          -92.22425,
          -92.22425,
          -92.22425,
          -102.20191,
          -102.20191,
          -102.20191,
          -94.71391,
          -94.71391,
          -94.71391,
          -94.71391,
          -94.71391,
          -94.71391,
          -94.71391,
          -94.71391,
          -94.71391,
          -94.71391,
          -94.71391,
          -94.71391,
          -94.71391,
          -94.71391,
          -94.71391,
          -94.71391,
          -94.71391,
          -94.71391,
          -94.71391,
          -94.71391,
          -94.71391,
          -94.71391,
          -94.71391,
          -94.71391,
          -94.71391,
          -94.71391,
          -94.71391,
          -94.71391,
          -81.31603,
          -81.31603,
          -81.31603,
          -81.31603,
          -81.31603,
          -81.31603,
          -81.31603,
          -81.31603,
          -81.31603,
          -81.31603,
          -81.31603,
          -81.31603,
          -81.31603,
          -81.31603,
          -81.31603,
          -81.31603,
          -81.31603,
          -81.31603,
          -81.31603,
          -81.31603,
          -81.31603,
          -81.31603,
          -81.31603,
          -81.31603,
          -81.31603,
          -81.31603,
          -81.31603,
          -81.31603,
          -81.31603,
          -81.31603,
          -81.31603,
          -81.31603,
          -81.31603,
          -81.31603,
          -81.31603,
          -81.31603,
          -81.31603,
          -81.31603,
          -81.31603,
          -81.31603,
          -81.31603,
          -81.31603,
          -81.31603,
          -81.31603,
          -81.31603,
          -81.31603,
          -87.75242,
          -87.75242,
          -87.75242,
          -87.75242,
          -87.75242,
          -87.75242,
          -87.75242,
          -87.75242,
          -87.75242,
          -87.75242,
          -87.75242,
          -87.75242,
          -87.75242,
          -87.75242,
          -87.75242,
          -87.75242,
          -87.75242,
          -87.75242,
          -87.75242,
          -87.75242,
          -87.75242,
          -87.75242,
          -87.75242,
          -87.75242,
          -87.75242,
          -87.75242,
          -87.75242,
          -87.75242,
          -87.75242,
          -87.75242,
          -87.75242,
          -87.75242,
          -87.75242,
          -87.75242,
          -87.75242,
          -87.75242,
          -87.75242,
          -87.75242,
          -87.75242,
          -87.75242,
          -87.75242,
          -87.75242,
          -87.75242,
          -87.75242,
          -87.75242,
          -87.75242,
          -87.75242,
          -87.75242,
          -87.75242,
          -87.75242,
          -87.75242,
          -87.75242,
          -87.75242,
          -87.75242,
          -87.75242,
          -87.75242,
          -87.75242,
          -87.75242,
          -87.75242,
          -87.75242,
          -87.75242,
          -87.75242,
          -87.75242,
          -87.75242,
          -87.75242,
          -87.75242,
          -87.75242,
          -87.75242,
          -89.97667,
          -89.97667,
          -89.97667,
          -89.97667,
          -89.97667,
          -89.97667,
          -89.97667,
          -71.43706,
          -71.43706,
          -71.43706,
          -71.43706,
          -71.43706,
          -71.43706,
          -71.43706,
          -87.89658,
          -87.89658,
          -87.89658,
          -87.89658,
          -87.89658,
          -87.89658,
          -87.89658,
          -87.89658,
          -87.89658,
          -87.89658,
          -87.89658,
          -87.89658,
          -87.89658,
          -87.89658,
          -87.89658,
          -87.89658,
          -87.89658,
          -87.89658,
          -87.89658,
          -87.89658,
          -87.89658,
          -93.21692,
          -93.21692,
          -93.21692,
          -93.21692,
          -93.21692,
          -93.21692,
          -93.21692,
          -93.21692,
          -93.21692,
          -93.21692,
          -90.25803,
          -90.25803,
          -90.25803,
          -90.25803,
          -90.25803,
          -90.25803,
          -90.25803,
          -90.25803,
          -90.25803,
          -90.25803,
          -90.25803,
          -90.25803,
          -90.25803,
          -90.25803,
          -90.25803,
          -90.25803,
          -90.25803,
          -90.25803,
          -90.25803,
          -90.25803,
          -90.25803,
          -90.25803,
          -122.22072,
          -122.22072,
          -122.22072,
          -122.22072,
          -122.22072,
          -122.22072,
          -122.22072,
          -122.22072,
          -122.22072,
          -122.22072,
          -122.22072,
          -122.22072,
          -122.22072,
          -122.22072,
          -122.22072,
          -122.22072,
          -122.22072,
          -122.22072,
          -122.22072,
          -122.22072,
          -122.22072,
          -122.22072,
          -122.22072,
          -122.22072,
          -97.60073,
          -97.60073,
          -97.60073,
          -97.60073,
          -97.60073,
          -97.60073,
          -97.60073,
          -97.60073,
          -97.60073,
          -97.60073,
          -95.89416999999999,
          -95.89416999999999,
          -95.89416999999999,
          -95.89416999999999,
          -95.89416999999999,
          -95.89416999999999,
          -95.89416999999999,
          -95.89416999999999,
          -117.60118999999999,
          -117.60118999999999,
          -117.60118999999999,
          -117.60118999999999,
          -117.60118999999999,
          -117.60118999999999,
          -117.60118999999999,
          -76.20121999999999,
          -76.20121999999999,
          -76.20121999999999,
          -76.20121999999999,
          -80.09559,
          -80.09559,
          -80.09559,
          -80.09559,
          -80.09559,
          -80.09559,
          -80.09559,
          -80.09559,
          -122.5975,
          -122.5975,
          -122.5975,
          -122.5975,
          -122.5975,
          -122.5975,
          -122.5975,
          -122.5975,
          -122.5975,
          -122.5975,
          -122.5975,
          -122.5975,
          -122.5975,
          -122.5975,
          -122.5975,
          -122.5975,
          -75.24114,
          -75.24114,
          -75.24114,
          -75.24114,
          -75.24114,
          -75.24114,
          -75.24114,
          -75.24114,
          -75.24114,
          -75.24114,
          -75.24114,
          -75.24114,
          -112.00806000000001,
          -112.00806000000001,
          -112.00806000000001,
          -112.00806000000001,
          -112.00806000000001,
          -112.00806000000001,
          -112.00806000000001,
          -112.00806000000001,
          -112.00806000000001,
          -112.00806000000001,
          -112.00806000000001,
          -112.00806000000001,
          -112.00806000000001,
          -112.00806000000001,
          -112.00806000000001,
          -112.00806000000001,
          -112.00806000000001,
          -112.00806000000001,
          -112.00806000000001,
          -112.00806000000001,
          -112.00806000000001,
          -112.00806000000001,
          -112.00806000000001,
          -112.00806000000001,
          -112.00806000000001,
          -112.00806000000001,
          -112.00806000000001,
          -112.00806000000001,
          -112.00806000000001,
          -112.00806000000001,
          -112.00806000000001,
          -112.00806000000001,
          -112.00806000000001,
          -112.00806000000001,
          -112.00806000000001,
          -112.00806000000001,
          -112.00806000000001,
          -112.00806000000001,
          -112.00806000000001,
          -112.00806000000001,
          -112.00806000000001,
          -112.00806000000001,
          -112.00806000000001,
          -112.00806000000001,
          -112.00806000000001,
          -112.00806000000001,
          -112.00806000000001,
          -112.00806000000001,
          -112.00806000000001,
          -112.00806000000001,
          -112.00806000000001,
          -80.23286999999999,
          -80.23286999999999,
          -80.23286999999999,
          -80.23286999999999,
          -80.23286999999999,
          -80.23286999999999,
          -80.23286999999999,
          -80.23286999999999,
          -80.23286999999999,
          -80.23286999999999,
          -80.23286999999999,
          -80.23286999999999,
          -80.23286999999999,
          -80.23286999999999,
          -87.18744000000001,
          -87.18744000000001,
          -87.18744000000001,
          -71.42822,
          -71.42822,
          -71.42822,
          -71.42822,
          -71.42822,
          -71.42822,
          -71.42822,
          -70.30875,
          -70.30875,
          -70.30875,
          -78.78747,
          -78.78747,
          -78.78747,
          -78.78747,
          -78.78747,
          -78.78747,
          -78.78747,
          -78.78747,
          -78.78747,
          -78.78747,
          -78.78747,
          -78.78747,
          -78.78747,
          -77.31967,
          -77.31967,
          -119.76806,
          -119.76806,
          -119.76806,
          -119.76806,
          -119.76806,
          -119.76806,
          -77.67238,
          -77.67238,
          -77.67238,
          -77.67238,
          -81.75516999999999,
          -81.75516999999999,
          -81.75516999999999,
          -81.75516999999999,
          -81.75516999999999,
          -81.75516999999999,
          -81.75516999999999,
          -81.75516999999999,
          -81.75516999999999,
          -81.75516999999999,
          -81.75516999999999,
          -81.75516999999999,
          -81.75516999999999,
          -81.75516999999999,
          -81.75516999999999,
          -81.75516999999999,
          -81.75516999999999,
          -81.75516999999999,
          -81.75516999999999,
          -81.75516999999999,
          -81.75516999999999,
          -81.75516999999999,
          -81.75516999999999,
          -81.75516999999999,
          -117.18966,
          -117.18966,
          -117.18966,
          -117.18966,
          -117.18966,
          -117.18966,
          -117.18966,
          -117.18966,
          -117.18966,
          -117.18966,
          -117.18966,
          -117.18966,
          -117.18966,
          -117.18966,
          -117.18966,
          -117.18966,
          -117.18966,
          -117.18966,
          -117.18966,
          -117.18966,
          -117.18966,
          -117.18966,
          -117.18966,
          -117.18966,
          -117.18966,
          -117.18966,
          -98.46978,
          -98.46978,
          -98.46978,
          -98.46978,
          -98.46978,
          -98.46978,
          -98.46978,
          -98.46978,
          -98.46978,
          -98.46978,
          -98.46978,
          -98.46978,
          -98.46978,
          -98.46978,
          -98.46978,
          -98.46978,
          -85.736,
          -85.736,
          -85.736,
          -85.736,
          -85.736,
          -85.736,
          -85.736,
          -122.30931000000001,
          -122.30931000000001,
          -122.30931000000001,
          -122.30931000000001,
          -122.30931000000001,
          -122.30931000000001,
          -122.30931000000001,
          -122.30931000000001,
          -122.30931000000001,
          -122.30931000000001,
          -122.30931000000001,
          -122.30931000000001,
          -122.30931000000001,
          -122.30931000000001,
          -122.30931000000001,
          -122.30931000000001,
          -122.30931000000001,
          -122.30931000000001,
          -122.30931000000001,
          -122.37483999999999,
          -122.37483999999999,
          -122.37483999999999,
          -122.37483999999999,
          -122.37483999999999,
          -122.37483999999999,
          -122.37483999999999,
          -122.37483999999999,
          -122.37483999999999,
          -122.37483999999999,
          -122.37483999999999,
          -121.92901,
          -121.92901,
          -121.92901,
          -121.92901,
          -121.92901,
          -121.92901,
          -121.92901,
          -121.92901,
          -121.92901,
          -121.92901,
          -121.92901,
          -121.92901,
          -121.92901,
          -66.00183,
          -66.00183,
          -66.00183,
          -66.00183,
          -66.00183,
          -66.00183,
          -111.97776999999999,
          -111.97776999999999,
          -111.97776999999999,
          -111.97776999999999,
          -111.97776999999999,
          -111.97776999999999,
          -111.97776999999999,
          -111.97776999999999,
          -111.97776999999999,
          -121.59076999999999,
          -121.59076999999999,
          -121.59076999999999,
          -121.59076999999999,
          -121.59076999999999,
          -121.59076999999999,
          -121.59076999999999,
          -121.59076999999999,
          -121.59076999999999,
          -121.59076999999999,
          -121.59076999999999,
          -121.59076999999999,
          -117.86822,
          -117.86822,
          -117.86822,
          -117.86822,
          -117.86822,
          -117.86822,
          -117.86822,
          -117.86822,
          -117.86822,
          -117.86822,
          -117.86822,
          -117.86822,
          -117.86822,
          -117.86822,
          -117.86822,
          -90.35999,
          -90.35999,
          -90.35999,
          -90.35999,
          -90.35999,
          -90.35999,
          -90.35999,
          -90.35999,
          -90.35999,
          -90.35999,
          -90.35999,
          -90.35999,
          -90.35999,
          -90.35999,
          -90.35999,
          -90.35999,
          -90.35999,
          -90.35999,
          -90.35999,
          -90.35999,
          -90.35999,
          -90.35999,
          -90.35999,
          -90.35999,
          -90.35999,
          -90.35999,
          -90.35999,
          -90.35999,
          -90.35999,
          -90.35999,
          -90.35999,
          -90.35999,
          -90.35999,
          -90.35999,
          -90.35999,
          -90.35999,
          -90.35999,
          -82.53325,
          -82.53325,
          -82.53325,
          -82.53325,
          -82.53325,
          -82.53325,
          -82.53325,
          -82.53325,
          -82.53325,
          -82.53325,
          -82.53325,
          -82.53325,
          -82.53325,
          -82.53325,
          -82.53325,
          -82.53325,
          -82.53325,
          -82.53325,
          -82.53325,
          -82.53325,
          -82.53325,
          -82.53325,
          -82.53325,
          -82.53325,
          -82.53325,
          -82.53325,
          -82.53325,
          -82.53325,
          -82.53325,
          -82.53325,
          -82.53325,
          -82.53325,
          -82.53325,
          -82.53325,
          -82.53325,
          -82.53325,
          -82.53325,
          -82.53325,
          -82.53325,
          -95.88824,
          -95.88824,
          -95.88824,
          -95.88824,
          -95.88824,
          -95.88824,
          -95.88824,
          -110.94103,
          -110.94103,
          -110.94103,
          -110.94103,
          -110.94103,
          -110.94103
         ],
         "marker": {
          "color": "#FFD700",
          "line": {
           "color": "rgba(102,102,102)",
           "width": 1
          },
          "opacity": 0.8,
          "size": 6
         },
         "mode": "markers",
         "type": "scattergeo"
        },
        {
         "lat": [
          35.04022,
          39.1754
         ],
         "line": {
          "color": "#4682B4",
          "width": 1
         },
         "locationmode": "USA-states",
         "lon": [
          -106.60918999999998,
          -76.6682
         ],
         "mode": "lines",
         "opacity": 0.15240963855421688,
         "text": "From: Albuquerque International Sunport<br>To: Baltimore-Washington International Airport<br>Avg. Delay: 4.57 mins",
         "type": "scattergeo"
        },
        {
         "lat": [
          35.04022,
          32.84711
         ],
         "line": {
          "color": "#4682B4",
          "width": 1
         },
         "locationmode": "USA-states",
         "lon": [
          -106.60918999999998,
          -96.85177
         ],
         "mode": "lines",
         "opacity": 0.33576923076923076,
         "text": "From: Albuquerque International Sunport<br>To: Dallas Love Field<br>Avg. Delay: 10.07 mins",
         "type": "scattergeo"
        },
        {
         "lat": [
          35.04022,
          39.85841
         ],
         "line": {
          "color": "#4682B4",
          "width": 1
         },
         "locationmode": "USA-states",
         "lon": [
          -106.60918999999998,
          -104.667
         ],
         "mode": "lines",
         "opacity": 0.16413867822318526,
         "text": "From: Albuquerque International Sunport<br>To: Denver International Airport<br>Avg. Delay: 4.92 mins",
         "type": "scattergeo"
        },
        {
         "lat": [
          35.04022,
          29.64542
         ],
         "line": {
          "color": "#4682B4",
          "width": 1
         },
         "locationmode": "USA-states",
         "lon": [
          -106.60918999999998,
          -95.27889
         ],
         "mode": "lines",
         "opacity": 0.18462922966162706,
         "text": "From: Albuquerque International Sunport<br>To: William P. Hobby Airport<br>Avg. Delay: 5.53 mins",
         "type": "scattergeo"
        },
        {
         "lat": [
          35.04022,
          36.08036
         ],
         "line": {
          "color": "#4682B4",
          "width": 1
         },
         "locationmode": "USA-states",
         "lon": [
          -106.60918999999998,
          -115.15233
         ],
         "mode": "lines",
         "opacity": 0.13457968708565368,
         "text": "From: Albuquerque International Sunport<br>To: McCarran International Airport<br>Avg. Delay: 4.03 mins",
         "type": "scattergeo"
        },
        {
         "lat": [
          35.04022,
          33.94254
         ],
         "line": {
          "color": "#4682B4",
          "width": 1
         },
         "locationmode": "USA-states",
         "lon": [
          -106.60918999999998,
          -118.40807
         ],
         "mode": "lines",
         "opacity": 0.21077368040491684,
         "text": "From: Albuquerque International Sunport<br>To: Los Angeles International Airport<br>Avg. Delay: 6.32 mins",
         "type": "scattergeo"
        },
        {
         "lat": [
          35.04022,
          39.29761
         ],
         "line": {
          "color": "#4682B4",
          "width": 1
         },
         "locationmode": "USA-states",
         "lon": [
          -106.60918999999998,
          -94.71391
         ],
         "mode": "lines",
         "opacity": 0.15867944621938232,
         "text": "From: Albuquerque International Sunport<br>To: Kansas City International Airport<br>Avg. Delay: 4.76 mins",
         "type": "scattergeo"
        },
        {
         "lat": [
          35.04022,
          28.428890000000003
         ],
         "line": {
          "color": "#4682B4",
          "width": 1
         },
         "locationmode": "USA-states",
         "lon": [
          -106.60918999999998,
          -81.31603
         ],
         "mode": "lines",
         "opacity": 0.15051546391752577,
         "text": "From: Albuquerque International Sunport<br>To: Orlando International Airport<br>Avg. Delay: 4.51 mins",
         "type": "scattergeo"
        },
        {
         "lat": [
          35.04022,
          41.78598
         ],
         "line": {
          "color": "#4682B4",
          "width": 1
         },
         "locationmode": "USA-states",
         "lon": [
          -106.60918999999998,
          -87.75242
         ],
         "mode": "lines",
         "opacity": 0.07744791666666666,
         "text": "From: Albuquerque International Sunport<br>To: Chicago Midway International Airport<br>Avg. Delay: 2.32 mins",
         "type": "scattergeo"
        },
        {
         "lat": [
          35.04022,
          37.72129
         ],
         "line": {
          "color": "#4682B4",
          "width": 1
         },
         "locationmode": "USA-states",
         "lon": [
          -106.60918999999998,
          -122.22072
         ],
         "mode": "lines",
         "opacity": 0.04140395124001681,
         "text": "From: Albuquerque International Sunport<br>To: Oakland International Airport<br>Avg. Delay: 1.24 mins",
         "type": "scattergeo"
        },
        {
         "lat": [
          35.04022,
          45.58872
         ],
         "line": {
          "color": "#4682B4",
          "width": 1
         },
         "locationmode": "USA-states",
         "lon": [
          -106.60918999999998,
          -122.5975
         ],
         "mode": "lines",
         "opacity": 0,
         "text": "From: Albuquerque International Sunport<br>To: Portland International Airport<br>Avg. Delay: -3.12 mins",
         "type": "scattergeo"
        },
        {
         "lat": [
          35.04022,
          33.43417
         ],
         "line": {
          "color": "#4682B4",
          "width": 1
         },
         "locationmode": "USA-states",
         "lon": [
          -106.60918999999998,
          -112.00806000000001
         ],
         "mode": "lines",
         "opacity": 0.3910590277777778,
         "text": "From: Albuquerque International Sunport<br>To: Phoenix Sky Harbor International Airport<br>Avg. Delay: 11.73 mins",
         "type": "scattergeo"
        },
        {
         "lat": [
          35.04022,
          32.73356
         ],
         "line": {
          "color": "#4682B4",
          "width": 1
         },
         "locationmode": "USA-states",
         "lon": [
          -106.60918999999998,
          -117.18966
         ],
         "mode": "lines",
         "opacity": 0.07888707037643208,
         "text": "From: Albuquerque International Sunport<br>To: San Diego International Airport (Lindbergh Field)<br>Avg. Delay: 2.36 mins",
         "type": "scattergeo"
        },
        {
         "lat": [
          35.04022,
          47.44898
         ],
         "line": {
          "color": "#4682B4",
          "width": 1
         },
         "locationmode": "USA-states",
         "lon": [
          -106.60918999999998,
          -122.30931000000001
         ],
         "mode": "lines",
         "opacity": 0.36484018264840185,
         "text": "From: Albuquerque International Sunport<br>To: Seattle-Tacoma International Airport<br>Avg. Delay: 10.94 mins",
         "type": "scattergeo"
        },
        {
         "lat": [
          42.74812,
          39.1754
         ],
         "line": {
          "color": "#4682B4",
          "width": 1
         },
         "locationmode": "USA-states",
         "lon": [
          -73.80298,
          -76.6682
         ],
         "mode": "lines",
         "opacity": 0,
         "text": "From: Albany International Airport<br>To: Baltimore-Washington International Airport<br>Avg. Delay: -2.85 mins",
         "type": "scattergeo"
        },
        {
         "lat": [
          42.74812,
          39.85841
         ],
         "line": {
          "color": "#4682B4",
          "width": 1
         },
         "locationmode": "USA-states",
         "lon": [
          -73.80298,
          -104.667
         ],
         "mode": "lines",
         "opacity": 0.611111111111111,
         "text": "From: Albany International Airport<br>To: Denver International Airport<br>Avg. Delay: 18.33 mins",
         "type": "scattergeo"
        },
        {
         "lat": [
          42.74812,
          26.07258
         ],
         "line": {
          "color": "#4682B4",
          "width": 1
         },
         "locationmode": "USA-states",
         "lon": [
          -73.80298,
          -80.15275
         ],
         "mode": "lines",
         "opacity": 0,
         "text": "From: Albany International Airport<br>To: Fort Lauderdale-Hollywood International Airport<br>Avg. Delay: -3.86 mins",
         "type": "scattergeo"
        },
        {
         "lat": [
          42.74812,
          36.08036
         ],
         "line": {
          "color": "#4682B4",
          "width": 1
         },
         "locationmode": "USA-states",
         "lon": [
          -73.80298,
          -115.15233
         ],
         "mode": "lines",
         "opacity": 0,
         "text": "From: Albany International Airport<br>To: McCarran International Airport<br>Avg. Delay: -3.71 mins",
         "type": "scattergeo"
        },
        {
         "lat": [
          42.74812,
          28.428890000000003
         ],
         "line": {
          "color": "#4682B4",
          "width": 1
         },
         "locationmode": "USA-states",
         "lon": [
          -73.80298,
          -81.31603
         ],
         "mode": "lines",
         "opacity": 0,
         "text": "From: Albany International Airport<br>To: Orlando International Airport<br>Avg. Delay: -4.1 mins",
         "type": "scattergeo"
        },
        {
         "lat": [
          42.74812,
          41.78598
         ],
         "line": {
          "color": "#4682B4",
          "width": 1
         },
         "locationmode": "USA-states",
         "lon": [
          -73.80298,
          -87.75242
         ],
         "mode": "lines",
         "opacity": 0,
         "text": "From: Albany International Airport<br>To: Chicago Midway International Airport<br>Avg. Delay: -0.54 mins",
         "type": "scattergeo"
        },
        {
         "lat": [
          42.74812,
          26.536170000000002
         ],
         "line": {
          "color": "#4682B4",
          "width": 1
         },
         "locationmode": "USA-states",
         "lon": [
          -73.80298,
          -81.75516999999999
         ],
         "mode": "lines",
         "opacity": 0.05333333333333334,
         "text": "From: Albany International Airport<br>To: Southwest Florida International Airport<br>Avg. Delay: 1.6 mins",
         "type": "scattergeo"
        },
        {
         "lat": [
          42.74812,
          27.97547
         ],
         "line": {
          "color": "#4682B4",
          "width": 1
         },
         "locationmode": "USA-states",
         "lon": [
          -73.80298,
          -82.53325
         ],
         "mode": "lines",
         "opacity": 0,
         "text": "From: Albany International Airport<br>To: Tampa International Airport<br>Avg. Delay: -10.65 mins",
         "type": "scattergeo"
        },
        {
         "lat": [
          35.21937,
          32.84711
         ],
         "line": {
          "color": "#4682B4",
          "width": 1
         },
         "locationmode": "USA-states",
         "lon": [
          -101.70593000000001,
          -96.85177
         ],
         "mode": "lines",
         "opacity": 0.19591379792891128,
         "text": "From: Rick Husband Amarillo International Airport<br>To: Dallas Love Field<br>Avg. Delay: 5.87 mins",
         "type": "scattergeo"
        },
        {
         "lat": [
          35.21937,
          36.08036
         ],
         "line": {
          "color": "#4682B4",
          "width": 1
         },
         "locationmode": "USA-states",
         "lon": [
          -101.70593000000001,
          -115.15233
         ],
         "mode": "lines",
         "opacity": 0,
         "text": "From: Rick Husband Amarillo International Airport<br>To: McCarran International Airport<br>Avg. Delay: -3.18 mins",
         "type": "scattergeo"
        },
        {
         "lat": [
          33.640440000000005,
          30.19453
         ],
         "line": {
          "color": "#4682B4",
          "width": 1
         },
         "locationmode": "USA-states",
         "lon": [
          -84.42694,
          -97.66986999999999
         ],
         "mode": "lines",
         "opacity": 0.19994807892004154,
         "text": "From: Hartsfield-Jackson Atlanta International Airport<br>To: Austin-Bergstrom International Airport<br>Avg. Delay: 5.99 mins",
         "type": "scattergeo"
        },
        {
         "lat": [
          33.640440000000005,
          41.93887
         ],
         "line": {
          "color": "#4682B4",
          "width": 1
         },
         "locationmode": "USA-states",
         "lon": [
          -84.42694,
          -72.68323000000001
         ],
         "mode": "lines",
         "opacity": 0.06872659176029963,
         "text": "From: Hartsfield-Jackson Atlanta International Airport<br>To: Bradley International Airport<br>Avg. Delay: 2.06 mins",
         "type": "scattergeo"
        },
        {
         "lat": [
          33.640440000000005,
          42.36435
         ],
         "line": {
          "color": "#4682B4",
          "width": 1
         },
         "locationmode": "USA-states",
         "lon": [
          -84.42694,
          -71.00518000000001
         ],
         "mode": "lines",
         "opacity": 0.21356589147286822,
         "text": "From: Hartsfield-Jackson Atlanta International Airport<br>To: Gen. Edward Lawrence Logan International Airport<br>Avg. Delay: 6.4 mins",
         "type": "scattergeo"
        },
        {
         "lat": [
          33.640440000000005,
          39.1754
         ],
         "line": {
          "color": "#4682B4",
          "width": 1
         },
         "locationmode": "USA-states",
         "lon": [
          -84.42694,
          -76.6682
         ],
         "mode": "lines",
         "opacity": 0.16761147024697498,
         "text": "From: Hartsfield-Jackson Atlanta International Airport<br>To: Baltimore-Washington International Airport<br>Avg. Delay: 5.02 mins",
         "type": "scattergeo"
        },
        {
         "lat": [
          33.640440000000005,
          40.916309999999996
         ],
         "line": {
          "color": "#4682B4",
          "width": 1
         },
         "locationmode": "USA-states",
         "lon": [
          -84.42694,
          -81.44247
         ],
         "mode": "lines",
         "opacity": 0.05382678751258811,
         "text": "From: Hartsfield-Jackson Atlanta International Airport<br>To: Akron-Canton Regional Airport<br>Avg. Delay: 1.61 mins",
         "type": "scattergeo"
        },
        {
         "lat": [
          33.640440000000005,
          39.99799
         ],
         "line": {
          "color": "#4682B4",
          "width": 1
         },
         "locationmode": "USA-states",
         "lon": [
          -84.42694,
          -82.89188
         ],
         "mode": "lines",
         "opacity": 0.08898186889818689,
         "text": "From: Hartsfield-Jackson Atlanta International Airport<br>To: Port Columbus International Airport<br>Avg. Delay: 2.66 mins",
         "type": "scattergeo"
        },
        {
         "lat": [
          33.640440000000005,
          32.84711
         ],
         "line": {
          "color": "#4682B4",
          "width": 1
         },
         "locationmode": "USA-states",
         "lon": [
          -84.42694,
          -96.85177
         ],
         "mode": "lines",
         "opacity": 0.012121212121212121,
         "text": "From: Hartsfield-Jackson Atlanta International Airport<br>To: Dallas Love Field<br>Avg. Delay: 0.36 mins",
         "type": "scattergeo"
        },
        {
         "lat": [
          33.640440000000005,
          38.85208
         ],
         "line": {
          "color": "#4682B4",
          "width": 1
         },
         "locationmode": "USA-states",
         "lon": [
          -84.42694,
          -77.03772
         ],
         "mode": "lines",
         "opacity": 0.1629125861443598,
         "text": "From: Hartsfield-Jackson Atlanta International Airport<br>To: Ronald Reagan Washington National Airport<br>Avg. Delay: 4.88 mins",
         "type": "scattergeo"
        },
        {
         "lat": [
          33.640440000000005,
          39.85841
         ],
         "line": {
          "color": "#4682B4",
          "width": 1
         },
         "locationmode": "USA-states",
         "lon": [
          -84.42694,
          -104.667
         ],
         "mode": "lines",
         "opacity": 0,
         "text": "From: Hartsfield-Jackson Atlanta International Airport<br>To: Denver International Airport<br>Avg. Delay: -0.3 mins",
         "type": "scattergeo"
        },
        {
         "lat": [
          33.640440000000005,
          42.21206
         ],
         "line": {
          "color": "#4682B4",
          "width": 1
         },
         "locationmode": "USA-states",
         "lon": [
          -84.42694,
          -83.34884
         ],
         "mode": "lines",
         "opacity": 0.10781466113416321,
         "text": "From: Hartsfield-Jackson Atlanta International Airport<br>To: Detroit Metropolitan Airport<br>Avg. Delay: 3.23 mins",
         "type": "scattergeo"
        },
        {
         "lat": [
          33.640440000000005,
          26.07258
         ],
         "line": {
          "color": "#4682B4",
          "width": 1
         },
         "locationmode": "USA-states",
         "lon": [
          -84.42694,
          -80.15275
         ],
         "mode": "lines",
         "opacity": 0.20429003021148034,
         "text": "From: Hartsfield-Jackson Atlanta International Airport<br>To: Fort Lauderdale-Hollywood International Airport<br>Avg. Delay: 6.12 mins",
         "type": "scattergeo"
        },
        {
         "lat": [
          33.640440000000005,
          29.64542
         ],
         "line": {
          "color": "#4682B4",
          "width": 1
         },
         "locationmode": "USA-states",
         "lon": [
          -84.42694,
          -95.27889
         ],
         "mode": "lines",
         "opacity": 0.13628177966101696,
         "text": "From: Hartsfield-Jackson Atlanta International Airport<br>To: William P. Hobby Airport<br>Avg. Delay: 4.08 mins",
         "type": "scattergeo"
        },
        {
         "lat": [
          33.640440000000005,
          39.71733
         ],
         "line": {
          "color": "#4682B4",
          "width": 1
         },
         "locationmode": "USA-states",
         "lon": [
          -84.42694,
          -86.29438
         ],
         "mode": "lines",
         "opacity": 0.17694415895854745,
         "text": "From: Hartsfield-Jackson Atlanta International Airport<br>To: Indianapolis International Airport<br>Avg. Delay: 5.3 mins",
         "type": "scattergeo"
        },
        {
         "lat": [
          33.640440000000005,
          30.494059999999998
         ],
         "line": {
          "color": "#4682B4",
          "width": 1
         },
         "locationmode": "USA-states",
         "lon": [
          -84.42694,
          -81.68786
         ],
         "mode": "lines",
         "opacity": 0.14534812076401726,
         "text": "From: Hartsfield-Jackson Atlanta International Airport<br>To: Jacksonville International Airport<br>Avg. Delay: 4.36 mins",
         "type": "scattergeo"
        },
        {
         "lat": [
          33.640440000000005,
          36.08036
         ],
         "line": {
          "color": "#4682B4",
          "width": 1
         },
         "locationmode": "USA-states",
         "lon": [
          -84.42694,
          -115.15233
         ],
         "mode": "lines",
         "opacity": 0,
         "text": "From: Hartsfield-Jackson Atlanta International Airport<br>To: McCarran International Airport<br>Avg. Delay: -1.26 mins",
         "type": "scattergeo"
        },
        {
         "lat": [
          33.640440000000005,
          33.94254
         ],
         "line": {
          "color": "#4682B4",
          "width": 1
         },
         "locationmode": "USA-states",
         "lon": [
          -84.42694,
          -118.40807
         ],
         "mode": "lines",
         "opacity": 0.1055497745404093,
         "text": "From: Hartsfield-Jackson Atlanta International Airport<br>To: Los Angeles International Airport<br>Avg. Delay: 3.16 mins",
         "type": "scattergeo"
        },
        {
         "lat": [
          33.640440000000005,
          40.77724
         ],
         "line": {
          "color": "#4682B4",
          "width": 1
         },
         "locationmode": "USA-states",
         "lon": [
          -84.42694,
          -73.87261
         ],
         "mode": "lines",
         "opacity": 0.26192283364958885,
         "text": "From: Hartsfield-Jackson Atlanta International Airport<br>To: LaGuardia Airport (Marine Air Terminal)<br>Avg. Delay: 7.85 mins",
         "type": "scattergeo"
        },
        {
         "lat": [
          33.640440000000005,
          39.29761
         ],
         "line": {
          "color": "#4682B4",
          "width": 1
         },
         "locationmode": "USA-states",
         "lon": [
          -84.42694,
          -94.71391
         ],
         "mode": "lines",
         "opacity": 0.20783475783475783,
         "text": "From: Hartsfield-Jackson Atlanta International Airport<br>To: Kansas City International Airport<br>Avg. Delay: 6.23 mins",
         "type": "scattergeo"
        },
        {
         "lat": [
          33.640440000000005,
          28.428890000000003
         ],
         "line": {
          "color": "#4682B4",
          "width": 1
         },
         "locationmode": "USA-states",
         "lon": [
          -84.42694,
          -81.31603
         ],
         "mode": "lines",
         "opacity": 0.20273364820380707,
         "text": "From: Hartsfield-Jackson Atlanta International Airport<br>To: Orlando International Airport<br>Avg. Delay: 6.08 mins",
         "type": "scattergeo"
        },
        {
         "lat": [
          33.640440000000005,
          41.78598
         ],
         "line": {
          "color": "#4682B4",
          "width": 1
         },
         "locationmode": "USA-states",
         "lon": [
          -84.42694,
          -87.75242
         ],
         "mode": "lines",
         "opacity": 0.17884972170686456,
         "text": "From: Hartsfield-Jackson Atlanta International Airport<br>To: Chicago Midway International Airport<br>Avg. Delay: 5.36 mins",
         "type": "scattergeo"
        },
        {
         "lat": [
          33.640440000000005,
          42.94722
         ],
         "line": {
          "color": "#4682B4",
          "width": 1
         },
         "locationmode": "USA-states",
         "lon": [
          -84.42694,
          -87.89658
         ],
         "mode": "lines",
         "opacity": 0.13361945636623748,
         "text": "From: Hartsfield-Jackson Atlanta International Airport<br>To: General Mitchell International Airport<br>Avg. Delay: 4.0 mins",
         "type": "scattergeo"
        },
        {
         "lat": [
          33.640440000000005,
          44.88055
         ],
         "line": {
          "color": "#4682B4",
          "width": 1
         },
         "locationmode": "USA-states",
         "lon": [
          -84.42694,
          -93.21692
         ],
         "mode": "lines",
         "opacity": 0,
         "text": "From: Hartsfield-Jackson Atlanta International Airport<br>To: Minneapolis-Saint Paul International Airport<br>Avg. Delay: -0.53 mins",
         "type": "scattergeo"
        },
        {
         "lat": [
          33.640440000000005,
          29.99339
         ],
         "line": {
          "color": "#4682B4",
          "width": 1
         },
         "locationmode": "USA-states",
         "lon": [
          -84.42694,
          -90.25803
         ],
         "mode": "lines",
         "opacity": 0.12221269296740994,
         "text": "From: Hartsfield-Jackson Atlanta International Airport<br>To: Louis Armstrong New Orleans International Airport<br>Avg. Delay: 3.66 mins",
         "type": "scattergeo"
        },
        {
         "lat": [
          33.640440000000005,
          37.72129
         ],
         "line": {
          "color": "#4682B4",
          "width": 1
         },
         "locationmode": "USA-states",
         "lon": [
          -84.42694,
          -122.22072
         ],
         "mode": "lines",
         "opacity": 0,
         "text": "From: Hartsfield-Jackson Atlanta International Airport<br>To: Oakland International Airport<br>Avg. Delay: -7.59 mins",
         "type": "scattergeo"
        },
        {
         "lat": [
          33.640440000000005,
          35.39309
         ],
         "line": {
          "color": "#4682B4",
          "width": 1
         },
         "locationmode": "USA-states",
         "lon": [
          -84.42694,
          -97.60073
         ],
         "mode": "lines",
         "opacity": 0.2997942386831276,
         "text": "From: Hartsfield-Jackson Atlanta International Airport<br>To: Will Rogers World Airport<br>Avg. Delay: 8.99 mins",
         "type": "scattergeo"
        },
        {
         "lat": [
          33.640440000000005,
          26.683159999999997
         ],
         "line": {
          "color": "#4682B4",
          "width": 1
         },
         "locationmode": "USA-states",
         "lon": [
          -84.42694,
          -80.09559
         ],
         "mode": "lines",
         "opacity": 0.2805513784461153,
         "text": "From: Hartsfield-Jackson Atlanta International Airport<br>To: Palm Beach International Airport<br>Avg. Delay: 8.41 mins",
         "type": "scattergeo"
        },
        {
         "lat": [
          33.640440000000005,
          39.87195
         ],
         "line": {
          "color": "#4682B4",
          "width": 1
         },
         "locationmode": "USA-states",
         "lon": [
          -84.42694,
          -75.24114
         ],
         "mode": "lines",
         "opacity": 0.18880675818373813,
         "text": "From: Hartsfield-Jackson Atlanta International Airport<br>To: Philadelphia International Airport<br>Avg. Delay: 5.66 mins",
         "type": "scattergeo"
        },
        {
         "lat": [
          33.640440000000005,
          33.43417
         ],
         "line": {
          "color": "#4682B4",
          "width": 1
         },
         "locationmode": "USA-states",
         "lon": [
          -84.42694,
          -112.00806000000001
         ],
         "mode": "lines",
         "opacity": 0,
         "text": "From: Hartsfield-Jackson Atlanta International Airport<br>To: Phoenix Sky Harbor International Airport<br>Avg. Delay: -4.58 mins",
         "type": "scattergeo"
        },
        {
         "lat": [
          33.640440000000005,
          40.49147
         ],
         "line": {
          "color": "#4682B4",
          "width": 1
         },
         "locationmode": "USA-states",
         "lon": [
          -84.42694,
          -80.23286999999999
         ],
         "mode": "lines",
         "opacity": 0.22915407854984896,
         "text": "From: Hartsfield-Jackson Atlanta International Airport<br>To: Pittsburgh International Airport<br>Avg. Delay: 6.87 mins",
         "type": "scattergeo"
        },
        {
         "lat": [
          33.640440000000005,
          35.87764
         ],
         "line": {
          "color": "#4682B4",
          "width": 1
         },
         "locationmode": "USA-states",
         "lon": [
          -84.42694,
          -78.78747
         ],
         "mode": "lines",
         "opacity": 0.13364845938375353,
         "text": "From: Hartsfield-Jackson Atlanta International Airport<br>To: Raleigh-Durham International Airport<br>Avg. Delay: 4.0 mins",
         "type": "scattergeo"
        },
        {
         "lat": [
          33.640440000000005,
          37.50517
         ],
         "line": {
          "color": "#4682B4",
          "width": 1
         },
         "locationmode": "USA-states",
         "lon": [
          -84.42694,
          -77.31967
         ],
         "mode": "lines",
         "opacity": 0.1346074380165289,
         "text": "From: Hartsfield-Jackson Atlanta International Airport<br>To: Richmond International Airport<br>Avg. Delay: 4.03 mins",
         "type": "scattergeo"
        },
        {
         "lat": [
          33.640440000000005,
          26.536170000000002
         ],
         "line": {
          "color": "#4682B4",
          "width": 1
         },
         "locationmode": "USA-states",
         "lon": [
          -84.42694,
          -81.75516999999999
         ],
         "mode": "lines",
         "opacity": 0.1568888888888889,
         "text": "From: Hartsfield-Jackson Atlanta International Airport<br>To: Southwest Florida International Airport<br>Avg. Delay: 4.7 mins",
         "type": "scattergeo"
        },
        {
         "lat": [
          33.640440000000005,
          32.73356
         ],
         "line": {
          "color": "#4682B4",
          "width": 1
         },
         "locationmode": "USA-states",
         "lon": [
          -84.42694,
          -117.18966
         ],
         "mode": "lines",
         "opacity": 0,
         "text": "From: Hartsfield-Jackson Atlanta International Airport<br>To: San Diego International Airport (Lindbergh Field)<br>Avg. Delay: -1.72 mins",
         "type": "scattergeo"
        },
        {
         "lat": [
          33.640440000000005,
          29.533690000000004
         ],
         "line": {
          "color": "#4682B4",
          "width": 1
         },
         "locationmode": "USA-states",
         "lon": [
          -84.42694,
          -98.46978
         ],
         "mode": "lines",
         "opacity": 0.20947148090005233,
         "text": "From: Hartsfield-Jackson Atlanta International Airport<br>To: San Antonio International Airport<br>Avg. Delay: 6.28 mins",
         "type": "scattergeo"
        },
        {
         "lat": [
          33.640440000000005,
          47.44898
         ],
         "line": {
          "color": "#4682B4",
          "width": 1
         },
         "locationmode": "USA-states",
         "lon": [
          -84.42694,
          -122.30931000000001
         ],
         "mode": "lines",
         "opacity": 0.008994708994708995,
         "text": "From: Hartsfield-Jackson Atlanta International Airport<br>To: Seattle-Tacoma International Airport<br>Avg. Delay: 0.26 mins",
         "type": "scattergeo"
        },
        {
         "lat": [
          33.640440000000005,
          37.619
         ],
         "line": {
          "color": "#4682B4",
          "width": 1
         },
         "locationmode": "USA-states",
         "lon": [
          -84.42694,
          -122.37483999999999
         ],
         "mode": "lines",
         "opacity": 0,
         "text": "From: Hartsfield-Jackson Atlanta International Airport<br>To: San Francisco International Airport<br>Avg. Delay: -7.42 mins",
         "type": "scattergeo"
        },
        {
         "lat": [
          33.640440000000005,
          18.439420000000002
         ],
         "line": {
          "color": "#4682B4",
          "width": 1
         },
         "locationmode": "USA-states",
         "lon": [
          -84.42694,
          -66.00183
         ],
         "mode": "lines",
         "opacity": 0.16205128205128203,
         "text": "From: Hartsfield-Jackson Atlanta International Airport<br>To: Luis Muñoz Marín International Airport<br>Avg. Delay: 4.86 mins",
         "type": "scattergeo"
        },
        {
         "lat": [
          33.640440000000005,
          38.747690000000006
         ],
         "line": {
          "color": "#4682B4",
          "width": 1
         },
         "locationmode": "USA-states",
         "lon": [
          -84.42694,
          -90.35999
         ],
         "mode": "lines",
         "opacity": 0.17707697524584604,
         "text": "From: Hartsfield-Jackson Atlanta International Airport<br>To: St. Louis International Airport at Lambert Field<br>Avg. Delay: 5.31 mins",
         "type": "scattergeo"
        },
        {
         "lat": [
          33.640440000000005,
          27.97547
         ],
         "line": {
          "color": "#4682B4",
          "width": 1
         },
         "locationmode": "USA-states",
         "lon": [
          -84.42694,
          -82.53325
         ],
         "mode": "lines",
         "opacity": 0.2763694779116466,
         "text": "From: Hartsfield-Jackson Atlanta International Airport<br>To: Tampa International Airport<br>Avg. Delay: 8.29 mins",
         "type": "scattergeo"
        },
        {
         "lat": [
          30.19453,
          33.640440000000005
         ],
         "line": {
          "color": "#4682B4",
          "width": 1
         },
         "locationmode": "USA-states",
         "lon": [
          -97.66986999999999,
          -84.42694
         ],
         "mode": "lines",
         "opacity": 0.1844135802469136,
         "text": "From: Austin-Bergstrom International Airport<br>To: Hartsfield-Jackson Atlanta International Airport<br>Avg. Delay: 5.53 mins",
         "type": "scattergeo"
        },
        {
         "lat": [
          30.19453,
          36.12448
         ],
         "line": {
          "color": "#4682B4",
          "width": 1
         },
         "locationmode": "USA-states",
         "lon": [
          -97.66986999999999,
          -86.67818
         ],
         "mode": "lines",
         "opacity": 0.06881028938906751,
         "text": "From: Austin-Bergstrom International Airport<br>To: Nashville International Airport<br>Avg. Delay: 2.06 mins",
         "type": "scattergeo"
        },
        {
         "lat": [
          30.19453,
          42.36435
         ],
         "line": {
          "color": "#4682B4",
          "width": 1
         },
         "locationmode": "USA-states",
         "lon": [
          -97.66986999999999,
          -71.00518000000001
         ],
         "mode": "lines",
         "opacity": 0.5955555555555556,
         "text": "From: Austin-Bergstrom International Airport<br>To: Gen. Edward Lawrence Logan International Airport<br>Avg. Delay: 17.86 mins",
         "type": "scattergeo"
        },
        {
         "lat": [
          30.19453,
          39.1754
         ],
         "line": {
          "color": "#4682B4",
          "width": 1
         },
         "locationmode": "USA-states",
         "lon": [
          -97.66986999999999,
          -76.6682
         ],
         "mode": "lines",
         "opacity": 0.12814814814814815,
         "text": "From: Austin-Bergstrom International Airport<br>To: Baltimore-Washington International Airport<br>Avg. Delay: 3.84 mins",
         "type": "scattergeo"
        },
        {
         "lat": [
          30.19453,
          32.84711
         ],
         "line": {
          "color": "#4682B4",
          "width": 1
         },
         "locationmode": "USA-states",
         "lon": [
          -97.66986999999999,
          -96.85177
         ],
         "mode": "lines",
         "opacity": 0.272543258243552,
         "text": "From: Austin-Bergstrom International Airport<br>To: Dallas Love Field<br>Avg. Delay: 8.17 mins",
         "type": "scattergeo"
        },
        {
         "lat": [
          30.19453,
          38.85208
         ],
         "line": {
          "color": "#4682B4",
          "width": 1
         },
         "locationmode": "USA-states",
         "lon": [
          -97.66986999999999,
          -77.03772
         ],
         "mode": "lines",
         "opacity": 0,
         "text": "From: Austin-Bergstrom International Airport<br>To: Ronald Reagan Washington National Airport<br>Avg. Delay: -2.82 mins",
         "type": "scattergeo"
        },
        {
         "lat": [
          30.19453,
          39.85841
         ],
         "line": {
          "color": "#4682B4",
          "width": 1
         },
         "locationmode": "USA-states",
         "lon": [
          -97.66986999999999,
          -104.667
         ],
         "mode": "lines",
         "opacity": 0.07785087719298246,
         "text": "From: Austin-Bergstrom International Airport<br>To: Denver International Airport<br>Avg. Delay: 2.33 mins",
         "type": "scattergeo"
        },
        {
         "lat": [
          30.19453,
          31.80667
         ],
         "line": {
          "color": "#4682B4",
          "width": 1
         },
         "locationmode": "USA-states",
         "lon": [
          -97.66986999999999,
          -106.37781000000001
         ],
         "mode": "lines",
         "opacity": 0.14885525805199845,
         "text": "From: Austin-Bergstrom International Airport<br>To: El Paso International Airport<br>Avg. Delay: 4.46 mins",
         "type": "scattergeo"
        },
        {
         "lat": [
          30.19453,
          40.6925
         ],
         "line": {
          "color": "#4682B4",
          "width": 1
         },
         "locationmode": "USA-states",
         "lon": [
          -97.66986999999999,
          -74.16866
         ],
         "mode": "lines",
         "opacity": 0.1634703196347032,
         "text": "From: Austin-Bergstrom International Airport<br>To: Newark Liberty International Airport<br>Avg. Delay: 4.9 mins",
         "type": "scattergeo"
        },
        {
         "lat": [
          30.19453,
          26.07258
         ],
         "line": {
          "color": "#4682B4",
          "width": 1
         },
         "locationmode": "USA-states",
         "lon": [
          -97.66986999999999,
          -80.15275
         ],
         "mode": "lines",
         "opacity": 0.27805243445692884,
         "text": "From: Austin-Bergstrom International Airport<br>To: Fort Lauderdale-Hollywood International Airport<br>Avg. Delay: 8.34 mins",
         "type": "scattergeo"
        },
        {
         "lat": [
          30.19453,
          29.64542
         ],
         "line": {
          "color": "#4682B4",
          "width": 1
         },
         "locationmode": "USA-states",
         "lon": [
          -97.66986999999999,
          -95.27889
         ],
         "mode": "lines",
         "opacity": 0.23745173745173745,
         "text": "From: Austin-Bergstrom International Airport<br>To: William P. Hobby Airport<br>Avg. Delay: 7.12 mins",
         "type": "scattergeo"
        },
        {
         "lat": [
          30.19453,
          26.228509999999996
         ],
         "line": {
          "color": "#4682B4",
          "width": 1
         },
         "locationmode": "USA-states",
         "lon": [
          -97.66986999999999,
          -97.65439
         ],
         "mode": "lines",
         "opacity": 0.2173416407061267,
         "text": "From: Austin-Bergstrom International Airport<br>To: Valley International Airport<br>Avg. Delay: 6.52 mins",
         "type": "scattergeo"
        },
        {
         "lat": [
          30.19453,
          36.08036
         ],
         "line": {
          "color": "#4682B4",
          "width": 1
         },
         "locationmode": "USA-states",
         "lon": [
          -97.66986999999999,
          -115.15233
         ],
         "mode": "lines",
         "opacity": 0,
         "text": "From: Austin-Bergstrom International Airport<br>To: McCarran International Airport<br>Avg. Delay: -0.12 mins",
         "type": "scattergeo"
        },
        {
         "lat": [
          30.19453,
          33.94254
         ],
         "line": {
          "color": "#4682B4",
          "width": 1
         },
         "locationmode": "USA-states",
         "lon": [
          -97.66986999999999,
          -118.40807
         ],
         "mode": "lines",
         "opacity": 0.1341839447102605,
         "text": "From: Austin-Bergstrom International Airport<br>To: Los Angeles International Airport<br>Avg. Delay: 4.02 mins",
         "type": "scattergeo"
        },
        {
         "lat": [
          30.19453,
          33.66364
         ],
         "line": {
          "color": "#4682B4",
          "width": 1
         },
         "locationmode": "USA-states",
         "lon": [
          -97.66986999999999,
          -101.82278000000001
         ],
         "mode": "lines",
         "opacity": 0.2285101822079314,
         "text": "From: Austin-Bergstrom International Airport<br>To: Lubbock Preston Smith International Airport<br>Avg. Delay: 6.85 mins",
         "type": "scattergeo"
        },
        {
         "lat": [
          30.19453,
          28.428890000000003
         ],
         "line": {
          "color": "#4682B4",
          "width": 1
         },
         "locationmode": "USA-states",
         "lon": [
          -97.66986999999999,
          -81.31603
         ],
         "mode": "lines",
         "opacity": 0.3088314485729671,
         "text": "From: Austin-Bergstrom International Airport<br>To: Orlando International Airport<br>Avg. Delay: 9.26 mins",
         "type": "scattergeo"
        },
        {
         "lat": [
          30.19453,
          41.78598
         ],
         "line": {
          "color": "#4682B4",
          "width": 1
         },
         "locationmode": "USA-states",
         "lon": [
          -97.66986999999999,
          -87.75242
         ],
         "mode": "lines",
         "opacity": 0.15521924718665117,
         "text": "From: Austin-Bergstrom International Airport<br>To: Chicago Midway International Airport<br>Avg. Delay: 4.65 mins",
         "type": "scattergeo"
        },
        {
         "lat": [
          30.19453,
          35.04242
         ],
         "line": {
          "color": "#4682B4",
          "width": 1
         },
         "locationmode": "USA-states",
         "lon": [
          -97.66986999999999,
          -89.97667
         ],
         "mode": "lines",
         "opacity": 0.25833333333333336,
         "text": "From: Austin-Bergstrom International Airport<br>To: Memphis International Airport<br>Avg. Delay: 7.75 mins",
         "type": "scattergeo"
        },
        {
         "lat": [
          30.19453,
          29.99339
         ],
         "line": {
          "color": "#4682B4",
          "width": 1
         },
         "locationmode": "USA-states",
         "lon": [
          -97.66986999999999,
          -90.25803
         ],
         "mode": "lines",
         "opacity": 0.13126843657817108,
         "text": "From: Austin-Bergstrom International Airport<br>To: Louis Armstrong New Orleans International Airport<br>Avg. Delay: 3.93 mins",
         "type": "scattergeo"
        },
        {
         "lat": [
          30.19453,
          37.72129
         ],
         "line": {
          "color": "#4682B4",
          "width": 1
         },
         "locationmode": "USA-states",
         "lon": [
          -97.66986999999999,
          -122.22072
         ],
         "mode": "lines",
         "opacity": 0.20688622754491018,
         "text": "From: Austin-Bergstrom International Airport<br>To: Oakland International Airport<br>Avg. Delay: 6.2 mins",
         "type": "scattergeo"
        },
        {
         "lat": [
          30.19453,
          45.58872
         ],
         "line": {
          "color": "#4682B4",
          "width": 1
         },
         "locationmode": "USA-states",
         "lon": [
          -97.66986999999999,
          -122.5975
         ],
         "mode": "lines",
         "opacity": 0.2134920634920635,
         "text": "From: Austin-Bergstrom International Airport<br>To: Portland International Airport<br>Avg. Delay: 6.4 mins",
         "type": "scattergeo"
        },
        {
         "lat": [
          30.19453,
          33.43417
         ],
         "line": {
          "color": "#4682B4",
          "width": 1
         },
         "locationmode": "USA-states",
         "lon": [
          -97.66986999999999,
          -112.00806000000001
         ],
         "mode": "lines",
         "opacity": 0.09541160593792172,
         "text": "From: Austin-Bergstrom International Airport<br>To: Phoenix Sky Harbor International Airport<br>Avg. Delay: 2.86 mins",
         "type": "scattergeo"
        },
        {
         "lat": [
          30.19453,
          32.73356
         ],
         "line": {
          "color": "#4682B4",
          "width": 1
         },
         "locationmode": "USA-states",
         "lon": [
          -97.66986999999999,
          -117.18966
         ],
         "mode": "lines",
         "opacity": 0.053119999999999994,
         "text": "From: Austin-Bergstrom International Airport<br>To: San Diego International Airport (Lindbergh Field)<br>Avg. Delay: 1.59 mins",
         "type": "scattergeo"
        },
        {
         "lat": [
          30.19453,
          47.44898
         ],
         "line": {
          "color": "#4682B4",
          "width": 1
         },
         "locationmode": "USA-states",
         "lon": [
          -97.66986999999999,
          -122.30931000000001
         ],
         "mode": "lines",
         "opacity": 0.07853107344632768,
         "text": "From: Austin-Bergstrom International Airport<br>To: Seattle-Tacoma International Airport<br>Avg. Delay: 2.35 mins",
         "type": "scattergeo"
        },
        {
         "lat": [
          30.19453,
          37.36186
         ],
         "line": {
          "color": "#4682B4",
          "width": 1
         },
         "locationmode": "USA-states",
         "lon": [
          -97.66986999999999,
          -121.92901
         ],
         "mode": "lines",
         "opacity": 0,
         "text": "From: Austin-Bergstrom International Airport<br>To: Norman Y. Mineta San José International Airport<br>Avg. Delay: -1.87 mins",
         "type": "scattergeo"
        },
        {
         "lat": [
          30.19453,
          33.67566
         ],
         "line": {
          "color": "#4682B4",
          "width": 1
         },
         "locationmode": "USA-states",
         "lon": [
          -97.66986999999999,
          -117.86822
         ],
         "mode": "lines",
         "opacity": 0,
         "text": "From: Austin-Bergstrom International Airport<br>To: John Wayne Airport (Orange County Airport)<br>Avg. Delay: -2.56 mins",
         "type": "scattergeo"
        },
        {
         "lat": [
          30.19453,
          38.747690000000006
         ],
         "line": {
          "color": "#4682B4",
          "width": 1
         },
         "locationmode": "USA-states",
         "lon": [
          -97.66986999999999,
          -90.35999
         ],
         "mode": "lines",
         "opacity": 0.006410256410256411,
         "text": "From: Austin-Bergstrom International Airport<br>To: St. Louis International Airport at Lambert Field<br>Avg. Delay: 0.19 mins",
         "type": "scattergeo"
        },
        {
         "lat": [
          30.19453,
          27.97547
         ],
         "line": {
          "color": "#4682B4",
          "width": 1
         },
         "locationmode": "USA-states",
         "lon": [
          -97.66986999999999,
          -82.53325
         ],
         "mode": "lines",
         "opacity": 0.32093253968253965,
         "text": "From: Austin-Bergstrom International Airport<br>To: Tampa International Airport<br>Avg. Delay: 9.62 mins",
         "type": "scattergeo"
        },
        {
         "lat": [
          41.93887,
          33.640440000000005
         ],
         "line": {
          "color": "#4682B4",
          "width": 1
         },
         "locationmode": "USA-states",
         "lon": [
          -72.68323000000001,
          -84.42694
         ],
         "mode": "lines",
         "opacity": 0,
         "text": "From: Bradley International Airport<br>To: Hartsfield-Jackson Atlanta International Airport<br>Avg. Delay: -7.1 mins",
         "type": "scattergeo"
        },
        {
         "lat": [
          41.93887,
          39.1754
         ],
         "line": {
          "color": "#4682B4",
          "width": 1
         },
         "locationmode": "USA-states",
         "lon": [
          -72.68323000000001,
          -76.6682
         ],
         "mode": "lines",
         "opacity": 0.010734725444702243,
         "text": "From: Bradley International Airport<br>To: Baltimore-Washington International Airport<br>Avg. Delay: 0.32 mins",
         "type": "scattergeo"
        },
        {
         "lat": [
          41.93887,
          39.85841
         ],
         "line": {
          "color": "#4682B4",
          "width": 1
         },
         "locationmode": "USA-states",
         "lon": [
          -72.68323000000001,
          -104.667
         ],
         "mode": "lines",
         "opacity": 0,
         "text": "From: Bradley International Airport<br>To: Denver International Airport<br>Avg. Delay: -2.12 mins",
         "type": "scattergeo"
        },
        {
         "lat": [
          41.93887,
          26.07258
         ],
         "line": {
          "color": "#4682B4",
          "width": 1
         },
         "locationmode": "USA-states",
         "lon": [
          -72.68323000000001,
          -80.15275
         ],
         "mode": "lines",
         "opacity": 0,
         "text": "From: Bradley International Airport<br>To: Fort Lauderdale-Hollywood International Airport<br>Avg. Delay: -6.82 mins",
         "type": "scattergeo"
        },
        {
         "lat": [
          41.93887,
          36.08036
         ],
         "line": {
          "color": "#4682B4",
          "width": 1
         },
         "locationmode": "USA-states",
         "lon": [
          -72.68323000000001,
          -115.15233
         ],
         "mode": "lines",
         "opacity": 0,
         "text": "From: Bradley International Airport<br>To: McCarran International Airport<br>Avg. Delay: -2.66 mins",
         "type": "scattergeo"
        },
        {
         "lat": [
          41.93887,
          28.428890000000003
         ],
         "line": {
          "color": "#4682B4",
          "width": 1
         },
         "locationmode": "USA-states",
         "lon": [
          -72.68323000000001,
          -81.31603
         ],
         "mode": "lines",
         "opacity": 0,
         "text": "From: Bradley International Airport<br>To: Orlando International Airport<br>Avg. Delay: -2.54 mins",
         "type": "scattergeo"
        },
        {
         "lat": [
          41.93887,
          41.78598
         ],
         "line": {
          "color": "#4682B4",
          "width": 1
         },
         "locationmode": "USA-states",
         "lon": [
          -72.68323000000001,
          -87.75242
         ],
         "mode": "lines",
         "opacity": 0.030359937402190926,
         "text": "From: Bradley International Airport<br>To: Chicago Midway International Airport<br>Avg. Delay: 0.91 mins",
         "type": "scattergeo"
        },
        {
         "lat": [
          41.93887,
          26.683159999999997
         ],
         "line": {
          "color": "#4682B4",
          "width": 1
         },
         "locationmode": "USA-states",
         "lon": [
          -72.68323000000001,
          -80.09559
         ],
         "mode": "lines",
         "opacity": 0.2866666666666667,
         "text": "From: Bradley International Airport<br>To: Palm Beach International Airport<br>Avg. Delay: 8.6 mins",
         "type": "scattergeo"
        },
        {
         "lat": [
          41.93887,
          26.536170000000002
         ],
         "line": {
          "color": "#4682B4",
          "width": 1
         },
         "locationmode": "USA-states",
         "lon": [
          -72.68323000000001,
          -81.75516999999999
         ],
         "mode": "lines",
         "opacity": 0,
         "text": "From: Bradley International Airport<br>To: Southwest Florida International Airport<br>Avg. Delay: -8.24 mins",
         "type": "scattergeo"
        },
        {
         "lat": [
          41.93887,
          27.97547
         ],
         "line": {
          "color": "#4682B4",
          "width": 1
         },
         "locationmode": "USA-states",
         "lon": [
          -72.68323000000001,
          -82.53325
         ],
         "mode": "lines",
         "opacity": 0.07103109656301146,
         "text": "From: Bradley International Airport<br>To: Tampa International Airport<br>Avg. Delay: 2.13 mins",
         "type": "scattergeo"
        },
        {
         "lat": [
          33.562940000000005,
          39.1754
         ],
         "line": {
          "color": "#4682B4",
          "width": 1
         },
         "locationmode": "USA-states",
         "lon": [
          -86.75355,
          -76.6682
         ],
         "mode": "lines",
         "opacity": 0.21819757365684575,
         "text": "From: Birmingham-Shuttlesworth International Airport<br>To: Baltimore-Washington International Airport<br>Avg. Delay: 6.54 mins",
         "type": "scattergeo"
        },
        {
         "lat": [
          33.562940000000005,
          32.84711
         ],
         "line": {
          "color": "#4682B4",
          "width": 1
         },
         "locationmode": "USA-states",
         "lon": [
          -86.75355,
          -96.85177
         ],
         "mode": "lines",
         "opacity": 0.012438544739429696,
         "text": "From: Birmingham-Shuttlesworth International Airport<br>To: Dallas Love Field<br>Avg. Delay: 0.37 mins",
         "type": "scattergeo"
        },
        {
         "lat": [
          33.562940000000005,
          29.64542
         ],
         "line": {
          "color": "#4682B4",
          "width": 1
         },
         "locationmode": "USA-states",
         "lon": [
          -86.75355,
          -95.27889
         ],
         "mode": "lines",
         "opacity": 0.06898839137645107,
         "text": "From: Birmingham-Shuttlesworth International Airport<br>To: William P. Hobby Airport<br>Avg. Delay: 2.06 mins",
         "type": "scattergeo"
        },
        {
         "lat": [
          33.562940000000005,
          36.08036
         ],
         "line": {
          "color": "#4682B4",
          "width": 1
         },
         "locationmode": "USA-states",
         "lon": [
          -86.75355,
          -115.15233
         ],
         "mode": "lines",
         "opacity": 0,
         "text": "From: Birmingham-Shuttlesworth International Airport<br>To: McCarran International Airport<br>Avg. Delay: -2.85 mins",
         "type": "scattergeo"
        },
        {
         "lat": [
          33.562940000000005,
          28.428890000000003
         ],
         "line": {
          "color": "#4682B4",
          "width": 1
         },
         "locationmode": "USA-states",
         "lon": [
          -86.75355,
          -81.31603
         ],
         "mode": "lines",
         "opacity": 0.28856853818917555,
         "text": "From: Birmingham-Shuttlesworth International Airport<br>To: Orlando International Airport<br>Avg. Delay: 8.65 mins",
         "type": "scattergeo"
        },
        {
         "lat": [
          33.562940000000005,
          41.78598
         ],
         "line": {
          "color": "#4682B4",
          "width": 1
         },
         "locationmode": "USA-states",
         "lon": [
          -86.75355,
          -87.75242
         ],
         "mode": "lines",
         "opacity": 0.14886363636363636,
         "text": "From: Birmingham-Shuttlesworth International Airport<br>To: Chicago Midway International Airport<br>Avg. Delay: 4.46 mins",
         "type": "scattergeo"
        },
        {
         "lat": [
          33.562940000000005,
          27.97547
         ],
         "line": {
          "color": "#4682B4",
          "width": 1
         },
         "locationmode": "USA-states",
         "lon": [
          -86.75355,
          -82.53325
         ],
         "mode": "lines",
         "opacity": 0.11607905982905982,
         "text": "From: Birmingham-Shuttlesworth International Airport<br>To: Tampa International Airport<br>Avg. Delay: 3.48 mins",
         "type": "scattergeo"
        },
        {
         "lat": [
          36.12448,
          30.19453
         ],
         "line": {
          "color": "#4682B4",
          "width": 1
         },
         "locationmode": "USA-states",
         "lon": [
          -86.67818,
          -97.66986999999999
         ],
         "mode": "lines",
         "opacity": 0.15299564270152505,
         "text": "From: Nashville International Airport<br>To: Austin-Bergstrom International Airport<br>Avg. Delay: 4.58 mins",
         "type": "scattergeo"
        },
        {
         "lat": [
          36.12448,
          42.36435
         ],
         "line": {
          "color": "#4682B4",
          "width": 1
         },
         "locationmode": "USA-states",
         "lon": [
          -86.67818,
          -71.00518000000001
         ],
         "mode": "lines",
         "opacity": 0.2450079239302694,
         "text": "From: Nashville International Airport<br>To: Gen. Edward Lawrence Logan International Airport<br>Avg. Delay: 7.35 mins",
         "type": "scattergeo"
        },
        {
         "lat": [
          36.12448,
          39.1754
         ],
         "line": {
          "color": "#4682B4",
          "width": 1
         },
         "locationmode": "USA-states",
         "lon": [
          -86.67818,
          -76.6682
         ],
         "mode": "lines",
         "opacity": 0.23362718089990817,
         "text": "From: Nashville International Airport<br>To: Baltimore-Washington International Airport<br>Avg. Delay: 7.0 mins",
         "type": "scattergeo"
        },
        {
         "lat": [
          36.12448,
          32.89865
         ],
         "line": {
          "color": "#4682B4",
          "width": 1
         },
         "locationmode": "USA-states",
         "lon": [
          -86.67818,
          -80.04051
         ],
         "mode": "lines",
         "opacity": 0.1440891472868217,
         "text": "From: Nashville International Airport<br>To: Charleston International Airport/Charleston AFB<br>Avg. Delay: 4.32 mins",
         "type": "scattergeo"
        },
        {
         "lat": [
          36.12448,
          41.41089
         ],
         "line": {
          "color": "#4682B4",
          "width": 1
         },
         "locationmode": "USA-states",
         "lon": [
          -86.67818,
          -81.8494
         ],
         "mode": "lines",
         "opacity": 0.11484308736217133,
         "text": "From: Nashville International Airport<br>To: Cleveland Hopkins International Airport<br>Avg. Delay: 3.44 mins",
         "type": "scattergeo"
        },
        {
         "lat": [
          36.12448,
          39.99799
         ],
         "line": {
          "color": "#4682B4",
          "width": 1
         },
         "locationmode": "USA-states",
         "lon": [
          -86.67818,
          -82.89188
         ],
         "mode": "lines",
         "opacity": 0.27533016376122554,
         "text": "From: Nashville International Airport<br>To: Port Columbus International Airport<br>Avg. Delay: 8.25 mins",
         "type": "scattergeo"
        },
        {
         "lat": [
          36.12448,
          32.84711
         ],
         "line": {
          "color": "#4682B4",
          "width": 1
         },
         "locationmode": "USA-states",
         "lon": [
          -86.67818,
          -96.85177
         ],
         "mode": "lines",
         "opacity": 0,
         "text": "From: Nashville International Airport<br>To: Dallas Love Field<br>Avg. Delay: -0.24 mins",
         "type": "scattergeo"
        },
        {
         "lat": [
          36.12448,
          38.85208
         ],
         "line": {
          "color": "#4682B4",
          "width": 1
         },
         "locationmode": "USA-states",
         "lon": [
          -86.67818,
          -77.03772
         ],
         "mode": "lines",
         "opacity": 0,
         "text": "From: Nashville International Airport<br>To: Ronald Reagan Washington National Airport<br>Avg. Delay: -3.74 mins",
         "type": "scattergeo"
        },
        {
         "lat": [
          36.12448,
          39.85841
         ],
         "line": {
          "color": "#4682B4",
          "width": 1
         },
         "locationmode": "USA-states",
         "lon": [
          -86.67818,
          -104.667
         ],
         "mode": "lines",
         "opacity": 0,
         "text": "From: Nashville International Airport<br>To: Denver International Airport<br>Avg. Delay: -0.82 mins",
         "type": "scattergeo"
        },
        {
         "lat": [
          36.12448,
          42.21206
         ],
         "line": {
          "color": "#4682B4",
          "width": 1
         },
         "locationmode": "USA-states",
         "lon": [
          -86.67818,
          -83.34884
         ],
         "mode": "lines",
         "opacity": 0.09597244303126656,
         "text": "From: Nashville International Airport<br>To: Detroit Metropolitan Airport<br>Avg. Delay: 2.87 mins",
         "type": "scattergeo"
        },
        {
         "lat": [
          36.12448,
          null
         ],
         "line": {
          "color": "#4682B4",
          "width": 1
         },
         "locationmode": "USA-states",
         "lon": [
          -86.67818,
          null
         ],
         "mode": "lines",
         "opacity": 0.14536723163841808,
         "text": "From: Nashville International Airport<br>To: Northwest Florida Beaches International Airport<br>Avg. Delay: 4.36 mins",
         "type": "scattergeo"
        },
        {
         "lat": [
          36.12448,
          40.6925
         ],
         "line": {
          "color": "#4682B4",
          "width": 1
         },
         "locationmode": "USA-states",
         "lon": [
          -86.67818,
          -74.16866
         ],
         "mode": "lines",
         "opacity": 0.26907968574635244,
         "text": "From: Nashville International Airport<br>To: Newark Liberty International Airport<br>Avg. Delay: 8.07 mins",
         "type": "scattergeo"
        },
        {
         "lat": [
          36.12448,
          26.07258
         ],
         "line": {
          "color": "#4682B4",
          "width": 1
         },
         "locationmode": "USA-states",
         "lon": [
          -86.67818,
          -80.15275
         ],
         "mode": "lines",
         "opacity": 0.13898231996550237,
         "text": "From: Nashville International Airport<br>To: Fort Lauderdale-Hollywood International Airport<br>Avg. Delay: 4.16 mins",
         "type": "scattergeo"
        },
        {
         "lat": [
          36.12448,
          29.64542
         ],
         "line": {
          "color": "#4682B4",
          "width": 1
         },
         "locationmode": "USA-states",
         "lon": [
          -86.67818,
          -95.27889
         ],
         "mode": "lines",
         "opacity": 0.13770172509738454,
         "text": "From: Nashville International Airport<br>To: William P. Hobby Airport<br>Avg. Delay: 4.13 mins",
         "type": "scattergeo"
        },
        {
         "lat": [
          36.12448,
          30.494059999999998
         ],
         "line": {
          "color": "#4682B4",
          "width": 1
         },
         "locationmode": "USA-states",
         "lon": [
          -86.67818,
          -81.68786
         ],
         "mode": "lines",
         "opacity": 0.20956651718983557,
         "text": "From: Nashville International Airport<br>To: Jacksonville International Airport<br>Avg. Delay: 6.28 mins",
         "type": "scattergeo"
        },
        {
         "lat": [
          36.12448,
          36.08036
         ],
         "line": {
          "color": "#4682B4",
          "width": 1
         },
         "locationmode": "USA-states",
         "lon": [
          -86.67818,
          -115.15233
         ],
         "mode": "lines",
         "opacity": 0,
         "text": "From: Nashville International Airport<br>To: McCarran International Airport<br>Avg. Delay: -6.9 mins",
         "type": "scattergeo"
        },
        {
         "lat": [
          36.12448,
          33.94254
         ],
         "line": {
          "color": "#4682B4",
          "width": 1
         },
         "locationmode": "USA-states",
         "lon": [
          -86.67818,
          -118.40807
         ],
         "mode": "lines",
         "opacity": 0,
         "text": "From: Nashville International Airport<br>To: Los Angeles International Airport<br>Avg. Delay: -0.39 mins",
         "type": "scattergeo"
        },
        {
         "lat": [
          36.12448,
          40.77724
         ],
         "line": {
          "color": "#4682B4",
          "width": 1
         },
         "locationmode": "USA-states",
         "lon": [
          -86.67818,
          -73.87261
         ],
         "mode": "lines",
         "opacity": 0.26431054461181924,
         "text": "From: Nashville International Airport<br>To: LaGuardia Airport (Marine Air Terminal)<br>Avg. Delay: 7.92 mins",
         "type": "scattergeo"
        },
        {
         "lat": [
          36.12448,
          39.29761
         ],
         "line": {
          "color": "#4682B4",
          "width": 1
         },
         "locationmode": "USA-states",
         "lon": [
          -86.67818,
          -94.71391
         ],
         "mode": "lines",
         "opacity": 0.15146966854283928,
         "text": "From: Nashville International Airport<br>To: Kansas City International Airport<br>Avg. Delay: 4.54 mins",
         "type": "scattergeo"
        },
        {
         "lat": [
          36.12448,
          28.428890000000003
         ],
         "line": {
          "color": "#4682B4",
          "width": 1
         },
         "locationmode": "USA-states",
         "lon": [
          -86.67818,
          -81.31603
         ],
         "mode": "lines",
         "opacity": 0.20493915533285614,
         "text": "From: Nashville International Airport<br>To: Orlando International Airport<br>Avg. Delay: 6.14 mins",
         "type": "scattergeo"
        },
        {
         "lat": [
          36.12448,
          41.78598
         ],
         "line": {
          "color": "#4682B4",
          "width": 1
         },
         "locationmode": "USA-states",
         "lon": [
          -86.67818,
          -87.75242
         ],
         "mode": "lines",
         "opacity": 0.19604406609914873,
         "text": "From: Nashville International Airport<br>To: Chicago Midway International Airport<br>Avg. Delay: 5.88 mins",
         "type": "scattergeo"
        },
        {
         "lat": [
          36.12448,
          29.99339
         ],
         "line": {
          "color": "#4682B4",
          "width": 1
         },
         "locationmode": "USA-states",
         "lon": [
          -86.67818,
          -90.25803
         ],
         "mode": "lines",
         "opacity": 0.04531505060398302,
         "text": "From: Nashville International Airport<br>To: Louis Armstrong New Orleans International Airport<br>Avg. Delay: 1.35 mins",
         "type": "scattergeo"
        },
        {
         "lat": [
          36.12448,
          37.72129
         ],
         "line": {
          "color": "#4682B4",
          "width": 1
         },
         "locationmode": "USA-states",
         "lon": [
          -86.67818,
          -122.22072
         ],
         "mode": "lines",
         "opacity": 0,
         "text": "From: Nashville International Airport<br>To: Oakland International Airport<br>Avg. Delay: -0.07 mins",
         "type": "scattergeo"
        },
        {
         "lat": [
          36.12448,
          39.87195
         ],
         "line": {
          "color": "#4682B4",
          "width": 1
         },
         "locationmode": "USA-states",
         "lon": [
          -86.67818,
          -75.24114
         ],
         "mode": "lines",
         "opacity": 0.3690631808278867,
         "text": "From: Nashville International Airport<br>To: Philadelphia International Airport<br>Avg. Delay: 11.07 mins",
         "type": "scattergeo"
        },
        {
         "lat": [
          36.12448,
          33.43417
         ],
         "line": {
          "color": "#4682B4",
          "width": 1
         },
         "locationmode": "USA-states",
         "lon": [
          -86.67818,
          -112.00806000000001
         ],
         "mode": "lines",
         "opacity": 0,
         "text": "From: Nashville International Airport<br>To: Phoenix Sky Harbor International Airport<br>Avg. Delay: -1.96 mins",
         "type": "scattergeo"
        },
        {
         "lat": [
          36.12448,
          40.49147
         ],
         "line": {
          "color": "#4682B4",
          "width": 1
         },
         "locationmode": "USA-states",
         "lon": [
          -86.67818,
          -80.23286999999999
         ],
         "mode": "lines",
         "opacity": 0.3132725430597771,
         "text": "From: Nashville International Airport<br>To: Pittsburgh International Airport<br>Avg. Delay: 9.39 mins",
         "type": "scattergeo"
        },
        {
         "lat": [
          36.12448,
          30.473309999999998
         ],
         "line": {
          "color": "#4682B4",
          "width": 1
         },
         "locationmode": "USA-states",
         "lon": [
          -86.67818,
          -87.18744000000001
         ],
         "mode": "lines",
         "opacity": 0.20657672849915681,
         "text": "From: Nashville International Airport<br>To: Pensacola International Airport (Pensacola Gulf Coast Regional Airport)<br>Avg. Delay: 6.19 mins",
         "type": "scattergeo"
        },
        {
         "lat": [
          36.12448,
          35.87764
         ],
         "line": {
          "color": "#4682B4",
          "width": 1
         },
         "locationmode": "USA-states",
         "lon": [
          -86.67818,
          -78.78747
         ],
         "mode": "lines",
         "opacity": 0.1297168201978847,
         "text": "From: Nashville International Airport<br>To: Raleigh-Durham International Airport<br>Avg. Delay: 3.89 mins",
         "type": "scattergeo"
        },
        {
         "lat": [
          36.12448,
          26.536170000000002
         ],
         "line": {
          "color": "#4682B4",
          "width": 1
         },
         "locationmode": "USA-states",
         "lon": [
          -86.67818,
          -81.75516999999999
         ],
         "mode": "lines",
         "opacity": 0,
         "text": "From: Nashville International Airport<br>To: Southwest Florida International Airport<br>Avg. Delay: -1.39 mins",
         "type": "scattergeo"
        },
        {
         "lat": [
          36.12448,
          32.73356
         ],
         "line": {
          "color": "#4682B4",
          "width": 1
         },
         "locationmode": "USA-states",
         "lon": [
          -86.67818,
          -117.18966
         ],
         "mode": "lines",
         "opacity": 0,
         "text": "From: Nashville International Airport<br>To: San Diego International Airport (Lindbergh Field)<br>Avg. Delay: -1.54 mins",
         "type": "scattergeo"
        },
        {
         "lat": [
          36.12448,
          29.533690000000004
         ],
         "line": {
          "color": "#4682B4",
          "width": 1
         },
         "locationmode": "USA-states",
         "lon": [
          -86.67818,
          -98.46978
         ],
         "mode": "lines",
         "opacity": 0,
         "text": "From: Nashville International Airport<br>To: San Antonio International Airport<br>Avg. Delay: -3.34 mins",
         "type": "scattergeo"
        },
        {
         "lat": [
          36.12448,
          47.44898
         ],
         "line": {
          "color": "#4682B4",
          "width": 1
         },
         "locationmode": "USA-states",
         "lon": [
          -86.67818,
          -122.30931000000001
         ],
         "mode": "lines",
         "opacity": 0,
         "text": "From: Nashville International Airport<br>To: Seattle-Tacoma International Airport<br>Avg. Delay: -2.29 mins",
         "type": "scattergeo"
        },
        {
         "lat": [
          36.12448,
          38.747690000000006
         ],
         "line": {
          "color": "#4682B4",
          "width": 1
         },
         "locationmode": "USA-states",
         "lon": [
          -86.67818,
          -90.35999
         ],
         "mode": "lines",
         "opacity": 0.17731182795698924,
         "text": "From: Nashville International Airport<br>To: St. Louis International Airport at Lambert Field<br>Avg. Delay: 5.31 mins",
         "type": "scattergeo"
        },
        {
         "lat": [
          36.12448,
          27.97547
         ],
         "line": {
          "color": "#4682B4",
          "width": 1
         },
         "locationmode": "USA-states",
         "lon": [
          -86.67818,
          -82.53325
         ],
         "mode": "lines",
         "opacity": 0.2978387364921031,
         "text": "From: Nashville International Airport<br>To: Tampa International Airport<br>Avg. Delay: 8.93 mins",
         "type": "scattergeo"
        },
        {
         "lat": [
          43.564440000000005,
          39.85841
         ],
         "line": {
          "color": "#4682B4",
          "width": 1
         },
         "locationmode": "USA-states",
         "lon": [
          -116.22278,
          -104.667
         ],
         "mode": "lines",
         "opacity": 0.05711318795430945,
         "text": "From: Boise Airport (Boise Air Terminal)<br>To: Denver International Airport<br>Avg. Delay: 1.71 mins",
         "type": "scattergeo"
        },
        {
         "lat": [
          43.564440000000005,
          47.619859999999996
         ],
         "line": {
          "color": "#4682B4",
          "width": 1
         },
         "locationmode": "USA-states",
         "lon": [
          -116.22278,
          -117.53383999999998
         ],
         "mode": "lines",
         "opacity": 0.22457337883959044,
         "text": "From: Boise Airport (Boise Air Terminal)<br>To: Spokane International Airport<br>Avg. Delay: 6.73 mins",
         "type": "scattergeo"
        },
        {
         "lat": [
          43.564440000000005,
          36.08036
         ],
         "line": {
          "color": "#4682B4",
          "width": 1
         },
         "locationmode": "USA-states",
         "lon": [
          -116.22278,
          -115.15233
         ],
         "mode": "lines",
         "opacity": 0.3201335387776066,
         "text": "From: Boise Airport (Boise Air Terminal)<br>To: McCarran International Airport<br>Avg. Delay: 9.6 mins",
         "type": "scattergeo"
        },
        {
         "lat": [
          43.564440000000005,
          41.78598
         ],
         "line": {
          "color": "#4682B4",
          "width": 1
         },
         "locationmode": "USA-states",
         "lon": [
          -116.22278,
          -87.75242
         ],
         "mode": "lines",
         "opacity": 0.3180327868852459,
         "text": "From: Boise Airport (Boise Air Terminal)<br>To: Chicago Midway International Airport<br>Avg. Delay: 9.54 mins",
         "type": "scattergeo"
        },
        {
         "lat": [
          43.564440000000005,
          37.72129
         ],
         "line": {
          "color": "#4682B4",
          "width": 1
         },
         "locationmode": "USA-states",
         "lon": [
          -116.22278,
          -122.22072
         ],
         "mode": "lines",
         "opacity": 0,
         "text": "From: Boise Airport (Boise Air Terminal)<br>To: Oakland International Airport<br>Avg. Delay: -1.13 mins",
         "type": "scattergeo"
        },
        {
         "lat": [
          43.564440000000005,
          33.43417
         ],
         "line": {
          "color": "#4682B4",
          "width": 1
         },
         "locationmode": "USA-states",
         "lon": [
          -116.22278,
          -112.00806000000001
         ],
         "mode": "lines",
         "opacity": 0,
         "text": "From: Boise Airport (Boise Air Terminal)<br>To: Phoenix Sky Harbor International Airport<br>Avg. Delay: -0.27 mins",
         "type": "scattergeo"
        },
        {
         "lat": [
          42.36435,
          33.640440000000005
         ],
         "line": {
          "color": "#4682B4",
          "width": 1
         },
         "locationmode": "USA-states",
         "lon": [
          -71.00518000000001,
          -84.42694
         ],
         "mode": "lines",
         "opacity": 0.24194236926360724,
         "text": "From: Gen. Edward Lawrence Logan International Airport<br>To: Hartsfield-Jackson Atlanta International Airport<br>Avg. Delay: 7.25 mins",
         "type": "scattergeo"
        },
        {
         "lat": [
          42.36435,
          30.19453
         ],
         "line": {
          "color": "#4682B4",
          "width": 1
         },
         "locationmode": "USA-states",
         "lon": [
          -71.00518000000001,
          -97.66986999999999
         ],
         "mode": "lines",
         "opacity": 0,
         "text": "From: Gen. Edward Lawrence Logan International Airport<br>To: Austin-Bergstrom International Airport<br>Avg. Delay: -3.95 mins",
         "type": "scattergeo"
        },
        {
         "lat": [
          42.36435,
          36.12448
         ],
         "line": {
          "color": "#4682B4",
          "width": 1
         },
         "locationmode": "USA-states",
         "lon": [
          -71.00518000000001,
          -86.67818
         ],
         "mode": "lines",
         "opacity": 0.008225806451612904,
         "text": "From: Gen. Edward Lawrence Logan International Airport<br>To: Nashville International Airport<br>Avg. Delay: 0.24 mins",
         "type": "scattergeo"
        },
        {
         "lat": [
          42.36435,
          39.1754
         ],
         "line": {
          "color": "#4682B4",
          "width": 1
         },
         "locationmode": "USA-states",
         "lon": [
          -71.00518000000001,
          -76.6682
         ],
         "mode": "lines",
         "opacity": 0.1561107029145236,
         "text": "From: Gen. Edward Lawrence Logan International Airport<br>To: Baltimore-Washington International Airport<br>Avg. Delay: 4.68 mins",
         "type": "scattergeo"
        },
        {
         "lat": [
          42.36435,
          40.916309999999996
         ],
         "line": {
          "color": "#4682B4",
          "width": 1
         },
         "locationmode": "USA-states",
         "lon": [
          -71.00518000000001,
          -81.44247
         ],
         "mode": "lines",
         "opacity": 0.7433447098976109,
         "text": "From: Gen. Edward Lawrence Logan International Airport<br>To: Akron-Canton Regional Airport<br>Avg. Delay: 22.3 mins",
         "type": "scattergeo"
        },
        {
         "lat": [
          42.36435,
          39.99799
         ],
         "line": {
          "color": "#4682B4",
          "width": 1
         },
         "locationmode": "USA-states",
         "lon": [
          -71.00518000000001,
          -82.89188
         ],
         "mode": "lines",
         "opacity": 0,
         "text": "From: Gen. Edward Lawrence Logan International Airport<br>To: Port Columbus International Airport<br>Avg. Delay: -7.7 mins",
         "type": "scattergeo"
        },
        {
         "lat": [
          42.36435,
          32.84711
         ],
         "line": {
          "color": "#4682B4",
          "width": 1
         },
         "locationmode": "USA-states",
         "lon": [
          -71.00518000000001,
          -96.85177
         ],
         "mode": "lines",
         "opacity": 0,
         "text": "From: Gen. Edward Lawrence Logan International Airport<br>To: Dallas Love Field<br>Avg. Delay: -14.02 mins",
         "type": "scattergeo"
        },
        {
         "lat": [
          42.36435,
          39.85841
         ],
         "line": {
          "color": "#4682B4",
          "width": 1
         },
         "locationmode": "USA-states",
         "lon": [
          -71.00518000000001,
          -104.667
         ],
         "mode": "lines",
         "opacity": 0,
         "text": "From: Gen. Edward Lawrence Logan International Airport<br>To: Denver International Airport<br>Avg. Delay: -1.98 mins",
         "type": "scattergeo"
        },
        {
         "lat": [
          42.36435,
          29.64542
         ],
         "line": {
          "color": "#4682B4",
          "width": 1
         },
         "locationmode": "USA-states",
         "lon": [
          -71.00518000000001,
          -95.27889
         ],
         "mode": "lines",
         "opacity": 0,
         "text": "From: Gen. Edward Lawrence Logan International Airport<br>To: William P. Hobby Airport<br>Avg. Delay: -0.57 mins",
         "type": "scattergeo"
        },
        {
         "lat": [
          42.36435,
          39.71733
         ],
         "line": {
          "color": "#4682B4",
          "width": 1
         },
         "locationmode": "USA-states",
         "lon": [
          -71.00518000000001,
          -86.29438
         ],
         "mode": "lines",
         "opacity": 0,
         "text": "From: Gen. Edward Lawrence Logan International Airport<br>To: Indianapolis International Airport<br>Avg. Delay: -4.27 mins",
         "type": "scattergeo"
        },
        {
         "lat": [
          42.36435,
          39.29761
         ],
         "line": {
          "color": "#4682B4",
          "width": 1
         },
         "locationmode": "USA-states",
         "lon": [
          -71.00518000000001,
          -94.71391
         ],
         "mode": "lines",
         "opacity": 0,
         "text": "From: Gen. Edward Lawrence Logan International Airport<br>To: Kansas City International Airport<br>Avg. Delay: -2.15 mins",
         "type": "scattergeo"
        },
        {
         "lat": [
          42.36435,
          28.428890000000003
         ],
         "line": {
          "color": "#4682B4",
          "width": 1
         },
         "locationmode": "USA-states",
         "lon": [
          -71.00518000000001,
          -81.31603
         ],
         "mode": "lines",
         "opacity": 0.9196969696969697,
         "text": "From: Gen. Edward Lawrence Logan International Airport<br>To: Orlando International Airport<br>Avg. Delay: 27.59 mins",
         "type": "scattergeo"
        },
        {
         "lat": [
          42.36435,
          41.78598
         ],
         "line": {
          "color": "#4682B4",
          "width": 1
         },
         "locationmode": "USA-states",
         "lon": [
          -71.00518000000001,
          -87.75242
         ],
         "mode": "lines",
         "opacity": 0.13348192174343734,
         "text": "From: Gen. Edward Lawrence Logan International Airport<br>To: Chicago Midway International Airport<br>Avg. Delay: 4.0 mins",
         "type": "scattergeo"
        },
        {
         "lat": [
          42.36435,
          42.94722
         ],
         "line": {
          "color": "#4682B4",
          "width": 1
         },
         "locationmode": "USA-states",
         "lon": [
          -71.00518000000001,
          -87.89658
         ],
         "mode": "lines",
         "opacity": 0.17728310502283104,
         "text": "From: Gen. Edward Lawrence Logan International Airport<br>To: General Mitchell International Airport<br>Avg. Delay: 5.31 mins",
         "type": "scattergeo"
        },
        {
         "lat": [
          42.36435,
          33.43417
         ],
         "line": {
          "color": "#4682B4",
          "width": 1
         },
         "locationmode": "USA-states",
         "lon": [
          -71.00518000000001,
          -112.00806000000001
         ],
         "mode": "lines",
         "opacity": 0,
         "text": "From: Gen. Edward Lawrence Logan International Airport<br>To: Phoenix Sky Harbor International Airport<br>Avg. Delay: -18.5 mins",
         "type": "scattergeo"
        },
        {
         "lat": [
          42.36435,
          26.536170000000002
         ],
         "line": {
          "color": "#4682B4",
          "width": 1
         },
         "locationmode": "USA-states",
         "lon": [
          -71.00518000000001,
          -81.75516999999999
         ],
         "mode": "lines",
         "opacity": 0,
         "text": "From: Gen. Edward Lawrence Logan International Airport<br>To: Southwest Florida International Airport<br>Avg. Delay: -6.4 mins",
         "type": "scattergeo"
        },
        {
         "lat": [
          42.36435,
          38.747690000000006
         ],
         "line": {
          "color": "#4682B4",
          "width": 1
         },
         "locationmode": "USA-states",
         "lon": [
          -71.00518000000001,
          -90.35999
         ],
         "mode": "lines",
         "opacity": 0.15030674846625766,
         "text": "From: Gen. Edward Lawrence Logan International Airport<br>To: St. Louis International Airport at Lambert Field<br>Avg. Delay: 4.5 mins",
         "type": "scattergeo"
        },
        {
         "lat": [
          42.94052,
          39.1754
         ],
         "line": {
          "color": "#4682B4",
          "width": 1
         },
         "locationmode": "USA-states",
         "lon": [
          -78.73217,
          -76.6682
         ],
         "mode": "lines",
         "opacity": 0.10018885741265345,
         "text": "From: Buffalo Niagara International Airport<br>To: Baltimore-Washington International Airport<br>Avg. Delay: 3.0 mins",
         "type": "scattergeo"
        },
        {
         "lat": [
          42.94052,
          26.07258
         ],
         "line": {
          "color": "#4682B4",
          "width": 1
         },
         "locationmode": "USA-states",
         "lon": [
          -78.73217,
          -80.15275
         ],
         "mode": "lines",
         "opacity": 0,
         "text": "From: Buffalo Niagara International Airport<br>To: Fort Lauderdale-Hollywood International Airport<br>Avg. Delay: -4.71 mins",
         "type": "scattergeo"
        },
        {
         "lat": [
          42.94052,
          36.08036
         ],
         "line": {
          "color": "#4682B4",
          "width": 1
         },
         "locationmode": "USA-states",
         "lon": [
          -78.73217,
          -115.15233
         ],
         "mode": "lines",
         "opacity": 0,
         "text": "From: Buffalo Niagara International Airport<br>To: McCarran International Airport<br>Avg. Delay: -7.36 mins",
         "type": "scattergeo"
        },
        {
         "lat": [
          42.94052,
          28.428890000000003
         ],
         "line": {
          "color": "#4682B4",
          "width": 1
         },
         "locationmode": "USA-states",
         "lon": [
          -78.73217,
          -81.31603
         ],
         "mode": "lines",
         "opacity": 0,
         "text": "From: Buffalo Niagara International Airport<br>To: Orlando International Airport<br>Avg. Delay: -1.7 mins",
         "type": "scattergeo"
        },
        {
         "lat": [
          42.94052,
          41.78598
         ],
         "line": {
          "color": "#4682B4",
          "width": 1
         },
         "locationmode": "USA-states",
         "lon": [
          -78.73217,
          -87.75242
         ],
         "mode": "lines",
         "opacity": 0.0899928774928775,
         "text": "From: Buffalo Niagara International Airport<br>To: Chicago Midway International Airport<br>Avg. Delay: 2.69 mins",
         "type": "scattergeo"
        },
        {
         "lat": [
          42.94052,
          33.43417
         ],
         "line": {
          "color": "#4682B4",
          "width": 1
         },
         "locationmode": "USA-states",
         "lon": [
          -78.73217,
          -112.00806000000001
         ],
         "mode": "lines",
         "opacity": 0,
         "text": "From: Buffalo Niagara International Airport<br>To: Phoenix Sky Harbor International Airport<br>Avg. Delay: -8.93 mins",
         "type": "scattergeo"
        },
        {
         "lat": [
          42.94052,
          26.536170000000002
         ],
         "line": {
          "color": "#4682B4",
          "width": 1
         },
         "locationmode": "USA-states",
         "lon": [
          -78.73217,
          -81.75516999999999
         ],
         "mode": "lines",
         "opacity": 0,
         "text": "From: Buffalo Niagara International Airport<br>To: Southwest Florida International Airport<br>Avg. Delay: -3.76 mins",
         "type": "scattergeo"
        },
        {
         "lat": [
          42.94052,
          27.97547
         ],
         "line": {
          "color": "#4682B4",
          "width": 1
         },
         "locationmode": "USA-states",
         "lon": [
          -78.73217,
          -82.53325
         ],
         "mode": "lines",
         "opacity": 0,
         "text": "From: Buffalo Niagara International Airport<br>To: Tampa International Airport<br>Avg. Delay: -6.76 mins",
         "type": "scattergeo"
        },
        {
         "lat": [
          34.20062,
          39.85841
         ],
         "line": {
          "color": "#4682B4",
          "width": 1
         },
         "locationmode": "USA-states",
         "lon": [
          -118.3585,
          -104.667
         ],
         "mode": "lines",
         "opacity": 0.03262757871878393,
         "text": "From: Bob Hope Airport (Hollywood Burbank Airport)<br>To: Denver International Airport<br>Avg. Delay: 0.97 mins",
         "type": "scattergeo"
        },
        {
         "lat": [
          34.20062,
          36.08036
         ],
         "line": {
          "color": "#4682B4",
          "width": 1
         },
         "locationmode": "USA-states",
         "lon": [
          -118.3585,
          -115.15233
         ],
         "mode": "lines",
         "opacity": 0.13686183702723564,
         "text": "From: Bob Hope Airport (Hollywood Burbank Airport)<br>To: McCarran International Airport<br>Avg. Delay: 4.1 mins",
         "type": "scattergeo"
        },
        {
         "lat": [
          34.20062,
          37.72129
         ],
         "line": {
          "color": "#4682B4",
          "width": 1
         },
         "locationmode": "USA-states",
         "lon": [
          -118.3585,
          -122.22072
         ],
         "mode": "lines",
         "opacity": 0.1409888796985571,
         "text": "From: Bob Hope Airport (Hollywood Burbank Airport)<br>To: Oakland International Airport<br>Avg. Delay: 4.22 mins",
         "type": "scattergeo"
        },
        {
         "lat": [
          34.20062,
          33.43417
         ],
         "line": {
          "color": "#4682B4",
          "width": 1
         },
         "locationmode": "USA-states",
         "lon": [
          -118.3585,
          -112.00806000000001
         ],
         "mode": "lines",
         "opacity": 0.07773571299801695,
         "text": "From: Bob Hope Airport (Hollywood Burbank Airport)<br>To: Phoenix Sky Harbor International Airport<br>Avg. Delay: 2.33 mins",
         "type": "scattergeo"
        },
        {
         "lat": [
          34.20062,
          37.36186
         ],
         "line": {
          "color": "#4682B4",
          "width": 1
         },
         "locationmode": "USA-states",
         "lon": [
          -118.3585,
          -121.92901
         ],
         "mode": "lines",
         "opacity": 0.08285806347671983,
         "text": "From: Bob Hope Airport (Hollywood Burbank Airport)<br>To: Norman Y. Mineta San José International Airport<br>Avg. Delay: 2.48 mins",
         "type": "scattergeo"
        },
        {
         "lat": [
          34.20062,
          38.69542
         ],
         "line": {
          "color": "#4682B4",
          "width": 1
         },
         "locationmode": "USA-states",
         "lon": [
          -118.3585,
          -121.59076999999999
         ],
         "mode": "lines",
         "opacity": 0.08490990990990992,
         "text": "From: Bob Hope Airport (Hollywood Burbank Airport)<br>To: Sacramento International Airport<br>Avg. Delay: 2.54 mins",
         "type": "scattergeo"
        },
        {
         "lat": [
          39.1754,
          35.04022
         ],
         "line": {
          "color": "#4682B4",
          "width": 1
         },
         "locationmode": "USA-states",
         "lon": [
          -76.6682,
          -106.60918999999998
         ],
         "mode": "lines",
         "opacity": 0.07473544973544974,
         "text": "From: Baltimore-Washington International Airport<br>To: Albuquerque International Sunport<br>Avg. Delay: 2.24 mins",
         "type": "scattergeo"
        },
        {
         "lat": [
          39.1754,
          42.74812
         ],
         "line": {
          "color": "#4682B4",
          "width": 1
         },
         "locationmode": "USA-states",
         "lon": [
          -76.6682,
          -73.80298
         ],
         "mode": "lines",
         "opacity": 0.3215532811559302,
         "text": "From: Baltimore-Washington International Airport<br>To: Albany International Airport<br>Avg. Delay: 9.64 mins",
         "type": "scattergeo"
        },
        {
         "lat": [
          39.1754,
          33.640440000000005
         ],
         "line": {
          "color": "#4682B4",
          "width": 1
         },
         "locationmode": "USA-states",
         "lon": [
          -76.6682,
          -84.42694
         ],
         "mode": "lines",
         "opacity": 0.25766302548824893,
         "text": "From: Baltimore-Washington International Airport<br>To: Hartsfield-Jackson Atlanta International Airport<br>Avg. Delay: 7.72 mins",
         "type": "scattergeo"
        },
        {
         "lat": [
          39.1754,
          30.19453
         ],
         "line": {
          "color": "#4682B4",
          "width": 1
         },
         "locationmode": "USA-states",
         "lon": [
          -76.6682,
          -97.66986999999999
         ],
         "mode": "lines",
         "opacity": 0.1081852450188476,
         "text": "From: Baltimore-Washington International Airport<br>To: Austin-Bergstrom International Airport<br>Avg. Delay: 3.24 mins",
         "type": "scattergeo"
        },
        {
         "lat": [
          39.1754,
          41.93887
         ],
         "line": {
          "color": "#4682B4",
          "width": 1
         },
         "locationmode": "USA-states",
         "lon": [
          -76.6682,
          -72.68323000000001
         ],
         "mode": "lines",
         "opacity": 0.4291842146311028,
         "text": "From: Baltimore-Washington International Airport<br>To: Bradley International Airport<br>Avg. Delay: 12.87 mins",
         "type": "scattergeo"
        },
        {
         "lat": [
          39.1754,
          33.562940000000005
         ],
         "line": {
          "color": "#4682B4",
          "width": 1
         },
         "locationmode": "USA-states",
         "lon": [
          -76.6682,
          -86.75355
         ],
         "mode": "lines",
         "opacity": 0.161139896373057,
         "text": "From: Baltimore-Washington International Airport<br>To: Birmingham-Shuttlesworth International Airport<br>Avg. Delay: 4.83 mins",
         "type": "scattergeo"
        },
        {
         "lat": [
          39.1754,
          36.12448
         ],
         "line": {
          "color": "#4682B4",
          "width": 1
         },
         "locationmode": "USA-states",
         "lon": [
          -76.6682,
          -86.67818
         ],
         "mode": "lines",
         "opacity": 0.2604824084149438,
         "text": "From: Baltimore-Washington International Airport<br>To: Nashville International Airport<br>Avg. Delay: 7.81 mins",
         "type": "scattergeo"
        },
        {
         "lat": [
          39.1754,
          42.36435
         ],
         "line": {
          "color": "#4682B4",
          "width": 1
         },
         "locationmode": "USA-states",
         "lon": [
          -76.6682,
          -71.00518000000001
         ],
         "mode": "lines",
         "opacity": 0.47359931042975006,
         "text": "From: Baltimore-Washington International Airport<br>To: Gen. Edward Lawrence Logan International Airport<br>Avg. Delay: 14.2 mins",
         "type": "scattergeo"
        },
        {
         "lat": [
          39.1754,
          42.94052
         ],
         "line": {
          "color": "#4682B4",
          "width": 1
         },
         "locationmode": "USA-states",
         "lon": [
          -76.6682,
          -78.73217
         ],
         "mode": "lines",
         "opacity": 0.3741978104945262,
         "text": "From: Baltimore-Washington International Airport<br>To: Buffalo Niagara International Airport<br>Avg. Delay: 11.22 mins",
         "type": "scattergeo"
        },
        {
         "lat": [
          39.1754,
          32.89865
         ],
         "line": {
          "color": "#4682B4",
          "width": 1
         },
         "locationmode": "USA-states",
         "lon": [
          -76.6682,
          -80.04051
         ],
         "mode": "lines",
         "opacity": 0.3044955044955045,
         "text": "From: Baltimore-Washington International Airport<br>To: Charleston International Airport/Charleston AFB<br>Avg. Delay: 9.13 mins",
         "type": "scattergeo"
        },
        {
         "lat": [
          39.1754,
          41.41089
         ],
         "line": {
          "color": "#4682B4",
          "width": 1
         },
         "locationmode": "USA-states",
         "lon": [
          -76.6682,
          -81.8494
         ],
         "mode": "lines",
         "opacity": 0.28846263142938333,
         "text": "From: Baltimore-Washington International Airport<br>To: Cleveland Hopkins International Airport<br>Avg. Delay: 8.65 mins",
         "type": "scattergeo"
        },
        {
         "lat": [
          39.1754,
          35.214009999999995
         ],
         "line": {
          "color": "#4682B4",
          "width": 1
         },
         "locationmode": "USA-states",
         "lon": [
          -76.6682,
          -80.94313000000001
         ],
         "mode": "lines",
         "opacity": 0.4781591263650546,
         "text": "From: Baltimore-Washington International Airport<br>To: Charlotte Douglas International Airport<br>Avg. Delay: 14.34 mins",
         "type": "scattergeo"
        },
        {
         "lat": [
          39.1754,
          39.99799
         ],
         "line": {
          "color": "#4682B4",
          "width": 1
         },
         "locationmode": "USA-states",
         "lon": [
          -76.6682,
          -82.89188
         ],
         "mode": "lines",
         "opacity": 0.26515042117930204,
         "text": "From: Baltimore-Washington International Airport<br>To: Port Columbus International Airport<br>Avg. Delay: 7.95 mins",
         "type": "scattergeo"
        },
        {
         "lat": [
          39.1754,
          32.84711
         ],
         "line": {
          "color": "#4682B4",
          "width": 1
         },
         "locationmode": "USA-states",
         "lon": [
          -76.6682,
          -96.85177
         ],
         "mode": "lines",
         "opacity": 0.1189853719265484,
         "text": "From: Baltimore-Washington International Airport<br>To: Dallas Love Field<br>Avg. Delay: 3.56 mins",
         "type": "scattergeo"
        },
        {
         "lat": [
          39.1754,
          39.90238
         ],
         "line": {
          "color": "#4682B4",
          "width": 1
         },
         "locationmode": "USA-states",
         "lon": [
          -76.6682,
          -84.21938
         ],
         "mode": "lines",
         "opacity": 0.2551775147928994,
         "text": "From: Baltimore-Washington International Airport<br>To: James M. Cox Dayton International Airport<br>Avg. Delay: 7.65 mins",
         "type": "scattergeo"
        },
        {
         "lat": [
          39.1754,
          39.85841
         ],
         "line": {
          "color": "#4682B4",
          "width": 1
         },
         "locationmode": "USA-states",
         "lon": [
          -76.6682,
          -104.667
         ],
         "mode": "lines",
         "opacity": 0.06621693121693122,
         "text": "From: Baltimore-Washington International Airport<br>To: Denver International Airport<br>Avg. Delay: 1.98 mins",
         "type": "scattergeo"
        },
        {
         "lat": [
          39.1754,
          42.21206
         ],
         "line": {
          "color": "#4682B4",
          "width": 1
         },
         "locationmode": "USA-states",
         "lon": [
          -76.6682,
          -83.34884
         ],
         "mode": "lines",
         "opacity": 0.21322522522522522,
         "text": "From: Baltimore-Washington International Airport<br>To: Detroit Metropolitan Airport<br>Avg. Delay: 6.39 mins",
         "type": "scattergeo"
        },
        {
         "lat": [
          39.1754,
          null
         ],
         "line": {
          "color": "#4682B4",
          "width": 1
         },
         "locationmode": "USA-states",
         "lon": [
          -76.6682,
          null
         ],
         "mode": "lines",
         "opacity": 0.3903846153846154,
         "text": "From: Baltimore-Washington International Airport<br>To: Northwest Florida Beaches International Airport<br>Avg. Delay: 11.71 mins",
         "type": "scattergeo"
        },
        {
         "lat": [
          39.1754,
          26.07258
         ],
         "line": {
          "color": "#4682B4",
          "width": 1
         },
         "locationmode": "USA-states",
         "lon": [
          -76.6682,
          -80.15275
         ],
         "mode": "lines",
         "opacity": 0.22745841229732575,
         "text": "From: Baltimore-Washington International Airport<br>To: Fort Lauderdale-Hollywood International Airport<br>Avg. Delay: 6.82 mins",
         "type": "scattergeo"
        },
        {
         "lat": [
          39.1754,
          42.9655
         ],
         "line": {
          "color": "#4682B4",
          "width": 1
         },
         "locationmode": "USA-states",
         "lon": [
          -76.6682,
          -83.74346
         ],
         "mode": "lines",
         "opacity": 0.28416030534351144,
         "text": "From: Baltimore-Washington International Airport<br>To: Bishop International Airport<br>Avg. Delay: 8.52 mins",
         "type": "scattergeo"
        },
        {
         "lat": [
          39.1754,
          42.88082
         ],
         "line": {
          "color": "#4682B4",
          "width": 1
         },
         "locationmode": "USA-states",
         "lon": [
          -76.6682,
          -85.52277
         ],
         "mode": "lines",
         "opacity": 0.30089662447257387,
         "text": "From: Baltimore-Washington International Airport<br>To: Gerald R. Ford International Airport<br>Avg. Delay: 9.02 mins",
         "type": "scattergeo"
        },
        {
         "lat": [
          39.1754,
          34.89567
         ],
         "line": {
          "color": "#4682B4",
          "width": 1
         },
         "locationmode": "USA-states",
         "lon": [
          -76.6682,
          -82.21885999999999
         ],
         "mode": "lines",
         "opacity": 0.16999999999999998,
         "text": "From: Baltimore-Washington International Airport<br>To: Greenville-Spartanburg International Airport<br>Avg. Delay: 5.09 mins",
         "type": "scattergeo"
        },
        {
         "lat": [
          39.1754,
          29.64542
         ],
         "line": {
          "color": "#4682B4",
          "width": 1
         },
         "locationmode": "USA-states",
         "lon": [
          -76.6682,
          -95.27889
         ],
         "mode": "lines",
         "opacity": 0.12026332691072576,
         "text": "From: Baltimore-Washington International Airport<br>To: William P. Hobby Airport<br>Avg. Delay: 3.6 mins",
         "type": "scattergeo"
        },
        {
         "lat": [
          39.1754,
          39.71733
         ],
         "line": {
          "color": "#4682B4",
          "width": 1
         },
         "locationmode": "USA-states",
         "lon": [
          -76.6682,
          -86.29438
         ],
         "mode": "lines",
         "opacity": 0.39444998338318377,
         "text": "From: Baltimore-Washington International Airport<br>To: Indianapolis International Airport<br>Avg. Delay: 11.83 mins",
         "type": "scattergeo"
        },
        {
         "lat": [
          39.1754,
          40.79524
         ],
         "line": {
          "color": "#4682B4",
          "width": 1
         },
         "locationmode": "USA-states",
         "lon": [
          -76.6682,
          -73.10021
         ],
         "mode": "lines",
         "opacity": 0.3952124072825354,
         "text": "From: Baltimore-Washington International Airport<br>To: Long Island MacArthur Airport<br>Avg. Delay: 11.85 mins",
         "type": "scattergeo"
        },
        {
         "lat": [
          39.1754,
          30.494059999999998
         ],
         "line": {
          "color": "#4682B4",
          "width": 1
         },
         "locationmode": "USA-states",
         "lon": [
          -76.6682,
          -81.68786
         ],
         "mode": "lines",
         "opacity": 0.3467095194367921,
         "text": "From: Baltimore-Washington International Airport<br>To: Jacksonville International Airport<br>Avg. Delay: 10.4 mins",
         "type": "scattergeo"
        },
        {
         "lat": [
          39.1754,
          36.08036
         ],
         "line": {
          "color": "#4682B4",
          "width": 1
         },
         "locationmode": "USA-states",
         "lon": [
          -76.6682,
          -115.15233
         ],
         "mode": "lines",
         "opacity": 0.07704678362573099,
         "text": "From: Baltimore-Washington International Airport<br>To: McCarran International Airport<br>Avg. Delay: 2.31 mins",
         "type": "scattergeo"
        },
        {
         "lat": [
          39.1754,
          33.94254
         ],
         "line": {
          "color": "#4682B4",
          "width": 1
         },
         "locationmode": "USA-states",
         "lon": [
          -76.6682,
          -118.40807
         ],
         "mode": "lines",
         "opacity": 0.19594594594594594,
         "text": "From: Baltimore-Washington International Airport<br>To: Los Angeles International Airport<br>Avg. Delay: 5.87 mins",
         "type": "scattergeo"
        },
        {
         "lat": [
          39.1754,
          34.7294
         ],
         "line": {
          "color": "#4682B4",
          "width": 1
         },
         "locationmode": "USA-states",
         "lon": [
          -76.6682,
          -92.22425
         ],
         "mode": "lines",
         "opacity": 0.3106060606060606,
         "text": "From: Baltimore-Washington International Airport<br>To: Bill and Hillary Clinton National Airport (Adams Field)<br>Avg. Delay: 9.31 mins",
         "type": "scattergeo"
        },
        {
         "lat": [
          39.1754,
          39.29761
         ],
         "line": {
          "color": "#4682B4",
          "width": 1
         },
         "locationmode": "USA-states",
         "lon": [
          -76.6682,
          -94.71391
         ],
         "mode": "lines",
         "opacity": 0.16227727075184703,
         "text": "From: Baltimore-Washington International Airport<br>To: Kansas City International Airport<br>Avg. Delay: 4.86 mins",
         "type": "scattergeo"
        },
        {
         "lat": [
          39.1754,
          28.428890000000003
         ],
         "line": {
          "color": "#4682B4",
          "width": 1
         },
         "locationmode": "USA-states",
         "lon": [
          -76.6682,
          -81.31603
         ],
         "mode": "lines",
         "opacity": 0.2614280947614281,
         "text": "From: Baltimore-Washington International Airport<br>To: Orlando International Airport<br>Avg. Delay: 7.84 mins",
         "type": "scattergeo"
        },
        {
         "lat": [
          39.1754,
          41.78598
         ],
         "line": {
          "color": "#4682B4",
          "width": 1
         },
         "locationmode": "USA-states",
         "lon": [
          -76.6682,
          -87.75242
         ],
         "mode": "lines",
         "opacity": 0.19696005655708732,
         "text": "From: Baltimore-Washington International Airport<br>To: Chicago Midway International Airport<br>Avg. Delay: 5.9 mins",
         "type": "scattergeo"
        },
        {
         "lat": [
          39.1754,
          35.04242
         ],
         "line": {
          "color": "#4682B4",
          "width": 1
         },
         "locationmode": "USA-states",
         "lon": [
          -76.6682,
          -89.97667
         ],
         "mode": "lines",
         "opacity": 0.08241949521322889,
         "text": "From: Baltimore-Washington International Airport<br>To: Memphis International Airport<br>Avg. Delay: 2.47 mins",
         "type": "scattergeo"
        },
        {
         "lat": [
          39.1754,
          42.93452
         ],
         "line": {
          "color": "#4682B4",
          "width": 1
         },
         "locationmode": "USA-states",
         "lon": [
          -76.6682,
          -71.43706
         ],
         "mode": "lines",
         "opacity": 0.3043827160493827,
         "text": "From: Baltimore-Washington International Airport<br>To: Manchester-Boston Regional Airport<br>Avg. Delay: 9.13 mins",
         "type": "scattergeo"
        },
        {
         "lat": [
          39.1754,
          42.94722
         ],
         "line": {
          "color": "#4682B4",
          "width": 1
         },
         "locationmode": "USA-states",
         "lon": [
          -76.6682,
          -87.89658
         ],
         "mode": "lines",
         "opacity": 0.2333729216152019,
         "text": "From: Baltimore-Washington International Airport<br>To: General Mitchell International Airport<br>Avg. Delay: 7.0 mins",
         "type": "scattergeo"
        },
        {
         "lat": [
          39.1754,
          29.99339
         ],
         "line": {
          "color": "#4682B4",
          "width": 1
         },
         "locationmode": "USA-states",
         "lon": [
          -76.6682,
          -90.25803
         ],
         "mode": "lines",
         "opacity": 0.024164629176854118,
         "text": "From: Baltimore-Washington International Airport<br>To: Louis Armstrong New Orleans International Airport<br>Avg. Delay: 0.72 mins",
         "type": "scattergeo"
        },
        {
         "lat": [
          39.1754,
          37.72129
         ],
         "line": {
          "color": "#4682B4",
          "width": 1
         },
         "locationmode": "USA-states",
         "lon": [
          -76.6682,
          -122.22072
         ],
         "mode": "lines",
         "opacity": 0,
         "text": "From: Baltimore-Washington International Airport<br>To: Oakland International Airport<br>Avg. Delay: -2.24 mins",
         "type": "scattergeo"
        },
        {
         "lat": [
          39.1754,
          35.39309
         ],
         "line": {
          "color": "#4682B4",
          "width": 1
         },
         "locationmode": "USA-states",
         "lon": [
          -76.6682,
          -97.60073
         ],
         "mode": "lines",
         "opacity": 0.38824130879345603,
         "text": "From: Baltimore-Washington International Airport<br>To: Will Rogers World Airport<br>Avg. Delay: 11.64 mins",
         "type": "scattergeo"
        },
        {
         "lat": [
          39.1754,
          36.89461
         ],
         "line": {
          "color": "#4682B4",
          "width": 1
         },
         "locationmode": "USA-states",
         "lon": [
          -76.6682,
          -76.20121999999999
         ],
         "mode": "lines",
         "opacity": 0.4119620065301276,
         "text": "From: Baltimore-Washington International Airport<br>To: Norfolk International Airport<br>Avg. Delay: 12.35 mins",
         "type": "scattergeo"
        },
        {
         "lat": [
          39.1754,
          26.683159999999997
         ],
         "line": {
          "color": "#4682B4",
          "width": 1
         },
         "locationmode": "USA-states",
         "lon": [
          -76.6682,
          -80.09559
         ],
         "mode": "lines",
         "opacity": 0.4022499134648667,
         "text": "From: Baltimore-Washington International Airport<br>To: Palm Beach International Airport<br>Avg. Delay: 12.06 mins",
         "type": "scattergeo"
        },
        {
         "lat": [
          39.1754,
          45.58872
         ],
         "line": {
          "color": "#4682B4",
          "width": 1
         },
         "locationmode": "USA-states",
         "lon": [
          -76.6682,
          -122.5975
         ],
         "mode": "lines",
         "opacity": 0.2940860215053763,
         "text": "From: Baltimore-Washington International Airport<br>To: Portland International Airport<br>Avg. Delay: 8.82 mins",
         "type": "scattergeo"
        },
        {
         "lat": [
          39.1754,
          33.43417
         ],
         "line": {
          "color": "#4682B4",
          "width": 1
         },
         "locationmode": "USA-states",
         "lon": [
          -76.6682,
          -112.00806000000001
         ],
         "mode": "lines",
         "opacity": 0,
         "text": "From: Baltimore-Washington International Airport<br>To: Phoenix Sky Harbor International Airport<br>Avg. Delay: -0.63 mins",
         "type": "scattergeo"
        },
        {
         "lat": [
          39.1754,
          40.49147
         ],
         "line": {
          "color": "#4682B4",
          "width": 1
         },
         "locationmode": "USA-states",
         "lon": [
          -76.6682,
          -80.23286999999999
         ],
         "mode": "lines",
         "opacity": 0.31781063005983806,
         "text": "From: Baltimore-Washington International Airport<br>To: Pittsburgh International Airport<br>Avg. Delay: 9.53 mins",
         "type": "scattergeo"
        },
        {
         "lat": [
          39.1754,
          41.724
         ],
         "line": {
          "color": "#4682B4",
          "width": 1
         },
         "locationmode": "USA-states",
         "lon": [
          -76.6682,
          -71.42822
         ],
         "mode": "lines",
         "opacity": 0.31868252015853493,
         "text": "From: Baltimore-Washington International Airport<br>To: Theodore Francis Green State Airport<br>Avg. Delay: 9.56 mins",
         "type": "scattergeo"
        },
        {
         "lat": [
          39.1754,
          43.64617
         ],
         "line": {
          "color": "#4682B4",
          "width": 1
         },
         "locationmode": "USA-states",
         "lon": [
          -76.6682,
          -70.30875
         ],
         "mode": "lines",
         "opacity": 0.2891743747858856,
         "text": "From: Baltimore-Washington International Airport<br>To: Portland International Jetport<br>Avg. Delay: 8.67 mins",
         "type": "scattergeo"
        },
        {
         "lat": [
          39.1754,
          35.87764
         ],
         "line": {
          "color": "#4682B4",
          "width": 1
         },
         "locationmode": "USA-states",
         "lon": [
          -76.6682,
          -78.78747
         ],
         "mode": "lines",
         "opacity": 0.36215368531102976,
         "text": "From: Baltimore-Washington International Airport<br>To: Raleigh-Durham International Airport<br>Avg. Delay: 10.86 mins",
         "type": "scattergeo"
        },
        {
         "lat": [
          39.1754,
          43.11887
         ],
         "line": {
          "color": "#4682B4",
          "width": 1
         },
         "locationmode": "USA-states",
         "lon": [
          -76.6682,
          -77.67238
         ],
         "mode": "lines",
         "opacity": 0.37855444602948174,
         "text": "From: Baltimore-Washington International Airport<br>To: Greater Rochester International Airport<br>Avg. Delay: 11.35 mins",
         "type": "scattergeo"
        },
        {
         "lat": [
          39.1754,
          26.536170000000002
         ],
         "line": {
          "color": "#4682B4",
          "width": 1
         },
         "locationmode": "USA-states",
         "lon": [
          -76.6682,
          -81.75516999999999
         ],
         "mode": "lines",
         "opacity": 0.23305693753454948,
         "text": "From: Baltimore-Washington International Airport<br>To: Southwest Florida International Airport<br>Avg. Delay: 6.99 mins",
         "type": "scattergeo"
        },
        {
         "lat": [
          39.1754,
          32.73356
         ],
         "line": {
          "color": "#4682B4",
          "width": 1
         },
         "locationmode": "USA-states",
         "lon": [
          -76.6682,
          -117.18966
         ],
         "mode": "lines",
         "opacity": 0.0011396011396011397,
         "text": "From: Baltimore-Washington International Airport<br>To: San Diego International Airport (Lindbergh Field)<br>Avg. Delay: 0.03 mins",
         "type": "scattergeo"
        },
        {
         "lat": [
          39.1754,
          29.533690000000004
         ],
         "line": {
          "color": "#4682B4",
          "width": 1
         },
         "locationmode": "USA-states",
         "lon": [
          -76.6682,
          -98.46978
         ],
         "mode": "lines",
         "opacity": 0.13977947413061917,
         "text": "From: Baltimore-Washington International Airport<br>To: San Antonio International Airport<br>Avg. Delay: 4.19 mins",
         "type": "scattergeo"
        },
        {
         "lat": [
          39.1754,
          38.17439
         ],
         "line": {
          "color": "#4682B4",
          "width": 1
         },
         "locationmode": "USA-states",
         "lon": [
          -76.6682,
          -85.736
         ],
         "mode": "lines",
         "opacity": 0.1789029535864979,
         "text": "From: Baltimore-Washington International Airport<br>To: Louisville International Airport (Standiford Field)<br>Avg. Delay: 5.36 mins",
         "type": "scattergeo"
        },
        {
         "lat": [
          39.1754,
          47.44898
         ],
         "line": {
          "color": "#4682B4",
          "width": 1
         },
         "locationmode": "USA-states",
         "lon": [
          -76.6682,
          -122.30931000000001
         ],
         "mode": "lines",
         "opacity": 0.10351851851851852,
         "text": "From: Baltimore-Washington International Airport<br>To: Seattle-Tacoma International Airport<br>Avg. Delay: 3.1 mins",
         "type": "scattergeo"
        },
        {
         "lat": [
          39.1754,
          18.439420000000002
         ],
         "line": {
          "color": "#4682B4",
          "width": 1
         },
         "locationmode": "USA-states",
         "lon": [
          -76.6682,
          -66.00183
         ],
         "mode": "lines",
         "opacity": 0.24672043010752687,
         "text": "From: Baltimore-Washington International Airport<br>To: Luis Muñoz Marín International Airport<br>Avg. Delay: 7.4 mins",
         "type": "scattergeo"
        },
        {
         "lat": [
          39.1754,
          40.78839
         ],
         "line": {
          "color": "#4682B4",
          "width": 1
         },
         "locationmode": "USA-states",
         "lon": [
          -76.6682,
          -111.97776999999999
         ],
         "mode": "lines",
         "opacity": 0.15414507772020727,
         "text": "From: Baltimore-Washington International Airport<br>To: Salt Lake City International Airport<br>Avg. Delay: 4.62 mins",
         "type": "scattergeo"
        },
        {
         "lat": [
          39.1754,
          38.747690000000006
         ],
         "line": {
          "color": "#4682B4",
          "width": 1
         },
         "locationmode": "USA-states",
         "lon": [
          -76.6682,
          -90.35999
         ],
         "mode": "lines",
         "opacity": 0.13478869297509097,
         "text": "From: Baltimore-Washington International Airport<br>To: St. Louis International Airport at Lambert Field<br>Avg. Delay: 4.04 mins",
         "type": "scattergeo"
        },
        {
         "lat": [
          39.1754,
          27.97547
         ],
         "line": {
          "color": "#4682B4",
          "width": 1
         },
         "locationmode": "USA-states",
         "lon": [
          -76.6682,
          -82.53325
         ],
         "mode": "lines",
         "opacity": 0.20922549477949198,
         "text": "From: Baltimore-Washington International Airport<br>To: Tampa International Airport<br>Avg. Delay: 6.27 mins",
         "type": "scattergeo"
        },
        {
         "lat": [
          40.916309999999996,
          33.640440000000005
         ],
         "line": {
          "color": "#4682B4",
          "width": 1
         },
         "locationmode": "USA-states",
         "lon": [
          -81.44247,
          -84.42694
         ],
         "mode": "lines",
         "opacity": 0.008895705521472393,
         "text": "From: Akron-Canton Regional Airport<br>To: Hartsfield-Jackson Atlanta International Airport<br>Avg. Delay: 0.26 mins",
         "type": "scattergeo"
        },
        {
         "lat": [
          40.916309999999996,
          42.36435
         ],
         "line": {
          "color": "#4682B4",
          "width": 1
         },
         "locationmode": "USA-states",
         "lon": [
          -81.44247,
          -71.00518000000001
         ],
         "mode": "lines",
         "opacity": 0.10707762557077626,
         "text": "From: Akron-Canton Regional Airport<br>To: Gen. Edward Lawrence Logan International Airport<br>Avg. Delay: 3.21 mins",
         "type": "scattergeo"
        },
        {
         "lat": [
          40.916309999999996,
          38.85208
         ],
         "line": {
          "color": "#4682B4",
          "width": 1
         },
         "locationmode": "USA-states",
         "lon": [
          -81.44247,
          -77.03772
         ],
         "mode": "lines",
         "opacity": 0,
         "text": "From: Akron-Canton Regional Airport<br>To: Ronald Reagan Washington National Airport<br>Avg. Delay: -1.14 mins",
         "type": "scattergeo"
        },
        {
         "lat": [
          40.916309999999996,
          39.85841
         ],
         "line": {
          "color": "#4682B4",
          "width": 1
         },
         "locationmode": "USA-states",
         "lon": [
          -81.44247,
          -104.667
         ],
         "mode": "lines",
         "opacity": 0,
         "text": "From: Akron-Canton Regional Airport<br>To: Denver International Airport<br>Avg. Delay: -8.19 mins",
         "type": "scattergeo"
        },
        {
         "lat": [
          40.916309999999996,
          36.08036
         ],
         "line": {
          "color": "#4682B4",
          "width": 1
         },
         "locationmode": "USA-states",
         "lon": [
          -81.44247,
          -115.15233
         ],
         "mode": "lines",
         "opacity": 0,
         "text": "From: Akron-Canton Regional Airport<br>To: McCarran International Airport<br>Avg. Delay: -12.36 mins",
         "type": "scattergeo"
        },
        {
         "lat": [
          40.916309999999996,
          40.77724
         ],
         "line": {
          "color": "#4682B4",
          "width": 1
         },
         "locationmode": "USA-states",
         "lon": [
          -81.44247,
          -73.87261
         ],
         "mode": "lines",
         "opacity": 0.2569937369519833,
         "text": "From: Akron-Canton Regional Airport<br>To: LaGuardia Airport (Marine Air Terminal)<br>Avg. Delay: 7.7 mins",
         "type": "scattergeo"
        },
        {
         "lat": [
          40.916309999999996,
          28.428890000000003
         ],
         "line": {
          "color": "#4682B4",
          "width": 1
         },
         "locationmode": "USA-states",
         "lon": [
          -81.44247,
          -81.31603
         ],
         "mode": "lines",
         "opacity": 0,
         "text": "From: Akron-Canton Regional Airport<br>To: Orlando International Airport<br>Avg. Delay: -3.99 mins",
         "type": "scattergeo"
        },
        {
         "lat": [
          40.916309999999996,
          26.536170000000002
         ],
         "line": {
          "color": "#4682B4",
          "width": 1
         },
         "locationmode": "USA-states",
         "lon": [
          -81.44247,
          -81.75516999999999
         ],
         "mode": "lines",
         "opacity": 0,
         "text": "From: Akron-Canton Regional Airport<br>To: Southwest Florida International Airport<br>Avg. Delay: -0.87 mins",
         "type": "scattergeo"
        },
        {
         "lat": [
          40.916309999999996,
          27.97547
         ],
         "line": {
          "color": "#4682B4",
          "width": 1
         },
         "locationmode": "USA-states",
         "lon": [
          -81.44247,
          -82.53325
         ],
         "mode": "lines",
         "opacity": 0,
         "text": "From: Akron-Canton Regional Airport<br>To: Tampa International Airport<br>Avg. Delay: -6.38 mins",
         "type": "scattergeo"
        },
        {
         "lat": [
          32.89865,
          36.12448
         ],
         "line": {
          "color": "#4682B4",
          "width": 1
         },
         "locationmode": "USA-states",
         "lon": [
          -80.04051,
          -86.67818
         ],
         "mode": "lines",
         "opacity": 0.24314868804664724,
         "text": "From: Charleston International Airport/Charleston AFB<br>To: Nashville International Airport<br>Avg. Delay: 7.29 mins",
         "type": "scattergeo"
        },
        {
         "lat": [
          32.89865,
          39.1754
         ],
         "line": {
          "color": "#4682B4",
          "width": 1
         },
         "locationmode": "USA-states",
         "lon": [
          -80.04051,
          -76.6682
         ],
         "mode": "lines",
         "opacity": 0.09793126459793126,
         "text": "From: Charleston International Airport/Charleston AFB<br>To: Baltimore-Washington International Airport<br>Avg. Delay: 2.93 mins",
         "type": "scattergeo"
        },
        {
         "lat": [
          32.89865,
          32.84711
         ],
         "line": {
          "color": "#4682B4",
          "width": 1
         },
         "locationmode": "USA-states",
         "lon": [
          -80.04051,
          -96.85177
         ],
         "mode": "lines",
         "opacity": 0,
         "text": "From: Charleston International Airport/Charleston AFB<br>To: Dallas Love Field<br>Avg. Delay: -23.56 mins",
         "type": "scattergeo"
        },
        {
         "lat": [
          32.89865,
          29.64542
         ],
         "line": {
          "color": "#4682B4",
          "width": 1
         },
         "locationmode": "USA-states",
         "lon": [
          -80.04051,
          -95.27889
         ],
         "mode": "lines",
         "opacity": 0,
         "text": "From: Charleston International Airport/Charleston AFB<br>To: William P. Hobby Airport<br>Avg. Delay: -1.07 mins",
         "type": "scattergeo"
        },
        {
         "lat": [
          32.89865,
          41.78598
         ],
         "line": {
          "color": "#4682B4",
          "width": 1
         },
         "locationmode": "USA-states",
         "lon": [
          -80.04051,
          -87.75242
         ],
         "mode": "lines",
         "opacity": 0.04423558897243108,
         "text": "From: Charleston International Airport/Charleston AFB<br>To: Chicago Midway International Airport<br>Avg. Delay: 1.32 mins",
         "type": "scattergeo"
        },
        {
         "lat": [
          41.41089,
          36.12448
         ],
         "line": {
          "color": "#4682B4",
          "width": 1
         },
         "locationmode": "USA-states",
         "lon": [
          -81.8494,
          -86.67818
         ],
         "mode": "lines",
         "opacity": 0,
         "text": "From: Cleveland Hopkins International Airport<br>To: Nashville International Airport<br>Avg. Delay: -4.01 mins",
         "type": "scattergeo"
        },
        {
         "lat": [
          41.41089,
          39.1754
         ],
         "line": {
          "color": "#4682B4",
          "width": 1
         },
         "locationmode": "USA-states",
         "lon": [
          -81.8494,
          -76.6682
         ],
         "mode": "lines",
         "opacity": 0.055852746620649985,
         "text": "From: Cleveland Hopkins International Airport<br>To: Baltimore-Washington International Airport<br>Avg. Delay: 1.67 mins",
         "type": "scattergeo"
        },
        {
         "lat": [
          41.41089,
          39.85841
         ],
         "line": {
          "color": "#4682B4",
          "width": 1
         },
         "locationmode": "USA-states",
         "lon": [
          -81.8494,
          -104.667
         ],
         "mode": "lines",
         "opacity": 0,
         "text": "From: Cleveland Hopkins International Airport<br>To: Denver International Airport<br>Avg. Delay: -16.25 mins",
         "type": "scattergeo"
        },
        {
         "lat": [
          41.41089,
          36.08036
         ],
         "line": {
          "color": "#4682B4",
          "width": 1
         },
         "locationmode": "USA-states",
         "lon": [
          -81.8494,
          -115.15233
         ],
         "mode": "lines",
         "opacity": 0,
         "text": "From: Cleveland Hopkins International Airport<br>To: McCarran International Airport<br>Avg. Delay: -10.85 mins",
         "type": "scattergeo"
        },
        {
         "lat": [
          41.41089,
          28.428890000000003
         ],
         "line": {
          "color": "#4682B4",
          "width": 1
         },
         "locationmode": "USA-states",
         "lon": [
          -81.8494,
          -81.31603
         ],
         "mode": "lines",
         "opacity": 0.42,
         "text": "From: Cleveland Hopkins International Airport<br>To: Orlando International Airport<br>Avg. Delay: 12.6 mins",
         "type": "scattergeo"
        },
        {
         "lat": [
          41.41089,
          41.78598
         ],
         "line": {
          "color": "#4682B4",
          "width": 1
         },
         "locationmode": "USA-states",
         "lon": [
          -81.8494,
          -87.75242
         ],
         "mode": "lines",
         "opacity": 0.051428034573468624,
         "text": "From: Cleveland Hopkins International Airport<br>To: Chicago Midway International Airport<br>Avg. Delay: 1.54 mins",
         "type": "scattergeo"
        },
        {
         "lat": [
          41.41089,
          33.43417
         ],
         "line": {
          "color": "#4682B4",
          "width": 1
         },
         "locationmode": "USA-states",
         "lon": [
          -81.8494,
          -112.00806000000001
         ],
         "mode": "lines",
         "opacity": 0,
         "text": "From: Cleveland Hopkins International Airport<br>To: Phoenix Sky Harbor International Airport<br>Avg. Delay: -5.24 mins",
         "type": "scattergeo"
        },
        {
         "lat": [
          41.41089,
          26.536170000000002
         ],
         "line": {
          "color": "#4682B4",
          "width": 1
         },
         "locationmode": "USA-states",
         "lon": [
          -81.8494,
          -81.75516999999999
         ],
         "mode": "lines",
         "opacity": 0.24000000000000002,
         "text": "From: Cleveland Hopkins International Airport<br>To: Southwest Florida International Airport<br>Avg. Delay: 7.2 mins",
         "type": "scattergeo"
        },
        {
         "lat": [
          35.214009999999995,
          39.1754
         ],
         "line": {
          "color": "#4682B4",
          "width": 1
         },
         "locationmode": "USA-states",
         "lon": [
          -80.94313000000001,
          -76.6682
         ],
         "mode": "lines",
         "opacity": 0.3110591900311527,
         "text": "From: Charlotte Douglas International Airport<br>To: Baltimore-Washington International Airport<br>Avg. Delay: 9.33 mins",
         "type": "scattergeo"
        },
        {
         "lat": [
          35.214009999999995,
          32.84711
         ],
         "line": {
          "color": "#4682B4",
          "width": 1
         },
         "locationmode": "USA-states",
         "lon": [
          -80.94313000000001,
          -96.85177
         ],
         "mode": "lines",
         "opacity": 0,
         "text": "From: Charlotte Douglas International Airport<br>To: Dallas Love Field<br>Avg. Delay: -13.0 mins",
         "type": "scattergeo"
        },
        {
         "lat": [
          35.214009999999995,
          29.64542
         ],
         "line": {
          "color": "#4682B4",
          "width": 1
         },
         "locationmode": "USA-states",
         "lon": [
          -80.94313000000001,
          -95.27889
         ],
         "mode": "lines",
         "opacity": 0.11122994652406418,
         "text": "From: Charlotte Douglas International Airport<br>To: William P. Hobby Airport<br>Avg. Delay: 3.33 mins",
         "type": "scattergeo"
        },
        {
         "lat": [
          35.214009999999995,
          28.428890000000003
         ],
         "line": {
          "color": "#4682B4",
          "width": 1
         },
         "locationmode": "USA-states",
         "lon": [
          -80.94313000000001,
          -81.31603
         ],
         "mode": "lines",
         "opacity": 0.25,
         "text": "From: Charlotte Douglas International Airport<br>To: Orlando International Airport<br>Avg. Delay: 7.5 mins",
         "type": "scattergeo"
        },
        {
         "lat": [
          35.214009999999995,
          41.78598
         ],
         "line": {
          "color": "#4682B4",
          "width": 1
         },
         "locationmode": "USA-states",
         "lon": [
          -80.94313000000001,
          -87.75242
         ],
         "mode": "lines",
         "opacity": 0,
         "text": "From: Charlotte Douglas International Airport<br>To: Chicago Midway International Airport<br>Avg. Delay: -2.07 mins",
         "type": "scattergeo"
        },
        {
         "lat": [
          39.99799,
          33.640440000000005
         ],
         "line": {
          "color": "#4682B4",
          "width": 1
         },
         "locationmode": "USA-states",
         "lon": [
          -82.89188,
          -84.42694
         ],
         "mode": "lines",
         "opacity": 0.16429249762583095,
         "text": "From: Port Columbus International Airport<br>To: Hartsfield-Jackson Atlanta International Airport<br>Avg. Delay: 4.92 mins",
         "type": "scattergeo"
        },
        {
         "lat": [
          39.99799,
          36.12448
         ],
         "line": {
          "color": "#4682B4",
          "width": 1
         },
         "locationmode": "USA-states",
         "lon": [
          -82.89188,
          -86.67818
         ],
         "mode": "lines",
         "opacity": 0.03762214983713355,
         "text": "From: Port Columbus International Airport<br>To: Nashville International Airport<br>Avg. Delay: 1.12 mins",
         "type": "scattergeo"
        },
        {
         "lat": [
          39.99799,
          42.36435
         ],
         "line": {
          "color": "#4682B4",
          "width": 1
         },
         "locationmode": "USA-states",
         "lon": [
          -82.89188,
          -71.00518000000001
         ],
         "mode": "lines",
         "opacity": 0,
         "text": "From: Port Columbus International Airport<br>To: Gen. Edward Lawrence Logan International Airport<br>Avg. Delay: -4.5 mins",
         "type": "scattergeo"
        },
        {
         "lat": [
          39.99799,
          39.1754
         ],
         "line": {
          "color": "#4682B4",
          "width": 1
         },
         "locationmode": "USA-states",
         "lon": [
          -82.89188,
          -76.6682
         ],
         "mode": "lines",
         "opacity": 0.18342898134863703,
         "text": "From: Port Columbus International Airport<br>To: Baltimore-Washington International Airport<br>Avg. Delay: 5.5 mins",
         "type": "scattergeo"
        },
        {
         "lat": [
          39.99799,
          32.84711
         ],
         "line": {
          "color": "#4682B4",
          "width": 1
         },
         "locationmode": "USA-states",
         "lon": [
          -82.89188,
          -96.85177
         ],
         "mode": "lines",
         "opacity": 0.0923728813559322,
         "text": "From: Port Columbus International Airport<br>To: Dallas Love Field<br>Avg. Delay: 2.77 mins",
         "type": "scattergeo"
        },
        {
         "lat": [
          39.99799,
          38.85208
         ],
         "line": {
          "color": "#4682B4",
          "width": 1
         },
         "locationmode": "USA-states",
         "lon": [
          -82.89188,
          -77.03772
         ],
         "mode": "lines",
         "opacity": 0,
         "text": "From: Port Columbus International Airport<br>To: Ronald Reagan Washington National Airport<br>Avg. Delay: -1.62 mins",
         "type": "scattergeo"
        },
        {
         "lat": [
          39.99799,
          39.85841
         ],
         "line": {
          "color": "#4682B4",
          "width": 1
         },
         "locationmode": "USA-states",
         "lon": [
          -82.89188,
          -104.667
         ],
         "mode": "lines",
         "opacity": 0.14707818930041153,
         "text": "From: Port Columbus International Airport<br>To: Denver International Airport<br>Avg. Delay: 4.41 mins",
         "type": "scattergeo"
        },
        {
         "lat": [
          39.99799,
          26.07258
         ],
         "line": {
          "color": "#4682B4",
          "width": 1
         },
         "locationmode": "USA-states",
         "lon": [
          -82.89188,
          -80.15275
         ],
         "mode": "lines",
         "opacity": 0,
         "text": "From: Port Columbus International Airport<br>To: Fort Lauderdale-Hollywood International Airport<br>Avg. Delay: -1.21 mins",
         "type": "scattergeo"
        },
        {
         "lat": [
          39.99799,
          36.08036
         ],
         "line": {
          "color": "#4682B4",
          "width": 1
         },
         "locationmode": "USA-states",
         "lon": [
          -82.89188,
          -115.15233
         ],
         "mode": "lines",
         "opacity": 0,
         "text": "From: Port Columbus International Airport<br>To: McCarran International Airport<br>Avg. Delay: -3.79 mins",
         "type": "scattergeo"
        },
        {
         "lat": [
          39.99799,
          28.428890000000003
         ],
         "line": {
          "color": "#4682B4",
          "width": 1
         },
         "locationmode": "USA-states",
         "lon": [
          -82.89188,
          -81.31603
         ],
         "mode": "lines",
         "opacity": 0.08296509766250401,
         "text": "From: Port Columbus International Airport<br>To: Orlando International Airport<br>Avg. Delay: 2.48 mins",
         "type": "scattergeo"
        },
        {
         "lat": [
          39.99799,
          41.78598
         ],
         "line": {
          "color": "#4682B4",
          "width": 1
         },
         "locationmode": "USA-states",
         "lon": [
          -82.89188,
          -87.75242
         ],
         "mode": "lines",
         "opacity": 0.15865921787709497,
         "text": "From: Port Columbus International Airport<br>To: Chicago Midway International Airport<br>Avg. Delay: 4.75 mins",
         "type": "scattergeo"
        },
        {
         "lat": [
          39.99799,
          37.72129
         ],
         "line": {
          "color": "#4682B4",
          "width": 1
         },
         "locationmode": "USA-states",
         "lon": [
          -82.89188,
          -122.22072
         ],
         "mode": "lines",
         "opacity": 0,
         "text": "From: Port Columbus International Airport<br>To: Oakland International Airport<br>Avg. Delay: -9.14 mins",
         "type": "scattergeo"
        },
        {
         "lat": [
          39.99799,
          33.43417
         ],
         "line": {
          "color": "#4682B4",
          "width": 1
         },
         "locationmode": "USA-states",
         "lon": [
          -82.89188,
          -112.00806000000001
         ],
         "mode": "lines",
         "opacity": 0,
         "text": "From: Port Columbus International Airport<br>To: Phoenix Sky Harbor International Airport<br>Avg. Delay: -0.76 mins",
         "type": "scattergeo"
        },
        {
         "lat": [
          39.99799,
          26.536170000000002
         ],
         "line": {
          "color": "#4682B4",
          "width": 1
         },
         "locationmode": "USA-states",
         "lon": [
          -82.89188,
          -81.75516999999999
         ],
         "mode": "lines",
         "opacity": 0,
         "text": "From: Port Columbus International Airport<br>To: Southwest Florida International Airport<br>Avg. Delay: -3.92 mins",
         "type": "scattergeo"
        },
        {
         "lat": [
          39.99799,
          38.747690000000006
         ],
         "line": {
          "color": "#4682B4",
          "width": 1
         },
         "locationmode": "USA-states",
         "lon": [
          -82.89188,
          -90.35999
         ],
         "mode": "lines",
         "opacity": 0.1203514739229025,
         "text": "From: Port Columbus International Airport<br>To: St. Louis International Airport at Lambert Field<br>Avg. Delay: 3.61 mins",
         "type": "scattergeo"
        },
        {
         "lat": [
          39.99799,
          27.97547
         ],
         "line": {
          "color": "#4682B4",
          "width": 1
         },
         "locationmode": "USA-states",
         "lon": [
          -82.89188,
          -82.53325
         ],
         "mode": "lines",
         "opacity": 0,
         "text": "From: Port Columbus International Airport<br>To: Tampa International Airport<br>Avg. Delay: -2.99 mins",
         "type": "scattergeo"
        },
        {
         "lat": [
          27.770359999999997,
          29.64542
         ],
         "line": {
          "color": "#4682B4",
          "width": 1
         },
         "locationmode": "USA-states",
         "lon": [
          -97.50121999999999,
          -95.27889
         ],
         "mode": "lines",
         "opacity": 0.16512820512820514,
         "text": "From: Corpus Christi International Airport<br>To: William P. Hobby Airport<br>Avg. Delay: 4.95 mins",
         "type": "scattergeo"
        },
        {
         "lat": [
          32.84711,
          35.04022
         ],
         "line": {
          "color": "#4682B4",
          "width": 1
         },
         "locationmode": "USA-states",
         "lon": [
          -96.85177,
          -106.60918999999998
         ],
         "mode": "lines",
         "opacity": 0.33326898326898324,
         "text": "From: Dallas Love Field<br>To: Albuquerque International Sunport<br>Avg. Delay: 9.99 mins",
         "type": "scattergeo"
        },
        {
         "lat": [
          32.84711,
          35.21937
         ],
         "line": {
          "color": "#4682B4",
          "width": 1
         },
         "locationmode": "USA-states",
         "lon": [
          -96.85177,
          -101.70593000000001
         ],
         "mode": "lines",
         "opacity": 0.24549019607843137,
         "text": "From: Dallas Love Field<br>To: Rick Husband Amarillo International Airport<br>Avg. Delay: 7.36 mins",
         "type": "scattergeo"
        },
        {
         "lat": [
          32.84711,
          33.640440000000005
         ],
         "line": {
          "color": "#4682B4",
          "width": 1
         },
         "locationmode": "USA-states",
         "lon": [
          -96.85177,
          -84.42694
         ],
         "mode": "lines",
         "opacity": 0.15810578105781056,
         "text": "From: Dallas Love Field<br>To: Hartsfield-Jackson Atlanta International Airport<br>Avg. Delay: 4.74 mins",
         "type": "scattergeo"
        },
        {
         "lat": [
          32.84711,
          30.19453
         ],
         "line": {
          "color": "#4682B4",
          "width": 1
         },
         "locationmode": "USA-states",
         "lon": [
          -96.85177,
          -97.66986999999999
         ],
         "mode": "lines",
         "opacity": 0.40503636166286766,
         "text": "From: Dallas Love Field<br>To: Austin-Bergstrom International Airport<br>Avg. Delay: 12.15 mins",
         "type": "scattergeo"
        },
        {
         "lat": [
          32.84711,
          33.562940000000005
         ],
         "line": {
          "color": "#4682B4",
          "width": 1
         },
         "locationmode": "USA-states",
         "lon": [
          -96.85177,
          -86.75355
         ],
         "mode": "lines",
         "opacity": 0.33214814814814814,
         "text": "From: Dallas Love Field<br>To: Birmingham-Shuttlesworth International Airport<br>Avg. Delay: 9.96 mins",
         "type": "scattergeo"
        },
        {
         "lat": [
          32.84711,
          36.12448
         ],
         "line": {
          "color": "#4682B4",
          "width": 1
         },
         "locationmode": "USA-states",
         "lon": [
          -96.85177,
          -86.67818
         ],
         "mode": "lines",
         "opacity": 0.3090840840840841,
         "text": "From: Dallas Love Field<br>To: Nashville International Airport<br>Avg. Delay: 9.27 mins",
         "type": "scattergeo"
        },
        {
         "lat": [
          32.84711,
          42.36435
         ],
         "line": {
          "color": "#4682B4",
          "width": 1
         },
         "locationmode": "USA-states",
         "lon": [
          -96.85177,
          -71.00518000000001
         ],
         "mode": "lines",
         "opacity": 0.023976608187134502,
         "text": "From: Dallas Love Field<br>To: Gen. Edward Lawrence Logan International Airport<br>Avg. Delay: 0.71 mins",
         "type": "scattergeo"
        },
        {
         "lat": [
          32.84711,
          39.1754
         ],
         "line": {
          "color": "#4682B4",
          "width": 1
         },
         "locationmode": "USA-states",
         "lon": [
          -96.85177,
          -76.6682
         ],
         "mode": "lines",
         "opacity": 0.15091986280012473,
         "text": "From: Dallas Love Field<br>To: Baltimore-Washington International Airport<br>Avg. Delay: 4.52 mins",
         "type": "scattergeo"
        },
        {
         "lat": [
          32.84711,
          32.89865
         ],
         "line": {
          "color": "#4682B4",
          "width": 1
         },
         "locationmode": "USA-states",
         "lon": [
          -96.85177,
          -80.04051
         ],
         "mode": "lines",
         "opacity": 0.26055979643765903,
         "text": "From: Dallas Love Field<br>To: Charleston International Airport/Charleston AFB<br>Avg. Delay: 7.81 mins",
         "type": "scattergeo"
        },
        {
         "lat": [
          32.84711,
          35.214009999999995
         ],
         "line": {
          "color": "#4682B4",
          "width": 1
         },
         "locationmode": "USA-states",
         "lon": [
          -96.85177,
          -80.94313000000001
         ],
         "mode": "lines",
         "opacity": 0,
         "text": "From: Dallas Love Field<br>To: Charlotte Douglas International Airport<br>Avg. Delay: -6.38 mins",
         "type": "scattergeo"
        },
        {
         "lat": [
          32.84711,
          39.99799
         ],
         "line": {
          "color": "#4682B4",
          "width": 1
         },
         "locationmode": "USA-states",
         "lon": [
          -96.85177,
          -82.89188
         ],
         "mode": "lines",
         "opacity": 0.28565400843881855,
         "text": "From: Dallas Love Field<br>To: Port Columbus International Airport<br>Avg. Delay: 8.56 mins",
         "type": "scattergeo"
        },
        {
         "lat": [
          32.84711,
          38.85208
         ],
         "line": {
          "color": "#4682B4",
          "width": 1
         },
         "locationmode": "USA-states",
         "lon": [
          -96.85177,
          -77.03772
         ],
         "mode": "lines",
         "opacity": 0.07718177948063006,
         "text": "From: Dallas Love Field<br>To: Ronald Reagan Washington National Airport<br>Avg. Delay: 2.31 mins",
         "type": "scattergeo"
        },
        {
         "lat": [
          32.84711,
          39.85841
         ],
         "line": {
          "color": "#4682B4",
          "width": 1
         },
         "locationmode": "USA-states",
         "lon": [
          -96.85177,
          -104.667
         ],
         "mode": "lines",
         "opacity": 0.10274218925601258,
         "text": "From: Dallas Love Field<br>To: Denver International Airport<br>Avg. Delay: 3.08 mins",
         "type": "scattergeo"
        },
        {
         "lat": [
          32.84711,
          42.21206
         ],
         "line": {
          "color": "#4682B4",
          "width": 1
         },
         "locationmode": "USA-states",
         "lon": [
          -96.85177,
          -83.34884
         ],
         "mode": "lines",
         "opacity": 0.12300884955752213,
         "text": "From: Dallas Love Field<br>To: Detroit Metropolitan Airport<br>Avg. Delay: 3.69 mins",
         "type": "scattergeo"
        },
        {
         "lat": [
          32.84711,
          null
         ],
         "line": {
          "color": "#4682B4",
          "width": 1
         },
         "locationmode": "USA-states",
         "lon": [
          -96.85177,
          null
         ],
         "mode": "lines",
         "opacity": 0.2121412803532009,
         "text": "From: Dallas Love Field<br>To: Northwest Florida Beaches International Airport<br>Avg. Delay: 6.36 mins",
         "type": "scattergeo"
        },
        {
         "lat": [
          32.84711,
          31.80667
         ],
         "line": {
          "color": "#4682B4",
          "width": 1
         },
         "locationmode": "USA-states",
         "lon": [
          -96.85177,
          -106.37781000000001
         ],
         "mode": "lines",
         "opacity": 0.2987936008392342,
         "text": "From: Dallas Love Field<br>To: El Paso International Airport<br>Avg. Delay: 8.96 mins",
         "type": "scattergeo"
        },
        {
         "lat": [
          32.84711,
          26.07258
         ],
         "line": {
          "color": "#4682B4",
          "width": 1
         },
         "locationmode": "USA-states",
         "lon": [
          -96.85177,
          -80.15275
         ],
         "mode": "lines",
         "opacity": 0.2757009345794392,
         "text": "From: Dallas Love Field<br>To: Fort Lauderdale-Hollywood International Airport<br>Avg. Delay: 8.27 mins",
         "type": "scattergeo"
        },
        {
         "lat": [
          32.84711,
          29.64542
         ],
         "line": {
          "color": "#4682B4",
          "width": 1
         },
         "locationmode": "USA-states",
         "lon": [
          -96.85177,
          -95.27889
         ],
         "mode": "lines",
         "opacity": 0.29711702772724763,
         "text": "From: Dallas Love Field<br>To: William P. Hobby Airport<br>Avg. Delay: 8.91 mins",
         "type": "scattergeo"
        },
        {
         "lat": [
          32.84711,
          37.64996
         ],
         "line": {
          "color": "#4682B4",
          "width": 1
         },
         "locationmode": "USA-states",
         "lon": [
          -96.85177,
          -97.43305
         ],
         "mode": "lines",
         "opacity": 0.20680272108843537,
         "text": "From: Dallas Love Field<br>To: Wichita Dwight D. Eisenhower National Airport (Wichita Mid-Continent Airport)<br>Avg. Delay: 6.2 mins",
         "type": "scattergeo"
        },
        {
         "lat": [
          32.84711,
          39.71733
         ],
         "line": {
          "color": "#4682B4",
          "width": 1
         },
         "locationmode": "USA-states",
         "lon": [
          -96.85177,
          -86.29438
         ],
         "mode": "lines",
         "opacity": 0.38333333333333336,
         "text": "From: Dallas Love Field<br>To: Indianapolis International Airport<br>Avg. Delay: 11.5 mins",
         "type": "scattergeo"
        },
        {
         "lat": [
          32.84711,
          36.08036
         ],
         "line": {
          "color": "#4682B4",
          "width": 1
         },
         "locationmode": "USA-states",
         "lon": [
          -96.85177,
          -115.15233
         ],
         "mode": "lines",
         "opacity": 0.05045177045177045,
         "text": "From: Dallas Love Field<br>To: McCarran International Airport<br>Avg. Delay: 1.51 mins",
         "type": "scattergeo"
        },
        {
         "lat": [
          32.84711,
          33.94254
         ],
         "line": {
          "color": "#4682B4",
          "width": 1
         },
         "locationmode": "USA-states",
         "lon": [
          -96.85177,
          -118.40807
         ],
         "mode": "lines",
         "opacity": 0.29154191616766467,
         "text": "From: Dallas Love Field<br>To: Los Angeles International Airport<br>Avg. Delay: 8.74 mins",
         "type": "scattergeo"
        },
        {
         "lat": [
          32.84711,
          33.66364
         ],
         "line": {
          "color": "#4682B4",
          "width": 1
         },
         "locationmode": "USA-states",
         "lon": [
          -96.85177,
          -101.82278000000001
         ],
         "mode": "lines",
         "opacity": 0.21829722039833663,
         "text": "From: Dallas Love Field<br>To: Lubbock Preston Smith International Airport<br>Avg. Delay: 6.54 mins",
         "type": "scattergeo"
        },
        {
         "lat": [
          32.84711,
          40.77724
         ],
         "line": {
          "color": "#4682B4",
          "width": 1
         },
         "locationmode": "USA-states",
         "lon": [
          -96.85177,
          -73.87261
         ],
         "mode": "lines",
         "opacity": 0.2884644766997708,
         "text": "From: Dallas Love Field<br>To: LaGuardia Airport (Marine Air Terminal)<br>Avg. Delay: 8.65 mins",
         "type": "scattergeo"
        },
        {
         "lat": [
          32.84711,
          34.7294
         ],
         "line": {
          "color": "#4682B4",
          "width": 1
         },
         "locationmode": "USA-states",
         "lon": [
          -96.85177,
          -92.22425
         ],
         "mode": "lines",
         "opacity": 0.3194637537239325,
         "text": "From: Dallas Love Field<br>To: Bill and Hillary Clinton National Airport (Adams Field)<br>Avg. Delay: 9.58 mins",
         "type": "scattergeo"
        },
        {
         "lat": [
          32.84711,
          31.942529999999998
         ],
         "line": {
          "color": "#4682B4",
          "width": 1
         },
         "locationmode": "USA-states",
         "lon": [
          -96.85177,
          -102.20191
         ],
         "mode": "lines",
         "opacity": 0.285862691960253,
         "text": "From: Dallas Love Field<br>To: Midland International Airport<br>Avg. Delay: 8.57 mins",
         "type": "scattergeo"
        },
        {
         "lat": [
          32.84711,
          39.29761
         ],
         "line": {
          "color": "#4682B4",
          "width": 1
         },
         "locationmode": "USA-states",
         "lon": [
          -96.85177,
          -94.71391
         ],
         "mode": "lines",
         "opacity": 0.37913165266106447,
         "text": "From: Dallas Love Field<br>To: Kansas City International Airport<br>Avg. Delay: 11.37 mins",
         "type": "scattergeo"
        },
        {
         "lat": [
          32.84711,
          28.428890000000003
         ],
         "line": {
          "color": "#4682B4",
          "width": 1
         },
         "locationmode": "USA-states",
         "lon": [
          -96.85177,
          -81.31603
         ],
         "mode": "lines",
         "opacity": 0.2139055222887558,
         "text": "From: Dallas Love Field<br>To: Orlando International Airport<br>Avg. Delay: 6.41 mins",
         "type": "scattergeo"
        },
        {
         "lat": [
          32.84711,
          41.78598
         ],
         "line": {
          "color": "#4682B4",
          "width": 1
         },
         "locationmode": "USA-states",
         "lon": [
          -96.85177,
          -87.75242
         ],
         "mode": "lines",
         "opacity": 0.16074074074074074,
         "text": "From: Dallas Love Field<br>To: Chicago Midway International Airport<br>Avg. Delay: 4.82 mins",
         "type": "scattergeo"
        },
        {
         "lat": [
          32.84711,
          35.04242
         ],
         "line": {
          "color": "#4682B4",
          "width": 1
         },
         "locationmode": "USA-states",
         "lon": [
          -96.85177,
          -89.97667
         ],
         "mode": "lines",
         "opacity": 0.4383224873463485,
         "text": "From: Dallas Love Field<br>To: Memphis International Airport<br>Avg. Delay: 13.14 mins",
         "type": "scattergeo"
        },
        {
         "lat": [
          32.84711,
          42.94722
         ],
         "line": {
          "color": "#4682B4",
          "width": 1
         },
         "locationmode": "USA-states",
         "lon": [
          -96.85177,
          -87.89658
         ],
         "mode": "lines",
         "opacity": 0.05310734463276836,
         "text": "From: Dallas Love Field<br>To: General Mitchell International Airport<br>Avg. Delay: 1.59 mins",
         "type": "scattergeo"
        },
        {
         "lat": [
          32.84711,
          29.99339
         ],
         "line": {
          "color": "#4682B4",
          "width": 1
         },
         "locationmode": "USA-states",
         "lon": [
          -96.85177,
          -90.25803
         ],
         "mode": "lines",
         "opacity": 0.212380550871276,
         "text": "From: Dallas Love Field<br>To: Louis Armstrong New Orleans International Airport<br>Avg. Delay: 6.37 mins",
         "type": "scattergeo"
        },
        {
         "lat": [
          32.84711,
          37.72129
         ],
         "line": {
          "color": "#4682B4",
          "width": 1
         },
         "locationmode": "USA-states",
         "lon": [
          -96.85177,
          -122.22072
         ],
         "mode": "lines",
         "opacity": 0.13124647490129723,
         "text": "From: Dallas Love Field<br>To: Oakland International Airport<br>Avg. Delay: 3.93 mins",
         "type": "scattergeo"
        },
        {
         "lat": [
          32.84711,
          35.39309
         ],
         "line": {
          "color": "#4682B4",
          "width": 1
         },
         "locationmode": "USA-states",
         "lon": [
          -96.85177,
          -97.60073
         ],
         "mode": "lines",
         "opacity": 0.33290368779090584,
         "text": "From: Dallas Love Field<br>To: Will Rogers World Airport<br>Avg. Delay: 9.98 mins",
         "type": "scattergeo"
        },
        {
         "lat": [
          32.84711,
          41.30252
         ],
         "line": {
          "color": "#4682B4",
          "width": 1
         },
         "locationmode": "USA-states",
         "lon": [
          -96.85177,
          -95.89416999999999
         ],
         "mode": "lines",
         "opacity": 0,
         "text": "From: Dallas Love Field<br>To: Eppley Airfield<br>Avg. Delay: -0.24 mins",
         "type": "scattergeo"
        },
        {
         "lat": [
          32.84711,
          45.58872
         ],
         "line": {
          "color": "#4682B4",
          "width": 1
         },
         "locationmode": "USA-states",
         "lon": [
          -96.85177,
          -122.5975
         ],
         "mode": "lines",
         "opacity": 0.18107344632768363,
         "text": "From: Dallas Love Field<br>To: Portland International Airport<br>Avg. Delay: 5.43 mins",
         "type": "scattergeo"
        },
        {
         "lat": [
          32.84711,
          39.87195
         ],
         "line": {
          "color": "#4682B4",
          "width": 1
         },
         "locationmode": "USA-states",
         "lon": [
          -96.85177,
          -75.24114
         ],
         "mode": "lines",
         "opacity": 0.09793510324483776,
         "text": "From: Dallas Love Field<br>To: Philadelphia International Airport<br>Avg. Delay: 2.93 mins",
         "type": "scattergeo"
        },
        {
         "lat": [
          32.84711,
          33.43417
         ],
         "line": {
          "color": "#4682B4",
          "width": 1
         },
         "locationmode": "USA-states",
         "lon": [
          -96.85177,
          -112.00806000000001
         ],
         "mode": "lines",
         "opacity": 0.17947658402203856,
         "text": "From: Dallas Love Field<br>To: Phoenix Sky Harbor International Airport<br>Avg. Delay: 5.38 mins",
         "type": "scattergeo"
        },
        {
         "lat": [
          32.84711,
          40.49147
         ],
         "line": {
          "color": "#4682B4",
          "width": 1
         },
         "locationmode": "USA-states",
         "lon": [
          -96.85177,
          -80.23286999999999
         ],
         "mode": "lines",
         "opacity": 0.10501474926253687,
         "text": "From: Dallas Love Field<br>To: Pittsburgh International Airport<br>Avg. Delay: 3.15 mins",
         "type": "scattergeo"
        },
        {
         "lat": [
          32.84711,
          35.87764
         ],
         "line": {
          "color": "#4682B4",
          "width": 1
         },
         "locationmode": "USA-states",
         "lon": [
          -96.85177,
          -78.78747
         ],
         "mode": "lines",
         "opacity": 0.5400584795321637,
         "text": "From: Dallas Love Field<br>To: Raleigh-Durham International Airport<br>Avg. Delay: 16.2 mins",
         "type": "scattergeo"
        },
        {
         "lat": [
          32.84711,
          32.73356
         ],
         "line": {
          "color": "#4682B4",
          "width": 1
         },
         "locationmode": "USA-states",
         "lon": [
          -96.85177,
          -117.18966
         ],
         "mode": "lines",
         "opacity": 0.13510242085661078,
         "text": "From: Dallas Love Field<br>To: San Diego International Airport (Lindbergh Field)<br>Avg. Delay: 4.05 mins",
         "type": "scattergeo"
        },
        {
         "lat": [
          32.84711,
          29.533690000000004
         ],
         "line": {
          "color": "#4682B4",
          "width": 1
         },
         "locationmode": "USA-states",
         "lon": [
          -96.85177,
          -98.46978
         ],
         "mode": "lines",
         "opacity": 0.30997217584863657,
         "text": "From: Dallas Love Field<br>To: San Antonio International Airport<br>Avg. Delay: 9.29 mins",
         "type": "scattergeo"
        },
        {
         "lat": [
          32.84711,
          47.44898
         ],
         "line": {
          "color": "#4682B4",
          "width": 1
         },
         "locationmode": "USA-states",
         "lon": [
          -96.85177,
          -122.30931000000001
         ],
         "mode": "lines",
         "opacity": 0.33791423001949317,
         "text": "From: Dallas Love Field<br>To: Seattle-Tacoma International Airport<br>Avg. Delay: 10.13 mins",
         "type": "scattergeo"
        },
        {
         "lat": [
          32.84711,
          37.619
         ],
         "line": {
          "color": "#4682B4",
          "width": 1
         },
         "locationmode": "USA-states",
         "lon": [
          -96.85177,
          -122.37483999999999
         ],
         "mode": "lines",
         "opacity": 0.4205521472392638,
         "text": "From: Dallas Love Field<br>To: San Francisco International Airport<br>Avg. Delay: 12.61 mins",
         "type": "scattergeo"
        },
        {
         "lat": [
          32.84711,
          37.36186
         ],
         "line": {
          "color": "#4682B4",
          "width": 1
         },
         "locationmode": "USA-states",
         "lon": [
          -96.85177,
          -121.92901
         ],
         "mode": "lines",
         "opacity": 0.35954802259887003,
         "text": "From: Dallas Love Field<br>To: Norman Y. Mineta San José International Airport<br>Avg. Delay: 10.78 mins",
         "type": "scattergeo"
        },
        {
         "lat": [
          32.84711,
          40.78839
         ],
         "line": {
          "color": "#4682B4",
          "width": 1
         },
         "locationmode": "USA-states",
         "lon": [
          -96.85177,
          -111.97776999999999
         ],
         "mode": "lines",
         "opacity": 0.10818713450292397,
         "text": "From: Dallas Love Field<br>To: Salt Lake City International Airport<br>Avg. Delay: 3.24 mins",
         "type": "scattergeo"
        },
        {
         "lat": [
          32.84711,
          38.69542
         ],
         "line": {
          "color": "#4682B4",
          "width": 1
         },
         "locationmode": "USA-states",
         "lon": [
          -96.85177,
          -121.59076999999999
         ],
         "mode": "lines",
         "opacity": 0.6046610169491526,
         "text": "From: Dallas Love Field<br>To: Sacramento International Airport<br>Avg. Delay: 18.13 mins",
         "type": "scattergeo"
        },
        {
         "lat": [
          32.84711,
          33.67566
         ],
         "line": {
          "color": "#4682B4",
          "width": 1
         },
         "locationmode": "USA-states",
         "lon": [
          -96.85177,
          -117.86822
         ],
         "mode": "lines",
         "opacity": 0.19161976235146966,
         "text": "From: Dallas Love Field<br>To: John Wayne Airport (Orange County Airport)<br>Avg. Delay: 5.74 mins",
         "type": "scattergeo"
        },
        {
         "lat": [
          32.84711,
          38.747690000000006
         ],
         "line": {
          "color": "#4682B4",
          "width": 1
         },
         "locationmode": "USA-states",
         "lon": [
          -96.85177,
          -90.35999
         ],
         "mode": "lines",
         "opacity": 0.26879910213243546,
         "text": "From: Dallas Love Field<br>To: St. Louis International Airport at Lambert Field<br>Avg. Delay: 8.06 mins",
         "type": "scattergeo"
        },
        {
         "lat": [
          32.84711,
          27.97547
         ],
         "line": {
          "color": "#4682B4",
          "width": 1
         },
         "locationmode": "USA-states",
         "lon": [
          -96.85177,
          -82.53325
         ],
         "mode": "lines",
         "opacity": 0.31726546906187625,
         "text": "From: Dallas Love Field<br>To: Tampa International Airport<br>Avg. Delay: 9.51 mins",
         "type": "scattergeo"
        },
        {
         "lat": [
          32.84711,
          36.198370000000004
         ],
         "line": {
          "color": "#4682B4",
          "width": 1
         },
         "locationmode": "USA-states",
         "lon": [
          -96.85177,
          -95.88824
         ],
         "mode": "lines",
         "opacity": 0.4102646638054363,
         "text": "From: Dallas Love Field<br>To: Tulsa International Airport<br>Avg. Delay: 12.3 mins",
         "type": "scattergeo"
        },
        {
         "lat": [
          39.90238,
          39.1754
         ],
         "line": {
          "color": "#4682B4",
          "width": 1
         },
         "locationmode": "USA-states",
         "lon": [
          -84.21938,
          -76.6682
         ],
         "mode": "lines",
         "opacity": 0.11774827925270404,
         "text": "From: James M. Cox Dayton International Airport<br>To: Baltimore-Washington International Airport<br>Avg. Delay: 3.53 mins",
         "type": "scattergeo"
        },
        {
         "lat": [
          39.90238,
          39.85841
         ],
         "line": {
          "color": "#4682B4",
          "width": 1
         },
         "locationmode": "USA-states",
         "lon": [
          -84.21938,
          -104.667
         ],
         "mode": "lines",
         "opacity": 0,
         "text": "From: James M. Cox Dayton International Airport<br>To: Denver International Airport<br>Avg. Delay: -6.73 mins",
         "type": "scattergeo"
        },
        {
         "lat": [
          39.90238,
          28.428890000000003
         ],
         "line": {
          "color": "#4682B4",
          "width": 1
         },
         "locationmode": "USA-states",
         "lon": [
          -84.21938,
          -81.31603
         ],
         "mode": "lines",
         "opacity": 0,
         "text": "From: James M. Cox Dayton International Airport<br>To: Orlando International Airport<br>Avg. Delay: -2.49 mins",
         "type": "scattergeo"
        },
        {
         "lat": [
          39.90238,
          27.97547
         ],
         "line": {
          "color": "#4682B4",
          "width": 1
         },
         "locationmode": "USA-states",
         "lon": [
          -84.21938,
          -82.53325
         ],
         "mode": "lines",
         "opacity": 0.4247126436781609,
         "text": "From: James M. Cox Dayton International Airport<br>To: Tampa International Airport<br>Avg. Delay: 12.74 mins",
         "type": "scattergeo"
        },
        {
         "lat": [
          38.85208,
          33.640440000000005
         ],
         "line": {
          "color": "#4682B4",
          "width": 1
         },
         "locationmode": "USA-states",
         "lon": [
          -77.03772,
          -84.42694
         ],
         "mode": "lines",
         "opacity": 0.1245719489981785,
         "text": "From: Ronald Reagan Washington National Airport<br>To: Hartsfield-Jackson Atlanta International Airport<br>Avg. Delay: 3.73 mins",
         "type": "scattergeo"
        },
        {
         "lat": [
          38.85208,
          30.19453
         ],
         "line": {
          "color": "#4682B4",
          "width": 1
         },
         "locationmode": "USA-states",
         "lon": [
          -77.03772,
          -97.66986999999999
         ],
         "mode": "lines",
         "opacity": 0.019367991845056064,
         "text": "From: Ronald Reagan Washington National Airport<br>To: Austin-Bergstrom International Airport<br>Avg. Delay: 0.58 mins",
         "type": "scattergeo"
        },
        {
         "lat": [
          38.85208,
          36.12448
         ],
         "line": {
          "color": "#4682B4",
          "width": 1
         },
         "locationmode": "USA-states",
         "lon": [
          -77.03772,
          -86.67818
         ],
         "mode": "lines",
         "opacity": 0,
         "text": "From: Ronald Reagan Washington National Airport<br>To: Nashville International Airport<br>Avg. Delay: -0.94 mins",
         "type": "scattergeo"
        },
        {
         "lat": [
          38.85208,
          40.916309999999996
         ],
         "line": {
          "color": "#4682B4",
          "width": 1
         },
         "locationmode": "USA-states",
         "lon": [
          -77.03772,
          -81.44247
         ],
         "mode": "lines",
         "opacity": 0.11698352344740177,
         "text": "From: Ronald Reagan Washington National Airport<br>To: Akron-Canton Regional Airport<br>Avg. Delay: 3.5 mins",
         "type": "scattergeo"
        },
        {
         "lat": [
          38.85208,
          39.99799
         ],
         "line": {
          "color": "#4682B4",
          "width": 1
         },
         "locationmode": "USA-states",
         "lon": [
          -77.03772,
          -82.89188
         ],
         "mode": "lines",
         "opacity": 0.32857142857142857,
         "text": "From: Ronald Reagan Washington National Airport<br>To: Port Columbus International Airport<br>Avg. Delay: 9.85 mins",
         "type": "scattergeo"
        },
        {
         "lat": [
          38.85208,
          32.84711
         ],
         "line": {
          "color": "#4682B4",
          "width": 1
         },
         "locationmode": "USA-states",
         "lon": [
          -77.03772,
          -96.85177
         ],
         "mode": "lines",
         "opacity": 0,
         "text": "From: Ronald Reagan Washington National Airport<br>To: Dallas Love Field<br>Avg. Delay: -6.13 mins",
         "type": "scattergeo"
        },
        {
         "lat": [
          38.85208,
          26.07258
         ],
         "line": {
          "color": "#4682B4",
          "width": 1
         },
         "locationmode": "USA-states",
         "lon": [
          -77.03772,
          -80.15275
         ],
         "mode": "lines",
         "opacity": 0,
         "text": "From: Ronald Reagan Washington National Airport<br>To: Fort Lauderdale-Hollywood International Airport<br>Avg. Delay: -2.47 mins",
         "type": "scattergeo"
        },
        {
         "lat": [
          38.85208,
          29.64542
         ],
         "line": {
          "color": "#4682B4",
          "width": 1
         },
         "locationmode": "USA-states",
         "lon": [
          -77.03772,
          -95.27889
         ],
         "mode": "lines",
         "opacity": 0,
         "text": "From: Ronald Reagan Washington National Airport<br>To: William P. Hobby Airport<br>Avg. Delay: -8.01 mins",
         "type": "scattergeo"
        },
        {
         "lat": [
          38.85208,
          39.71733
         ],
         "line": {
          "color": "#4682B4",
          "width": 1
         },
         "locationmode": "USA-states",
         "lon": [
          -77.03772,
          -86.29438
         ],
         "mode": "lines",
         "opacity": 0.028711256117455137,
         "text": "From: Ronald Reagan Washington National Airport<br>To: Indianapolis International Airport<br>Avg. Delay: 0.86 mins",
         "type": "scattergeo"
        },
        {
         "lat": [
          38.85208,
          39.29761
         ],
         "line": {
          "color": "#4682B4",
          "width": 1
         },
         "locationmode": "USA-states",
         "lon": [
          -77.03772,
          -94.71391
         ],
         "mode": "lines",
         "opacity": 0,
         "text": "From: Ronald Reagan Washington National Airport<br>To: Kansas City International Airport<br>Avg. Delay: -0.8 mins",
         "type": "scattergeo"
        },
        {
         "lat": [
          38.85208,
          28.428890000000003
         ],
         "line": {
          "color": "#4682B4",
          "width": 1
         },
         "locationmode": "USA-states",
         "lon": [
          -77.03772,
          -81.31603
         ],
         "mode": "lines",
         "opacity": 0.8868852459016394,
         "text": "From: Ronald Reagan Washington National Airport<br>To: Orlando International Airport<br>Avg. Delay: 26.6 mins",
         "type": "scattergeo"
        },
        {
         "lat": [
          38.85208,
          41.78598
         ],
         "line": {
          "color": "#4682B4",
          "width": 1
         },
         "locationmode": "USA-states",
         "lon": [
          -77.03772,
          -87.75242
         ],
         "mode": "lines",
         "opacity": 0.043883566691230655,
         "text": "From: Ronald Reagan Washington National Airport<br>To: Chicago Midway International Airport<br>Avg. Delay: 1.31 mins",
         "type": "scattergeo"
        },
        {
         "lat": [
          38.85208,
          42.94722
         ],
         "line": {
          "color": "#4682B4",
          "width": 1
         },
         "locationmode": "USA-states",
         "lon": [
          -77.03772,
          -87.89658
         ],
         "mode": "lines",
         "opacity": 0,
         "text": "From: Ronald Reagan Washington National Airport<br>To: General Mitchell International Airport<br>Avg. Delay: -2.18 mins",
         "type": "scattergeo"
        },
        {
         "lat": [
          38.85208,
          29.99339
         ],
         "line": {
          "color": "#4682B4",
          "width": 1
         },
         "locationmode": "USA-states",
         "lon": [
          -77.03772,
          -90.25803
         ],
         "mode": "lines",
         "opacity": 0,
         "text": "From: Ronald Reagan Washington National Airport<br>To: Louis Armstrong New Orleans International Airport<br>Avg. Delay: -2.89 mins",
         "type": "scattergeo"
        },
        {
         "lat": [
          38.85208,
          26.536170000000002
         ],
         "line": {
          "color": "#4682B4",
          "width": 1
         },
         "locationmode": "USA-states",
         "lon": [
          -77.03772,
          -81.75516999999999
         ],
         "mode": "lines",
         "opacity": 0,
         "text": "From: Ronald Reagan Washington National Airport<br>To: Southwest Florida International Airport<br>Avg. Delay: -7.91 mins",
         "type": "scattergeo"
        },
        {
         "lat": [
          38.85208,
          38.747690000000006
         ],
         "line": {
          "color": "#4682B4",
          "width": 1
         },
         "locationmode": "USA-states",
         "lon": [
          -77.03772,
          -90.35999
         ],
         "mode": "lines",
         "opacity": 0,
         "text": "From: Ronald Reagan Washington National Airport<br>To: St. Louis International Airport at Lambert Field<br>Avg. Delay: -1.64 mins",
         "type": "scattergeo"
        },
        {
         "lat": [
          38.85208,
          27.97547
         ],
         "line": {
          "color": "#4682B4",
          "width": 1
         },
         "locationmode": "USA-states",
         "lon": [
          -77.03772,
          -82.53325
         ],
         "mode": "lines",
         "opacity": 0.07079463364293086,
         "text": "From: Ronald Reagan Washington National Airport<br>To: Tampa International Airport<br>Avg. Delay: 2.12 mins",
         "type": "scattergeo"
        },
        {
         "lat": [
          39.85841,
          35.04022
         ],
         "line": {
          "color": "#4682B4",
          "width": 1
         },
         "locationmode": "USA-states",
         "lon": [
          -104.667,
          -106.60918999999998
         ],
         "mode": "lines",
         "opacity": 0.2382034632034632,
         "text": "From: Denver International Airport<br>To: Albuquerque International Sunport<br>Avg. Delay: 7.14 mins",
         "type": "scattergeo"
        },
        {
         "lat": [
          39.85841,
          42.74812
         ],
         "line": {
          "color": "#4682B4",
          "width": 1
         },
         "locationmode": "USA-states",
         "lon": [
          -104.667,
          -73.80298
         ],
         "mode": "lines",
         "opacity": 0,
         "text": "From: Denver International Airport<br>To: Albany International Airport<br>Avg. Delay: -16.33 mins",
         "type": "scattergeo"
        },
        {
         "lat": [
          39.85841,
          33.640440000000005
         ],
         "line": {
          "color": "#4682B4",
          "width": 1
         },
         "locationmode": "USA-states",
         "lon": [
          -104.667,
          -84.42694
         ],
         "mode": "lines",
         "opacity": 0.157166392092257,
         "text": "From: Denver International Airport<br>To: Hartsfield-Jackson Atlanta International Airport<br>Avg. Delay: 4.71 mins",
         "type": "scattergeo"
        },
        {
         "lat": [
          39.85841,
          30.19453
         ],
         "line": {
          "color": "#4682B4",
          "width": 1
         },
         "locationmode": "USA-states",
         "lon": [
          -104.667,
          -97.66986999999999
         ],
         "mode": "lines",
         "opacity": 0.23500269251480882,
         "text": "From: Denver International Airport<br>To: Austin-Bergstrom International Airport<br>Avg. Delay: 7.05 mins",
         "type": "scattergeo"
        },
        {
         "lat": [
          39.85841,
          41.93887
         ],
         "line": {
          "color": "#4682B4",
          "width": 1
         },
         "locationmode": "USA-states",
         "lon": [
          -104.667,
          -72.68323000000001
         ],
         "mode": "lines",
         "opacity": 0.1573134328358209,
         "text": "From: Denver International Airport<br>To: Bradley International Airport<br>Avg. Delay: 4.71 mins",
         "type": "scattergeo"
        },
        {
         "lat": [
          39.85841,
          36.12448
         ],
         "line": {
          "color": "#4682B4",
          "width": 1
         },
         "locationmode": "USA-states",
         "lon": [
          -104.667,
          -86.67818
         ],
         "mode": "lines",
         "opacity": 0.1602374746597162,
         "text": "From: Denver International Airport<br>To: Nashville International Airport<br>Avg. Delay: 4.8 mins",
         "type": "scattergeo"
        },
        {
         "lat": [
          39.85841,
          43.564440000000005
         ],
         "line": {
          "color": "#4682B4",
          "width": 1
         },
         "locationmode": "USA-states",
         "lon": [
          -104.667,
          -116.22278
         ],
         "mode": "lines",
         "opacity": 0.2433838383838384,
         "text": "From: Denver International Airport<br>To: Boise Airport (Boise Air Terminal)<br>Avg. Delay: 7.3 mins",
         "type": "scattergeo"
        },
        {
         "lat": [
          39.85841,
          42.36435
         ],
         "line": {
          "color": "#4682B4",
          "width": 1
         },
         "locationmode": "USA-states",
         "lon": [
          -104.667,
          -71.00518000000001
         ],
         "mode": "lines",
         "opacity": 0.2637137137137137,
         "text": "From: Denver International Airport<br>To: Gen. Edward Lawrence Logan International Airport<br>Avg. Delay: 7.91 mins",
         "type": "scattergeo"
        },
        {
         "lat": [
          39.85841,
          34.20062
         ],
         "line": {
          "color": "#4682B4",
          "width": 1
         },
         "locationmode": "USA-states",
         "lon": [
          -104.667,
          -118.3585
         ],
         "mode": "lines",
         "opacity": 0.07268817204301076,
         "text": "From: Denver International Airport<br>To: Bob Hope Airport (Hollywood Burbank Airport)<br>Avg. Delay: 2.18 mins",
         "type": "scattergeo"
        },
        {
         "lat": [
          39.85841,
          39.1754
         ],
         "line": {
          "color": "#4682B4",
          "width": 1
         },
         "locationmode": "USA-states",
         "lon": [
          -104.667,
          -76.6682
         ],
         "mode": "lines",
         "opacity": 0.1537420382165605,
         "text": "From: Denver International Airport<br>To: Baltimore-Washington International Airport<br>Avg. Delay: 4.61 mins",
         "type": "scattergeo"
        },
        {
         "lat": [
          39.85841,
          40.916309999999996
         ],
         "line": {
          "color": "#4682B4",
          "width": 1
         },
         "locationmode": "USA-states",
         "lon": [
          -104.667,
          -81.44247
         ],
         "mode": "lines",
         "opacity": 0.13592592592592592,
         "text": "From: Denver International Airport<br>To: Akron-Canton Regional Airport<br>Avg. Delay: 4.07 mins",
         "type": "scattergeo"
        },
        {
         "lat": [
          39.85841,
          41.41089
         ],
         "line": {
          "color": "#4682B4",
          "width": 1
         },
         "locationmode": "USA-states",
         "lon": [
          -104.667,
          -81.8494
         ],
         "mode": "lines",
         "opacity": 0,
         "text": "From: Denver International Airport<br>To: Cleveland Hopkins International Airport<br>Avg. Delay: -4.47 mins",
         "type": "scattergeo"
        },
        {
         "lat": [
          39.85841,
          39.99799
         ],
         "line": {
          "color": "#4682B4",
          "width": 1
         },
         "locationmode": "USA-states",
         "lon": [
          -104.667,
          -82.89188
         ],
         "mode": "lines",
         "opacity": 0.1647010647010647,
         "text": "From: Denver International Airport<br>To: Port Columbus International Airport<br>Avg. Delay: 4.94 mins",
         "type": "scattergeo"
        },
        {
         "lat": [
          39.85841,
          32.84711
         ],
         "line": {
          "color": "#4682B4",
          "width": 1
         },
         "locationmode": "USA-states",
         "lon": [
          -104.667,
          -96.85177
         ],
         "mode": "lines",
         "opacity": 0.1856456043956044,
         "text": "From: Denver International Airport<br>To: Dallas Love Field<br>Avg. Delay: 5.56 mins",
         "type": "scattergeo"
        },
        {
         "lat": [
          39.85841,
          39.90238
         ],
         "line": {
          "color": "#4682B4",
          "width": 1
         },
         "locationmode": "USA-states",
         "lon": [
          -104.667,
          -84.21938
         ],
         "mode": "lines",
         "opacity": 0.34767676767676764,
         "text": "From: Denver International Airport<br>To: James M. Cox Dayton International Airport<br>Avg. Delay: 10.43 mins",
         "type": "scattergeo"
        },
        {
         "lat": [
          39.85841,
          42.21206
         ],
         "line": {
          "color": "#4682B4",
          "width": 1
         },
         "locationmode": "USA-states",
         "lon": [
          -104.667,
          -83.34884
         ],
         "mode": "lines",
         "opacity": 0.3480668756530826,
         "text": "From: Denver International Airport<br>To: Detroit Metropolitan Airport<br>Avg. Delay: 10.44 mins",
         "type": "scattergeo"
        },
        {
         "lat": [
          39.85841,
          40.6925
         ],
         "line": {
          "color": "#4682B4",
          "width": 1
         },
         "locationmode": "USA-states",
         "lon": [
          -104.667,
          -74.16866
         ],
         "mode": "lines",
         "opacity": 0.47321131447587356,
         "text": "From: Denver International Airport<br>To: Newark Liberty International Airport<br>Avg. Delay: 14.19 mins",
         "type": "scattergeo"
        },
        {
         "lat": [
          39.85841,
          26.07258
         ],
         "line": {
          "color": "#4682B4",
          "width": 1
         },
         "locationmode": "USA-states",
         "lon": [
          -104.667,
          -80.15275
         ],
         "mode": "lines",
         "opacity": 0.101181592039801,
         "text": "From: Denver International Airport<br>To: Fort Lauderdale-Hollywood International Airport<br>Avg. Delay: 3.03 mins",
         "type": "scattergeo"
        },
        {
         "lat": [
          39.85841,
          47.619859999999996
         ],
         "line": {
          "color": "#4682B4",
          "width": 1
         },
         "locationmode": "USA-states",
         "lon": [
          -104.667,
          -117.53383999999998
         ],
         "mode": "lines",
         "opacity": 0.10020865936358894,
         "text": "From: Denver International Airport<br>To: Spokane International Airport<br>Avg. Delay: 3.0 mins",
         "type": "scattergeo"
        },
        {
         "lat": [
          39.85841,
          42.88082
         ],
         "line": {
          "color": "#4682B4",
          "width": 1
         },
         "locationmode": "USA-states",
         "lon": [
          -104.667,
          -85.52277
         ],
         "mode": "lines",
         "opacity": 0.1646586345381526,
         "text": "From: Denver International Airport<br>To: Gerald R. Ford International Airport<br>Avg. Delay: 4.93 mins",
         "type": "scattergeo"
        },
        {
         "lat": [
          39.85841,
          29.64542
         ],
         "line": {
          "color": "#4682B4",
          "width": 1
         },
         "locationmode": "USA-states",
         "lon": [
          -104.667,
          -95.27889
         ],
         "mode": "lines",
         "opacity": 0.22720504009163803,
         "text": "From: Denver International Airport<br>To: William P. Hobby Airport<br>Avg. Delay: 6.81 mins",
         "type": "scattergeo"
        },
        {
         "lat": [
          39.85841,
          38.94453
         ],
         "line": {
          "color": "#4682B4",
          "width": 1
         },
         "locationmode": "USA-states",
         "lon": [
          -104.667,
          -77.45581
         ],
         "mode": "lines",
         "opacity": 0.13417213712618528,
         "text": "From: Denver International Airport<br>To: Washington Dulles International Airport<br>Avg. Delay: 4.02 mins",
         "type": "scattergeo"
        },
        {
         "lat": [
          39.85841,
          39.71733
         ],
         "line": {
          "color": "#4682B4",
          "width": 1
         },
         "locationmode": "USA-states",
         "lon": [
          -104.667,
          -86.29438
         ],
         "mode": "lines",
         "opacity": 0.2921506511791623,
         "text": "From: Denver International Airport<br>To: Indianapolis International Airport<br>Avg. Delay: 8.76 mins",
         "type": "scattergeo"
        },
        {
         "lat": [
          39.85841,
          30.494059999999998
         ],
         "line": {
          "color": "#4682B4",
          "width": 1
         },
         "locationmode": "USA-states",
         "lon": [
          -104.667,
          -81.68786
         ],
         "mode": "lines",
         "opacity": 0.37202380952380953,
         "text": "From: Denver International Airport<br>To: Jacksonville International Airport<br>Avg. Delay: 11.16 mins",
         "type": "scattergeo"
        },
        {
         "lat": [
          39.85841,
          36.08036
         ],
         "line": {
          "color": "#4682B4",
          "width": 1
         },
         "locationmode": "USA-states",
         "lon": [
          -104.667,
          -115.15233
         ],
         "mode": "lines",
         "opacity": 0.12479380789239944,
         "text": "From: Denver International Airport<br>To: McCarran International Airport<br>Avg. Delay: 3.74 mins",
         "type": "scattergeo"
        },
        {
         "lat": [
          39.85841,
          33.94254
         ],
         "line": {
          "color": "#4682B4",
          "width": 1
         },
         "locationmode": "USA-states",
         "lon": [
          -104.667,
          -118.40807
         ],
         "mode": "lines",
         "opacity": 0.265810746552544,
         "text": "From: Denver International Airport<br>To: Los Angeles International Airport<br>Avg. Delay: 7.97 mins",
         "type": "scattergeo"
        },
        {
         "lat": [
          39.85841,
          40.77724
         ],
         "line": {
          "color": "#4682B4",
          "width": 1
         },
         "locationmode": "USA-states",
         "lon": [
          -104.667,
          -73.87261
         ],
         "mode": "lines",
         "opacity": 0.24154589371980678,
         "text": "From: Denver International Airport<br>To: LaGuardia Airport (Marine Air Terminal)<br>Avg. Delay: 7.24 mins",
         "type": "scattergeo"
        },
        {
         "lat": [
          39.85841,
          39.29761
         ],
         "line": {
          "color": "#4682B4",
          "width": 1
         },
         "locationmode": "USA-states",
         "lon": [
          -104.667,
          -94.71391
         ],
         "mode": "lines",
         "opacity": 0.20224502886465684,
         "text": "From: Denver International Airport<br>To: Kansas City International Airport<br>Avg. Delay: 6.06 mins",
         "type": "scattergeo"
        },
        {
         "lat": [
          39.85841,
          28.428890000000003
         ],
         "line": {
          "color": "#4682B4",
          "width": 1
         },
         "locationmode": "USA-states",
         "lon": [
          -104.667,
          -81.31603
         ],
         "mode": "lines",
         "opacity": 0.20804701627486435,
         "text": "From: Denver International Airport<br>To: Orlando International Airport<br>Avg. Delay: 6.24 mins",
         "type": "scattergeo"
        },
        {
         "lat": [
          39.85841,
          41.78598
         ],
         "line": {
          "color": "#4682B4",
          "width": 1
         },
         "locationmode": "USA-states",
         "lon": [
          -104.667,
          -87.75242
         ],
         "mode": "lines",
         "opacity": 0.15585927613262465,
         "text": "From: Denver International Airport<br>To: Chicago Midway International Airport<br>Avg. Delay: 4.67 mins",
         "type": "scattergeo"
        },
        {
         "lat": [
          39.85841,
          42.94722
         ],
         "line": {
          "color": "#4682B4",
          "width": 1
         },
         "locationmode": "USA-states",
         "lon": [
          -104.667,
          -87.89658
         ],
         "mode": "lines",
         "opacity": 0.25952950558213717,
         "text": "From: Denver International Airport<br>To: General Mitchell International Airport<br>Avg. Delay: 7.78 mins",
         "type": "scattergeo"
        },
        {
         "lat": [
          39.85841,
          44.88055
         ],
         "line": {
          "color": "#4682B4",
          "width": 1
         },
         "locationmode": "USA-states",
         "lon": [
          -104.667,
          -93.21692
         ],
         "mode": "lines",
         "opacity": 0.2682765151515152,
         "text": "From: Denver International Airport<br>To: Minneapolis-Saint Paul International Airport<br>Avg. Delay: 8.04 mins",
         "type": "scattergeo"
        },
        {
         "lat": [
          39.85841,
          29.99339
         ],
         "line": {
          "color": "#4682B4",
          "width": 1
         },
         "locationmode": "USA-states",
         "lon": [
          -104.667,
          -90.25803
         ],
         "mode": "lines",
         "opacity": 0.19680365296803654,
         "text": "From: Denver International Airport<br>To: Louis Armstrong New Orleans International Airport<br>Avg. Delay: 5.9 mins",
         "type": "scattergeo"
        },
        {
         "lat": [
          39.85841,
          37.72129
         ],
         "line": {
          "color": "#4682B4",
          "width": 1
         },
         "locationmode": "USA-states",
         "lon": [
          -104.667,
          -122.22072
         ],
         "mode": "lines",
         "opacity": 0.10279815267590328,
         "text": "From: Denver International Airport<br>To: Oakland International Airport<br>Avg. Delay: 3.08 mins",
         "type": "scattergeo"
        },
        {
         "lat": [
          39.85841,
          35.39309
         ],
         "line": {
          "color": "#4682B4",
          "width": 1
         },
         "locationmode": "USA-states",
         "lon": [
          -104.667,
          -97.60073
         ],
         "mode": "lines",
         "opacity": 0.26219599427753937,
         "text": "From: Denver International Airport<br>To: Will Rogers World Airport<br>Avg. Delay: 7.86 mins",
         "type": "scattergeo"
        },
        {
         "lat": [
          39.85841,
          41.30252
         ],
         "line": {
          "color": "#4682B4",
          "width": 1
         },
         "locationmode": "USA-states",
         "lon": [
          -104.667,
          -95.89416999999999
         ],
         "mode": "lines",
         "opacity": 0.28614351360904916,
         "text": "From: Denver International Airport<br>To: Eppley Airfield<br>Avg. Delay: 8.58 mins",
         "type": "scattergeo"
        },
        {
         "lat": [
          39.85841,
          34.056
         ],
         "line": {
          "color": "#4682B4",
          "width": 1
         },
         "locationmode": "USA-states",
         "lon": [
          -104.667,
          -117.60118999999999
         ],
         "mode": "lines",
         "opacity": 0.07504132231404959,
         "text": "From: Denver International Airport<br>To: Ontario International Airport<br>Avg. Delay: 2.25 mins",
         "type": "scattergeo"
        },
        {
         "lat": [
          39.85841,
          45.58872
         ],
         "line": {
          "color": "#4682B4",
          "width": 1
         },
         "locationmode": "USA-states",
         "lon": [
          -104.667,
          -122.5975
         ],
         "mode": "lines",
         "opacity": 0.059978598180845374,
         "text": "From: Denver International Airport<br>To: Portland International Airport<br>Avg. Delay: 1.79 mins",
         "type": "scattergeo"
        },
        {
         "lat": [
          39.85841,
          39.87195
         ],
         "line": {
          "color": "#4682B4",
          "width": 1
         },
         "locationmode": "USA-states",
         "lon": [
          -104.667,
          -75.24114
         ],
         "mode": "lines",
         "opacity": 0.13977713178294573,
         "text": "From: Denver International Airport<br>To: Philadelphia International Airport<br>Avg. Delay: 4.19 mins",
         "type": "scattergeo"
        },
        {
         "lat": [
          39.85841,
          33.43417
         ],
         "line": {
          "color": "#4682B4",
          "width": 1
         },
         "locationmode": "USA-states",
         "lon": [
          -104.667,
          -112.00806000000001
         ],
         "mode": "lines",
         "opacity": 0.14745989304812834,
         "text": "From: Denver International Airport<br>To: Phoenix Sky Harbor International Airport<br>Avg. Delay: 4.42 mins",
         "type": "scattergeo"
        },
        {
         "lat": [
          39.85841,
          40.49147
         ],
         "line": {
          "color": "#4682B4",
          "width": 1
         },
         "locationmode": "USA-states",
         "lon": [
          -104.667,
          -80.23286999999999
         ],
         "mode": "lines",
         "opacity": 0.3311336717428088,
         "text": "From: Denver International Airport<br>To: Pittsburgh International Airport<br>Avg. Delay: 9.93 mins",
         "type": "scattergeo"
        },
        {
         "lat": [
          39.85841,
          35.87764
         ],
         "line": {
          "color": "#4682B4",
          "width": 1
         },
         "locationmode": "USA-states",
         "lon": [
          -104.667,
          -78.78747
         ],
         "mode": "lines",
         "opacity": 0.19533799533799534,
         "text": "From: Denver International Airport<br>To: Raleigh-Durham International Airport<br>Avg. Delay: 5.86 mins",
         "type": "scattergeo"
        },
        {
         "lat": [
          39.85841,
          39.49858
         ],
         "line": {
          "color": "#4682B4",
          "width": 1
         },
         "locationmode": "USA-states",
         "lon": [
          -104.667,
          -119.76806
         ],
         "mode": "lines",
         "opacity": 0,
         "text": "From: Denver International Airport<br>To: Reno/Tahoe International Airport<br>Avg. Delay: -0.84 mins",
         "type": "scattergeo"
        },
        {
         "lat": [
          39.85841,
          26.536170000000002
         ],
         "line": {
          "color": "#4682B4",
          "width": 1
         },
         "locationmode": "USA-states",
         "lon": [
          -104.667,
          -81.75516999999999
         ],
         "mode": "lines",
         "opacity": 0.14666666666666667,
         "text": "From: Denver International Airport<br>To: Southwest Florida International Airport<br>Avg. Delay: 4.4 mins",
         "type": "scattergeo"
        },
        {
         "lat": [
          39.85841,
          32.73356
         ],
         "line": {
          "color": "#4682B4",
          "width": 1
         },
         "locationmode": "USA-states",
         "lon": [
          -104.667,
          -117.18966
         ],
         "mode": "lines",
         "opacity": 0.09615231259968102,
         "text": "From: Denver International Airport<br>To: San Diego International Airport (Lindbergh Field)<br>Avg. Delay: 2.88 mins",
         "type": "scattergeo"
        },
        {
         "lat": [
          39.85841,
          29.533690000000004
         ],
         "line": {
          "color": "#4682B4",
          "width": 1
         },
         "locationmode": "USA-states",
         "lon": [
          -104.667,
          -98.46978
         ],
         "mode": "lines",
         "opacity": 0.3001245330012453,
         "text": "From: Denver International Airport<br>To: San Antonio International Airport<br>Avg. Delay: 9.0 mins",
         "type": "scattergeo"
        },
        {
         "lat": [
          39.85841,
          38.17439
         ],
         "line": {
          "color": "#4682B4",
          "width": 1
         },
         "locationmode": "USA-states",
         "lon": [
          -104.667,
          -85.736
         ],
         "mode": "lines",
         "opacity": 0.29879879879879884,
         "text": "From: Denver International Airport<br>To: Louisville International Airport (Standiford Field)<br>Avg. Delay: 8.96 mins",
         "type": "scattergeo"
        },
        {
         "lat": [
          39.85841,
          47.44898
         ],
         "line": {
          "color": "#4682B4",
          "width": 1
         },
         "locationmode": "USA-states",
         "lon": [
          -104.667,
          -122.30931000000001
         ],
         "mode": "lines",
         "opacity": 0.27479369842460616,
         "text": "From: Denver International Airport<br>To: Seattle-Tacoma International Airport<br>Avg. Delay: 8.24 mins",
         "type": "scattergeo"
        },
        {
         "lat": [
          39.85841,
          37.619
         ],
         "line": {
          "color": "#4682B4",
          "width": 1
         },
         "locationmode": "USA-states",
         "lon": [
          -104.667,
          -122.37483999999999
         ],
         "mode": "lines",
         "opacity": 0.2917233560090703,
         "text": "From: Denver International Airport<br>To: San Francisco International Airport<br>Avg. Delay: 8.75 mins",
         "type": "scattergeo"
        },
        {
         "lat": [
          39.85841,
          37.36186
         ],
         "line": {
          "color": "#4682B4",
          "width": 1
         },
         "locationmode": "USA-states",
         "lon": [
          -104.667,
          -121.92901
         ],
         "mode": "lines",
         "opacity": 0.1021250758955677,
         "text": "From: Denver International Airport<br>To: Norman Y. Mineta San José International Airport<br>Avg. Delay: 3.06 mins",
         "type": "scattergeo"
        },
        {
         "lat": [
          39.85841,
          40.78839
         ],
         "line": {
          "color": "#4682B4",
          "width": 1
         },
         "locationmode": "USA-states",
         "lon": [
          -104.667,
          -111.97776999999999
         ],
         "mode": "lines",
         "opacity": 0.17433691756272401,
         "text": "From: Denver International Airport<br>To: Salt Lake City International Airport<br>Avg. Delay: 5.23 mins",
         "type": "scattergeo"
        },
        {
         "lat": [
          39.85841,
          38.69542
         ],
         "line": {
          "color": "#4682B4",
          "width": 1
         },
         "locationmode": "USA-states",
         "lon": [
          -104.667,
          -121.59076999999999
         ],
         "mode": "lines",
         "opacity": 0.09835587377353487,
         "text": "From: Denver International Airport<br>To: Sacramento International Airport<br>Avg. Delay: 2.95 mins",
         "type": "scattergeo"
        },
        {
         "lat": [
          39.85841,
          33.67566
         ],
         "line": {
          "color": "#4682B4",
          "width": 1
         },
         "locationmode": "USA-states",
         "lon": [
          -104.667,
          -117.86822
         ],
         "mode": "lines",
         "opacity": 0.025942350332594236,
         "text": "From: Denver International Airport<br>To: John Wayne Airport (Orange County Airport)<br>Avg. Delay: 0.77 mins",
         "type": "scattergeo"
        },
        {
         "lat": [
          39.85841,
          38.747690000000006
         ],
         "line": {
          "color": "#4682B4",
          "width": 1
         },
         "locationmode": "USA-states",
         "lon": [
          -104.667,
          -90.35999
         ],
         "mode": "lines",
         "opacity": 0.22577319587628866,
         "text": "From: Denver International Airport<br>To: St. Louis International Airport at Lambert Field<br>Avg. Delay: 6.77 mins",
         "type": "scattergeo"
        },
        {
         "lat": [
          39.85841,
          27.97547
         ],
         "line": {
          "color": "#4682B4",
          "width": 1
         },
         "locationmode": "USA-states",
         "lon": [
          -104.667,
          -82.53325
         ],
         "mode": "lines",
         "opacity": 0.3553018772196854,
         "text": "From: Denver International Airport<br>To: Tampa International Airport<br>Avg. Delay: 10.65 mins",
         "type": "scattergeo"
        },
        {
         "lat": [
          39.85841,
          36.198370000000004
         ],
         "line": {
          "color": "#4682B4",
          "width": 1
         },
         "locationmode": "USA-states",
         "lon": [
          -104.667,
          -95.88824
         ],
         "mode": "lines",
         "opacity": 0.33484611371935313,
         "text": "From: Denver International Airport<br>To: Tulsa International Airport<br>Avg. Delay: 10.04 mins",
         "type": "scattergeo"
        },
        {
         "lat": [
          39.85841,
          32.11608
         ],
         "line": {
          "color": "#4682B4",
          "width": 1
         },
         "locationmode": "USA-states",
         "lon": [
          -104.667,
          -110.94103
         ],
         "mode": "lines",
         "opacity": 0.14465592972181554,
         "text": "From: Denver International Airport<br>To: Tucson International Airport<br>Avg. Delay: 4.33 mins",
         "type": "scattergeo"
        },
        {
         "lat": [
          41.534929999999996,
          36.08036
         ],
         "line": {
          "color": "#4682B4",
          "width": 1
         },
         "locationmode": "USA-states",
         "lon": [
          -93.66068,
          -115.15233
         ],
         "mode": "lines",
         "opacity": 0.02608257804632427,
         "text": "From: Des Moines International Airport<br>To: McCarran International Airport<br>Avg. Delay: 0.78 mins",
         "type": "scattergeo"
        },
        {
         "lat": [
          41.534929999999996,
          41.78598
         ],
         "line": {
          "color": "#4682B4",
          "width": 1
         },
         "locationmode": "USA-states",
         "lon": [
          -93.66068,
          -87.75242
         ],
         "mode": "lines",
         "opacity": 0.031150159744408944,
         "text": "From: Des Moines International Airport<br>To: Chicago Midway International Airport<br>Avg. Delay: 0.93 mins",
         "type": "scattergeo"
        },
        {
         "lat": [
          42.21206,
          33.640440000000005
         ],
         "line": {
          "color": "#4682B4",
          "width": 1
         },
         "locationmode": "USA-states",
         "lon": [
          -83.34884,
          -84.42694
         ],
         "mode": "lines",
         "opacity": 0.09034267912772585,
         "text": "From: Detroit Metropolitan Airport<br>To: Hartsfield-Jackson Atlanta International Airport<br>Avg. Delay: 2.71 mins",
         "type": "scattergeo"
        },
        {
         "lat": [
          42.21206,
          36.12448
         ],
         "line": {
          "color": "#4682B4",
          "width": 1
         },
         "locationmode": "USA-states",
         "lon": [
          -83.34884,
          -86.67818
         ],
         "mode": "lines",
         "opacity": 0,
         "text": "From: Detroit Metropolitan Airport<br>To: Nashville International Airport<br>Avg. Delay: -0.86 mins",
         "type": "scattergeo"
        },
        {
         "lat": [
          42.21206,
          39.1754
         ],
         "line": {
          "color": "#4682B4",
          "width": 1
         },
         "locationmode": "USA-states",
         "lon": [
          -83.34884,
          -76.6682
         ],
         "mode": "lines",
         "opacity": 0.09216323582520765,
         "text": "From: Detroit Metropolitan Airport<br>To: Baltimore-Washington International Airport<br>Avg. Delay: 2.76 mins",
         "type": "scattergeo"
        },
        {
         "lat": [
          42.21206,
          32.84711
         ],
         "line": {
          "color": "#4682B4",
          "width": 1
         },
         "locationmode": "USA-states",
         "lon": [
          -83.34884,
          -96.85177
         ],
         "mode": "lines",
         "opacity": 0,
         "text": "From: Detroit Metropolitan Airport<br>To: Dallas Love Field<br>Avg. Delay: -13.47 mins",
         "type": "scattergeo"
        },
        {
         "lat": [
          42.21206,
          39.85841
         ],
         "line": {
          "color": "#4682B4",
          "width": 1
         },
         "locationmode": "USA-states",
         "lon": [
          -83.34884,
          -104.667
         ],
         "mode": "lines",
         "opacity": 0,
         "text": "From: Detroit Metropolitan Airport<br>To: Denver International Airport<br>Avg. Delay: -2.32 mins",
         "type": "scattergeo"
        },
        {
         "lat": [
          42.21206,
          36.08036
         ],
         "line": {
          "color": "#4682B4",
          "width": 1
         },
         "locationmode": "USA-states",
         "lon": [
          -83.34884,
          -115.15233
         ],
         "mode": "lines",
         "opacity": 0,
         "text": "From: Detroit Metropolitan Airport<br>To: McCarran International Airport<br>Avg. Delay: -7.43 mins",
         "type": "scattergeo"
        },
        {
         "lat": [
          42.21206,
          28.428890000000003
         ],
         "line": {
          "color": "#4682B4",
          "width": 1
         },
         "locationmode": "USA-states",
         "lon": [
          -83.34884,
          -81.31603
         ],
         "mode": "lines",
         "opacity": 0,
         "text": "From: Detroit Metropolitan Airport<br>To: Orlando International Airport<br>Avg. Delay: -15.0 mins",
         "type": "scattergeo"
        },
        {
         "lat": [
          42.21206,
          41.78598
         ],
         "line": {
          "color": "#4682B4",
          "width": 1
         },
         "locationmode": "USA-states",
         "lon": [
          -83.34884,
          -87.75242
         ],
         "mode": "lines",
         "opacity": 0.11352914997774811,
         "text": "From: Detroit Metropolitan Airport<br>To: Chicago Midway International Airport<br>Avg. Delay: 3.4 mins",
         "type": "scattergeo"
        },
        {
         "lat": [
          42.21206,
          33.43417
         ],
         "line": {
          "color": "#4682B4",
          "width": 1
         },
         "locationmode": "USA-states",
         "lon": [
          -83.34884,
          -112.00806000000001
         ],
         "mode": "lines",
         "opacity": 0,
         "text": "From: Detroit Metropolitan Airport<br>To: Phoenix Sky Harbor International Airport<br>Avg. Delay: -3.04 mins",
         "type": "scattergeo"
        },
        {
         "lat": [
          42.21206,
          38.747690000000006
         ],
         "line": {
          "color": "#4682B4",
          "width": 1
         },
         "locationmode": "USA-states",
         "lon": [
          -83.34884,
          -90.35999
         ],
         "mode": "lines",
         "opacity": 0.04446280991735537,
         "text": "From: Detroit Metropolitan Airport<br>To: St. Louis International Airport at Lambert Field<br>Avg. Delay: 1.33 mins",
         "type": "scattergeo"
        },
        {
         "lat": [
          null,
          36.12448
         ],
         "line": {
          "color": "#4682B4",
          "width": 1
         },
         "locationmode": "USA-states",
         "lon": [
          null,
          -86.67818
         ],
         "mode": "lines",
         "opacity": 0,
         "text": "From: Northwest Florida Beaches International Airport<br>To: Nashville International Airport<br>Avg. Delay: -1.31 mins",
         "type": "scattergeo"
        },
        {
         "lat": [
          null,
          39.1754
         ],
         "line": {
          "color": "#4682B4",
          "width": 1
         },
         "locationmode": "USA-states",
         "lon": [
          null,
          -76.6682
         ],
         "mode": "lines",
         "opacity": 0,
         "text": "From: Northwest Florida Beaches International Airport<br>To: Baltimore-Washington International Airport<br>Avg. Delay: -3.82 mins",
         "type": "scattergeo"
        },
        {
         "lat": [
          null,
          32.84711
         ],
         "line": {
          "color": "#4682B4",
          "width": 1
         },
         "locationmode": "USA-states",
         "lon": [
          null,
          -96.85177
         ],
         "mode": "lines",
         "opacity": 0,
         "text": "From: Northwest Florida Beaches International Airport<br>To: Dallas Love Field<br>Avg. Delay: -7.9 mins",
         "type": "scattergeo"
        },
        {
         "lat": [
          null,
          29.64542
         ],
         "line": {
          "color": "#4682B4",
          "width": 1
         },
         "locationmode": "USA-states",
         "lon": [
          null,
          -95.27889
         ],
         "mode": "lines",
         "opacity": 0,
         "text": "From: Northwest Florida Beaches International Airport<br>To: William P. Hobby Airport<br>Avg. Delay: -3.27 mins",
         "type": "scattergeo"
        },
        {
         "lat": [
          null,
          38.747690000000006
         ],
         "line": {
          "color": "#4682B4",
          "width": 1
         },
         "locationmode": "USA-states",
         "lon": [
          null,
          -90.35999
         ],
         "mode": "lines",
         "opacity": 0.37703252032520324,
         "text": "From: Northwest Florida Beaches International Airport<br>To: St. Louis International Airport at Lambert Field<br>Avg. Delay: 11.31 mins",
         "type": "scattergeo"
        },
        {
         "lat": [
          31.80667,
          30.19453
         ],
         "line": {
          "color": "#4682B4",
          "width": 1
         },
         "locationmode": "USA-states",
         "lon": [
          -106.37781000000001,
          -97.66986999999999
         ],
         "mode": "lines",
         "opacity": 0.2812646370023419,
         "text": "From: El Paso International Airport<br>To: Austin-Bergstrom International Airport<br>Avg. Delay: 8.43 mins",
         "type": "scattergeo"
        },
        {
         "lat": [
          31.80667,
          32.84711
         ],
         "line": {
          "color": "#4682B4",
          "width": 1
         },
         "locationmode": "USA-states",
         "lon": [
          -106.37781000000001,
          -96.85177
         ],
         "mode": "lines",
         "opacity": 0.15945372580217448,
         "text": "From: El Paso International Airport<br>To: Dallas Love Field<br>Avg. Delay: 4.78 mins",
         "type": "scattergeo"
        },
        {
         "lat": [
          31.80667,
          29.64542
         ],
         "line": {
          "color": "#4682B4",
          "width": 1
         },
         "locationmode": "USA-states",
         "lon": [
          -106.37781000000001,
          -95.27889
         ],
         "mode": "lines",
         "opacity": 0.20293040293040293,
         "text": "From: El Paso International Airport<br>To: William P. Hobby Airport<br>Avg. Delay: 6.08 mins",
         "type": "scattergeo"
        },
        {
         "lat": [
          31.80667,
          36.08036
         ],
         "line": {
          "color": "#4682B4",
          "width": 1
         },
         "locationmode": "USA-states",
         "lon": [
          -106.37781000000001,
          -115.15233
         ],
         "mode": "lines",
         "opacity": 0.10523076923076922,
         "text": "From: El Paso International Airport<br>To: McCarran International Airport<br>Avg. Delay: 3.15 mins",
         "type": "scattergeo"
        },
        {
         "lat": [
          31.80667,
          33.94254
         ],
         "line": {
          "color": "#4682B4",
          "width": 1
         },
         "locationmode": "USA-states",
         "lon": [
          -106.37781000000001,
          -118.40807
         ],
         "mode": "lines",
         "opacity": 0.21219110378912687,
         "text": "From: El Paso International Airport<br>To: Los Angeles International Airport<br>Avg. Delay: 6.36 mins",
         "type": "scattergeo"
        },
        {
         "lat": [
          31.80667,
          33.43417
         ],
         "line": {
          "color": "#4682B4",
          "width": 1
         },
         "locationmode": "USA-states",
         "lon": [
          -106.37781000000001,
          -112.00806000000001
         ],
         "mode": "lines",
         "opacity": 0.233226581265012,
         "text": "From: El Paso International Airport<br>To: Phoenix Sky Harbor International Airport<br>Avg. Delay: 6.99 mins",
         "type": "scattergeo"
        },
        {
         "lat": [
          31.80667,
          29.533690000000004
         ],
         "line": {
          "color": "#4682B4",
          "width": 1
         },
         "locationmode": "USA-states",
         "lon": [
          -106.37781000000001,
          -98.46978
         ],
         "mode": "lines",
         "opacity": 0.20025445292620866,
         "text": "From: El Paso International Airport<br>To: San Antonio International Airport<br>Avg. Delay: 6.0 mins",
         "type": "scattergeo"
        },
        {
         "lat": [
          40.6925,
          30.19453
         ],
         "line": {
          "color": "#4682B4",
          "width": 1
         },
         "locationmode": "USA-states",
         "lon": [
          -74.16866,
          -97.66986999999999
         ],
         "mode": "lines",
         "opacity": 0,
         "text": "From: Newark Liberty International Airport<br>To: Austin-Bergstrom International Airport<br>Avg. Delay: -3.47 mins",
         "type": "scattergeo"
        },
        {
         "lat": [
          40.6925,
          36.12448
         ],
         "line": {
          "color": "#4682B4",
          "width": 1
         },
         "locationmode": "USA-states",
         "lon": [
          -74.16866,
          -86.67818
         ],
         "mode": "lines",
         "opacity": 0.005923344947735192,
         "text": "From: Newark Liberty International Airport<br>To: Nashville International Airport<br>Avg. Delay: 0.17 mins",
         "type": "scattergeo"
        },
        {
         "lat": [
          40.6925,
          39.85841
         ],
         "line": {
          "color": "#4682B4",
          "width": 1
         },
         "locationmode": "USA-states",
         "lon": [
          -74.16866,
          -104.667
         ],
         "mode": "lines",
         "opacity": 0,
         "text": "From: Newark Liberty International Airport<br>To: Denver International Airport<br>Avg. Delay: -1.47 mins",
         "type": "scattergeo"
        },
        {
         "lat": [
          40.6925,
          29.64542
         ],
         "line": {
          "color": "#4682B4",
          "width": 1
         },
         "locationmode": "USA-states",
         "lon": [
          -74.16866,
          -95.27889
         ],
         "mode": "lines",
         "opacity": 0,
         "text": "From: Newark Liberty International Airport<br>To: William P. Hobby Airport<br>Avg. Delay: -2.01 mins",
         "type": "scattergeo"
        },
        {
         "lat": [
          40.6925,
          41.78598
         ],
         "line": {
          "color": "#4682B4",
          "width": 1
         },
         "locationmode": "USA-states",
         "lon": [
          -74.16866,
          -87.75242
         ],
         "mode": "lines",
         "opacity": 0.11409277745155608,
         "text": "From: Newark Liberty International Airport<br>To: Chicago Midway International Airport<br>Avg. Delay: 3.42 mins",
         "type": "scattergeo"
        },
        {
         "lat": [
          40.6925,
          29.99339
         ],
         "line": {
          "color": "#4682B4",
          "width": 1
         },
         "locationmode": "USA-states",
         "lon": [
          -74.16866,
          -90.25803
         ],
         "mode": "lines",
         "opacity": 0,
         "text": "From: Newark Liberty International Airport<br>To: Louis Armstrong New Orleans International Airport<br>Avg. Delay: -5.64 mins",
         "type": "scattergeo"
        },
        {
         "lat": [
          40.6925,
          33.43417
         ],
         "line": {
          "color": "#4682B4",
          "width": 1
         },
         "locationmode": "USA-states",
         "lon": [
          -74.16866,
          -112.00806000000001
         ],
         "mode": "lines",
         "opacity": 0,
         "text": "From: Newark Liberty International Airport<br>To: Phoenix Sky Harbor International Airport<br>Avg. Delay: -1.54 mins",
         "type": "scattergeo"
        },
        {
         "lat": [
          40.6925,
          38.747690000000006
         ],
         "line": {
          "color": "#4682B4",
          "width": 1
         },
         "locationmode": "USA-states",
         "lon": [
          -74.16866,
          -90.35999
         ],
         "mode": "lines",
         "opacity": 0.02337363270005757,
         "text": "From: Newark Liberty International Airport<br>To: St. Louis International Airport at Lambert Field<br>Avg. Delay: 0.7 mins",
         "type": "scattergeo"
        },
        {
         "lat": [
          26.07258,
          42.74812
         ],
         "line": {
          "color": "#4682B4",
          "width": 1
         },
         "locationmode": "USA-states",
         "lon": [
          -80.15275,
          -73.80298
         ],
         "mode": "lines",
         "opacity": 0,
         "text": "From: Fort Lauderdale-Hollywood International Airport<br>To: Albany International Airport<br>Avg. Delay: -3.94 mins",
         "type": "scattergeo"
        },
        {
         "lat": [
          26.07258,
          33.640440000000005
         ],
         "line": {
          "color": "#4682B4",
          "width": 1
         },
         "locationmode": "USA-states",
         "lon": [
          -80.15275,
          -84.42694
         ],
         "mode": "lines",
         "opacity": 0,
         "text": "From: Fort Lauderdale-Hollywood International Airport<br>To: Hartsfield-Jackson Atlanta International Airport<br>Avg. Delay: -0.11 mins",
         "type": "scattergeo"
        },
        {
         "lat": [
          26.07258,
          30.19453
         ],
         "line": {
          "color": "#4682B4",
          "width": 1
         },
         "locationmode": "USA-states",
         "lon": [
          -80.15275,
          -97.66986999999999
         ],
         "mode": "lines",
         "opacity": 0,
         "text": "From: Fort Lauderdale-Hollywood International Airport<br>To: Austin-Bergstrom International Airport<br>Avg. Delay: -3.0 mins",
         "type": "scattergeo"
        },
        {
         "lat": [
          26.07258,
          41.93887
         ],
         "line": {
          "color": "#4682B4",
          "width": 1
         },
         "locationmode": "USA-states",
         "lon": [
          -80.15275,
          -72.68323000000001
         ],
         "mode": "lines",
         "opacity": 0.20916905444126074,
         "text": "From: Fort Lauderdale-Hollywood International Airport<br>To: Bradley International Airport<br>Avg. Delay: 6.27 mins",
         "type": "scattergeo"
        },
        {
         "lat": [
          26.07258,
          36.12448
         ],
         "line": {
          "color": "#4682B4",
          "width": 1
         },
         "locationmode": "USA-states",
         "lon": [
          -80.15275,
          -86.67818
         ],
         "mode": "lines",
         "opacity": 0.010471204188481676,
         "text": "From: Fort Lauderdale-Hollywood International Airport<br>To: Nashville International Airport<br>Avg. Delay: 0.31 mins",
         "type": "scattergeo"
        },
        {
         "lat": [
          26.07258,
          42.94052
         ],
         "line": {
          "color": "#4682B4",
          "width": 1
         },
         "locationmode": "USA-states",
         "lon": [
          -80.15275,
          -78.73217
         ],
         "mode": "lines",
         "opacity": 0,
         "text": "From: Fort Lauderdale-Hollywood International Airport<br>To: Buffalo Niagara International Airport<br>Avg. Delay: -0.98 mins",
         "type": "scattergeo"
        },
        {
         "lat": [
          26.07258,
          39.1754
         ],
         "line": {
          "color": "#4682B4",
          "width": 1
         },
         "locationmode": "USA-states",
         "lon": [
          -80.15275,
          -76.6682
         ],
         "mode": "lines",
         "opacity": 0,
         "text": "From: Fort Lauderdale-Hollywood International Airport<br>To: Baltimore-Washington International Airport<br>Avg. Delay: -0.7 mins",
         "type": "scattergeo"
        },
        {
         "lat": [
          26.07258,
          39.99799
         ],
         "line": {
          "color": "#4682B4",
          "width": 1
         },
         "locationmode": "USA-states",
         "lon": [
          -80.15275,
          -82.89188
         ],
         "mode": "lines",
         "opacity": 0.1934619506966774,
         "text": "From: Fort Lauderdale-Hollywood International Airport<br>To: Port Columbus International Airport<br>Avg. Delay: 5.8 mins",
         "type": "scattergeo"
        },
        {
         "lat": [
          26.07258,
          32.84711
         ],
         "line": {
          "color": "#4682B4",
          "width": 1
         },
         "locationmode": "USA-states",
         "lon": [
          -80.15275,
          -96.85177
         ],
         "mode": "lines",
         "opacity": 0,
         "text": "From: Fort Lauderdale-Hollywood International Airport<br>To: Dallas Love Field<br>Avg. Delay: -6.34 mins",
         "type": "scattergeo"
        },
        {
         "lat": [
          26.07258,
          38.85208
         ],
         "line": {
          "color": "#4682B4",
          "width": 1
         },
         "locationmode": "USA-states",
         "lon": [
          -80.15275,
          -77.03772
         ],
         "mode": "lines",
         "opacity": 0.37079646017699114,
         "text": "From: Fort Lauderdale-Hollywood International Airport<br>To: Ronald Reagan Washington National Airport<br>Avg. Delay: 11.12 mins",
         "type": "scattergeo"
        },
        {
         "lat": [
          26.07258,
          39.85841
         ],
         "line": {
          "color": "#4682B4",
          "width": 1
         },
         "locationmode": "USA-states",
         "lon": [
          -80.15275,
          -104.667
         ],
         "mode": "lines",
         "opacity": 0,
         "text": "From: Fort Lauderdale-Hollywood International Airport<br>To: Denver International Airport<br>Avg. Delay: -5.75 mins",
         "type": "scattergeo"
        },
        {
         "lat": [
          26.07258,
          29.64542
         ],
         "line": {
          "color": "#4682B4",
          "width": 1
         },
         "locationmode": "USA-states",
         "lon": [
          -80.15275,
          -95.27889
         ],
         "mode": "lines",
         "opacity": 0,
         "text": "From: Fort Lauderdale-Hollywood International Airport<br>To: William P. Hobby Airport<br>Avg. Delay: -8.23 mins",
         "type": "scattergeo"
        },
        {
         "lat": [
          26.07258,
          39.71733
         ],
         "line": {
          "color": "#4682B4",
          "width": 1
         },
         "locationmode": "USA-states",
         "lon": [
          -80.15275,
          -86.29438
         ],
         "mode": "lines",
         "opacity": 0,
         "text": "From: Fort Lauderdale-Hollywood International Airport<br>To: Indianapolis International Airport<br>Avg. Delay: -6.38 mins",
         "type": "scattergeo"
        },
        {
         "lat": [
          26.07258,
          40.79524
         ],
         "line": {
          "color": "#4682B4",
          "width": 1
         },
         "locationmode": "USA-states",
         "lon": [
          -80.15275,
          -73.10021
         ],
         "mode": "lines",
         "opacity": 0.2738970588235294,
         "text": "From: Fort Lauderdale-Hollywood International Airport<br>To: Long Island MacArthur Airport<br>Avg. Delay: 8.21 mins",
         "type": "scattergeo"
        },
        {
         "lat": [
          26.07258,
          36.08036
         ],
         "line": {
          "color": "#4682B4",
          "width": 1
         },
         "locationmode": "USA-states",
         "lon": [
          -80.15275,
          -115.15233
         ],
         "mode": "lines",
         "opacity": 0,
         "text": "From: Fort Lauderdale-Hollywood International Airport<br>To: McCarran International Airport<br>Avg. Delay: -15.94 mins",
         "type": "scattergeo"
        },
        {
         "lat": [
          26.07258,
          39.29761
         ],
         "line": {
          "color": "#4682B4",
          "width": 1
         },
         "locationmode": "USA-states",
         "lon": [
          -80.15275,
          -94.71391
         ],
         "mode": "lines",
         "opacity": 0,
         "text": "From: Fort Lauderdale-Hollywood International Airport<br>To: Kansas City International Airport<br>Avg. Delay: -5.5 mins",
         "type": "scattergeo"
        },
        {
         "lat": [
          26.07258,
          41.78598
         ],
         "line": {
          "color": "#4682B4",
          "width": 1
         },
         "locationmode": "USA-states",
         "lon": [
          -80.15275,
          -87.75242
         ],
         "mode": "lines",
         "opacity": 0,
         "text": "From: Fort Lauderdale-Hollywood International Airport<br>To: Chicago Midway International Airport<br>Avg. Delay: -0.45 mins",
         "type": "scattergeo"
        },
        {
         "lat": [
          26.07258,
          42.93452
         ],
         "line": {
          "color": "#4682B4",
          "width": 1
         },
         "locationmode": "USA-states",
         "lon": [
          -80.15275,
          -71.43706
         ],
         "mode": "lines",
         "opacity": 0.7333333333333333,
         "text": "From: Fort Lauderdale-Hollywood International Airport<br>To: Manchester-Boston Regional Airport<br>Avg. Delay: 22.0 mins",
         "type": "scattergeo"
        },
        {
         "lat": [
          26.07258,
          42.94722
         ],
         "line": {
          "color": "#4682B4",
          "width": 1
         },
         "locationmode": "USA-states",
         "lon": [
          -80.15275,
          -87.89658
         ],
         "mode": "lines",
         "opacity": 0,
         "text": "From: Fort Lauderdale-Hollywood International Airport<br>To: General Mitchell International Airport<br>Avg. Delay: -6.75 mins",
         "type": "scattergeo"
        },
        {
         "lat": [
          26.07258,
          29.99339
         ],
         "line": {
          "color": "#4682B4",
          "width": 1
         },
         "locationmode": "USA-states",
         "lon": [
          -80.15275,
          -90.25803
         ],
         "mode": "lines",
         "opacity": 0,
         "text": "From: Fort Lauderdale-Hollywood International Airport<br>To: Louis Armstrong New Orleans International Airport<br>Avg. Delay: -5.13 mins",
         "type": "scattergeo"
        },
        {
         "lat": [
          26.07258,
          39.87195
         ],
         "line": {
          "color": "#4682B4",
          "width": 1
         },
         "locationmode": "USA-states",
         "lon": [
          -80.15275,
          -75.24114
         ],
         "mode": "lines",
         "opacity": 0.020949432404540766,
         "text": "From: Fort Lauderdale-Hollywood International Airport<br>To: Philadelphia International Airport<br>Avg. Delay: 0.62 mins",
         "type": "scattergeo"
        },
        {
         "lat": [
          26.07258,
          33.43417
         ],
         "line": {
          "color": "#4682B4",
          "width": 1
         },
         "locationmode": "USA-states",
         "lon": [
          -80.15275,
          -112.00806000000001
         ],
         "mode": "lines",
         "opacity": 0,
         "text": "From: Fort Lauderdale-Hollywood International Airport<br>To: Phoenix Sky Harbor International Airport<br>Avg. Delay: -12.73 mins",
         "type": "scattergeo"
        },
        {
         "lat": [
          26.07258,
          40.49147
         ],
         "line": {
          "color": "#4682B4",
          "width": 1
         },
         "locationmode": "USA-states",
         "lon": [
          -80.15275,
          -80.23286999999999
         ],
         "mode": "lines",
         "opacity": 0.06797839506172838,
         "text": "From: Fort Lauderdale-Hollywood International Airport<br>To: Pittsburgh International Airport<br>Avg. Delay: 2.03 mins",
         "type": "scattergeo"
        },
        {
         "lat": [
          26.07258,
          41.724
         ],
         "line": {
          "color": "#4682B4",
          "width": 1
         },
         "locationmode": "USA-states",
         "lon": [
          -80.15275,
          -71.42822
         ],
         "mode": "lines",
         "opacity": 0.0008314436885865458,
         "text": "From: Fort Lauderdale-Hollywood International Airport<br>To: Theodore Francis Green State Airport<br>Avg. Delay: 0.02 mins",
         "type": "scattergeo"
        },
        {
         "lat": [
          26.07258,
          35.87764
         ],
         "line": {
          "color": "#4682B4",
          "width": 1
         },
         "locationmode": "USA-states",
         "lon": [
          -80.15275,
          -78.78747
         ],
         "mode": "lines",
         "opacity": 0.08923253150057273,
         "text": "From: Fort Lauderdale-Hollywood International Airport<br>To: Raleigh-Durham International Airport<br>Avg. Delay: 2.67 mins",
         "type": "scattergeo"
        },
        {
         "lat": [
          26.07258,
          18.439420000000002
         ],
         "line": {
          "color": "#4682B4",
          "width": 1
         },
         "locationmode": "USA-states",
         "lon": [
          -80.15275,
          -66.00183
         ],
         "mode": "lines",
         "opacity": 0.05763888888888889,
         "text": "From: Fort Lauderdale-Hollywood International Airport<br>To: Luis Muñoz Marín International Airport<br>Avg. Delay: 1.72 mins",
         "type": "scattergeo"
        },
        {
         "lat": [
          26.07258,
          38.747690000000006
         ],
         "line": {
          "color": "#4682B4",
          "width": 1
         },
         "locationmode": "USA-states",
         "lon": [
          -80.15275,
          -90.35999
         ],
         "mode": "lines",
         "opacity": 0,
         "text": "From: Fort Lauderdale-Hollywood International Airport<br>To: St. Louis International Airport at Lambert Field<br>Avg. Delay: -4.59 mins",
         "type": "scattergeo"
        },
        {
         "lat": [
          26.07258,
          27.97547
         ],
         "line": {
          "color": "#4682B4",
          "width": 1
         },
         "locationmode": "USA-states",
         "lon": [
          -80.15275,
          -82.53325
         ],
         "mode": "lines",
         "opacity": 0,
         "text": "From: Fort Lauderdale-Hollywood International Airport<br>To: Tampa International Airport<br>Avg. Delay: -0.79 mins",
         "type": "scattergeo"
        },
        {
         "lat": [
          42.9655,
          39.1754
         ],
         "line": {
          "color": "#4682B4",
          "width": 1
         },
         "locationmode": "USA-states",
         "lon": [
          -83.74346,
          -76.6682
         ],
         "mode": "lines",
         "opacity": 0,
         "text": "From: Bishop International Airport<br>To: Baltimore-Washington International Airport<br>Avg. Delay: -4.02 mins",
         "type": "scattergeo"
        },
        {
         "lat": [
          42.9655,
          36.08036
         ],
         "line": {
          "color": "#4682B4",
          "width": 1
         },
         "locationmode": "USA-states",
         "lon": [
          -83.74346,
          -115.15233
         ],
         "mode": "lines",
         "opacity": 0,
         "text": "From: Bishop International Airport<br>To: McCarran International Airport<br>Avg. Delay: -5.54 mins",
         "type": "scattergeo"
        },
        {
         "lat": [
          42.9655,
          28.428890000000003
         ],
         "line": {
          "color": "#4682B4",
          "width": 1
         },
         "locationmode": "USA-states",
         "lon": [
          -83.74346,
          -81.31603
         ],
         "mode": "lines",
         "opacity": 0,
         "text": "From: Bishop International Airport<br>To: Orlando International Airport<br>Avg. Delay: -10.91 mins",
         "type": "scattergeo"
        },
        {
         "lat": [
          42.9655,
          26.536170000000002
         ],
         "line": {
          "color": "#4682B4",
          "width": 1
         },
         "locationmode": "USA-states",
         "lon": [
          -83.74346,
          -81.75516999999999
         ],
         "mode": "lines",
         "opacity": 0.37430555555555556,
         "text": "From: Bishop International Airport<br>To: Southwest Florida International Airport<br>Avg. Delay: 11.22 mins",
         "type": "scattergeo"
        },
        {
         "lat": [
          42.9655,
          27.97547
         ],
         "line": {
          "color": "#4682B4",
          "width": 1
         },
         "locationmode": "USA-states",
         "lon": [
          -83.74346,
          -82.53325
         ],
         "mode": "lines",
         "opacity": 0,
         "text": "From: Bishop International Airport<br>To: Tampa International Airport<br>Avg. Delay: -5.17 mins",
         "type": "scattergeo"
        },
        {
         "lat": [
          47.619859999999996,
          43.564440000000005
         ],
         "line": {
          "color": "#4682B4",
          "width": 1
         },
         "locationmode": "USA-states",
         "lon": [
          -117.53383999999998,
          -116.22278
         ],
         "mode": "lines",
         "opacity": 0.07993019197207679,
         "text": "From: Spokane International Airport<br>To: Boise Airport (Boise Air Terminal)<br>Avg. Delay: 2.39 mins",
         "type": "scattergeo"
        },
        {
         "lat": [
          47.619859999999996,
          39.85841
         ],
         "line": {
          "color": "#4682B4",
          "width": 1
         },
         "locationmode": "USA-states",
         "lon": [
          -117.53383999999998,
          -104.667
         ],
         "mode": "lines",
         "opacity": 0,
         "text": "From: Spokane International Airport<br>To: Denver International Airport<br>Avg. Delay: -2.63 mins",
         "type": "scattergeo"
        },
        {
         "lat": [
          47.619859999999996,
          36.08036
         ],
         "line": {
          "color": "#4682B4",
          "width": 1
         },
         "locationmode": "USA-states",
         "lon": [
          -117.53383999999998,
          -115.15233
         ],
         "mode": "lines",
         "opacity": 0.030227743271221533,
         "text": "From: Spokane International Airport<br>To: McCarran International Airport<br>Avg. Delay: 0.9 mins",
         "type": "scattergeo"
        },
        {
         "lat": [
          47.619859999999996,
          41.78598
         ],
         "line": {
          "color": "#4682B4",
          "width": 1
         },
         "locationmode": "USA-states",
         "lon": [
          -117.53383999999998,
          -87.75242
         ],
         "mode": "lines",
         "opacity": 0,
         "text": "From: Spokane International Airport<br>To: Chicago Midway International Airport<br>Avg. Delay: -3.3 mins",
         "type": "scattergeo"
        },
        {
         "lat": [
          47.619859999999996,
          37.72129
         ],
         "line": {
          "color": "#4682B4",
          "width": 1
         },
         "locationmode": "USA-states",
         "lon": [
          -117.53383999999998,
          -122.22072
         ],
         "mode": "lines",
         "opacity": 0.1233644859813084,
         "text": "From: Spokane International Airport<br>To: Oakland International Airport<br>Avg. Delay: 3.7 mins",
         "type": "scattergeo"
        },
        {
         "lat": [
          47.619859999999996,
          33.43417
         ],
         "line": {
          "color": "#4682B4",
          "width": 1
         },
         "locationmode": "USA-states",
         "lon": [
          -117.53383999999998,
          -112.00806000000001
         ],
         "mode": "lines",
         "opacity": 0,
         "text": "From: Spokane International Airport<br>To: Phoenix Sky Harbor International Airport<br>Avg. Delay: -0.73 mins",
         "type": "scattergeo"
        },
        {
         "lat": [
          42.88082,
          39.1754
         ],
         "line": {
          "color": "#4682B4",
          "width": 1
         },
         "locationmode": "USA-states",
         "lon": [
          -85.52277,
          -76.6682
         ],
         "mode": "lines",
         "opacity": 0.036587926509186346,
         "text": "From: Gerald R. Ford International Airport<br>To: Baltimore-Washington International Airport<br>Avg. Delay: 1.09 mins",
         "type": "scattergeo"
        },
        {
         "lat": [
          42.88082,
          39.85841
         ],
         "line": {
          "color": "#4682B4",
          "width": 1
         },
         "locationmode": "USA-states",
         "lon": [
          -85.52277,
          -104.667
         ],
         "mode": "lines",
         "opacity": 0.005182926829268293,
         "text": "From: Gerald R. Ford International Airport<br>To: Denver International Airport<br>Avg. Delay: 0.15 mins",
         "type": "scattergeo"
        },
        {
         "lat": [
          42.88082,
          28.428890000000003
         ],
         "line": {
          "color": "#4682B4",
          "width": 1
         },
         "locationmode": "USA-states",
         "lon": [
          -85.52277,
          -81.31603
         ],
         "mode": "lines",
         "opacity": 0,
         "text": "From: Gerald R. Ford International Airport<br>To: Orlando International Airport<br>Avg. Delay: -1.25 mins",
         "type": "scattergeo"
        },
        {
         "lat": [
          42.88082,
          26.536170000000002
         ],
         "line": {
          "color": "#4682B4",
          "width": 1
         },
         "locationmode": "USA-states",
         "lon": [
          -85.52277,
          -81.75516999999999
         ],
         "mode": "lines",
         "opacity": 0,
         "text": "From: Gerald R. Ford International Airport<br>To: Southwest Florida International Airport<br>Avg. Delay: -4.38 mins",
         "type": "scattergeo"
        },
        {
         "lat": [
          42.88082,
          38.747690000000006
         ],
         "line": {
          "color": "#4682B4",
          "width": 1
         },
         "locationmode": "USA-states",
         "lon": [
          -85.52277,
          -90.35999
         ],
         "mode": "lines",
         "opacity": 0,
         "text": "From: Gerald R. Ford International Airport<br>To: St. Louis International Airport at Lambert Field<br>Avg. Delay: -7.76 mins",
         "type": "scattergeo"
        },
        {
         "lat": [
          42.88082,
          27.97547
         ],
         "line": {
          "color": "#4682B4",
          "width": 1
         },
         "locationmode": "USA-states",
         "lon": [
          -85.52277,
          -82.53325
         ],
         "mode": "lines",
         "opacity": 0,
         "text": "From: Gerald R. Ford International Airport<br>To: Tampa International Airport<br>Avg. Delay: -3.7 mins",
         "type": "scattergeo"
        },
        {
         "lat": [
          34.89567,
          39.1754
         ],
         "line": {
          "color": "#4682B4",
          "width": 1
         },
         "locationmode": "USA-states",
         "lon": [
          -82.21885999999999,
          -76.6682
         ],
         "mode": "lines",
         "opacity": 0.36540198735320684,
         "text": "From: Greenville-Spartanburg International Airport<br>To: Baltimore-Washington International Airport<br>Avg. Delay: 10.96 mins",
         "type": "scattergeo"
        },
        {
         "lat": [
          34.89567,
          29.64542
         ],
         "line": {
          "color": "#4682B4",
          "width": 1
         },
         "locationmode": "USA-states",
         "lon": [
          -82.21885999999999,
          -95.27889
         ],
         "mode": "lines",
         "opacity": 0.0174653887113951,
         "text": "From: Greenville-Spartanburg International Airport<br>To: William P. Hobby Airport<br>Avg. Delay: 0.52 mins",
         "type": "scattergeo"
        },
        {
         "lat": [
          34.89567,
          41.78598
         ],
         "line": {
          "color": "#4682B4",
          "width": 1
         },
         "locationmode": "USA-states",
         "lon": [
          -82.21885999999999,
          -87.75242
         ],
         "mode": "lines",
         "opacity": 0.09766937669376693,
         "text": "From: Greenville-Spartanburg International Airport<br>To: Chicago Midway International Airport<br>Avg. Delay: 2.93 mins",
         "type": "scattergeo"
        },
        {
         "lat": [
          29.64542,
          35.04022
         ],
         "line": {
          "color": "#4682B4",
          "width": 1
         },
         "locationmode": "USA-states",
         "lon": [
          -95.27889,
          -106.60918999999998
         ],
         "mode": "lines",
         "opacity": 0.24502302515054905,
         "text": "From: William P. Hobby Airport<br>To: Albuquerque International Sunport<br>Avg. Delay: 7.35 mins",
         "type": "scattergeo"
        },
        {
         "lat": [
          29.64542,
          33.640440000000005
         ],
         "line": {
          "color": "#4682B4",
          "width": 1
         },
         "locationmode": "USA-states",
         "lon": [
          -95.27889,
          -84.42694
         ],
         "mode": "lines",
         "opacity": 0.29636459430979983,
         "text": "From: William P. Hobby Airport<br>To: Hartsfield-Jackson Atlanta International Airport<br>Avg. Delay: 8.89 mins",
         "type": "scattergeo"
        },
        {
         "lat": [
          29.64542,
          30.19453
         ],
         "line": {
          "color": "#4682B4",
          "width": 1
         },
         "locationmode": "USA-states",
         "lon": [
          -95.27889,
          -97.66986999999999
         ],
         "mode": "lines",
         "opacity": 0.3680361757105943,
         "text": "From: William P. Hobby Airport<br>To: Austin-Bergstrom International Airport<br>Avg. Delay: 11.04 mins",
         "type": "scattergeo"
        },
        {
         "lat": [
          29.64542,
          33.562940000000005
         ],
         "line": {
          "color": "#4682B4",
          "width": 1
         },
         "locationmode": "USA-states",
         "lon": [
          -95.27889,
          -86.75355
         ],
         "mode": "lines",
         "opacity": 0.39691460055096417,
         "text": "From: William P. Hobby Airport<br>To: Birmingham-Shuttlesworth International Airport<br>Avg. Delay: 11.9 mins",
         "type": "scattergeo"
        },
        {
         "lat": [
          29.64542,
          36.12448
         ],
         "line": {
          "color": "#4682B4",
          "width": 1
         },
         "locationmode": "USA-states",
         "lon": [
          -95.27889,
          -86.67818
         ],
         "mode": "lines",
         "opacity": 0.2996149614961496,
         "text": "From: William P. Hobby Airport<br>To: Nashville International Airport<br>Avg. Delay: 8.98 mins",
         "type": "scattergeo"
        },
        {
         "lat": [
          29.64542,
          42.36435
         ],
         "line": {
          "color": "#4682B4",
          "width": 1
         },
         "locationmode": "USA-states",
         "lon": [
          -95.27889,
          -71.00518000000001
         ],
         "mode": "lines",
         "opacity": 0.24982817869415808,
         "text": "From: William P. Hobby Airport<br>To: Gen. Edward Lawrence Logan International Airport<br>Avg. Delay: 7.49 mins",
         "type": "scattergeo"
        },
        {
         "lat": [
          29.64542,
          39.1754
         ],
         "line": {
          "color": "#4682B4",
          "width": 1
         },
         "locationmode": "USA-states",
         "lon": [
          -95.27889,
          -76.6682
         ],
         "mode": "lines",
         "opacity": 0.16142578125,
         "text": "From: William P. Hobby Airport<br>To: Baltimore-Washington International Airport<br>Avg. Delay: 4.84 mins",
         "type": "scattergeo"
        },
        {
         "lat": [
          29.64542,
          32.89865
         ],
         "line": {
          "color": "#4682B4",
          "width": 1
         },
         "locationmode": "USA-states",
         "lon": [
          -95.27889,
          -80.04051
         ],
         "mode": "lines",
         "opacity": 0.3165680473372781,
         "text": "From: William P. Hobby Airport<br>To: Charleston International Airport/Charleston AFB<br>Avg. Delay: 9.49 mins",
         "type": "scattergeo"
        },
        {
         "lat": [
          29.64542,
          35.214009999999995
         ],
         "line": {
          "color": "#4682B4",
          "width": 1
         },
         "locationmode": "USA-states",
         "lon": [
          -95.27889,
          -80.94313000000001
         ],
         "mode": "lines",
         "opacity": 0.4082887700534759,
         "text": "From: William P. Hobby Airport<br>To: Charlotte Douglas International Airport<br>Avg. Delay: 12.24 mins",
         "type": "scattergeo"
        },
        {
         "lat": [
          29.64542,
          27.770359999999997
         ],
         "line": {
          "color": "#4682B4",
          "width": 1
         },
         "locationmode": "USA-states",
         "lon": [
          -95.27889,
          -97.50121999999999
         ],
         "mode": "lines",
         "opacity": 0.32000540686672074,
         "text": "From: William P. Hobby Airport<br>To: Corpus Christi International Airport<br>Avg. Delay: 9.6 mins",
         "type": "scattergeo"
        },
        {
         "lat": [
          29.64542,
          32.84711
         ],
         "line": {
          "color": "#4682B4",
          "width": 1
         },
         "locationmode": "USA-states",
         "lon": [
          -95.27889,
          -96.85177
         ],
         "mode": "lines",
         "opacity": 0.32579777008842753,
         "text": "From: William P. Hobby Airport<br>To: Dallas Love Field<br>Avg. Delay: 9.77 mins",
         "type": "scattergeo"
        },
        {
         "lat": [
          29.64542,
          38.85208
         ],
         "line": {
          "color": "#4682B4",
          "width": 1
         },
         "locationmode": "USA-states",
         "lon": [
          -95.27889,
          -77.03772
         ],
         "mode": "lines",
         "opacity": 0.1512228634240176,
         "text": "From: William P. Hobby Airport<br>To: Ronald Reagan Washington National Airport<br>Avg. Delay: 4.53 mins",
         "type": "scattergeo"
        },
        {
         "lat": [
          29.64542,
          39.85841
         ],
         "line": {
          "color": "#4682B4",
          "width": 1
         },
         "locationmode": "USA-states",
         "lon": [
          -95.27889,
          -104.667
         ],
         "mode": "lines",
         "opacity": 0.05721620079863091,
         "text": "From: William P. Hobby Airport<br>To: Denver International Airport<br>Avg. Delay: 1.71 mins",
         "type": "scattergeo"
        },
        {
         "lat": [
          29.64542,
          null
         ],
         "line": {
          "color": "#4682B4",
          "width": 1
         },
         "locationmode": "USA-states",
         "lon": [
          -95.27889,
          null
         ],
         "mode": "lines",
         "opacity": 0.19060356652949245,
         "text": "From: William P. Hobby Airport<br>To: Northwest Florida Beaches International Airport<br>Avg. Delay: 5.71 mins",
         "type": "scattergeo"
        },
        {
         "lat": [
          29.64542,
          31.80667
         ],
         "line": {
          "color": "#4682B4",
          "width": 1
         },
         "locationmode": "USA-states",
         "lon": [
          -95.27889,
          -106.37781000000001
         ],
         "mode": "lines",
         "opacity": 0.21983594332587622,
         "text": "From: William P. Hobby Airport<br>To: El Paso International Airport<br>Avg. Delay: 6.59 mins",
         "type": "scattergeo"
        },
        {
         "lat": [
          29.64542,
          40.6925
         ],
         "line": {
          "color": "#4682B4",
          "width": 1
         },
         "locationmode": "USA-states",
         "lon": [
          -95.27889,
          -74.16866
         ],
         "mode": "lines",
         "opacity": 0.3403968253968254,
         "text": "From: William P. Hobby Airport<br>To: Newark Liberty International Airport<br>Avg. Delay: 10.21 mins",
         "type": "scattergeo"
        },
        {
         "lat": [
          29.64542,
          26.07258
         ],
         "line": {
          "color": "#4682B4",
          "width": 1
         },
         "locationmode": "USA-states",
         "lon": [
          -95.27889,
          -80.15275
         ],
         "mode": "lines",
         "opacity": 0.36297390448055145,
         "text": "From: William P. Hobby Airport<br>To: Fort Lauderdale-Hollywood International Airport<br>Avg. Delay: 10.88 mins",
         "type": "scattergeo"
        },
        {
         "lat": [
          29.64542,
          34.89567
         ],
         "line": {
          "color": "#4682B4",
          "width": 1
         },
         "locationmode": "USA-states",
         "lon": [
          -95.27889,
          -82.21885999999999
         ],
         "mode": "lines",
         "opacity": 0.38878406708595387,
         "text": "From: William P. Hobby Airport<br>To: Greenville-Spartanburg International Airport<br>Avg. Delay: 11.66 mins",
         "type": "scattergeo"
        },
        {
         "lat": [
          29.64542,
          26.228509999999996
         ],
         "line": {
          "color": "#4682B4",
          "width": 1
         },
         "locationmode": "USA-states",
         "lon": [
          -95.27889,
          -97.65439
         ],
         "mode": "lines",
         "opacity": 0.1999782561426397,
         "text": "From: William P. Hobby Airport<br>To: Valley International Airport<br>Avg. Delay: 5.99 mins",
         "type": "scattergeo"
        },
        {
         "lat": [
          29.64542,
          39.71733
         ],
         "line": {
          "color": "#4682B4",
          "width": 1
         },
         "locationmode": "USA-states",
         "lon": [
          -95.27889,
          -86.29438
         ],
         "mode": "lines",
         "opacity": 0.3740049751243781,
         "text": "From: William P. Hobby Airport<br>To: Indianapolis International Airport<br>Avg. Delay: 11.22 mins",
         "type": "scattergeo"
        },
        {
         "lat": [
          29.64542,
          30.494059999999998
         ],
         "line": {
          "color": "#4682B4",
          "width": 1
         },
         "locationmode": "USA-states",
         "lon": [
          -95.27889,
          -81.68786
         ],
         "mode": "lines",
         "opacity": 0.49900900900900896,
         "text": "From: William P. Hobby Airport<br>To: Jacksonville International Airport<br>Avg. Delay: 14.97 mins",
         "type": "scattergeo"
        },
        {
         "lat": [
          29.64542,
          36.08036
         ],
         "line": {
          "color": "#4682B4",
          "width": 1
         },
         "locationmode": "USA-states",
         "lon": [
          -95.27889,
          -115.15233
         ],
         "mode": "lines",
         "opacity": 0,
         "text": "From: William P. Hobby Airport<br>To: McCarran International Airport<br>Avg. Delay: -0.97 mins",
         "type": "scattergeo"
        },
        {
         "lat": [
          29.64542,
          33.94254
         ],
         "line": {
          "color": "#4682B4",
          "width": 1
         },
         "locationmode": "USA-states",
         "lon": [
          -95.27889,
          -118.40807
         ],
         "mode": "lines",
         "opacity": 0.1335728282168517,
         "text": "From: William P. Hobby Airport<br>To: Los Angeles International Airport<br>Avg. Delay: 4.0 mins",
         "type": "scattergeo"
        },
        {
         "lat": [
          29.64542,
          33.66364
         ],
         "line": {
          "color": "#4682B4",
          "width": 1
         },
         "locationmode": "USA-states",
         "lon": [
          -95.27889,
          -101.82278000000001
         ],
         "mode": "lines",
         "opacity": 0.4666666666666667,
         "text": "From: William P. Hobby Airport<br>To: Lubbock Preston Smith International Airport<br>Avg. Delay: 14.0 mins",
         "type": "scattergeo"
        },
        {
         "lat": [
          29.64542,
          40.77724
         ],
         "line": {
          "color": "#4682B4",
          "width": 1
         },
         "locationmode": "USA-states",
         "lon": [
          -95.27889,
          -73.87261
         ],
         "mode": "lines",
         "opacity": 0.36179858788554436,
         "text": "From: William P. Hobby Airport<br>To: LaGuardia Airport (Marine Air Terminal)<br>Avg. Delay: 10.85 mins",
         "type": "scattergeo"
        },
        {
         "lat": [
          29.64542,
          31.942529999999998
         ],
         "line": {
          "color": "#4682B4",
          "width": 1
         },
         "locationmode": "USA-states",
         "lon": [
          -95.27889,
          -102.20191
         ],
         "mode": "lines",
         "opacity": 0.2662462462462462,
         "text": "From: William P. Hobby Airport<br>To: Midland International Airport<br>Avg. Delay: 7.98 mins",
         "type": "scattergeo"
        },
        {
         "lat": [
          29.64542,
          39.29761
         ],
         "line": {
          "color": "#4682B4",
          "width": 1
         },
         "locationmode": "USA-states",
         "lon": [
          -95.27889,
          -94.71391
         ],
         "mode": "lines",
         "opacity": 0.252520325203252,
         "text": "From: William P. Hobby Airport<br>To: Kansas City International Airport<br>Avg. Delay: 7.57 mins",
         "type": "scattergeo"
        },
        {
         "lat": [
          29.64542,
          28.428890000000003
         ],
         "line": {
          "color": "#4682B4",
          "width": 1
         },
         "locationmode": "USA-states",
         "lon": [
          -95.27889,
          -81.31603
         ],
         "mode": "lines",
         "opacity": 0.4036075036075036,
         "text": "From: William P. Hobby Airport<br>To: Orlando International Airport<br>Avg. Delay: 12.1 mins",
         "type": "scattergeo"
        },
        {
         "lat": [
          29.64542,
          41.78598
         ],
         "line": {
          "color": "#4682B4",
          "width": 1
         },
         "locationmode": "USA-states",
         "lon": [
          -95.27889,
          -87.75242
         ],
         "mode": "lines",
         "opacity": 0.15332677810553916,
         "text": "From: William P. Hobby Airport<br>To: Chicago Midway International Airport<br>Avg. Delay: 4.59 mins",
         "type": "scattergeo"
        },
        {
         "lat": [
          29.64542,
          35.04242
         ],
         "line": {
          "color": "#4682B4",
          "width": 1
         },
         "locationmode": "USA-states",
         "lon": [
          -95.27889,
          -89.97667
         ],
         "mode": "lines",
         "opacity": 0.44808831448572967,
         "text": "From: William P. Hobby Airport<br>To: Memphis International Airport<br>Avg. Delay: 13.44 mins",
         "type": "scattergeo"
        },
        {
         "lat": [
          29.64542,
          29.99339
         ],
         "line": {
          "color": "#4682B4",
          "width": 1
         },
         "locationmode": "USA-states",
         "lon": [
          -95.27889,
          -90.25803
         ],
         "mode": "lines",
         "opacity": 0.22905698100633123,
         "text": "From: William P. Hobby Airport<br>To: Louis Armstrong New Orleans International Airport<br>Avg. Delay: 6.87 mins",
         "type": "scattergeo"
        },
        {
         "lat": [
          29.64542,
          37.72129
         ],
         "line": {
          "color": "#4682B4",
          "width": 1
         },
         "locationmode": "USA-states",
         "lon": [
          -95.27889,
          -122.22072
         ],
         "mode": "lines",
         "opacity": 0,
         "text": "From: William P. Hobby Airport<br>To: Oakland International Airport<br>Avg. Delay: -0.31 mins",
         "type": "scattergeo"
        },
        {
         "lat": [
          29.64542,
          35.39309
         ],
         "line": {
          "color": "#4682B4",
          "width": 1
         },
         "locationmode": "USA-states",
         "lon": [
          -95.27889,
          -97.60073
         ],
         "mode": "lines",
         "opacity": 0.24006820119352087,
         "text": "From: William P. Hobby Airport<br>To: Will Rogers World Airport<br>Avg. Delay: 7.2 mins",
         "type": "scattergeo"
        },
        {
         "lat": [
          29.64542,
          45.58872
         ],
         "line": {
          "color": "#4682B4",
          "width": 1
         },
         "locationmode": "USA-states",
         "lon": [
          -95.27889,
          -122.5975
         ],
         "mode": "lines",
         "opacity": 0.13544973544973543,
         "text": "From: William P. Hobby Airport<br>To: Portland International Airport<br>Avg. Delay: 4.06 mins",
         "type": "scattergeo"
        },
        {
         "lat": [
          29.64542,
          33.43417
         ],
         "line": {
          "color": "#4682B4",
          "width": 1
         },
         "locationmode": "USA-states",
         "lon": [
          -95.27889,
          -112.00806000000001
         ],
         "mode": "lines",
         "opacity": 0.09104513637460777,
         "text": "From: William P. Hobby Airport<br>To: Phoenix Sky Harbor International Airport<br>Avg. Delay: 2.73 mins",
         "type": "scattergeo"
        },
        {
         "lat": [
          29.64542,
          40.49147
         ],
         "line": {
          "color": "#4682B4",
          "width": 1
         },
         "locationmode": "USA-states",
         "lon": [
          -95.27889,
          -80.23286999999999
         ],
         "mode": "lines",
         "opacity": 0.3061616161616162,
         "text": "From: William P. Hobby Airport<br>To: Pittsburgh International Airport<br>Avg. Delay: 9.18 mins",
         "type": "scattergeo"
        },
        {
         "lat": [
          29.64542,
          30.473309999999998
         ],
         "line": {
          "color": "#4682B4",
          "width": 1
         },
         "locationmode": "USA-states",
         "lon": [
          -95.27889,
          -87.18744000000001
         ],
         "mode": "lines",
         "opacity": 0.4485309017223911,
         "text": "From: William P. Hobby Airport<br>To: Pensacola International Airport (Pensacola Gulf Coast Regional Airport)<br>Avg. Delay: 13.45 mins",
         "type": "scattergeo"
        },
        {
         "lat": [
          29.64542,
          35.87764
         ],
         "line": {
          "color": "#4682B4",
          "width": 1
         },
         "locationmode": "USA-states",
         "lon": [
          -95.27889,
          -78.78747
         ],
         "mode": "lines",
         "opacity": 0.3224666666666666,
         "text": "From: William P. Hobby Airport<br>To: Raleigh-Durham International Airport<br>Avg. Delay: 9.67 mins",
         "type": "scattergeo"
        },
        {
         "lat": [
          29.64542,
          26.536170000000002
         ],
         "line": {
          "color": "#4682B4",
          "width": 1
         },
         "locationmode": "USA-states",
         "lon": [
          -95.27889,
          -81.75516999999999
         ],
         "mode": "lines",
         "opacity": 0.437037037037037,
         "text": "From: William P. Hobby Airport<br>To: Southwest Florida International Airport<br>Avg. Delay: 13.11 mins",
         "type": "scattergeo"
        },
        {
         "lat": [
          29.64542,
          32.73356
         ],
         "line": {
          "color": "#4682B4",
          "width": 1
         },
         "locationmode": "USA-states",
         "lon": [
          -95.27889,
          -117.18966
         ],
         "mode": "lines",
         "opacity": 0.1211453744493392,
         "text": "From: William P. Hobby Airport<br>To: San Diego International Airport (Lindbergh Field)<br>Avg. Delay: 3.63 mins",
         "type": "scattergeo"
        },
        {
         "lat": [
          29.64542,
          29.533690000000004
         ],
         "line": {
          "color": "#4682B4",
          "width": 1
         },
         "locationmode": "USA-states",
         "lon": [
          -95.27889,
          -98.46978
         ],
         "mode": "lines",
         "opacity": 0.33289337474120084,
         "text": "From: William P. Hobby Airport<br>To: San Antonio International Airport<br>Avg. Delay: 9.98 mins",
         "type": "scattergeo"
        },
        {
         "lat": [
          29.64542,
          47.44898
         ],
         "line": {
          "color": "#4682B4",
          "width": 1
         },
         "locationmode": "USA-states",
         "lon": [
          -95.27889,
          -122.30931000000001
         ],
         "mode": "lines",
         "opacity": 0.5099773242630385,
         "text": "From: William P. Hobby Airport<br>To: Seattle-Tacoma International Airport<br>Avg. Delay: 15.29 mins",
         "type": "scattergeo"
        },
        {
         "lat": [
          29.64542,
          18.439420000000002
         ],
         "line": {
          "color": "#4682B4",
          "width": 1
         },
         "locationmode": "USA-states",
         "lon": [
          -95.27889,
          -66.00183
         ],
         "mode": "lines",
         "opacity": 0.22280701754385965,
         "text": "From: William P. Hobby Airport<br>To: Luis Muñoz Marín International Airport<br>Avg. Delay: 6.68 mins",
         "type": "scattergeo"
        },
        {
         "lat": [
          29.64542,
          40.78839
         ],
         "line": {
          "color": "#4682B4",
          "width": 1
         },
         "locationmode": "USA-states",
         "lon": [
          -95.27889,
          -111.97776999999999
         ],
         "mode": "lines",
         "opacity": 0.8777777777777778,
         "text": "From: William P. Hobby Airport<br>To: Salt Lake City International Airport<br>Avg. Delay: 26.33 mins",
         "type": "scattergeo"
        },
        {
         "lat": [
          29.64542,
          33.67566
         ],
         "line": {
          "color": "#4682B4",
          "width": 1
         },
         "locationmode": "USA-states",
         "lon": [
          -95.27889,
          -117.86822
         ],
         "mode": "lines",
         "opacity": 0,
         "text": "From: William P. Hobby Airport<br>To: John Wayne Airport (Orange County Airport)<br>Avg. Delay: -1.7 mins",
         "type": "scattergeo"
        },
        {
         "lat": [
          29.64542,
          38.747690000000006
         ],
         "line": {
          "color": "#4682B4",
          "width": 1
         },
         "locationmode": "USA-states",
         "lon": [
          -95.27889,
          -90.35999
         ],
         "mode": "lines",
         "opacity": 0.21272878535773712,
         "text": "From: William P. Hobby Airport<br>To: St. Louis International Airport at Lambert Field<br>Avg. Delay: 6.38 mins",
         "type": "scattergeo"
        },
        {
         "lat": [
          29.64542,
          27.97547
         ],
         "line": {
          "color": "#4682B4",
          "width": 1
         },
         "locationmode": "USA-states",
         "lon": [
          -95.27889,
          -82.53325
         ],
         "mode": "lines",
         "opacity": 0.4414591977869986,
         "text": "From: William P. Hobby Airport<br>To: Tampa International Airport<br>Avg. Delay: 13.24 mins",
         "type": "scattergeo"
        },
        {
         "lat": [
          29.64542,
          36.198370000000004
         ],
         "line": {
          "color": "#4682B4",
          "width": 1
         },
         "locationmode": "USA-states",
         "lon": [
          -95.27889,
          -95.88824
         ],
         "mode": "lines",
         "opacity": 0.2693683826213947,
         "text": "From: William P. Hobby Airport<br>To: Tulsa International Airport<br>Avg. Delay: 8.08 mins",
         "type": "scattergeo"
        },
        {
         "lat": [
          29.64542,
          32.11608
         ],
         "line": {
          "color": "#4682B4",
          "width": 1
         },
         "locationmode": "USA-states",
         "lon": [
          -95.27889,
          -110.94103
         ],
         "mode": "lines",
         "opacity": 0.3125,
         "text": "From: William P. Hobby Airport<br>To: Tucson International Airport<br>Avg. Delay: 9.37 mins",
         "type": "scattergeo"
        },
        {
         "lat": [
          26.228509999999996,
          30.19453
         ],
         "line": {
          "color": "#4682B4",
          "width": 1
         },
         "locationmode": "USA-states",
         "lon": [
          -97.65439,
          -97.66986999999999
         ],
         "mode": "lines",
         "opacity": 0.12453416149068322,
         "text": "From: Valley International Airport<br>To: Austin-Bergstrom International Airport<br>Avg. Delay: 3.73 mins",
         "type": "scattergeo"
        },
        {
         "lat": [
          26.228509999999996,
          29.64542
         ],
         "line": {
          "color": "#4682B4",
          "width": 1
         },
         "locationmode": "USA-states",
         "lon": [
          -97.65439,
          -95.27889
         ],
         "mode": "lines",
         "opacity": 0.05889034512887724,
         "text": "From: Valley International Airport<br>To: William P. Hobby Airport<br>Avg. Delay: 1.76 mins",
         "type": "scattergeo"
        },
        {
         "lat": [
          38.94453,
          39.85841
         ],
         "line": {
          "color": "#4682B4",
          "width": 1
         },
         "locationmode": "USA-states",
         "lon": [
          -77.45581,
          -104.667
         ],
         "mode": "lines",
         "opacity": 0,
         "text": "From: Washington Dulles International Airport<br>To: Denver International Airport<br>Avg. Delay: -3.26 mins",
         "type": "scattergeo"
        },
        {
         "lat": [
          38.94453,
          36.08036
         ],
         "line": {
          "color": "#4682B4",
          "width": 1
         },
         "locationmode": "USA-states",
         "lon": [
          -77.45581,
          -115.15233
         ],
         "mode": "lines",
         "opacity": 0.19113796576032227,
         "text": "From: Washington Dulles International Airport<br>To: McCarran International Airport<br>Avg. Delay: 5.73 mins",
         "type": "scattergeo"
        },
        {
         "lat": [
          38.94453,
          41.78598
         ],
         "line": {
          "color": "#4682B4",
          "width": 1
         },
         "locationmode": "USA-states",
         "lon": [
          -77.45581,
          -87.75242
         ],
         "mode": "lines",
         "opacity": 0.05032978183663115,
         "text": "From: Washington Dulles International Airport<br>To: Chicago Midway International Airport<br>Avg. Delay: 1.5 mins",
         "type": "scattergeo"
        },
        {
         "lat": [
          38.94453,
          32.73356
         ],
         "line": {
          "color": "#4682B4",
          "width": 1
         },
         "locationmode": "USA-states",
         "lon": [
          -77.45581,
          -117.18966
         ],
         "mode": "lines",
         "opacity": 0,
         "text": "From: Washington Dulles International Airport<br>To: San Diego International Airport (Lindbergh Field)<br>Avg. Delay: -3.2 mins",
         "type": "scattergeo"
        },
        {
         "lat": [
          37.64996,
          32.84711
         ],
         "line": {
          "color": "#4682B4",
          "width": 1
         },
         "locationmode": "USA-states",
         "lon": [
          -97.43305,
          -96.85177
         ],
         "mode": "lines",
         "opacity": 0.1104875283446712,
         "text": "From: Wichita Dwight D. Eisenhower National Airport (Wichita Mid-Continent Airport)<br>To: Dallas Love Field<br>Avg. Delay: 3.31 mins",
         "type": "scattergeo"
        },
        {
         "lat": [
          37.64996,
          36.08036
         ],
         "line": {
          "color": "#4682B4",
          "width": 1
         },
         "locationmode": "USA-states",
         "lon": [
          -97.43305,
          -115.15233
         ],
         "mode": "lines",
         "opacity": 0.03112449799196787,
         "text": "From: Wichita Dwight D. Eisenhower National Airport (Wichita Mid-Continent Airport)<br>To: McCarran International Airport<br>Avg. Delay: 0.93 mins",
         "type": "scattergeo"
        },
        {
         "lat": [
          37.64996,
          41.78598
         ],
         "line": {
          "color": "#4682B4",
          "width": 1
         },
         "locationmode": "USA-states",
         "lon": [
          -97.43305,
          -87.75242
         ],
         "mode": "lines",
         "opacity": 0.11448545861297539,
         "text": "From: Wichita Dwight D. Eisenhower National Airport (Wichita Mid-Continent Airport)<br>To: Chicago Midway International Airport<br>Avg. Delay: 3.43 mins",
         "type": "scattergeo"
        },
        {
         "lat": [
          39.71733,
          33.640440000000005
         ],
         "line": {
          "color": "#4682B4",
          "width": 1
         },
         "locationmode": "USA-states",
         "lon": [
          -86.29438,
          -84.42694
         ],
         "mode": "lines",
         "opacity": 0.023551465576005452,
         "text": "From: Indianapolis International Airport<br>To: Hartsfield-Jackson Atlanta International Airport<br>Avg. Delay: 0.7 mins",
         "type": "scattergeo"
        },
        {
         "lat": [
          39.71733,
          42.36435
         ],
         "line": {
          "color": "#4682B4",
          "width": 1
         },
         "locationmode": "USA-states",
         "lon": [
          -86.29438,
          -71.00518000000001
         ],
         "mode": "lines",
         "opacity": 0.2528813559322034,
         "text": "From: Indianapolis International Airport<br>To: Gen. Edward Lawrence Logan International Airport<br>Avg. Delay: 7.58 mins",
         "type": "scattergeo"
        },
        {
         "lat": [
          39.71733,
          39.1754
         ],
         "line": {
          "color": "#4682B4",
          "width": 1
         },
         "locationmode": "USA-states",
         "lon": [
          -86.29438,
          -76.6682
         ],
         "mode": "lines",
         "opacity": 0.15171370967741937,
         "text": "From: Indianapolis International Airport<br>To: Baltimore-Washington International Airport<br>Avg. Delay: 4.55 mins",
         "type": "scattergeo"
        },
        {
         "lat": [
          39.71733,
          32.84711
         ],
         "line": {
          "color": "#4682B4",
          "width": 1
         },
         "locationmode": "USA-states",
         "lon": [
          -86.29438,
          -96.85177
         ],
         "mode": "lines",
         "opacity": 0.26384180790960454,
         "text": "From: Indianapolis International Airport<br>To: Dallas Love Field<br>Avg. Delay: 7.91 mins",
         "type": "scattergeo"
        },
        {
         "lat": [
          39.71733,
          38.85208
         ],
         "line": {
          "color": "#4682B4",
          "width": 1
         },
         "locationmode": "USA-states",
         "lon": [
          -86.29438,
          -77.03772
         ],
         "mode": "lines",
         "opacity": 0,
         "text": "From: Indianapolis International Airport<br>To: Ronald Reagan Washington National Airport<br>Avg. Delay: -2.89 mins",
         "type": "scattergeo"
        },
        {
         "lat": [
          39.71733,
          39.85841
         ],
         "line": {
          "color": "#4682B4",
          "width": 1
         },
         "locationmode": "USA-states",
         "lon": [
          -86.29438,
          -104.667
         ],
         "mode": "lines",
         "opacity": 0.018848354792560803,
         "text": "From: Indianapolis International Airport<br>To: Denver International Airport<br>Avg. Delay: 0.56 mins",
         "type": "scattergeo"
        },
        {
         "lat": [
          39.71733,
          26.07258
         ],
         "line": {
          "color": "#4682B4",
          "width": 1
         },
         "locationmode": "USA-states",
         "lon": [
          -86.29438,
          -80.15275
         ],
         "mode": "lines",
         "opacity": 0,
         "text": "From: Indianapolis International Airport<br>To: Fort Lauderdale-Hollywood International Airport<br>Avg. Delay: -3.34 mins",
         "type": "scattergeo"
        },
        {
         "lat": [
          39.71733,
          29.64542
         ],
         "line": {
          "color": "#4682B4",
          "width": 1
         },
         "locationmode": "USA-states",
         "lon": [
          -86.29438,
          -95.27889
         ],
         "mode": "lines",
         "opacity": 0,
         "text": "From: Indianapolis International Airport<br>To: William P. Hobby Airport<br>Avg. Delay: -0.46 mins",
         "type": "scattergeo"
        },
        {
         "lat": [
          39.71733,
          36.08036
         ],
         "line": {
          "color": "#4682B4",
          "width": 1
         },
         "locationmode": "USA-states",
         "lon": [
          -86.29438,
          -115.15233
         ],
         "mode": "lines",
         "opacity": 0,
         "text": "From: Indianapolis International Airport<br>To: McCarran International Airport<br>Avg. Delay: -5.36 mins",
         "type": "scattergeo"
        },
        {
         "lat": [
          39.71733,
          33.94254
         ],
         "line": {
          "color": "#4682B4",
          "width": 1
         },
         "locationmode": "USA-states",
         "lon": [
          -86.29438,
          -118.40807
         ],
         "mode": "lines",
         "opacity": 0,
         "text": "From: Indianapolis International Airport<br>To: Los Angeles International Airport<br>Avg. Delay: -3.66 mins",
         "type": "scattergeo"
        },
        {
         "lat": [
          39.71733,
          40.77724
         ],
         "line": {
          "color": "#4682B4",
          "width": 1
         },
         "locationmode": "USA-states",
         "lon": [
          -86.29438,
          -73.87261
         ],
         "mode": "lines",
         "opacity": 0,
         "text": "From: Indianapolis International Airport<br>To: LaGuardia Airport (Marine Air Terminal)<br>Avg. Delay: -6.29 mins",
         "type": "scattergeo"
        },
        {
         "lat": [
          39.71733,
          39.29761
         ],
         "line": {
          "color": "#4682B4",
          "width": 1
         },
         "locationmode": "USA-states",
         "lon": [
          -86.29438,
          -94.71391
         ],
         "mode": "lines",
         "opacity": 0.045098039215686274,
         "text": "From: Indianapolis International Airport<br>To: Kansas City International Airport<br>Avg. Delay: 1.35 mins",
         "type": "scattergeo"
        },
        {
         "lat": [
          39.71733,
          28.428890000000003
         ],
         "line": {
          "color": "#4682B4",
          "width": 1
         },
         "locationmode": "USA-states",
         "lon": [
          -86.29438,
          -81.31603
         ],
         "mode": "lines",
         "opacity": 0.08609508106622697,
         "text": "From: Indianapolis International Airport<br>To: Orlando International Airport<br>Avg. Delay: 2.58 mins",
         "type": "scattergeo"
        },
        {
         "lat": [
          39.71733,
          33.43417
         ],
         "line": {
          "color": "#4682B4",
          "width": 1
         },
         "locationmode": "USA-states",
         "lon": [
          -86.29438,
          -112.00806000000001
         ],
         "mode": "lines",
         "opacity": 0,
         "text": "From: Indianapolis International Airport<br>To: Phoenix Sky Harbor International Airport<br>Avg. Delay: -0.82 mins",
         "type": "scattergeo"
        },
        {
         "lat": [
          39.71733,
          26.536170000000002
         ],
         "line": {
          "color": "#4682B4",
          "width": 1
         },
         "locationmode": "USA-states",
         "lon": [
          -86.29438,
          -81.75516999999999
         ],
         "mode": "lines",
         "opacity": 0.07173620457604307,
         "text": "From: Indianapolis International Airport<br>To: Southwest Florida International Airport<br>Avg. Delay: 2.15 mins",
         "type": "scattergeo"
        },
        {
         "lat": [
          39.71733,
          27.97547
         ],
         "line": {
          "color": "#4682B4",
          "width": 1
         },
         "locationmode": "USA-states",
         "lon": [
          -86.29438,
          -82.53325
         ],
         "mode": "lines",
         "opacity": 0.10543761638733705,
         "text": "From: Indianapolis International Airport<br>To: Tampa International Airport<br>Avg. Delay: 3.16 mins",
         "type": "scattergeo"
        },
        {
         "lat": [
          40.79524,
          39.1754
         ],
         "line": {
          "color": "#4682B4",
          "width": 1
         },
         "locationmode": "USA-states",
         "lon": [
          -73.10021,
          -76.6682
         ],
         "mode": "lines",
         "opacity": 0.1518021043205731,
         "text": "From: Long Island MacArthur Airport<br>To: Baltimore-Washington International Airport<br>Avg. Delay: 4.55 mins",
         "type": "scattergeo"
        },
        {
         "lat": [
          40.79524,
          26.07258
         ],
         "line": {
          "color": "#4682B4",
          "width": 1
         },
         "locationmode": "USA-states",
         "lon": [
          -73.10021,
          -80.15275
         ],
         "mode": "lines",
         "opacity": 0,
         "text": "From: Long Island MacArthur Airport<br>To: Fort Lauderdale-Hollywood International Airport<br>Avg. Delay: -5.28 mins",
         "type": "scattergeo"
        },
        {
         "lat": [
          40.79524,
          28.428890000000003
         ],
         "line": {
          "color": "#4682B4",
          "width": 1
         },
         "locationmode": "USA-states",
         "lon": [
          -73.10021,
          -81.31603
         ],
         "mode": "lines",
         "opacity": 0.07382572076449628,
         "text": "From: Long Island MacArthur Airport<br>To: Orlando International Airport<br>Avg. Delay: 2.21 mins",
         "type": "scattergeo"
        },
        {
         "lat": [
          40.79524,
          26.683159999999997
         ],
         "line": {
          "color": "#4682B4",
          "width": 1
         },
         "locationmode": "USA-states",
         "lon": [
          -73.10021,
          -80.09559
         ],
         "mode": "lines",
         "opacity": 0.17010309278350513,
         "text": "From: Long Island MacArthur Airport<br>To: Palm Beach International Airport<br>Avg. Delay: 5.1 mins",
         "type": "scattergeo"
        },
        {
         "lat": [
          40.79524,
          26.536170000000002
         ],
         "line": {
          "color": "#4682B4",
          "width": 1
         },
         "locationmode": "USA-states",
         "lon": [
          -73.10021,
          -81.75516999999999
         ],
         "mode": "lines",
         "opacity": 0,
         "text": "From: Long Island MacArthur Airport<br>To: Southwest Florida International Airport<br>Avg. Delay: -5.0 mins",
         "type": "scattergeo"
        },
        {
         "lat": [
          40.79524,
          27.97547
         ],
         "line": {
          "color": "#4682B4",
          "width": 1
         },
         "locationmode": "USA-states",
         "lon": [
          -73.10021,
          -82.53325
         ],
         "mode": "lines",
         "opacity": 0,
         "text": "From: Long Island MacArthur Airport<br>To: Tampa International Airport<br>Avg. Delay: -1.13 mins",
         "type": "scattergeo"
        },
        {
         "lat": [
          30.494059999999998,
          33.640440000000005
         ],
         "line": {
          "color": "#4682B4",
          "width": 1
         },
         "locationmode": "USA-states",
         "lon": [
          -81.68786,
          -84.42694
         ],
         "mode": "lines",
         "opacity": 0.3551937984496124,
         "text": "From: Jacksonville International Airport<br>To: Hartsfield-Jackson Atlanta International Airport<br>Avg. Delay: 10.65 mins",
         "type": "scattergeo"
        },
        {
         "lat": [
          30.494059999999998,
          36.12448
         ],
         "line": {
          "color": "#4682B4",
          "width": 1
         },
         "locationmode": "USA-states",
         "lon": [
          -81.68786,
          -86.67818
         ],
         "mode": "lines",
         "opacity": 0.17989652623798963,
         "text": "From: Jacksonville International Airport<br>To: Nashville International Airport<br>Avg. Delay: 5.39 mins",
         "type": "scattergeo"
        },
        {
         "lat": [
          30.494059999999998,
          39.1754
         ],
         "line": {
          "color": "#4682B4",
          "width": 1
         },
         "locationmode": "USA-states",
         "lon": [
          -81.68786,
          -76.6682
         ],
         "mode": "lines",
         "opacity": 0.00428527701254974,
         "text": "From: Jacksonville International Airport<br>To: Baltimore-Washington International Airport<br>Avg. Delay: 0.12 mins",
         "type": "scattergeo"
        },
        {
         "lat": [
          30.494059999999998,
          39.85841
         ],
         "line": {
          "color": "#4682B4",
          "width": 1
         },
         "locationmode": "USA-states",
         "lon": [
          -81.68786,
          -104.667
         ],
         "mode": "lines",
         "opacity": 0,
         "text": "From: Jacksonville International Airport<br>To: Denver International Airport<br>Avg. Delay: -10.06 mins",
         "type": "scattergeo"
        },
        {
         "lat": [
          30.494059999999998,
          29.64542
         ],
         "line": {
          "color": "#4682B4",
          "width": 1
         },
         "locationmode": "USA-states",
         "lon": [
          -81.68786,
          -95.27889
         ],
         "mode": "lines",
         "opacity": 0.28060109289617485,
         "text": "From: Jacksonville International Airport<br>To: William P. Hobby Airport<br>Avg. Delay: 8.41 mins",
         "type": "scattergeo"
        },
        {
         "lat": [
          30.494059999999998,
          36.08036
         ],
         "line": {
          "color": "#4682B4",
          "width": 1
         },
         "locationmode": "USA-states",
         "lon": [
          -81.68786,
          -115.15233
         ],
         "mode": "lines",
         "opacity": 0,
         "text": "From: Jacksonville International Airport<br>To: McCarran International Airport<br>Avg. Delay: -9.26 mins",
         "type": "scattergeo"
        },
        {
         "lat": [
          30.494059999999998,
          41.78598
         ],
         "line": {
          "color": "#4682B4",
          "width": 1
         },
         "locationmode": "USA-states",
         "lon": [
          -81.68786,
          -87.75242
         ],
         "mode": "lines",
         "opacity": 0.04285714285714286,
         "text": "From: Jacksonville International Airport<br>To: Chicago Midway International Airport<br>Avg. Delay: 1.28 mins",
         "type": "scattergeo"
        },
        {
         "lat": [
          36.08036,
          35.04022
         ],
         "line": {
          "color": "#4682B4",
          "width": 1
         },
         "locationmode": "USA-states",
         "lon": [
          -115.15233,
          -106.60918999999998
         ],
         "mode": "lines",
         "opacity": 0.193994708994709,
         "text": "From: McCarran International Airport<br>To: Albuquerque International Sunport<br>Avg. Delay: 5.81 mins",
         "type": "scattergeo"
        },
        {
         "lat": [
          36.08036,
          42.74812
         ],
         "line": {
          "color": "#4682B4",
          "width": 1
         },
         "locationmode": "USA-states",
         "lon": [
          -115.15233,
          -73.80298
         ],
         "mode": "lines",
         "opacity": 0.34014598540145985,
         "text": "From: McCarran International Airport<br>To: Albany International Airport<br>Avg. Delay: 10.2 mins",
         "type": "scattergeo"
        },
        {
         "lat": [
          36.08036,
          35.21937
         ],
         "line": {
          "color": "#4682B4",
          "width": 1
         },
         "locationmode": "USA-states",
         "lon": [
          -115.15233,
          -101.70593000000001
         ],
         "mode": "lines",
         "opacity": 0.04,
         "text": "From: McCarran International Airport<br>To: Rick Husband Amarillo International Airport<br>Avg. Delay: 1.2 mins",
         "type": "scattergeo"
        },
        {
         "lat": [
          36.08036,
          33.640440000000005
         ],
         "line": {
          "color": "#4682B4",
          "width": 1
         },
         "locationmode": "USA-states",
         "lon": [
          -115.15233,
          -84.42694
         ],
         "mode": "lines",
         "opacity": 0.03910714285714286,
         "text": "From: McCarran International Airport<br>To: Hartsfield-Jackson Atlanta International Airport<br>Avg. Delay: 1.17 mins",
         "type": "scattergeo"
        },
        {
         "lat": [
          36.08036,
          30.19453
         ],
         "line": {
          "color": "#4682B4",
          "width": 1
         },
         "locationmode": "USA-states",
         "lon": [
          -115.15233,
          -97.66986999999999
         ],
         "mode": "lines",
         "opacity": 0.2070139598229486,
         "text": "From: McCarran International Airport<br>To: Austin-Bergstrom International Airport<br>Avg. Delay: 6.21 mins",
         "type": "scattergeo"
        },
        {
         "lat": [
          36.08036,
          41.93887
         ],
         "line": {
          "color": "#4682B4",
          "width": 1
         },
         "locationmode": "USA-states",
         "lon": [
          -115.15233,
          -72.68323000000001
         ],
         "mode": "lines",
         "opacity": 0.45393258426966293,
         "text": "From: McCarran International Airport<br>To: Bradley International Airport<br>Avg. Delay: 13.61 mins",
         "type": "scattergeo"
        },
        {
         "lat": [
          36.08036,
          33.562940000000005
         ],
         "line": {
          "color": "#4682B4",
          "width": 1
         },
         "locationmode": "USA-states",
         "lon": [
          -115.15233,
          -86.75355
         ],
         "mode": "lines",
         "opacity": 0.08828828828828829,
         "text": "From: McCarran International Airport<br>To: Birmingham-Shuttlesworth International Airport<br>Avg. Delay: 2.64 mins",
         "type": "scattergeo"
        },
        {
         "lat": [
          36.08036,
          36.12448
         ],
         "line": {
          "color": "#4682B4",
          "width": 1
         },
         "locationmode": "USA-states",
         "lon": [
          -115.15233,
          -86.67818
         ],
         "mode": "lines",
         "opacity": 0.17016742770167428,
         "text": "From: McCarran International Airport<br>To: Nashville International Airport<br>Avg. Delay: 5.1 mins",
         "type": "scattergeo"
        },
        {
         "lat": [
          36.08036,
          43.564440000000005
         ],
         "line": {
          "color": "#4682B4",
          "width": 1
         },
         "locationmode": "USA-states",
         "lon": [
          -115.15233,
          -116.22278
         ],
         "mode": "lines",
         "opacity": 0.1846585117227319,
         "text": "From: McCarran International Airport<br>To: Boise Airport (Boise Air Terminal)<br>Avg. Delay: 5.53 mins",
         "type": "scattergeo"
        },
        {
         "lat": [
          36.08036,
          42.94052
         ],
         "line": {
          "color": "#4682B4",
          "width": 1
         },
         "locationmode": "USA-states",
         "lon": [
          -115.15233,
          -78.73217
         ],
         "mode": "lines",
         "opacity": 0,
         "text": "From: McCarran International Airport<br>To: Buffalo Niagara International Airport<br>Avg. Delay: -0.22 mins",
         "type": "scattergeo"
        },
        {
         "lat": [
          36.08036,
          34.20062
         ],
         "line": {
          "color": "#4682B4",
          "width": 1
         },
         "locationmode": "USA-states",
         "lon": [
          -115.15233,
          -118.3585
         ],
         "mode": "lines",
         "opacity": 0.19270526660124304,
         "text": "From: McCarran International Airport<br>To: Bob Hope Airport (Hollywood Burbank Airport)<br>Avg. Delay: 5.78 mins",
         "type": "scattergeo"
        },
        {
         "lat": [
          36.08036,
          39.1754
         ],
         "line": {
          "color": "#4682B4",
          "width": 1
         },
         "locationmode": "USA-states",
         "lon": [
          -115.15233,
          -76.6682
         ],
         "mode": "lines",
         "opacity": 0.13724627048178037,
         "text": "From: McCarran International Airport<br>To: Baltimore-Washington International Airport<br>Avg. Delay: 4.11 mins",
         "type": "scattergeo"
        },
        {
         "lat": [
          36.08036,
          40.916309999999996
         ],
         "line": {
          "color": "#4682B4",
          "width": 1
         },
         "locationmode": "USA-states",
         "lon": [
          -115.15233,
          -81.44247
         ],
         "mode": "lines",
         "opacity": 0.276595744680851,
         "text": "From: McCarran International Airport<br>To: Akron-Canton Regional Airport<br>Avg. Delay: 8.29 mins",
         "type": "scattergeo"
        },
        {
         "lat": [
          36.08036,
          41.41089
         ],
         "line": {
          "color": "#4682B4",
          "width": 1
         },
         "locationmode": "USA-states",
         "lon": [
          -115.15233,
          -81.8494
         ],
         "mode": "lines",
         "opacity": 0.5867768595041323,
         "text": "From: McCarran International Airport<br>To: Cleveland Hopkins International Airport<br>Avg. Delay: 17.6 mins",
         "type": "scattergeo"
        },
        {
         "lat": [
          36.08036,
          39.99799
         ],
         "line": {
          "color": "#4682B4",
          "width": 1
         },
         "locationmode": "USA-states",
         "lon": [
          -115.15233,
          -82.89188
         ],
         "mode": "lines",
         "opacity": 0.06564019448946516,
         "text": "From: McCarran International Airport<br>To: Port Columbus International Airport<br>Avg. Delay: 1.96 mins",
         "type": "scattergeo"
        },
        {
         "lat": [
          36.08036,
          32.84711
         ],
         "line": {
          "color": "#4682B4",
          "width": 1
         },
         "locationmode": "USA-states",
         "lon": [
          -115.15233,
          -96.85177
         ],
         "mode": "lines",
         "opacity": 0.2166422645192777,
         "text": "From: McCarran International Airport<br>To: Dallas Love Field<br>Avg. Delay: 6.49 mins",
         "type": "scattergeo"
        },
        {
         "lat": [
          36.08036,
          39.85841
         ],
         "line": {
          "color": "#4682B4",
          "width": 1
         },
         "locationmode": "USA-states",
         "lon": [
          -115.15233,
          -104.667
         ],
         "mode": "lines",
         "opacity": 0.17039155860666158,
         "text": "From: McCarran International Airport<br>To: Denver International Airport<br>Avg. Delay: 5.11 mins",
         "type": "scattergeo"
        },
        {
         "lat": [
          36.08036,
          41.534929999999996
         ],
         "line": {
          "color": "#4682B4",
          "width": 1
         },
         "locationmode": "USA-states",
         "lon": [
          -115.15233,
          -93.66068
         ],
         "mode": "lines",
         "opacity": 0.07381671701913393,
         "text": "From: McCarran International Airport<br>To: Des Moines International Airport<br>Avg. Delay: 2.21 mins",
         "type": "scattergeo"
        },
        {
         "lat": [
          36.08036,
          42.21206
         ],
         "line": {
          "color": "#4682B4",
          "width": 1
         },
         "locationmode": "USA-states",
         "lon": [
          -115.15233,
          -83.34884
         ],
         "mode": "lines",
         "opacity": 0.03643643643643644,
         "text": "From: McCarran International Airport<br>To: Detroit Metropolitan Airport<br>Avg. Delay: 1.09 mins",
         "type": "scattergeo"
        },
        {
         "lat": [
          36.08036,
          31.80667
         ],
         "line": {
          "color": "#4682B4",
          "width": 1
         },
         "locationmode": "USA-states",
         "lon": [
          -115.15233,
          -106.37781000000001
         ],
         "mode": "lines",
         "opacity": 0.35529953917050694,
         "text": "From: McCarran International Airport<br>To: El Paso International Airport<br>Avg. Delay: 10.65 mins",
         "type": "scattergeo"
        },
        {
         "lat": [
          36.08036,
          26.07258
         ],
         "line": {
          "color": "#4682B4",
          "width": 1
         },
         "locationmode": "USA-states",
         "lon": [
          -115.15233,
          -80.15275
         ],
         "mode": "lines",
         "opacity": 0.31626506024096385,
         "text": "From: McCarran International Airport<br>To: Fort Lauderdale-Hollywood International Airport<br>Avg. Delay: 9.48 mins",
         "type": "scattergeo"
        },
        {
         "lat": [
          36.08036,
          42.9655
         ],
         "line": {
          "color": "#4682B4",
          "width": 1
         },
         "locationmode": "USA-states",
         "lon": [
          -115.15233,
          -83.74346
         ],
         "mode": "lines",
         "opacity": 0.20090634441087613,
         "text": "From: McCarran International Airport<br>To: Bishop International Airport<br>Avg. Delay: 6.02 mins",
         "type": "scattergeo"
        },
        {
         "lat": [
          36.08036,
          47.619859999999996
         ],
         "line": {
          "color": "#4682B4",
          "width": 1
         },
         "locationmode": "USA-states",
         "lon": [
          -115.15233,
          -117.53383999999998
         ],
         "mode": "lines",
         "opacity": 0.027812177502579978,
         "text": "From: McCarran International Airport<br>To: Spokane International Airport<br>Avg. Delay: 0.83 mins",
         "type": "scattergeo"
        },
        {
         "lat": [
          36.08036,
          29.64542
         ],
         "line": {
          "color": "#4682B4",
          "width": 1
         },
         "locationmode": "USA-states",
         "lon": [
          -115.15233,
          -95.27889
         ],
         "mode": "lines",
         "opacity": 0.16854256854256855,
         "text": "From: McCarran International Airport<br>To: William P. Hobby Airport<br>Avg. Delay: 5.05 mins",
         "type": "scattergeo"
        },
        {
         "lat": [
          36.08036,
          38.94453
         ],
         "line": {
          "color": "#4682B4",
          "width": 1
         },
         "locationmode": "USA-states",
         "lon": [
          -115.15233,
          -77.45581
         ],
         "mode": "lines",
         "opacity": 0.10303951367781154,
         "text": "From: McCarran International Airport<br>To: Washington Dulles International Airport<br>Avg. Delay: 3.09 mins",
         "type": "scattergeo"
        }
       ],
       "layout": {
        "geo": {
         "lakecolor": "rgb(95,145,237)",
         "landcolor": "rgb(250,250,250)",
         "projection": {
          "type": "azimuthal equal area"
         },
         "scope": "north america",
         "showlakes": true,
         "showland": true
        },
        "showlegend": false,
        "template": {
         "data": {
          "bar": [
           {
            "error_x": {
             "color": "#2a3f5f"
            },
            "error_y": {
             "color": "#2a3f5f"
            },
            "marker": {
             "line": {
              "color": "#E5ECF6",
              "width": 0.5
             }
            },
            "type": "bar"
           }
          ],
          "barpolar": [
           {
            "marker": {
             "line": {
              "color": "#E5ECF6",
              "width": 0.5
             }
            },
            "type": "barpolar"
           }
          ],
          "carpet": [
           {
            "aaxis": {
             "endlinecolor": "#2a3f5f",
             "gridcolor": "white",
             "linecolor": "white",
             "minorgridcolor": "white",
             "startlinecolor": "#2a3f5f"
            },
            "baxis": {
             "endlinecolor": "#2a3f5f",
             "gridcolor": "white",
             "linecolor": "white",
             "minorgridcolor": "white",
             "startlinecolor": "#2a3f5f"
            },
            "type": "carpet"
           }
          ],
          "choropleth": [
           {
            "colorbar": {
             "outlinewidth": 0,
             "ticks": ""
            },
            "type": "choropleth"
           }
          ],
          "contour": [
           {
            "colorbar": {
             "outlinewidth": 0,
             "ticks": ""
            },
            "colorscale": [
             [
              0,
              "#0d0887"
             ],
             [
              0.1111111111111111,
              "#46039f"
             ],
             [
              0.2222222222222222,
              "#7201a8"
             ],
             [
              0.3333333333333333,
              "#9c179e"
             ],
             [
              0.4444444444444444,
              "#bd3786"
             ],
             [
              0.5555555555555556,
              "#d8576b"
             ],
             [
              0.6666666666666666,
              "#ed7953"
             ],
             [
              0.7777777777777778,
              "#fb9f3a"
             ],
             [
              0.8888888888888888,
              "#fdca26"
             ],
             [
              1,
              "#f0f921"
             ]
            ],
            "type": "contour"
           }
          ],
          "contourcarpet": [
           {
            "colorbar": {
             "outlinewidth": 0,
             "ticks": ""
            },
            "type": "contourcarpet"
           }
          ],
          "heatmap": [
           {
            "colorbar": {
             "outlinewidth": 0,
             "ticks": ""
            },
            "colorscale": [
             [
              0,
              "#0d0887"
             ],
             [
              0.1111111111111111,
              "#46039f"
             ],
             [
              0.2222222222222222,
              "#7201a8"
             ],
             [
              0.3333333333333333,
              "#9c179e"
             ],
             [
              0.4444444444444444,
              "#bd3786"
             ],
             [
              0.5555555555555556,
              "#d8576b"
             ],
             [
              0.6666666666666666,
              "#ed7953"
             ],
             [
              0.7777777777777778,
              "#fb9f3a"
             ],
             [
              0.8888888888888888,
              "#fdca26"
             ],
             [
              1,
              "#f0f921"
             ]
            ],
            "type": "heatmap"
           }
          ],
          "heatmapgl": [
           {
            "colorbar": {
             "outlinewidth": 0,
             "ticks": ""
            },
            "colorscale": [
             [
              0,
              "#0d0887"
             ],
             [
              0.1111111111111111,
              "#46039f"
             ],
             [
              0.2222222222222222,
              "#7201a8"
             ],
             [
              0.3333333333333333,
              "#9c179e"
             ],
             [
              0.4444444444444444,
              "#bd3786"
             ],
             [
              0.5555555555555556,
              "#d8576b"
             ],
             [
              0.6666666666666666,
              "#ed7953"
             ],
             [
              0.7777777777777778,
              "#fb9f3a"
             ],
             [
              0.8888888888888888,
              "#fdca26"
             ],
             [
              1,
              "#f0f921"
             ]
            ],
            "type": "heatmapgl"
           }
          ],
          "histogram": [
           {
            "marker": {
             "colorbar": {
              "outlinewidth": 0,
              "ticks": ""
             }
            },
            "type": "histogram"
           }
          ],
          "histogram2d": [
           {
            "colorbar": {
             "outlinewidth": 0,
             "ticks": ""
            },
            "colorscale": [
             [
              0,
              "#0d0887"
             ],
             [
              0.1111111111111111,
              "#46039f"
             ],
             [
              0.2222222222222222,
              "#7201a8"
             ],
             [
              0.3333333333333333,
              "#9c179e"
             ],
             [
              0.4444444444444444,
              "#bd3786"
             ],
             [
              0.5555555555555556,
              "#d8576b"
             ],
             [
              0.6666666666666666,
              "#ed7953"
             ],
             [
              0.7777777777777778,
              "#fb9f3a"
             ],
             [
              0.8888888888888888,
              "#fdca26"
             ],
             [
              1,
              "#f0f921"
             ]
            ],
            "type": "histogram2d"
           }
          ],
          "histogram2dcontour": [
           {
            "colorbar": {
             "outlinewidth": 0,
             "ticks": ""
            },
            "colorscale": [
             [
              0,
              "#0d0887"
             ],
             [
              0.1111111111111111,
              "#46039f"
             ],
             [
              0.2222222222222222,
              "#7201a8"
             ],
             [
              0.3333333333333333,
              "#9c179e"
             ],
             [
              0.4444444444444444,
              "#bd3786"
             ],
             [
              0.5555555555555556,
              "#d8576b"
             ],
             [
              0.6666666666666666,
              "#ed7953"
             ],
             [
              0.7777777777777778,
              "#fb9f3a"
             ],
             [
              0.8888888888888888,
              "#fdca26"
             ],
             [
              1,
              "#f0f921"
             ]
            ],
            "type": "histogram2dcontour"
           }
          ],
          "mesh3d": [
           {
            "colorbar": {
             "outlinewidth": 0,
             "ticks": ""
            },
            "type": "mesh3d"
           }
          ],
          "parcoords": [
           {
            "line": {
             "colorbar": {
              "outlinewidth": 0,
              "ticks": ""
             }
            },
            "type": "parcoords"
           }
          ],
          "pie": [
           {
            "automargin": true,
            "type": "pie"
           }
          ],
          "scatter": [
           {
            "marker": {
             "colorbar": {
              "outlinewidth": 0,
              "ticks": ""
             }
            },
            "type": "scatter"
           }
          ],
          "scatter3d": [
           {
            "line": {
             "colorbar": {
              "outlinewidth": 0,
              "ticks": ""
             }
            },
            "marker": {
             "colorbar": {
              "outlinewidth": 0,
              "ticks": ""
             }
            },
            "type": "scatter3d"
           }
          ],
          "scattercarpet": [
           {
            "marker": {
             "colorbar": {
              "outlinewidth": 0,
              "ticks": ""
             }
            },
            "type": "scattercarpet"
           }
          ],
          "scattergeo": [
           {
            "marker": {
             "colorbar": {
              "outlinewidth": 0,
              "ticks": ""
             }
            },
            "type": "scattergeo"
           }
          ],
          "scattergl": [
           {
            "marker": {
             "colorbar": {
              "outlinewidth": 0,
              "ticks": ""
             }
            },
            "type": "scattergl"
           }
          ],
          "scattermapbox": [
           {
            "marker": {
             "colorbar": {
              "outlinewidth": 0,
              "ticks": ""
             }
            },
            "type": "scattermapbox"
           }
          ],
          "scatterpolar": [
           {
            "marker": {
             "colorbar": {
              "outlinewidth": 0,
              "ticks": ""
             }
            },
            "type": "scatterpolar"
           }
          ],
          "scatterpolargl": [
           {
            "marker": {
             "colorbar": {
              "outlinewidth": 0,
              "ticks": ""
             }
            },
            "type": "scatterpolargl"
           }
          ],
          "scatterternary": [
           {
            "marker": {
             "colorbar": {
              "outlinewidth": 0,
              "ticks": ""
             }
            },
            "type": "scatterternary"
           }
          ],
          "surface": [
           {
            "colorbar": {
             "outlinewidth": 0,
             "ticks": ""
            },
            "colorscale": [
             [
              0,
              "#0d0887"
             ],
             [
              0.1111111111111111,
              "#46039f"
             ],
             [
              0.2222222222222222,
              "#7201a8"
             ],
             [
              0.3333333333333333,
              "#9c179e"
             ],
             [
              0.4444444444444444,
              "#bd3786"
             ],
             [
              0.5555555555555556,
              "#d8576b"
             ],
             [
              0.6666666666666666,
              "#ed7953"
             ],
             [
              0.7777777777777778,
              "#fb9f3a"
             ],
             [
              0.8888888888888888,
              "#fdca26"
             ],
             [
              1,
              "#f0f921"
             ]
            ],
            "type": "surface"
           }
          ],
          "table": [
           {
            "cells": {
             "fill": {
              "color": "#EBF0F8"
             },
             "line": {
              "color": "white"
             }
            },
            "header": {
             "fill": {
              "color": "#C8D4E3"
             },
             "line": {
              "color": "white"
             }
            },
            "type": "table"
           }
          ]
         },
         "layout": {
          "annotationdefaults": {
           "arrowcolor": "#2a3f5f",
           "arrowhead": 0,
           "arrowwidth": 1
          },
          "coloraxis": {
           "colorbar": {
            "outlinewidth": 0,
            "ticks": ""
           }
          },
          "colorscale": {
           "diverging": [
            [
             0,
             "#8e0152"
            ],
            [
             0.1,
             "#c51b7d"
            ],
            [
             0.2,
             "#de77ae"
            ],
            [
             0.3,
             "#f1b6da"
            ],
            [
             0.4,
             "#fde0ef"
            ],
            [
             0.5,
             "#f7f7f7"
            ],
            [
             0.6,
             "#e6f5d0"
            ],
            [
             0.7,
             "#b8e186"
            ],
            [
             0.8,
             "#7fbc41"
            ],
            [
             0.9,
             "#4d9221"
            ],
            [
             1,
             "#276419"
            ]
           ],
           "sequential": [
            [
             0,
             "#0d0887"
            ],
            [
             0.1111111111111111,
             "#46039f"
            ],
            [
             0.2222222222222222,
             "#7201a8"
            ],
            [
             0.3333333333333333,
             "#9c179e"
            ],
            [
             0.4444444444444444,
             "#bd3786"
            ],
            [
             0.5555555555555556,
             "#d8576b"
            ],
            [
             0.6666666666666666,
             "#ed7953"
            ],
            [
             0.7777777777777778,
             "#fb9f3a"
            ],
            [
             0.8888888888888888,
             "#fdca26"
            ],
            [
             1,
             "#f0f921"
            ]
           ],
           "sequentialminus": [
            [
             0,
             "#0d0887"
            ],
            [
             0.1111111111111111,
             "#46039f"
            ],
            [
             0.2222222222222222,
             "#7201a8"
            ],
            [
             0.3333333333333333,
             "#9c179e"
            ],
            [
             0.4444444444444444,
             "#bd3786"
            ],
            [
             0.5555555555555556,
             "#d8576b"
            ],
            [
             0.6666666666666666,
             "#ed7953"
            ],
            [
             0.7777777777777778,
             "#fb9f3a"
            ],
            [
             0.8888888888888888,
             "#fdca26"
            ],
            [
             1,
             "#f0f921"
            ]
           ]
          },
          "colorway": [
           "#636efa",
           "#EF553B",
           "#00cc96",
           "#ab63fa",
           "#FFA15A",
           "#19d3f3",
           "#FF6692",
           "#B6E880",
           "#FF97FF",
           "#FECB52"
          ],
          "font": {
           "color": "#2a3f5f"
          },
          "geo": {
           "bgcolor": "white",
           "lakecolor": "white",
           "landcolor": "#E5ECF6",
           "showlakes": true,
           "showland": true,
           "subunitcolor": "white"
          },
          "hoverlabel": {
           "align": "left"
          },
          "hovermode": "closest",
          "mapbox": {
           "style": "light"
          },
          "paper_bgcolor": "white",
          "plot_bgcolor": "#E5ECF6",
          "polar": {
           "angularaxis": {
            "gridcolor": "white",
            "linecolor": "white",
            "ticks": ""
           },
           "bgcolor": "#E5ECF6",
           "radialaxis": {
            "gridcolor": "white",
            "linecolor": "white",
            "ticks": ""
           }
          },
          "scene": {
           "xaxis": {
            "backgroundcolor": "#E5ECF6",
            "gridcolor": "white",
            "gridwidth": 2,
            "linecolor": "white",
            "showbackground": true,
            "ticks": "",
            "zerolinecolor": "white"
           },
           "yaxis": {
            "backgroundcolor": "#E5ECF6",
            "gridcolor": "white",
            "gridwidth": 2,
            "linecolor": "white",
            "showbackground": true,
            "ticks": "",
            "zerolinecolor": "white"
           },
           "zaxis": {
            "backgroundcolor": "#E5ECF6",
            "gridcolor": "white",
            "gridwidth": 2,
            "linecolor": "white",
            "showbackground": true,
            "ticks": "",
            "zerolinecolor": "white"
           }
          },
          "shapedefaults": {
           "line": {
            "color": "#2a3f5f"
           }
          },
          "ternary": {
           "aaxis": {
            "gridcolor": "white",
            "linecolor": "white",
            "ticks": ""
           },
           "baxis": {
            "gridcolor": "white",
            "linecolor": "white",
            "ticks": ""
           },
           "bgcolor": "#E5ECF6",
           "caxis": {
            "gridcolor": "white",
            "linecolor": "white",
            "ticks": ""
           }
          },
          "title": {
           "x": 0.05
          },
          "xaxis": {
           "automargin": true,
           "gridcolor": "white",
           "linecolor": "white",
           "ticks": "",
           "title": {
            "standoff": 15
           },
           "zerolinecolor": "white",
           "zerolinewidth": 2
          },
          "yaxis": {
           "automargin": true,
           "gridcolor": "white",
           "linecolor": "white",
           "ticks": "",
           "title": {
            "standoff": 15
           },
           "zerolinecolor": "white",
           "zerolinewidth": 2
          }
         }
        },
        "title": {
         "text": "Average Delay Time of Airline \"WN\" Route in 2015<br> Hover for value"
        }
       }
      },
      "text/html": [
       "<div>\n",
       "        \n",
       "        \n",
       "            <div id=\"c8d9b3a0-a8eb-460b-bbd7-187a25c82a57\" class=\"plotly-graph-div\" style=\"height:525px; width:100%;\"></div>\n",
       "            <script type=\"text/javascript\">\n",
       "                require([\"plotly\"], function(Plotly) {\n",
       "                    window.PLOTLYENV=window.PLOTLYENV || {};\n",
       "                    \n",
       "                if (document.getElementById(\"c8d9b3a0-a8eb-460b-bbd7-187a25c82a57\")) {\n",
       "                    Plotly.newPlot(\n",
       "                        'c8d9b3a0-a8eb-460b-bbd7-187a25c82a57',\n",
       "                        [{\"lat\": [35.04022, 35.04022, 35.04022, 35.04022, 35.04022, 35.04022, 35.04022, 35.04022, 35.04022, 35.04022, 35.04022, 35.04022, 35.04022, 35.04022, 42.74812, 42.74812, 42.74812, 42.74812, 42.74812, 42.74812, 42.74812, 42.74812, 35.21937, 35.21937, 33.640440000000005, 33.640440000000005, 33.640440000000005, 33.640440000000005, 33.640440000000005, 33.640440000000005, 33.640440000000005, 33.640440000000005, 33.640440000000005, 33.640440000000005, 33.640440000000005, 33.640440000000005, 33.640440000000005, 33.640440000000005, 33.640440000000005, 33.640440000000005, 33.640440000000005, 33.640440000000005, 33.640440000000005, 33.640440000000005, 33.640440000000005, 33.640440000000005, 33.640440000000005, 33.640440000000005, 33.640440000000005, 33.640440000000005, 33.640440000000005, 33.640440000000005, 33.640440000000005, 33.640440000000005, 33.640440000000005, 33.640440000000005, 33.640440000000005, 33.640440000000005, 33.640440000000005, 33.640440000000005, 33.640440000000005, 33.640440000000005, 33.640440000000005, 30.19453, 30.19453, 30.19453, 30.19453, 30.19453, 30.19453, 30.19453, 30.19453, 30.19453, 30.19453, 30.19453, 30.19453, 30.19453, 30.19453, 30.19453, 30.19453, 30.19453, 30.19453, 30.19453, 30.19453, 30.19453, 30.19453, 30.19453, 30.19453, 30.19453, 30.19453, 30.19453, 30.19453, 41.93887, 41.93887, 41.93887, 41.93887, 41.93887, 41.93887, 41.93887, 41.93887, 41.93887, 41.93887, 33.562940000000005, 33.562940000000005, 33.562940000000005, 33.562940000000005, 33.562940000000005, 33.562940000000005, 33.562940000000005, 36.12448, 36.12448, 36.12448, 36.12448, 36.12448, 36.12448, 36.12448, 36.12448, 36.12448, 36.12448, 36.12448, 36.12448, 36.12448, 36.12448, 36.12448, 36.12448, 36.12448, 36.12448, 36.12448, 36.12448, 36.12448, 36.12448, 36.12448, 36.12448, 36.12448, 36.12448, 36.12448, 36.12448, 36.12448, 36.12448, 36.12448, 36.12448, 36.12448, 36.12448, 43.564440000000005, 43.564440000000005, 43.564440000000005, 43.564440000000005, 43.564440000000005, 43.564440000000005, 42.36435, 42.36435, 42.36435, 42.36435, 42.36435, 42.36435, 42.36435, 42.36435, 42.36435, 42.36435, 42.36435, 42.36435, 42.36435, 42.36435, 42.36435, 42.36435, 42.36435, 42.94052, 42.94052, 42.94052, 42.94052, 42.94052, 42.94052, 42.94052, 42.94052, 34.20062, 34.20062, 34.20062, 34.20062, 34.20062, 34.20062, 39.1754, 39.1754, 39.1754, 39.1754, 39.1754, 39.1754, 39.1754, 39.1754, 39.1754, 39.1754, 39.1754, 39.1754, 39.1754, 39.1754, 39.1754, 39.1754, 39.1754, 39.1754, 39.1754, 39.1754, 39.1754, 39.1754, 39.1754, 39.1754, 39.1754, 39.1754, 39.1754, 39.1754, 39.1754, 39.1754, 39.1754, 39.1754, 39.1754, 39.1754, 39.1754, 39.1754, 39.1754, 39.1754, 39.1754, 39.1754, 39.1754, 39.1754, 39.1754, 39.1754, 39.1754, 39.1754, 39.1754, 39.1754, 39.1754, 39.1754, 39.1754, 39.1754, 39.1754, 39.1754, 39.1754, 39.1754, 40.916309999999996, 40.916309999999996, 40.916309999999996, 40.916309999999996, 40.916309999999996, 40.916309999999996, 40.916309999999996, 40.916309999999996, 40.916309999999996, 32.89865, 32.89865, 32.89865, 32.89865, 32.89865, 41.41089, 41.41089, 41.41089, 41.41089, 41.41089, 41.41089, 41.41089, 41.41089, 35.214009999999995, 35.214009999999995, 35.214009999999995, 35.214009999999995, 35.214009999999995, 39.99799, 39.99799, 39.99799, 39.99799, 39.99799, 39.99799, 39.99799, 39.99799, 39.99799, 39.99799, 39.99799, 39.99799, 39.99799, 39.99799, 39.99799, 39.99799, 27.770359999999997, 32.84711, 32.84711, 32.84711, 32.84711, 32.84711, 32.84711, 32.84711, 32.84711, 32.84711, 32.84711, 32.84711, 32.84711, 32.84711, 32.84711, 32.84711, 32.84711, 32.84711, 32.84711, 32.84711, 32.84711, 32.84711, 32.84711, 32.84711, 32.84711, 32.84711, 32.84711, 32.84711, 32.84711, 32.84711, 32.84711, 32.84711, 32.84711, 32.84711, 32.84711, 32.84711, 32.84711, 32.84711, 32.84711, 32.84711, 32.84711, 32.84711, 32.84711, 32.84711, 32.84711, 32.84711, 32.84711, 32.84711, 32.84711, 32.84711, 32.84711, 32.84711, 39.90238, 39.90238, 39.90238, 39.90238, 38.85208, 38.85208, 38.85208, 38.85208, 38.85208, 38.85208, 38.85208, 38.85208, 38.85208, 38.85208, 38.85208, 38.85208, 38.85208, 38.85208, 38.85208, 38.85208, 38.85208, 39.85841, 39.85841, 39.85841, 39.85841, 39.85841, 39.85841, 39.85841, 39.85841, 39.85841, 39.85841, 39.85841, 39.85841, 39.85841, 39.85841, 39.85841, 39.85841, 39.85841, 39.85841, 39.85841, 39.85841, 39.85841, 39.85841, 39.85841, 39.85841, 39.85841, 39.85841, 39.85841, 39.85841, 39.85841, 39.85841, 39.85841, 39.85841, 39.85841, 39.85841, 39.85841, 39.85841, 39.85841, 39.85841, 39.85841, 39.85841, 39.85841, 39.85841, 39.85841, 39.85841, 39.85841, 39.85841, 39.85841, 39.85841, 39.85841, 39.85841, 39.85841, 39.85841, 39.85841, 39.85841, 39.85841, 39.85841, 39.85841, 41.534929999999996, 41.534929999999996, 42.21206, 42.21206, 42.21206, 42.21206, 42.21206, 42.21206, 42.21206, 42.21206, 42.21206, 42.21206, null, null, null, null, null, 31.80667, 31.80667, 31.80667, 31.80667, 31.80667, 31.80667, 31.80667, 40.6925, 40.6925, 40.6925, 40.6925, 40.6925, 40.6925, 40.6925, 40.6925, 26.07258, 26.07258, 26.07258, 26.07258, 26.07258, 26.07258, 26.07258, 26.07258, 26.07258, 26.07258, 26.07258, 26.07258, 26.07258, 26.07258, 26.07258, 26.07258, 26.07258, 26.07258, 26.07258, 26.07258, 26.07258, 26.07258, 26.07258, 26.07258, 26.07258, 26.07258, 26.07258, 26.07258, 42.9655, 42.9655, 42.9655, 42.9655, 42.9655, 47.619859999999996, 47.619859999999996, 47.619859999999996, 47.619859999999996, 47.619859999999996, 47.619859999999996, 42.88082, 42.88082, 42.88082, 42.88082, 42.88082, 42.88082, 34.89567, 34.89567, 34.89567, 29.64542, 29.64542, 29.64542, 29.64542, 29.64542, 29.64542, 29.64542, 29.64542, 29.64542, 29.64542, 29.64542, 29.64542, 29.64542, 29.64542, 29.64542, 29.64542, 29.64542, 29.64542, 29.64542, 29.64542, 29.64542, 29.64542, 29.64542, 29.64542, 29.64542, 29.64542, 29.64542, 29.64542, 29.64542, 29.64542, 29.64542, 29.64542, 29.64542, 29.64542, 29.64542, 29.64542, 29.64542, 29.64542, 29.64542, 29.64542, 29.64542, 29.64542, 29.64542, 29.64542, 29.64542, 29.64542, 29.64542, 29.64542, 29.64542, 26.228509999999996, 26.228509999999996, 38.94453, 38.94453, 38.94453, 38.94453, 37.64996, 37.64996, 37.64996, 39.71733, 39.71733, 39.71733, 39.71733, 39.71733, 39.71733, 39.71733, 39.71733, 39.71733, 39.71733, 39.71733, 39.71733, 39.71733, 39.71733, 39.71733, 39.71733, 40.79524, 40.79524, 40.79524, 40.79524, 40.79524, 40.79524, 30.494059999999998, 30.494059999999998, 30.494059999999998, 30.494059999999998, 30.494059999999998, 30.494059999999998, 30.494059999999998, 36.08036, 36.08036, 36.08036, 36.08036, 36.08036, 36.08036, 36.08036, 36.08036, 36.08036, 36.08036, 36.08036, 36.08036, 36.08036, 36.08036, 36.08036, 36.08036, 36.08036, 36.08036, 36.08036, 36.08036, 36.08036, 36.08036, 36.08036, 36.08036, 36.08036, 36.08036, 36.08036, 36.08036, 36.08036, 36.08036, 36.08036, 36.08036, 36.08036, 36.08036, 36.08036, 36.08036, 36.08036, 36.08036, 36.08036, 36.08036, 36.08036, 36.08036, 36.08036, 36.08036, 36.08036, 36.08036, 36.08036, 36.08036, 36.08036, 36.08036, 36.08036, 36.08036, 36.08036, 36.08036, 36.08036, 36.08036, 36.08036, 36.08036, 36.08036, 36.08036, 36.08036, 33.94254, 33.94254, 33.94254, 33.94254, 33.94254, 33.94254, 33.94254, 33.94254, 33.94254, 33.94254, 33.94254, 33.94254, 33.94254, 33.94254, 33.94254, 33.94254, 33.94254, 33.94254, 33.94254, 33.94254, 33.94254, 33.94254, 33.94254, 33.94254, 33.94254, 33.94254, 33.94254, 33.66364, 33.66364, 33.66364, 33.66364, 40.77724, 40.77724, 40.77724, 40.77724, 40.77724, 40.77724, 40.77724, 40.77724, 40.77724, 40.77724, 40.77724, 34.7294, 34.7294, 34.7294, 34.7294, 34.7294, 31.942529999999998, 31.942529999999998, 31.942529999999998, 39.29761, 39.29761, 39.29761, 39.29761, 39.29761, 39.29761, 39.29761, 39.29761, 39.29761, 39.29761, 39.29761, 39.29761, 39.29761, 39.29761, 39.29761, 39.29761, 39.29761, 39.29761, 39.29761, 39.29761, 39.29761, 39.29761, 39.29761, 39.29761, 39.29761, 39.29761, 39.29761, 39.29761, 28.428890000000003, 28.428890000000003, 28.428890000000003, 28.428890000000003, 28.428890000000003, 28.428890000000003, 28.428890000000003, 28.428890000000003, 28.428890000000003, 28.428890000000003, 28.428890000000003, 28.428890000000003, 28.428890000000003, 28.428890000000003, 28.428890000000003, 28.428890000000003, 28.428890000000003, 28.428890000000003, 28.428890000000003, 28.428890000000003, 28.428890000000003, 28.428890000000003, 28.428890000000003, 28.428890000000003, 28.428890000000003, 28.428890000000003, 28.428890000000003, 28.428890000000003, 28.428890000000003, 28.428890000000003, 28.428890000000003, 28.428890000000003, 28.428890000000003, 28.428890000000003, 28.428890000000003, 28.428890000000003, 28.428890000000003, 28.428890000000003, 28.428890000000003, 28.428890000000003, 28.428890000000003, 28.428890000000003, 28.428890000000003, 28.428890000000003, 28.428890000000003, 28.428890000000003, 41.78598, 41.78598, 41.78598, 41.78598, 41.78598, 41.78598, 41.78598, 41.78598, 41.78598, 41.78598, 41.78598, 41.78598, 41.78598, 41.78598, 41.78598, 41.78598, 41.78598, 41.78598, 41.78598, 41.78598, 41.78598, 41.78598, 41.78598, 41.78598, 41.78598, 41.78598, 41.78598, 41.78598, 41.78598, 41.78598, 41.78598, 41.78598, 41.78598, 41.78598, 41.78598, 41.78598, 41.78598, 41.78598, 41.78598, 41.78598, 41.78598, 41.78598, 41.78598, 41.78598, 41.78598, 41.78598, 41.78598, 41.78598, 41.78598, 41.78598, 41.78598, 41.78598, 41.78598, 41.78598, 41.78598, 41.78598, 41.78598, 41.78598, 41.78598, 41.78598, 41.78598, 41.78598, 41.78598, 41.78598, 41.78598, 41.78598, 41.78598, 41.78598, 35.04242, 35.04242, 35.04242, 35.04242, 35.04242, 35.04242, 35.04242, 42.93452, 42.93452, 42.93452, 42.93452, 42.93452, 42.93452, 42.93452, 42.94722, 42.94722, 42.94722, 42.94722, 42.94722, 42.94722, 42.94722, 42.94722, 42.94722, 42.94722, 42.94722, 42.94722, 42.94722, 42.94722, 42.94722, 42.94722, 42.94722, 42.94722, 42.94722, 42.94722, 42.94722, 44.88055, 44.88055, 44.88055, 44.88055, 44.88055, 44.88055, 44.88055, 44.88055, 44.88055, 44.88055, 29.99339, 29.99339, 29.99339, 29.99339, 29.99339, 29.99339, 29.99339, 29.99339, 29.99339, 29.99339, 29.99339, 29.99339, 29.99339, 29.99339, 29.99339, 29.99339, 29.99339, 29.99339, 29.99339, 29.99339, 29.99339, 29.99339, 37.72129, 37.72129, 37.72129, 37.72129, 37.72129, 37.72129, 37.72129, 37.72129, 37.72129, 37.72129, 37.72129, 37.72129, 37.72129, 37.72129, 37.72129, 37.72129, 37.72129, 37.72129, 37.72129, 37.72129, 37.72129, 37.72129, 37.72129, 37.72129, 35.39309, 35.39309, 35.39309, 35.39309, 35.39309, 35.39309, 35.39309, 35.39309, 35.39309, 35.39309, 41.30252, 41.30252, 41.30252, 41.30252, 41.30252, 41.30252, 41.30252, 41.30252, 34.056, 34.056, 34.056, 34.056, 34.056, 34.056, 34.056, 36.89461, 36.89461, 36.89461, 36.89461, 26.683159999999997, 26.683159999999997, 26.683159999999997, 26.683159999999997, 26.683159999999997, 26.683159999999997, 26.683159999999997, 26.683159999999997, 45.58872, 45.58872, 45.58872, 45.58872, 45.58872, 45.58872, 45.58872, 45.58872, 45.58872, 45.58872, 45.58872, 45.58872, 45.58872, 45.58872, 45.58872, 45.58872, 39.87195, 39.87195, 39.87195, 39.87195, 39.87195, 39.87195, 39.87195, 39.87195, 39.87195, 39.87195, 39.87195, 39.87195, 33.43417, 33.43417, 33.43417, 33.43417, 33.43417, 33.43417, 33.43417, 33.43417, 33.43417, 33.43417, 33.43417, 33.43417, 33.43417, 33.43417, 33.43417, 33.43417, 33.43417, 33.43417, 33.43417, 33.43417, 33.43417, 33.43417, 33.43417, 33.43417, 33.43417, 33.43417, 33.43417, 33.43417, 33.43417, 33.43417, 33.43417, 33.43417, 33.43417, 33.43417, 33.43417, 33.43417, 33.43417, 33.43417, 33.43417, 33.43417, 33.43417, 33.43417, 33.43417, 33.43417, 33.43417, 33.43417, 33.43417, 33.43417, 33.43417, 33.43417, 33.43417, 40.49147, 40.49147, 40.49147, 40.49147, 40.49147, 40.49147, 40.49147, 40.49147, 40.49147, 40.49147, 40.49147, 40.49147, 40.49147, 40.49147, 30.473309999999998, 30.473309999999998, 30.473309999999998, 41.724, 41.724, 41.724, 41.724, 41.724, 41.724, 41.724, 43.64617, 43.64617, 43.64617, 35.87764, 35.87764, 35.87764, 35.87764, 35.87764, 35.87764, 35.87764, 35.87764, 35.87764, 35.87764, 35.87764, 35.87764, 35.87764, 37.50517, 37.50517, 39.49858, 39.49858, 39.49858, 39.49858, 39.49858, 39.49858, 43.11887, 43.11887, 43.11887, 43.11887, 26.536170000000002, 26.536170000000002, 26.536170000000002, 26.536170000000002, 26.536170000000002, 26.536170000000002, 26.536170000000002, 26.536170000000002, 26.536170000000002, 26.536170000000002, 26.536170000000002, 26.536170000000002, 26.536170000000002, 26.536170000000002, 26.536170000000002, 26.536170000000002, 26.536170000000002, 26.536170000000002, 26.536170000000002, 26.536170000000002, 26.536170000000002, 26.536170000000002, 26.536170000000002, 26.536170000000002, 32.73356, 32.73356, 32.73356, 32.73356, 32.73356, 32.73356, 32.73356, 32.73356, 32.73356, 32.73356, 32.73356, 32.73356, 32.73356, 32.73356, 32.73356, 32.73356, 32.73356, 32.73356, 32.73356, 32.73356, 32.73356, 32.73356, 32.73356, 32.73356, 32.73356, 32.73356, 29.533690000000004, 29.533690000000004, 29.533690000000004, 29.533690000000004, 29.533690000000004, 29.533690000000004, 29.533690000000004, 29.533690000000004, 29.533690000000004, 29.533690000000004, 29.533690000000004, 29.533690000000004, 29.533690000000004, 29.533690000000004, 29.533690000000004, 29.533690000000004, 38.17439, 38.17439, 38.17439, 38.17439, 38.17439, 38.17439, 38.17439, 47.44898, 47.44898, 47.44898, 47.44898, 47.44898, 47.44898, 47.44898, 47.44898, 47.44898, 47.44898, 47.44898, 47.44898, 47.44898, 47.44898, 47.44898, 47.44898, 47.44898, 47.44898, 47.44898, 37.619, 37.619, 37.619, 37.619, 37.619, 37.619, 37.619, 37.619, 37.619, 37.619, 37.619, 37.36186, 37.36186, 37.36186, 37.36186, 37.36186, 37.36186, 37.36186, 37.36186, 37.36186, 37.36186, 37.36186, 37.36186, 37.36186, 18.439420000000002, 18.439420000000002, 18.439420000000002, 18.439420000000002, 18.439420000000002, 18.439420000000002, 40.78839, 40.78839, 40.78839, 40.78839, 40.78839, 40.78839, 40.78839, 40.78839, 40.78839, 38.69542, 38.69542, 38.69542, 38.69542, 38.69542, 38.69542, 38.69542, 38.69542, 38.69542, 38.69542, 38.69542, 38.69542, 33.67566, 33.67566, 33.67566, 33.67566, 33.67566, 33.67566, 33.67566, 33.67566, 33.67566, 33.67566, 33.67566, 33.67566, 33.67566, 33.67566, 33.67566, 38.747690000000006, 38.747690000000006, 38.747690000000006, 38.747690000000006, 38.747690000000006, 38.747690000000006, 38.747690000000006, 38.747690000000006, 38.747690000000006, 38.747690000000006, 38.747690000000006, 38.747690000000006, 38.747690000000006, 38.747690000000006, 38.747690000000006, 38.747690000000006, 38.747690000000006, 38.747690000000006, 38.747690000000006, 38.747690000000006, 38.747690000000006, 38.747690000000006, 38.747690000000006, 38.747690000000006, 38.747690000000006, 38.747690000000006, 38.747690000000006, 38.747690000000006, 38.747690000000006, 38.747690000000006, 38.747690000000006, 38.747690000000006, 38.747690000000006, 38.747690000000006, 38.747690000000006, 38.747690000000006, 38.747690000000006, 27.97547, 27.97547, 27.97547, 27.97547, 27.97547, 27.97547, 27.97547, 27.97547, 27.97547, 27.97547, 27.97547, 27.97547, 27.97547, 27.97547, 27.97547, 27.97547, 27.97547, 27.97547, 27.97547, 27.97547, 27.97547, 27.97547, 27.97547, 27.97547, 27.97547, 27.97547, 27.97547, 27.97547, 27.97547, 27.97547, 27.97547, 27.97547, 27.97547, 27.97547, 27.97547, 27.97547, 27.97547, 27.97547, 27.97547, 36.198370000000004, 36.198370000000004, 36.198370000000004, 36.198370000000004, 36.198370000000004, 36.198370000000004, 36.198370000000004, 32.11608, 32.11608, 32.11608, 32.11608, 32.11608, 32.11608], \"lon\": [-106.60918999999998, -106.60918999999998, -106.60918999999998, -106.60918999999998, -106.60918999999998, -106.60918999999998, -106.60918999999998, -106.60918999999998, -106.60918999999998, -106.60918999999998, -106.60918999999998, -106.60918999999998, -106.60918999999998, -106.60918999999998, -73.80298, -73.80298, -73.80298, -73.80298, -73.80298, -73.80298, -73.80298, -73.80298, -101.70593000000001, -101.70593000000001, -84.42694, -84.42694, -84.42694, -84.42694, -84.42694, -84.42694, -84.42694, -84.42694, -84.42694, -84.42694, -84.42694, -84.42694, -84.42694, -84.42694, -84.42694, -84.42694, -84.42694, -84.42694, -84.42694, -84.42694, -84.42694, -84.42694, -84.42694, -84.42694, -84.42694, -84.42694, -84.42694, -84.42694, -84.42694, -84.42694, -84.42694, -84.42694, -84.42694, -84.42694, -84.42694, -84.42694, -84.42694, -84.42694, -84.42694, -97.66986999999999, -97.66986999999999, -97.66986999999999, -97.66986999999999, -97.66986999999999, -97.66986999999999, -97.66986999999999, -97.66986999999999, -97.66986999999999, -97.66986999999999, -97.66986999999999, -97.66986999999999, -97.66986999999999, -97.66986999999999, -97.66986999999999, -97.66986999999999, -97.66986999999999, -97.66986999999999, -97.66986999999999, -97.66986999999999, -97.66986999999999, -97.66986999999999, -97.66986999999999, -97.66986999999999, -97.66986999999999, -97.66986999999999, -97.66986999999999, -97.66986999999999, -72.68323000000001, -72.68323000000001, -72.68323000000001, -72.68323000000001, -72.68323000000001, -72.68323000000001, -72.68323000000001, -72.68323000000001, -72.68323000000001, -72.68323000000001, -86.75355, -86.75355, -86.75355, -86.75355, -86.75355, -86.75355, -86.75355, -86.67818, -86.67818, -86.67818, -86.67818, -86.67818, -86.67818, -86.67818, -86.67818, -86.67818, -86.67818, -86.67818, -86.67818, -86.67818, -86.67818, -86.67818, -86.67818, -86.67818, -86.67818, -86.67818, -86.67818, -86.67818, -86.67818, -86.67818, -86.67818, -86.67818, -86.67818, -86.67818, -86.67818, -86.67818, -86.67818, -86.67818, -86.67818, -86.67818, -86.67818, -116.22278, -116.22278, -116.22278, -116.22278, -116.22278, -116.22278, -71.00518000000001, -71.00518000000001, -71.00518000000001, -71.00518000000001, -71.00518000000001, -71.00518000000001, -71.00518000000001, -71.00518000000001, -71.00518000000001, -71.00518000000001, -71.00518000000001, -71.00518000000001, -71.00518000000001, -71.00518000000001, -71.00518000000001, -71.00518000000001, -71.00518000000001, -78.73217, -78.73217, -78.73217, -78.73217, -78.73217, -78.73217, -78.73217, -78.73217, -118.3585, -118.3585, -118.3585, -118.3585, -118.3585, -118.3585, -76.6682, -76.6682, -76.6682, -76.6682, -76.6682, -76.6682, -76.6682, -76.6682, -76.6682, -76.6682, -76.6682, -76.6682, -76.6682, -76.6682, -76.6682, -76.6682, -76.6682, -76.6682, -76.6682, -76.6682, -76.6682, -76.6682, -76.6682, -76.6682, -76.6682, -76.6682, -76.6682, -76.6682, -76.6682, -76.6682, -76.6682, -76.6682, -76.6682, -76.6682, -76.6682, -76.6682, -76.6682, -76.6682, -76.6682, -76.6682, -76.6682, -76.6682, -76.6682, -76.6682, -76.6682, -76.6682, -76.6682, -76.6682, -76.6682, -76.6682, -76.6682, -76.6682, -76.6682, -76.6682, -76.6682, -76.6682, -81.44247, -81.44247, -81.44247, -81.44247, -81.44247, -81.44247, -81.44247, -81.44247, -81.44247, -80.04051, -80.04051, -80.04051, -80.04051, -80.04051, -81.8494, -81.8494, -81.8494, -81.8494, -81.8494, -81.8494, -81.8494, -81.8494, -80.94313000000001, -80.94313000000001, -80.94313000000001, -80.94313000000001, -80.94313000000001, -82.89188, -82.89188, -82.89188, -82.89188, -82.89188, -82.89188, -82.89188, -82.89188, -82.89188, -82.89188, -82.89188, -82.89188, -82.89188, -82.89188, -82.89188, -82.89188, -97.50121999999999, -96.85177, -96.85177, -96.85177, -96.85177, -96.85177, -96.85177, -96.85177, -96.85177, -96.85177, -96.85177, -96.85177, -96.85177, -96.85177, -96.85177, -96.85177, -96.85177, -96.85177, -96.85177, -96.85177, -96.85177, -96.85177, -96.85177, -96.85177, -96.85177, -96.85177, -96.85177, -96.85177, -96.85177, -96.85177, -96.85177, -96.85177, -96.85177, -96.85177, -96.85177, -96.85177, -96.85177, -96.85177, -96.85177, -96.85177, -96.85177, -96.85177, -96.85177, -96.85177, -96.85177, -96.85177, -96.85177, -96.85177, -96.85177, -96.85177, -96.85177, -96.85177, -84.21938, -84.21938, -84.21938, -84.21938, -77.03772, -77.03772, -77.03772, -77.03772, -77.03772, -77.03772, -77.03772, -77.03772, -77.03772, -77.03772, -77.03772, -77.03772, -77.03772, -77.03772, -77.03772, -77.03772, -77.03772, -104.667, -104.667, -104.667, -104.667, -104.667, -104.667, -104.667, -104.667, -104.667, -104.667, -104.667, -104.667, -104.667, -104.667, -104.667, -104.667, -104.667, -104.667, -104.667, -104.667, -104.667, -104.667, -104.667, -104.667, -104.667, -104.667, -104.667, -104.667, -104.667, -104.667, -104.667, -104.667, -104.667, -104.667, -104.667, -104.667, -104.667, -104.667, -104.667, -104.667, -104.667, -104.667, -104.667, -104.667, -104.667, -104.667, -104.667, -104.667, -104.667, -104.667, -104.667, -104.667, -104.667, -104.667, -104.667, -104.667, -104.667, -93.66068, -93.66068, -83.34884, -83.34884, -83.34884, -83.34884, -83.34884, -83.34884, -83.34884, -83.34884, -83.34884, -83.34884, null, null, null, null, null, -106.37781000000001, -106.37781000000001, -106.37781000000001, -106.37781000000001, -106.37781000000001, -106.37781000000001, -106.37781000000001, -74.16866, -74.16866, -74.16866, -74.16866, -74.16866, -74.16866, -74.16866, -74.16866, -80.15275, -80.15275, -80.15275, -80.15275, -80.15275, -80.15275, -80.15275, -80.15275, -80.15275, -80.15275, -80.15275, -80.15275, -80.15275, -80.15275, -80.15275, -80.15275, -80.15275, -80.15275, -80.15275, -80.15275, -80.15275, -80.15275, -80.15275, -80.15275, -80.15275, -80.15275, -80.15275, -80.15275, -83.74346, -83.74346, -83.74346, -83.74346, -83.74346, -117.53383999999998, -117.53383999999998, -117.53383999999998, -117.53383999999998, -117.53383999999998, -117.53383999999998, -85.52277, -85.52277, -85.52277, -85.52277, -85.52277, -85.52277, -82.21885999999999, -82.21885999999999, -82.21885999999999, -95.27889, -95.27889, -95.27889, -95.27889, -95.27889, -95.27889, -95.27889, -95.27889, -95.27889, -95.27889, -95.27889, -95.27889, -95.27889, -95.27889, -95.27889, -95.27889, -95.27889, -95.27889, -95.27889, -95.27889, -95.27889, -95.27889, -95.27889, -95.27889, -95.27889, -95.27889, -95.27889, -95.27889, -95.27889, -95.27889, -95.27889, -95.27889, -95.27889, -95.27889, -95.27889, -95.27889, -95.27889, -95.27889, -95.27889, -95.27889, -95.27889, -95.27889, -95.27889, -95.27889, -95.27889, -95.27889, -95.27889, -95.27889, -95.27889, -97.65439, -97.65439, -77.45581, -77.45581, -77.45581, -77.45581, -97.43305, -97.43305, -97.43305, -86.29438, -86.29438, -86.29438, -86.29438, -86.29438, -86.29438, -86.29438, -86.29438, -86.29438, -86.29438, -86.29438, -86.29438, -86.29438, -86.29438, -86.29438, -86.29438, -73.10021, -73.10021, -73.10021, -73.10021, -73.10021, -73.10021, -81.68786, -81.68786, -81.68786, -81.68786, -81.68786, -81.68786, -81.68786, -115.15233, -115.15233, -115.15233, -115.15233, -115.15233, -115.15233, -115.15233, -115.15233, -115.15233, -115.15233, -115.15233, -115.15233, -115.15233, -115.15233, -115.15233, -115.15233, -115.15233, -115.15233, -115.15233, -115.15233, -115.15233, -115.15233, -115.15233, -115.15233, -115.15233, -115.15233, -115.15233, -115.15233, -115.15233, -115.15233, -115.15233, -115.15233, -115.15233, -115.15233, -115.15233, -115.15233, -115.15233, -115.15233, -115.15233, -115.15233, -115.15233, -115.15233, -115.15233, -115.15233, -115.15233, -115.15233, -115.15233, -115.15233, -115.15233, -115.15233, -115.15233, -115.15233, -115.15233, -115.15233, -115.15233, -115.15233, -115.15233, -115.15233, -115.15233, -115.15233, -115.15233, -118.40807, -118.40807, -118.40807, -118.40807, -118.40807, -118.40807, -118.40807, -118.40807, -118.40807, -118.40807, -118.40807, -118.40807, -118.40807, -118.40807, -118.40807, -118.40807, -118.40807, -118.40807, -118.40807, -118.40807, -118.40807, -118.40807, -118.40807, -118.40807, -118.40807, -118.40807, -118.40807, -101.82278000000001, -101.82278000000001, -101.82278000000001, -101.82278000000001, -73.87261, -73.87261, -73.87261, -73.87261, -73.87261, -73.87261, -73.87261, -73.87261, -73.87261, -73.87261, -73.87261, -92.22425, -92.22425, -92.22425, -92.22425, -92.22425, -102.20191, -102.20191, -102.20191, -94.71391, -94.71391, -94.71391, -94.71391, -94.71391, -94.71391, -94.71391, -94.71391, -94.71391, -94.71391, -94.71391, -94.71391, -94.71391, -94.71391, -94.71391, -94.71391, -94.71391, -94.71391, -94.71391, -94.71391, -94.71391, -94.71391, -94.71391, -94.71391, -94.71391, -94.71391, -94.71391, -94.71391, -81.31603, -81.31603, -81.31603, -81.31603, -81.31603, -81.31603, -81.31603, -81.31603, -81.31603, -81.31603, -81.31603, -81.31603, -81.31603, -81.31603, -81.31603, -81.31603, -81.31603, -81.31603, -81.31603, -81.31603, -81.31603, -81.31603, -81.31603, -81.31603, -81.31603, -81.31603, -81.31603, -81.31603, -81.31603, -81.31603, -81.31603, -81.31603, -81.31603, -81.31603, -81.31603, -81.31603, -81.31603, -81.31603, -81.31603, -81.31603, -81.31603, -81.31603, -81.31603, -81.31603, -81.31603, -81.31603, -87.75242, -87.75242, -87.75242, -87.75242, -87.75242, -87.75242, -87.75242, -87.75242, -87.75242, -87.75242, -87.75242, -87.75242, -87.75242, -87.75242, -87.75242, -87.75242, -87.75242, -87.75242, -87.75242, -87.75242, -87.75242, -87.75242, -87.75242, -87.75242, -87.75242, -87.75242, -87.75242, -87.75242, -87.75242, -87.75242, -87.75242, -87.75242, -87.75242, -87.75242, -87.75242, -87.75242, -87.75242, -87.75242, -87.75242, -87.75242, -87.75242, -87.75242, -87.75242, -87.75242, -87.75242, -87.75242, -87.75242, -87.75242, -87.75242, -87.75242, -87.75242, -87.75242, -87.75242, -87.75242, -87.75242, -87.75242, -87.75242, -87.75242, -87.75242, -87.75242, -87.75242, -87.75242, -87.75242, -87.75242, -87.75242, -87.75242, -87.75242, -87.75242, -89.97667, -89.97667, -89.97667, -89.97667, -89.97667, -89.97667, -89.97667, -71.43706, -71.43706, -71.43706, -71.43706, -71.43706, -71.43706, -71.43706, -87.89658, -87.89658, -87.89658, -87.89658, -87.89658, -87.89658, -87.89658, -87.89658, -87.89658, -87.89658, -87.89658, -87.89658, -87.89658, -87.89658, -87.89658, -87.89658, -87.89658, -87.89658, -87.89658, -87.89658, -87.89658, -93.21692, -93.21692, -93.21692, -93.21692, -93.21692, -93.21692, -93.21692, -93.21692, -93.21692, -93.21692, -90.25803, -90.25803, -90.25803, -90.25803, -90.25803, -90.25803, -90.25803, -90.25803, -90.25803, -90.25803, -90.25803, -90.25803, -90.25803, -90.25803, -90.25803, -90.25803, -90.25803, -90.25803, -90.25803, -90.25803, -90.25803, -90.25803, -122.22072, -122.22072, -122.22072, -122.22072, -122.22072, -122.22072, -122.22072, -122.22072, -122.22072, -122.22072, -122.22072, -122.22072, -122.22072, -122.22072, -122.22072, -122.22072, -122.22072, -122.22072, -122.22072, -122.22072, -122.22072, -122.22072, -122.22072, -122.22072, -97.60073, -97.60073, -97.60073, -97.60073, -97.60073, -97.60073, -97.60073, -97.60073, -97.60073, -97.60073, -95.89416999999999, -95.89416999999999, -95.89416999999999, -95.89416999999999, -95.89416999999999, -95.89416999999999, -95.89416999999999, -95.89416999999999, -117.60118999999999, -117.60118999999999, -117.60118999999999, -117.60118999999999, -117.60118999999999, -117.60118999999999, -117.60118999999999, -76.20121999999999, -76.20121999999999, -76.20121999999999, -76.20121999999999, -80.09559, -80.09559, -80.09559, -80.09559, -80.09559, -80.09559, -80.09559, -80.09559, -122.5975, -122.5975, -122.5975, -122.5975, -122.5975, -122.5975, -122.5975, -122.5975, -122.5975, -122.5975, -122.5975, -122.5975, -122.5975, -122.5975, -122.5975, -122.5975, -75.24114, -75.24114, -75.24114, -75.24114, -75.24114, -75.24114, -75.24114, -75.24114, -75.24114, -75.24114, -75.24114, -75.24114, -112.00806000000001, -112.00806000000001, -112.00806000000001, -112.00806000000001, -112.00806000000001, -112.00806000000001, -112.00806000000001, -112.00806000000001, -112.00806000000001, -112.00806000000001, -112.00806000000001, -112.00806000000001, -112.00806000000001, -112.00806000000001, -112.00806000000001, -112.00806000000001, -112.00806000000001, -112.00806000000001, -112.00806000000001, -112.00806000000001, -112.00806000000001, -112.00806000000001, -112.00806000000001, -112.00806000000001, -112.00806000000001, -112.00806000000001, -112.00806000000001, -112.00806000000001, -112.00806000000001, -112.00806000000001, -112.00806000000001, -112.00806000000001, -112.00806000000001, -112.00806000000001, -112.00806000000001, -112.00806000000001, -112.00806000000001, -112.00806000000001, -112.00806000000001, -112.00806000000001, -112.00806000000001, -112.00806000000001, -112.00806000000001, -112.00806000000001, -112.00806000000001, -112.00806000000001, -112.00806000000001, -112.00806000000001, -112.00806000000001, -112.00806000000001, -112.00806000000001, -80.23286999999999, -80.23286999999999, -80.23286999999999, -80.23286999999999, -80.23286999999999, -80.23286999999999, -80.23286999999999, -80.23286999999999, -80.23286999999999, -80.23286999999999, -80.23286999999999, -80.23286999999999, -80.23286999999999, -80.23286999999999, -87.18744000000001, -87.18744000000001, -87.18744000000001, -71.42822, -71.42822, -71.42822, -71.42822, -71.42822, -71.42822, -71.42822, -70.30875, -70.30875, -70.30875, -78.78747, -78.78747, -78.78747, -78.78747, -78.78747, -78.78747, -78.78747, -78.78747, -78.78747, -78.78747, -78.78747, -78.78747, -78.78747, -77.31967, -77.31967, -119.76806, -119.76806, -119.76806, -119.76806, -119.76806, -119.76806, -77.67238, -77.67238, -77.67238, -77.67238, -81.75516999999999, -81.75516999999999, -81.75516999999999, -81.75516999999999, -81.75516999999999, -81.75516999999999, -81.75516999999999, -81.75516999999999, -81.75516999999999, -81.75516999999999, -81.75516999999999, -81.75516999999999, -81.75516999999999, -81.75516999999999, -81.75516999999999, -81.75516999999999, -81.75516999999999, -81.75516999999999, -81.75516999999999, -81.75516999999999, -81.75516999999999, -81.75516999999999, -81.75516999999999, -81.75516999999999, -117.18966, -117.18966, -117.18966, -117.18966, -117.18966, -117.18966, -117.18966, -117.18966, -117.18966, -117.18966, -117.18966, -117.18966, -117.18966, -117.18966, -117.18966, -117.18966, -117.18966, -117.18966, -117.18966, -117.18966, -117.18966, -117.18966, -117.18966, -117.18966, -117.18966, -117.18966, -98.46978, -98.46978, -98.46978, -98.46978, -98.46978, -98.46978, -98.46978, -98.46978, -98.46978, -98.46978, -98.46978, -98.46978, -98.46978, -98.46978, -98.46978, -98.46978, -85.736, -85.736, -85.736, -85.736, -85.736, -85.736, -85.736, -122.30931000000001, -122.30931000000001, -122.30931000000001, -122.30931000000001, -122.30931000000001, -122.30931000000001, -122.30931000000001, -122.30931000000001, -122.30931000000001, -122.30931000000001, -122.30931000000001, -122.30931000000001, -122.30931000000001, -122.30931000000001, -122.30931000000001, -122.30931000000001, -122.30931000000001, -122.30931000000001, -122.30931000000001, -122.37483999999999, -122.37483999999999, -122.37483999999999, -122.37483999999999, -122.37483999999999, -122.37483999999999, -122.37483999999999, -122.37483999999999, -122.37483999999999, -122.37483999999999, -122.37483999999999, -121.92901, -121.92901, -121.92901, -121.92901, -121.92901, -121.92901, -121.92901, -121.92901, -121.92901, -121.92901, -121.92901, -121.92901, -121.92901, -66.00183, -66.00183, -66.00183, -66.00183, -66.00183, -66.00183, -111.97776999999999, -111.97776999999999, -111.97776999999999, -111.97776999999999, -111.97776999999999, -111.97776999999999, -111.97776999999999, -111.97776999999999, -111.97776999999999, -121.59076999999999, -121.59076999999999, -121.59076999999999, -121.59076999999999, -121.59076999999999, -121.59076999999999, -121.59076999999999, -121.59076999999999, -121.59076999999999, -121.59076999999999, -121.59076999999999, -121.59076999999999, -117.86822, -117.86822, -117.86822, -117.86822, -117.86822, -117.86822, -117.86822, -117.86822, -117.86822, -117.86822, -117.86822, -117.86822, -117.86822, -117.86822, -117.86822, -90.35999, -90.35999, -90.35999, -90.35999, -90.35999, -90.35999, -90.35999, -90.35999, -90.35999, -90.35999, -90.35999, -90.35999, -90.35999, -90.35999, -90.35999, -90.35999, -90.35999, -90.35999, -90.35999, -90.35999, -90.35999, -90.35999, -90.35999, -90.35999, -90.35999, -90.35999, -90.35999, -90.35999, -90.35999, -90.35999, -90.35999, -90.35999, -90.35999, -90.35999, -90.35999, -90.35999, -90.35999, -82.53325, -82.53325, -82.53325, -82.53325, -82.53325, -82.53325, -82.53325, -82.53325, -82.53325, -82.53325, -82.53325, -82.53325, -82.53325, -82.53325, -82.53325, -82.53325, -82.53325, -82.53325, -82.53325, -82.53325, -82.53325, -82.53325, -82.53325, -82.53325, -82.53325, -82.53325, -82.53325, -82.53325, -82.53325, -82.53325, -82.53325, -82.53325, -82.53325, -82.53325, -82.53325, -82.53325, -82.53325, -82.53325, -82.53325, -95.88824, -95.88824, -95.88824, -95.88824, -95.88824, -95.88824, -95.88824, -110.94103, -110.94103, -110.94103, -110.94103, -110.94103, -110.94103], \"marker\": {\"color\": \"#FFD700\", \"line\": {\"color\": \"rgba(102,102,102)\", \"width\": 1}, \"opacity\": 0.8, \"size\": 6}, \"mode\": \"markers\", \"type\": \"scattergeo\"}, {\"lat\": [35.04022, 39.1754], \"line\": {\"color\": \"#4682B4\", \"width\": 1}, \"locationmode\": \"USA-states\", \"lon\": [-106.60918999999998, -76.6682], \"mode\": \"lines\", \"opacity\": 0.15240963855421688, \"text\": \"From: Albuquerque International Sunport<br>To: Baltimore-Washington International Airport<br>Avg. Delay: 4.57 mins\", \"type\": \"scattergeo\"}, {\"lat\": [35.04022, 32.84711], \"line\": {\"color\": \"#4682B4\", \"width\": 1}, \"locationmode\": \"USA-states\", \"lon\": [-106.60918999999998, -96.85177], \"mode\": \"lines\", \"opacity\": 0.33576923076923076, \"text\": \"From: Albuquerque International Sunport<br>To: Dallas Love Field<br>Avg. Delay: 10.07 mins\", \"type\": \"scattergeo\"}, {\"lat\": [35.04022, 39.85841], \"line\": {\"color\": \"#4682B4\", \"width\": 1}, \"locationmode\": \"USA-states\", \"lon\": [-106.60918999999998, -104.667], \"mode\": \"lines\", \"opacity\": 0.16413867822318526, \"text\": \"From: Albuquerque International Sunport<br>To: Denver International Airport<br>Avg. Delay: 4.92 mins\", \"type\": \"scattergeo\"}, {\"lat\": [35.04022, 29.64542], \"line\": {\"color\": \"#4682B4\", \"width\": 1}, \"locationmode\": \"USA-states\", \"lon\": [-106.60918999999998, -95.27889], \"mode\": \"lines\", \"opacity\": 0.18462922966162706, \"text\": \"From: Albuquerque International Sunport<br>To: William P. Hobby Airport<br>Avg. Delay: 5.53 mins\", \"type\": \"scattergeo\"}, {\"lat\": [35.04022, 36.08036], \"line\": {\"color\": \"#4682B4\", \"width\": 1}, \"locationmode\": \"USA-states\", \"lon\": [-106.60918999999998, -115.15233], \"mode\": \"lines\", \"opacity\": 0.13457968708565368, \"text\": \"From: Albuquerque International Sunport<br>To: McCarran International Airport<br>Avg. Delay: 4.03 mins\", \"type\": \"scattergeo\"}, {\"lat\": [35.04022, 33.94254], \"line\": {\"color\": \"#4682B4\", \"width\": 1}, \"locationmode\": \"USA-states\", \"lon\": [-106.60918999999998, -118.40807], \"mode\": \"lines\", \"opacity\": 0.21077368040491684, \"text\": \"From: Albuquerque International Sunport<br>To: Los Angeles International Airport<br>Avg. Delay: 6.32 mins\", \"type\": \"scattergeo\"}, {\"lat\": [35.04022, 39.29761], \"line\": {\"color\": \"#4682B4\", \"width\": 1}, \"locationmode\": \"USA-states\", \"lon\": [-106.60918999999998, -94.71391], \"mode\": \"lines\", \"opacity\": 0.15867944621938232, \"text\": \"From: Albuquerque International Sunport<br>To: Kansas City International Airport<br>Avg. Delay: 4.76 mins\", \"type\": \"scattergeo\"}, {\"lat\": [35.04022, 28.428890000000003], \"line\": {\"color\": \"#4682B4\", \"width\": 1}, \"locationmode\": \"USA-states\", \"lon\": [-106.60918999999998, -81.31603], \"mode\": \"lines\", \"opacity\": 0.15051546391752577, \"text\": \"From: Albuquerque International Sunport<br>To: Orlando International Airport<br>Avg. Delay: 4.51 mins\", \"type\": \"scattergeo\"}, {\"lat\": [35.04022, 41.78598], \"line\": {\"color\": \"#4682B4\", \"width\": 1}, \"locationmode\": \"USA-states\", \"lon\": [-106.60918999999998, -87.75242], \"mode\": \"lines\", \"opacity\": 0.07744791666666666, \"text\": \"From: Albuquerque International Sunport<br>To: Chicago Midway International Airport<br>Avg. Delay: 2.32 mins\", \"type\": \"scattergeo\"}, {\"lat\": [35.04022, 37.72129], \"line\": {\"color\": \"#4682B4\", \"width\": 1}, \"locationmode\": \"USA-states\", \"lon\": [-106.60918999999998, -122.22072], \"mode\": \"lines\", \"opacity\": 0.04140395124001681, \"text\": \"From: Albuquerque International Sunport<br>To: Oakland International Airport<br>Avg. Delay: 1.24 mins\", \"type\": \"scattergeo\"}, {\"lat\": [35.04022, 45.58872], \"line\": {\"color\": \"#4682B4\", \"width\": 1}, \"locationmode\": \"USA-states\", \"lon\": [-106.60918999999998, -122.5975], \"mode\": \"lines\", \"opacity\": 0, \"text\": \"From: Albuquerque International Sunport<br>To: Portland International Airport<br>Avg. Delay: -3.12 mins\", \"type\": \"scattergeo\"}, {\"lat\": [35.04022, 33.43417], \"line\": {\"color\": \"#4682B4\", \"width\": 1}, \"locationmode\": \"USA-states\", \"lon\": [-106.60918999999998, -112.00806000000001], \"mode\": \"lines\", \"opacity\": 0.3910590277777778, \"text\": \"From: Albuquerque International Sunport<br>To: Phoenix Sky Harbor International Airport<br>Avg. Delay: 11.73 mins\", \"type\": \"scattergeo\"}, {\"lat\": [35.04022, 32.73356], \"line\": {\"color\": \"#4682B4\", \"width\": 1}, \"locationmode\": \"USA-states\", \"lon\": [-106.60918999999998, -117.18966], \"mode\": \"lines\", \"opacity\": 0.07888707037643208, \"text\": \"From: Albuquerque International Sunport<br>To: San Diego International Airport\\u00a0(Lindbergh Field)<br>Avg. Delay: 2.36 mins\", \"type\": \"scattergeo\"}, {\"lat\": [35.04022, 47.44898], \"line\": {\"color\": \"#4682B4\", \"width\": 1}, \"locationmode\": \"USA-states\", \"lon\": [-106.60918999999998, -122.30931000000001], \"mode\": \"lines\", \"opacity\": 0.36484018264840185, \"text\": \"From: Albuquerque International Sunport<br>To: Seattle-Tacoma International Airport<br>Avg. Delay: 10.94 mins\", \"type\": \"scattergeo\"}, {\"lat\": [42.74812, 39.1754], \"line\": {\"color\": \"#4682B4\", \"width\": 1}, \"locationmode\": \"USA-states\", \"lon\": [-73.80298, -76.6682], \"mode\": \"lines\", \"opacity\": 0, \"text\": \"From: Albany International Airport<br>To: Baltimore-Washington International Airport<br>Avg. Delay: -2.85 mins\", \"type\": \"scattergeo\"}, {\"lat\": [42.74812, 39.85841], \"line\": {\"color\": \"#4682B4\", \"width\": 1}, \"locationmode\": \"USA-states\", \"lon\": [-73.80298, -104.667], \"mode\": \"lines\", \"opacity\": 0.611111111111111, \"text\": \"From: Albany International Airport<br>To: Denver International Airport<br>Avg. Delay: 18.33 mins\", \"type\": \"scattergeo\"}, {\"lat\": [42.74812, 26.07258], \"line\": {\"color\": \"#4682B4\", \"width\": 1}, \"locationmode\": \"USA-states\", \"lon\": [-73.80298, -80.15275], \"mode\": \"lines\", \"opacity\": 0, \"text\": \"From: Albany International Airport<br>To: Fort Lauderdale-Hollywood International Airport<br>Avg. Delay: -3.86 mins\", \"type\": \"scattergeo\"}, {\"lat\": [42.74812, 36.08036], \"line\": {\"color\": \"#4682B4\", \"width\": 1}, \"locationmode\": \"USA-states\", \"lon\": [-73.80298, -115.15233], \"mode\": \"lines\", \"opacity\": 0, \"text\": \"From: Albany International Airport<br>To: McCarran International Airport<br>Avg. Delay: -3.71 mins\", \"type\": \"scattergeo\"}, {\"lat\": [42.74812, 28.428890000000003], \"line\": {\"color\": \"#4682B4\", \"width\": 1}, \"locationmode\": \"USA-states\", \"lon\": [-73.80298, -81.31603], \"mode\": \"lines\", \"opacity\": 0, \"text\": \"From: Albany International Airport<br>To: Orlando International Airport<br>Avg. Delay: -4.1 mins\", \"type\": \"scattergeo\"}, {\"lat\": [42.74812, 41.78598], \"line\": {\"color\": \"#4682B4\", \"width\": 1}, \"locationmode\": \"USA-states\", \"lon\": [-73.80298, -87.75242], \"mode\": \"lines\", \"opacity\": 0, \"text\": \"From: Albany International Airport<br>To: Chicago Midway International Airport<br>Avg. Delay: -0.54 mins\", \"type\": \"scattergeo\"}, {\"lat\": [42.74812, 26.536170000000002], \"line\": {\"color\": \"#4682B4\", \"width\": 1}, \"locationmode\": \"USA-states\", \"lon\": [-73.80298, -81.75516999999999], \"mode\": \"lines\", \"opacity\": 0.05333333333333334, \"text\": \"From: Albany International Airport<br>To: Southwest Florida International Airport<br>Avg. Delay: 1.6 mins\", \"type\": \"scattergeo\"}, {\"lat\": [42.74812, 27.97547], \"line\": {\"color\": \"#4682B4\", \"width\": 1}, \"locationmode\": \"USA-states\", \"lon\": [-73.80298, -82.53325], \"mode\": \"lines\", \"opacity\": 0, \"text\": \"From: Albany International Airport<br>To: Tampa International Airport<br>Avg. Delay: -10.65 mins\", \"type\": \"scattergeo\"}, {\"lat\": [35.21937, 32.84711], \"line\": {\"color\": \"#4682B4\", \"width\": 1}, \"locationmode\": \"USA-states\", \"lon\": [-101.70593000000001, -96.85177], \"mode\": \"lines\", \"opacity\": 0.19591379792891128, \"text\": \"From: Rick Husband Amarillo International Airport<br>To: Dallas Love Field<br>Avg. Delay: 5.87 mins\", \"type\": \"scattergeo\"}, {\"lat\": [35.21937, 36.08036], \"line\": {\"color\": \"#4682B4\", \"width\": 1}, \"locationmode\": \"USA-states\", \"lon\": [-101.70593000000001, -115.15233], \"mode\": \"lines\", \"opacity\": 0, \"text\": \"From: Rick Husband Amarillo International Airport<br>To: McCarran International Airport<br>Avg. Delay: -3.18 mins\", \"type\": \"scattergeo\"}, {\"lat\": [33.640440000000005, 30.19453], \"line\": {\"color\": \"#4682B4\", \"width\": 1}, \"locationmode\": \"USA-states\", \"lon\": [-84.42694, -97.66986999999999], \"mode\": \"lines\", \"opacity\": 0.19994807892004154, \"text\": \"From: Hartsfield-Jackson Atlanta International Airport<br>To: Austin-Bergstrom International Airport<br>Avg. Delay: 5.99 mins\", \"type\": \"scattergeo\"}, {\"lat\": [33.640440000000005, 41.93887], \"line\": {\"color\": \"#4682B4\", \"width\": 1}, \"locationmode\": \"USA-states\", \"lon\": [-84.42694, -72.68323000000001], \"mode\": \"lines\", \"opacity\": 0.06872659176029963, \"text\": \"From: Hartsfield-Jackson Atlanta International Airport<br>To: Bradley International Airport<br>Avg. Delay: 2.06 mins\", \"type\": \"scattergeo\"}, {\"lat\": [33.640440000000005, 42.36435], \"line\": {\"color\": \"#4682B4\", \"width\": 1}, \"locationmode\": \"USA-states\", \"lon\": [-84.42694, -71.00518000000001], \"mode\": \"lines\", \"opacity\": 0.21356589147286822, \"text\": \"From: Hartsfield-Jackson Atlanta International Airport<br>To: Gen. Edward Lawrence Logan International Airport<br>Avg. Delay: 6.4 mins\", \"type\": \"scattergeo\"}, {\"lat\": [33.640440000000005, 39.1754], \"line\": {\"color\": \"#4682B4\", \"width\": 1}, \"locationmode\": \"USA-states\", \"lon\": [-84.42694, -76.6682], \"mode\": \"lines\", \"opacity\": 0.16761147024697498, \"text\": \"From: Hartsfield-Jackson Atlanta International Airport<br>To: Baltimore-Washington International Airport<br>Avg. Delay: 5.02 mins\", \"type\": \"scattergeo\"}, {\"lat\": [33.640440000000005, 40.916309999999996], \"line\": {\"color\": \"#4682B4\", \"width\": 1}, \"locationmode\": \"USA-states\", \"lon\": [-84.42694, -81.44247], \"mode\": \"lines\", \"opacity\": 0.05382678751258811, \"text\": \"From: Hartsfield-Jackson Atlanta International Airport<br>To: Akron-Canton Regional Airport<br>Avg. Delay: 1.61 mins\", \"type\": \"scattergeo\"}, {\"lat\": [33.640440000000005, 39.99799], \"line\": {\"color\": \"#4682B4\", \"width\": 1}, \"locationmode\": \"USA-states\", \"lon\": [-84.42694, -82.89188], \"mode\": \"lines\", \"opacity\": 0.08898186889818689, \"text\": \"From: Hartsfield-Jackson Atlanta International Airport<br>To: Port Columbus International Airport<br>Avg. Delay: 2.66 mins\", \"type\": \"scattergeo\"}, {\"lat\": [33.640440000000005, 32.84711], \"line\": {\"color\": \"#4682B4\", \"width\": 1}, \"locationmode\": \"USA-states\", \"lon\": [-84.42694, -96.85177], \"mode\": \"lines\", \"opacity\": 0.012121212121212121, \"text\": \"From: Hartsfield-Jackson Atlanta International Airport<br>To: Dallas Love Field<br>Avg. Delay: 0.36 mins\", \"type\": \"scattergeo\"}, {\"lat\": [33.640440000000005, 38.85208], \"line\": {\"color\": \"#4682B4\", \"width\": 1}, \"locationmode\": \"USA-states\", \"lon\": [-84.42694, -77.03772], \"mode\": \"lines\", \"opacity\": 0.1629125861443598, \"text\": \"From: Hartsfield-Jackson Atlanta International Airport<br>To: Ronald Reagan Washington National Airport<br>Avg. Delay: 4.88 mins\", \"type\": \"scattergeo\"}, {\"lat\": [33.640440000000005, 39.85841], \"line\": {\"color\": \"#4682B4\", \"width\": 1}, \"locationmode\": \"USA-states\", \"lon\": [-84.42694, -104.667], \"mode\": \"lines\", \"opacity\": 0, \"text\": \"From: Hartsfield-Jackson Atlanta International Airport<br>To: Denver International Airport<br>Avg. Delay: -0.3 mins\", \"type\": \"scattergeo\"}, {\"lat\": [33.640440000000005, 42.21206], \"line\": {\"color\": \"#4682B4\", \"width\": 1}, \"locationmode\": \"USA-states\", \"lon\": [-84.42694, -83.34884], \"mode\": \"lines\", \"opacity\": 0.10781466113416321, \"text\": \"From: Hartsfield-Jackson Atlanta International Airport<br>To: Detroit Metropolitan Airport<br>Avg. Delay: 3.23 mins\", \"type\": \"scattergeo\"}, {\"lat\": [33.640440000000005, 26.07258], \"line\": {\"color\": \"#4682B4\", \"width\": 1}, \"locationmode\": \"USA-states\", \"lon\": [-84.42694, -80.15275], \"mode\": \"lines\", \"opacity\": 0.20429003021148034, \"text\": \"From: Hartsfield-Jackson Atlanta International Airport<br>To: Fort Lauderdale-Hollywood International Airport<br>Avg. Delay: 6.12 mins\", \"type\": \"scattergeo\"}, {\"lat\": [33.640440000000005, 29.64542], \"line\": {\"color\": \"#4682B4\", \"width\": 1}, \"locationmode\": \"USA-states\", \"lon\": [-84.42694, -95.27889], \"mode\": \"lines\", \"opacity\": 0.13628177966101696, \"text\": \"From: Hartsfield-Jackson Atlanta International Airport<br>To: William P. Hobby Airport<br>Avg. Delay: 4.08 mins\", \"type\": \"scattergeo\"}, {\"lat\": [33.640440000000005, 39.71733], \"line\": {\"color\": \"#4682B4\", \"width\": 1}, \"locationmode\": \"USA-states\", \"lon\": [-84.42694, -86.29438], \"mode\": \"lines\", \"opacity\": 0.17694415895854745, \"text\": \"From: Hartsfield-Jackson Atlanta International Airport<br>To: Indianapolis International Airport<br>Avg. Delay: 5.3 mins\", \"type\": \"scattergeo\"}, {\"lat\": [33.640440000000005, 30.494059999999998], \"line\": {\"color\": \"#4682B4\", \"width\": 1}, \"locationmode\": \"USA-states\", \"lon\": [-84.42694, -81.68786], \"mode\": \"lines\", \"opacity\": 0.14534812076401726, \"text\": \"From: Hartsfield-Jackson Atlanta International Airport<br>To: Jacksonville International Airport<br>Avg. Delay: 4.36 mins\", \"type\": \"scattergeo\"}, {\"lat\": [33.640440000000005, 36.08036], \"line\": {\"color\": \"#4682B4\", \"width\": 1}, \"locationmode\": \"USA-states\", \"lon\": [-84.42694, -115.15233], \"mode\": \"lines\", \"opacity\": 0, \"text\": \"From: Hartsfield-Jackson Atlanta International Airport<br>To: McCarran International Airport<br>Avg. Delay: -1.26 mins\", \"type\": \"scattergeo\"}, {\"lat\": [33.640440000000005, 33.94254], \"line\": {\"color\": \"#4682B4\", \"width\": 1}, \"locationmode\": \"USA-states\", \"lon\": [-84.42694, -118.40807], \"mode\": \"lines\", \"opacity\": 0.1055497745404093, \"text\": \"From: Hartsfield-Jackson Atlanta International Airport<br>To: Los Angeles International Airport<br>Avg. Delay: 3.16 mins\", \"type\": \"scattergeo\"}, {\"lat\": [33.640440000000005, 40.77724], \"line\": {\"color\": \"#4682B4\", \"width\": 1}, \"locationmode\": \"USA-states\", \"lon\": [-84.42694, -73.87261], \"mode\": \"lines\", \"opacity\": 0.26192283364958885, \"text\": \"From: Hartsfield-Jackson Atlanta International Airport<br>To: LaGuardia Airport (Marine Air Terminal)<br>Avg. Delay: 7.85 mins\", \"type\": \"scattergeo\"}, {\"lat\": [33.640440000000005, 39.29761], \"line\": {\"color\": \"#4682B4\", \"width\": 1}, \"locationmode\": \"USA-states\", \"lon\": [-84.42694, -94.71391], \"mode\": \"lines\", \"opacity\": 0.20783475783475783, \"text\": \"From: Hartsfield-Jackson Atlanta International Airport<br>To: Kansas City International Airport<br>Avg. Delay: 6.23 mins\", \"type\": \"scattergeo\"}, {\"lat\": [33.640440000000005, 28.428890000000003], \"line\": {\"color\": \"#4682B4\", \"width\": 1}, \"locationmode\": \"USA-states\", \"lon\": [-84.42694, -81.31603], \"mode\": \"lines\", \"opacity\": 0.20273364820380707, \"text\": \"From: Hartsfield-Jackson Atlanta International Airport<br>To: Orlando International Airport<br>Avg. Delay: 6.08 mins\", \"type\": \"scattergeo\"}, {\"lat\": [33.640440000000005, 41.78598], \"line\": {\"color\": \"#4682B4\", \"width\": 1}, \"locationmode\": \"USA-states\", \"lon\": [-84.42694, -87.75242], \"mode\": \"lines\", \"opacity\": 0.17884972170686456, \"text\": \"From: Hartsfield-Jackson Atlanta International Airport<br>To: Chicago Midway International Airport<br>Avg. Delay: 5.36 mins\", \"type\": \"scattergeo\"}, {\"lat\": [33.640440000000005, 42.94722], \"line\": {\"color\": \"#4682B4\", \"width\": 1}, \"locationmode\": \"USA-states\", \"lon\": [-84.42694, -87.89658], \"mode\": \"lines\", \"opacity\": 0.13361945636623748, \"text\": \"From: Hartsfield-Jackson Atlanta International Airport<br>To: General Mitchell International Airport<br>Avg. Delay: 4.0 mins\", \"type\": \"scattergeo\"}, {\"lat\": [33.640440000000005, 44.88055], \"line\": {\"color\": \"#4682B4\", \"width\": 1}, \"locationmode\": \"USA-states\", \"lon\": [-84.42694, -93.21692], \"mode\": \"lines\", \"opacity\": 0, \"text\": \"From: Hartsfield-Jackson Atlanta International Airport<br>To: Minneapolis-Saint Paul International Airport<br>Avg. Delay: -0.53 mins\", \"type\": \"scattergeo\"}, {\"lat\": [33.640440000000005, 29.99339], \"line\": {\"color\": \"#4682B4\", \"width\": 1}, \"locationmode\": \"USA-states\", \"lon\": [-84.42694, -90.25803], \"mode\": \"lines\", \"opacity\": 0.12221269296740994, \"text\": \"From: Hartsfield-Jackson Atlanta International Airport<br>To: Louis Armstrong New Orleans International Airport<br>Avg. Delay: 3.66 mins\", \"type\": \"scattergeo\"}, {\"lat\": [33.640440000000005, 37.72129], \"line\": {\"color\": \"#4682B4\", \"width\": 1}, \"locationmode\": \"USA-states\", \"lon\": [-84.42694, -122.22072], \"mode\": \"lines\", \"opacity\": 0, \"text\": \"From: Hartsfield-Jackson Atlanta International Airport<br>To: Oakland International Airport<br>Avg. Delay: -7.59 mins\", \"type\": \"scattergeo\"}, {\"lat\": [33.640440000000005, 35.39309], \"line\": {\"color\": \"#4682B4\", \"width\": 1}, \"locationmode\": \"USA-states\", \"lon\": [-84.42694, -97.60073], \"mode\": \"lines\", \"opacity\": 0.2997942386831276, \"text\": \"From: Hartsfield-Jackson Atlanta International Airport<br>To: Will Rogers World Airport<br>Avg. Delay: 8.99 mins\", \"type\": \"scattergeo\"}, {\"lat\": [33.640440000000005, 26.683159999999997], \"line\": {\"color\": \"#4682B4\", \"width\": 1}, \"locationmode\": \"USA-states\", \"lon\": [-84.42694, -80.09559], \"mode\": \"lines\", \"opacity\": 0.2805513784461153, \"text\": \"From: Hartsfield-Jackson Atlanta International Airport<br>To: Palm Beach International Airport<br>Avg. Delay: 8.41 mins\", \"type\": \"scattergeo\"}, {\"lat\": [33.640440000000005, 39.87195], \"line\": {\"color\": \"#4682B4\", \"width\": 1}, \"locationmode\": \"USA-states\", \"lon\": [-84.42694, -75.24114], \"mode\": \"lines\", \"opacity\": 0.18880675818373813, \"text\": \"From: Hartsfield-Jackson Atlanta International Airport<br>To: Philadelphia International Airport<br>Avg. Delay: 5.66 mins\", \"type\": \"scattergeo\"}, {\"lat\": [33.640440000000005, 33.43417], \"line\": {\"color\": \"#4682B4\", \"width\": 1}, \"locationmode\": \"USA-states\", \"lon\": [-84.42694, -112.00806000000001], \"mode\": \"lines\", \"opacity\": 0, \"text\": \"From: Hartsfield-Jackson Atlanta International Airport<br>To: Phoenix Sky Harbor International Airport<br>Avg. Delay: -4.58 mins\", \"type\": \"scattergeo\"}, {\"lat\": [33.640440000000005, 40.49147], \"line\": {\"color\": \"#4682B4\", \"width\": 1}, \"locationmode\": \"USA-states\", \"lon\": [-84.42694, -80.23286999999999], \"mode\": \"lines\", \"opacity\": 0.22915407854984896, \"text\": \"From: Hartsfield-Jackson Atlanta International Airport<br>To: Pittsburgh International Airport<br>Avg. Delay: 6.87 mins\", \"type\": \"scattergeo\"}, {\"lat\": [33.640440000000005, 35.87764], \"line\": {\"color\": \"#4682B4\", \"width\": 1}, \"locationmode\": \"USA-states\", \"lon\": [-84.42694, -78.78747], \"mode\": \"lines\", \"opacity\": 0.13364845938375353, \"text\": \"From: Hartsfield-Jackson Atlanta International Airport<br>To: Raleigh-Durham International Airport<br>Avg. Delay: 4.0 mins\", \"type\": \"scattergeo\"}, {\"lat\": [33.640440000000005, 37.50517], \"line\": {\"color\": \"#4682B4\", \"width\": 1}, \"locationmode\": \"USA-states\", \"lon\": [-84.42694, -77.31967], \"mode\": \"lines\", \"opacity\": 0.1346074380165289, \"text\": \"From: Hartsfield-Jackson Atlanta International Airport<br>To: Richmond International Airport<br>Avg. Delay: 4.03 mins\", \"type\": \"scattergeo\"}, {\"lat\": [33.640440000000005, 26.536170000000002], \"line\": {\"color\": \"#4682B4\", \"width\": 1}, \"locationmode\": \"USA-states\", \"lon\": [-84.42694, -81.75516999999999], \"mode\": \"lines\", \"opacity\": 0.1568888888888889, \"text\": \"From: Hartsfield-Jackson Atlanta International Airport<br>To: Southwest Florida International Airport<br>Avg. Delay: 4.7 mins\", \"type\": \"scattergeo\"}, {\"lat\": [33.640440000000005, 32.73356], \"line\": {\"color\": \"#4682B4\", \"width\": 1}, \"locationmode\": \"USA-states\", \"lon\": [-84.42694, -117.18966], \"mode\": \"lines\", \"opacity\": 0, \"text\": \"From: Hartsfield-Jackson Atlanta International Airport<br>To: San Diego International Airport\\u00a0(Lindbergh Field)<br>Avg. Delay: -1.72 mins\", \"type\": \"scattergeo\"}, {\"lat\": [33.640440000000005, 29.533690000000004], \"line\": {\"color\": \"#4682B4\", \"width\": 1}, \"locationmode\": \"USA-states\", \"lon\": [-84.42694, -98.46978], \"mode\": \"lines\", \"opacity\": 0.20947148090005233, \"text\": \"From: Hartsfield-Jackson Atlanta International Airport<br>To: San Antonio International Airport<br>Avg. Delay: 6.28 mins\", \"type\": \"scattergeo\"}, {\"lat\": [33.640440000000005, 47.44898], \"line\": {\"color\": \"#4682B4\", \"width\": 1}, \"locationmode\": \"USA-states\", \"lon\": [-84.42694, -122.30931000000001], \"mode\": \"lines\", \"opacity\": 0.008994708994708995, \"text\": \"From: Hartsfield-Jackson Atlanta International Airport<br>To: Seattle-Tacoma International Airport<br>Avg. Delay: 0.26 mins\", \"type\": \"scattergeo\"}, {\"lat\": [33.640440000000005, 37.619], \"line\": {\"color\": \"#4682B4\", \"width\": 1}, \"locationmode\": \"USA-states\", \"lon\": [-84.42694, -122.37483999999999], \"mode\": \"lines\", \"opacity\": 0, \"text\": \"From: Hartsfield-Jackson Atlanta International Airport<br>To: San Francisco International Airport<br>Avg. Delay: -7.42 mins\", \"type\": \"scattergeo\"}, {\"lat\": [33.640440000000005, 18.439420000000002], \"line\": {\"color\": \"#4682B4\", \"width\": 1}, \"locationmode\": \"USA-states\", \"lon\": [-84.42694, -66.00183], \"mode\": \"lines\", \"opacity\": 0.16205128205128203, \"text\": \"From: Hartsfield-Jackson Atlanta International Airport<br>To: Luis Mu\\u00f1oz Mar\\u00edn International Airport<br>Avg. Delay: 4.86 mins\", \"type\": \"scattergeo\"}, {\"lat\": [33.640440000000005, 38.747690000000006], \"line\": {\"color\": \"#4682B4\", \"width\": 1}, \"locationmode\": \"USA-states\", \"lon\": [-84.42694, -90.35999], \"mode\": \"lines\", \"opacity\": 0.17707697524584604, \"text\": \"From: Hartsfield-Jackson Atlanta International Airport<br>To: St. Louis International Airport at Lambert Field<br>Avg. Delay: 5.31 mins\", \"type\": \"scattergeo\"}, {\"lat\": [33.640440000000005, 27.97547], \"line\": {\"color\": \"#4682B4\", \"width\": 1}, \"locationmode\": \"USA-states\", \"lon\": [-84.42694, -82.53325], \"mode\": \"lines\", \"opacity\": 0.2763694779116466, \"text\": \"From: Hartsfield-Jackson Atlanta International Airport<br>To: Tampa International Airport<br>Avg. Delay: 8.29 mins\", \"type\": \"scattergeo\"}, {\"lat\": [30.19453, 33.640440000000005], \"line\": {\"color\": \"#4682B4\", \"width\": 1}, \"locationmode\": \"USA-states\", \"lon\": [-97.66986999999999, -84.42694], \"mode\": \"lines\", \"opacity\": 0.1844135802469136, \"text\": \"From: Austin-Bergstrom International Airport<br>To: Hartsfield-Jackson Atlanta International Airport<br>Avg. Delay: 5.53 mins\", \"type\": \"scattergeo\"}, {\"lat\": [30.19453, 36.12448], \"line\": {\"color\": \"#4682B4\", \"width\": 1}, \"locationmode\": \"USA-states\", \"lon\": [-97.66986999999999, -86.67818], \"mode\": \"lines\", \"opacity\": 0.06881028938906751, \"text\": \"From: Austin-Bergstrom International Airport<br>To: Nashville International Airport<br>Avg. Delay: 2.06 mins\", \"type\": \"scattergeo\"}, {\"lat\": [30.19453, 42.36435], \"line\": {\"color\": \"#4682B4\", \"width\": 1}, \"locationmode\": \"USA-states\", \"lon\": [-97.66986999999999, -71.00518000000001], \"mode\": \"lines\", \"opacity\": 0.5955555555555556, \"text\": \"From: Austin-Bergstrom International Airport<br>To: Gen. Edward Lawrence Logan International Airport<br>Avg. Delay: 17.86 mins\", \"type\": \"scattergeo\"}, {\"lat\": [30.19453, 39.1754], \"line\": {\"color\": \"#4682B4\", \"width\": 1}, \"locationmode\": \"USA-states\", \"lon\": [-97.66986999999999, -76.6682], \"mode\": \"lines\", \"opacity\": 0.12814814814814815, \"text\": \"From: Austin-Bergstrom International Airport<br>To: Baltimore-Washington International Airport<br>Avg. Delay: 3.84 mins\", \"type\": \"scattergeo\"}, {\"lat\": [30.19453, 32.84711], \"line\": {\"color\": \"#4682B4\", \"width\": 1}, \"locationmode\": \"USA-states\", \"lon\": [-97.66986999999999, -96.85177], \"mode\": \"lines\", \"opacity\": 0.272543258243552, \"text\": \"From: Austin-Bergstrom International Airport<br>To: Dallas Love Field<br>Avg. Delay: 8.17 mins\", \"type\": \"scattergeo\"}, {\"lat\": [30.19453, 38.85208], \"line\": {\"color\": \"#4682B4\", \"width\": 1}, \"locationmode\": \"USA-states\", \"lon\": [-97.66986999999999, -77.03772], \"mode\": \"lines\", \"opacity\": 0, \"text\": \"From: Austin-Bergstrom International Airport<br>To: Ronald Reagan Washington National Airport<br>Avg. Delay: -2.82 mins\", \"type\": \"scattergeo\"}, {\"lat\": [30.19453, 39.85841], \"line\": {\"color\": \"#4682B4\", \"width\": 1}, \"locationmode\": \"USA-states\", \"lon\": [-97.66986999999999, -104.667], \"mode\": \"lines\", \"opacity\": 0.07785087719298246, \"text\": \"From: Austin-Bergstrom International Airport<br>To: Denver International Airport<br>Avg. Delay: 2.33 mins\", \"type\": \"scattergeo\"}, {\"lat\": [30.19453, 31.80667], \"line\": {\"color\": \"#4682B4\", \"width\": 1}, \"locationmode\": \"USA-states\", \"lon\": [-97.66986999999999, -106.37781000000001], \"mode\": \"lines\", \"opacity\": 0.14885525805199845, \"text\": \"From: Austin-Bergstrom International Airport<br>To: El Paso International Airport<br>Avg. Delay: 4.46 mins\", \"type\": \"scattergeo\"}, {\"lat\": [30.19453, 40.6925], \"line\": {\"color\": \"#4682B4\", \"width\": 1}, \"locationmode\": \"USA-states\", \"lon\": [-97.66986999999999, -74.16866], \"mode\": \"lines\", \"opacity\": 0.1634703196347032, \"text\": \"From: Austin-Bergstrom International Airport<br>To: Newark Liberty International Airport<br>Avg. Delay: 4.9 mins\", \"type\": \"scattergeo\"}, {\"lat\": [30.19453, 26.07258], \"line\": {\"color\": \"#4682B4\", \"width\": 1}, \"locationmode\": \"USA-states\", \"lon\": [-97.66986999999999, -80.15275], \"mode\": \"lines\", \"opacity\": 0.27805243445692884, \"text\": \"From: Austin-Bergstrom International Airport<br>To: Fort Lauderdale-Hollywood International Airport<br>Avg. Delay: 8.34 mins\", \"type\": \"scattergeo\"}, {\"lat\": [30.19453, 29.64542], \"line\": {\"color\": \"#4682B4\", \"width\": 1}, \"locationmode\": \"USA-states\", \"lon\": [-97.66986999999999, -95.27889], \"mode\": \"lines\", \"opacity\": 0.23745173745173745, \"text\": \"From: Austin-Bergstrom International Airport<br>To: William P. Hobby Airport<br>Avg. Delay: 7.12 mins\", \"type\": \"scattergeo\"}, {\"lat\": [30.19453, 26.228509999999996], \"line\": {\"color\": \"#4682B4\", \"width\": 1}, \"locationmode\": \"USA-states\", \"lon\": [-97.66986999999999, -97.65439], \"mode\": \"lines\", \"opacity\": 0.2173416407061267, \"text\": \"From: Austin-Bergstrom International Airport<br>To: Valley International Airport<br>Avg. Delay: 6.52 mins\", \"type\": \"scattergeo\"}, {\"lat\": [30.19453, 36.08036], \"line\": {\"color\": \"#4682B4\", \"width\": 1}, \"locationmode\": \"USA-states\", \"lon\": [-97.66986999999999, -115.15233], \"mode\": \"lines\", \"opacity\": 0, \"text\": \"From: Austin-Bergstrom International Airport<br>To: McCarran International Airport<br>Avg. Delay: -0.12 mins\", \"type\": \"scattergeo\"}, {\"lat\": [30.19453, 33.94254], \"line\": {\"color\": \"#4682B4\", \"width\": 1}, \"locationmode\": \"USA-states\", \"lon\": [-97.66986999999999, -118.40807], \"mode\": \"lines\", \"opacity\": 0.1341839447102605, \"text\": \"From: Austin-Bergstrom International Airport<br>To: Los Angeles International Airport<br>Avg. Delay: 4.02 mins\", \"type\": \"scattergeo\"}, {\"lat\": [30.19453, 33.66364], \"line\": {\"color\": \"#4682B4\", \"width\": 1}, \"locationmode\": \"USA-states\", \"lon\": [-97.66986999999999, -101.82278000000001], \"mode\": \"lines\", \"opacity\": 0.2285101822079314, \"text\": \"From: Austin-Bergstrom International Airport<br>To: Lubbock Preston Smith International Airport<br>Avg. Delay: 6.85 mins\", \"type\": \"scattergeo\"}, {\"lat\": [30.19453, 28.428890000000003], \"line\": {\"color\": \"#4682B4\", \"width\": 1}, \"locationmode\": \"USA-states\", \"lon\": [-97.66986999999999, -81.31603], \"mode\": \"lines\", \"opacity\": 0.3088314485729671, \"text\": \"From: Austin-Bergstrom International Airport<br>To: Orlando International Airport<br>Avg. Delay: 9.26 mins\", \"type\": \"scattergeo\"}, {\"lat\": [30.19453, 41.78598], \"line\": {\"color\": \"#4682B4\", \"width\": 1}, \"locationmode\": \"USA-states\", \"lon\": [-97.66986999999999, -87.75242], \"mode\": \"lines\", \"opacity\": 0.15521924718665117, \"text\": \"From: Austin-Bergstrom International Airport<br>To: Chicago Midway International Airport<br>Avg. Delay: 4.65 mins\", \"type\": \"scattergeo\"}, {\"lat\": [30.19453, 35.04242], \"line\": {\"color\": \"#4682B4\", \"width\": 1}, \"locationmode\": \"USA-states\", \"lon\": [-97.66986999999999, -89.97667], \"mode\": \"lines\", \"opacity\": 0.25833333333333336, \"text\": \"From: Austin-Bergstrom International Airport<br>To: Memphis International Airport<br>Avg. Delay: 7.75 mins\", \"type\": \"scattergeo\"}, {\"lat\": [30.19453, 29.99339], \"line\": {\"color\": \"#4682B4\", \"width\": 1}, \"locationmode\": \"USA-states\", \"lon\": [-97.66986999999999, -90.25803], \"mode\": \"lines\", \"opacity\": 0.13126843657817108, \"text\": \"From: Austin-Bergstrom International Airport<br>To: Louis Armstrong New Orleans International Airport<br>Avg. Delay: 3.93 mins\", \"type\": \"scattergeo\"}, {\"lat\": [30.19453, 37.72129], \"line\": {\"color\": \"#4682B4\", \"width\": 1}, \"locationmode\": \"USA-states\", \"lon\": [-97.66986999999999, -122.22072], \"mode\": \"lines\", \"opacity\": 0.20688622754491018, \"text\": \"From: Austin-Bergstrom International Airport<br>To: Oakland International Airport<br>Avg. Delay: 6.2 mins\", \"type\": \"scattergeo\"}, {\"lat\": [30.19453, 45.58872], \"line\": {\"color\": \"#4682B4\", \"width\": 1}, \"locationmode\": \"USA-states\", \"lon\": [-97.66986999999999, -122.5975], \"mode\": \"lines\", \"opacity\": 0.2134920634920635, \"text\": \"From: Austin-Bergstrom International Airport<br>To: Portland International Airport<br>Avg. Delay: 6.4 mins\", \"type\": \"scattergeo\"}, {\"lat\": [30.19453, 33.43417], \"line\": {\"color\": \"#4682B4\", \"width\": 1}, \"locationmode\": \"USA-states\", \"lon\": [-97.66986999999999, -112.00806000000001], \"mode\": \"lines\", \"opacity\": 0.09541160593792172, \"text\": \"From: Austin-Bergstrom International Airport<br>To: Phoenix Sky Harbor International Airport<br>Avg. Delay: 2.86 mins\", \"type\": \"scattergeo\"}, {\"lat\": [30.19453, 32.73356], \"line\": {\"color\": \"#4682B4\", \"width\": 1}, \"locationmode\": \"USA-states\", \"lon\": [-97.66986999999999, -117.18966], \"mode\": \"lines\", \"opacity\": 0.053119999999999994, \"text\": \"From: Austin-Bergstrom International Airport<br>To: San Diego International Airport\\u00a0(Lindbergh Field)<br>Avg. Delay: 1.59 mins\", \"type\": \"scattergeo\"}, {\"lat\": [30.19453, 47.44898], \"line\": {\"color\": \"#4682B4\", \"width\": 1}, \"locationmode\": \"USA-states\", \"lon\": [-97.66986999999999, -122.30931000000001], \"mode\": \"lines\", \"opacity\": 0.07853107344632768, \"text\": \"From: Austin-Bergstrom International Airport<br>To: Seattle-Tacoma International Airport<br>Avg. Delay: 2.35 mins\", \"type\": \"scattergeo\"}, {\"lat\": [30.19453, 37.36186], \"line\": {\"color\": \"#4682B4\", \"width\": 1}, \"locationmode\": \"USA-states\", \"lon\": [-97.66986999999999, -121.92901], \"mode\": \"lines\", \"opacity\": 0, \"text\": \"From: Austin-Bergstrom International Airport<br>To: Norman Y. Mineta San Jos\\u00e9 International Airport<br>Avg. Delay: -1.87 mins\", \"type\": \"scattergeo\"}, {\"lat\": [30.19453, 33.67566], \"line\": {\"color\": \"#4682B4\", \"width\": 1}, \"locationmode\": \"USA-states\", \"lon\": [-97.66986999999999, -117.86822], \"mode\": \"lines\", \"opacity\": 0, \"text\": \"From: Austin-Bergstrom International Airport<br>To: John Wayne Airport\\u00a0(Orange County Airport)<br>Avg. Delay: -2.56 mins\", \"type\": \"scattergeo\"}, {\"lat\": [30.19453, 38.747690000000006], \"line\": {\"color\": \"#4682B4\", \"width\": 1}, \"locationmode\": \"USA-states\", \"lon\": [-97.66986999999999, -90.35999], \"mode\": \"lines\", \"opacity\": 0.006410256410256411, \"text\": \"From: Austin-Bergstrom International Airport<br>To: St. Louis International Airport at Lambert Field<br>Avg. Delay: 0.19 mins\", \"type\": \"scattergeo\"}, {\"lat\": [30.19453, 27.97547], \"line\": {\"color\": \"#4682B4\", \"width\": 1}, \"locationmode\": \"USA-states\", \"lon\": [-97.66986999999999, -82.53325], \"mode\": \"lines\", \"opacity\": 0.32093253968253965, \"text\": \"From: Austin-Bergstrom International Airport<br>To: Tampa International Airport<br>Avg. Delay: 9.62 mins\", \"type\": \"scattergeo\"}, {\"lat\": [41.93887, 33.640440000000005], \"line\": {\"color\": \"#4682B4\", \"width\": 1}, \"locationmode\": \"USA-states\", \"lon\": [-72.68323000000001, -84.42694], \"mode\": \"lines\", \"opacity\": 0, \"text\": \"From: Bradley International Airport<br>To: Hartsfield-Jackson Atlanta International Airport<br>Avg. Delay: -7.1 mins\", \"type\": \"scattergeo\"}, {\"lat\": [41.93887, 39.1754], \"line\": {\"color\": \"#4682B4\", \"width\": 1}, \"locationmode\": \"USA-states\", \"lon\": [-72.68323000000001, -76.6682], \"mode\": \"lines\", \"opacity\": 0.010734725444702243, \"text\": \"From: Bradley International Airport<br>To: Baltimore-Washington International Airport<br>Avg. Delay: 0.32 mins\", \"type\": \"scattergeo\"}, {\"lat\": [41.93887, 39.85841], \"line\": {\"color\": \"#4682B4\", \"width\": 1}, \"locationmode\": \"USA-states\", \"lon\": [-72.68323000000001, -104.667], \"mode\": \"lines\", \"opacity\": 0, \"text\": \"From: Bradley International Airport<br>To: Denver International Airport<br>Avg. Delay: -2.12 mins\", \"type\": \"scattergeo\"}, {\"lat\": [41.93887, 26.07258], \"line\": {\"color\": \"#4682B4\", \"width\": 1}, \"locationmode\": \"USA-states\", \"lon\": [-72.68323000000001, -80.15275], \"mode\": \"lines\", \"opacity\": 0, \"text\": \"From: Bradley International Airport<br>To: Fort Lauderdale-Hollywood International Airport<br>Avg. Delay: -6.82 mins\", \"type\": \"scattergeo\"}, {\"lat\": [41.93887, 36.08036], \"line\": {\"color\": \"#4682B4\", \"width\": 1}, \"locationmode\": \"USA-states\", \"lon\": [-72.68323000000001, -115.15233], \"mode\": \"lines\", \"opacity\": 0, \"text\": \"From: Bradley International Airport<br>To: McCarran International Airport<br>Avg. Delay: -2.66 mins\", \"type\": \"scattergeo\"}, {\"lat\": [41.93887, 28.428890000000003], \"line\": {\"color\": \"#4682B4\", \"width\": 1}, \"locationmode\": \"USA-states\", \"lon\": [-72.68323000000001, -81.31603], \"mode\": \"lines\", \"opacity\": 0, \"text\": \"From: Bradley International Airport<br>To: Orlando International Airport<br>Avg. Delay: -2.54 mins\", \"type\": \"scattergeo\"}, {\"lat\": [41.93887, 41.78598], \"line\": {\"color\": \"#4682B4\", \"width\": 1}, \"locationmode\": \"USA-states\", \"lon\": [-72.68323000000001, -87.75242], \"mode\": \"lines\", \"opacity\": 0.030359937402190926, \"text\": \"From: Bradley International Airport<br>To: Chicago Midway International Airport<br>Avg. Delay: 0.91 mins\", \"type\": \"scattergeo\"}, {\"lat\": [41.93887, 26.683159999999997], \"line\": {\"color\": \"#4682B4\", \"width\": 1}, \"locationmode\": \"USA-states\", \"lon\": [-72.68323000000001, -80.09559], \"mode\": \"lines\", \"opacity\": 0.2866666666666667, \"text\": \"From: Bradley International Airport<br>To: Palm Beach International Airport<br>Avg. Delay: 8.6 mins\", \"type\": \"scattergeo\"}, {\"lat\": [41.93887, 26.536170000000002], \"line\": {\"color\": \"#4682B4\", \"width\": 1}, \"locationmode\": \"USA-states\", \"lon\": [-72.68323000000001, -81.75516999999999], \"mode\": \"lines\", \"opacity\": 0, \"text\": \"From: Bradley International Airport<br>To: Southwest Florida International Airport<br>Avg. Delay: -8.24 mins\", \"type\": \"scattergeo\"}, {\"lat\": [41.93887, 27.97547], \"line\": {\"color\": \"#4682B4\", \"width\": 1}, \"locationmode\": \"USA-states\", \"lon\": [-72.68323000000001, -82.53325], \"mode\": \"lines\", \"opacity\": 0.07103109656301146, \"text\": \"From: Bradley International Airport<br>To: Tampa International Airport<br>Avg. Delay: 2.13 mins\", \"type\": \"scattergeo\"}, {\"lat\": [33.562940000000005, 39.1754], \"line\": {\"color\": \"#4682B4\", \"width\": 1}, \"locationmode\": \"USA-states\", \"lon\": [-86.75355, -76.6682], \"mode\": \"lines\", \"opacity\": 0.21819757365684575, \"text\": \"From: Birmingham-Shuttlesworth International Airport<br>To: Baltimore-Washington International Airport<br>Avg. Delay: 6.54 mins\", \"type\": \"scattergeo\"}, {\"lat\": [33.562940000000005, 32.84711], \"line\": {\"color\": \"#4682B4\", \"width\": 1}, \"locationmode\": \"USA-states\", \"lon\": [-86.75355, -96.85177], \"mode\": \"lines\", \"opacity\": 0.012438544739429696, \"text\": \"From: Birmingham-Shuttlesworth International Airport<br>To: Dallas Love Field<br>Avg. Delay: 0.37 mins\", \"type\": \"scattergeo\"}, {\"lat\": [33.562940000000005, 29.64542], \"line\": {\"color\": \"#4682B4\", \"width\": 1}, \"locationmode\": \"USA-states\", \"lon\": [-86.75355, -95.27889], \"mode\": \"lines\", \"opacity\": 0.06898839137645107, \"text\": \"From: Birmingham-Shuttlesworth International Airport<br>To: William P. Hobby Airport<br>Avg. Delay: 2.06 mins\", \"type\": \"scattergeo\"}, {\"lat\": [33.562940000000005, 36.08036], \"line\": {\"color\": \"#4682B4\", \"width\": 1}, \"locationmode\": \"USA-states\", \"lon\": [-86.75355, -115.15233], \"mode\": \"lines\", \"opacity\": 0, \"text\": \"From: Birmingham-Shuttlesworth International Airport<br>To: McCarran International Airport<br>Avg. Delay: -2.85 mins\", \"type\": \"scattergeo\"}, {\"lat\": [33.562940000000005, 28.428890000000003], \"line\": {\"color\": \"#4682B4\", \"width\": 1}, \"locationmode\": \"USA-states\", \"lon\": [-86.75355, -81.31603], \"mode\": \"lines\", \"opacity\": 0.28856853818917555, \"text\": \"From: Birmingham-Shuttlesworth International Airport<br>To: Orlando International Airport<br>Avg. Delay: 8.65 mins\", \"type\": \"scattergeo\"}, {\"lat\": [33.562940000000005, 41.78598], \"line\": {\"color\": \"#4682B4\", \"width\": 1}, \"locationmode\": \"USA-states\", \"lon\": [-86.75355, -87.75242], \"mode\": \"lines\", \"opacity\": 0.14886363636363636, \"text\": \"From: Birmingham-Shuttlesworth International Airport<br>To: Chicago Midway International Airport<br>Avg. Delay: 4.46 mins\", \"type\": \"scattergeo\"}, {\"lat\": [33.562940000000005, 27.97547], \"line\": {\"color\": \"#4682B4\", \"width\": 1}, \"locationmode\": \"USA-states\", \"lon\": [-86.75355, -82.53325], \"mode\": \"lines\", \"opacity\": 0.11607905982905982, \"text\": \"From: Birmingham-Shuttlesworth International Airport<br>To: Tampa International Airport<br>Avg. Delay: 3.48 mins\", \"type\": \"scattergeo\"}, {\"lat\": [36.12448, 30.19453], \"line\": {\"color\": \"#4682B4\", \"width\": 1}, \"locationmode\": \"USA-states\", \"lon\": [-86.67818, -97.66986999999999], \"mode\": \"lines\", \"opacity\": 0.15299564270152505, \"text\": \"From: Nashville International Airport<br>To: Austin-Bergstrom International Airport<br>Avg. Delay: 4.58 mins\", \"type\": \"scattergeo\"}, {\"lat\": [36.12448, 42.36435], \"line\": {\"color\": \"#4682B4\", \"width\": 1}, \"locationmode\": \"USA-states\", \"lon\": [-86.67818, -71.00518000000001], \"mode\": \"lines\", \"opacity\": 0.2450079239302694, \"text\": \"From: Nashville International Airport<br>To: Gen. Edward Lawrence Logan International Airport<br>Avg. Delay: 7.35 mins\", \"type\": \"scattergeo\"}, {\"lat\": [36.12448, 39.1754], \"line\": {\"color\": \"#4682B4\", \"width\": 1}, \"locationmode\": \"USA-states\", \"lon\": [-86.67818, -76.6682], \"mode\": \"lines\", \"opacity\": 0.23362718089990817, \"text\": \"From: Nashville International Airport<br>To: Baltimore-Washington International Airport<br>Avg. Delay: 7.0 mins\", \"type\": \"scattergeo\"}, {\"lat\": [36.12448, 32.89865], \"line\": {\"color\": \"#4682B4\", \"width\": 1}, \"locationmode\": \"USA-states\", \"lon\": [-86.67818, -80.04051], \"mode\": \"lines\", \"opacity\": 0.1440891472868217, \"text\": \"From: Nashville International Airport<br>To: Charleston International Airport/Charleston AFB<br>Avg. Delay: 4.32 mins\", \"type\": \"scattergeo\"}, {\"lat\": [36.12448, 41.41089], \"line\": {\"color\": \"#4682B4\", \"width\": 1}, \"locationmode\": \"USA-states\", \"lon\": [-86.67818, -81.8494], \"mode\": \"lines\", \"opacity\": 0.11484308736217133, \"text\": \"From: Nashville International Airport<br>To: Cleveland Hopkins International Airport<br>Avg. Delay: 3.44 mins\", \"type\": \"scattergeo\"}, {\"lat\": [36.12448, 39.99799], \"line\": {\"color\": \"#4682B4\", \"width\": 1}, \"locationmode\": \"USA-states\", \"lon\": [-86.67818, -82.89188], \"mode\": \"lines\", \"opacity\": 0.27533016376122554, \"text\": \"From: Nashville International Airport<br>To: Port Columbus International Airport<br>Avg. Delay: 8.25 mins\", \"type\": \"scattergeo\"}, {\"lat\": [36.12448, 32.84711], \"line\": {\"color\": \"#4682B4\", \"width\": 1}, \"locationmode\": \"USA-states\", \"lon\": [-86.67818, -96.85177], \"mode\": \"lines\", \"opacity\": 0, \"text\": \"From: Nashville International Airport<br>To: Dallas Love Field<br>Avg. Delay: -0.24 mins\", \"type\": \"scattergeo\"}, {\"lat\": [36.12448, 38.85208], \"line\": {\"color\": \"#4682B4\", \"width\": 1}, \"locationmode\": \"USA-states\", \"lon\": [-86.67818, -77.03772], \"mode\": \"lines\", \"opacity\": 0, \"text\": \"From: Nashville International Airport<br>To: Ronald Reagan Washington National Airport<br>Avg. Delay: -3.74 mins\", \"type\": \"scattergeo\"}, {\"lat\": [36.12448, 39.85841], \"line\": {\"color\": \"#4682B4\", \"width\": 1}, \"locationmode\": \"USA-states\", \"lon\": [-86.67818, -104.667], \"mode\": \"lines\", \"opacity\": 0, \"text\": \"From: Nashville International Airport<br>To: Denver International Airport<br>Avg. Delay: -0.82 mins\", \"type\": \"scattergeo\"}, {\"lat\": [36.12448, 42.21206], \"line\": {\"color\": \"#4682B4\", \"width\": 1}, \"locationmode\": \"USA-states\", \"lon\": [-86.67818, -83.34884], \"mode\": \"lines\", \"opacity\": 0.09597244303126656, \"text\": \"From: Nashville International Airport<br>To: Detroit Metropolitan Airport<br>Avg. Delay: 2.87 mins\", \"type\": \"scattergeo\"}, {\"lat\": [36.12448, null], \"line\": {\"color\": \"#4682B4\", \"width\": 1}, \"locationmode\": \"USA-states\", \"lon\": [-86.67818, null], \"mode\": \"lines\", \"opacity\": 0.14536723163841808, \"text\": \"From: Nashville International Airport<br>To: Northwest Florida Beaches International Airport<br>Avg. Delay: 4.36 mins\", \"type\": \"scattergeo\"}, {\"lat\": [36.12448, 40.6925], \"line\": {\"color\": \"#4682B4\", \"width\": 1}, \"locationmode\": \"USA-states\", \"lon\": [-86.67818, -74.16866], \"mode\": \"lines\", \"opacity\": 0.26907968574635244, \"text\": \"From: Nashville International Airport<br>To: Newark Liberty International Airport<br>Avg. Delay: 8.07 mins\", \"type\": \"scattergeo\"}, {\"lat\": [36.12448, 26.07258], \"line\": {\"color\": \"#4682B4\", \"width\": 1}, \"locationmode\": \"USA-states\", \"lon\": [-86.67818, -80.15275], \"mode\": \"lines\", \"opacity\": 0.13898231996550237, \"text\": \"From: Nashville International Airport<br>To: Fort Lauderdale-Hollywood International Airport<br>Avg. Delay: 4.16 mins\", \"type\": \"scattergeo\"}, {\"lat\": [36.12448, 29.64542], \"line\": {\"color\": \"#4682B4\", \"width\": 1}, \"locationmode\": \"USA-states\", \"lon\": [-86.67818, -95.27889], \"mode\": \"lines\", \"opacity\": 0.13770172509738454, \"text\": \"From: Nashville International Airport<br>To: William P. Hobby Airport<br>Avg. Delay: 4.13 mins\", \"type\": \"scattergeo\"}, {\"lat\": [36.12448, 30.494059999999998], \"line\": {\"color\": \"#4682B4\", \"width\": 1}, \"locationmode\": \"USA-states\", \"lon\": [-86.67818, -81.68786], \"mode\": \"lines\", \"opacity\": 0.20956651718983557, \"text\": \"From: Nashville International Airport<br>To: Jacksonville International Airport<br>Avg. Delay: 6.28 mins\", \"type\": \"scattergeo\"}, {\"lat\": [36.12448, 36.08036], \"line\": {\"color\": \"#4682B4\", \"width\": 1}, \"locationmode\": \"USA-states\", \"lon\": [-86.67818, -115.15233], \"mode\": \"lines\", \"opacity\": 0, \"text\": \"From: Nashville International Airport<br>To: McCarran International Airport<br>Avg. Delay: -6.9 mins\", \"type\": \"scattergeo\"}, {\"lat\": [36.12448, 33.94254], \"line\": {\"color\": \"#4682B4\", \"width\": 1}, \"locationmode\": \"USA-states\", \"lon\": [-86.67818, -118.40807], \"mode\": \"lines\", \"opacity\": 0, \"text\": \"From: Nashville International Airport<br>To: Los Angeles International Airport<br>Avg. Delay: -0.39 mins\", \"type\": \"scattergeo\"}, {\"lat\": [36.12448, 40.77724], \"line\": {\"color\": \"#4682B4\", \"width\": 1}, \"locationmode\": \"USA-states\", \"lon\": [-86.67818, -73.87261], \"mode\": \"lines\", \"opacity\": 0.26431054461181924, \"text\": \"From: Nashville International Airport<br>To: LaGuardia Airport (Marine Air Terminal)<br>Avg. Delay: 7.92 mins\", \"type\": \"scattergeo\"}, {\"lat\": [36.12448, 39.29761], \"line\": {\"color\": \"#4682B4\", \"width\": 1}, \"locationmode\": \"USA-states\", \"lon\": [-86.67818, -94.71391], \"mode\": \"lines\", \"opacity\": 0.15146966854283928, \"text\": \"From: Nashville International Airport<br>To: Kansas City International Airport<br>Avg. Delay: 4.54 mins\", \"type\": \"scattergeo\"}, {\"lat\": [36.12448, 28.428890000000003], \"line\": {\"color\": \"#4682B4\", \"width\": 1}, \"locationmode\": \"USA-states\", \"lon\": [-86.67818, -81.31603], \"mode\": \"lines\", \"opacity\": 0.20493915533285614, \"text\": \"From: Nashville International Airport<br>To: Orlando International Airport<br>Avg. Delay: 6.14 mins\", \"type\": \"scattergeo\"}, {\"lat\": [36.12448, 41.78598], \"line\": {\"color\": \"#4682B4\", \"width\": 1}, \"locationmode\": \"USA-states\", \"lon\": [-86.67818, -87.75242], \"mode\": \"lines\", \"opacity\": 0.19604406609914873, \"text\": \"From: Nashville International Airport<br>To: Chicago Midway International Airport<br>Avg. Delay: 5.88 mins\", \"type\": \"scattergeo\"}, {\"lat\": [36.12448, 29.99339], \"line\": {\"color\": \"#4682B4\", \"width\": 1}, \"locationmode\": \"USA-states\", \"lon\": [-86.67818, -90.25803], \"mode\": \"lines\", \"opacity\": 0.04531505060398302, \"text\": \"From: Nashville International Airport<br>To: Louis Armstrong New Orleans International Airport<br>Avg. Delay: 1.35 mins\", \"type\": \"scattergeo\"}, {\"lat\": [36.12448, 37.72129], \"line\": {\"color\": \"#4682B4\", \"width\": 1}, \"locationmode\": \"USA-states\", \"lon\": [-86.67818, -122.22072], \"mode\": \"lines\", \"opacity\": 0, \"text\": \"From: Nashville International Airport<br>To: Oakland International Airport<br>Avg. Delay: -0.07 mins\", \"type\": \"scattergeo\"}, {\"lat\": [36.12448, 39.87195], \"line\": {\"color\": \"#4682B4\", \"width\": 1}, \"locationmode\": \"USA-states\", \"lon\": [-86.67818, -75.24114], \"mode\": \"lines\", \"opacity\": 0.3690631808278867, \"text\": \"From: Nashville International Airport<br>To: Philadelphia International Airport<br>Avg. Delay: 11.07 mins\", \"type\": \"scattergeo\"}, {\"lat\": [36.12448, 33.43417], \"line\": {\"color\": \"#4682B4\", \"width\": 1}, \"locationmode\": \"USA-states\", \"lon\": [-86.67818, -112.00806000000001], \"mode\": \"lines\", \"opacity\": 0, \"text\": \"From: Nashville International Airport<br>To: Phoenix Sky Harbor International Airport<br>Avg. Delay: -1.96 mins\", \"type\": \"scattergeo\"}, {\"lat\": [36.12448, 40.49147], \"line\": {\"color\": \"#4682B4\", \"width\": 1}, \"locationmode\": \"USA-states\", \"lon\": [-86.67818, -80.23286999999999], \"mode\": \"lines\", \"opacity\": 0.3132725430597771, \"text\": \"From: Nashville International Airport<br>To: Pittsburgh International Airport<br>Avg. Delay: 9.39 mins\", \"type\": \"scattergeo\"}, {\"lat\": [36.12448, 30.473309999999998], \"line\": {\"color\": \"#4682B4\", \"width\": 1}, \"locationmode\": \"USA-states\", \"lon\": [-86.67818, -87.18744000000001], \"mode\": \"lines\", \"opacity\": 0.20657672849915681, \"text\": \"From: Nashville International Airport<br>To: Pensacola International Airport\\u00a0(Pensacola Gulf Coast Regional Airport)<br>Avg. Delay: 6.19 mins\", \"type\": \"scattergeo\"}, {\"lat\": [36.12448, 35.87764], \"line\": {\"color\": \"#4682B4\", \"width\": 1}, \"locationmode\": \"USA-states\", \"lon\": [-86.67818, -78.78747], \"mode\": \"lines\", \"opacity\": 0.1297168201978847, \"text\": \"From: Nashville International Airport<br>To: Raleigh-Durham International Airport<br>Avg. Delay: 3.89 mins\", \"type\": \"scattergeo\"}, {\"lat\": [36.12448, 26.536170000000002], \"line\": {\"color\": \"#4682B4\", \"width\": 1}, \"locationmode\": \"USA-states\", \"lon\": [-86.67818, -81.75516999999999], \"mode\": \"lines\", \"opacity\": 0, \"text\": \"From: Nashville International Airport<br>To: Southwest Florida International Airport<br>Avg. Delay: -1.39 mins\", \"type\": \"scattergeo\"}, {\"lat\": [36.12448, 32.73356], \"line\": {\"color\": \"#4682B4\", \"width\": 1}, \"locationmode\": \"USA-states\", \"lon\": [-86.67818, -117.18966], \"mode\": \"lines\", \"opacity\": 0, \"text\": \"From: Nashville International Airport<br>To: San Diego International Airport\\u00a0(Lindbergh Field)<br>Avg. Delay: -1.54 mins\", \"type\": \"scattergeo\"}, {\"lat\": [36.12448, 29.533690000000004], \"line\": {\"color\": \"#4682B4\", \"width\": 1}, \"locationmode\": \"USA-states\", \"lon\": [-86.67818, -98.46978], \"mode\": \"lines\", \"opacity\": 0, \"text\": \"From: Nashville International Airport<br>To: San Antonio International Airport<br>Avg. Delay: -3.34 mins\", \"type\": \"scattergeo\"}, {\"lat\": [36.12448, 47.44898], \"line\": {\"color\": \"#4682B4\", \"width\": 1}, \"locationmode\": \"USA-states\", \"lon\": [-86.67818, -122.30931000000001], \"mode\": \"lines\", \"opacity\": 0, \"text\": \"From: Nashville International Airport<br>To: Seattle-Tacoma International Airport<br>Avg. Delay: -2.29 mins\", \"type\": \"scattergeo\"}, {\"lat\": [36.12448, 38.747690000000006], \"line\": {\"color\": \"#4682B4\", \"width\": 1}, \"locationmode\": \"USA-states\", \"lon\": [-86.67818, -90.35999], \"mode\": \"lines\", \"opacity\": 0.17731182795698924, \"text\": \"From: Nashville International Airport<br>To: St. Louis International Airport at Lambert Field<br>Avg. Delay: 5.31 mins\", \"type\": \"scattergeo\"}, {\"lat\": [36.12448, 27.97547], \"line\": {\"color\": \"#4682B4\", \"width\": 1}, \"locationmode\": \"USA-states\", \"lon\": [-86.67818, -82.53325], \"mode\": \"lines\", \"opacity\": 0.2978387364921031, \"text\": \"From: Nashville International Airport<br>To: Tampa International Airport<br>Avg. Delay: 8.93 mins\", \"type\": \"scattergeo\"}, {\"lat\": [43.564440000000005, 39.85841], \"line\": {\"color\": \"#4682B4\", \"width\": 1}, \"locationmode\": \"USA-states\", \"lon\": [-116.22278, -104.667], \"mode\": \"lines\", \"opacity\": 0.05711318795430945, \"text\": \"From: Boise Airport\\u00a0(Boise Air Terminal)<br>To: Denver International Airport<br>Avg. Delay: 1.71 mins\", \"type\": \"scattergeo\"}, {\"lat\": [43.564440000000005, 47.619859999999996], \"line\": {\"color\": \"#4682B4\", \"width\": 1}, \"locationmode\": \"USA-states\", \"lon\": [-116.22278, -117.53383999999998], \"mode\": \"lines\", \"opacity\": 0.22457337883959044, \"text\": \"From: Boise Airport\\u00a0(Boise Air Terminal)<br>To: Spokane International Airport<br>Avg. Delay: 6.73 mins\", \"type\": \"scattergeo\"}, {\"lat\": [43.564440000000005, 36.08036], \"line\": {\"color\": \"#4682B4\", \"width\": 1}, \"locationmode\": \"USA-states\", \"lon\": [-116.22278, -115.15233], \"mode\": \"lines\", \"opacity\": 0.3201335387776066, \"text\": \"From: Boise Airport\\u00a0(Boise Air Terminal)<br>To: McCarran International Airport<br>Avg. Delay: 9.6 mins\", \"type\": \"scattergeo\"}, {\"lat\": [43.564440000000005, 41.78598], \"line\": {\"color\": \"#4682B4\", \"width\": 1}, \"locationmode\": \"USA-states\", \"lon\": [-116.22278, -87.75242], \"mode\": \"lines\", \"opacity\": 0.3180327868852459, \"text\": \"From: Boise Airport\\u00a0(Boise Air Terminal)<br>To: Chicago Midway International Airport<br>Avg. Delay: 9.54 mins\", \"type\": \"scattergeo\"}, {\"lat\": [43.564440000000005, 37.72129], \"line\": {\"color\": \"#4682B4\", \"width\": 1}, \"locationmode\": \"USA-states\", \"lon\": [-116.22278, -122.22072], \"mode\": \"lines\", \"opacity\": 0, \"text\": \"From: Boise Airport\\u00a0(Boise Air Terminal)<br>To: Oakland International Airport<br>Avg. Delay: -1.13 mins\", \"type\": \"scattergeo\"}, {\"lat\": [43.564440000000005, 33.43417], \"line\": {\"color\": \"#4682B4\", \"width\": 1}, \"locationmode\": \"USA-states\", \"lon\": [-116.22278, -112.00806000000001], \"mode\": \"lines\", \"opacity\": 0, \"text\": \"From: Boise Airport\\u00a0(Boise Air Terminal)<br>To: Phoenix Sky Harbor International Airport<br>Avg. Delay: -0.27 mins\", \"type\": \"scattergeo\"}, {\"lat\": [42.36435, 33.640440000000005], \"line\": {\"color\": \"#4682B4\", \"width\": 1}, \"locationmode\": \"USA-states\", \"lon\": [-71.00518000000001, -84.42694], \"mode\": \"lines\", \"opacity\": 0.24194236926360724, \"text\": \"From: Gen. Edward Lawrence Logan International Airport<br>To: Hartsfield-Jackson Atlanta International Airport<br>Avg. Delay: 7.25 mins\", \"type\": \"scattergeo\"}, {\"lat\": [42.36435, 30.19453], \"line\": {\"color\": \"#4682B4\", \"width\": 1}, \"locationmode\": \"USA-states\", \"lon\": [-71.00518000000001, -97.66986999999999], \"mode\": \"lines\", \"opacity\": 0, \"text\": \"From: Gen. Edward Lawrence Logan International Airport<br>To: Austin-Bergstrom International Airport<br>Avg. Delay: -3.95 mins\", \"type\": \"scattergeo\"}, {\"lat\": [42.36435, 36.12448], \"line\": {\"color\": \"#4682B4\", \"width\": 1}, \"locationmode\": \"USA-states\", \"lon\": [-71.00518000000001, -86.67818], \"mode\": \"lines\", \"opacity\": 0.008225806451612904, \"text\": \"From: Gen. Edward Lawrence Logan International Airport<br>To: Nashville International Airport<br>Avg. Delay: 0.24 mins\", \"type\": \"scattergeo\"}, {\"lat\": [42.36435, 39.1754], \"line\": {\"color\": \"#4682B4\", \"width\": 1}, \"locationmode\": \"USA-states\", \"lon\": [-71.00518000000001, -76.6682], \"mode\": \"lines\", \"opacity\": 0.1561107029145236, \"text\": \"From: Gen. Edward Lawrence Logan International Airport<br>To: Baltimore-Washington International Airport<br>Avg. Delay: 4.68 mins\", \"type\": \"scattergeo\"}, {\"lat\": [42.36435, 40.916309999999996], \"line\": {\"color\": \"#4682B4\", \"width\": 1}, \"locationmode\": \"USA-states\", \"lon\": [-71.00518000000001, -81.44247], \"mode\": \"lines\", \"opacity\": 0.7433447098976109, \"text\": \"From: Gen. Edward Lawrence Logan International Airport<br>To: Akron-Canton Regional Airport<br>Avg. Delay: 22.3 mins\", \"type\": \"scattergeo\"}, {\"lat\": [42.36435, 39.99799], \"line\": {\"color\": \"#4682B4\", \"width\": 1}, \"locationmode\": \"USA-states\", \"lon\": [-71.00518000000001, -82.89188], \"mode\": \"lines\", \"opacity\": 0, \"text\": \"From: Gen. Edward Lawrence Logan International Airport<br>To: Port Columbus International Airport<br>Avg. Delay: -7.7 mins\", \"type\": \"scattergeo\"}, {\"lat\": [42.36435, 32.84711], \"line\": {\"color\": \"#4682B4\", \"width\": 1}, \"locationmode\": \"USA-states\", \"lon\": [-71.00518000000001, -96.85177], \"mode\": \"lines\", \"opacity\": 0, \"text\": \"From: Gen. Edward Lawrence Logan International Airport<br>To: Dallas Love Field<br>Avg. Delay: -14.02 mins\", \"type\": \"scattergeo\"}, {\"lat\": [42.36435, 39.85841], \"line\": {\"color\": \"#4682B4\", \"width\": 1}, \"locationmode\": \"USA-states\", \"lon\": [-71.00518000000001, -104.667], \"mode\": \"lines\", \"opacity\": 0, \"text\": \"From: Gen. Edward Lawrence Logan International Airport<br>To: Denver International Airport<br>Avg. Delay: -1.98 mins\", \"type\": \"scattergeo\"}, {\"lat\": [42.36435, 29.64542], \"line\": {\"color\": \"#4682B4\", \"width\": 1}, \"locationmode\": \"USA-states\", \"lon\": [-71.00518000000001, -95.27889], \"mode\": \"lines\", \"opacity\": 0, \"text\": \"From: Gen. Edward Lawrence Logan International Airport<br>To: William P. Hobby Airport<br>Avg. Delay: -0.57 mins\", \"type\": \"scattergeo\"}, {\"lat\": [42.36435, 39.71733], \"line\": {\"color\": \"#4682B4\", \"width\": 1}, \"locationmode\": \"USA-states\", \"lon\": [-71.00518000000001, -86.29438], \"mode\": \"lines\", \"opacity\": 0, \"text\": \"From: Gen. Edward Lawrence Logan International Airport<br>To: Indianapolis International Airport<br>Avg. Delay: -4.27 mins\", \"type\": \"scattergeo\"}, {\"lat\": [42.36435, 39.29761], \"line\": {\"color\": \"#4682B4\", \"width\": 1}, \"locationmode\": \"USA-states\", \"lon\": [-71.00518000000001, -94.71391], \"mode\": \"lines\", \"opacity\": 0, \"text\": \"From: Gen. Edward Lawrence Logan International Airport<br>To: Kansas City International Airport<br>Avg. Delay: -2.15 mins\", \"type\": \"scattergeo\"}, {\"lat\": [42.36435, 28.428890000000003], \"line\": {\"color\": \"#4682B4\", \"width\": 1}, \"locationmode\": \"USA-states\", \"lon\": [-71.00518000000001, -81.31603], \"mode\": \"lines\", \"opacity\": 0.9196969696969697, \"text\": \"From: Gen. Edward Lawrence Logan International Airport<br>To: Orlando International Airport<br>Avg. Delay: 27.59 mins\", \"type\": \"scattergeo\"}, {\"lat\": [42.36435, 41.78598], \"line\": {\"color\": \"#4682B4\", \"width\": 1}, \"locationmode\": \"USA-states\", \"lon\": [-71.00518000000001, -87.75242], \"mode\": \"lines\", \"opacity\": 0.13348192174343734, \"text\": \"From: Gen. Edward Lawrence Logan International Airport<br>To: Chicago Midway International Airport<br>Avg. Delay: 4.0 mins\", \"type\": \"scattergeo\"}, {\"lat\": [42.36435, 42.94722], \"line\": {\"color\": \"#4682B4\", \"width\": 1}, \"locationmode\": \"USA-states\", \"lon\": [-71.00518000000001, -87.89658], \"mode\": \"lines\", \"opacity\": 0.17728310502283104, \"text\": \"From: Gen. Edward Lawrence Logan International Airport<br>To: General Mitchell International Airport<br>Avg. Delay: 5.31 mins\", \"type\": \"scattergeo\"}, {\"lat\": [42.36435, 33.43417], \"line\": {\"color\": \"#4682B4\", \"width\": 1}, \"locationmode\": \"USA-states\", \"lon\": [-71.00518000000001, -112.00806000000001], \"mode\": \"lines\", \"opacity\": 0, \"text\": \"From: Gen. Edward Lawrence Logan International Airport<br>To: Phoenix Sky Harbor International Airport<br>Avg. Delay: -18.5 mins\", \"type\": \"scattergeo\"}, {\"lat\": [42.36435, 26.536170000000002], \"line\": {\"color\": \"#4682B4\", \"width\": 1}, \"locationmode\": \"USA-states\", \"lon\": [-71.00518000000001, -81.75516999999999], \"mode\": \"lines\", \"opacity\": 0, \"text\": \"From: Gen. Edward Lawrence Logan International Airport<br>To: Southwest Florida International Airport<br>Avg. Delay: -6.4 mins\", \"type\": \"scattergeo\"}, {\"lat\": [42.36435, 38.747690000000006], \"line\": {\"color\": \"#4682B4\", \"width\": 1}, \"locationmode\": \"USA-states\", \"lon\": [-71.00518000000001, -90.35999], \"mode\": \"lines\", \"opacity\": 0.15030674846625766, \"text\": \"From: Gen. Edward Lawrence Logan International Airport<br>To: St. Louis International Airport at Lambert Field<br>Avg. Delay: 4.5 mins\", \"type\": \"scattergeo\"}, {\"lat\": [42.94052, 39.1754], \"line\": {\"color\": \"#4682B4\", \"width\": 1}, \"locationmode\": \"USA-states\", \"lon\": [-78.73217, -76.6682], \"mode\": \"lines\", \"opacity\": 0.10018885741265345, \"text\": \"From: Buffalo Niagara International Airport<br>To: Baltimore-Washington International Airport<br>Avg. Delay: 3.0 mins\", \"type\": \"scattergeo\"}, {\"lat\": [42.94052, 26.07258], \"line\": {\"color\": \"#4682B4\", \"width\": 1}, \"locationmode\": \"USA-states\", \"lon\": [-78.73217, -80.15275], \"mode\": \"lines\", \"opacity\": 0, \"text\": \"From: Buffalo Niagara International Airport<br>To: Fort Lauderdale-Hollywood International Airport<br>Avg. Delay: -4.71 mins\", \"type\": \"scattergeo\"}, {\"lat\": [42.94052, 36.08036], \"line\": {\"color\": \"#4682B4\", \"width\": 1}, \"locationmode\": \"USA-states\", \"lon\": [-78.73217, -115.15233], \"mode\": \"lines\", \"opacity\": 0, \"text\": \"From: Buffalo Niagara International Airport<br>To: McCarran International Airport<br>Avg. Delay: -7.36 mins\", \"type\": \"scattergeo\"}, {\"lat\": [42.94052, 28.428890000000003], \"line\": {\"color\": \"#4682B4\", \"width\": 1}, \"locationmode\": \"USA-states\", \"lon\": [-78.73217, -81.31603], \"mode\": \"lines\", \"opacity\": 0, \"text\": \"From: Buffalo Niagara International Airport<br>To: Orlando International Airport<br>Avg. Delay: -1.7 mins\", \"type\": \"scattergeo\"}, {\"lat\": [42.94052, 41.78598], \"line\": {\"color\": \"#4682B4\", \"width\": 1}, \"locationmode\": \"USA-states\", \"lon\": [-78.73217, -87.75242], \"mode\": \"lines\", \"opacity\": 0.0899928774928775, \"text\": \"From: Buffalo Niagara International Airport<br>To: Chicago Midway International Airport<br>Avg. Delay: 2.69 mins\", \"type\": \"scattergeo\"}, {\"lat\": [42.94052, 33.43417], \"line\": {\"color\": \"#4682B4\", \"width\": 1}, \"locationmode\": \"USA-states\", \"lon\": [-78.73217, -112.00806000000001], \"mode\": \"lines\", \"opacity\": 0, \"text\": \"From: Buffalo Niagara International Airport<br>To: Phoenix Sky Harbor International Airport<br>Avg. Delay: -8.93 mins\", \"type\": \"scattergeo\"}, {\"lat\": [42.94052, 26.536170000000002], \"line\": {\"color\": \"#4682B4\", \"width\": 1}, \"locationmode\": \"USA-states\", \"lon\": [-78.73217, -81.75516999999999], \"mode\": \"lines\", \"opacity\": 0, \"text\": \"From: Buffalo Niagara International Airport<br>To: Southwest Florida International Airport<br>Avg. Delay: -3.76 mins\", \"type\": \"scattergeo\"}, {\"lat\": [42.94052, 27.97547], \"line\": {\"color\": \"#4682B4\", \"width\": 1}, \"locationmode\": \"USA-states\", \"lon\": [-78.73217, -82.53325], \"mode\": \"lines\", \"opacity\": 0, \"text\": \"From: Buffalo Niagara International Airport<br>To: Tampa International Airport<br>Avg. Delay: -6.76 mins\", \"type\": \"scattergeo\"}, {\"lat\": [34.20062, 39.85841], \"line\": {\"color\": \"#4682B4\", \"width\": 1}, \"locationmode\": \"USA-states\", \"lon\": [-118.3585, -104.667], \"mode\": \"lines\", \"opacity\": 0.03262757871878393, \"text\": \"From: Bob Hope Airport\\u00a0(Hollywood Burbank Airport)<br>To: Denver International Airport<br>Avg. Delay: 0.97 mins\", \"type\": \"scattergeo\"}, {\"lat\": [34.20062, 36.08036], \"line\": {\"color\": \"#4682B4\", \"width\": 1}, \"locationmode\": \"USA-states\", \"lon\": [-118.3585, -115.15233], \"mode\": \"lines\", \"opacity\": 0.13686183702723564, \"text\": \"From: Bob Hope Airport\\u00a0(Hollywood Burbank Airport)<br>To: McCarran International Airport<br>Avg. Delay: 4.1 mins\", \"type\": \"scattergeo\"}, {\"lat\": [34.20062, 37.72129], \"line\": {\"color\": \"#4682B4\", \"width\": 1}, \"locationmode\": \"USA-states\", \"lon\": [-118.3585, -122.22072], \"mode\": \"lines\", \"opacity\": 0.1409888796985571, \"text\": \"From: Bob Hope Airport\\u00a0(Hollywood Burbank Airport)<br>To: Oakland International Airport<br>Avg. Delay: 4.22 mins\", \"type\": \"scattergeo\"}, {\"lat\": [34.20062, 33.43417], \"line\": {\"color\": \"#4682B4\", \"width\": 1}, \"locationmode\": \"USA-states\", \"lon\": [-118.3585, -112.00806000000001], \"mode\": \"lines\", \"opacity\": 0.07773571299801695, \"text\": \"From: Bob Hope Airport\\u00a0(Hollywood Burbank Airport)<br>To: Phoenix Sky Harbor International Airport<br>Avg. Delay: 2.33 mins\", \"type\": \"scattergeo\"}, {\"lat\": [34.20062, 37.36186], \"line\": {\"color\": \"#4682B4\", \"width\": 1}, \"locationmode\": \"USA-states\", \"lon\": [-118.3585, -121.92901], \"mode\": \"lines\", \"opacity\": 0.08285806347671983, \"text\": \"From: Bob Hope Airport\\u00a0(Hollywood Burbank Airport)<br>To: Norman Y. Mineta San Jos\\u00e9 International Airport<br>Avg. Delay: 2.48 mins\", \"type\": \"scattergeo\"}, {\"lat\": [34.20062, 38.69542], \"line\": {\"color\": \"#4682B4\", \"width\": 1}, \"locationmode\": \"USA-states\", \"lon\": [-118.3585, -121.59076999999999], \"mode\": \"lines\", \"opacity\": 0.08490990990990992, \"text\": \"From: Bob Hope Airport\\u00a0(Hollywood Burbank Airport)<br>To: Sacramento International Airport<br>Avg. Delay: 2.54 mins\", \"type\": \"scattergeo\"}, {\"lat\": [39.1754, 35.04022], \"line\": {\"color\": \"#4682B4\", \"width\": 1}, \"locationmode\": \"USA-states\", \"lon\": [-76.6682, -106.60918999999998], \"mode\": \"lines\", \"opacity\": 0.07473544973544974, \"text\": \"From: Baltimore-Washington International Airport<br>To: Albuquerque International Sunport<br>Avg. Delay: 2.24 mins\", \"type\": \"scattergeo\"}, {\"lat\": [39.1754, 42.74812], \"line\": {\"color\": \"#4682B4\", \"width\": 1}, \"locationmode\": \"USA-states\", \"lon\": [-76.6682, -73.80298], \"mode\": \"lines\", \"opacity\": 0.3215532811559302, \"text\": \"From: Baltimore-Washington International Airport<br>To: Albany International Airport<br>Avg. Delay: 9.64 mins\", \"type\": \"scattergeo\"}, {\"lat\": [39.1754, 33.640440000000005], \"line\": {\"color\": \"#4682B4\", \"width\": 1}, \"locationmode\": \"USA-states\", \"lon\": [-76.6682, -84.42694], \"mode\": \"lines\", \"opacity\": 0.25766302548824893, \"text\": \"From: Baltimore-Washington International Airport<br>To: Hartsfield-Jackson Atlanta International Airport<br>Avg. Delay: 7.72 mins\", \"type\": \"scattergeo\"}, {\"lat\": [39.1754, 30.19453], \"line\": {\"color\": \"#4682B4\", \"width\": 1}, \"locationmode\": \"USA-states\", \"lon\": [-76.6682, -97.66986999999999], \"mode\": \"lines\", \"opacity\": 0.1081852450188476, \"text\": \"From: Baltimore-Washington International Airport<br>To: Austin-Bergstrom International Airport<br>Avg. Delay: 3.24 mins\", \"type\": \"scattergeo\"}, {\"lat\": [39.1754, 41.93887], \"line\": {\"color\": \"#4682B4\", \"width\": 1}, \"locationmode\": \"USA-states\", \"lon\": [-76.6682, -72.68323000000001], \"mode\": \"lines\", \"opacity\": 0.4291842146311028, \"text\": \"From: Baltimore-Washington International Airport<br>To: Bradley International Airport<br>Avg. Delay: 12.87 mins\", \"type\": \"scattergeo\"}, {\"lat\": [39.1754, 33.562940000000005], \"line\": {\"color\": \"#4682B4\", \"width\": 1}, \"locationmode\": \"USA-states\", \"lon\": [-76.6682, -86.75355], \"mode\": \"lines\", \"opacity\": 0.161139896373057, \"text\": \"From: Baltimore-Washington International Airport<br>To: Birmingham-Shuttlesworth International Airport<br>Avg. Delay: 4.83 mins\", \"type\": \"scattergeo\"}, {\"lat\": [39.1754, 36.12448], \"line\": {\"color\": \"#4682B4\", \"width\": 1}, \"locationmode\": \"USA-states\", \"lon\": [-76.6682, -86.67818], \"mode\": \"lines\", \"opacity\": 0.2604824084149438, \"text\": \"From: Baltimore-Washington International Airport<br>To: Nashville International Airport<br>Avg. Delay: 7.81 mins\", \"type\": \"scattergeo\"}, {\"lat\": [39.1754, 42.36435], \"line\": {\"color\": \"#4682B4\", \"width\": 1}, \"locationmode\": \"USA-states\", \"lon\": [-76.6682, -71.00518000000001], \"mode\": \"lines\", \"opacity\": 0.47359931042975006, \"text\": \"From: Baltimore-Washington International Airport<br>To: Gen. Edward Lawrence Logan International Airport<br>Avg. Delay: 14.2 mins\", \"type\": \"scattergeo\"}, {\"lat\": [39.1754, 42.94052], \"line\": {\"color\": \"#4682B4\", \"width\": 1}, \"locationmode\": \"USA-states\", \"lon\": [-76.6682, -78.73217], \"mode\": \"lines\", \"opacity\": 0.3741978104945262, \"text\": \"From: Baltimore-Washington International Airport<br>To: Buffalo Niagara International Airport<br>Avg. Delay: 11.22 mins\", \"type\": \"scattergeo\"}, {\"lat\": [39.1754, 32.89865], \"line\": {\"color\": \"#4682B4\", \"width\": 1}, \"locationmode\": \"USA-states\", \"lon\": [-76.6682, -80.04051], \"mode\": \"lines\", \"opacity\": 0.3044955044955045, \"text\": \"From: Baltimore-Washington International Airport<br>To: Charleston International Airport/Charleston AFB<br>Avg. Delay: 9.13 mins\", \"type\": \"scattergeo\"}, {\"lat\": [39.1754, 41.41089], \"line\": {\"color\": \"#4682B4\", \"width\": 1}, \"locationmode\": \"USA-states\", \"lon\": [-76.6682, -81.8494], \"mode\": \"lines\", \"opacity\": 0.28846263142938333, \"text\": \"From: Baltimore-Washington International Airport<br>To: Cleveland Hopkins International Airport<br>Avg. Delay: 8.65 mins\", \"type\": \"scattergeo\"}, {\"lat\": [39.1754, 35.214009999999995], \"line\": {\"color\": \"#4682B4\", \"width\": 1}, \"locationmode\": \"USA-states\", \"lon\": [-76.6682, -80.94313000000001], \"mode\": \"lines\", \"opacity\": 0.4781591263650546, \"text\": \"From: Baltimore-Washington International Airport<br>To: Charlotte Douglas International Airport<br>Avg. Delay: 14.34 mins\", \"type\": \"scattergeo\"}, {\"lat\": [39.1754, 39.99799], \"line\": {\"color\": \"#4682B4\", \"width\": 1}, \"locationmode\": \"USA-states\", \"lon\": [-76.6682, -82.89188], \"mode\": \"lines\", \"opacity\": 0.26515042117930204, \"text\": \"From: Baltimore-Washington International Airport<br>To: Port Columbus International Airport<br>Avg. Delay: 7.95 mins\", \"type\": \"scattergeo\"}, {\"lat\": [39.1754, 32.84711], \"line\": {\"color\": \"#4682B4\", \"width\": 1}, \"locationmode\": \"USA-states\", \"lon\": [-76.6682, -96.85177], \"mode\": \"lines\", \"opacity\": 0.1189853719265484, \"text\": \"From: Baltimore-Washington International Airport<br>To: Dallas Love Field<br>Avg. Delay: 3.56 mins\", \"type\": \"scattergeo\"}, {\"lat\": [39.1754, 39.90238], \"line\": {\"color\": \"#4682B4\", \"width\": 1}, \"locationmode\": \"USA-states\", \"lon\": [-76.6682, -84.21938], \"mode\": \"lines\", \"opacity\": 0.2551775147928994, \"text\": \"From: Baltimore-Washington International Airport<br>To: James M. Cox Dayton International Airport<br>Avg. Delay: 7.65 mins\", \"type\": \"scattergeo\"}, {\"lat\": [39.1754, 39.85841], \"line\": {\"color\": \"#4682B4\", \"width\": 1}, \"locationmode\": \"USA-states\", \"lon\": [-76.6682, -104.667], \"mode\": \"lines\", \"opacity\": 0.06621693121693122, \"text\": \"From: Baltimore-Washington International Airport<br>To: Denver International Airport<br>Avg. Delay: 1.98 mins\", \"type\": \"scattergeo\"}, {\"lat\": [39.1754, 42.21206], \"line\": {\"color\": \"#4682B4\", \"width\": 1}, \"locationmode\": \"USA-states\", \"lon\": [-76.6682, -83.34884], \"mode\": \"lines\", \"opacity\": 0.21322522522522522, \"text\": \"From: Baltimore-Washington International Airport<br>To: Detroit Metropolitan Airport<br>Avg. Delay: 6.39 mins\", \"type\": \"scattergeo\"}, {\"lat\": [39.1754, null], \"line\": {\"color\": \"#4682B4\", \"width\": 1}, \"locationmode\": \"USA-states\", \"lon\": [-76.6682, null], \"mode\": \"lines\", \"opacity\": 0.3903846153846154, \"text\": \"From: Baltimore-Washington International Airport<br>To: Northwest Florida Beaches International Airport<br>Avg. Delay: 11.71 mins\", \"type\": \"scattergeo\"}, {\"lat\": [39.1754, 26.07258], \"line\": {\"color\": \"#4682B4\", \"width\": 1}, \"locationmode\": \"USA-states\", \"lon\": [-76.6682, -80.15275], \"mode\": \"lines\", \"opacity\": 0.22745841229732575, \"text\": \"From: Baltimore-Washington International Airport<br>To: Fort Lauderdale-Hollywood International Airport<br>Avg. Delay: 6.82 mins\", \"type\": \"scattergeo\"}, {\"lat\": [39.1754, 42.9655], \"line\": {\"color\": \"#4682B4\", \"width\": 1}, \"locationmode\": \"USA-states\", \"lon\": [-76.6682, -83.74346], \"mode\": \"lines\", \"opacity\": 0.28416030534351144, \"text\": \"From: Baltimore-Washington International Airport<br>To: Bishop International Airport<br>Avg. Delay: 8.52 mins\", \"type\": \"scattergeo\"}, {\"lat\": [39.1754, 42.88082], \"line\": {\"color\": \"#4682B4\", \"width\": 1}, \"locationmode\": \"USA-states\", \"lon\": [-76.6682, -85.52277], \"mode\": \"lines\", \"opacity\": 0.30089662447257387, \"text\": \"From: Baltimore-Washington International Airport<br>To: Gerald R. Ford International Airport<br>Avg. Delay: 9.02 mins\", \"type\": \"scattergeo\"}, {\"lat\": [39.1754, 34.89567], \"line\": {\"color\": \"#4682B4\", \"width\": 1}, \"locationmode\": \"USA-states\", \"lon\": [-76.6682, -82.21885999999999], \"mode\": \"lines\", \"opacity\": 0.16999999999999998, \"text\": \"From: Baltimore-Washington International Airport<br>To: Greenville-Spartanburg International Airport<br>Avg. Delay: 5.09 mins\", \"type\": \"scattergeo\"}, {\"lat\": [39.1754, 29.64542], \"line\": {\"color\": \"#4682B4\", \"width\": 1}, \"locationmode\": \"USA-states\", \"lon\": [-76.6682, -95.27889], \"mode\": \"lines\", \"opacity\": 0.12026332691072576, \"text\": \"From: Baltimore-Washington International Airport<br>To: William P. Hobby Airport<br>Avg. Delay: 3.6 mins\", \"type\": \"scattergeo\"}, {\"lat\": [39.1754, 39.71733], \"line\": {\"color\": \"#4682B4\", \"width\": 1}, \"locationmode\": \"USA-states\", \"lon\": [-76.6682, -86.29438], \"mode\": \"lines\", \"opacity\": 0.39444998338318377, \"text\": \"From: Baltimore-Washington International Airport<br>To: Indianapolis International Airport<br>Avg. Delay: 11.83 mins\", \"type\": \"scattergeo\"}, {\"lat\": [39.1754, 40.79524], \"line\": {\"color\": \"#4682B4\", \"width\": 1}, \"locationmode\": \"USA-states\", \"lon\": [-76.6682, -73.10021], \"mode\": \"lines\", \"opacity\": 0.3952124072825354, \"text\": \"From: Baltimore-Washington International Airport<br>To: Long Island MacArthur Airport<br>Avg. Delay: 11.85 mins\", \"type\": \"scattergeo\"}, {\"lat\": [39.1754, 30.494059999999998], \"line\": {\"color\": \"#4682B4\", \"width\": 1}, \"locationmode\": \"USA-states\", \"lon\": [-76.6682, -81.68786], \"mode\": \"lines\", \"opacity\": 0.3467095194367921, \"text\": \"From: Baltimore-Washington International Airport<br>To: Jacksonville International Airport<br>Avg. Delay: 10.4 mins\", \"type\": \"scattergeo\"}, {\"lat\": [39.1754, 36.08036], \"line\": {\"color\": \"#4682B4\", \"width\": 1}, \"locationmode\": \"USA-states\", \"lon\": [-76.6682, -115.15233], \"mode\": \"lines\", \"opacity\": 0.07704678362573099, \"text\": \"From: Baltimore-Washington International Airport<br>To: McCarran International Airport<br>Avg. Delay: 2.31 mins\", \"type\": \"scattergeo\"}, {\"lat\": [39.1754, 33.94254], \"line\": {\"color\": \"#4682B4\", \"width\": 1}, \"locationmode\": \"USA-states\", \"lon\": [-76.6682, -118.40807], \"mode\": \"lines\", \"opacity\": 0.19594594594594594, \"text\": \"From: Baltimore-Washington International Airport<br>To: Los Angeles International Airport<br>Avg. Delay: 5.87 mins\", \"type\": \"scattergeo\"}, {\"lat\": [39.1754, 34.7294], \"line\": {\"color\": \"#4682B4\", \"width\": 1}, \"locationmode\": \"USA-states\", \"lon\": [-76.6682, -92.22425], \"mode\": \"lines\", \"opacity\": 0.3106060606060606, \"text\": \"From: Baltimore-Washington International Airport<br>To: Bill and Hillary Clinton National Airport\\u00a0(Adams Field)<br>Avg. Delay: 9.31 mins\", \"type\": \"scattergeo\"}, {\"lat\": [39.1754, 39.29761], \"line\": {\"color\": \"#4682B4\", \"width\": 1}, \"locationmode\": \"USA-states\", \"lon\": [-76.6682, -94.71391], \"mode\": \"lines\", \"opacity\": 0.16227727075184703, \"text\": \"From: Baltimore-Washington International Airport<br>To: Kansas City International Airport<br>Avg. Delay: 4.86 mins\", \"type\": \"scattergeo\"}, {\"lat\": [39.1754, 28.428890000000003], \"line\": {\"color\": \"#4682B4\", \"width\": 1}, \"locationmode\": \"USA-states\", \"lon\": [-76.6682, -81.31603], \"mode\": \"lines\", \"opacity\": 0.2614280947614281, \"text\": \"From: Baltimore-Washington International Airport<br>To: Orlando International Airport<br>Avg. Delay: 7.84 mins\", \"type\": \"scattergeo\"}, {\"lat\": [39.1754, 41.78598], \"line\": {\"color\": \"#4682B4\", \"width\": 1}, \"locationmode\": \"USA-states\", \"lon\": [-76.6682, -87.75242], \"mode\": \"lines\", \"opacity\": 0.19696005655708732, \"text\": \"From: Baltimore-Washington International Airport<br>To: Chicago Midway International Airport<br>Avg. Delay: 5.9 mins\", \"type\": \"scattergeo\"}, {\"lat\": [39.1754, 35.04242], \"line\": {\"color\": \"#4682B4\", \"width\": 1}, \"locationmode\": \"USA-states\", \"lon\": [-76.6682, -89.97667], \"mode\": \"lines\", \"opacity\": 0.08241949521322889, \"text\": \"From: Baltimore-Washington International Airport<br>To: Memphis International Airport<br>Avg. Delay: 2.47 mins\", \"type\": \"scattergeo\"}, {\"lat\": [39.1754, 42.93452], \"line\": {\"color\": \"#4682B4\", \"width\": 1}, \"locationmode\": \"USA-states\", \"lon\": [-76.6682, -71.43706], \"mode\": \"lines\", \"opacity\": 0.3043827160493827, \"text\": \"From: Baltimore-Washington International Airport<br>To: Manchester-Boston Regional Airport<br>Avg. Delay: 9.13 mins\", \"type\": \"scattergeo\"}, {\"lat\": [39.1754, 42.94722], \"line\": {\"color\": \"#4682B4\", \"width\": 1}, \"locationmode\": \"USA-states\", \"lon\": [-76.6682, -87.89658], \"mode\": \"lines\", \"opacity\": 0.2333729216152019, \"text\": \"From: Baltimore-Washington International Airport<br>To: General Mitchell International Airport<br>Avg. Delay: 7.0 mins\", \"type\": \"scattergeo\"}, {\"lat\": [39.1754, 29.99339], \"line\": {\"color\": \"#4682B4\", \"width\": 1}, \"locationmode\": \"USA-states\", \"lon\": [-76.6682, -90.25803], \"mode\": \"lines\", \"opacity\": 0.024164629176854118, \"text\": \"From: Baltimore-Washington International Airport<br>To: Louis Armstrong New Orleans International Airport<br>Avg. Delay: 0.72 mins\", \"type\": \"scattergeo\"}, {\"lat\": [39.1754, 37.72129], \"line\": {\"color\": \"#4682B4\", \"width\": 1}, \"locationmode\": \"USA-states\", \"lon\": [-76.6682, -122.22072], \"mode\": \"lines\", \"opacity\": 0, \"text\": \"From: Baltimore-Washington International Airport<br>To: Oakland International Airport<br>Avg. Delay: -2.24 mins\", \"type\": \"scattergeo\"}, {\"lat\": [39.1754, 35.39309], \"line\": {\"color\": \"#4682B4\", \"width\": 1}, \"locationmode\": \"USA-states\", \"lon\": [-76.6682, -97.60073], \"mode\": \"lines\", \"opacity\": 0.38824130879345603, \"text\": \"From: Baltimore-Washington International Airport<br>To: Will Rogers World Airport<br>Avg. Delay: 11.64 mins\", \"type\": \"scattergeo\"}, {\"lat\": [39.1754, 36.89461], \"line\": {\"color\": \"#4682B4\", \"width\": 1}, \"locationmode\": \"USA-states\", \"lon\": [-76.6682, -76.20121999999999], \"mode\": \"lines\", \"opacity\": 0.4119620065301276, \"text\": \"From: Baltimore-Washington International Airport<br>To: Norfolk International Airport<br>Avg. Delay: 12.35 mins\", \"type\": \"scattergeo\"}, {\"lat\": [39.1754, 26.683159999999997], \"line\": {\"color\": \"#4682B4\", \"width\": 1}, \"locationmode\": \"USA-states\", \"lon\": [-76.6682, -80.09559], \"mode\": \"lines\", \"opacity\": 0.4022499134648667, \"text\": \"From: Baltimore-Washington International Airport<br>To: Palm Beach International Airport<br>Avg. Delay: 12.06 mins\", \"type\": \"scattergeo\"}, {\"lat\": [39.1754, 45.58872], \"line\": {\"color\": \"#4682B4\", \"width\": 1}, \"locationmode\": \"USA-states\", \"lon\": [-76.6682, -122.5975], \"mode\": \"lines\", \"opacity\": 0.2940860215053763, \"text\": \"From: Baltimore-Washington International Airport<br>To: Portland International Airport<br>Avg. Delay: 8.82 mins\", \"type\": \"scattergeo\"}, {\"lat\": [39.1754, 33.43417], \"line\": {\"color\": \"#4682B4\", \"width\": 1}, \"locationmode\": \"USA-states\", \"lon\": [-76.6682, -112.00806000000001], \"mode\": \"lines\", \"opacity\": 0, \"text\": \"From: Baltimore-Washington International Airport<br>To: Phoenix Sky Harbor International Airport<br>Avg. Delay: -0.63 mins\", \"type\": \"scattergeo\"}, {\"lat\": [39.1754, 40.49147], \"line\": {\"color\": \"#4682B4\", \"width\": 1}, \"locationmode\": \"USA-states\", \"lon\": [-76.6682, -80.23286999999999], \"mode\": \"lines\", \"opacity\": 0.31781063005983806, \"text\": \"From: Baltimore-Washington International Airport<br>To: Pittsburgh International Airport<br>Avg. Delay: 9.53 mins\", \"type\": \"scattergeo\"}, {\"lat\": [39.1754, 41.724], \"line\": {\"color\": \"#4682B4\", \"width\": 1}, \"locationmode\": \"USA-states\", \"lon\": [-76.6682, -71.42822], \"mode\": \"lines\", \"opacity\": 0.31868252015853493, \"text\": \"From: Baltimore-Washington International Airport<br>To: Theodore Francis Green State Airport<br>Avg. Delay: 9.56 mins\", \"type\": \"scattergeo\"}, {\"lat\": [39.1754, 43.64617], \"line\": {\"color\": \"#4682B4\", \"width\": 1}, \"locationmode\": \"USA-states\", \"lon\": [-76.6682, -70.30875], \"mode\": \"lines\", \"opacity\": 0.2891743747858856, \"text\": \"From: Baltimore-Washington International Airport<br>To: Portland International Jetport<br>Avg. Delay: 8.67 mins\", \"type\": \"scattergeo\"}, {\"lat\": [39.1754, 35.87764], \"line\": {\"color\": \"#4682B4\", \"width\": 1}, \"locationmode\": \"USA-states\", \"lon\": [-76.6682, -78.78747], \"mode\": \"lines\", \"opacity\": 0.36215368531102976, \"text\": \"From: Baltimore-Washington International Airport<br>To: Raleigh-Durham International Airport<br>Avg. Delay: 10.86 mins\", \"type\": \"scattergeo\"}, {\"lat\": [39.1754, 43.11887], \"line\": {\"color\": \"#4682B4\", \"width\": 1}, \"locationmode\": \"USA-states\", \"lon\": [-76.6682, -77.67238], \"mode\": \"lines\", \"opacity\": 0.37855444602948174, \"text\": \"From: Baltimore-Washington International Airport<br>To: Greater Rochester International Airport<br>Avg. Delay: 11.35 mins\", \"type\": \"scattergeo\"}, {\"lat\": [39.1754, 26.536170000000002], \"line\": {\"color\": \"#4682B4\", \"width\": 1}, \"locationmode\": \"USA-states\", \"lon\": [-76.6682, -81.75516999999999], \"mode\": \"lines\", \"opacity\": 0.23305693753454948, \"text\": \"From: Baltimore-Washington International Airport<br>To: Southwest Florida International Airport<br>Avg. Delay: 6.99 mins\", \"type\": \"scattergeo\"}, {\"lat\": [39.1754, 32.73356], \"line\": {\"color\": \"#4682B4\", \"width\": 1}, \"locationmode\": \"USA-states\", \"lon\": [-76.6682, -117.18966], \"mode\": \"lines\", \"opacity\": 0.0011396011396011397, \"text\": \"From: Baltimore-Washington International Airport<br>To: San Diego International Airport\\u00a0(Lindbergh Field)<br>Avg. Delay: 0.03 mins\", \"type\": \"scattergeo\"}, {\"lat\": [39.1754, 29.533690000000004], \"line\": {\"color\": \"#4682B4\", \"width\": 1}, \"locationmode\": \"USA-states\", \"lon\": [-76.6682, -98.46978], \"mode\": \"lines\", \"opacity\": 0.13977947413061917, \"text\": \"From: Baltimore-Washington International Airport<br>To: San Antonio International Airport<br>Avg. Delay: 4.19 mins\", \"type\": \"scattergeo\"}, {\"lat\": [39.1754, 38.17439], \"line\": {\"color\": \"#4682B4\", \"width\": 1}, \"locationmode\": \"USA-states\", \"lon\": [-76.6682, -85.736], \"mode\": \"lines\", \"opacity\": 0.1789029535864979, \"text\": \"From: Baltimore-Washington International Airport<br>To: Louisville International Airport\\u00a0(Standiford Field)<br>Avg. Delay: 5.36 mins\", \"type\": \"scattergeo\"}, {\"lat\": [39.1754, 47.44898], \"line\": {\"color\": \"#4682B4\", \"width\": 1}, \"locationmode\": \"USA-states\", \"lon\": [-76.6682, -122.30931000000001], \"mode\": \"lines\", \"opacity\": 0.10351851851851852, \"text\": \"From: Baltimore-Washington International Airport<br>To: Seattle-Tacoma International Airport<br>Avg. Delay: 3.1 mins\", \"type\": \"scattergeo\"}, {\"lat\": [39.1754, 18.439420000000002], \"line\": {\"color\": \"#4682B4\", \"width\": 1}, \"locationmode\": \"USA-states\", \"lon\": [-76.6682, -66.00183], \"mode\": \"lines\", \"opacity\": 0.24672043010752687, \"text\": \"From: Baltimore-Washington International Airport<br>To: Luis Mu\\u00f1oz Mar\\u00edn International Airport<br>Avg. Delay: 7.4 mins\", \"type\": \"scattergeo\"}, {\"lat\": [39.1754, 40.78839], \"line\": {\"color\": \"#4682B4\", \"width\": 1}, \"locationmode\": \"USA-states\", \"lon\": [-76.6682, -111.97776999999999], \"mode\": \"lines\", \"opacity\": 0.15414507772020727, \"text\": \"From: Baltimore-Washington International Airport<br>To: Salt Lake City International Airport<br>Avg. Delay: 4.62 mins\", \"type\": \"scattergeo\"}, {\"lat\": [39.1754, 38.747690000000006], \"line\": {\"color\": \"#4682B4\", \"width\": 1}, \"locationmode\": \"USA-states\", \"lon\": [-76.6682, -90.35999], \"mode\": \"lines\", \"opacity\": 0.13478869297509097, \"text\": \"From: Baltimore-Washington International Airport<br>To: St. Louis International Airport at Lambert Field<br>Avg. Delay: 4.04 mins\", \"type\": \"scattergeo\"}, {\"lat\": [39.1754, 27.97547], \"line\": {\"color\": \"#4682B4\", \"width\": 1}, \"locationmode\": \"USA-states\", \"lon\": [-76.6682, -82.53325], \"mode\": \"lines\", \"opacity\": 0.20922549477949198, \"text\": \"From: Baltimore-Washington International Airport<br>To: Tampa International Airport<br>Avg. Delay: 6.27 mins\", \"type\": \"scattergeo\"}, {\"lat\": [40.916309999999996, 33.640440000000005], \"line\": {\"color\": \"#4682B4\", \"width\": 1}, \"locationmode\": \"USA-states\", \"lon\": [-81.44247, -84.42694], \"mode\": \"lines\", \"opacity\": 0.008895705521472393, \"text\": \"From: Akron-Canton Regional Airport<br>To: Hartsfield-Jackson Atlanta International Airport<br>Avg. Delay: 0.26 mins\", \"type\": \"scattergeo\"}, {\"lat\": [40.916309999999996, 42.36435], \"line\": {\"color\": \"#4682B4\", \"width\": 1}, \"locationmode\": \"USA-states\", \"lon\": [-81.44247, -71.00518000000001], \"mode\": \"lines\", \"opacity\": 0.10707762557077626, \"text\": \"From: Akron-Canton Regional Airport<br>To: Gen. Edward Lawrence Logan International Airport<br>Avg. Delay: 3.21 mins\", \"type\": \"scattergeo\"}, {\"lat\": [40.916309999999996, 38.85208], \"line\": {\"color\": \"#4682B4\", \"width\": 1}, \"locationmode\": \"USA-states\", \"lon\": [-81.44247, -77.03772], \"mode\": \"lines\", \"opacity\": 0, \"text\": \"From: Akron-Canton Regional Airport<br>To: Ronald Reagan Washington National Airport<br>Avg. Delay: -1.14 mins\", \"type\": \"scattergeo\"}, {\"lat\": [40.916309999999996, 39.85841], \"line\": {\"color\": \"#4682B4\", \"width\": 1}, \"locationmode\": \"USA-states\", \"lon\": [-81.44247, -104.667], \"mode\": \"lines\", \"opacity\": 0, \"text\": \"From: Akron-Canton Regional Airport<br>To: Denver International Airport<br>Avg. Delay: -8.19 mins\", \"type\": \"scattergeo\"}, {\"lat\": [40.916309999999996, 36.08036], \"line\": {\"color\": \"#4682B4\", \"width\": 1}, \"locationmode\": \"USA-states\", \"lon\": [-81.44247, -115.15233], \"mode\": \"lines\", \"opacity\": 0, \"text\": \"From: Akron-Canton Regional Airport<br>To: McCarran International Airport<br>Avg. Delay: -12.36 mins\", \"type\": \"scattergeo\"}, {\"lat\": [40.916309999999996, 40.77724], \"line\": {\"color\": \"#4682B4\", \"width\": 1}, \"locationmode\": \"USA-states\", \"lon\": [-81.44247, -73.87261], \"mode\": \"lines\", \"opacity\": 0.2569937369519833, \"text\": \"From: Akron-Canton Regional Airport<br>To: LaGuardia Airport (Marine Air Terminal)<br>Avg. Delay: 7.7 mins\", \"type\": \"scattergeo\"}, {\"lat\": [40.916309999999996, 28.428890000000003], \"line\": {\"color\": \"#4682B4\", \"width\": 1}, \"locationmode\": \"USA-states\", \"lon\": [-81.44247, -81.31603], \"mode\": \"lines\", \"opacity\": 0, \"text\": \"From: Akron-Canton Regional Airport<br>To: Orlando International Airport<br>Avg. Delay: -3.99 mins\", \"type\": \"scattergeo\"}, {\"lat\": [40.916309999999996, 26.536170000000002], \"line\": {\"color\": \"#4682B4\", \"width\": 1}, \"locationmode\": \"USA-states\", \"lon\": [-81.44247, -81.75516999999999], \"mode\": \"lines\", \"opacity\": 0, \"text\": \"From: Akron-Canton Regional Airport<br>To: Southwest Florida International Airport<br>Avg. Delay: -0.87 mins\", \"type\": \"scattergeo\"}, {\"lat\": [40.916309999999996, 27.97547], \"line\": {\"color\": \"#4682B4\", \"width\": 1}, \"locationmode\": \"USA-states\", \"lon\": [-81.44247, -82.53325], \"mode\": \"lines\", \"opacity\": 0, \"text\": \"From: Akron-Canton Regional Airport<br>To: Tampa International Airport<br>Avg. Delay: -6.38 mins\", \"type\": \"scattergeo\"}, {\"lat\": [32.89865, 36.12448], \"line\": {\"color\": \"#4682B4\", \"width\": 1}, \"locationmode\": \"USA-states\", \"lon\": [-80.04051, -86.67818], \"mode\": \"lines\", \"opacity\": 0.24314868804664724, \"text\": \"From: Charleston International Airport/Charleston AFB<br>To: Nashville International Airport<br>Avg. Delay: 7.29 mins\", \"type\": \"scattergeo\"}, {\"lat\": [32.89865, 39.1754], \"line\": {\"color\": \"#4682B4\", \"width\": 1}, \"locationmode\": \"USA-states\", \"lon\": [-80.04051, -76.6682], \"mode\": \"lines\", \"opacity\": 0.09793126459793126, \"text\": \"From: Charleston International Airport/Charleston AFB<br>To: Baltimore-Washington International Airport<br>Avg. Delay: 2.93 mins\", \"type\": \"scattergeo\"}, {\"lat\": [32.89865, 32.84711], \"line\": {\"color\": \"#4682B4\", \"width\": 1}, \"locationmode\": \"USA-states\", \"lon\": [-80.04051, -96.85177], \"mode\": \"lines\", \"opacity\": 0, \"text\": \"From: Charleston International Airport/Charleston AFB<br>To: Dallas Love Field<br>Avg. Delay: -23.56 mins\", \"type\": \"scattergeo\"}, {\"lat\": [32.89865, 29.64542], \"line\": {\"color\": \"#4682B4\", \"width\": 1}, \"locationmode\": \"USA-states\", \"lon\": [-80.04051, -95.27889], \"mode\": \"lines\", \"opacity\": 0, \"text\": \"From: Charleston International Airport/Charleston AFB<br>To: William P. Hobby Airport<br>Avg. Delay: -1.07 mins\", \"type\": \"scattergeo\"}, {\"lat\": [32.89865, 41.78598], \"line\": {\"color\": \"#4682B4\", \"width\": 1}, \"locationmode\": \"USA-states\", \"lon\": [-80.04051, -87.75242], \"mode\": \"lines\", \"opacity\": 0.04423558897243108, \"text\": \"From: Charleston International Airport/Charleston AFB<br>To: Chicago Midway International Airport<br>Avg. Delay: 1.32 mins\", \"type\": \"scattergeo\"}, {\"lat\": [41.41089, 36.12448], \"line\": {\"color\": \"#4682B4\", \"width\": 1}, \"locationmode\": \"USA-states\", \"lon\": [-81.8494, -86.67818], \"mode\": \"lines\", \"opacity\": 0, \"text\": \"From: Cleveland Hopkins International Airport<br>To: Nashville International Airport<br>Avg. Delay: -4.01 mins\", \"type\": \"scattergeo\"}, {\"lat\": [41.41089, 39.1754], \"line\": {\"color\": \"#4682B4\", \"width\": 1}, \"locationmode\": \"USA-states\", \"lon\": [-81.8494, -76.6682], \"mode\": \"lines\", \"opacity\": 0.055852746620649985, \"text\": \"From: Cleveland Hopkins International Airport<br>To: Baltimore-Washington International Airport<br>Avg. Delay: 1.67 mins\", \"type\": \"scattergeo\"}, {\"lat\": [41.41089, 39.85841], \"line\": {\"color\": \"#4682B4\", \"width\": 1}, \"locationmode\": \"USA-states\", \"lon\": [-81.8494, -104.667], \"mode\": \"lines\", \"opacity\": 0, \"text\": \"From: Cleveland Hopkins International Airport<br>To: Denver International Airport<br>Avg. Delay: -16.25 mins\", \"type\": \"scattergeo\"}, {\"lat\": [41.41089, 36.08036], \"line\": {\"color\": \"#4682B4\", \"width\": 1}, \"locationmode\": \"USA-states\", \"lon\": [-81.8494, -115.15233], \"mode\": \"lines\", \"opacity\": 0, \"text\": \"From: Cleveland Hopkins International Airport<br>To: McCarran International Airport<br>Avg. Delay: -10.85 mins\", \"type\": \"scattergeo\"}, {\"lat\": [41.41089, 28.428890000000003], \"line\": {\"color\": \"#4682B4\", \"width\": 1}, \"locationmode\": \"USA-states\", \"lon\": [-81.8494, -81.31603], \"mode\": \"lines\", \"opacity\": 0.42, \"text\": \"From: Cleveland Hopkins International Airport<br>To: Orlando International Airport<br>Avg. Delay: 12.6 mins\", \"type\": \"scattergeo\"}, {\"lat\": [41.41089, 41.78598], \"line\": {\"color\": \"#4682B4\", \"width\": 1}, \"locationmode\": \"USA-states\", \"lon\": [-81.8494, -87.75242], \"mode\": \"lines\", \"opacity\": 0.051428034573468624, \"text\": \"From: Cleveland Hopkins International Airport<br>To: Chicago Midway International Airport<br>Avg. Delay: 1.54 mins\", \"type\": \"scattergeo\"}, {\"lat\": [41.41089, 33.43417], \"line\": {\"color\": \"#4682B4\", \"width\": 1}, \"locationmode\": \"USA-states\", \"lon\": [-81.8494, -112.00806000000001], \"mode\": \"lines\", \"opacity\": 0, \"text\": \"From: Cleveland Hopkins International Airport<br>To: Phoenix Sky Harbor International Airport<br>Avg. Delay: -5.24 mins\", \"type\": \"scattergeo\"}, {\"lat\": [41.41089, 26.536170000000002], \"line\": {\"color\": \"#4682B4\", \"width\": 1}, \"locationmode\": \"USA-states\", \"lon\": [-81.8494, -81.75516999999999], \"mode\": \"lines\", \"opacity\": 0.24000000000000002, \"text\": \"From: Cleveland Hopkins International Airport<br>To: Southwest Florida International Airport<br>Avg. Delay: 7.2 mins\", \"type\": \"scattergeo\"}, {\"lat\": [35.214009999999995, 39.1754], \"line\": {\"color\": \"#4682B4\", \"width\": 1}, \"locationmode\": \"USA-states\", \"lon\": [-80.94313000000001, -76.6682], \"mode\": \"lines\", \"opacity\": 0.3110591900311527, \"text\": \"From: Charlotte Douglas International Airport<br>To: Baltimore-Washington International Airport<br>Avg. Delay: 9.33 mins\", \"type\": \"scattergeo\"}, {\"lat\": [35.214009999999995, 32.84711], \"line\": {\"color\": \"#4682B4\", \"width\": 1}, \"locationmode\": \"USA-states\", \"lon\": [-80.94313000000001, -96.85177], \"mode\": \"lines\", \"opacity\": 0, \"text\": \"From: Charlotte Douglas International Airport<br>To: Dallas Love Field<br>Avg. Delay: -13.0 mins\", \"type\": \"scattergeo\"}, {\"lat\": [35.214009999999995, 29.64542], \"line\": {\"color\": \"#4682B4\", \"width\": 1}, \"locationmode\": \"USA-states\", \"lon\": [-80.94313000000001, -95.27889], \"mode\": \"lines\", \"opacity\": 0.11122994652406418, \"text\": \"From: Charlotte Douglas International Airport<br>To: William P. Hobby Airport<br>Avg. Delay: 3.33 mins\", \"type\": \"scattergeo\"}, {\"lat\": [35.214009999999995, 28.428890000000003], \"line\": {\"color\": \"#4682B4\", \"width\": 1}, \"locationmode\": \"USA-states\", \"lon\": [-80.94313000000001, -81.31603], \"mode\": \"lines\", \"opacity\": 0.25, \"text\": \"From: Charlotte Douglas International Airport<br>To: Orlando International Airport<br>Avg. Delay: 7.5 mins\", \"type\": \"scattergeo\"}, {\"lat\": [35.214009999999995, 41.78598], \"line\": {\"color\": \"#4682B4\", \"width\": 1}, \"locationmode\": \"USA-states\", \"lon\": [-80.94313000000001, -87.75242], \"mode\": \"lines\", \"opacity\": 0, \"text\": \"From: Charlotte Douglas International Airport<br>To: Chicago Midway International Airport<br>Avg. Delay: -2.07 mins\", \"type\": \"scattergeo\"}, {\"lat\": [39.99799, 33.640440000000005], \"line\": {\"color\": \"#4682B4\", \"width\": 1}, \"locationmode\": \"USA-states\", \"lon\": [-82.89188, -84.42694], \"mode\": \"lines\", \"opacity\": 0.16429249762583095, \"text\": \"From: Port Columbus International Airport<br>To: Hartsfield-Jackson Atlanta International Airport<br>Avg. Delay: 4.92 mins\", \"type\": \"scattergeo\"}, {\"lat\": [39.99799, 36.12448], \"line\": {\"color\": \"#4682B4\", \"width\": 1}, \"locationmode\": \"USA-states\", \"lon\": [-82.89188, -86.67818], \"mode\": \"lines\", \"opacity\": 0.03762214983713355, \"text\": \"From: Port Columbus International Airport<br>To: Nashville International Airport<br>Avg. Delay: 1.12 mins\", \"type\": \"scattergeo\"}, {\"lat\": [39.99799, 42.36435], \"line\": {\"color\": \"#4682B4\", \"width\": 1}, \"locationmode\": \"USA-states\", \"lon\": [-82.89188, -71.00518000000001], \"mode\": \"lines\", \"opacity\": 0, \"text\": \"From: Port Columbus International Airport<br>To: Gen. Edward Lawrence Logan International Airport<br>Avg. Delay: -4.5 mins\", \"type\": \"scattergeo\"}, {\"lat\": [39.99799, 39.1754], \"line\": {\"color\": \"#4682B4\", \"width\": 1}, \"locationmode\": \"USA-states\", \"lon\": [-82.89188, -76.6682], \"mode\": \"lines\", \"opacity\": 0.18342898134863703, \"text\": \"From: Port Columbus International Airport<br>To: Baltimore-Washington International Airport<br>Avg. Delay: 5.5 mins\", \"type\": \"scattergeo\"}, {\"lat\": [39.99799, 32.84711], \"line\": {\"color\": \"#4682B4\", \"width\": 1}, \"locationmode\": \"USA-states\", \"lon\": [-82.89188, -96.85177], \"mode\": \"lines\", \"opacity\": 0.0923728813559322, \"text\": \"From: Port Columbus International Airport<br>To: Dallas Love Field<br>Avg. Delay: 2.77 mins\", \"type\": \"scattergeo\"}, {\"lat\": [39.99799, 38.85208], \"line\": {\"color\": \"#4682B4\", \"width\": 1}, \"locationmode\": \"USA-states\", \"lon\": [-82.89188, -77.03772], \"mode\": \"lines\", \"opacity\": 0, \"text\": \"From: Port Columbus International Airport<br>To: Ronald Reagan Washington National Airport<br>Avg. Delay: -1.62 mins\", \"type\": \"scattergeo\"}, {\"lat\": [39.99799, 39.85841], \"line\": {\"color\": \"#4682B4\", \"width\": 1}, \"locationmode\": \"USA-states\", \"lon\": [-82.89188, -104.667], \"mode\": \"lines\", \"opacity\": 0.14707818930041153, \"text\": \"From: Port Columbus International Airport<br>To: Denver International Airport<br>Avg. Delay: 4.41 mins\", \"type\": \"scattergeo\"}, {\"lat\": [39.99799, 26.07258], \"line\": {\"color\": \"#4682B4\", \"width\": 1}, \"locationmode\": \"USA-states\", \"lon\": [-82.89188, -80.15275], \"mode\": \"lines\", \"opacity\": 0, \"text\": \"From: Port Columbus International Airport<br>To: Fort Lauderdale-Hollywood International Airport<br>Avg. Delay: -1.21 mins\", \"type\": \"scattergeo\"}, {\"lat\": [39.99799, 36.08036], \"line\": {\"color\": \"#4682B4\", \"width\": 1}, \"locationmode\": \"USA-states\", \"lon\": [-82.89188, -115.15233], \"mode\": \"lines\", \"opacity\": 0, \"text\": \"From: Port Columbus International Airport<br>To: McCarran International Airport<br>Avg. Delay: -3.79 mins\", \"type\": \"scattergeo\"}, {\"lat\": [39.99799, 28.428890000000003], \"line\": {\"color\": \"#4682B4\", \"width\": 1}, \"locationmode\": \"USA-states\", \"lon\": [-82.89188, -81.31603], \"mode\": \"lines\", \"opacity\": 0.08296509766250401, \"text\": \"From: Port Columbus International Airport<br>To: Orlando International Airport<br>Avg. Delay: 2.48 mins\", \"type\": \"scattergeo\"}, {\"lat\": [39.99799, 41.78598], \"line\": {\"color\": \"#4682B4\", \"width\": 1}, \"locationmode\": \"USA-states\", \"lon\": [-82.89188, -87.75242], \"mode\": \"lines\", \"opacity\": 0.15865921787709497, \"text\": \"From: Port Columbus International Airport<br>To: Chicago Midway International Airport<br>Avg. Delay: 4.75 mins\", \"type\": \"scattergeo\"}, {\"lat\": [39.99799, 37.72129], \"line\": {\"color\": \"#4682B4\", \"width\": 1}, \"locationmode\": \"USA-states\", \"lon\": [-82.89188, -122.22072], \"mode\": \"lines\", \"opacity\": 0, \"text\": \"From: Port Columbus International Airport<br>To: Oakland International Airport<br>Avg. Delay: -9.14 mins\", \"type\": \"scattergeo\"}, {\"lat\": [39.99799, 33.43417], \"line\": {\"color\": \"#4682B4\", \"width\": 1}, \"locationmode\": \"USA-states\", \"lon\": [-82.89188, -112.00806000000001], \"mode\": \"lines\", \"opacity\": 0, \"text\": \"From: Port Columbus International Airport<br>To: Phoenix Sky Harbor International Airport<br>Avg. Delay: -0.76 mins\", \"type\": \"scattergeo\"}, {\"lat\": [39.99799, 26.536170000000002], \"line\": {\"color\": \"#4682B4\", \"width\": 1}, \"locationmode\": \"USA-states\", \"lon\": [-82.89188, -81.75516999999999], \"mode\": \"lines\", \"opacity\": 0, \"text\": \"From: Port Columbus International Airport<br>To: Southwest Florida International Airport<br>Avg. Delay: -3.92 mins\", \"type\": \"scattergeo\"}, {\"lat\": [39.99799, 38.747690000000006], \"line\": {\"color\": \"#4682B4\", \"width\": 1}, \"locationmode\": \"USA-states\", \"lon\": [-82.89188, -90.35999], \"mode\": \"lines\", \"opacity\": 0.1203514739229025, \"text\": \"From: Port Columbus International Airport<br>To: St. Louis International Airport at Lambert Field<br>Avg. Delay: 3.61 mins\", \"type\": \"scattergeo\"}, {\"lat\": [39.99799, 27.97547], \"line\": {\"color\": \"#4682B4\", \"width\": 1}, \"locationmode\": \"USA-states\", \"lon\": [-82.89188, -82.53325], \"mode\": \"lines\", \"opacity\": 0, \"text\": \"From: Port Columbus International Airport<br>To: Tampa International Airport<br>Avg. Delay: -2.99 mins\", \"type\": \"scattergeo\"}, {\"lat\": [27.770359999999997, 29.64542], \"line\": {\"color\": \"#4682B4\", \"width\": 1}, \"locationmode\": \"USA-states\", \"lon\": [-97.50121999999999, -95.27889], \"mode\": \"lines\", \"opacity\": 0.16512820512820514, \"text\": \"From: Corpus Christi International Airport<br>To: William P. Hobby Airport<br>Avg. Delay: 4.95 mins\", \"type\": \"scattergeo\"}, {\"lat\": [32.84711, 35.04022], \"line\": {\"color\": \"#4682B4\", \"width\": 1}, \"locationmode\": \"USA-states\", \"lon\": [-96.85177, -106.60918999999998], \"mode\": \"lines\", \"opacity\": 0.33326898326898324, \"text\": \"From: Dallas Love Field<br>To: Albuquerque International Sunport<br>Avg. Delay: 9.99 mins\", \"type\": \"scattergeo\"}, {\"lat\": [32.84711, 35.21937], \"line\": {\"color\": \"#4682B4\", \"width\": 1}, \"locationmode\": \"USA-states\", \"lon\": [-96.85177, -101.70593000000001], \"mode\": \"lines\", \"opacity\": 0.24549019607843137, \"text\": \"From: Dallas Love Field<br>To: Rick Husband Amarillo International Airport<br>Avg. Delay: 7.36 mins\", \"type\": \"scattergeo\"}, {\"lat\": [32.84711, 33.640440000000005], \"line\": {\"color\": \"#4682B4\", \"width\": 1}, \"locationmode\": \"USA-states\", \"lon\": [-96.85177, -84.42694], \"mode\": \"lines\", \"opacity\": 0.15810578105781056, \"text\": \"From: Dallas Love Field<br>To: Hartsfield-Jackson Atlanta International Airport<br>Avg. Delay: 4.74 mins\", \"type\": \"scattergeo\"}, {\"lat\": [32.84711, 30.19453], \"line\": {\"color\": \"#4682B4\", \"width\": 1}, \"locationmode\": \"USA-states\", \"lon\": [-96.85177, -97.66986999999999], \"mode\": \"lines\", \"opacity\": 0.40503636166286766, \"text\": \"From: Dallas Love Field<br>To: Austin-Bergstrom International Airport<br>Avg. Delay: 12.15 mins\", \"type\": \"scattergeo\"}, {\"lat\": [32.84711, 33.562940000000005], \"line\": {\"color\": \"#4682B4\", \"width\": 1}, \"locationmode\": \"USA-states\", \"lon\": [-96.85177, -86.75355], \"mode\": \"lines\", \"opacity\": 0.33214814814814814, \"text\": \"From: Dallas Love Field<br>To: Birmingham-Shuttlesworth International Airport<br>Avg. Delay: 9.96 mins\", \"type\": \"scattergeo\"}, {\"lat\": [32.84711, 36.12448], \"line\": {\"color\": \"#4682B4\", \"width\": 1}, \"locationmode\": \"USA-states\", \"lon\": [-96.85177, -86.67818], \"mode\": \"lines\", \"opacity\": 0.3090840840840841, \"text\": \"From: Dallas Love Field<br>To: Nashville International Airport<br>Avg. Delay: 9.27 mins\", \"type\": \"scattergeo\"}, {\"lat\": [32.84711, 42.36435], \"line\": {\"color\": \"#4682B4\", \"width\": 1}, \"locationmode\": \"USA-states\", \"lon\": [-96.85177, -71.00518000000001], \"mode\": \"lines\", \"opacity\": 0.023976608187134502, \"text\": \"From: Dallas Love Field<br>To: Gen. Edward Lawrence Logan International Airport<br>Avg. Delay: 0.71 mins\", \"type\": \"scattergeo\"}, {\"lat\": [32.84711, 39.1754], \"line\": {\"color\": \"#4682B4\", \"width\": 1}, \"locationmode\": \"USA-states\", \"lon\": [-96.85177, -76.6682], \"mode\": \"lines\", \"opacity\": 0.15091986280012473, \"text\": \"From: Dallas Love Field<br>To: Baltimore-Washington International Airport<br>Avg. Delay: 4.52 mins\", \"type\": \"scattergeo\"}, {\"lat\": [32.84711, 32.89865], \"line\": {\"color\": \"#4682B4\", \"width\": 1}, \"locationmode\": \"USA-states\", \"lon\": [-96.85177, -80.04051], \"mode\": \"lines\", \"opacity\": 0.26055979643765903, \"text\": \"From: Dallas Love Field<br>To: Charleston International Airport/Charleston AFB<br>Avg. Delay: 7.81 mins\", \"type\": \"scattergeo\"}, {\"lat\": [32.84711, 35.214009999999995], \"line\": {\"color\": \"#4682B4\", \"width\": 1}, \"locationmode\": \"USA-states\", \"lon\": [-96.85177, -80.94313000000001], \"mode\": \"lines\", \"opacity\": 0, \"text\": \"From: Dallas Love Field<br>To: Charlotte Douglas International Airport<br>Avg. Delay: -6.38 mins\", \"type\": \"scattergeo\"}, {\"lat\": [32.84711, 39.99799], \"line\": {\"color\": \"#4682B4\", \"width\": 1}, \"locationmode\": \"USA-states\", \"lon\": [-96.85177, -82.89188], \"mode\": \"lines\", \"opacity\": 0.28565400843881855, \"text\": \"From: Dallas Love Field<br>To: Port Columbus International Airport<br>Avg. Delay: 8.56 mins\", \"type\": \"scattergeo\"}, {\"lat\": [32.84711, 38.85208], \"line\": {\"color\": \"#4682B4\", \"width\": 1}, \"locationmode\": \"USA-states\", \"lon\": [-96.85177, -77.03772], \"mode\": \"lines\", \"opacity\": 0.07718177948063006, \"text\": \"From: Dallas Love Field<br>To: Ronald Reagan Washington National Airport<br>Avg. Delay: 2.31 mins\", \"type\": \"scattergeo\"}, {\"lat\": [32.84711, 39.85841], \"line\": {\"color\": \"#4682B4\", \"width\": 1}, \"locationmode\": \"USA-states\", \"lon\": [-96.85177, -104.667], \"mode\": \"lines\", \"opacity\": 0.10274218925601258, \"text\": \"From: Dallas Love Field<br>To: Denver International Airport<br>Avg. Delay: 3.08 mins\", \"type\": \"scattergeo\"}, {\"lat\": [32.84711, 42.21206], \"line\": {\"color\": \"#4682B4\", \"width\": 1}, \"locationmode\": \"USA-states\", \"lon\": [-96.85177, -83.34884], \"mode\": \"lines\", \"opacity\": 0.12300884955752213, \"text\": \"From: Dallas Love Field<br>To: Detroit Metropolitan Airport<br>Avg. Delay: 3.69 mins\", \"type\": \"scattergeo\"}, {\"lat\": [32.84711, null], \"line\": {\"color\": \"#4682B4\", \"width\": 1}, \"locationmode\": \"USA-states\", \"lon\": [-96.85177, null], \"mode\": \"lines\", \"opacity\": 0.2121412803532009, \"text\": \"From: Dallas Love Field<br>To: Northwest Florida Beaches International Airport<br>Avg. Delay: 6.36 mins\", \"type\": \"scattergeo\"}, {\"lat\": [32.84711, 31.80667], \"line\": {\"color\": \"#4682B4\", \"width\": 1}, \"locationmode\": \"USA-states\", \"lon\": [-96.85177, -106.37781000000001], \"mode\": \"lines\", \"opacity\": 0.2987936008392342, \"text\": \"From: Dallas Love Field<br>To: El Paso International Airport<br>Avg. Delay: 8.96 mins\", \"type\": \"scattergeo\"}, {\"lat\": [32.84711, 26.07258], \"line\": {\"color\": \"#4682B4\", \"width\": 1}, \"locationmode\": \"USA-states\", \"lon\": [-96.85177, -80.15275], \"mode\": \"lines\", \"opacity\": 0.2757009345794392, \"text\": \"From: Dallas Love Field<br>To: Fort Lauderdale-Hollywood International Airport<br>Avg. Delay: 8.27 mins\", \"type\": \"scattergeo\"}, {\"lat\": [32.84711, 29.64542], \"line\": {\"color\": \"#4682B4\", \"width\": 1}, \"locationmode\": \"USA-states\", \"lon\": [-96.85177, -95.27889], \"mode\": \"lines\", \"opacity\": 0.29711702772724763, \"text\": \"From: Dallas Love Field<br>To: William P. Hobby Airport<br>Avg. Delay: 8.91 mins\", \"type\": \"scattergeo\"}, {\"lat\": [32.84711, 37.64996], \"line\": {\"color\": \"#4682B4\", \"width\": 1}, \"locationmode\": \"USA-states\", \"lon\": [-96.85177, -97.43305], \"mode\": \"lines\", \"opacity\": 0.20680272108843537, \"text\": \"From: Dallas Love Field<br>To: Wichita Dwight D. Eisenhower National Airport\\u00a0(Wichita Mid-Continent Airport)<br>Avg. Delay: 6.2 mins\", \"type\": \"scattergeo\"}, {\"lat\": [32.84711, 39.71733], \"line\": {\"color\": \"#4682B4\", \"width\": 1}, \"locationmode\": \"USA-states\", \"lon\": [-96.85177, -86.29438], \"mode\": \"lines\", \"opacity\": 0.38333333333333336, \"text\": \"From: Dallas Love Field<br>To: Indianapolis International Airport<br>Avg. Delay: 11.5 mins\", \"type\": \"scattergeo\"}, {\"lat\": [32.84711, 36.08036], \"line\": {\"color\": \"#4682B4\", \"width\": 1}, \"locationmode\": \"USA-states\", \"lon\": [-96.85177, -115.15233], \"mode\": \"lines\", \"opacity\": 0.05045177045177045, \"text\": \"From: Dallas Love Field<br>To: McCarran International Airport<br>Avg. Delay: 1.51 mins\", \"type\": \"scattergeo\"}, {\"lat\": [32.84711, 33.94254], \"line\": {\"color\": \"#4682B4\", \"width\": 1}, \"locationmode\": \"USA-states\", \"lon\": [-96.85177, -118.40807], \"mode\": \"lines\", \"opacity\": 0.29154191616766467, \"text\": \"From: Dallas Love Field<br>To: Los Angeles International Airport<br>Avg. Delay: 8.74 mins\", \"type\": \"scattergeo\"}, {\"lat\": [32.84711, 33.66364], \"line\": {\"color\": \"#4682B4\", \"width\": 1}, \"locationmode\": \"USA-states\", \"lon\": [-96.85177, -101.82278000000001], \"mode\": \"lines\", \"opacity\": 0.21829722039833663, \"text\": \"From: Dallas Love Field<br>To: Lubbock Preston Smith International Airport<br>Avg. Delay: 6.54 mins\", \"type\": \"scattergeo\"}, {\"lat\": [32.84711, 40.77724], \"line\": {\"color\": \"#4682B4\", \"width\": 1}, \"locationmode\": \"USA-states\", \"lon\": [-96.85177, -73.87261], \"mode\": \"lines\", \"opacity\": 0.2884644766997708, \"text\": \"From: Dallas Love Field<br>To: LaGuardia Airport (Marine Air Terminal)<br>Avg. Delay: 8.65 mins\", \"type\": \"scattergeo\"}, {\"lat\": [32.84711, 34.7294], \"line\": {\"color\": \"#4682B4\", \"width\": 1}, \"locationmode\": \"USA-states\", \"lon\": [-96.85177, -92.22425], \"mode\": \"lines\", \"opacity\": 0.3194637537239325, \"text\": \"From: Dallas Love Field<br>To: Bill and Hillary Clinton National Airport\\u00a0(Adams Field)<br>Avg. Delay: 9.58 mins\", \"type\": \"scattergeo\"}, {\"lat\": [32.84711, 31.942529999999998], \"line\": {\"color\": \"#4682B4\", \"width\": 1}, \"locationmode\": \"USA-states\", \"lon\": [-96.85177, -102.20191], \"mode\": \"lines\", \"opacity\": 0.285862691960253, \"text\": \"From: Dallas Love Field<br>To: Midland International Airport<br>Avg. Delay: 8.57 mins\", \"type\": \"scattergeo\"}, {\"lat\": [32.84711, 39.29761], \"line\": {\"color\": \"#4682B4\", \"width\": 1}, \"locationmode\": \"USA-states\", \"lon\": [-96.85177, -94.71391], \"mode\": \"lines\", \"opacity\": 0.37913165266106447, \"text\": \"From: Dallas Love Field<br>To: Kansas City International Airport<br>Avg. Delay: 11.37 mins\", \"type\": \"scattergeo\"}, {\"lat\": [32.84711, 28.428890000000003], \"line\": {\"color\": \"#4682B4\", \"width\": 1}, \"locationmode\": \"USA-states\", \"lon\": [-96.85177, -81.31603], \"mode\": \"lines\", \"opacity\": 0.2139055222887558, \"text\": \"From: Dallas Love Field<br>To: Orlando International Airport<br>Avg. Delay: 6.41 mins\", \"type\": \"scattergeo\"}, {\"lat\": [32.84711, 41.78598], \"line\": {\"color\": \"#4682B4\", \"width\": 1}, \"locationmode\": \"USA-states\", \"lon\": [-96.85177, -87.75242], \"mode\": \"lines\", \"opacity\": 0.16074074074074074, \"text\": \"From: Dallas Love Field<br>To: Chicago Midway International Airport<br>Avg. Delay: 4.82 mins\", \"type\": \"scattergeo\"}, {\"lat\": [32.84711, 35.04242], \"line\": {\"color\": \"#4682B4\", \"width\": 1}, \"locationmode\": \"USA-states\", \"lon\": [-96.85177, -89.97667], \"mode\": \"lines\", \"opacity\": 0.4383224873463485, \"text\": \"From: Dallas Love Field<br>To: Memphis International Airport<br>Avg. Delay: 13.14 mins\", \"type\": \"scattergeo\"}, {\"lat\": [32.84711, 42.94722], \"line\": {\"color\": \"#4682B4\", \"width\": 1}, \"locationmode\": \"USA-states\", \"lon\": [-96.85177, -87.89658], \"mode\": \"lines\", \"opacity\": 0.05310734463276836, \"text\": \"From: Dallas Love Field<br>To: General Mitchell International Airport<br>Avg. Delay: 1.59 mins\", \"type\": \"scattergeo\"}, {\"lat\": [32.84711, 29.99339], \"line\": {\"color\": \"#4682B4\", \"width\": 1}, \"locationmode\": \"USA-states\", \"lon\": [-96.85177, -90.25803], \"mode\": \"lines\", \"opacity\": 0.212380550871276, \"text\": \"From: Dallas Love Field<br>To: Louis Armstrong New Orleans International Airport<br>Avg. Delay: 6.37 mins\", \"type\": \"scattergeo\"}, {\"lat\": [32.84711, 37.72129], \"line\": {\"color\": \"#4682B4\", \"width\": 1}, \"locationmode\": \"USA-states\", \"lon\": [-96.85177, -122.22072], \"mode\": \"lines\", \"opacity\": 0.13124647490129723, \"text\": \"From: Dallas Love Field<br>To: Oakland International Airport<br>Avg. Delay: 3.93 mins\", \"type\": \"scattergeo\"}, {\"lat\": [32.84711, 35.39309], \"line\": {\"color\": \"#4682B4\", \"width\": 1}, \"locationmode\": \"USA-states\", \"lon\": [-96.85177, -97.60073], \"mode\": \"lines\", \"opacity\": 0.33290368779090584, \"text\": \"From: Dallas Love Field<br>To: Will Rogers World Airport<br>Avg. Delay: 9.98 mins\", \"type\": \"scattergeo\"}, {\"lat\": [32.84711, 41.30252], \"line\": {\"color\": \"#4682B4\", \"width\": 1}, \"locationmode\": \"USA-states\", \"lon\": [-96.85177, -95.89416999999999], \"mode\": \"lines\", \"opacity\": 0, \"text\": \"From: Dallas Love Field<br>To: Eppley Airfield<br>Avg. Delay: -0.24 mins\", \"type\": \"scattergeo\"}, {\"lat\": [32.84711, 45.58872], \"line\": {\"color\": \"#4682B4\", \"width\": 1}, \"locationmode\": \"USA-states\", \"lon\": [-96.85177, -122.5975], \"mode\": \"lines\", \"opacity\": 0.18107344632768363, \"text\": \"From: Dallas Love Field<br>To: Portland International Airport<br>Avg. Delay: 5.43 mins\", \"type\": \"scattergeo\"}, {\"lat\": [32.84711, 39.87195], \"line\": {\"color\": \"#4682B4\", \"width\": 1}, \"locationmode\": \"USA-states\", \"lon\": [-96.85177, -75.24114], \"mode\": \"lines\", \"opacity\": 0.09793510324483776, \"text\": \"From: Dallas Love Field<br>To: Philadelphia International Airport<br>Avg. Delay: 2.93 mins\", \"type\": \"scattergeo\"}, {\"lat\": [32.84711, 33.43417], \"line\": {\"color\": \"#4682B4\", \"width\": 1}, \"locationmode\": \"USA-states\", \"lon\": [-96.85177, -112.00806000000001], \"mode\": \"lines\", \"opacity\": 0.17947658402203856, \"text\": \"From: Dallas Love Field<br>To: Phoenix Sky Harbor International Airport<br>Avg. Delay: 5.38 mins\", \"type\": \"scattergeo\"}, {\"lat\": [32.84711, 40.49147], \"line\": {\"color\": \"#4682B4\", \"width\": 1}, \"locationmode\": \"USA-states\", \"lon\": [-96.85177, -80.23286999999999], \"mode\": \"lines\", \"opacity\": 0.10501474926253687, \"text\": \"From: Dallas Love Field<br>To: Pittsburgh International Airport<br>Avg. Delay: 3.15 mins\", \"type\": \"scattergeo\"}, {\"lat\": [32.84711, 35.87764], \"line\": {\"color\": \"#4682B4\", \"width\": 1}, \"locationmode\": \"USA-states\", \"lon\": [-96.85177, -78.78747], \"mode\": \"lines\", \"opacity\": 0.5400584795321637, \"text\": \"From: Dallas Love Field<br>To: Raleigh-Durham International Airport<br>Avg. Delay: 16.2 mins\", \"type\": \"scattergeo\"}, {\"lat\": [32.84711, 32.73356], \"line\": {\"color\": \"#4682B4\", \"width\": 1}, \"locationmode\": \"USA-states\", \"lon\": [-96.85177, -117.18966], \"mode\": \"lines\", \"opacity\": 0.13510242085661078, \"text\": \"From: Dallas Love Field<br>To: San Diego International Airport\\u00a0(Lindbergh Field)<br>Avg. Delay: 4.05 mins\", \"type\": \"scattergeo\"}, {\"lat\": [32.84711, 29.533690000000004], \"line\": {\"color\": \"#4682B4\", \"width\": 1}, \"locationmode\": \"USA-states\", \"lon\": [-96.85177, -98.46978], \"mode\": \"lines\", \"opacity\": 0.30997217584863657, \"text\": \"From: Dallas Love Field<br>To: San Antonio International Airport<br>Avg. Delay: 9.29 mins\", \"type\": \"scattergeo\"}, {\"lat\": [32.84711, 47.44898], \"line\": {\"color\": \"#4682B4\", \"width\": 1}, \"locationmode\": \"USA-states\", \"lon\": [-96.85177, -122.30931000000001], \"mode\": \"lines\", \"opacity\": 0.33791423001949317, \"text\": \"From: Dallas Love Field<br>To: Seattle-Tacoma International Airport<br>Avg. Delay: 10.13 mins\", \"type\": \"scattergeo\"}, {\"lat\": [32.84711, 37.619], \"line\": {\"color\": \"#4682B4\", \"width\": 1}, \"locationmode\": \"USA-states\", \"lon\": [-96.85177, -122.37483999999999], \"mode\": \"lines\", \"opacity\": 0.4205521472392638, \"text\": \"From: Dallas Love Field<br>To: San Francisco International Airport<br>Avg. Delay: 12.61 mins\", \"type\": \"scattergeo\"}, {\"lat\": [32.84711, 37.36186], \"line\": {\"color\": \"#4682B4\", \"width\": 1}, \"locationmode\": \"USA-states\", \"lon\": [-96.85177, -121.92901], \"mode\": \"lines\", \"opacity\": 0.35954802259887003, \"text\": \"From: Dallas Love Field<br>To: Norman Y. Mineta San Jos\\u00e9 International Airport<br>Avg. Delay: 10.78 mins\", \"type\": \"scattergeo\"}, {\"lat\": [32.84711, 40.78839], \"line\": {\"color\": \"#4682B4\", \"width\": 1}, \"locationmode\": \"USA-states\", \"lon\": [-96.85177, -111.97776999999999], \"mode\": \"lines\", \"opacity\": 0.10818713450292397, \"text\": \"From: Dallas Love Field<br>To: Salt Lake City International Airport<br>Avg. Delay: 3.24 mins\", \"type\": \"scattergeo\"}, {\"lat\": [32.84711, 38.69542], \"line\": {\"color\": \"#4682B4\", \"width\": 1}, \"locationmode\": \"USA-states\", \"lon\": [-96.85177, -121.59076999999999], \"mode\": \"lines\", \"opacity\": 0.6046610169491526, \"text\": \"From: Dallas Love Field<br>To: Sacramento International Airport<br>Avg. Delay: 18.13 mins\", \"type\": \"scattergeo\"}, {\"lat\": [32.84711, 33.67566], \"line\": {\"color\": \"#4682B4\", \"width\": 1}, \"locationmode\": \"USA-states\", \"lon\": [-96.85177, -117.86822], \"mode\": \"lines\", \"opacity\": 0.19161976235146966, \"text\": \"From: Dallas Love Field<br>To: John Wayne Airport\\u00a0(Orange County Airport)<br>Avg. Delay: 5.74 mins\", \"type\": \"scattergeo\"}, {\"lat\": [32.84711, 38.747690000000006], \"line\": {\"color\": \"#4682B4\", \"width\": 1}, \"locationmode\": \"USA-states\", \"lon\": [-96.85177, -90.35999], \"mode\": \"lines\", \"opacity\": 0.26879910213243546, \"text\": \"From: Dallas Love Field<br>To: St. Louis International Airport at Lambert Field<br>Avg. Delay: 8.06 mins\", \"type\": \"scattergeo\"}, {\"lat\": [32.84711, 27.97547], \"line\": {\"color\": \"#4682B4\", \"width\": 1}, \"locationmode\": \"USA-states\", \"lon\": [-96.85177, -82.53325], \"mode\": \"lines\", \"opacity\": 0.31726546906187625, \"text\": \"From: Dallas Love Field<br>To: Tampa International Airport<br>Avg. Delay: 9.51 mins\", \"type\": \"scattergeo\"}, {\"lat\": [32.84711, 36.198370000000004], \"line\": {\"color\": \"#4682B4\", \"width\": 1}, \"locationmode\": \"USA-states\", \"lon\": [-96.85177, -95.88824], \"mode\": \"lines\", \"opacity\": 0.4102646638054363, \"text\": \"From: Dallas Love Field<br>To: Tulsa International Airport<br>Avg. Delay: 12.3 mins\", \"type\": \"scattergeo\"}, {\"lat\": [39.90238, 39.1754], \"line\": {\"color\": \"#4682B4\", \"width\": 1}, \"locationmode\": \"USA-states\", \"lon\": [-84.21938, -76.6682], \"mode\": \"lines\", \"opacity\": 0.11774827925270404, \"text\": \"From: James M. Cox Dayton International Airport<br>To: Baltimore-Washington International Airport<br>Avg. Delay: 3.53 mins\", \"type\": \"scattergeo\"}, {\"lat\": [39.90238, 39.85841], \"line\": {\"color\": \"#4682B4\", \"width\": 1}, \"locationmode\": \"USA-states\", \"lon\": [-84.21938, -104.667], \"mode\": \"lines\", \"opacity\": 0, \"text\": \"From: James M. Cox Dayton International Airport<br>To: Denver International Airport<br>Avg. Delay: -6.73 mins\", \"type\": \"scattergeo\"}, {\"lat\": [39.90238, 28.428890000000003], \"line\": {\"color\": \"#4682B4\", \"width\": 1}, \"locationmode\": \"USA-states\", \"lon\": [-84.21938, -81.31603], \"mode\": \"lines\", \"opacity\": 0, \"text\": \"From: James M. Cox Dayton International Airport<br>To: Orlando International Airport<br>Avg. Delay: -2.49 mins\", \"type\": \"scattergeo\"}, {\"lat\": [39.90238, 27.97547], \"line\": {\"color\": \"#4682B4\", \"width\": 1}, \"locationmode\": \"USA-states\", \"lon\": [-84.21938, -82.53325], \"mode\": \"lines\", \"opacity\": 0.4247126436781609, \"text\": \"From: James M. Cox Dayton International Airport<br>To: Tampa International Airport<br>Avg. Delay: 12.74 mins\", \"type\": \"scattergeo\"}, {\"lat\": [38.85208, 33.640440000000005], \"line\": {\"color\": \"#4682B4\", \"width\": 1}, \"locationmode\": \"USA-states\", \"lon\": [-77.03772, -84.42694], \"mode\": \"lines\", \"opacity\": 0.1245719489981785, \"text\": \"From: Ronald Reagan Washington National Airport<br>To: Hartsfield-Jackson Atlanta International Airport<br>Avg. Delay: 3.73 mins\", \"type\": \"scattergeo\"}, {\"lat\": [38.85208, 30.19453], \"line\": {\"color\": \"#4682B4\", \"width\": 1}, \"locationmode\": \"USA-states\", \"lon\": [-77.03772, -97.66986999999999], \"mode\": \"lines\", \"opacity\": 0.019367991845056064, \"text\": \"From: Ronald Reagan Washington National Airport<br>To: Austin-Bergstrom International Airport<br>Avg. Delay: 0.58 mins\", \"type\": \"scattergeo\"}, {\"lat\": [38.85208, 36.12448], \"line\": {\"color\": \"#4682B4\", \"width\": 1}, \"locationmode\": \"USA-states\", \"lon\": [-77.03772, -86.67818], \"mode\": \"lines\", \"opacity\": 0, \"text\": \"From: Ronald Reagan Washington National Airport<br>To: Nashville International Airport<br>Avg. Delay: -0.94 mins\", \"type\": \"scattergeo\"}, {\"lat\": [38.85208, 40.916309999999996], \"line\": {\"color\": \"#4682B4\", \"width\": 1}, \"locationmode\": \"USA-states\", \"lon\": [-77.03772, -81.44247], \"mode\": \"lines\", \"opacity\": 0.11698352344740177, \"text\": \"From: Ronald Reagan Washington National Airport<br>To: Akron-Canton Regional Airport<br>Avg. Delay: 3.5 mins\", \"type\": \"scattergeo\"}, {\"lat\": [38.85208, 39.99799], \"line\": {\"color\": \"#4682B4\", \"width\": 1}, \"locationmode\": \"USA-states\", \"lon\": [-77.03772, -82.89188], \"mode\": \"lines\", \"opacity\": 0.32857142857142857, \"text\": \"From: Ronald Reagan Washington National Airport<br>To: Port Columbus International Airport<br>Avg. Delay: 9.85 mins\", \"type\": \"scattergeo\"}, {\"lat\": [38.85208, 32.84711], \"line\": {\"color\": \"#4682B4\", \"width\": 1}, \"locationmode\": \"USA-states\", \"lon\": [-77.03772, -96.85177], \"mode\": \"lines\", \"opacity\": 0, \"text\": \"From: Ronald Reagan Washington National Airport<br>To: Dallas Love Field<br>Avg. Delay: -6.13 mins\", \"type\": \"scattergeo\"}, {\"lat\": [38.85208, 26.07258], \"line\": {\"color\": \"#4682B4\", \"width\": 1}, \"locationmode\": \"USA-states\", \"lon\": [-77.03772, -80.15275], \"mode\": \"lines\", \"opacity\": 0, \"text\": \"From: Ronald Reagan Washington National Airport<br>To: Fort Lauderdale-Hollywood International Airport<br>Avg. Delay: -2.47 mins\", \"type\": \"scattergeo\"}, {\"lat\": [38.85208, 29.64542], \"line\": {\"color\": \"#4682B4\", \"width\": 1}, \"locationmode\": \"USA-states\", \"lon\": [-77.03772, -95.27889], \"mode\": \"lines\", \"opacity\": 0, \"text\": \"From: Ronald Reagan Washington National Airport<br>To: William P. Hobby Airport<br>Avg. Delay: -8.01 mins\", \"type\": \"scattergeo\"}, {\"lat\": [38.85208, 39.71733], \"line\": {\"color\": \"#4682B4\", \"width\": 1}, \"locationmode\": \"USA-states\", \"lon\": [-77.03772, -86.29438], \"mode\": \"lines\", \"opacity\": 0.028711256117455137, \"text\": \"From: Ronald Reagan Washington National Airport<br>To: Indianapolis International Airport<br>Avg. Delay: 0.86 mins\", \"type\": \"scattergeo\"}, {\"lat\": [38.85208, 39.29761], \"line\": {\"color\": \"#4682B4\", \"width\": 1}, \"locationmode\": \"USA-states\", \"lon\": [-77.03772, -94.71391], \"mode\": \"lines\", \"opacity\": 0, \"text\": \"From: Ronald Reagan Washington National Airport<br>To: Kansas City International Airport<br>Avg. Delay: -0.8 mins\", \"type\": \"scattergeo\"}, {\"lat\": [38.85208, 28.428890000000003], \"line\": {\"color\": \"#4682B4\", \"width\": 1}, \"locationmode\": \"USA-states\", \"lon\": [-77.03772, -81.31603], \"mode\": \"lines\", \"opacity\": 0.8868852459016394, \"text\": \"From: Ronald Reagan Washington National Airport<br>To: Orlando International Airport<br>Avg. Delay: 26.6 mins\", \"type\": \"scattergeo\"}, {\"lat\": [38.85208, 41.78598], \"line\": {\"color\": \"#4682B4\", \"width\": 1}, \"locationmode\": \"USA-states\", \"lon\": [-77.03772, -87.75242], \"mode\": \"lines\", \"opacity\": 0.043883566691230655, \"text\": \"From: Ronald Reagan Washington National Airport<br>To: Chicago Midway International Airport<br>Avg. Delay: 1.31 mins\", \"type\": \"scattergeo\"}, {\"lat\": [38.85208, 42.94722], \"line\": {\"color\": \"#4682B4\", \"width\": 1}, \"locationmode\": \"USA-states\", \"lon\": [-77.03772, -87.89658], \"mode\": \"lines\", \"opacity\": 0, \"text\": \"From: Ronald Reagan Washington National Airport<br>To: General Mitchell International Airport<br>Avg. Delay: -2.18 mins\", \"type\": \"scattergeo\"}, {\"lat\": [38.85208, 29.99339], \"line\": {\"color\": \"#4682B4\", \"width\": 1}, \"locationmode\": \"USA-states\", \"lon\": [-77.03772, -90.25803], \"mode\": \"lines\", \"opacity\": 0, \"text\": \"From: Ronald Reagan Washington National Airport<br>To: Louis Armstrong New Orleans International Airport<br>Avg. Delay: -2.89 mins\", \"type\": \"scattergeo\"}, {\"lat\": [38.85208, 26.536170000000002], \"line\": {\"color\": \"#4682B4\", \"width\": 1}, \"locationmode\": \"USA-states\", \"lon\": [-77.03772, -81.75516999999999], \"mode\": \"lines\", \"opacity\": 0, \"text\": \"From: Ronald Reagan Washington National Airport<br>To: Southwest Florida International Airport<br>Avg. Delay: -7.91 mins\", \"type\": \"scattergeo\"}, {\"lat\": [38.85208, 38.747690000000006], \"line\": {\"color\": \"#4682B4\", \"width\": 1}, \"locationmode\": \"USA-states\", \"lon\": [-77.03772, -90.35999], \"mode\": \"lines\", \"opacity\": 0, \"text\": \"From: Ronald Reagan Washington National Airport<br>To: St. Louis International Airport at Lambert Field<br>Avg. Delay: -1.64 mins\", \"type\": \"scattergeo\"}, {\"lat\": [38.85208, 27.97547], \"line\": {\"color\": \"#4682B4\", \"width\": 1}, \"locationmode\": \"USA-states\", \"lon\": [-77.03772, -82.53325], \"mode\": \"lines\", \"opacity\": 0.07079463364293086, \"text\": \"From: Ronald Reagan Washington National Airport<br>To: Tampa International Airport<br>Avg. Delay: 2.12 mins\", \"type\": \"scattergeo\"}, {\"lat\": [39.85841, 35.04022], \"line\": {\"color\": \"#4682B4\", \"width\": 1}, \"locationmode\": \"USA-states\", \"lon\": [-104.667, -106.60918999999998], \"mode\": \"lines\", \"opacity\": 0.2382034632034632, \"text\": \"From: Denver International Airport<br>To: Albuquerque International Sunport<br>Avg. Delay: 7.14 mins\", \"type\": \"scattergeo\"}, {\"lat\": [39.85841, 42.74812], \"line\": {\"color\": \"#4682B4\", \"width\": 1}, \"locationmode\": \"USA-states\", \"lon\": [-104.667, -73.80298], \"mode\": \"lines\", \"opacity\": 0, \"text\": \"From: Denver International Airport<br>To: Albany International Airport<br>Avg. Delay: -16.33 mins\", \"type\": \"scattergeo\"}, {\"lat\": [39.85841, 33.640440000000005], \"line\": {\"color\": \"#4682B4\", \"width\": 1}, \"locationmode\": \"USA-states\", \"lon\": [-104.667, -84.42694], \"mode\": \"lines\", \"opacity\": 0.157166392092257, \"text\": \"From: Denver International Airport<br>To: Hartsfield-Jackson Atlanta International Airport<br>Avg. Delay: 4.71 mins\", \"type\": \"scattergeo\"}, {\"lat\": [39.85841, 30.19453], \"line\": {\"color\": \"#4682B4\", \"width\": 1}, \"locationmode\": \"USA-states\", \"lon\": [-104.667, -97.66986999999999], \"mode\": \"lines\", \"opacity\": 0.23500269251480882, \"text\": \"From: Denver International Airport<br>To: Austin-Bergstrom International Airport<br>Avg. Delay: 7.05 mins\", \"type\": \"scattergeo\"}, {\"lat\": [39.85841, 41.93887], \"line\": {\"color\": \"#4682B4\", \"width\": 1}, \"locationmode\": \"USA-states\", \"lon\": [-104.667, -72.68323000000001], \"mode\": \"lines\", \"opacity\": 0.1573134328358209, \"text\": \"From: Denver International Airport<br>To: Bradley International Airport<br>Avg. Delay: 4.71 mins\", \"type\": \"scattergeo\"}, {\"lat\": [39.85841, 36.12448], \"line\": {\"color\": \"#4682B4\", \"width\": 1}, \"locationmode\": \"USA-states\", \"lon\": [-104.667, -86.67818], \"mode\": \"lines\", \"opacity\": 0.1602374746597162, \"text\": \"From: Denver International Airport<br>To: Nashville International Airport<br>Avg. Delay: 4.8 mins\", \"type\": \"scattergeo\"}, {\"lat\": [39.85841, 43.564440000000005], \"line\": {\"color\": \"#4682B4\", \"width\": 1}, \"locationmode\": \"USA-states\", \"lon\": [-104.667, -116.22278], \"mode\": \"lines\", \"opacity\": 0.2433838383838384, \"text\": \"From: Denver International Airport<br>To: Boise Airport\\u00a0(Boise Air Terminal)<br>Avg. Delay: 7.3 mins\", \"type\": \"scattergeo\"}, {\"lat\": [39.85841, 42.36435], \"line\": {\"color\": \"#4682B4\", \"width\": 1}, \"locationmode\": \"USA-states\", \"lon\": [-104.667, -71.00518000000001], \"mode\": \"lines\", \"opacity\": 0.2637137137137137, \"text\": \"From: Denver International Airport<br>To: Gen. Edward Lawrence Logan International Airport<br>Avg. Delay: 7.91 mins\", \"type\": \"scattergeo\"}, {\"lat\": [39.85841, 34.20062], \"line\": {\"color\": \"#4682B4\", \"width\": 1}, \"locationmode\": \"USA-states\", \"lon\": [-104.667, -118.3585], \"mode\": \"lines\", \"opacity\": 0.07268817204301076, \"text\": \"From: Denver International Airport<br>To: Bob Hope Airport\\u00a0(Hollywood Burbank Airport)<br>Avg. Delay: 2.18 mins\", \"type\": \"scattergeo\"}, {\"lat\": [39.85841, 39.1754], \"line\": {\"color\": \"#4682B4\", \"width\": 1}, \"locationmode\": \"USA-states\", \"lon\": [-104.667, -76.6682], \"mode\": \"lines\", \"opacity\": 0.1537420382165605, \"text\": \"From: Denver International Airport<br>To: Baltimore-Washington International Airport<br>Avg. Delay: 4.61 mins\", \"type\": \"scattergeo\"}, {\"lat\": [39.85841, 40.916309999999996], \"line\": {\"color\": \"#4682B4\", \"width\": 1}, \"locationmode\": \"USA-states\", \"lon\": [-104.667, -81.44247], \"mode\": \"lines\", \"opacity\": 0.13592592592592592, \"text\": \"From: Denver International Airport<br>To: Akron-Canton Regional Airport<br>Avg. Delay: 4.07 mins\", \"type\": \"scattergeo\"}, {\"lat\": [39.85841, 41.41089], \"line\": {\"color\": \"#4682B4\", \"width\": 1}, \"locationmode\": \"USA-states\", \"lon\": [-104.667, -81.8494], \"mode\": \"lines\", \"opacity\": 0, \"text\": \"From: Denver International Airport<br>To: Cleveland Hopkins International Airport<br>Avg. Delay: -4.47 mins\", \"type\": \"scattergeo\"}, {\"lat\": [39.85841, 39.99799], \"line\": {\"color\": \"#4682B4\", \"width\": 1}, \"locationmode\": \"USA-states\", \"lon\": [-104.667, -82.89188], \"mode\": \"lines\", \"opacity\": 0.1647010647010647, \"text\": \"From: Denver International Airport<br>To: Port Columbus International Airport<br>Avg. Delay: 4.94 mins\", \"type\": \"scattergeo\"}, {\"lat\": [39.85841, 32.84711], \"line\": {\"color\": \"#4682B4\", \"width\": 1}, \"locationmode\": \"USA-states\", \"lon\": [-104.667, -96.85177], \"mode\": \"lines\", \"opacity\": 0.1856456043956044, \"text\": \"From: Denver International Airport<br>To: Dallas Love Field<br>Avg. Delay: 5.56 mins\", \"type\": \"scattergeo\"}, {\"lat\": [39.85841, 39.90238], \"line\": {\"color\": \"#4682B4\", \"width\": 1}, \"locationmode\": \"USA-states\", \"lon\": [-104.667, -84.21938], \"mode\": \"lines\", \"opacity\": 0.34767676767676764, \"text\": \"From: Denver International Airport<br>To: James M. Cox Dayton International Airport<br>Avg. Delay: 10.43 mins\", \"type\": \"scattergeo\"}, {\"lat\": [39.85841, 42.21206], \"line\": {\"color\": \"#4682B4\", \"width\": 1}, \"locationmode\": \"USA-states\", \"lon\": [-104.667, -83.34884], \"mode\": \"lines\", \"opacity\": 0.3480668756530826, \"text\": \"From: Denver International Airport<br>To: Detroit Metropolitan Airport<br>Avg. Delay: 10.44 mins\", \"type\": \"scattergeo\"}, {\"lat\": [39.85841, 40.6925], \"line\": {\"color\": \"#4682B4\", \"width\": 1}, \"locationmode\": \"USA-states\", \"lon\": [-104.667, -74.16866], \"mode\": \"lines\", \"opacity\": 0.47321131447587356, \"text\": \"From: Denver International Airport<br>To: Newark Liberty International Airport<br>Avg. Delay: 14.19 mins\", \"type\": \"scattergeo\"}, {\"lat\": [39.85841, 26.07258], \"line\": {\"color\": \"#4682B4\", \"width\": 1}, \"locationmode\": \"USA-states\", \"lon\": [-104.667, -80.15275], \"mode\": \"lines\", \"opacity\": 0.101181592039801, \"text\": \"From: Denver International Airport<br>To: Fort Lauderdale-Hollywood International Airport<br>Avg. Delay: 3.03 mins\", \"type\": \"scattergeo\"}, {\"lat\": [39.85841, 47.619859999999996], \"line\": {\"color\": \"#4682B4\", \"width\": 1}, \"locationmode\": \"USA-states\", \"lon\": [-104.667, -117.53383999999998], \"mode\": \"lines\", \"opacity\": 0.10020865936358894, \"text\": \"From: Denver International Airport<br>To: Spokane International Airport<br>Avg. Delay: 3.0 mins\", \"type\": \"scattergeo\"}, {\"lat\": [39.85841, 42.88082], \"line\": {\"color\": \"#4682B4\", \"width\": 1}, \"locationmode\": \"USA-states\", \"lon\": [-104.667, -85.52277], \"mode\": \"lines\", \"opacity\": 0.1646586345381526, \"text\": \"From: Denver International Airport<br>To: Gerald R. Ford International Airport<br>Avg. Delay: 4.93 mins\", \"type\": \"scattergeo\"}, {\"lat\": [39.85841, 29.64542], \"line\": {\"color\": \"#4682B4\", \"width\": 1}, \"locationmode\": \"USA-states\", \"lon\": [-104.667, -95.27889], \"mode\": \"lines\", \"opacity\": 0.22720504009163803, \"text\": \"From: Denver International Airport<br>To: William P. Hobby Airport<br>Avg. Delay: 6.81 mins\", \"type\": \"scattergeo\"}, {\"lat\": [39.85841, 38.94453], \"line\": {\"color\": \"#4682B4\", \"width\": 1}, \"locationmode\": \"USA-states\", \"lon\": [-104.667, -77.45581], \"mode\": \"lines\", \"opacity\": 0.13417213712618528, \"text\": \"From: Denver International Airport<br>To: Washington Dulles International Airport<br>Avg. Delay: 4.02 mins\", \"type\": \"scattergeo\"}, {\"lat\": [39.85841, 39.71733], \"line\": {\"color\": \"#4682B4\", \"width\": 1}, \"locationmode\": \"USA-states\", \"lon\": [-104.667, -86.29438], \"mode\": \"lines\", \"opacity\": 0.2921506511791623, \"text\": \"From: Denver International Airport<br>To: Indianapolis International Airport<br>Avg. Delay: 8.76 mins\", \"type\": \"scattergeo\"}, {\"lat\": [39.85841, 30.494059999999998], \"line\": {\"color\": \"#4682B4\", \"width\": 1}, \"locationmode\": \"USA-states\", \"lon\": [-104.667, -81.68786], \"mode\": \"lines\", \"opacity\": 0.37202380952380953, \"text\": \"From: Denver International Airport<br>To: Jacksonville International Airport<br>Avg. Delay: 11.16 mins\", \"type\": \"scattergeo\"}, {\"lat\": [39.85841, 36.08036], \"line\": {\"color\": \"#4682B4\", \"width\": 1}, \"locationmode\": \"USA-states\", \"lon\": [-104.667, -115.15233], \"mode\": \"lines\", \"opacity\": 0.12479380789239944, \"text\": \"From: Denver International Airport<br>To: McCarran International Airport<br>Avg. Delay: 3.74 mins\", \"type\": \"scattergeo\"}, {\"lat\": [39.85841, 33.94254], \"line\": {\"color\": \"#4682B4\", \"width\": 1}, \"locationmode\": \"USA-states\", \"lon\": [-104.667, -118.40807], \"mode\": \"lines\", \"opacity\": 0.265810746552544, \"text\": \"From: Denver International Airport<br>To: Los Angeles International Airport<br>Avg. Delay: 7.97 mins\", \"type\": \"scattergeo\"}, {\"lat\": [39.85841, 40.77724], \"line\": {\"color\": \"#4682B4\", \"width\": 1}, \"locationmode\": \"USA-states\", \"lon\": [-104.667, -73.87261], \"mode\": \"lines\", \"opacity\": 0.24154589371980678, \"text\": \"From: Denver International Airport<br>To: LaGuardia Airport (Marine Air Terminal)<br>Avg. Delay: 7.24 mins\", \"type\": \"scattergeo\"}, {\"lat\": [39.85841, 39.29761], \"line\": {\"color\": \"#4682B4\", \"width\": 1}, \"locationmode\": \"USA-states\", \"lon\": [-104.667, -94.71391], \"mode\": \"lines\", \"opacity\": 0.20224502886465684, \"text\": \"From: Denver International Airport<br>To: Kansas City International Airport<br>Avg. Delay: 6.06 mins\", \"type\": \"scattergeo\"}, {\"lat\": [39.85841, 28.428890000000003], \"line\": {\"color\": \"#4682B4\", \"width\": 1}, \"locationmode\": \"USA-states\", \"lon\": [-104.667, -81.31603], \"mode\": \"lines\", \"opacity\": 0.20804701627486435, \"text\": \"From: Denver International Airport<br>To: Orlando International Airport<br>Avg. Delay: 6.24 mins\", \"type\": \"scattergeo\"}, {\"lat\": [39.85841, 41.78598], \"line\": {\"color\": \"#4682B4\", \"width\": 1}, \"locationmode\": \"USA-states\", \"lon\": [-104.667, -87.75242], \"mode\": \"lines\", \"opacity\": 0.15585927613262465, \"text\": \"From: Denver International Airport<br>To: Chicago Midway International Airport<br>Avg. Delay: 4.67 mins\", \"type\": \"scattergeo\"}, {\"lat\": [39.85841, 42.94722], \"line\": {\"color\": \"#4682B4\", \"width\": 1}, \"locationmode\": \"USA-states\", \"lon\": [-104.667, -87.89658], \"mode\": \"lines\", \"opacity\": 0.25952950558213717, \"text\": \"From: Denver International Airport<br>To: General Mitchell International Airport<br>Avg. Delay: 7.78 mins\", \"type\": \"scattergeo\"}, {\"lat\": [39.85841, 44.88055], \"line\": {\"color\": \"#4682B4\", \"width\": 1}, \"locationmode\": \"USA-states\", \"lon\": [-104.667, -93.21692], \"mode\": \"lines\", \"opacity\": 0.2682765151515152, \"text\": \"From: Denver International Airport<br>To: Minneapolis-Saint Paul International Airport<br>Avg. Delay: 8.04 mins\", \"type\": \"scattergeo\"}, {\"lat\": [39.85841, 29.99339], \"line\": {\"color\": \"#4682B4\", \"width\": 1}, \"locationmode\": \"USA-states\", \"lon\": [-104.667, -90.25803], \"mode\": \"lines\", \"opacity\": 0.19680365296803654, \"text\": \"From: Denver International Airport<br>To: Louis Armstrong New Orleans International Airport<br>Avg. Delay: 5.9 mins\", \"type\": \"scattergeo\"}, {\"lat\": [39.85841, 37.72129], \"line\": {\"color\": \"#4682B4\", \"width\": 1}, \"locationmode\": \"USA-states\", \"lon\": [-104.667, -122.22072], \"mode\": \"lines\", \"opacity\": 0.10279815267590328, \"text\": \"From: Denver International Airport<br>To: Oakland International Airport<br>Avg. Delay: 3.08 mins\", \"type\": \"scattergeo\"}, {\"lat\": [39.85841, 35.39309], \"line\": {\"color\": \"#4682B4\", \"width\": 1}, \"locationmode\": \"USA-states\", \"lon\": [-104.667, -97.60073], \"mode\": \"lines\", \"opacity\": 0.26219599427753937, \"text\": \"From: Denver International Airport<br>To: Will Rogers World Airport<br>Avg. Delay: 7.86 mins\", \"type\": \"scattergeo\"}, {\"lat\": [39.85841, 41.30252], \"line\": {\"color\": \"#4682B4\", \"width\": 1}, \"locationmode\": \"USA-states\", \"lon\": [-104.667, -95.89416999999999], \"mode\": \"lines\", \"opacity\": 0.28614351360904916, \"text\": \"From: Denver International Airport<br>To: Eppley Airfield<br>Avg. Delay: 8.58 mins\", \"type\": \"scattergeo\"}, {\"lat\": [39.85841, 34.056], \"line\": {\"color\": \"#4682B4\", \"width\": 1}, \"locationmode\": \"USA-states\", \"lon\": [-104.667, -117.60118999999999], \"mode\": \"lines\", \"opacity\": 0.07504132231404959, \"text\": \"From: Denver International Airport<br>To: Ontario International Airport<br>Avg. Delay: 2.25 mins\", \"type\": \"scattergeo\"}, {\"lat\": [39.85841, 45.58872], \"line\": {\"color\": \"#4682B4\", \"width\": 1}, \"locationmode\": \"USA-states\", \"lon\": [-104.667, -122.5975], \"mode\": \"lines\", \"opacity\": 0.059978598180845374, \"text\": \"From: Denver International Airport<br>To: Portland International Airport<br>Avg. Delay: 1.79 mins\", \"type\": \"scattergeo\"}, {\"lat\": [39.85841, 39.87195], \"line\": {\"color\": \"#4682B4\", \"width\": 1}, \"locationmode\": \"USA-states\", \"lon\": [-104.667, -75.24114], \"mode\": \"lines\", \"opacity\": 0.13977713178294573, \"text\": \"From: Denver International Airport<br>To: Philadelphia International Airport<br>Avg. Delay: 4.19 mins\", \"type\": \"scattergeo\"}, {\"lat\": [39.85841, 33.43417], \"line\": {\"color\": \"#4682B4\", \"width\": 1}, \"locationmode\": \"USA-states\", \"lon\": [-104.667, -112.00806000000001], \"mode\": \"lines\", \"opacity\": 0.14745989304812834, \"text\": \"From: Denver International Airport<br>To: Phoenix Sky Harbor International Airport<br>Avg. Delay: 4.42 mins\", \"type\": \"scattergeo\"}, {\"lat\": [39.85841, 40.49147], \"line\": {\"color\": \"#4682B4\", \"width\": 1}, \"locationmode\": \"USA-states\", \"lon\": [-104.667, -80.23286999999999], \"mode\": \"lines\", \"opacity\": 0.3311336717428088, \"text\": \"From: Denver International Airport<br>To: Pittsburgh International Airport<br>Avg. Delay: 9.93 mins\", \"type\": \"scattergeo\"}, {\"lat\": [39.85841, 35.87764], \"line\": {\"color\": \"#4682B4\", \"width\": 1}, \"locationmode\": \"USA-states\", \"lon\": [-104.667, -78.78747], \"mode\": \"lines\", \"opacity\": 0.19533799533799534, \"text\": \"From: Denver International Airport<br>To: Raleigh-Durham International Airport<br>Avg. Delay: 5.86 mins\", \"type\": \"scattergeo\"}, {\"lat\": [39.85841, 39.49858], \"line\": {\"color\": \"#4682B4\", \"width\": 1}, \"locationmode\": \"USA-states\", \"lon\": [-104.667, -119.76806], \"mode\": \"lines\", \"opacity\": 0, \"text\": \"From: Denver International Airport<br>To: Reno/Tahoe International Airport<br>Avg. Delay: -0.84 mins\", \"type\": \"scattergeo\"}, {\"lat\": [39.85841, 26.536170000000002], \"line\": {\"color\": \"#4682B4\", \"width\": 1}, \"locationmode\": \"USA-states\", \"lon\": [-104.667, -81.75516999999999], \"mode\": \"lines\", \"opacity\": 0.14666666666666667, \"text\": \"From: Denver International Airport<br>To: Southwest Florida International Airport<br>Avg. Delay: 4.4 mins\", \"type\": \"scattergeo\"}, {\"lat\": [39.85841, 32.73356], \"line\": {\"color\": \"#4682B4\", \"width\": 1}, \"locationmode\": \"USA-states\", \"lon\": [-104.667, -117.18966], \"mode\": \"lines\", \"opacity\": 0.09615231259968102, \"text\": \"From: Denver International Airport<br>To: San Diego International Airport\\u00a0(Lindbergh Field)<br>Avg. Delay: 2.88 mins\", \"type\": \"scattergeo\"}, {\"lat\": [39.85841, 29.533690000000004], \"line\": {\"color\": \"#4682B4\", \"width\": 1}, \"locationmode\": \"USA-states\", \"lon\": [-104.667, -98.46978], \"mode\": \"lines\", \"opacity\": 0.3001245330012453, \"text\": \"From: Denver International Airport<br>To: San Antonio International Airport<br>Avg. Delay: 9.0 mins\", \"type\": \"scattergeo\"}, {\"lat\": [39.85841, 38.17439], \"line\": {\"color\": \"#4682B4\", \"width\": 1}, \"locationmode\": \"USA-states\", \"lon\": [-104.667, -85.736], \"mode\": \"lines\", \"opacity\": 0.29879879879879884, \"text\": \"From: Denver International Airport<br>To: Louisville International Airport\\u00a0(Standiford Field)<br>Avg. Delay: 8.96 mins\", \"type\": \"scattergeo\"}, {\"lat\": [39.85841, 47.44898], \"line\": {\"color\": \"#4682B4\", \"width\": 1}, \"locationmode\": \"USA-states\", \"lon\": [-104.667, -122.30931000000001], \"mode\": \"lines\", \"opacity\": 0.27479369842460616, \"text\": \"From: Denver International Airport<br>To: Seattle-Tacoma International Airport<br>Avg. Delay: 8.24 mins\", \"type\": \"scattergeo\"}, {\"lat\": [39.85841, 37.619], \"line\": {\"color\": \"#4682B4\", \"width\": 1}, \"locationmode\": \"USA-states\", \"lon\": [-104.667, -122.37483999999999], \"mode\": \"lines\", \"opacity\": 0.2917233560090703, \"text\": \"From: Denver International Airport<br>To: San Francisco International Airport<br>Avg. Delay: 8.75 mins\", \"type\": \"scattergeo\"}, {\"lat\": [39.85841, 37.36186], \"line\": {\"color\": \"#4682B4\", \"width\": 1}, \"locationmode\": \"USA-states\", \"lon\": [-104.667, -121.92901], \"mode\": \"lines\", \"opacity\": 0.1021250758955677, \"text\": \"From: Denver International Airport<br>To: Norman Y. Mineta San Jos\\u00e9 International Airport<br>Avg. Delay: 3.06 mins\", \"type\": \"scattergeo\"}, {\"lat\": [39.85841, 40.78839], \"line\": {\"color\": \"#4682B4\", \"width\": 1}, \"locationmode\": \"USA-states\", \"lon\": [-104.667, -111.97776999999999], \"mode\": \"lines\", \"opacity\": 0.17433691756272401, \"text\": \"From: Denver International Airport<br>To: Salt Lake City International Airport<br>Avg. Delay: 5.23 mins\", \"type\": \"scattergeo\"}, {\"lat\": [39.85841, 38.69542], \"line\": {\"color\": \"#4682B4\", \"width\": 1}, \"locationmode\": \"USA-states\", \"lon\": [-104.667, -121.59076999999999], \"mode\": \"lines\", \"opacity\": 0.09835587377353487, \"text\": \"From: Denver International Airport<br>To: Sacramento International Airport<br>Avg. Delay: 2.95 mins\", \"type\": \"scattergeo\"}, {\"lat\": [39.85841, 33.67566], \"line\": {\"color\": \"#4682B4\", \"width\": 1}, \"locationmode\": \"USA-states\", \"lon\": [-104.667, -117.86822], \"mode\": \"lines\", \"opacity\": 0.025942350332594236, \"text\": \"From: Denver International Airport<br>To: John Wayne Airport\\u00a0(Orange County Airport)<br>Avg. Delay: 0.77 mins\", \"type\": \"scattergeo\"}, {\"lat\": [39.85841, 38.747690000000006], \"line\": {\"color\": \"#4682B4\", \"width\": 1}, \"locationmode\": \"USA-states\", \"lon\": [-104.667, -90.35999], \"mode\": \"lines\", \"opacity\": 0.22577319587628866, \"text\": \"From: Denver International Airport<br>To: St. Louis International Airport at Lambert Field<br>Avg. Delay: 6.77 mins\", \"type\": \"scattergeo\"}, {\"lat\": [39.85841, 27.97547], \"line\": {\"color\": \"#4682B4\", \"width\": 1}, \"locationmode\": \"USA-states\", \"lon\": [-104.667, -82.53325], \"mode\": \"lines\", \"opacity\": 0.3553018772196854, \"text\": \"From: Denver International Airport<br>To: Tampa International Airport<br>Avg. Delay: 10.65 mins\", \"type\": \"scattergeo\"}, {\"lat\": [39.85841, 36.198370000000004], \"line\": {\"color\": \"#4682B4\", \"width\": 1}, \"locationmode\": \"USA-states\", \"lon\": [-104.667, -95.88824], \"mode\": \"lines\", \"opacity\": 0.33484611371935313, \"text\": \"From: Denver International Airport<br>To: Tulsa International Airport<br>Avg. Delay: 10.04 mins\", \"type\": \"scattergeo\"}, {\"lat\": [39.85841, 32.11608], \"line\": {\"color\": \"#4682B4\", \"width\": 1}, \"locationmode\": \"USA-states\", \"lon\": [-104.667, -110.94103], \"mode\": \"lines\", \"opacity\": 0.14465592972181554, \"text\": \"From: Denver International Airport<br>To: Tucson International Airport<br>Avg. Delay: 4.33 mins\", \"type\": \"scattergeo\"}, {\"lat\": [41.534929999999996, 36.08036], \"line\": {\"color\": \"#4682B4\", \"width\": 1}, \"locationmode\": \"USA-states\", \"lon\": [-93.66068, -115.15233], \"mode\": \"lines\", \"opacity\": 0.02608257804632427, \"text\": \"From: Des Moines International Airport<br>To: McCarran International Airport<br>Avg. Delay: 0.78 mins\", \"type\": \"scattergeo\"}, {\"lat\": [41.534929999999996, 41.78598], \"line\": {\"color\": \"#4682B4\", \"width\": 1}, \"locationmode\": \"USA-states\", \"lon\": [-93.66068, -87.75242], \"mode\": \"lines\", \"opacity\": 0.031150159744408944, \"text\": \"From: Des Moines International Airport<br>To: Chicago Midway International Airport<br>Avg. Delay: 0.93 mins\", \"type\": \"scattergeo\"}, {\"lat\": [42.21206, 33.640440000000005], \"line\": {\"color\": \"#4682B4\", \"width\": 1}, \"locationmode\": \"USA-states\", \"lon\": [-83.34884, -84.42694], \"mode\": \"lines\", \"opacity\": 0.09034267912772585, \"text\": \"From: Detroit Metropolitan Airport<br>To: Hartsfield-Jackson Atlanta International Airport<br>Avg. Delay: 2.71 mins\", \"type\": \"scattergeo\"}, {\"lat\": [42.21206, 36.12448], \"line\": {\"color\": \"#4682B4\", \"width\": 1}, \"locationmode\": \"USA-states\", \"lon\": [-83.34884, -86.67818], \"mode\": \"lines\", \"opacity\": 0, \"text\": \"From: Detroit Metropolitan Airport<br>To: Nashville International Airport<br>Avg. Delay: -0.86 mins\", \"type\": \"scattergeo\"}, {\"lat\": [42.21206, 39.1754], \"line\": {\"color\": \"#4682B4\", \"width\": 1}, \"locationmode\": \"USA-states\", \"lon\": [-83.34884, -76.6682], \"mode\": \"lines\", \"opacity\": 0.09216323582520765, \"text\": \"From: Detroit Metropolitan Airport<br>To: Baltimore-Washington International Airport<br>Avg. Delay: 2.76 mins\", \"type\": \"scattergeo\"}, {\"lat\": [42.21206, 32.84711], \"line\": {\"color\": \"#4682B4\", \"width\": 1}, \"locationmode\": \"USA-states\", \"lon\": [-83.34884, -96.85177], \"mode\": \"lines\", \"opacity\": 0, \"text\": \"From: Detroit Metropolitan Airport<br>To: Dallas Love Field<br>Avg. Delay: -13.47 mins\", \"type\": \"scattergeo\"}, {\"lat\": [42.21206, 39.85841], \"line\": {\"color\": \"#4682B4\", \"width\": 1}, \"locationmode\": \"USA-states\", \"lon\": [-83.34884, -104.667], \"mode\": \"lines\", \"opacity\": 0, \"text\": \"From: Detroit Metropolitan Airport<br>To: Denver International Airport<br>Avg. Delay: -2.32 mins\", \"type\": \"scattergeo\"}, {\"lat\": [42.21206, 36.08036], \"line\": {\"color\": \"#4682B4\", \"width\": 1}, \"locationmode\": \"USA-states\", \"lon\": [-83.34884, -115.15233], \"mode\": \"lines\", \"opacity\": 0, \"text\": \"From: Detroit Metropolitan Airport<br>To: McCarran International Airport<br>Avg. Delay: -7.43 mins\", \"type\": \"scattergeo\"}, {\"lat\": [42.21206, 28.428890000000003], \"line\": {\"color\": \"#4682B4\", \"width\": 1}, \"locationmode\": \"USA-states\", \"lon\": [-83.34884, -81.31603], \"mode\": \"lines\", \"opacity\": 0, \"text\": \"From: Detroit Metropolitan Airport<br>To: Orlando International Airport<br>Avg. Delay: -15.0 mins\", \"type\": \"scattergeo\"}, {\"lat\": [42.21206, 41.78598], \"line\": {\"color\": \"#4682B4\", \"width\": 1}, \"locationmode\": \"USA-states\", \"lon\": [-83.34884, -87.75242], \"mode\": \"lines\", \"opacity\": 0.11352914997774811, \"text\": \"From: Detroit Metropolitan Airport<br>To: Chicago Midway International Airport<br>Avg. Delay: 3.4 mins\", \"type\": \"scattergeo\"}, {\"lat\": [42.21206, 33.43417], \"line\": {\"color\": \"#4682B4\", \"width\": 1}, \"locationmode\": \"USA-states\", \"lon\": [-83.34884, -112.00806000000001], \"mode\": \"lines\", \"opacity\": 0, \"text\": \"From: Detroit Metropolitan Airport<br>To: Phoenix Sky Harbor International Airport<br>Avg. Delay: -3.04 mins\", \"type\": \"scattergeo\"}, {\"lat\": [42.21206, 38.747690000000006], \"line\": {\"color\": \"#4682B4\", \"width\": 1}, \"locationmode\": \"USA-states\", \"lon\": [-83.34884, -90.35999], \"mode\": \"lines\", \"opacity\": 0.04446280991735537, \"text\": \"From: Detroit Metropolitan Airport<br>To: St. Louis International Airport at Lambert Field<br>Avg. Delay: 1.33 mins\", \"type\": \"scattergeo\"}, {\"lat\": [null, 36.12448], \"line\": {\"color\": \"#4682B4\", \"width\": 1}, \"locationmode\": \"USA-states\", \"lon\": [null, -86.67818], \"mode\": \"lines\", \"opacity\": 0, \"text\": \"From: Northwest Florida Beaches International Airport<br>To: Nashville International Airport<br>Avg. Delay: -1.31 mins\", \"type\": \"scattergeo\"}, {\"lat\": [null, 39.1754], \"line\": {\"color\": \"#4682B4\", \"width\": 1}, \"locationmode\": \"USA-states\", \"lon\": [null, -76.6682], \"mode\": \"lines\", \"opacity\": 0, \"text\": \"From: Northwest Florida Beaches International Airport<br>To: Baltimore-Washington International Airport<br>Avg. Delay: -3.82 mins\", \"type\": \"scattergeo\"}, {\"lat\": [null, 32.84711], \"line\": {\"color\": \"#4682B4\", \"width\": 1}, \"locationmode\": \"USA-states\", \"lon\": [null, -96.85177], \"mode\": \"lines\", \"opacity\": 0, \"text\": \"From: Northwest Florida Beaches International Airport<br>To: Dallas Love Field<br>Avg. Delay: -7.9 mins\", \"type\": \"scattergeo\"}, {\"lat\": [null, 29.64542], \"line\": {\"color\": \"#4682B4\", \"width\": 1}, \"locationmode\": \"USA-states\", \"lon\": [null, -95.27889], \"mode\": \"lines\", \"opacity\": 0, \"text\": \"From: Northwest Florida Beaches International Airport<br>To: William P. Hobby Airport<br>Avg. Delay: -3.27 mins\", \"type\": \"scattergeo\"}, {\"lat\": [null, 38.747690000000006], \"line\": {\"color\": \"#4682B4\", \"width\": 1}, \"locationmode\": \"USA-states\", \"lon\": [null, -90.35999], \"mode\": \"lines\", \"opacity\": 0.37703252032520324, \"text\": \"From: Northwest Florida Beaches International Airport<br>To: St. Louis International Airport at Lambert Field<br>Avg. Delay: 11.31 mins\", \"type\": \"scattergeo\"}, {\"lat\": [31.80667, 30.19453], \"line\": {\"color\": \"#4682B4\", \"width\": 1}, \"locationmode\": \"USA-states\", \"lon\": [-106.37781000000001, -97.66986999999999], \"mode\": \"lines\", \"opacity\": 0.2812646370023419, \"text\": \"From: El Paso International Airport<br>To: Austin-Bergstrom International Airport<br>Avg. Delay: 8.43 mins\", \"type\": \"scattergeo\"}, {\"lat\": [31.80667, 32.84711], \"line\": {\"color\": \"#4682B4\", \"width\": 1}, \"locationmode\": \"USA-states\", \"lon\": [-106.37781000000001, -96.85177], \"mode\": \"lines\", \"opacity\": 0.15945372580217448, \"text\": \"From: El Paso International Airport<br>To: Dallas Love Field<br>Avg. Delay: 4.78 mins\", \"type\": \"scattergeo\"}, {\"lat\": [31.80667, 29.64542], \"line\": {\"color\": \"#4682B4\", \"width\": 1}, \"locationmode\": \"USA-states\", \"lon\": [-106.37781000000001, -95.27889], \"mode\": \"lines\", \"opacity\": 0.20293040293040293, \"text\": \"From: El Paso International Airport<br>To: William P. Hobby Airport<br>Avg. Delay: 6.08 mins\", \"type\": \"scattergeo\"}, {\"lat\": [31.80667, 36.08036], \"line\": {\"color\": \"#4682B4\", \"width\": 1}, \"locationmode\": \"USA-states\", \"lon\": [-106.37781000000001, -115.15233], \"mode\": \"lines\", \"opacity\": 0.10523076923076922, \"text\": \"From: El Paso International Airport<br>To: McCarran International Airport<br>Avg. Delay: 3.15 mins\", \"type\": \"scattergeo\"}, {\"lat\": [31.80667, 33.94254], \"line\": {\"color\": \"#4682B4\", \"width\": 1}, \"locationmode\": \"USA-states\", \"lon\": [-106.37781000000001, -118.40807], \"mode\": \"lines\", \"opacity\": 0.21219110378912687, \"text\": \"From: El Paso International Airport<br>To: Los Angeles International Airport<br>Avg. Delay: 6.36 mins\", \"type\": \"scattergeo\"}, {\"lat\": [31.80667, 33.43417], \"line\": {\"color\": \"#4682B4\", \"width\": 1}, \"locationmode\": \"USA-states\", \"lon\": [-106.37781000000001, -112.00806000000001], \"mode\": \"lines\", \"opacity\": 0.233226581265012, \"text\": \"From: El Paso International Airport<br>To: Phoenix Sky Harbor International Airport<br>Avg. Delay: 6.99 mins\", \"type\": \"scattergeo\"}, {\"lat\": [31.80667, 29.533690000000004], \"line\": {\"color\": \"#4682B4\", \"width\": 1}, \"locationmode\": \"USA-states\", \"lon\": [-106.37781000000001, -98.46978], \"mode\": \"lines\", \"opacity\": 0.20025445292620866, \"text\": \"From: El Paso International Airport<br>To: San Antonio International Airport<br>Avg. Delay: 6.0 mins\", \"type\": \"scattergeo\"}, {\"lat\": [40.6925, 30.19453], \"line\": {\"color\": \"#4682B4\", \"width\": 1}, \"locationmode\": \"USA-states\", \"lon\": [-74.16866, -97.66986999999999], \"mode\": \"lines\", \"opacity\": 0, \"text\": \"From: Newark Liberty International Airport<br>To: Austin-Bergstrom International Airport<br>Avg. Delay: -3.47 mins\", \"type\": \"scattergeo\"}, {\"lat\": [40.6925, 36.12448], \"line\": {\"color\": \"#4682B4\", \"width\": 1}, \"locationmode\": \"USA-states\", \"lon\": [-74.16866, -86.67818], \"mode\": \"lines\", \"opacity\": 0.005923344947735192, \"text\": \"From: Newark Liberty International Airport<br>To: Nashville International Airport<br>Avg. Delay: 0.17 mins\", \"type\": \"scattergeo\"}, {\"lat\": [40.6925, 39.85841], \"line\": {\"color\": \"#4682B4\", \"width\": 1}, \"locationmode\": \"USA-states\", \"lon\": [-74.16866, -104.667], \"mode\": \"lines\", \"opacity\": 0, \"text\": \"From: Newark Liberty International Airport<br>To: Denver International Airport<br>Avg. Delay: -1.47 mins\", \"type\": \"scattergeo\"}, {\"lat\": [40.6925, 29.64542], \"line\": {\"color\": \"#4682B4\", \"width\": 1}, \"locationmode\": \"USA-states\", \"lon\": [-74.16866, -95.27889], \"mode\": \"lines\", \"opacity\": 0, \"text\": \"From: Newark Liberty International Airport<br>To: William P. Hobby Airport<br>Avg. Delay: -2.01 mins\", \"type\": \"scattergeo\"}, {\"lat\": [40.6925, 41.78598], \"line\": {\"color\": \"#4682B4\", \"width\": 1}, \"locationmode\": \"USA-states\", \"lon\": [-74.16866, -87.75242], \"mode\": \"lines\", \"opacity\": 0.11409277745155608, \"text\": \"From: Newark Liberty International Airport<br>To: Chicago Midway International Airport<br>Avg. Delay: 3.42 mins\", \"type\": \"scattergeo\"}, {\"lat\": [40.6925, 29.99339], \"line\": {\"color\": \"#4682B4\", \"width\": 1}, \"locationmode\": \"USA-states\", \"lon\": [-74.16866, -90.25803], \"mode\": \"lines\", \"opacity\": 0, \"text\": \"From: Newark Liberty International Airport<br>To: Louis Armstrong New Orleans International Airport<br>Avg. Delay: -5.64 mins\", \"type\": \"scattergeo\"}, {\"lat\": [40.6925, 33.43417], \"line\": {\"color\": \"#4682B4\", \"width\": 1}, \"locationmode\": \"USA-states\", \"lon\": [-74.16866, -112.00806000000001], \"mode\": \"lines\", \"opacity\": 0, \"text\": \"From: Newark Liberty International Airport<br>To: Phoenix Sky Harbor International Airport<br>Avg. Delay: -1.54 mins\", \"type\": \"scattergeo\"}, {\"lat\": [40.6925, 38.747690000000006], \"line\": {\"color\": \"#4682B4\", \"width\": 1}, \"locationmode\": \"USA-states\", \"lon\": [-74.16866, -90.35999], \"mode\": \"lines\", \"opacity\": 0.02337363270005757, \"text\": \"From: Newark Liberty International Airport<br>To: St. Louis International Airport at Lambert Field<br>Avg. Delay: 0.7 mins\", \"type\": \"scattergeo\"}, {\"lat\": [26.07258, 42.74812], \"line\": {\"color\": \"#4682B4\", \"width\": 1}, \"locationmode\": \"USA-states\", \"lon\": [-80.15275, -73.80298], \"mode\": \"lines\", \"opacity\": 0, \"text\": \"From: Fort Lauderdale-Hollywood International Airport<br>To: Albany International Airport<br>Avg. Delay: -3.94 mins\", \"type\": \"scattergeo\"}, {\"lat\": [26.07258, 33.640440000000005], \"line\": {\"color\": \"#4682B4\", \"width\": 1}, \"locationmode\": \"USA-states\", \"lon\": [-80.15275, -84.42694], \"mode\": \"lines\", \"opacity\": 0, \"text\": \"From: Fort Lauderdale-Hollywood International Airport<br>To: Hartsfield-Jackson Atlanta International Airport<br>Avg. Delay: -0.11 mins\", \"type\": \"scattergeo\"}, {\"lat\": [26.07258, 30.19453], \"line\": {\"color\": \"#4682B4\", \"width\": 1}, \"locationmode\": \"USA-states\", \"lon\": [-80.15275, -97.66986999999999], \"mode\": \"lines\", \"opacity\": 0, \"text\": \"From: Fort Lauderdale-Hollywood International Airport<br>To: Austin-Bergstrom International Airport<br>Avg. Delay: -3.0 mins\", \"type\": \"scattergeo\"}, {\"lat\": [26.07258, 41.93887], \"line\": {\"color\": \"#4682B4\", \"width\": 1}, \"locationmode\": \"USA-states\", \"lon\": [-80.15275, -72.68323000000001], \"mode\": \"lines\", \"opacity\": 0.20916905444126074, \"text\": \"From: Fort Lauderdale-Hollywood International Airport<br>To: Bradley International Airport<br>Avg. Delay: 6.27 mins\", \"type\": \"scattergeo\"}, {\"lat\": [26.07258, 36.12448], \"line\": {\"color\": \"#4682B4\", \"width\": 1}, \"locationmode\": \"USA-states\", \"lon\": [-80.15275, -86.67818], \"mode\": \"lines\", \"opacity\": 0.010471204188481676, \"text\": \"From: Fort Lauderdale-Hollywood International Airport<br>To: Nashville International Airport<br>Avg. Delay: 0.31 mins\", \"type\": \"scattergeo\"}, {\"lat\": [26.07258, 42.94052], \"line\": {\"color\": \"#4682B4\", \"width\": 1}, \"locationmode\": \"USA-states\", \"lon\": [-80.15275, -78.73217], \"mode\": \"lines\", \"opacity\": 0, \"text\": \"From: Fort Lauderdale-Hollywood International Airport<br>To: Buffalo Niagara International Airport<br>Avg. Delay: -0.98 mins\", \"type\": \"scattergeo\"}, {\"lat\": [26.07258, 39.1754], \"line\": {\"color\": \"#4682B4\", \"width\": 1}, \"locationmode\": \"USA-states\", \"lon\": [-80.15275, -76.6682], \"mode\": \"lines\", \"opacity\": 0, \"text\": \"From: Fort Lauderdale-Hollywood International Airport<br>To: Baltimore-Washington International Airport<br>Avg. Delay: -0.7 mins\", \"type\": \"scattergeo\"}, {\"lat\": [26.07258, 39.99799], \"line\": {\"color\": \"#4682B4\", \"width\": 1}, \"locationmode\": \"USA-states\", \"lon\": [-80.15275, -82.89188], \"mode\": \"lines\", \"opacity\": 0.1934619506966774, \"text\": \"From: Fort Lauderdale-Hollywood International Airport<br>To: Port Columbus International Airport<br>Avg. Delay: 5.8 mins\", \"type\": \"scattergeo\"}, {\"lat\": [26.07258, 32.84711], \"line\": {\"color\": \"#4682B4\", \"width\": 1}, \"locationmode\": \"USA-states\", \"lon\": [-80.15275, -96.85177], \"mode\": \"lines\", \"opacity\": 0, \"text\": \"From: Fort Lauderdale-Hollywood International Airport<br>To: Dallas Love Field<br>Avg. Delay: -6.34 mins\", \"type\": \"scattergeo\"}, {\"lat\": [26.07258, 38.85208], \"line\": {\"color\": \"#4682B4\", \"width\": 1}, \"locationmode\": \"USA-states\", \"lon\": [-80.15275, -77.03772], \"mode\": \"lines\", \"opacity\": 0.37079646017699114, \"text\": \"From: Fort Lauderdale-Hollywood International Airport<br>To: Ronald Reagan Washington National Airport<br>Avg. Delay: 11.12 mins\", \"type\": \"scattergeo\"}, {\"lat\": [26.07258, 39.85841], \"line\": {\"color\": \"#4682B4\", \"width\": 1}, \"locationmode\": \"USA-states\", \"lon\": [-80.15275, -104.667], \"mode\": \"lines\", \"opacity\": 0, \"text\": \"From: Fort Lauderdale-Hollywood International Airport<br>To: Denver International Airport<br>Avg. Delay: -5.75 mins\", \"type\": \"scattergeo\"}, {\"lat\": [26.07258, 29.64542], \"line\": {\"color\": \"#4682B4\", \"width\": 1}, \"locationmode\": \"USA-states\", \"lon\": [-80.15275, -95.27889], \"mode\": \"lines\", \"opacity\": 0, \"text\": \"From: Fort Lauderdale-Hollywood International Airport<br>To: William P. Hobby Airport<br>Avg. Delay: -8.23 mins\", \"type\": \"scattergeo\"}, {\"lat\": [26.07258, 39.71733], \"line\": {\"color\": \"#4682B4\", \"width\": 1}, \"locationmode\": \"USA-states\", \"lon\": [-80.15275, -86.29438], \"mode\": \"lines\", \"opacity\": 0, \"text\": \"From: Fort Lauderdale-Hollywood International Airport<br>To: Indianapolis International Airport<br>Avg. Delay: -6.38 mins\", \"type\": \"scattergeo\"}, {\"lat\": [26.07258, 40.79524], \"line\": {\"color\": \"#4682B4\", \"width\": 1}, \"locationmode\": \"USA-states\", \"lon\": [-80.15275, -73.10021], \"mode\": \"lines\", \"opacity\": 0.2738970588235294, \"text\": \"From: Fort Lauderdale-Hollywood International Airport<br>To: Long Island MacArthur Airport<br>Avg. Delay: 8.21 mins\", \"type\": \"scattergeo\"}, {\"lat\": [26.07258, 36.08036], \"line\": {\"color\": \"#4682B4\", \"width\": 1}, \"locationmode\": \"USA-states\", \"lon\": [-80.15275, -115.15233], \"mode\": \"lines\", \"opacity\": 0, \"text\": \"From: Fort Lauderdale-Hollywood International Airport<br>To: McCarran International Airport<br>Avg. Delay: -15.94 mins\", \"type\": \"scattergeo\"}, {\"lat\": [26.07258, 39.29761], \"line\": {\"color\": \"#4682B4\", \"width\": 1}, \"locationmode\": \"USA-states\", \"lon\": [-80.15275, -94.71391], \"mode\": \"lines\", \"opacity\": 0, \"text\": \"From: Fort Lauderdale-Hollywood International Airport<br>To: Kansas City International Airport<br>Avg. Delay: -5.5 mins\", \"type\": \"scattergeo\"}, {\"lat\": [26.07258, 41.78598], \"line\": {\"color\": \"#4682B4\", \"width\": 1}, \"locationmode\": \"USA-states\", \"lon\": [-80.15275, -87.75242], \"mode\": \"lines\", \"opacity\": 0, \"text\": \"From: Fort Lauderdale-Hollywood International Airport<br>To: Chicago Midway International Airport<br>Avg. Delay: -0.45 mins\", \"type\": \"scattergeo\"}, {\"lat\": [26.07258, 42.93452], \"line\": {\"color\": \"#4682B4\", \"width\": 1}, \"locationmode\": \"USA-states\", \"lon\": [-80.15275, -71.43706], \"mode\": \"lines\", \"opacity\": 0.7333333333333333, \"text\": \"From: Fort Lauderdale-Hollywood International Airport<br>To: Manchester-Boston Regional Airport<br>Avg. Delay: 22.0 mins\", \"type\": \"scattergeo\"}, {\"lat\": [26.07258, 42.94722], \"line\": {\"color\": \"#4682B4\", \"width\": 1}, \"locationmode\": \"USA-states\", \"lon\": [-80.15275, -87.89658], \"mode\": \"lines\", \"opacity\": 0, \"text\": \"From: Fort Lauderdale-Hollywood International Airport<br>To: General Mitchell International Airport<br>Avg. Delay: -6.75 mins\", \"type\": \"scattergeo\"}, {\"lat\": [26.07258, 29.99339], \"line\": {\"color\": \"#4682B4\", \"width\": 1}, \"locationmode\": \"USA-states\", \"lon\": [-80.15275, -90.25803], \"mode\": \"lines\", \"opacity\": 0, \"text\": \"From: Fort Lauderdale-Hollywood International Airport<br>To: Louis Armstrong New Orleans International Airport<br>Avg. Delay: -5.13 mins\", \"type\": \"scattergeo\"}, {\"lat\": [26.07258, 39.87195], \"line\": {\"color\": \"#4682B4\", \"width\": 1}, \"locationmode\": \"USA-states\", \"lon\": [-80.15275, -75.24114], \"mode\": \"lines\", \"opacity\": 0.020949432404540766, \"text\": \"From: Fort Lauderdale-Hollywood International Airport<br>To: Philadelphia International Airport<br>Avg. Delay: 0.62 mins\", \"type\": \"scattergeo\"}, {\"lat\": [26.07258, 33.43417], \"line\": {\"color\": \"#4682B4\", \"width\": 1}, \"locationmode\": \"USA-states\", \"lon\": [-80.15275, -112.00806000000001], \"mode\": \"lines\", \"opacity\": 0, \"text\": \"From: Fort Lauderdale-Hollywood International Airport<br>To: Phoenix Sky Harbor International Airport<br>Avg. Delay: -12.73 mins\", \"type\": \"scattergeo\"}, {\"lat\": [26.07258, 40.49147], \"line\": {\"color\": \"#4682B4\", \"width\": 1}, \"locationmode\": \"USA-states\", \"lon\": [-80.15275, -80.23286999999999], \"mode\": \"lines\", \"opacity\": 0.06797839506172838, \"text\": \"From: Fort Lauderdale-Hollywood International Airport<br>To: Pittsburgh International Airport<br>Avg. Delay: 2.03 mins\", \"type\": \"scattergeo\"}, {\"lat\": [26.07258, 41.724], \"line\": {\"color\": \"#4682B4\", \"width\": 1}, \"locationmode\": \"USA-states\", \"lon\": [-80.15275, -71.42822], \"mode\": \"lines\", \"opacity\": 0.0008314436885865458, \"text\": \"From: Fort Lauderdale-Hollywood International Airport<br>To: Theodore Francis Green State Airport<br>Avg. Delay: 0.02 mins\", \"type\": \"scattergeo\"}, {\"lat\": [26.07258, 35.87764], \"line\": {\"color\": \"#4682B4\", \"width\": 1}, \"locationmode\": \"USA-states\", \"lon\": [-80.15275, -78.78747], \"mode\": \"lines\", \"opacity\": 0.08923253150057273, \"text\": \"From: Fort Lauderdale-Hollywood International Airport<br>To: Raleigh-Durham International Airport<br>Avg. Delay: 2.67 mins\", \"type\": \"scattergeo\"}, {\"lat\": [26.07258, 18.439420000000002], \"line\": {\"color\": \"#4682B4\", \"width\": 1}, \"locationmode\": \"USA-states\", \"lon\": [-80.15275, -66.00183], \"mode\": \"lines\", \"opacity\": 0.05763888888888889, \"text\": \"From: Fort Lauderdale-Hollywood International Airport<br>To: Luis Mu\\u00f1oz Mar\\u00edn International Airport<br>Avg. Delay: 1.72 mins\", \"type\": \"scattergeo\"}, {\"lat\": [26.07258, 38.747690000000006], \"line\": {\"color\": \"#4682B4\", \"width\": 1}, \"locationmode\": \"USA-states\", \"lon\": [-80.15275, -90.35999], \"mode\": \"lines\", \"opacity\": 0, \"text\": \"From: Fort Lauderdale-Hollywood International Airport<br>To: St. Louis International Airport at Lambert Field<br>Avg. Delay: -4.59 mins\", \"type\": \"scattergeo\"}, {\"lat\": [26.07258, 27.97547], \"line\": {\"color\": \"#4682B4\", \"width\": 1}, \"locationmode\": \"USA-states\", \"lon\": [-80.15275, -82.53325], \"mode\": \"lines\", \"opacity\": 0, \"text\": \"From: Fort Lauderdale-Hollywood International Airport<br>To: Tampa International Airport<br>Avg. Delay: -0.79 mins\", \"type\": \"scattergeo\"}, {\"lat\": [42.9655, 39.1754], \"line\": {\"color\": \"#4682B4\", \"width\": 1}, \"locationmode\": \"USA-states\", \"lon\": [-83.74346, -76.6682], \"mode\": \"lines\", \"opacity\": 0, \"text\": \"From: Bishop International Airport<br>To: Baltimore-Washington International Airport<br>Avg. Delay: -4.02 mins\", \"type\": \"scattergeo\"}, {\"lat\": [42.9655, 36.08036], \"line\": {\"color\": \"#4682B4\", \"width\": 1}, \"locationmode\": \"USA-states\", \"lon\": [-83.74346, -115.15233], \"mode\": \"lines\", \"opacity\": 0, \"text\": \"From: Bishop International Airport<br>To: McCarran International Airport<br>Avg. Delay: -5.54 mins\", \"type\": \"scattergeo\"}, {\"lat\": [42.9655, 28.428890000000003], \"line\": {\"color\": \"#4682B4\", \"width\": 1}, \"locationmode\": \"USA-states\", \"lon\": [-83.74346, -81.31603], \"mode\": \"lines\", \"opacity\": 0, \"text\": \"From: Bishop International Airport<br>To: Orlando International Airport<br>Avg. Delay: -10.91 mins\", \"type\": \"scattergeo\"}, {\"lat\": [42.9655, 26.536170000000002], \"line\": {\"color\": \"#4682B4\", \"width\": 1}, \"locationmode\": \"USA-states\", \"lon\": [-83.74346, -81.75516999999999], \"mode\": \"lines\", \"opacity\": 0.37430555555555556, \"text\": \"From: Bishop International Airport<br>To: Southwest Florida International Airport<br>Avg. Delay: 11.22 mins\", \"type\": \"scattergeo\"}, {\"lat\": [42.9655, 27.97547], \"line\": {\"color\": \"#4682B4\", \"width\": 1}, \"locationmode\": \"USA-states\", \"lon\": [-83.74346, -82.53325], \"mode\": \"lines\", \"opacity\": 0, \"text\": \"From: Bishop International Airport<br>To: Tampa International Airport<br>Avg. Delay: -5.17 mins\", \"type\": \"scattergeo\"}, {\"lat\": [47.619859999999996, 43.564440000000005], \"line\": {\"color\": \"#4682B4\", \"width\": 1}, \"locationmode\": \"USA-states\", \"lon\": [-117.53383999999998, -116.22278], \"mode\": \"lines\", \"opacity\": 0.07993019197207679, \"text\": \"From: Spokane International Airport<br>To: Boise Airport\\u00a0(Boise Air Terminal)<br>Avg. Delay: 2.39 mins\", \"type\": \"scattergeo\"}, {\"lat\": [47.619859999999996, 39.85841], \"line\": {\"color\": \"#4682B4\", \"width\": 1}, \"locationmode\": \"USA-states\", \"lon\": [-117.53383999999998, -104.667], \"mode\": \"lines\", \"opacity\": 0, \"text\": \"From: Spokane International Airport<br>To: Denver International Airport<br>Avg. Delay: -2.63 mins\", \"type\": \"scattergeo\"}, {\"lat\": [47.619859999999996, 36.08036], \"line\": {\"color\": \"#4682B4\", \"width\": 1}, \"locationmode\": \"USA-states\", \"lon\": [-117.53383999999998, -115.15233], \"mode\": \"lines\", \"opacity\": 0.030227743271221533, \"text\": \"From: Spokane International Airport<br>To: McCarran International Airport<br>Avg. Delay: 0.9 mins\", \"type\": \"scattergeo\"}, {\"lat\": [47.619859999999996, 41.78598], \"line\": {\"color\": \"#4682B4\", \"width\": 1}, \"locationmode\": \"USA-states\", \"lon\": [-117.53383999999998, -87.75242], \"mode\": \"lines\", \"opacity\": 0, \"text\": \"From: Spokane International Airport<br>To: Chicago Midway International Airport<br>Avg. Delay: -3.3 mins\", \"type\": \"scattergeo\"}, {\"lat\": [47.619859999999996, 37.72129], \"line\": {\"color\": \"#4682B4\", \"width\": 1}, \"locationmode\": \"USA-states\", \"lon\": [-117.53383999999998, -122.22072], \"mode\": \"lines\", \"opacity\": 0.1233644859813084, \"text\": \"From: Spokane International Airport<br>To: Oakland International Airport<br>Avg. Delay: 3.7 mins\", \"type\": \"scattergeo\"}, {\"lat\": [47.619859999999996, 33.43417], \"line\": {\"color\": \"#4682B4\", \"width\": 1}, \"locationmode\": \"USA-states\", \"lon\": [-117.53383999999998, -112.00806000000001], \"mode\": \"lines\", \"opacity\": 0, \"text\": \"From: Spokane International Airport<br>To: Phoenix Sky Harbor International Airport<br>Avg. Delay: -0.73 mins\", \"type\": \"scattergeo\"}, {\"lat\": [42.88082, 39.1754], \"line\": {\"color\": \"#4682B4\", \"width\": 1}, \"locationmode\": \"USA-states\", \"lon\": [-85.52277, -76.6682], \"mode\": \"lines\", \"opacity\": 0.036587926509186346, \"text\": \"From: Gerald R. Ford International Airport<br>To: Baltimore-Washington International Airport<br>Avg. Delay: 1.09 mins\", \"type\": \"scattergeo\"}, {\"lat\": [42.88082, 39.85841], \"line\": {\"color\": \"#4682B4\", \"width\": 1}, \"locationmode\": \"USA-states\", \"lon\": [-85.52277, -104.667], \"mode\": \"lines\", \"opacity\": 0.005182926829268293, \"text\": \"From: Gerald R. Ford International Airport<br>To: Denver International Airport<br>Avg. Delay: 0.15 mins\", \"type\": \"scattergeo\"}, {\"lat\": [42.88082, 28.428890000000003], \"line\": {\"color\": \"#4682B4\", \"width\": 1}, \"locationmode\": \"USA-states\", \"lon\": [-85.52277, -81.31603], \"mode\": \"lines\", \"opacity\": 0, \"text\": \"From: Gerald R. Ford International Airport<br>To: Orlando International Airport<br>Avg. Delay: -1.25 mins\", \"type\": \"scattergeo\"}, {\"lat\": [42.88082, 26.536170000000002], \"line\": {\"color\": \"#4682B4\", \"width\": 1}, \"locationmode\": \"USA-states\", \"lon\": [-85.52277, -81.75516999999999], \"mode\": \"lines\", \"opacity\": 0, \"text\": \"From: Gerald R. Ford International Airport<br>To: Southwest Florida International Airport<br>Avg. Delay: -4.38 mins\", \"type\": \"scattergeo\"}, {\"lat\": [42.88082, 38.747690000000006], \"line\": {\"color\": \"#4682B4\", \"width\": 1}, \"locationmode\": \"USA-states\", \"lon\": [-85.52277, -90.35999], \"mode\": \"lines\", \"opacity\": 0, \"text\": \"From: Gerald R. Ford International Airport<br>To: St. Louis International Airport at Lambert Field<br>Avg. Delay: -7.76 mins\", \"type\": \"scattergeo\"}, {\"lat\": [42.88082, 27.97547], \"line\": {\"color\": \"#4682B4\", \"width\": 1}, \"locationmode\": \"USA-states\", \"lon\": [-85.52277, -82.53325], \"mode\": \"lines\", \"opacity\": 0, \"text\": \"From: Gerald R. Ford International Airport<br>To: Tampa International Airport<br>Avg. Delay: -3.7 mins\", \"type\": \"scattergeo\"}, {\"lat\": [34.89567, 39.1754], \"line\": {\"color\": \"#4682B4\", \"width\": 1}, \"locationmode\": \"USA-states\", \"lon\": [-82.21885999999999, -76.6682], \"mode\": \"lines\", \"opacity\": 0.36540198735320684, \"text\": \"From: Greenville-Spartanburg International Airport<br>To: Baltimore-Washington International Airport<br>Avg. Delay: 10.96 mins\", \"type\": \"scattergeo\"}, {\"lat\": [34.89567, 29.64542], \"line\": {\"color\": \"#4682B4\", \"width\": 1}, \"locationmode\": \"USA-states\", \"lon\": [-82.21885999999999, -95.27889], \"mode\": \"lines\", \"opacity\": 0.0174653887113951, \"text\": \"From: Greenville-Spartanburg International Airport<br>To: William P. Hobby Airport<br>Avg. Delay: 0.52 mins\", \"type\": \"scattergeo\"}, {\"lat\": [34.89567, 41.78598], \"line\": {\"color\": \"#4682B4\", \"width\": 1}, \"locationmode\": \"USA-states\", \"lon\": [-82.21885999999999, -87.75242], \"mode\": \"lines\", \"opacity\": 0.09766937669376693, \"text\": \"From: Greenville-Spartanburg International Airport<br>To: Chicago Midway International Airport<br>Avg. Delay: 2.93 mins\", \"type\": \"scattergeo\"}, {\"lat\": [29.64542, 35.04022], \"line\": {\"color\": \"#4682B4\", \"width\": 1}, \"locationmode\": \"USA-states\", \"lon\": [-95.27889, -106.60918999999998], \"mode\": \"lines\", \"opacity\": 0.24502302515054905, \"text\": \"From: William P. Hobby Airport<br>To: Albuquerque International Sunport<br>Avg. Delay: 7.35 mins\", \"type\": \"scattergeo\"}, {\"lat\": [29.64542, 33.640440000000005], \"line\": {\"color\": \"#4682B4\", \"width\": 1}, \"locationmode\": \"USA-states\", \"lon\": [-95.27889, -84.42694], \"mode\": \"lines\", \"opacity\": 0.29636459430979983, \"text\": \"From: William P. Hobby Airport<br>To: Hartsfield-Jackson Atlanta International Airport<br>Avg. Delay: 8.89 mins\", \"type\": \"scattergeo\"}, {\"lat\": [29.64542, 30.19453], \"line\": {\"color\": \"#4682B4\", \"width\": 1}, \"locationmode\": \"USA-states\", \"lon\": [-95.27889, -97.66986999999999], \"mode\": \"lines\", \"opacity\": 0.3680361757105943, \"text\": \"From: William P. Hobby Airport<br>To: Austin-Bergstrom International Airport<br>Avg. Delay: 11.04 mins\", \"type\": \"scattergeo\"}, {\"lat\": [29.64542, 33.562940000000005], \"line\": {\"color\": \"#4682B4\", \"width\": 1}, \"locationmode\": \"USA-states\", \"lon\": [-95.27889, -86.75355], \"mode\": \"lines\", \"opacity\": 0.39691460055096417, \"text\": \"From: William P. Hobby Airport<br>To: Birmingham-Shuttlesworth International Airport<br>Avg. Delay: 11.9 mins\", \"type\": \"scattergeo\"}, {\"lat\": [29.64542, 36.12448], \"line\": {\"color\": \"#4682B4\", \"width\": 1}, \"locationmode\": \"USA-states\", \"lon\": [-95.27889, -86.67818], \"mode\": \"lines\", \"opacity\": 0.2996149614961496, \"text\": \"From: William P. Hobby Airport<br>To: Nashville International Airport<br>Avg. Delay: 8.98 mins\", \"type\": \"scattergeo\"}, {\"lat\": [29.64542, 42.36435], \"line\": {\"color\": \"#4682B4\", \"width\": 1}, \"locationmode\": \"USA-states\", \"lon\": [-95.27889, -71.00518000000001], \"mode\": \"lines\", \"opacity\": 0.24982817869415808, \"text\": \"From: William P. Hobby Airport<br>To: Gen. Edward Lawrence Logan International Airport<br>Avg. Delay: 7.49 mins\", \"type\": \"scattergeo\"}, {\"lat\": [29.64542, 39.1754], \"line\": {\"color\": \"#4682B4\", \"width\": 1}, \"locationmode\": \"USA-states\", \"lon\": [-95.27889, -76.6682], \"mode\": \"lines\", \"opacity\": 0.16142578125, \"text\": \"From: William P. Hobby Airport<br>To: Baltimore-Washington International Airport<br>Avg. Delay: 4.84 mins\", \"type\": \"scattergeo\"}, {\"lat\": [29.64542, 32.89865], \"line\": {\"color\": \"#4682B4\", \"width\": 1}, \"locationmode\": \"USA-states\", \"lon\": [-95.27889, -80.04051], \"mode\": \"lines\", \"opacity\": 0.3165680473372781, \"text\": \"From: William P. Hobby Airport<br>To: Charleston International Airport/Charleston AFB<br>Avg. Delay: 9.49 mins\", \"type\": \"scattergeo\"}, {\"lat\": [29.64542, 35.214009999999995], \"line\": {\"color\": \"#4682B4\", \"width\": 1}, \"locationmode\": \"USA-states\", \"lon\": [-95.27889, -80.94313000000001], \"mode\": \"lines\", \"opacity\": 0.4082887700534759, \"text\": \"From: William P. Hobby Airport<br>To: Charlotte Douglas International Airport<br>Avg. Delay: 12.24 mins\", \"type\": \"scattergeo\"}, {\"lat\": [29.64542, 27.770359999999997], \"line\": {\"color\": \"#4682B4\", \"width\": 1}, \"locationmode\": \"USA-states\", \"lon\": [-95.27889, -97.50121999999999], \"mode\": \"lines\", \"opacity\": 0.32000540686672074, \"text\": \"From: William P. Hobby Airport<br>To: Corpus Christi International Airport<br>Avg. Delay: 9.6 mins\", \"type\": \"scattergeo\"}, {\"lat\": [29.64542, 32.84711], \"line\": {\"color\": \"#4682B4\", \"width\": 1}, \"locationmode\": \"USA-states\", \"lon\": [-95.27889, -96.85177], \"mode\": \"lines\", \"opacity\": 0.32579777008842753, \"text\": \"From: William P. Hobby Airport<br>To: Dallas Love Field<br>Avg. Delay: 9.77 mins\", \"type\": \"scattergeo\"}, {\"lat\": [29.64542, 38.85208], \"line\": {\"color\": \"#4682B4\", \"width\": 1}, \"locationmode\": \"USA-states\", \"lon\": [-95.27889, -77.03772], \"mode\": \"lines\", \"opacity\": 0.1512228634240176, \"text\": \"From: William P. Hobby Airport<br>To: Ronald Reagan Washington National Airport<br>Avg. Delay: 4.53 mins\", \"type\": \"scattergeo\"}, {\"lat\": [29.64542, 39.85841], \"line\": {\"color\": \"#4682B4\", \"width\": 1}, \"locationmode\": \"USA-states\", \"lon\": [-95.27889, -104.667], \"mode\": \"lines\", \"opacity\": 0.05721620079863091, \"text\": \"From: William P. Hobby Airport<br>To: Denver International Airport<br>Avg. Delay: 1.71 mins\", \"type\": \"scattergeo\"}, {\"lat\": [29.64542, null], \"line\": {\"color\": \"#4682B4\", \"width\": 1}, \"locationmode\": \"USA-states\", \"lon\": [-95.27889, null], \"mode\": \"lines\", \"opacity\": 0.19060356652949245, \"text\": \"From: William P. Hobby Airport<br>To: Northwest Florida Beaches International Airport<br>Avg. Delay: 5.71 mins\", \"type\": \"scattergeo\"}, {\"lat\": [29.64542, 31.80667], \"line\": {\"color\": \"#4682B4\", \"width\": 1}, \"locationmode\": \"USA-states\", \"lon\": [-95.27889, -106.37781000000001], \"mode\": \"lines\", \"opacity\": 0.21983594332587622, \"text\": \"From: William P. Hobby Airport<br>To: El Paso International Airport<br>Avg. Delay: 6.59 mins\", \"type\": \"scattergeo\"}, {\"lat\": [29.64542, 40.6925], \"line\": {\"color\": \"#4682B4\", \"width\": 1}, \"locationmode\": \"USA-states\", \"lon\": [-95.27889, -74.16866], \"mode\": \"lines\", \"opacity\": 0.3403968253968254, \"text\": \"From: William P. Hobby Airport<br>To: Newark Liberty International Airport<br>Avg. Delay: 10.21 mins\", \"type\": \"scattergeo\"}, {\"lat\": [29.64542, 26.07258], \"line\": {\"color\": \"#4682B4\", \"width\": 1}, \"locationmode\": \"USA-states\", \"lon\": [-95.27889, -80.15275], \"mode\": \"lines\", \"opacity\": 0.36297390448055145, \"text\": \"From: William P. Hobby Airport<br>To: Fort Lauderdale-Hollywood International Airport<br>Avg. Delay: 10.88 mins\", \"type\": \"scattergeo\"}, {\"lat\": [29.64542, 34.89567], \"line\": {\"color\": \"#4682B4\", \"width\": 1}, \"locationmode\": \"USA-states\", \"lon\": [-95.27889, -82.21885999999999], \"mode\": \"lines\", \"opacity\": 0.38878406708595387, \"text\": \"From: William P. Hobby Airport<br>To: Greenville-Spartanburg International Airport<br>Avg. Delay: 11.66 mins\", \"type\": \"scattergeo\"}, {\"lat\": [29.64542, 26.228509999999996], \"line\": {\"color\": \"#4682B4\", \"width\": 1}, \"locationmode\": \"USA-states\", \"lon\": [-95.27889, -97.65439], \"mode\": \"lines\", \"opacity\": 0.1999782561426397, \"text\": \"From: William P. Hobby Airport<br>To: Valley International Airport<br>Avg. Delay: 5.99 mins\", \"type\": \"scattergeo\"}, {\"lat\": [29.64542, 39.71733], \"line\": {\"color\": \"#4682B4\", \"width\": 1}, \"locationmode\": \"USA-states\", \"lon\": [-95.27889, -86.29438], \"mode\": \"lines\", \"opacity\": 0.3740049751243781, \"text\": \"From: William P. Hobby Airport<br>To: Indianapolis International Airport<br>Avg. Delay: 11.22 mins\", \"type\": \"scattergeo\"}, {\"lat\": [29.64542, 30.494059999999998], \"line\": {\"color\": \"#4682B4\", \"width\": 1}, \"locationmode\": \"USA-states\", \"lon\": [-95.27889, -81.68786], \"mode\": \"lines\", \"opacity\": 0.49900900900900896, \"text\": \"From: William P. Hobby Airport<br>To: Jacksonville International Airport<br>Avg. Delay: 14.97 mins\", \"type\": \"scattergeo\"}, {\"lat\": [29.64542, 36.08036], \"line\": {\"color\": \"#4682B4\", \"width\": 1}, \"locationmode\": \"USA-states\", \"lon\": [-95.27889, -115.15233], \"mode\": \"lines\", \"opacity\": 0, \"text\": \"From: William P. Hobby Airport<br>To: McCarran International Airport<br>Avg. Delay: -0.97 mins\", \"type\": \"scattergeo\"}, {\"lat\": [29.64542, 33.94254], \"line\": {\"color\": \"#4682B4\", \"width\": 1}, \"locationmode\": \"USA-states\", \"lon\": [-95.27889, -118.40807], \"mode\": \"lines\", \"opacity\": 0.1335728282168517, \"text\": \"From: William P. Hobby Airport<br>To: Los Angeles International Airport<br>Avg. Delay: 4.0 mins\", \"type\": \"scattergeo\"}, {\"lat\": [29.64542, 33.66364], \"line\": {\"color\": \"#4682B4\", \"width\": 1}, \"locationmode\": \"USA-states\", \"lon\": [-95.27889, -101.82278000000001], \"mode\": \"lines\", \"opacity\": 0.4666666666666667, \"text\": \"From: William P. Hobby Airport<br>To: Lubbock Preston Smith International Airport<br>Avg. Delay: 14.0 mins\", \"type\": \"scattergeo\"}, {\"lat\": [29.64542, 40.77724], \"line\": {\"color\": \"#4682B4\", \"width\": 1}, \"locationmode\": \"USA-states\", \"lon\": [-95.27889, -73.87261], \"mode\": \"lines\", \"opacity\": 0.36179858788554436, \"text\": \"From: William P. Hobby Airport<br>To: LaGuardia Airport (Marine Air Terminal)<br>Avg. Delay: 10.85 mins\", \"type\": \"scattergeo\"}, {\"lat\": [29.64542, 31.942529999999998], \"line\": {\"color\": \"#4682B4\", \"width\": 1}, \"locationmode\": \"USA-states\", \"lon\": [-95.27889, -102.20191], \"mode\": \"lines\", \"opacity\": 0.2662462462462462, \"text\": \"From: William P. Hobby Airport<br>To: Midland International Airport<br>Avg. Delay: 7.98 mins\", \"type\": \"scattergeo\"}, {\"lat\": [29.64542, 39.29761], \"line\": {\"color\": \"#4682B4\", \"width\": 1}, \"locationmode\": \"USA-states\", \"lon\": [-95.27889, -94.71391], \"mode\": \"lines\", \"opacity\": 0.252520325203252, \"text\": \"From: William P. Hobby Airport<br>To: Kansas City International Airport<br>Avg. Delay: 7.57 mins\", \"type\": \"scattergeo\"}, {\"lat\": [29.64542, 28.428890000000003], \"line\": {\"color\": \"#4682B4\", \"width\": 1}, \"locationmode\": \"USA-states\", \"lon\": [-95.27889, -81.31603], \"mode\": \"lines\", \"opacity\": 0.4036075036075036, \"text\": \"From: William P. Hobby Airport<br>To: Orlando International Airport<br>Avg. Delay: 12.1 mins\", \"type\": \"scattergeo\"}, {\"lat\": [29.64542, 41.78598], \"line\": {\"color\": \"#4682B4\", \"width\": 1}, \"locationmode\": \"USA-states\", \"lon\": [-95.27889, -87.75242], \"mode\": \"lines\", \"opacity\": 0.15332677810553916, \"text\": \"From: William P. Hobby Airport<br>To: Chicago Midway International Airport<br>Avg. Delay: 4.59 mins\", \"type\": \"scattergeo\"}, {\"lat\": [29.64542, 35.04242], \"line\": {\"color\": \"#4682B4\", \"width\": 1}, \"locationmode\": \"USA-states\", \"lon\": [-95.27889, -89.97667], \"mode\": \"lines\", \"opacity\": 0.44808831448572967, \"text\": \"From: William P. Hobby Airport<br>To: Memphis International Airport<br>Avg. Delay: 13.44 mins\", \"type\": \"scattergeo\"}, {\"lat\": [29.64542, 29.99339], \"line\": {\"color\": \"#4682B4\", \"width\": 1}, \"locationmode\": \"USA-states\", \"lon\": [-95.27889, -90.25803], \"mode\": \"lines\", \"opacity\": 0.22905698100633123, \"text\": \"From: William P. Hobby Airport<br>To: Louis Armstrong New Orleans International Airport<br>Avg. Delay: 6.87 mins\", \"type\": \"scattergeo\"}, {\"lat\": [29.64542, 37.72129], \"line\": {\"color\": \"#4682B4\", \"width\": 1}, \"locationmode\": \"USA-states\", \"lon\": [-95.27889, -122.22072], \"mode\": \"lines\", \"opacity\": 0, \"text\": \"From: William P. Hobby Airport<br>To: Oakland International Airport<br>Avg. Delay: -0.31 mins\", \"type\": \"scattergeo\"}, {\"lat\": [29.64542, 35.39309], \"line\": {\"color\": \"#4682B4\", \"width\": 1}, \"locationmode\": \"USA-states\", \"lon\": [-95.27889, -97.60073], \"mode\": \"lines\", \"opacity\": 0.24006820119352087, \"text\": \"From: William P. Hobby Airport<br>To: Will Rogers World Airport<br>Avg. Delay: 7.2 mins\", \"type\": \"scattergeo\"}, {\"lat\": [29.64542, 45.58872], \"line\": {\"color\": \"#4682B4\", \"width\": 1}, \"locationmode\": \"USA-states\", \"lon\": [-95.27889, -122.5975], \"mode\": \"lines\", \"opacity\": 0.13544973544973543, \"text\": \"From: William P. Hobby Airport<br>To: Portland International Airport<br>Avg. Delay: 4.06 mins\", \"type\": \"scattergeo\"}, {\"lat\": [29.64542, 33.43417], \"line\": {\"color\": \"#4682B4\", \"width\": 1}, \"locationmode\": \"USA-states\", \"lon\": [-95.27889, -112.00806000000001], \"mode\": \"lines\", \"opacity\": 0.09104513637460777, \"text\": \"From: William P. Hobby Airport<br>To: Phoenix Sky Harbor International Airport<br>Avg. Delay: 2.73 mins\", \"type\": \"scattergeo\"}, {\"lat\": [29.64542, 40.49147], \"line\": {\"color\": \"#4682B4\", \"width\": 1}, \"locationmode\": \"USA-states\", \"lon\": [-95.27889, -80.23286999999999], \"mode\": \"lines\", \"opacity\": 0.3061616161616162, \"text\": \"From: William P. Hobby Airport<br>To: Pittsburgh International Airport<br>Avg. Delay: 9.18 mins\", \"type\": \"scattergeo\"}, {\"lat\": [29.64542, 30.473309999999998], \"line\": {\"color\": \"#4682B4\", \"width\": 1}, \"locationmode\": \"USA-states\", \"lon\": [-95.27889, -87.18744000000001], \"mode\": \"lines\", \"opacity\": 0.4485309017223911, \"text\": \"From: William P. Hobby Airport<br>To: Pensacola International Airport\\u00a0(Pensacola Gulf Coast Regional Airport)<br>Avg. Delay: 13.45 mins\", \"type\": \"scattergeo\"}, {\"lat\": [29.64542, 35.87764], \"line\": {\"color\": \"#4682B4\", \"width\": 1}, \"locationmode\": \"USA-states\", \"lon\": [-95.27889, -78.78747], \"mode\": \"lines\", \"opacity\": 0.3224666666666666, \"text\": \"From: William P. Hobby Airport<br>To: Raleigh-Durham International Airport<br>Avg. Delay: 9.67 mins\", \"type\": \"scattergeo\"}, {\"lat\": [29.64542, 26.536170000000002], \"line\": {\"color\": \"#4682B4\", \"width\": 1}, \"locationmode\": \"USA-states\", \"lon\": [-95.27889, -81.75516999999999], \"mode\": \"lines\", \"opacity\": 0.437037037037037, \"text\": \"From: William P. Hobby Airport<br>To: Southwest Florida International Airport<br>Avg. Delay: 13.11 mins\", \"type\": \"scattergeo\"}, {\"lat\": [29.64542, 32.73356], \"line\": {\"color\": \"#4682B4\", \"width\": 1}, \"locationmode\": \"USA-states\", \"lon\": [-95.27889, -117.18966], \"mode\": \"lines\", \"opacity\": 0.1211453744493392, \"text\": \"From: William P. Hobby Airport<br>To: San Diego International Airport\\u00a0(Lindbergh Field)<br>Avg. Delay: 3.63 mins\", \"type\": \"scattergeo\"}, {\"lat\": [29.64542, 29.533690000000004], \"line\": {\"color\": \"#4682B4\", \"width\": 1}, \"locationmode\": \"USA-states\", \"lon\": [-95.27889, -98.46978], \"mode\": \"lines\", \"opacity\": 0.33289337474120084, \"text\": \"From: William P. Hobby Airport<br>To: San Antonio International Airport<br>Avg. Delay: 9.98 mins\", \"type\": \"scattergeo\"}, {\"lat\": [29.64542, 47.44898], \"line\": {\"color\": \"#4682B4\", \"width\": 1}, \"locationmode\": \"USA-states\", \"lon\": [-95.27889, -122.30931000000001], \"mode\": \"lines\", \"opacity\": 0.5099773242630385, \"text\": \"From: William P. Hobby Airport<br>To: Seattle-Tacoma International Airport<br>Avg. Delay: 15.29 mins\", \"type\": \"scattergeo\"}, {\"lat\": [29.64542, 18.439420000000002], \"line\": {\"color\": \"#4682B4\", \"width\": 1}, \"locationmode\": \"USA-states\", \"lon\": [-95.27889, -66.00183], \"mode\": \"lines\", \"opacity\": 0.22280701754385965, \"text\": \"From: William P. Hobby Airport<br>To: Luis Mu\\u00f1oz Mar\\u00edn International Airport<br>Avg. Delay: 6.68 mins\", \"type\": \"scattergeo\"}, {\"lat\": [29.64542, 40.78839], \"line\": {\"color\": \"#4682B4\", \"width\": 1}, \"locationmode\": \"USA-states\", \"lon\": [-95.27889, -111.97776999999999], \"mode\": \"lines\", \"opacity\": 0.8777777777777778, \"text\": \"From: William P. Hobby Airport<br>To: Salt Lake City International Airport<br>Avg. Delay: 26.33 mins\", \"type\": \"scattergeo\"}, {\"lat\": [29.64542, 33.67566], \"line\": {\"color\": \"#4682B4\", \"width\": 1}, \"locationmode\": \"USA-states\", \"lon\": [-95.27889, -117.86822], \"mode\": \"lines\", \"opacity\": 0, \"text\": \"From: William P. Hobby Airport<br>To: John Wayne Airport\\u00a0(Orange County Airport)<br>Avg. Delay: -1.7 mins\", \"type\": \"scattergeo\"}, {\"lat\": [29.64542, 38.747690000000006], \"line\": {\"color\": \"#4682B4\", \"width\": 1}, \"locationmode\": \"USA-states\", \"lon\": [-95.27889, -90.35999], \"mode\": \"lines\", \"opacity\": 0.21272878535773712, \"text\": \"From: William P. Hobby Airport<br>To: St. Louis International Airport at Lambert Field<br>Avg. Delay: 6.38 mins\", \"type\": \"scattergeo\"}, {\"lat\": [29.64542, 27.97547], \"line\": {\"color\": \"#4682B4\", \"width\": 1}, \"locationmode\": \"USA-states\", \"lon\": [-95.27889, -82.53325], \"mode\": \"lines\", \"opacity\": 0.4414591977869986, \"text\": \"From: William P. Hobby Airport<br>To: Tampa International Airport<br>Avg. Delay: 13.24 mins\", \"type\": \"scattergeo\"}, {\"lat\": [29.64542, 36.198370000000004], \"line\": {\"color\": \"#4682B4\", \"width\": 1}, \"locationmode\": \"USA-states\", \"lon\": [-95.27889, -95.88824], \"mode\": \"lines\", \"opacity\": 0.2693683826213947, \"text\": \"From: William P. Hobby Airport<br>To: Tulsa International Airport<br>Avg. Delay: 8.08 mins\", \"type\": \"scattergeo\"}, {\"lat\": [29.64542, 32.11608], \"line\": {\"color\": \"#4682B4\", \"width\": 1}, \"locationmode\": \"USA-states\", \"lon\": [-95.27889, -110.94103], \"mode\": \"lines\", \"opacity\": 0.3125, \"text\": \"From: William P. Hobby Airport<br>To: Tucson International Airport<br>Avg. Delay: 9.37 mins\", \"type\": \"scattergeo\"}, {\"lat\": [26.228509999999996, 30.19453], \"line\": {\"color\": \"#4682B4\", \"width\": 1}, \"locationmode\": \"USA-states\", \"lon\": [-97.65439, -97.66986999999999], \"mode\": \"lines\", \"opacity\": 0.12453416149068322, \"text\": \"From: Valley International Airport<br>To: Austin-Bergstrom International Airport<br>Avg. Delay: 3.73 mins\", \"type\": \"scattergeo\"}, {\"lat\": [26.228509999999996, 29.64542], \"line\": {\"color\": \"#4682B4\", \"width\": 1}, \"locationmode\": \"USA-states\", \"lon\": [-97.65439, -95.27889], \"mode\": \"lines\", \"opacity\": 0.05889034512887724, \"text\": \"From: Valley International Airport<br>To: William P. Hobby Airport<br>Avg. Delay: 1.76 mins\", \"type\": \"scattergeo\"}, {\"lat\": [38.94453, 39.85841], \"line\": {\"color\": \"#4682B4\", \"width\": 1}, \"locationmode\": \"USA-states\", \"lon\": [-77.45581, -104.667], \"mode\": \"lines\", \"opacity\": 0, \"text\": \"From: Washington Dulles International Airport<br>To: Denver International Airport<br>Avg. Delay: -3.26 mins\", \"type\": \"scattergeo\"}, {\"lat\": [38.94453, 36.08036], \"line\": {\"color\": \"#4682B4\", \"width\": 1}, \"locationmode\": \"USA-states\", \"lon\": [-77.45581, -115.15233], \"mode\": \"lines\", \"opacity\": 0.19113796576032227, \"text\": \"From: Washington Dulles International Airport<br>To: McCarran International Airport<br>Avg. Delay: 5.73 mins\", \"type\": \"scattergeo\"}, {\"lat\": [38.94453, 41.78598], \"line\": {\"color\": \"#4682B4\", \"width\": 1}, \"locationmode\": \"USA-states\", \"lon\": [-77.45581, -87.75242], \"mode\": \"lines\", \"opacity\": 0.05032978183663115, \"text\": \"From: Washington Dulles International Airport<br>To: Chicago Midway International Airport<br>Avg. Delay: 1.5 mins\", \"type\": \"scattergeo\"}, {\"lat\": [38.94453, 32.73356], \"line\": {\"color\": \"#4682B4\", \"width\": 1}, \"locationmode\": \"USA-states\", \"lon\": [-77.45581, -117.18966], \"mode\": \"lines\", \"opacity\": 0, \"text\": \"From: Washington Dulles International Airport<br>To: San Diego International Airport\\u00a0(Lindbergh Field)<br>Avg. Delay: -3.2 mins\", \"type\": \"scattergeo\"}, {\"lat\": [37.64996, 32.84711], \"line\": {\"color\": \"#4682B4\", \"width\": 1}, \"locationmode\": \"USA-states\", \"lon\": [-97.43305, -96.85177], \"mode\": \"lines\", \"opacity\": 0.1104875283446712, \"text\": \"From: Wichita Dwight D. Eisenhower National Airport\\u00a0(Wichita Mid-Continent Airport)<br>To: Dallas Love Field<br>Avg. Delay: 3.31 mins\", \"type\": \"scattergeo\"}, {\"lat\": [37.64996, 36.08036], \"line\": {\"color\": \"#4682B4\", \"width\": 1}, \"locationmode\": \"USA-states\", \"lon\": [-97.43305, -115.15233], \"mode\": \"lines\", \"opacity\": 0.03112449799196787, \"text\": \"From: Wichita Dwight D. Eisenhower National Airport\\u00a0(Wichita Mid-Continent Airport)<br>To: McCarran International Airport<br>Avg. Delay: 0.93 mins\", \"type\": \"scattergeo\"}, {\"lat\": [37.64996, 41.78598], \"line\": {\"color\": \"#4682B4\", \"width\": 1}, \"locationmode\": \"USA-states\", \"lon\": [-97.43305, -87.75242], \"mode\": \"lines\", \"opacity\": 0.11448545861297539, \"text\": \"From: Wichita Dwight D. Eisenhower National Airport\\u00a0(Wichita Mid-Continent Airport)<br>To: Chicago Midway International Airport<br>Avg. Delay: 3.43 mins\", \"type\": \"scattergeo\"}, {\"lat\": [39.71733, 33.640440000000005], \"line\": {\"color\": \"#4682B4\", \"width\": 1}, \"locationmode\": \"USA-states\", \"lon\": [-86.29438, -84.42694], \"mode\": \"lines\", \"opacity\": 0.023551465576005452, \"text\": \"From: Indianapolis International Airport<br>To: Hartsfield-Jackson Atlanta International Airport<br>Avg. Delay: 0.7 mins\", \"type\": \"scattergeo\"}, {\"lat\": [39.71733, 42.36435], \"line\": {\"color\": \"#4682B4\", \"width\": 1}, \"locationmode\": \"USA-states\", \"lon\": [-86.29438, -71.00518000000001], \"mode\": \"lines\", \"opacity\": 0.2528813559322034, \"text\": \"From: Indianapolis International Airport<br>To: Gen. Edward Lawrence Logan International Airport<br>Avg. Delay: 7.58 mins\", \"type\": \"scattergeo\"}, {\"lat\": [39.71733, 39.1754], \"line\": {\"color\": \"#4682B4\", \"width\": 1}, \"locationmode\": \"USA-states\", \"lon\": [-86.29438, -76.6682], \"mode\": \"lines\", \"opacity\": 0.15171370967741937, \"text\": \"From: Indianapolis International Airport<br>To: Baltimore-Washington International Airport<br>Avg. Delay: 4.55 mins\", \"type\": \"scattergeo\"}, {\"lat\": [39.71733, 32.84711], \"line\": {\"color\": \"#4682B4\", \"width\": 1}, \"locationmode\": \"USA-states\", \"lon\": [-86.29438, -96.85177], \"mode\": \"lines\", \"opacity\": 0.26384180790960454, \"text\": \"From: Indianapolis International Airport<br>To: Dallas Love Field<br>Avg. Delay: 7.91 mins\", \"type\": \"scattergeo\"}, {\"lat\": [39.71733, 38.85208], \"line\": {\"color\": \"#4682B4\", \"width\": 1}, \"locationmode\": \"USA-states\", \"lon\": [-86.29438, -77.03772], \"mode\": \"lines\", \"opacity\": 0, \"text\": \"From: Indianapolis International Airport<br>To: Ronald Reagan Washington National Airport<br>Avg. Delay: -2.89 mins\", \"type\": \"scattergeo\"}, {\"lat\": [39.71733, 39.85841], \"line\": {\"color\": \"#4682B4\", \"width\": 1}, \"locationmode\": \"USA-states\", \"lon\": [-86.29438, -104.667], \"mode\": \"lines\", \"opacity\": 0.018848354792560803, \"text\": \"From: Indianapolis International Airport<br>To: Denver International Airport<br>Avg. Delay: 0.56 mins\", \"type\": \"scattergeo\"}, {\"lat\": [39.71733, 26.07258], \"line\": {\"color\": \"#4682B4\", \"width\": 1}, \"locationmode\": \"USA-states\", \"lon\": [-86.29438, -80.15275], \"mode\": \"lines\", \"opacity\": 0, \"text\": \"From: Indianapolis International Airport<br>To: Fort Lauderdale-Hollywood International Airport<br>Avg. Delay: -3.34 mins\", \"type\": \"scattergeo\"}, {\"lat\": [39.71733, 29.64542], \"line\": {\"color\": \"#4682B4\", \"width\": 1}, \"locationmode\": \"USA-states\", \"lon\": [-86.29438, -95.27889], \"mode\": \"lines\", \"opacity\": 0, \"text\": \"From: Indianapolis International Airport<br>To: William P. Hobby Airport<br>Avg. Delay: -0.46 mins\", \"type\": \"scattergeo\"}, {\"lat\": [39.71733, 36.08036], \"line\": {\"color\": \"#4682B4\", \"width\": 1}, \"locationmode\": \"USA-states\", \"lon\": [-86.29438, -115.15233], \"mode\": \"lines\", \"opacity\": 0, \"text\": \"From: Indianapolis International Airport<br>To: McCarran International Airport<br>Avg. Delay: -5.36 mins\", \"type\": \"scattergeo\"}, {\"lat\": [39.71733, 33.94254], \"line\": {\"color\": \"#4682B4\", \"width\": 1}, \"locationmode\": \"USA-states\", \"lon\": [-86.29438, -118.40807], \"mode\": \"lines\", \"opacity\": 0, \"text\": \"From: Indianapolis International Airport<br>To: Los Angeles International Airport<br>Avg. Delay: -3.66 mins\", \"type\": \"scattergeo\"}, {\"lat\": [39.71733, 40.77724], \"line\": {\"color\": \"#4682B4\", \"width\": 1}, \"locationmode\": \"USA-states\", \"lon\": [-86.29438, -73.87261], \"mode\": \"lines\", \"opacity\": 0, \"text\": \"From: Indianapolis International Airport<br>To: LaGuardia Airport (Marine Air Terminal)<br>Avg. Delay: -6.29 mins\", \"type\": \"scattergeo\"}, {\"lat\": [39.71733, 39.29761], \"line\": {\"color\": \"#4682B4\", \"width\": 1}, \"locationmode\": \"USA-states\", \"lon\": [-86.29438, -94.71391], \"mode\": \"lines\", \"opacity\": 0.045098039215686274, \"text\": \"From: Indianapolis International Airport<br>To: Kansas City International Airport<br>Avg. Delay: 1.35 mins\", \"type\": \"scattergeo\"}, {\"lat\": [39.71733, 28.428890000000003], \"line\": {\"color\": \"#4682B4\", \"width\": 1}, \"locationmode\": \"USA-states\", \"lon\": [-86.29438, -81.31603], \"mode\": \"lines\", \"opacity\": 0.08609508106622697, \"text\": \"From: Indianapolis International Airport<br>To: Orlando International Airport<br>Avg. Delay: 2.58 mins\", \"type\": \"scattergeo\"}, {\"lat\": [39.71733, 33.43417], \"line\": {\"color\": \"#4682B4\", \"width\": 1}, \"locationmode\": \"USA-states\", \"lon\": [-86.29438, -112.00806000000001], \"mode\": \"lines\", \"opacity\": 0, \"text\": \"From: Indianapolis International Airport<br>To: Phoenix Sky Harbor International Airport<br>Avg. Delay: -0.82 mins\", \"type\": \"scattergeo\"}, {\"lat\": [39.71733, 26.536170000000002], \"line\": {\"color\": \"#4682B4\", \"width\": 1}, \"locationmode\": \"USA-states\", \"lon\": [-86.29438, -81.75516999999999], \"mode\": \"lines\", \"opacity\": 0.07173620457604307, \"text\": \"From: Indianapolis International Airport<br>To: Southwest Florida International Airport<br>Avg. Delay: 2.15 mins\", \"type\": \"scattergeo\"}, {\"lat\": [39.71733, 27.97547], \"line\": {\"color\": \"#4682B4\", \"width\": 1}, \"locationmode\": \"USA-states\", \"lon\": [-86.29438, -82.53325], \"mode\": \"lines\", \"opacity\": 0.10543761638733705, \"text\": \"From: Indianapolis International Airport<br>To: Tampa International Airport<br>Avg. Delay: 3.16 mins\", \"type\": \"scattergeo\"}, {\"lat\": [40.79524, 39.1754], \"line\": {\"color\": \"#4682B4\", \"width\": 1}, \"locationmode\": \"USA-states\", \"lon\": [-73.10021, -76.6682], \"mode\": \"lines\", \"opacity\": 0.1518021043205731, \"text\": \"From: Long Island MacArthur Airport<br>To: Baltimore-Washington International Airport<br>Avg. Delay: 4.55 mins\", \"type\": \"scattergeo\"}, {\"lat\": [40.79524, 26.07258], \"line\": {\"color\": \"#4682B4\", \"width\": 1}, \"locationmode\": \"USA-states\", \"lon\": [-73.10021, -80.15275], \"mode\": \"lines\", \"opacity\": 0, \"text\": \"From: Long Island MacArthur Airport<br>To: Fort Lauderdale-Hollywood International Airport<br>Avg. Delay: -5.28 mins\", \"type\": \"scattergeo\"}, {\"lat\": [40.79524, 28.428890000000003], \"line\": {\"color\": \"#4682B4\", \"width\": 1}, \"locationmode\": \"USA-states\", \"lon\": [-73.10021, -81.31603], \"mode\": \"lines\", \"opacity\": 0.07382572076449628, \"text\": \"From: Long Island MacArthur Airport<br>To: Orlando International Airport<br>Avg. Delay: 2.21 mins\", \"type\": \"scattergeo\"}, {\"lat\": [40.79524, 26.683159999999997], \"line\": {\"color\": \"#4682B4\", \"width\": 1}, \"locationmode\": \"USA-states\", \"lon\": [-73.10021, -80.09559], \"mode\": \"lines\", \"opacity\": 0.17010309278350513, \"text\": \"From: Long Island MacArthur Airport<br>To: Palm Beach International Airport<br>Avg. Delay: 5.1 mins\", \"type\": \"scattergeo\"}, {\"lat\": [40.79524, 26.536170000000002], \"line\": {\"color\": \"#4682B4\", \"width\": 1}, \"locationmode\": \"USA-states\", \"lon\": [-73.10021, -81.75516999999999], \"mode\": \"lines\", \"opacity\": 0, \"text\": \"From: Long Island MacArthur Airport<br>To: Southwest Florida International Airport<br>Avg. Delay: -5.0 mins\", \"type\": \"scattergeo\"}, {\"lat\": [40.79524, 27.97547], \"line\": {\"color\": \"#4682B4\", \"width\": 1}, \"locationmode\": \"USA-states\", \"lon\": [-73.10021, -82.53325], \"mode\": \"lines\", \"opacity\": 0, \"text\": \"From: Long Island MacArthur Airport<br>To: Tampa International Airport<br>Avg. Delay: -1.13 mins\", \"type\": \"scattergeo\"}, {\"lat\": [30.494059999999998, 33.640440000000005], \"line\": {\"color\": \"#4682B4\", \"width\": 1}, \"locationmode\": \"USA-states\", \"lon\": [-81.68786, -84.42694], \"mode\": \"lines\", \"opacity\": 0.3551937984496124, \"text\": \"From: Jacksonville International Airport<br>To: Hartsfield-Jackson Atlanta International Airport<br>Avg. Delay: 10.65 mins\", \"type\": \"scattergeo\"}, {\"lat\": [30.494059999999998, 36.12448], \"line\": {\"color\": \"#4682B4\", \"width\": 1}, \"locationmode\": \"USA-states\", \"lon\": [-81.68786, -86.67818], \"mode\": \"lines\", \"opacity\": 0.17989652623798963, \"text\": \"From: Jacksonville International Airport<br>To: Nashville International Airport<br>Avg. Delay: 5.39 mins\", \"type\": \"scattergeo\"}, {\"lat\": [30.494059999999998, 39.1754], \"line\": {\"color\": \"#4682B4\", \"width\": 1}, \"locationmode\": \"USA-states\", \"lon\": [-81.68786, -76.6682], \"mode\": \"lines\", \"opacity\": 0.00428527701254974, \"text\": \"From: Jacksonville International Airport<br>To: Baltimore-Washington International Airport<br>Avg. Delay: 0.12 mins\", \"type\": \"scattergeo\"}, {\"lat\": [30.494059999999998, 39.85841], \"line\": {\"color\": \"#4682B4\", \"width\": 1}, \"locationmode\": \"USA-states\", \"lon\": [-81.68786, -104.667], \"mode\": \"lines\", \"opacity\": 0, \"text\": \"From: Jacksonville International Airport<br>To: Denver International Airport<br>Avg. Delay: -10.06 mins\", \"type\": \"scattergeo\"}, {\"lat\": [30.494059999999998, 29.64542], \"line\": {\"color\": \"#4682B4\", \"width\": 1}, \"locationmode\": \"USA-states\", \"lon\": [-81.68786, -95.27889], \"mode\": \"lines\", \"opacity\": 0.28060109289617485, \"text\": \"From: Jacksonville International Airport<br>To: William P. Hobby Airport<br>Avg. Delay: 8.41 mins\", \"type\": \"scattergeo\"}, {\"lat\": [30.494059999999998, 36.08036], \"line\": {\"color\": \"#4682B4\", \"width\": 1}, \"locationmode\": \"USA-states\", \"lon\": [-81.68786, -115.15233], \"mode\": \"lines\", \"opacity\": 0, \"text\": \"From: Jacksonville International Airport<br>To: McCarran International Airport<br>Avg. Delay: -9.26 mins\", \"type\": \"scattergeo\"}, {\"lat\": [30.494059999999998, 41.78598], \"line\": {\"color\": \"#4682B4\", \"width\": 1}, \"locationmode\": \"USA-states\", \"lon\": [-81.68786, -87.75242], \"mode\": \"lines\", \"opacity\": 0.04285714285714286, \"text\": \"From: Jacksonville International Airport<br>To: Chicago Midway International Airport<br>Avg. Delay: 1.28 mins\", \"type\": \"scattergeo\"}, {\"lat\": [36.08036, 35.04022], \"line\": {\"color\": \"#4682B4\", \"width\": 1}, \"locationmode\": \"USA-states\", \"lon\": [-115.15233, -106.60918999999998], \"mode\": \"lines\", \"opacity\": 0.193994708994709, \"text\": \"From: McCarran International Airport<br>To: Albuquerque International Sunport<br>Avg. Delay: 5.81 mins\", \"type\": \"scattergeo\"}, {\"lat\": [36.08036, 42.74812], \"line\": {\"color\": \"#4682B4\", \"width\": 1}, \"locationmode\": \"USA-states\", \"lon\": [-115.15233, -73.80298], \"mode\": \"lines\", \"opacity\": 0.34014598540145985, \"text\": \"From: McCarran International Airport<br>To: Albany International Airport<br>Avg. Delay: 10.2 mins\", \"type\": \"scattergeo\"}, {\"lat\": [36.08036, 35.21937], \"line\": {\"color\": \"#4682B4\", \"width\": 1}, \"locationmode\": \"USA-states\", \"lon\": [-115.15233, -101.70593000000001], \"mode\": \"lines\", \"opacity\": 0.04, \"text\": \"From: McCarran International Airport<br>To: Rick Husband Amarillo International Airport<br>Avg. Delay: 1.2 mins\", \"type\": \"scattergeo\"}, {\"lat\": [36.08036, 33.640440000000005], \"line\": {\"color\": \"#4682B4\", \"width\": 1}, \"locationmode\": \"USA-states\", \"lon\": [-115.15233, -84.42694], \"mode\": \"lines\", \"opacity\": 0.03910714285714286, \"text\": \"From: McCarran International Airport<br>To: Hartsfield-Jackson Atlanta International Airport<br>Avg. Delay: 1.17 mins\", \"type\": \"scattergeo\"}, {\"lat\": [36.08036, 30.19453], \"line\": {\"color\": \"#4682B4\", \"width\": 1}, \"locationmode\": \"USA-states\", \"lon\": [-115.15233, -97.66986999999999], \"mode\": \"lines\", \"opacity\": 0.2070139598229486, \"text\": \"From: McCarran International Airport<br>To: Austin-Bergstrom International Airport<br>Avg. Delay: 6.21 mins\", \"type\": \"scattergeo\"}, {\"lat\": [36.08036, 41.93887], \"line\": {\"color\": \"#4682B4\", \"width\": 1}, \"locationmode\": \"USA-states\", \"lon\": [-115.15233, -72.68323000000001], \"mode\": \"lines\", \"opacity\": 0.45393258426966293, \"text\": \"From: McCarran International Airport<br>To: Bradley International Airport<br>Avg. Delay: 13.61 mins\", \"type\": \"scattergeo\"}, {\"lat\": [36.08036, 33.562940000000005], \"line\": {\"color\": \"#4682B4\", \"width\": 1}, \"locationmode\": \"USA-states\", \"lon\": [-115.15233, -86.75355], \"mode\": \"lines\", \"opacity\": 0.08828828828828829, \"text\": \"From: McCarran International Airport<br>To: Birmingham-Shuttlesworth International Airport<br>Avg. Delay: 2.64 mins\", \"type\": \"scattergeo\"}, {\"lat\": [36.08036, 36.12448], \"line\": {\"color\": \"#4682B4\", \"width\": 1}, \"locationmode\": \"USA-states\", \"lon\": [-115.15233, -86.67818], \"mode\": \"lines\", \"opacity\": 0.17016742770167428, \"text\": \"From: McCarran International Airport<br>To: Nashville International Airport<br>Avg. Delay: 5.1 mins\", \"type\": \"scattergeo\"}, {\"lat\": [36.08036, 43.564440000000005], \"line\": {\"color\": \"#4682B4\", \"width\": 1}, \"locationmode\": \"USA-states\", \"lon\": [-115.15233, -116.22278], \"mode\": \"lines\", \"opacity\": 0.1846585117227319, \"text\": \"From: McCarran International Airport<br>To: Boise Airport\\u00a0(Boise Air Terminal)<br>Avg. Delay: 5.53 mins\", \"type\": \"scattergeo\"}, {\"lat\": [36.08036, 42.94052], \"line\": {\"color\": \"#4682B4\", \"width\": 1}, \"locationmode\": \"USA-states\", \"lon\": [-115.15233, -78.73217], \"mode\": \"lines\", \"opacity\": 0, \"text\": \"From: McCarran International Airport<br>To: Buffalo Niagara International Airport<br>Avg. Delay: -0.22 mins\", \"type\": \"scattergeo\"}, {\"lat\": [36.08036, 34.20062], \"line\": {\"color\": \"#4682B4\", \"width\": 1}, \"locationmode\": \"USA-states\", \"lon\": [-115.15233, -118.3585], \"mode\": \"lines\", \"opacity\": 0.19270526660124304, \"text\": \"From: McCarran International Airport<br>To: Bob Hope Airport\\u00a0(Hollywood Burbank Airport)<br>Avg. Delay: 5.78 mins\", \"type\": \"scattergeo\"}, {\"lat\": [36.08036, 39.1754], \"line\": {\"color\": \"#4682B4\", \"width\": 1}, \"locationmode\": \"USA-states\", \"lon\": [-115.15233, -76.6682], \"mode\": \"lines\", \"opacity\": 0.13724627048178037, \"text\": \"From: McCarran International Airport<br>To: Baltimore-Washington International Airport<br>Avg. Delay: 4.11 mins\", \"type\": \"scattergeo\"}, {\"lat\": [36.08036, 40.916309999999996], \"line\": {\"color\": \"#4682B4\", \"width\": 1}, \"locationmode\": \"USA-states\", \"lon\": [-115.15233, -81.44247], \"mode\": \"lines\", \"opacity\": 0.276595744680851, \"text\": \"From: McCarran International Airport<br>To: Akron-Canton Regional Airport<br>Avg. Delay: 8.29 mins\", \"type\": \"scattergeo\"}, {\"lat\": [36.08036, 41.41089], \"line\": {\"color\": \"#4682B4\", \"width\": 1}, \"locationmode\": \"USA-states\", \"lon\": [-115.15233, -81.8494], \"mode\": \"lines\", \"opacity\": 0.5867768595041323, \"text\": \"From: McCarran International Airport<br>To: Cleveland Hopkins International Airport<br>Avg. Delay: 17.6 mins\", \"type\": \"scattergeo\"}, {\"lat\": [36.08036, 39.99799], \"line\": {\"color\": \"#4682B4\", \"width\": 1}, \"locationmode\": \"USA-states\", \"lon\": [-115.15233, -82.89188], \"mode\": \"lines\", \"opacity\": 0.06564019448946516, \"text\": \"From: McCarran International Airport<br>To: Port Columbus International Airport<br>Avg. Delay: 1.96 mins\", \"type\": \"scattergeo\"}, {\"lat\": [36.08036, 32.84711], \"line\": {\"color\": \"#4682B4\", \"width\": 1}, \"locationmode\": \"USA-states\", \"lon\": [-115.15233, -96.85177], \"mode\": \"lines\", \"opacity\": 0.2166422645192777, \"text\": \"From: McCarran International Airport<br>To: Dallas Love Field<br>Avg. Delay: 6.49 mins\", \"type\": \"scattergeo\"}, {\"lat\": [36.08036, 39.85841], \"line\": {\"color\": \"#4682B4\", \"width\": 1}, \"locationmode\": \"USA-states\", \"lon\": [-115.15233, -104.667], \"mode\": \"lines\", \"opacity\": 0.17039155860666158, \"text\": \"From: McCarran International Airport<br>To: Denver International Airport<br>Avg. Delay: 5.11 mins\", \"type\": \"scattergeo\"}, {\"lat\": [36.08036, 41.534929999999996], \"line\": {\"color\": \"#4682B4\", \"width\": 1}, \"locationmode\": \"USA-states\", \"lon\": [-115.15233, -93.66068], \"mode\": \"lines\", \"opacity\": 0.07381671701913393, \"text\": \"From: McCarran International Airport<br>To: Des Moines International Airport<br>Avg. Delay: 2.21 mins\", \"type\": \"scattergeo\"}, {\"lat\": [36.08036, 42.21206], \"line\": {\"color\": \"#4682B4\", \"width\": 1}, \"locationmode\": \"USA-states\", \"lon\": [-115.15233, -83.34884], \"mode\": \"lines\", \"opacity\": 0.03643643643643644, \"text\": \"From: McCarran International Airport<br>To: Detroit Metropolitan Airport<br>Avg. Delay: 1.09 mins\", \"type\": \"scattergeo\"}, {\"lat\": [36.08036, 31.80667], \"line\": {\"color\": \"#4682B4\", \"width\": 1}, \"locationmode\": \"USA-states\", \"lon\": [-115.15233, -106.37781000000001], \"mode\": \"lines\", \"opacity\": 0.35529953917050694, \"text\": \"From: McCarran International Airport<br>To: El Paso International Airport<br>Avg. Delay: 10.65 mins\", \"type\": \"scattergeo\"}, {\"lat\": [36.08036, 26.07258], \"line\": {\"color\": \"#4682B4\", \"width\": 1}, \"locationmode\": \"USA-states\", \"lon\": [-115.15233, -80.15275], \"mode\": \"lines\", \"opacity\": 0.31626506024096385, \"text\": \"From: McCarran International Airport<br>To: Fort Lauderdale-Hollywood International Airport<br>Avg. Delay: 9.48 mins\", \"type\": \"scattergeo\"}, {\"lat\": [36.08036, 42.9655], \"line\": {\"color\": \"#4682B4\", \"width\": 1}, \"locationmode\": \"USA-states\", \"lon\": [-115.15233, -83.74346], \"mode\": \"lines\", \"opacity\": 0.20090634441087613, \"text\": \"From: McCarran International Airport<br>To: Bishop International Airport<br>Avg. Delay: 6.02 mins\", \"type\": \"scattergeo\"}, {\"lat\": [36.08036, 47.619859999999996], \"line\": {\"color\": \"#4682B4\", \"width\": 1}, \"locationmode\": \"USA-states\", \"lon\": [-115.15233, -117.53383999999998], \"mode\": \"lines\", \"opacity\": 0.027812177502579978, \"text\": \"From: McCarran International Airport<br>To: Spokane International Airport<br>Avg. Delay: 0.83 mins\", \"type\": \"scattergeo\"}, {\"lat\": [36.08036, 29.64542], \"line\": {\"color\": \"#4682B4\", \"width\": 1}, \"locationmode\": \"USA-states\", \"lon\": [-115.15233, -95.27889], \"mode\": \"lines\", \"opacity\": 0.16854256854256855, \"text\": \"From: McCarran International Airport<br>To: William P. Hobby Airport<br>Avg. Delay: 5.05 mins\", \"type\": \"scattergeo\"}, {\"lat\": [36.08036, 38.94453], \"line\": {\"color\": \"#4682B4\", \"width\": 1}, \"locationmode\": \"USA-states\", \"lon\": [-115.15233, -77.45581], \"mode\": \"lines\", \"opacity\": 0.10303951367781154, \"text\": \"From: McCarran International Airport<br>To: Washington Dulles International Airport<br>Avg. Delay: 3.09 mins\", \"type\": \"scattergeo\"}],\n",
       "                        {\"geo\": {\"lakecolor\": \"rgb(95,145,237)\", \"landcolor\": \"rgb(250,250,250)\", \"projection\": {\"type\": \"azimuthal equal area\"}, \"scope\": \"north america\", \"showlakes\": true, \"showland\": true}, \"showlegend\": false, \"template\": {\"data\": {\"bar\": [{\"error_x\": {\"color\": \"#2a3f5f\"}, \"error_y\": {\"color\": \"#2a3f5f\"}, \"marker\": {\"line\": {\"color\": \"#E5ECF6\", \"width\": 0.5}}, \"type\": \"bar\"}], \"barpolar\": [{\"marker\": {\"line\": {\"color\": \"#E5ECF6\", \"width\": 0.5}}, \"type\": \"barpolar\"}], \"carpet\": [{\"aaxis\": {\"endlinecolor\": \"#2a3f5f\", \"gridcolor\": \"white\", \"linecolor\": \"white\", \"minorgridcolor\": \"white\", \"startlinecolor\": \"#2a3f5f\"}, \"baxis\": {\"endlinecolor\": \"#2a3f5f\", \"gridcolor\": \"white\", \"linecolor\": \"white\", \"minorgridcolor\": \"white\", \"startlinecolor\": \"#2a3f5f\"}, \"type\": \"carpet\"}], \"choropleth\": [{\"colorbar\": {\"outlinewidth\": 0, \"ticks\": \"\"}, \"type\": \"choropleth\"}], \"contour\": [{\"colorbar\": {\"outlinewidth\": 0, \"ticks\": \"\"}, \"colorscale\": [[0.0, \"#0d0887\"], [0.1111111111111111, \"#46039f\"], [0.2222222222222222, \"#7201a8\"], [0.3333333333333333, \"#9c179e\"], [0.4444444444444444, \"#bd3786\"], [0.5555555555555556, \"#d8576b\"], [0.6666666666666666, \"#ed7953\"], [0.7777777777777778, \"#fb9f3a\"], [0.8888888888888888, \"#fdca26\"], [1.0, \"#f0f921\"]], \"type\": \"contour\"}], \"contourcarpet\": [{\"colorbar\": {\"outlinewidth\": 0, \"ticks\": \"\"}, \"type\": \"contourcarpet\"}], \"heatmap\": [{\"colorbar\": {\"outlinewidth\": 0, \"ticks\": \"\"}, \"colorscale\": [[0.0, \"#0d0887\"], [0.1111111111111111, \"#46039f\"], [0.2222222222222222, \"#7201a8\"], [0.3333333333333333, \"#9c179e\"], [0.4444444444444444, \"#bd3786\"], [0.5555555555555556, \"#d8576b\"], [0.6666666666666666, \"#ed7953\"], [0.7777777777777778, \"#fb9f3a\"], [0.8888888888888888, \"#fdca26\"], [1.0, \"#f0f921\"]], \"type\": \"heatmap\"}], \"heatmapgl\": [{\"colorbar\": {\"outlinewidth\": 0, \"ticks\": \"\"}, \"colorscale\": [[0.0, \"#0d0887\"], [0.1111111111111111, \"#46039f\"], [0.2222222222222222, \"#7201a8\"], [0.3333333333333333, \"#9c179e\"], [0.4444444444444444, \"#bd3786\"], [0.5555555555555556, \"#d8576b\"], [0.6666666666666666, \"#ed7953\"], [0.7777777777777778, \"#fb9f3a\"], [0.8888888888888888, \"#fdca26\"], [1.0, \"#f0f921\"]], \"type\": \"heatmapgl\"}], \"histogram\": [{\"marker\": {\"colorbar\": {\"outlinewidth\": 0, \"ticks\": \"\"}}, \"type\": \"histogram\"}], \"histogram2d\": [{\"colorbar\": {\"outlinewidth\": 0, \"ticks\": \"\"}, \"colorscale\": [[0.0, \"#0d0887\"], [0.1111111111111111, \"#46039f\"], [0.2222222222222222, \"#7201a8\"], [0.3333333333333333, \"#9c179e\"], [0.4444444444444444, \"#bd3786\"], [0.5555555555555556, \"#d8576b\"], [0.6666666666666666, \"#ed7953\"], [0.7777777777777778, \"#fb9f3a\"], [0.8888888888888888, \"#fdca26\"], [1.0, \"#f0f921\"]], \"type\": \"histogram2d\"}], \"histogram2dcontour\": [{\"colorbar\": {\"outlinewidth\": 0, \"ticks\": \"\"}, \"colorscale\": [[0.0, \"#0d0887\"], [0.1111111111111111, \"#46039f\"], [0.2222222222222222, \"#7201a8\"], [0.3333333333333333, \"#9c179e\"], [0.4444444444444444, \"#bd3786\"], [0.5555555555555556, \"#d8576b\"], [0.6666666666666666, \"#ed7953\"], [0.7777777777777778, \"#fb9f3a\"], [0.8888888888888888, \"#fdca26\"], [1.0, \"#f0f921\"]], \"type\": \"histogram2dcontour\"}], \"mesh3d\": [{\"colorbar\": {\"outlinewidth\": 0, \"ticks\": \"\"}, \"type\": \"mesh3d\"}], \"parcoords\": [{\"line\": {\"colorbar\": {\"outlinewidth\": 0, \"ticks\": \"\"}}, \"type\": \"parcoords\"}], \"pie\": [{\"automargin\": true, \"type\": \"pie\"}], \"scatter\": [{\"marker\": {\"colorbar\": {\"outlinewidth\": 0, \"ticks\": \"\"}}, \"type\": \"scatter\"}], \"scatter3d\": [{\"line\": {\"colorbar\": {\"outlinewidth\": 0, \"ticks\": \"\"}}, \"marker\": {\"colorbar\": {\"outlinewidth\": 0, \"ticks\": \"\"}}, \"type\": \"scatter3d\"}], \"scattercarpet\": [{\"marker\": {\"colorbar\": {\"outlinewidth\": 0, \"ticks\": \"\"}}, \"type\": \"scattercarpet\"}], \"scattergeo\": [{\"marker\": {\"colorbar\": {\"outlinewidth\": 0, \"ticks\": \"\"}}, \"type\": \"scattergeo\"}], \"scattergl\": [{\"marker\": {\"colorbar\": {\"outlinewidth\": 0, \"ticks\": \"\"}}, \"type\": \"scattergl\"}], \"scattermapbox\": [{\"marker\": {\"colorbar\": {\"outlinewidth\": 0, \"ticks\": \"\"}}, \"type\": \"scattermapbox\"}], \"scatterpolar\": [{\"marker\": {\"colorbar\": {\"outlinewidth\": 0, \"ticks\": \"\"}}, \"type\": \"scatterpolar\"}], \"scatterpolargl\": [{\"marker\": {\"colorbar\": {\"outlinewidth\": 0, \"ticks\": \"\"}}, \"type\": \"scatterpolargl\"}], \"scatterternary\": [{\"marker\": {\"colorbar\": {\"outlinewidth\": 0, \"ticks\": \"\"}}, \"type\": \"scatterternary\"}], \"surface\": [{\"colorbar\": {\"outlinewidth\": 0, \"ticks\": \"\"}, \"colorscale\": [[0.0, \"#0d0887\"], [0.1111111111111111, \"#46039f\"], [0.2222222222222222, \"#7201a8\"], [0.3333333333333333, \"#9c179e\"], [0.4444444444444444, \"#bd3786\"], [0.5555555555555556, \"#d8576b\"], [0.6666666666666666, \"#ed7953\"], [0.7777777777777778, \"#fb9f3a\"], [0.8888888888888888, \"#fdca26\"], [1.0, \"#f0f921\"]], \"type\": \"surface\"}], \"table\": [{\"cells\": {\"fill\": {\"color\": \"#EBF0F8\"}, \"line\": {\"color\": \"white\"}}, \"header\": {\"fill\": {\"color\": \"#C8D4E3\"}, \"line\": {\"color\": \"white\"}}, \"type\": \"table\"}]}, \"layout\": {\"annotationdefaults\": {\"arrowcolor\": \"#2a3f5f\", \"arrowhead\": 0, \"arrowwidth\": 1}, \"coloraxis\": {\"colorbar\": {\"outlinewidth\": 0, \"ticks\": \"\"}}, \"colorscale\": {\"diverging\": [[0, \"#8e0152\"], [0.1, \"#c51b7d\"], [0.2, \"#de77ae\"], [0.3, \"#f1b6da\"], [0.4, \"#fde0ef\"], [0.5, \"#f7f7f7\"], [0.6, \"#e6f5d0\"], [0.7, \"#b8e186\"], [0.8, \"#7fbc41\"], [0.9, \"#4d9221\"], [1, \"#276419\"]], \"sequential\": [[0.0, \"#0d0887\"], [0.1111111111111111, \"#46039f\"], [0.2222222222222222, \"#7201a8\"], [0.3333333333333333, \"#9c179e\"], [0.4444444444444444, \"#bd3786\"], [0.5555555555555556, \"#d8576b\"], [0.6666666666666666, \"#ed7953\"], [0.7777777777777778, \"#fb9f3a\"], [0.8888888888888888, \"#fdca26\"], [1.0, \"#f0f921\"]], \"sequentialminus\": [[0.0, \"#0d0887\"], [0.1111111111111111, \"#46039f\"], [0.2222222222222222, \"#7201a8\"], [0.3333333333333333, \"#9c179e\"], [0.4444444444444444, \"#bd3786\"], [0.5555555555555556, \"#d8576b\"], [0.6666666666666666, \"#ed7953\"], [0.7777777777777778, \"#fb9f3a\"], [0.8888888888888888, \"#fdca26\"], [1.0, \"#f0f921\"]]}, \"colorway\": [\"#636efa\", \"#EF553B\", \"#00cc96\", \"#ab63fa\", \"#FFA15A\", \"#19d3f3\", \"#FF6692\", \"#B6E880\", \"#FF97FF\", \"#FECB52\"], \"font\": {\"color\": \"#2a3f5f\"}, \"geo\": {\"bgcolor\": \"white\", \"lakecolor\": \"white\", \"landcolor\": \"#E5ECF6\", \"showlakes\": true, \"showland\": true, \"subunitcolor\": \"white\"}, \"hoverlabel\": {\"align\": \"left\"}, \"hovermode\": \"closest\", \"mapbox\": {\"style\": \"light\"}, \"paper_bgcolor\": \"white\", \"plot_bgcolor\": \"#E5ECF6\", \"polar\": {\"angularaxis\": {\"gridcolor\": \"white\", \"linecolor\": \"white\", \"ticks\": \"\"}, \"bgcolor\": \"#E5ECF6\", \"radialaxis\": {\"gridcolor\": \"white\", \"linecolor\": \"white\", \"ticks\": \"\"}}, \"scene\": {\"xaxis\": {\"backgroundcolor\": \"#E5ECF6\", \"gridcolor\": \"white\", \"gridwidth\": 2, \"linecolor\": \"white\", \"showbackground\": true, \"ticks\": \"\", \"zerolinecolor\": \"white\"}, \"yaxis\": {\"backgroundcolor\": \"#E5ECF6\", \"gridcolor\": \"white\", \"gridwidth\": 2, \"linecolor\": \"white\", \"showbackground\": true, \"ticks\": \"\", \"zerolinecolor\": \"white\"}, \"zaxis\": {\"backgroundcolor\": \"#E5ECF6\", \"gridcolor\": \"white\", \"gridwidth\": 2, \"linecolor\": \"white\", \"showbackground\": true, \"ticks\": \"\", \"zerolinecolor\": \"white\"}}, \"shapedefaults\": {\"line\": {\"color\": \"#2a3f5f\"}}, \"ternary\": {\"aaxis\": {\"gridcolor\": \"white\", \"linecolor\": \"white\", \"ticks\": \"\"}, \"baxis\": {\"gridcolor\": \"white\", \"linecolor\": \"white\", \"ticks\": \"\"}, \"bgcolor\": \"#E5ECF6\", \"caxis\": {\"gridcolor\": \"white\", \"linecolor\": \"white\", \"ticks\": \"\"}}, \"title\": {\"x\": 0.05}, \"xaxis\": {\"automargin\": true, \"gridcolor\": \"white\", \"linecolor\": \"white\", \"ticks\": \"\", \"title\": {\"standoff\": 15}, \"zerolinecolor\": \"white\", \"zerolinewidth\": 2}, \"yaxis\": {\"automargin\": true, \"gridcolor\": \"white\", \"linecolor\": \"white\", \"ticks\": \"\", \"title\": {\"standoff\": 15}, \"zerolinecolor\": \"white\", \"zerolinewidth\": 2}}}, \"title\": {\"text\": \"Average Delay Time of Airline \\\"WN\\\" Route in 2015<br> Hover for value\"}},\n",
       "                        {\"responsive\": true}\n",
       "                    ).then(function(){\n",
       "                            \n",
       "var gd = document.getElementById('c8d9b3a0-a8eb-460b-bbd7-187a25c82a57');\n",
       "var x = new MutationObserver(function (mutations, observer) {{\n",
       "        var display = window.getComputedStyle(gd).display;\n",
       "        if (!display || display === 'none') {{\n",
       "            console.log([gd, 'removed!']);\n",
       "            Plotly.purge(gd);\n",
       "            observer.disconnect();\n",
       "        }}\n",
       "}});\n",
       "\n",
       "// Listen for the removal of the full notebook cells\n",
       "var notebookContainer = gd.closest('#notebook-container');\n",
       "if (notebookContainer) {{\n",
       "    x.observe(notebookContainer, {childList: true});\n",
       "}}\n",
       "\n",
       "// Listen for the clearing of the current output cell\n",
       "var outputEl = gd.closest('.output');\n",
       "if (outputEl) {{\n",
       "    x.observe(outputEl, {childList: true});\n",
       "}}\n",
       "\n",
       "                        })\n",
       "                };\n",
       "                });\n",
       "            </script>\n",
       "        </div>"
      ]
     },
     "metadata": {},
     "output_type": "display_data"
    }
   ],
   "source": [
    "data = [\n",
    "    dict(\n",
    "        type='scattergeo',\n",
    "        lat=c_sorted['LATITUDE'],\n",
    "        lon=c_sorted['LONGITUDE'],\n",
    "        marker=dict(color='#FFD700',\n",
    "                    line=dict(color=\"rgba(102,102,102)\", width=1),\n",
    "                    opacity=0.8,\n",
    "                    size=6),\n",
    "        mode='markers',\n",
    "    )\n",
    "]\n",
    "\n",
    "#draw the flight route in the map\n",
    "for i in range(600):#len(c_sorted.index)\n",
    "    data += [\n",
    "        dict(lat=[c_sorted['LATITUDE'].iloc[i], d_sorted['LATITUDE'].iloc[i]],\n",
    "             line=dict(color='#4682B4', width=1),\n",
    "             locationmode=\"USA-states\",\n",
    "             lon=[c_sorted['LONGITUDE'].iloc[i], d_sorted['LONGITUDE'].iloc[i]],\n",
    "             mode=\"lines\",\n",
    "             text=('From: ' + (c_sorted['AIRPORT'].iloc[i]) + '<br>To: ' +\n",
    "                   d_sorted['AIRPORT'].iloc[i] + '<br>Avg. Delay: ' +\n",
    "                   ((c_sorted['ARRIVAL_DELAY'].iloc[i] * 100).astype(int) /\n",
    "                    100).astype(str) + ' mins'),\n",
    "             opacity=(c_sorted['ARRIVAL_DELAY'].iloc[i]) / 30 if\n",
    "             (c_sorted['ARRIVAL_DELAY'].iloc[i]) > 0 else 0,\n",
    "             type=\"scattergeo\")\n",
    "    ]\n",
    "\n",
    "    #layout\n",
    "    layout = dict(\n",
    "        title='Average Delay Time of Airline \"WN\" Route in 2015'\n",
    "        + '<br> Hover for value',\n",
    "        geo=dict(scope='north america',\n",
    "                 projection=dict(type=\"azimuthal equal area\"),\n",
    "                 showlakes=True,\n",
    "                 showland=True,\n",
    "                 lakecolor='rgb(95,145,237)',\n",
    "                 landcolor='rgb(250,250,250)'),\n",
    "        showlegend=False)\n",
    "\n",
    "fig = dict(data=data, layout=layout)\n",
    "py.iplot(fig)"
   ]
  },
  {
   "cell_type": "markdown",
   "metadata": {},
   "source": [
    "# VX"
   ]
  },
  {
   "cell_type": "code",
   "execution_count": 52,
   "metadata": {
    "ExecuteTime": {
     "end_time": "2020-06-29T23:13:36.107643Z",
     "start_time": "2020-06-29T23:13:35.978039Z"
    }
   },
   "outputs": [
    {
     "data": {
      "application/vnd.plotly.v1+json": {
       "config": {
        "linkText": "Export to plot.ly",
        "plotlyServerURL": "https://plot.ly",
        "showLink": false
       },
       "data": [
        {
         "lat": [
          30.19453,
          30.19453,
          42.36435,
          42.36435,
          42.36435,
          32.84711,
          32.84711,
          32.84711,
          32.84711,
          32.84711,
          32.84711,
          38.85208,
          38.85208,
          40.6925,
          40.6925,
          26.07258,
          26.07258,
          26.07258,
          21.31869,
          38.94453,
          38.94453,
          40.63975,
          40.63975,
          40.63975,
          40.63975,
          40.63975,
          36.08036,
          36.08036,
          36.08036,
          36.08036,
          36.08036,
          33.94254,
          33.94254,
          33.94254,
          33.94254,
          33.94254,
          33.94254,
          33.94254,
          33.94254,
          33.94254,
          33.94254,
          33.94254,
          40.77724,
          28.428890000000003,
          20.89865,
          41.9796,
          41.9796,
          45.58872,
          33.82922,
          33.82922,
          32.73356,
          47.44898,
          47.44898,
          37.619,
          37.619,
          37.619,
          37.619,
          37.619,
          37.619,
          37.619,
          37.619,
          37.619,
          37.619,
          37.619,
          37.619,
          37.619,
          37.619,
          37.619,
          37.619,
          37.619,
          36.198370000000004
         ],
         "lon": [
          -97.66986999999999,
          -97.66986999999999,
          -71.00518000000001,
          -71.00518000000001,
          -71.00518000000001,
          -96.85177,
          -96.85177,
          -96.85177,
          -96.85177,
          -96.85177,
          -96.85177,
          -77.03772,
          -77.03772,
          -74.16866,
          -74.16866,
          -80.15275,
          -80.15275,
          -80.15275,
          -157.92241,
          -77.45581,
          -77.45581,
          -73.77893,
          -73.77893,
          -73.77893,
          -73.77893,
          -73.77893,
          -115.15233,
          -115.15233,
          -115.15233,
          -115.15233,
          -115.15233,
          -118.40807,
          -118.40807,
          -118.40807,
          -118.40807,
          -118.40807,
          -118.40807,
          -118.40807,
          -118.40807,
          -118.40807,
          -118.40807,
          -118.40807,
          -73.87261,
          -81.31603,
          -156.43046,
          -87.90446,
          -87.90446,
          -122.5975,
          -116.50625,
          -116.50625,
          -117.18966,
          -122.30931000000001,
          -122.30931000000001,
          -122.37483999999999,
          -122.37483999999999,
          -122.37483999999999,
          -122.37483999999999,
          -122.37483999999999,
          -122.37483999999999,
          -122.37483999999999,
          -122.37483999999999,
          -122.37483999999999,
          -122.37483999999999,
          -122.37483999999999,
          -122.37483999999999,
          -122.37483999999999,
          -122.37483999999999,
          -122.37483999999999,
          -122.37483999999999,
          -122.37483999999999,
          -95.88824
         ],
         "marker": {
          "color": "#FFD700",
          "line": {
           "color": "rgba(102,102,102)",
           "width": 1
          },
          "opacity": 0.8,
          "size": 6
         },
         "mode": "markers",
         "type": "scattergeo"
        },
        {
         "lat": [
          30.19453,
          32.84711
         ],
         "line": {
          "color": "#4682B4",
          "width": 1
         },
         "locationmode": "USA-states",
         "lon": [
          -97.66986999999999,
          -96.85177
         ],
         "mode": "lines",
         "opacity": 0.11,
         "text": "From: Austin-Bergstrom International Airport<br>To: Dallas Love Field<br>Avg. Delay: 3.3 mins",
         "type": "scattergeo"
        },
        {
         "lat": [
          30.19453,
          37.619
         ],
         "line": {
          "color": "#4682B4",
          "width": 1
         },
         "locationmode": "USA-states",
         "lon": [
          -97.66986999999999,
          -122.37483999999999
         ],
         "mode": "lines",
         "opacity": 0.19231182795698926,
         "text": "From: Austin-Bergstrom International Airport<br>To: San Francisco International Airport<br>Avg. Delay: 5.76 mins",
         "type": "scattergeo"
        },
        {
         "lat": [
          42.36435,
          36.08036
         ],
         "line": {
          "color": "#4682B4",
          "width": 1
         },
         "locationmode": "USA-states",
         "lon": [
          -71.00518000000001,
          -115.15233
         ],
         "mode": "lines",
         "opacity": 0,
         "text": "From: Gen. Edward Lawrence Logan International Airport<br>To: McCarran International Airport<br>Avg. Delay: -4.63 mins",
         "type": "scattergeo"
        },
        {
         "lat": [
          42.36435,
          33.94254
         ],
         "line": {
          "color": "#4682B4",
          "width": 1
         },
         "locationmode": "USA-states",
         "lon": [
          -71.00518000000001,
          -118.40807
         ],
         "mode": "lines",
         "opacity": 0.0020982355746304244,
         "text": "From: Gen. Edward Lawrence Logan International Airport<br>To: Los Angeles International Airport<br>Avg. Delay: 0.06 mins",
         "type": "scattergeo"
        },
        {
         "lat": [
          42.36435,
          37.619
         ],
         "line": {
          "color": "#4682B4",
          "width": 1
         },
         "locationmode": "USA-states",
         "lon": [
          -71.00518000000001,
          -122.37483999999999
         ],
         "mode": "lines",
         "opacity": 0,
         "text": "From: Gen. Edward Lawrence Logan International Airport<br>To: San Francisco International Airport<br>Avg. Delay: -0.94 mins",
         "type": "scattergeo"
        },
        {
         "lat": [
          32.84711,
          30.19453
         ],
         "line": {
          "color": "#4682B4",
          "width": 1
         },
         "locationmode": "USA-states",
         "lon": [
          -96.85177,
          -97.66986999999999
         ],
         "mode": "lines",
         "opacity": 0.17878787878787877,
         "text": "From: Dallas Love Field<br>To: Austin-Bergstrom International Airport<br>Avg. Delay: 5.36 mins",
         "type": "scattergeo"
        },
        {
         "lat": [
          32.84711,
          38.85208
         ],
         "line": {
          "color": "#4682B4",
          "width": 1
         },
         "locationmode": "USA-states",
         "lon": [
          -96.85177,
          -77.03772
         ],
         "mode": "lines",
         "opacity": 0.307361268403171,
         "text": "From: Dallas Love Field<br>To: Ronald Reagan Washington National Airport<br>Avg. Delay: 9.22 mins",
         "type": "scattergeo"
        },
        {
         "lat": [
          32.84711,
          36.08036
         ],
         "line": {
          "color": "#4682B4",
          "width": 1
         },
         "locationmode": "USA-states",
         "lon": [
          -96.85177,
          -115.15233
         ],
         "mode": "lines",
         "opacity": 0.7812121212121212,
         "text": "From: Dallas Love Field<br>To: McCarran International Airport<br>Avg. Delay: 23.43 mins",
         "type": "scattergeo"
        },
        {
         "lat": [
          32.84711,
          33.94254
         ],
         "line": {
          "color": "#4682B4",
          "width": 1
         },
         "locationmode": "USA-states",
         "lon": [
          -96.85177,
          -118.40807
         ],
         "mode": "lines",
         "opacity": 0.43599290780141847,
         "text": "From: Dallas Love Field<br>To: Los Angeles International Airport<br>Avg. Delay: 13.07 mins",
         "type": "scattergeo"
        },
        {
         "lat": [
          32.84711,
          40.77724
         ],
         "line": {
          "color": "#4682B4",
          "width": 1
         },
         "locationmode": "USA-states",
         "lon": [
          -96.85177,
          -73.87261
         ],
         "mode": "lines",
         "opacity": 0.5848119437266724,
         "text": "From: Dallas Love Field<br>To: LaGuardia Airport (Marine Air Terminal)<br>Avg. Delay: 17.54 mins",
         "type": "scattergeo"
        },
        {
         "lat": [
          32.84711,
          37.619
         ],
         "line": {
          "color": "#4682B4",
          "width": 1
         },
         "locationmode": "USA-states",
         "lon": [
          -96.85177,
          -122.37483999999999
         ],
         "mode": "lines",
         "opacity": 0.4364066193853428,
         "text": "From: Dallas Love Field<br>To: San Francisco International Airport<br>Avg. Delay: 13.09 mins",
         "type": "scattergeo"
        },
        {
         "lat": [
          38.85208,
          32.84711
         ],
         "line": {
          "color": "#4682B4",
          "width": 1
         },
         "locationmode": "USA-states",
         "lon": [
          -77.03772,
          -96.85177
         ],
         "mode": "lines",
         "opacity": 0,
         "text": "From: Ronald Reagan Washington National Airport<br>To: Dallas Love Field<br>Avg. Delay: -0.18 mins",
         "type": "scattergeo"
        },
        {
         "lat": [
          38.85208,
          37.619
         ],
         "line": {
          "color": "#4682B4",
          "width": 1
         },
         "locationmode": "USA-states",
         "lon": [
          -77.03772,
          -122.37483999999999
         ],
         "mode": "lines",
         "opacity": 0,
         "text": "From: Ronald Reagan Washington National Airport<br>To: San Francisco International Airport<br>Avg. Delay: -0.84 mins",
         "type": "scattergeo"
        },
        {
         "lat": [
          40.6925,
          33.94254
         ],
         "line": {
          "color": "#4682B4",
          "width": 1
         },
         "locationmode": "USA-states",
         "lon": [
          -74.16866,
          -118.40807
         ],
         "mode": "lines",
         "opacity": 0,
         "text": "From: Newark Liberty International Airport<br>To: Los Angeles International Airport<br>Avg. Delay: -4.57 mins",
         "type": "scattergeo"
        },
        {
         "lat": [
          40.6925,
          37.619
         ],
         "line": {
          "color": "#4682B4",
          "width": 1
         },
         "locationmode": "USA-states",
         "lon": [
          -74.16866,
          -122.37483999999999
         ],
         "mode": "lines",
         "opacity": 0,
         "text": "From: Newark Liberty International Airport<br>To: San Francisco International Airport<br>Avg. Delay: -4.16 mins",
         "type": "scattergeo"
        },
        {
         "lat": [
          26.07258,
          40.63975
         ],
         "line": {
          "color": "#4682B4",
          "width": 1
         },
         "locationmode": "USA-states",
         "lon": [
          -80.15275,
          -73.77893
         ],
         "mode": "lines",
         "opacity": 0.05647058823529412,
         "text": "From: Fort Lauderdale-Hollywood International Airport<br>To: John F. Kennedy International Airport (New York International Airport)<br>Avg. Delay: 1.69 mins",
         "type": "scattergeo"
        },
        {
         "lat": [
          26.07258,
          33.94254
         ],
         "line": {
          "color": "#4682B4",
          "width": 1
         },
         "locationmode": "USA-states",
         "lon": [
          -80.15275,
          -118.40807
         ],
         "mode": "lines",
         "opacity": 0,
         "text": "From: Fort Lauderdale-Hollywood International Airport<br>To: Los Angeles International Airport<br>Avg. Delay: -0.13 mins",
         "type": "scattergeo"
        },
        {
         "lat": [
          26.07258,
          37.619
         ],
         "line": {
          "color": "#4682B4",
          "width": 1
         },
         "locationmode": "USA-states",
         "lon": [
          -80.15275,
          -122.37483999999999
         ],
         "mode": "lines",
         "opacity": 0,
         "text": "From: Fort Lauderdale-Hollywood International Airport<br>To: San Francisco International Airport<br>Avg. Delay: -7.56 mins",
         "type": "scattergeo"
        },
        {
         "lat": [
          21.31869,
          37.619
         ],
         "line": {
          "color": "#4682B4",
          "width": 1
         },
         "locationmode": "USA-states",
         "lon": [
          -157.92241,
          -122.37483999999999
         ],
         "mode": "lines",
         "opacity": 0.17457627118644067,
         "text": "From: Honolulu International Airport<br>To: San Francisco International Airport<br>Avg. Delay: 5.23 mins",
         "type": "scattergeo"
        },
        {
         "lat": [
          38.94453,
          33.94254
         ],
         "line": {
          "color": "#4682B4",
          "width": 1
         },
         "locationmode": "USA-states",
         "lon": [
          -77.45581,
          -118.40807
         ],
         "mode": "lines",
         "opacity": 0,
         "text": "From: Washington Dulles International Airport<br>To: Los Angeles International Airport<br>Avg. Delay: -4.43 mins",
         "type": "scattergeo"
        },
        {
         "lat": [
          38.94453,
          37.619
         ],
         "line": {
          "color": "#4682B4",
          "width": 1
         },
         "locationmode": "USA-states",
         "lon": [
          -77.45581,
          -122.37483999999999
         ],
         "mode": "lines",
         "opacity": 0,
         "text": "From: Washington Dulles International Airport<br>To: San Francisco International Airport<br>Avg. Delay: -2.13 mins",
         "type": "scattergeo"
        },
        {
         "lat": [
          40.63975,
          26.07258
         ],
         "line": {
          "color": "#4682B4",
          "width": 1
         },
         "locationmode": "USA-states",
         "lon": [
          -73.77893,
          -80.15275
         ],
         "mode": "lines",
         "opacity": 0.15411764705882353,
         "text": "From: John F. Kennedy International Airport (New York International Airport)<br>To: Fort Lauderdale-Hollywood International Airport<br>Avg. Delay: 4.62 mins",
         "type": "scattergeo"
        },
        {
         "lat": [
          40.63975,
          36.08036
         ],
         "line": {
          "color": "#4682B4",
          "width": 1
         },
         "locationmode": "USA-states",
         "lon": [
          -73.77893,
          -115.15233
         ],
         "mode": "lines",
         "opacity": 0,
         "text": "From: John F. Kennedy International Airport (New York International Airport)<br>To: McCarran International Airport<br>Avg. Delay: -4.85 mins",
         "type": "scattergeo"
        },
        {
         "lat": [
          40.63975,
          33.94254
         ],
         "line": {
          "color": "#4682B4",
          "width": 1
         },
         "locationmode": "USA-states",
         "lon": [
          -73.77893,
          -118.40807
         ],
         "mode": "lines",
         "opacity": 0.00043050430504305045,
         "text": "From: John F. Kennedy International Airport (New York International Airport)<br>To: Los Angeles International Airport<br>Avg. Delay: 0.01 mins",
         "type": "scattergeo"
        },
        {
         "lat": [
          40.63975,
          33.82922
         ],
         "line": {
          "color": "#4682B4",
          "width": 1
         },
         "locationmode": "USA-states",
         "lon": [
          -73.77893,
          -116.50625
         ],
         "mode": "lines",
         "opacity": 0.015625,
         "text": "From: John F. Kennedy International Airport (New York International Airport)<br>To: Palm Springs International Airport<br>Avg. Delay: 0.46 mins",
         "type": "scattergeo"
        },
        {
         "lat": [
          40.63975,
          37.619
         ],
         "line": {
          "color": "#4682B4",
          "width": 1
         },
         "locationmode": "USA-states",
         "lon": [
          -73.77893,
          -122.37483999999999
         ],
         "mode": "lines",
         "opacity": 0,
         "text": "From: John F. Kennedy International Airport (New York International Airport)<br>To: San Francisco International Airport<br>Avg. Delay: -2.01 mins",
         "type": "scattergeo"
        },
        {
         "lat": [
          36.08036,
          42.36435
         ],
         "line": {
          "color": "#4682B4",
          "width": 1
         },
         "locationmode": "USA-states",
         "lon": [
          -115.15233,
          -71.00518000000001
         ],
         "mode": "lines",
         "opacity": 0.31807909604519774,
         "text": "From: McCarran International Airport<br>To: Gen. Edward Lawrence Logan International Airport<br>Avg. Delay: 9.54 mins",
         "type": "scattergeo"
        },
        {
         "lat": [
          36.08036,
          32.84711
         ],
         "line": {
          "color": "#4682B4",
          "width": 1
         },
         "locationmode": "USA-states",
         "lon": [
          -115.15233,
          -96.85177
         ],
         "mode": "lines",
         "opacity": 0,
         "text": "From: McCarran International Airport<br>To: Dallas Love Field<br>Avg. Delay: -7.22 mins",
         "type": "scattergeo"
        },
        {
         "lat": [
          36.08036,
          40.63975
         ],
         "line": {
          "color": "#4682B4",
          "width": 1
         },
         "locationmode": "USA-states",
         "lon": [
          -115.15233,
          -73.77893
         ],
         "mode": "lines",
         "opacity": 0.005763688760806917,
         "text": "From: McCarran International Airport<br>To: John F. Kennedy International Airport (New York International Airport)<br>Avg. Delay: 0.17 mins",
         "type": "scattergeo"
        },
        {
         "lat": [
          36.08036,
          33.94254
         ],
         "line": {
          "color": "#4682B4",
          "width": 1
         },
         "locationmode": "USA-states",
         "lon": [
          -115.15233,
          -118.40807
         ],
         "mode": "lines",
         "opacity": 0.28095238095238095,
         "text": "From: McCarran International Airport<br>To: Los Angeles International Airport<br>Avg. Delay: 8.42 mins",
         "type": "scattergeo"
        },
        {
         "lat": [
          36.08036,
          37.619
         ],
         "line": {
          "color": "#4682B4",
          "width": 1
         },
         "locationmode": "USA-states",
         "lon": [
          -115.15233,
          -122.37483999999999
         ],
         "mode": "lines",
         "opacity": 0.38447086452370466,
         "text": "From: McCarran International Airport<br>To: San Francisco International Airport<br>Avg. Delay: 11.53 mins",
         "type": "scattergeo"
        },
        {
         "lat": [
          33.94254,
          42.36435
         ],
         "line": {
          "color": "#4682B4",
          "width": 1
         },
         "locationmode": "USA-states",
         "lon": [
          -118.40807,
          -71.00518000000001
         ],
         "mode": "lines",
         "opacity": 0,
         "text": "From: Los Angeles International Airport<br>To: Gen. Edward Lawrence Logan International Airport<br>Avg. Delay: -2.06 mins",
         "type": "scattergeo"
        },
        {
         "lat": [
          33.94254,
          32.84711
         ],
         "line": {
          "color": "#4682B4",
          "width": 1
         },
         "locationmode": "USA-states",
         "lon": [
          -118.40807,
          -96.85177
         ],
         "mode": "lines",
         "opacity": 0.07547281323877068,
         "text": "From: Los Angeles International Airport<br>To: Dallas Love Field<br>Avg. Delay: 2.26 mins",
         "type": "scattergeo"
        },
        {
         "lat": [
          33.94254,
          40.6925
         ],
         "line": {
          "color": "#4682B4",
          "width": 1
         },
         "locationmode": "USA-states",
         "lon": [
          -118.40807,
          -74.16866
         ],
         "mode": "lines",
         "opacity": 0.05241758241758242,
         "text": "From: Los Angeles International Airport<br>To: Newark Liberty International Airport<br>Avg. Delay: 1.57 mins",
         "type": "scattergeo"
        },
        {
         "lat": [
          33.94254,
          26.07258
         ],
         "line": {
          "color": "#4682B4",
          "width": 1
         },
         "locationmode": "USA-states",
         "lon": [
          -118.40807,
          -80.15275
         ],
         "mode": "lines",
         "opacity": 0.16135770234986946,
         "text": "From: Los Angeles International Airport<br>To: Fort Lauderdale-Hollywood International Airport<br>Avg. Delay: 4.84 mins",
         "type": "scattergeo"
        },
        {
         "lat": [
          33.94254,
          38.94453
         ],
         "line": {
          "color": "#4682B4",
          "width": 1
         },
         "locationmode": "USA-states",
         "lon": [
          -118.40807,
          -77.45581
         ],
         "mode": "lines",
         "opacity": 0,
         "text": "From: Los Angeles International Airport<br>To: Washington Dulles International Airport<br>Avg. Delay: -5.32 mins",
         "type": "scattergeo"
        },
        {
         "lat": [
          33.94254,
          40.63975
         ],
         "line": {
          "color": "#4682B4",
          "width": 1
         },
         "locationmode": "USA-states",
         "lon": [
          -118.40807,
          -73.77893
         ],
         "mode": "lines",
         "opacity": 0.21511247443762782,
         "text": "From: Los Angeles International Airport<br>To: John F. Kennedy International Airport (New York International Airport)<br>Avg. Delay: 6.45 mins",
         "type": "scattergeo"
        },
        {
         "lat": [
          33.94254,
          36.08036
         ],
         "line": {
          "color": "#4682B4",
          "width": 1
         },
         "locationmode": "USA-states",
         "lon": [
          -118.40807,
          -115.15233
         ],
         "mode": "lines",
         "opacity": 0.2338230492980738,
         "text": "From: Los Angeles International Airport<br>To: McCarran International Airport<br>Avg. Delay: 7.01 mins",
         "type": "scattergeo"
        },
        {
         "lat": [
          33.94254,
          28.428890000000003
         ],
         "line": {
          "color": "#4682B4",
          "width": 1
         },
         "locationmode": "USA-states",
         "lon": [
          -118.40807,
          -81.31603
         ],
         "mode": "lines",
         "opacity": 0.04859437751004016,
         "text": "From: Los Angeles International Airport<br>To: Orlando International Airport<br>Avg. Delay: 1.45 mins",
         "type": "scattergeo"
        },
        {
         "lat": [
          33.94254,
          41.9796
         ],
         "line": {
          "color": "#4682B4",
          "width": 1
         },
         "locationmode": "USA-states",
         "lon": [
          -118.40807,
          -87.90446
         ],
         "mode": "lines",
         "opacity": 0.19812362030905076,
         "text": "From: Los Angeles International Airport<br>To: Chicago O'Hare International Airport<br>Avg. Delay: 5.94 mins",
         "type": "scattergeo"
        },
        {
         "lat": [
          33.94254,
          47.44898
         ],
         "line": {
          "color": "#4682B4",
          "width": 1
         },
         "locationmode": "USA-states",
         "lon": [
          -118.40807,
          -122.30931000000001
         ],
         "mode": "lines",
         "opacity": 0.24000749906261717,
         "text": "From: Los Angeles International Airport<br>To: Seattle-Tacoma International Airport<br>Avg. Delay: 7.2 mins",
         "type": "scattergeo"
        },
        {
         "lat": [
          33.94254,
          37.619
         ],
         "line": {
          "color": "#4682B4",
          "width": 1
         },
         "locationmode": "USA-states",
         "lon": [
          -118.40807,
          -122.37483999999999
         ],
         "mode": "lines",
         "opacity": 0.40867058311575283,
         "text": "From: Los Angeles International Airport<br>To: San Francisco International Airport<br>Avg. Delay: 12.26 mins",
         "type": "scattergeo"
        },
        {
         "lat": [
          40.77724,
          32.84711
         ],
         "line": {
          "color": "#4682B4",
          "width": 1
         },
         "locationmode": "USA-states",
         "lon": [
          -73.87261,
          -96.85177
         ],
         "mode": "lines",
         "opacity": 0.08583333333333334,
         "text": "From: LaGuardia Airport (Marine Air Terminal)<br>To: Dallas Love Field<br>Avg. Delay: 2.57 mins",
         "type": "scattergeo"
        },
        {
         "lat": [
          28.428890000000003,
          33.94254
         ],
         "line": {
          "color": "#4682B4",
          "width": 1
         },
         "locationmode": "USA-states",
         "lon": [
          -81.31603,
          -118.40807
         ],
         "mode": "lines",
         "opacity": 0.14664664664664664,
         "text": "From: Orlando International Airport<br>To: Los Angeles International Airport<br>Avg. Delay: 4.39 mins",
         "type": "scattergeo"
        },
        {
         "lat": [
          20.89865,
          37.619
         ],
         "line": {
          "color": "#4682B4",
          "width": 1
         },
         "locationmode": "USA-states",
         "lon": [
          -156.43046,
          -122.37483999999999
         ],
         "mode": "lines",
         "opacity": 0,
         "text": "From: Kahului Airport<br>To: San Francisco International Airport<br>Avg. Delay: -7.51 mins",
         "type": "scattergeo"
        },
        {
         "lat": [
          41.9796,
          33.94254
         ],
         "line": {
          "color": "#4682B4",
          "width": 1
         },
         "locationmode": "USA-states",
         "lon": [
          -87.90446,
          -118.40807
         ],
         "mode": "lines",
         "opacity": 0.0704070407040704,
         "text": "From: Chicago O'Hare International Airport<br>To: Los Angeles International Airport<br>Avg. Delay: 2.11 mins",
         "type": "scattergeo"
        },
        {
         "lat": [
          41.9796,
          37.619
         ],
         "line": {
          "color": "#4682B4",
          "width": 1
         },
         "locationmode": "USA-states",
         "lon": [
          -87.90446,
          -122.37483999999999
         ],
         "mode": "lines",
         "opacity": 0.26562364189482834,
         "text": "From: Chicago O'Hare International Airport<br>To: San Francisco International Airport<br>Avg. Delay: 7.96 mins",
         "type": "scattergeo"
        },
        {
         "lat": [
          45.58872,
          37.619
         ],
         "line": {
          "color": "#4682B4",
          "width": 1
         },
         "locationmode": "USA-states",
         "lon": [
          -122.5975,
          -122.37483999999999
         ],
         "mode": "lines",
         "opacity": 0,
         "text": "From: Portland International Airport<br>To: San Francisco International Airport<br>Avg. Delay: -3.53 mins",
         "type": "scattergeo"
        },
        {
         "lat": [
          33.82922,
          40.63975
         ],
         "line": {
          "color": "#4682B4",
          "width": 1
         },
         "locationmode": "USA-states",
         "lon": [
          -116.50625,
          -73.77893
         ],
         "mode": "lines",
         "opacity": 0.06021505376344086,
         "text": "From: Palm Springs International Airport<br>To: John F. Kennedy International Airport (New York International Airport)<br>Avg. Delay: 1.8 mins",
         "type": "scattergeo"
        },
        {
         "lat": [
          33.82922,
          37.619
         ],
         "line": {
          "color": "#4682B4",
          "width": 1
         },
         "locationmode": "USA-states",
         "lon": [
          -116.50625,
          -122.37483999999999
         ],
         "mode": "lines",
         "opacity": 0.5057728119180633,
         "text": "From: Palm Springs International Airport<br>To: San Francisco International Airport<br>Avg. Delay: 15.17 mins",
         "type": "scattergeo"
        },
        {
         "lat": [
          32.73356,
          37.619
         ],
         "line": {
          "color": "#4682B4",
          "width": 1
         },
         "locationmode": "USA-states",
         "lon": [
          -117.18966,
          -122.37483999999999
         ],
         "mode": "lines",
         "opacity": 0.30571649285438396,
         "text": "From: San Diego International Airport (Lindbergh Field)<br>To: San Francisco International Airport<br>Avg. Delay: 9.17 mins",
         "type": "scattergeo"
        },
        {
         "lat": [
          47.44898,
          33.94254
         ],
         "line": {
          "color": "#4682B4",
          "width": 1
         },
         "locationmode": "USA-states",
         "lon": [
          -122.30931000000001,
          -118.40807
         ],
         "mode": "lines",
         "opacity": 0.16223191566703016,
         "text": "From: Seattle-Tacoma International Airport<br>To: Los Angeles International Airport<br>Avg. Delay: 4.86 mins",
         "type": "scattergeo"
        },
        {
         "lat": [
          47.44898,
          37.619
         ],
         "line": {
          "color": "#4682B4",
          "width": 1
         },
         "locationmode": "USA-states",
         "lon": [
          -122.30931000000001,
          -122.37483999999999
         ],
         "mode": "lines",
         "opacity": 0.29237382140876317,
         "text": "From: Seattle-Tacoma International Airport<br>To: San Francisco International Airport<br>Avg. Delay: 8.77 mins",
         "type": "scattergeo"
        },
        {
         "lat": [
          37.619,
          30.19453
         ],
         "line": {
          "color": "#4682B4",
          "width": 1
         },
         "locationmode": "USA-states",
         "lon": [
          -122.37483999999999,
          -97.66986999999999
         ],
         "mode": "lines",
         "opacity": 0.26359719978459883,
         "text": "From: San Francisco International Airport<br>To: Austin-Bergstrom International Airport<br>Avg. Delay: 7.9 mins",
         "type": "scattergeo"
        },
        {
         "lat": [
          37.619,
          42.36435
         ],
         "line": {
          "color": "#4682B4",
          "width": 1
         },
         "locationmode": "USA-states",
         "lon": [
          -122.37483999999999,
          -71.00518000000001
         ],
         "mode": "lines",
         "opacity": 0,
         "text": "From: San Francisco International Airport<br>To: Gen. Edward Lawrence Logan International Airport<br>Avg. Delay: -2.54 mins",
         "type": "scattergeo"
        },
        {
         "lat": [
          37.619,
          32.84711
         ],
         "line": {
          "color": "#4682B4",
          "width": 1
         },
         "locationmode": "USA-states",
         "lon": [
          -122.37483999999999,
          -96.85177
         ],
         "mode": "lines",
         "opacity": 0.3202235772357724,
         "text": "From: San Francisco International Airport<br>To: Dallas Love Field<br>Avg. Delay: 9.6 mins",
         "type": "scattergeo"
        },
        {
         "lat": [
          37.619,
          38.85208
         ],
         "line": {
          "color": "#4682B4",
          "width": 1
         },
         "locationmode": "USA-states",
         "lon": [
          -122.37483999999999,
          -77.03772
         ],
         "mode": "lines",
         "opacity": 0,
         "text": "From: San Francisco International Airport<br>To: Ronald Reagan Washington National Airport<br>Avg. Delay: -3.93 mins",
         "type": "scattergeo"
        },
        {
         "lat": [
          37.619,
          40.6925
         ],
         "line": {
          "color": "#4682B4",
          "width": 1
         },
         "locationmode": "USA-states",
         "lon": [
          -122.37483999999999,
          -74.16866
         ],
         "mode": "lines",
         "opacity": 0.06365663322185061,
         "text": "From: San Francisco International Airport<br>To: Newark Liberty International Airport<br>Avg. Delay: 1.9 mins",
         "type": "scattergeo"
        },
        {
         "lat": [
          37.619,
          26.07258
         ],
         "line": {
          "color": "#4682B4",
          "width": 1
         },
         "locationmode": "USA-states",
         "lon": [
          -122.37483999999999,
          -80.15275
         ],
         "mode": "lines",
         "opacity": 0,
         "text": "From: San Francisco International Airport<br>To: Fort Lauderdale-Hollywood International Airport<br>Avg. Delay: -1.45 mins",
         "type": "scattergeo"
        },
        {
         "lat": [
          37.619,
          21.31869
         ],
         "line": {
          "color": "#4682B4",
          "width": 1
         },
         "locationmode": "USA-states",
         "lon": [
          -122.37483999999999,
          -157.92241
         ],
         "mode": "lines",
         "opacity": 0,
         "text": "From: San Francisco International Airport<br>To: Honolulu International Airport<br>Avg. Delay: -3.55 mins",
         "type": "scattergeo"
        }
       ],
       "layout": {
        "geo": {
         "lakecolor": "rgb(95,145,237)",
         "landcolor": "rgb(250,250,250)",
         "projection": {
          "type": "azimuthal equal area"
         },
         "scope": "north america",
         "showlakes": true,
         "showland": true
        },
        "showlegend": false,
        "template": {
         "data": {
          "bar": [
           {
            "error_x": {
             "color": "#2a3f5f"
            },
            "error_y": {
             "color": "#2a3f5f"
            },
            "marker": {
             "line": {
              "color": "#E5ECF6",
              "width": 0.5
             }
            },
            "type": "bar"
           }
          ],
          "barpolar": [
           {
            "marker": {
             "line": {
              "color": "#E5ECF6",
              "width": 0.5
             }
            },
            "type": "barpolar"
           }
          ],
          "carpet": [
           {
            "aaxis": {
             "endlinecolor": "#2a3f5f",
             "gridcolor": "white",
             "linecolor": "white",
             "minorgridcolor": "white",
             "startlinecolor": "#2a3f5f"
            },
            "baxis": {
             "endlinecolor": "#2a3f5f",
             "gridcolor": "white",
             "linecolor": "white",
             "minorgridcolor": "white",
             "startlinecolor": "#2a3f5f"
            },
            "type": "carpet"
           }
          ],
          "choropleth": [
           {
            "colorbar": {
             "outlinewidth": 0,
             "ticks": ""
            },
            "type": "choropleth"
           }
          ],
          "contour": [
           {
            "colorbar": {
             "outlinewidth": 0,
             "ticks": ""
            },
            "colorscale": [
             [
              0,
              "#0d0887"
             ],
             [
              0.1111111111111111,
              "#46039f"
             ],
             [
              0.2222222222222222,
              "#7201a8"
             ],
             [
              0.3333333333333333,
              "#9c179e"
             ],
             [
              0.4444444444444444,
              "#bd3786"
             ],
             [
              0.5555555555555556,
              "#d8576b"
             ],
             [
              0.6666666666666666,
              "#ed7953"
             ],
             [
              0.7777777777777778,
              "#fb9f3a"
             ],
             [
              0.8888888888888888,
              "#fdca26"
             ],
             [
              1,
              "#f0f921"
             ]
            ],
            "type": "contour"
           }
          ],
          "contourcarpet": [
           {
            "colorbar": {
             "outlinewidth": 0,
             "ticks": ""
            },
            "type": "contourcarpet"
           }
          ],
          "heatmap": [
           {
            "colorbar": {
             "outlinewidth": 0,
             "ticks": ""
            },
            "colorscale": [
             [
              0,
              "#0d0887"
             ],
             [
              0.1111111111111111,
              "#46039f"
             ],
             [
              0.2222222222222222,
              "#7201a8"
             ],
             [
              0.3333333333333333,
              "#9c179e"
             ],
             [
              0.4444444444444444,
              "#bd3786"
             ],
             [
              0.5555555555555556,
              "#d8576b"
             ],
             [
              0.6666666666666666,
              "#ed7953"
             ],
             [
              0.7777777777777778,
              "#fb9f3a"
             ],
             [
              0.8888888888888888,
              "#fdca26"
             ],
             [
              1,
              "#f0f921"
             ]
            ],
            "type": "heatmap"
           }
          ],
          "heatmapgl": [
           {
            "colorbar": {
             "outlinewidth": 0,
             "ticks": ""
            },
            "colorscale": [
             [
              0,
              "#0d0887"
             ],
             [
              0.1111111111111111,
              "#46039f"
             ],
             [
              0.2222222222222222,
              "#7201a8"
             ],
             [
              0.3333333333333333,
              "#9c179e"
             ],
             [
              0.4444444444444444,
              "#bd3786"
             ],
             [
              0.5555555555555556,
              "#d8576b"
             ],
             [
              0.6666666666666666,
              "#ed7953"
             ],
             [
              0.7777777777777778,
              "#fb9f3a"
             ],
             [
              0.8888888888888888,
              "#fdca26"
             ],
             [
              1,
              "#f0f921"
             ]
            ],
            "type": "heatmapgl"
           }
          ],
          "histogram": [
           {
            "marker": {
             "colorbar": {
              "outlinewidth": 0,
              "ticks": ""
             }
            },
            "type": "histogram"
           }
          ],
          "histogram2d": [
           {
            "colorbar": {
             "outlinewidth": 0,
             "ticks": ""
            },
            "colorscale": [
             [
              0,
              "#0d0887"
             ],
             [
              0.1111111111111111,
              "#46039f"
             ],
             [
              0.2222222222222222,
              "#7201a8"
             ],
             [
              0.3333333333333333,
              "#9c179e"
             ],
             [
              0.4444444444444444,
              "#bd3786"
             ],
             [
              0.5555555555555556,
              "#d8576b"
             ],
             [
              0.6666666666666666,
              "#ed7953"
             ],
             [
              0.7777777777777778,
              "#fb9f3a"
             ],
             [
              0.8888888888888888,
              "#fdca26"
             ],
             [
              1,
              "#f0f921"
             ]
            ],
            "type": "histogram2d"
           }
          ],
          "histogram2dcontour": [
           {
            "colorbar": {
             "outlinewidth": 0,
             "ticks": ""
            },
            "colorscale": [
             [
              0,
              "#0d0887"
             ],
             [
              0.1111111111111111,
              "#46039f"
             ],
             [
              0.2222222222222222,
              "#7201a8"
             ],
             [
              0.3333333333333333,
              "#9c179e"
             ],
             [
              0.4444444444444444,
              "#bd3786"
             ],
             [
              0.5555555555555556,
              "#d8576b"
             ],
             [
              0.6666666666666666,
              "#ed7953"
             ],
             [
              0.7777777777777778,
              "#fb9f3a"
             ],
             [
              0.8888888888888888,
              "#fdca26"
             ],
             [
              1,
              "#f0f921"
             ]
            ],
            "type": "histogram2dcontour"
           }
          ],
          "mesh3d": [
           {
            "colorbar": {
             "outlinewidth": 0,
             "ticks": ""
            },
            "type": "mesh3d"
           }
          ],
          "parcoords": [
           {
            "line": {
             "colorbar": {
              "outlinewidth": 0,
              "ticks": ""
             }
            },
            "type": "parcoords"
           }
          ],
          "pie": [
           {
            "automargin": true,
            "type": "pie"
           }
          ],
          "scatter": [
           {
            "marker": {
             "colorbar": {
              "outlinewidth": 0,
              "ticks": ""
             }
            },
            "type": "scatter"
           }
          ],
          "scatter3d": [
           {
            "line": {
             "colorbar": {
              "outlinewidth": 0,
              "ticks": ""
             }
            },
            "marker": {
             "colorbar": {
              "outlinewidth": 0,
              "ticks": ""
             }
            },
            "type": "scatter3d"
           }
          ],
          "scattercarpet": [
           {
            "marker": {
             "colorbar": {
              "outlinewidth": 0,
              "ticks": ""
             }
            },
            "type": "scattercarpet"
           }
          ],
          "scattergeo": [
           {
            "marker": {
             "colorbar": {
              "outlinewidth": 0,
              "ticks": ""
             }
            },
            "type": "scattergeo"
           }
          ],
          "scattergl": [
           {
            "marker": {
             "colorbar": {
              "outlinewidth": 0,
              "ticks": ""
             }
            },
            "type": "scattergl"
           }
          ],
          "scattermapbox": [
           {
            "marker": {
             "colorbar": {
              "outlinewidth": 0,
              "ticks": ""
             }
            },
            "type": "scattermapbox"
           }
          ],
          "scatterpolar": [
           {
            "marker": {
             "colorbar": {
              "outlinewidth": 0,
              "ticks": ""
             }
            },
            "type": "scatterpolar"
           }
          ],
          "scatterpolargl": [
           {
            "marker": {
             "colorbar": {
              "outlinewidth": 0,
              "ticks": ""
             }
            },
            "type": "scatterpolargl"
           }
          ],
          "scatterternary": [
           {
            "marker": {
             "colorbar": {
              "outlinewidth": 0,
              "ticks": ""
             }
            },
            "type": "scatterternary"
           }
          ],
          "surface": [
           {
            "colorbar": {
             "outlinewidth": 0,
             "ticks": ""
            },
            "colorscale": [
             [
              0,
              "#0d0887"
             ],
             [
              0.1111111111111111,
              "#46039f"
             ],
             [
              0.2222222222222222,
              "#7201a8"
             ],
             [
              0.3333333333333333,
              "#9c179e"
             ],
             [
              0.4444444444444444,
              "#bd3786"
             ],
             [
              0.5555555555555556,
              "#d8576b"
             ],
             [
              0.6666666666666666,
              "#ed7953"
             ],
             [
              0.7777777777777778,
              "#fb9f3a"
             ],
             [
              0.8888888888888888,
              "#fdca26"
             ],
             [
              1,
              "#f0f921"
             ]
            ],
            "type": "surface"
           }
          ],
          "table": [
           {
            "cells": {
             "fill": {
              "color": "#EBF0F8"
             },
             "line": {
              "color": "white"
             }
            },
            "header": {
             "fill": {
              "color": "#C8D4E3"
             },
             "line": {
              "color": "white"
             }
            },
            "type": "table"
           }
          ]
         },
         "layout": {
          "annotationdefaults": {
           "arrowcolor": "#2a3f5f",
           "arrowhead": 0,
           "arrowwidth": 1
          },
          "coloraxis": {
           "colorbar": {
            "outlinewidth": 0,
            "ticks": ""
           }
          },
          "colorscale": {
           "diverging": [
            [
             0,
             "#8e0152"
            ],
            [
             0.1,
             "#c51b7d"
            ],
            [
             0.2,
             "#de77ae"
            ],
            [
             0.3,
             "#f1b6da"
            ],
            [
             0.4,
             "#fde0ef"
            ],
            [
             0.5,
             "#f7f7f7"
            ],
            [
             0.6,
             "#e6f5d0"
            ],
            [
             0.7,
             "#b8e186"
            ],
            [
             0.8,
             "#7fbc41"
            ],
            [
             0.9,
             "#4d9221"
            ],
            [
             1,
             "#276419"
            ]
           ],
           "sequential": [
            [
             0,
             "#0d0887"
            ],
            [
             0.1111111111111111,
             "#46039f"
            ],
            [
             0.2222222222222222,
             "#7201a8"
            ],
            [
             0.3333333333333333,
             "#9c179e"
            ],
            [
             0.4444444444444444,
             "#bd3786"
            ],
            [
             0.5555555555555556,
             "#d8576b"
            ],
            [
             0.6666666666666666,
             "#ed7953"
            ],
            [
             0.7777777777777778,
             "#fb9f3a"
            ],
            [
             0.8888888888888888,
             "#fdca26"
            ],
            [
             1,
             "#f0f921"
            ]
           ],
           "sequentialminus": [
            [
             0,
             "#0d0887"
            ],
            [
             0.1111111111111111,
             "#46039f"
            ],
            [
             0.2222222222222222,
             "#7201a8"
            ],
            [
             0.3333333333333333,
             "#9c179e"
            ],
            [
             0.4444444444444444,
             "#bd3786"
            ],
            [
             0.5555555555555556,
             "#d8576b"
            ],
            [
             0.6666666666666666,
             "#ed7953"
            ],
            [
             0.7777777777777778,
             "#fb9f3a"
            ],
            [
             0.8888888888888888,
             "#fdca26"
            ],
            [
             1,
             "#f0f921"
            ]
           ]
          },
          "colorway": [
           "#636efa",
           "#EF553B",
           "#00cc96",
           "#ab63fa",
           "#FFA15A",
           "#19d3f3",
           "#FF6692",
           "#B6E880",
           "#FF97FF",
           "#FECB52"
          ],
          "font": {
           "color": "#2a3f5f"
          },
          "geo": {
           "bgcolor": "white",
           "lakecolor": "white",
           "landcolor": "#E5ECF6",
           "showlakes": true,
           "showland": true,
           "subunitcolor": "white"
          },
          "hoverlabel": {
           "align": "left"
          },
          "hovermode": "closest",
          "mapbox": {
           "style": "light"
          },
          "paper_bgcolor": "white",
          "plot_bgcolor": "#E5ECF6",
          "polar": {
           "angularaxis": {
            "gridcolor": "white",
            "linecolor": "white",
            "ticks": ""
           },
           "bgcolor": "#E5ECF6",
           "radialaxis": {
            "gridcolor": "white",
            "linecolor": "white",
            "ticks": ""
           }
          },
          "scene": {
           "xaxis": {
            "backgroundcolor": "#E5ECF6",
            "gridcolor": "white",
            "gridwidth": 2,
            "linecolor": "white",
            "showbackground": true,
            "ticks": "",
            "zerolinecolor": "white"
           },
           "yaxis": {
            "backgroundcolor": "#E5ECF6",
            "gridcolor": "white",
            "gridwidth": 2,
            "linecolor": "white",
            "showbackground": true,
            "ticks": "",
            "zerolinecolor": "white"
           },
           "zaxis": {
            "backgroundcolor": "#E5ECF6",
            "gridcolor": "white",
            "gridwidth": 2,
            "linecolor": "white",
            "showbackground": true,
            "ticks": "",
            "zerolinecolor": "white"
           }
          },
          "shapedefaults": {
           "line": {
            "color": "#2a3f5f"
           }
          },
          "ternary": {
           "aaxis": {
            "gridcolor": "white",
            "linecolor": "white",
            "ticks": ""
           },
           "baxis": {
            "gridcolor": "white",
            "linecolor": "white",
            "ticks": ""
           },
           "bgcolor": "#E5ECF6",
           "caxis": {
            "gridcolor": "white",
            "linecolor": "white",
            "ticks": ""
           }
          },
          "title": {
           "x": 0.05
          },
          "xaxis": {
           "automargin": true,
           "gridcolor": "white",
           "linecolor": "white",
           "ticks": "",
           "title": {
            "standoff": 15
           },
           "zerolinecolor": "white",
           "zerolinewidth": 2
          },
          "yaxis": {
           "automargin": true,
           "gridcolor": "white",
           "linecolor": "white",
           "ticks": "",
           "title": {
            "standoff": 15
           },
           "zerolinecolor": "white",
           "zerolinewidth": 2
          }
         }
        },
        "title": {
         "text": "Average Delay Time of Airline \"VX\" Route in 2015<br> Hover for value"
        }
       }
      },
      "text/html": [
       "<div>\n",
       "        \n",
       "        \n",
       "            <div id=\"381eef77-331a-46fb-8fd7-ad26d9d6bb24\" class=\"plotly-graph-div\" style=\"height:525px; width:100%;\"></div>\n",
       "            <script type=\"text/javascript\">\n",
       "                require([\"plotly\"], function(Plotly) {\n",
       "                    window.PLOTLYENV=window.PLOTLYENV || {};\n",
       "                    \n",
       "                if (document.getElementById(\"381eef77-331a-46fb-8fd7-ad26d9d6bb24\")) {\n",
       "                    Plotly.newPlot(\n",
       "                        '381eef77-331a-46fb-8fd7-ad26d9d6bb24',\n",
       "                        [{\"lat\": [30.19453, 30.19453, 42.36435, 42.36435, 42.36435, 32.84711, 32.84711, 32.84711, 32.84711, 32.84711, 32.84711, 38.85208, 38.85208, 40.6925, 40.6925, 26.07258, 26.07258, 26.07258, 21.31869, 38.94453, 38.94453, 40.63975, 40.63975, 40.63975, 40.63975, 40.63975, 36.08036, 36.08036, 36.08036, 36.08036, 36.08036, 33.94254, 33.94254, 33.94254, 33.94254, 33.94254, 33.94254, 33.94254, 33.94254, 33.94254, 33.94254, 33.94254, 40.77724, 28.428890000000003, 20.89865, 41.9796, 41.9796, 45.58872, 33.82922, 33.82922, 32.73356, 47.44898, 47.44898, 37.619, 37.619, 37.619, 37.619, 37.619, 37.619, 37.619, 37.619, 37.619, 37.619, 37.619, 37.619, 37.619, 37.619, 37.619, 37.619, 37.619, 36.198370000000004], \"lon\": [-97.66986999999999, -97.66986999999999, -71.00518000000001, -71.00518000000001, -71.00518000000001, -96.85177, -96.85177, -96.85177, -96.85177, -96.85177, -96.85177, -77.03772, -77.03772, -74.16866, -74.16866, -80.15275, -80.15275, -80.15275, -157.92241, -77.45581, -77.45581, -73.77893, -73.77893, -73.77893, -73.77893, -73.77893, -115.15233, -115.15233, -115.15233, -115.15233, -115.15233, -118.40807, -118.40807, -118.40807, -118.40807, -118.40807, -118.40807, -118.40807, -118.40807, -118.40807, -118.40807, -118.40807, -73.87261, -81.31603, -156.43046, -87.90446, -87.90446, -122.5975, -116.50625, -116.50625, -117.18966, -122.30931000000001, -122.30931000000001, -122.37483999999999, -122.37483999999999, -122.37483999999999, -122.37483999999999, -122.37483999999999, -122.37483999999999, -122.37483999999999, -122.37483999999999, -122.37483999999999, -122.37483999999999, -122.37483999999999, -122.37483999999999, -122.37483999999999, -122.37483999999999, -122.37483999999999, -122.37483999999999, -122.37483999999999, -95.88824], \"marker\": {\"color\": \"#FFD700\", \"line\": {\"color\": \"rgba(102,102,102)\", \"width\": 1}, \"opacity\": 0.8, \"size\": 6}, \"mode\": \"markers\", \"type\": \"scattergeo\"}, {\"lat\": [30.19453, 32.84711], \"line\": {\"color\": \"#4682B4\", \"width\": 1}, \"locationmode\": \"USA-states\", \"lon\": [-97.66986999999999, -96.85177], \"mode\": \"lines\", \"opacity\": 0.11, \"text\": \"From: Austin-Bergstrom International Airport<br>To: Dallas Love Field<br>Avg. Delay: 3.3 mins\", \"type\": \"scattergeo\"}, {\"lat\": [30.19453, 37.619], \"line\": {\"color\": \"#4682B4\", \"width\": 1}, \"locationmode\": \"USA-states\", \"lon\": [-97.66986999999999, -122.37483999999999], \"mode\": \"lines\", \"opacity\": 0.19231182795698926, \"text\": \"From: Austin-Bergstrom International Airport<br>To: San Francisco International Airport<br>Avg. Delay: 5.76 mins\", \"type\": \"scattergeo\"}, {\"lat\": [42.36435, 36.08036], \"line\": {\"color\": \"#4682B4\", \"width\": 1}, \"locationmode\": \"USA-states\", \"lon\": [-71.00518000000001, -115.15233], \"mode\": \"lines\", \"opacity\": 0, \"text\": \"From: Gen. Edward Lawrence Logan International Airport<br>To: McCarran International Airport<br>Avg. Delay: -4.63 mins\", \"type\": \"scattergeo\"}, {\"lat\": [42.36435, 33.94254], \"line\": {\"color\": \"#4682B4\", \"width\": 1}, \"locationmode\": \"USA-states\", \"lon\": [-71.00518000000001, -118.40807], \"mode\": \"lines\", \"opacity\": 0.0020982355746304244, \"text\": \"From: Gen. Edward Lawrence Logan International Airport<br>To: Los Angeles International Airport<br>Avg. Delay: 0.06 mins\", \"type\": \"scattergeo\"}, {\"lat\": [42.36435, 37.619], \"line\": {\"color\": \"#4682B4\", \"width\": 1}, \"locationmode\": \"USA-states\", \"lon\": [-71.00518000000001, -122.37483999999999], \"mode\": \"lines\", \"opacity\": 0, \"text\": \"From: Gen. Edward Lawrence Logan International Airport<br>To: San Francisco International Airport<br>Avg. Delay: -0.94 mins\", \"type\": \"scattergeo\"}, {\"lat\": [32.84711, 30.19453], \"line\": {\"color\": \"#4682B4\", \"width\": 1}, \"locationmode\": \"USA-states\", \"lon\": [-96.85177, -97.66986999999999], \"mode\": \"lines\", \"opacity\": 0.17878787878787877, \"text\": \"From: Dallas Love Field<br>To: Austin-Bergstrom International Airport<br>Avg. Delay: 5.36 mins\", \"type\": \"scattergeo\"}, {\"lat\": [32.84711, 38.85208], \"line\": {\"color\": \"#4682B4\", \"width\": 1}, \"locationmode\": \"USA-states\", \"lon\": [-96.85177, -77.03772], \"mode\": \"lines\", \"opacity\": 0.307361268403171, \"text\": \"From: Dallas Love Field<br>To: Ronald Reagan Washington National Airport<br>Avg. Delay: 9.22 mins\", \"type\": \"scattergeo\"}, {\"lat\": [32.84711, 36.08036], \"line\": {\"color\": \"#4682B4\", \"width\": 1}, \"locationmode\": \"USA-states\", \"lon\": [-96.85177, -115.15233], \"mode\": \"lines\", \"opacity\": 0.7812121212121212, \"text\": \"From: Dallas Love Field<br>To: McCarran International Airport<br>Avg. Delay: 23.43 mins\", \"type\": \"scattergeo\"}, {\"lat\": [32.84711, 33.94254], \"line\": {\"color\": \"#4682B4\", \"width\": 1}, \"locationmode\": \"USA-states\", \"lon\": [-96.85177, -118.40807], \"mode\": \"lines\", \"opacity\": 0.43599290780141847, \"text\": \"From: Dallas Love Field<br>To: Los Angeles International Airport<br>Avg. Delay: 13.07 mins\", \"type\": \"scattergeo\"}, {\"lat\": [32.84711, 40.77724], \"line\": {\"color\": \"#4682B4\", \"width\": 1}, \"locationmode\": \"USA-states\", \"lon\": [-96.85177, -73.87261], \"mode\": \"lines\", \"opacity\": 0.5848119437266724, \"text\": \"From: Dallas Love Field<br>To: LaGuardia Airport (Marine Air Terminal)<br>Avg. Delay: 17.54 mins\", \"type\": \"scattergeo\"}, {\"lat\": [32.84711, 37.619], \"line\": {\"color\": \"#4682B4\", \"width\": 1}, \"locationmode\": \"USA-states\", \"lon\": [-96.85177, -122.37483999999999], \"mode\": \"lines\", \"opacity\": 0.4364066193853428, \"text\": \"From: Dallas Love Field<br>To: San Francisco International Airport<br>Avg. Delay: 13.09 mins\", \"type\": \"scattergeo\"}, {\"lat\": [38.85208, 32.84711], \"line\": {\"color\": \"#4682B4\", \"width\": 1}, \"locationmode\": \"USA-states\", \"lon\": [-77.03772, -96.85177], \"mode\": \"lines\", \"opacity\": 0, \"text\": \"From: Ronald Reagan Washington National Airport<br>To: Dallas Love Field<br>Avg. Delay: -0.18 mins\", \"type\": \"scattergeo\"}, {\"lat\": [38.85208, 37.619], \"line\": {\"color\": \"#4682B4\", \"width\": 1}, \"locationmode\": \"USA-states\", \"lon\": [-77.03772, -122.37483999999999], \"mode\": \"lines\", \"opacity\": 0, \"text\": \"From: Ronald Reagan Washington National Airport<br>To: San Francisco International Airport<br>Avg. Delay: -0.84 mins\", \"type\": \"scattergeo\"}, {\"lat\": [40.6925, 33.94254], \"line\": {\"color\": \"#4682B4\", \"width\": 1}, \"locationmode\": \"USA-states\", \"lon\": [-74.16866, -118.40807], \"mode\": \"lines\", \"opacity\": 0, \"text\": \"From: Newark Liberty International Airport<br>To: Los Angeles International Airport<br>Avg. Delay: -4.57 mins\", \"type\": \"scattergeo\"}, {\"lat\": [40.6925, 37.619], \"line\": {\"color\": \"#4682B4\", \"width\": 1}, \"locationmode\": \"USA-states\", \"lon\": [-74.16866, -122.37483999999999], \"mode\": \"lines\", \"opacity\": 0, \"text\": \"From: Newark Liberty International Airport<br>To: San Francisco International Airport<br>Avg. Delay: -4.16 mins\", \"type\": \"scattergeo\"}, {\"lat\": [26.07258, 40.63975], \"line\": {\"color\": \"#4682B4\", \"width\": 1}, \"locationmode\": \"USA-states\", \"lon\": [-80.15275, -73.77893], \"mode\": \"lines\", \"opacity\": 0.05647058823529412, \"text\": \"From: Fort Lauderdale-Hollywood International Airport<br>To: John F. Kennedy International Airport\\u00a0(New York International Airport)<br>Avg. Delay: 1.69 mins\", \"type\": \"scattergeo\"}, {\"lat\": [26.07258, 33.94254], \"line\": {\"color\": \"#4682B4\", \"width\": 1}, \"locationmode\": \"USA-states\", \"lon\": [-80.15275, -118.40807], \"mode\": \"lines\", \"opacity\": 0, \"text\": \"From: Fort Lauderdale-Hollywood International Airport<br>To: Los Angeles International Airport<br>Avg. Delay: -0.13 mins\", \"type\": \"scattergeo\"}, {\"lat\": [26.07258, 37.619], \"line\": {\"color\": \"#4682B4\", \"width\": 1}, \"locationmode\": \"USA-states\", \"lon\": [-80.15275, -122.37483999999999], \"mode\": \"lines\", \"opacity\": 0, \"text\": \"From: Fort Lauderdale-Hollywood International Airport<br>To: San Francisco International Airport<br>Avg. Delay: -7.56 mins\", \"type\": \"scattergeo\"}, {\"lat\": [21.31869, 37.619], \"line\": {\"color\": \"#4682B4\", \"width\": 1}, \"locationmode\": \"USA-states\", \"lon\": [-157.92241, -122.37483999999999], \"mode\": \"lines\", \"opacity\": 0.17457627118644067, \"text\": \"From: Honolulu International Airport<br>To: San Francisco International Airport<br>Avg. Delay: 5.23 mins\", \"type\": \"scattergeo\"}, {\"lat\": [38.94453, 33.94254], \"line\": {\"color\": \"#4682B4\", \"width\": 1}, \"locationmode\": \"USA-states\", \"lon\": [-77.45581, -118.40807], \"mode\": \"lines\", \"opacity\": 0, \"text\": \"From: Washington Dulles International Airport<br>To: Los Angeles International Airport<br>Avg. Delay: -4.43 mins\", \"type\": \"scattergeo\"}, {\"lat\": [38.94453, 37.619], \"line\": {\"color\": \"#4682B4\", \"width\": 1}, \"locationmode\": \"USA-states\", \"lon\": [-77.45581, -122.37483999999999], \"mode\": \"lines\", \"opacity\": 0, \"text\": \"From: Washington Dulles International Airport<br>To: San Francisco International Airport<br>Avg. Delay: -2.13 mins\", \"type\": \"scattergeo\"}, {\"lat\": [40.63975, 26.07258], \"line\": {\"color\": \"#4682B4\", \"width\": 1}, \"locationmode\": \"USA-states\", \"lon\": [-73.77893, -80.15275], \"mode\": \"lines\", \"opacity\": 0.15411764705882353, \"text\": \"From: John F. Kennedy International Airport\\u00a0(New York International Airport)<br>To: Fort Lauderdale-Hollywood International Airport<br>Avg. Delay: 4.62 mins\", \"type\": \"scattergeo\"}, {\"lat\": [40.63975, 36.08036], \"line\": {\"color\": \"#4682B4\", \"width\": 1}, \"locationmode\": \"USA-states\", \"lon\": [-73.77893, -115.15233], \"mode\": \"lines\", \"opacity\": 0, \"text\": \"From: John F. Kennedy International Airport\\u00a0(New York International Airport)<br>To: McCarran International Airport<br>Avg. Delay: -4.85 mins\", \"type\": \"scattergeo\"}, {\"lat\": [40.63975, 33.94254], \"line\": {\"color\": \"#4682B4\", \"width\": 1}, \"locationmode\": \"USA-states\", \"lon\": [-73.77893, -118.40807], \"mode\": \"lines\", \"opacity\": 0.00043050430504305045, \"text\": \"From: John F. Kennedy International Airport\\u00a0(New York International Airport)<br>To: Los Angeles International Airport<br>Avg. Delay: 0.01 mins\", \"type\": \"scattergeo\"}, {\"lat\": [40.63975, 33.82922], \"line\": {\"color\": \"#4682B4\", \"width\": 1}, \"locationmode\": \"USA-states\", \"lon\": [-73.77893, -116.50625], \"mode\": \"lines\", \"opacity\": 0.015625, \"text\": \"From: John F. Kennedy International Airport\\u00a0(New York International Airport)<br>To: Palm Springs International Airport<br>Avg. Delay: 0.46 mins\", \"type\": \"scattergeo\"}, {\"lat\": [40.63975, 37.619], \"line\": {\"color\": \"#4682B4\", \"width\": 1}, \"locationmode\": \"USA-states\", \"lon\": [-73.77893, -122.37483999999999], \"mode\": \"lines\", \"opacity\": 0, \"text\": \"From: John F. Kennedy International Airport\\u00a0(New York International Airport)<br>To: San Francisco International Airport<br>Avg. Delay: -2.01 mins\", \"type\": \"scattergeo\"}, {\"lat\": [36.08036, 42.36435], \"line\": {\"color\": \"#4682B4\", \"width\": 1}, \"locationmode\": \"USA-states\", \"lon\": [-115.15233, -71.00518000000001], \"mode\": \"lines\", \"opacity\": 0.31807909604519774, \"text\": \"From: McCarran International Airport<br>To: Gen. Edward Lawrence Logan International Airport<br>Avg. Delay: 9.54 mins\", \"type\": \"scattergeo\"}, {\"lat\": [36.08036, 32.84711], \"line\": {\"color\": \"#4682B4\", \"width\": 1}, \"locationmode\": \"USA-states\", \"lon\": [-115.15233, -96.85177], \"mode\": \"lines\", \"opacity\": 0, \"text\": \"From: McCarran International Airport<br>To: Dallas Love Field<br>Avg. Delay: -7.22 mins\", \"type\": \"scattergeo\"}, {\"lat\": [36.08036, 40.63975], \"line\": {\"color\": \"#4682B4\", \"width\": 1}, \"locationmode\": \"USA-states\", \"lon\": [-115.15233, -73.77893], \"mode\": \"lines\", \"opacity\": 0.005763688760806917, \"text\": \"From: McCarran International Airport<br>To: John F. Kennedy International Airport\\u00a0(New York International Airport)<br>Avg. Delay: 0.17 mins\", \"type\": \"scattergeo\"}, {\"lat\": [36.08036, 33.94254], \"line\": {\"color\": \"#4682B4\", \"width\": 1}, \"locationmode\": \"USA-states\", \"lon\": [-115.15233, -118.40807], \"mode\": \"lines\", \"opacity\": 0.28095238095238095, \"text\": \"From: McCarran International Airport<br>To: Los Angeles International Airport<br>Avg. Delay: 8.42 mins\", \"type\": \"scattergeo\"}, {\"lat\": [36.08036, 37.619], \"line\": {\"color\": \"#4682B4\", \"width\": 1}, \"locationmode\": \"USA-states\", \"lon\": [-115.15233, -122.37483999999999], \"mode\": \"lines\", \"opacity\": 0.38447086452370466, \"text\": \"From: McCarran International Airport<br>To: San Francisco International Airport<br>Avg. Delay: 11.53 mins\", \"type\": \"scattergeo\"}, {\"lat\": [33.94254, 42.36435], \"line\": {\"color\": \"#4682B4\", \"width\": 1}, \"locationmode\": \"USA-states\", \"lon\": [-118.40807, -71.00518000000001], \"mode\": \"lines\", \"opacity\": 0, \"text\": \"From: Los Angeles International Airport<br>To: Gen. Edward Lawrence Logan International Airport<br>Avg. Delay: -2.06 mins\", \"type\": \"scattergeo\"}, {\"lat\": [33.94254, 32.84711], \"line\": {\"color\": \"#4682B4\", \"width\": 1}, \"locationmode\": \"USA-states\", \"lon\": [-118.40807, -96.85177], \"mode\": \"lines\", \"opacity\": 0.07547281323877068, \"text\": \"From: Los Angeles International Airport<br>To: Dallas Love Field<br>Avg. Delay: 2.26 mins\", \"type\": \"scattergeo\"}, {\"lat\": [33.94254, 40.6925], \"line\": {\"color\": \"#4682B4\", \"width\": 1}, \"locationmode\": \"USA-states\", \"lon\": [-118.40807, -74.16866], \"mode\": \"lines\", \"opacity\": 0.05241758241758242, \"text\": \"From: Los Angeles International Airport<br>To: Newark Liberty International Airport<br>Avg. Delay: 1.57 mins\", \"type\": \"scattergeo\"}, {\"lat\": [33.94254, 26.07258], \"line\": {\"color\": \"#4682B4\", \"width\": 1}, \"locationmode\": \"USA-states\", \"lon\": [-118.40807, -80.15275], \"mode\": \"lines\", \"opacity\": 0.16135770234986946, \"text\": \"From: Los Angeles International Airport<br>To: Fort Lauderdale-Hollywood International Airport<br>Avg. Delay: 4.84 mins\", \"type\": \"scattergeo\"}, {\"lat\": [33.94254, 38.94453], \"line\": {\"color\": \"#4682B4\", \"width\": 1}, \"locationmode\": \"USA-states\", \"lon\": [-118.40807, -77.45581], \"mode\": \"lines\", \"opacity\": 0, \"text\": \"From: Los Angeles International Airport<br>To: Washington Dulles International Airport<br>Avg. Delay: -5.32 mins\", \"type\": \"scattergeo\"}, {\"lat\": [33.94254, 40.63975], \"line\": {\"color\": \"#4682B4\", \"width\": 1}, \"locationmode\": \"USA-states\", \"lon\": [-118.40807, -73.77893], \"mode\": \"lines\", \"opacity\": 0.21511247443762782, \"text\": \"From: Los Angeles International Airport<br>To: John F. Kennedy International Airport\\u00a0(New York International Airport)<br>Avg. Delay: 6.45 mins\", \"type\": \"scattergeo\"}, {\"lat\": [33.94254, 36.08036], \"line\": {\"color\": \"#4682B4\", \"width\": 1}, \"locationmode\": \"USA-states\", \"lon\": [-118.40807, -115.15233], \"mode\": \"lines\", \"opacity\": 0.2338230492980738, \"text\": \"From: Los Angeles International Airport<br>To: McCarran International Airport<br>Avg. Delay: 7.01 mins\", \"type\": \"scattergeo\"}, {\"lat\": [33.94254, 28.428890000000003], \"line\": {\"color\": \"#4682B4\", \"width\": 1}, \"locationmode\": \"USA-states\", \"lon\": [-118.40807, -81.31603], \"mode\": \"lines\", \"opacity\": 0.04859437751004016, \"text\": \"From: Los Angeles International Airport<br>To: Orlando International Airport<br>Avg. Delay: 1.45 mins\", \"type\": \"scattergeo\"}, {\"lat\": [33.94254, 41.9796], \"line\": {\"color\": \"#4682B4\", \"width\": 1}, \"locationmode\": \"USA-states\", \"lon\": [-118.40807, -87.90446], \"mode\": \"lines\", \"opacity\": 0.19812362030905076, \"text\": \"From: Los Angeles International Airport<br>To: Chicago O'Hare International Airport<br>Avg. Delay: 5.94 mins\", \"type\": \"scattergeo\"}, {\"lat\": [33.94254, 47.44898], \"line\": {\"color\": \"#4682B4\", \"width\": 1}, \"locationmode\": \"USA-states\", \"lon\": [-118.40807, -122.30931000000001], \"mode\": \"lines\", \"opacity\": 0.24000749906261717, \"text\": \"From: Los Angeles International Airport<br>To: Seattle-Tacoma International Airport<br>Avg. Delay: 7.2 mins\", \"type\": \"scattergeo\"}, {\"lat\": [33.94254, 37.619], \"line\": {\"color\": \"#4682B4\", \"width\": 1}, \"locationmode\": \"USA-states\", \"lon\": [-118.40807, -122.37483999999999], \"mode\": \"lines\", \"opacity\": 0.40867058311575283, \"text\": \"From: Los Angeles International Airport<br>To: San Francisco International Airport<br>Avg. Delay: 12.26 mins\", \"type\": \"scattergeo\"}, {\"lat\": [40.77724, 32.84711], \"line\": {\"color\": \"#4682B4\", \"width\": 1}, \"locationmode\": \"USA-states\", \"lon\": [-73.87261, -96.85177], \"mode\": \"lines\", \"opacity\": 0.08583333333333334, \"text\": \"From: LaGuardia Airport (Marine Air Terminal)<br>To: Dallas Love Field<br>Avg. Delay: 2.57 mins\", \"type\": \"scattergeo\"}, {\"lat\": [28.428890000000003, 33.94254], \"line\": {\"color\": \"#4682B4\", \"width\": 1}, \"locationmode\": \"USA-states\", \"lon\": [-81.31603, -118.40807], \"mode\": \"lines\", \"opacity\": 0.14664664664664664, \"text\": \"From: Orlando International Airport<br>To: Los Angeles International Airport<br>Avg. Delay: 4.39 mins\", \"type\": \"scattergeo\"}, {\"lat\": [20.89865, 37.619], \"line\": {\"color\": \"#4682B4\", \"width\": 1}, \"locationmode\": \"USA-states\", \"lon\": [-156.43046, -122.37483999999999], \"mode\": \"lines\", \"opacity\": 0, \"text\": \"From: Kahului Airport<br>To: San Francisco International Airport<br>Avg. Delay: -7.51 mins\", \"type\": \"scattergeo\"}, {\"lat\": [41.9796, 33.94254], \"line\": {\"color\": \"#4682B4\", \"width\": 1}, \"locationmode\": \"USA-states\", \"lon\": [-87.90446, -118.40807], \"mode\": \"lines\", \"opacity\": 0.0704070407040704, \"text\": \"From: Chicago O'Hare International Airport<br>To: Los Angeles International Airport<br>Avg. Delay: 2.11 mins\", \"type\": \"scattergeo\"}, {\"lat\": [41.9796, 37.619], \"line\": {\"color\": \"#4682B4\", \"width\": 1}, \"locationmode\": \"USA-states\", \"lon\": [-87.90446, -122.37483999999999], \"mode\": \"lines\", \"opacity\": 0.26562364189482834, \"text\": \"From: Chicago O'Hare International Airport<br>To: San Francisco International Airport<br>Avg. Delay: 7.96 mins\", \"type\": \"scattergeo\"}, {\"lat\": [45.58872, 37.619], \"line\": {\"color\": \"#4682B4\", \"width\": 1}, \"locationmode\": \"USA-states\", \"lon\": [-122.5975, -122.37483999999999], \"mode\": \"lines\", \"opacity\": 0, \"text\": \"From: Portland International Airport<br>To: San Francisco International Airport<br>Avg. Delay: -3.53 mins\", \"type\": \"scattergeo\"}, {\"lat\": [33.82922, 40.63975], \"line\": {\"color\": \"#4682B4\", \"width\": 1}, \"locationmode\": \"USA-states\", \"lon\": [-116.50625, -73.77893], \"mode\": \"lines\", \"opacity\": 0.06021505376344086, \"text\": \"From: Palm Springs International Airport<br>To: John F. Kennedy International Airport\\u00a0(New York International Airport)<br>Avg. Delay: 1.8 mins\", \"type\": \"scattergeo\"}, {\"lat\": [33.82922, 37.619], \"line\": {\"color\": \"#4682B4\", \"width\": 1}, \"locationmode\": \"USA-states\", \"lon\": [-116.50625, -122.37483999999999], \"mode\": \"lines\", \"opacity\": 0.5057728119180633, \"text\": \"From: Palm Springs International Airport<br>To: San Francisco International Airport<br>Avg. Delay: 15.17 mins\", \"type\": \"scattergeo\"}, {\"lat\": [32.73356, 37.619], \"line\": {\"color\": \"#4682B4\", \"width\": 1}, \"locationmode\": \"USA-states\", \"lon\": [-117.18966, -122.37483999999999], \"mode\": \"lines\", \"opacity\": 0.30571649285438396, \"text\": \"From: San Diego International Airport\\u00a0(Lindbergh Field)<br>To: San Francisco International Airport<br>Avg. Delay: 9.17 mins\", \"type\": \"scattergeo\"}, {\"lat\": [47.44898, 33.94254], \"line\": {\"color\": \"#4682B4\", \"width\": 1}, \"locationmode\": \"USA-states\", \"lon\": [-122.30931000000001, -118.40807], \"mode\": \"lines\", \"opacity\": 0.16223191566703016, \"text\": \"From: Seattle-Tacoma International Airport<br>To: Los Angeles International Airport<br>Avg. Delay: 4.86 mins\", \"type\": \"scattergeo\"}, {\"lat\": [47.44898, 37.619], \"line\": {\"color\": \"#4682B4\", \"width\": 1}, \"locationmode\": \"USA-states\", \"lon\": [-122.30931000000001, -122.37483999999999], \"mode\": \"lines\", \"opacity\": 0.29237382140876317, \"text\": \"From: Seattle-Tacoma International Airport<br>To: San Francisco International Airport<br>Avg. Delay: 8.77 mins\", \"type\": \"scattergeo\"}, {\"lat\": [37.619, 30.19453], \"line\": {\"color\": \"#4682B4\", \"width\": 1}, \"locationmode\": \"USA-states\", \"lon\": [-122.37483999999999, -97.66986999999999], \"mode\": \"lines\", \"opacity\": 0.26359719978459883, \"text\": \"From: San Francisco International Airport<br>To: Austin-Bergstrom International Airport<br>Avg. Delay: 7.9 mins\", \"type\": \"scattergeo\"}, {\"lat\": [37.619, 42.36435], \"line\": {\"color\": \"#4682B4\", \"width\": 1}, \"locationmode\": \"USA-states\", \"lon\": [-122.37483999999999, -71.00518000000001], \"mode\": \"lines\", \"opacity\": 0, \"text\": \"From: San Francisco International Airport<br>To: Gen. Edward Lawrence Logan International Airport<br>Avg. Delay: -2.54 mins\", \"type\": \"scattergeo\"}, {\"lat\": [37.619, 32.84711], \"line\": {\"color\": \"#4682B4\", \"width\": 1}, \"locationmode\": \"USA-states\", \"lon\": [-122.37483999999999, -96.85177], \"mode\": \"lines\", \"opacity\": 0.3202235772357724, \"text\": \"From: San Francisco International Airport<br>To: Dallas Love Field<br>Avg. Delay: 9.6 mins\", \"type\": \"scattergeo\"}, {\"lat\": [37.619, 38.85208], \"line\": {\"color\": \"#4682B4\", \"width\": 1}, \"locationmode\": \"USA-states\", \"lon\": [-122.37483999999999, -77.03772], \"mode\": \"lines\", \"opacity\": 0, \"text\": \"From: San Francisco International Airport<br>To: Ronald Reagan Washington National Airport<br>Avg. Delay: -3.93 mins\", \"type\": \"scattergeo\"}, {\"lat\": [37.619, 40.6925], \"line\": {\"color\": \"#4682B4\", \"width\": 1}, \"locationmode\": \"USA-states\", \"lon\": [-122.37483999999999, -74.16866], \"mode\": \"lines\", \"opacity\": 0.06365663322185061, \"text\": \"From: San Francisco International Airport<br>To: Newark Liberty International Airport<br>Avg. Delay: 1.9 mins\", \"type\": \"scattergeo\"}, {\"lat\": [37.619, 26.07258], \"line\": {\"color\": \"#4682B4\", \"width\": 1}, \"locationmode\": \"USA-states\", \"lon\": [-122.37483999999999, -80.15275], \"mode\": \"lines\", \"opacity\": 0, \"text\": \"From: San Francisco International Airport<br>To: Fort Lauderdale-Hollywood International Airport<br>Avg. Delay: -1.45 mins\", \"type\": \"scattergeo\"}, {\"lat\": [37.619, 21.31869], \"line\": {\"color\": \"#4682B4\", \"width\": 1}, \"locationmode\": \"USA-states\", \"lon\": [-122.37483999999999, -157.92241], \"mode\": \"lines\", \"opacity\": 0, \"text\": \"From: San Francisco International Airport<br>To: Honolulu International Airport<br>Avg. Delay: -3.55 mins\", \"type\": \"scattergeo\"}],\n",
       "                        {\"geo\": {\"lakecolor\": \"rgb(95,145,237)\", \"landcolor\": \"rgb(250,250,250)\", \"projection\": {\"type\": \"azimuthal equal area\"}, \"scope\": \"north america\", \"showlakes\": true, \"showland\": true}, \"showlegend\": false, \"template\": {\"data\": {\"bar\": [{\"error_x\": {\"color\": \"#2a3f5f\"}, \"error_y\": {\"color\": \"#2a3f5f\"}, \"marker\": {\"line\": {\"color\": \"#E5ECF6\", \"width\": 0.5}}, \"type\": \"bar\"}], \"barpolar\": [{\"marker\": {\"line\": {\"color\": \"#E5ECF6\", \"width\": 0.5}}, \"type\": \"barpolar\"}], \"carpet\": [{\"aaxis\": {\"endlinecolor\": \"#2a3f5f\", \"gridcolor\": \"white\", \"linecolor\": \"white\", \"minorgridcolor\": \"white\", \"startlinecolor\": \"#2a3f5f\"}, \"baxis\": {\"endlinecolor\": \"#2a3f5f\", \"gridcolor\": \"white\", \"linecolor\": \"white\", \"minorgridcolor\": \"white\", \"startlinecolor\": \"#2a3f5f\"}, \"type\": \"carpet\"}], \"choropleth\": [{\"colorbar\": {\"outlinewidth\": 0, \"ticks\": \"\"}, \"type\": \"choropleth\"}], \"contour\": [{\"colorbar\": {\"outlinewidth\": 0, \"ticks\": \"\"}, \"colorscale\": [[0.0, \"#0d0887\"], [0.1111111111111111, \"#46039f\"], [0.2222222222222222, \"#7201a8\"], [0.3333333333333333, \"#9c179e\"], [0.4444444444444444, \"#bd3786\"], [0.5555555555555556, \"#d8576b\"], [0.6666666666666666, \"#ed7953\"], [0.7777777777777778, \"#fb9f3a\"], [0.8888888888888888, \"#fdca26\"], [1.0, \"#f0f921\"]], \"type\": \"contour\"}], \"contourcarpet\": [{\"colorbar\": {\"outlinewidth\": 0, \"ticks\": \"\"}, \"type\": \"contourcarpet\"}], \"heatmap\": [{\"colorbar\": {\"outlinewidth\": 0, \"ticks\": \"\"}, \"colorscale\": [[0.0, \"#0d0887\"], [0.1111111111111111, \"#46039f\"], [0.2222222222222222, \"#7201a8\"], [0.3333333333333333, \"#9c179e\"], [0.4444444444444444, \"#bd3786\"], [0.5555555555555556, \"#d8576b\"], [0.6666666666666666, \"#ed7953\"], [0.7777777777777778, \"#fb9f3a\"], [0.8888888888888888, \"#fdca26\"], [1.0, \"#f0f921\"]], \"type\": \"heatmap\"}], \"heatmapgl\": [{\"colorbar\": {\"outlinewidth\": 0, \"ticks\": \"\"}, \"colorscale\": [[0.0, \"#0d0887\"], [0.1111111111111111, \"#46039f\"], [0.2222222222222222, \"#7201a8\"], [0.3333333333333333, \"#9c179e\"], [0.4444444444444444, \"#bd3786\"], [0.5555555555555556, \"#d8576b\"], [0.6666666666666666, \"#ed7953\"], [0.7777777777777778, \"#fb9f3a\"], [0.8888888888888888, \"#fdca26\"], [1.0, \"#f0f921\"]], \"type\": \"heatmapgl\"}], \"histogram\": [{\"marker\": {\"colorbar\": {\"outlinewidth\": 0, \"ticks\": \"\"}}, \"type\": \"histogram\"}], \"histogram2d\": [{\"colorbar\": {\"outlinewidth\": 0, \"ticks\": \"\"}, \"colorscale\": [[0.0, \"#0d0887\"], [0.1111111111111111, \"#46039f\"], [0.2222222222222222, \"#7201a8\"], [0.3333333333333333, \"#9c179e\"], [0.4444444444444444, \"#bd3786\"], [0.5555555555555556, \"#d8576b\"], [0.6666666666666666, \"#ed7953\"], [0.7777777777777778, \"#fb9f3a\"], [0.8888888888888888, \"#fdca26\"], [1.0, \"#f0f921\"]], \"type\": \"histogram2d\"}], \"histogram2dcontour\": [{\"colorbar\": {\"outlinewidth\": 0, \"ticks\": \"\"}, \"colorscale\": [[0.0, \"#0d0887\"], [0.1111111111111111, \"#46039f\"], [0.2222222222222222, \"#7201a8\"], [0.3333333333333333, \"#9c179e\"], [0.4444444444444444, \"#bd3786\"], [0.5555555555555556, \"#d8576b\"], [0.6666666666666666, \"#ed7953\"], [0.7777777777777778, \"#fb9f3a\"], [0.8888888888888888, \"#fdca26\"], [1.0, \"#f0f921\"]], \"type\": \"histogram2dcontour\"}], \"mesh3d\": [{\"colorbar\": {\"outlinewidth\": 0, \"ticks\": \"\"}, \"type\": \"mesh3d\"}], \"parcoords\": [{\"line\": {\"colorbar\": {\"outlinewidth\": 0, \"ticks\": \"\"}}, \"type\": \"parcoords\"}], \"pie\": [{\"automargin\": true, \"type\": \"pie\"}], \"scatter\": [{\"marker\": {\"colorbar\": {\"outlinewidth\": 0, \"ticks\": \"\"}}, \"type\": \"scatter\"}], \"scatter3d\": [{\"line\": {\"colorbar\": {\"outlinewidth\": 0, \"ticks\": \"\"}}, \"marker\": {\"colorbar\": {\"outlinewidth\": 0, \"ticks\": \"\"}}, \"type\": \"scatter3d\"}], \"scattercarpet\": [{\"marker\": {\"colorbar\": {\"outlinewidth\": 0, \"ticks\": \"\"}}, \"type\": \"scattercarpet\"}], \"scattergeo\": [{\"marker\": {\"colorbar\": {\"outlinewidth\": 0, \"ticks\": \"\"}}, \"type\": \"scattergeo\"}], \"scattergl\": [{\"marker\": {\"colorbar\": {\"outlinewidth\": 0, \"ticks\": \"\"}}, \"type\": \"scattergl\"}], \"scattermapbox\": [{\"marker\": {\"colorbar\": {\"outlinewidth\": 0, \"ticks\": \"\"}}, \"type\": \"scattermapbox\"}], \"scatterpolar\": [{\"marker\": {\"colorbar\": {\"outlinewidth\": 0, \"ticks\": \"\"}}, \"type\": \"scatterpolar\"}], \"scatterpolargl\": [{\"marker\": {\"colorbar\": {\"outlinewidth\": 0, \"ticks\": \"\"}}, \"type\": \"scatterpolargl\"}], \"scatterternary\": [{\"marker\": {\"colorbar\": {\"outlinewidth\": 0, \"ticks\": \"\"}}, \"type\": \"scatterternary\"}], \"surface\": [{\"colorbar\": {\"outlinewidth\": 0, \"ticks\": \"\"}, \"colorscale\": [[0.0, \"#0d0887\"], [0.1111111111111111, \"#46039f\"], [0.2222222222222222, \"#7201a8\"], [0.3333333333333333, \"#9c179e\"], [0.4444444444444444, \"#bd3786\"], [0.5555555555555556, \"#d8576b\"], [0.6666666666666666, \"#ed7953\"], [0.7777777777777778, \"#fb9f3a\"], [0.8888888888888888, \"#fdca26\"], [1.0, \"#f0f921\"]], \"type\": \"surface\"}], \"table\": [{\"cells\": {\"fill\": {\"color\": \"#EBF0F8\"}, \"line\": {\"color\": \"white\"}}, \"header\": {\"fill\": {\"color\": \"#C8D4E3\"}, \"line\": {\"color\": \"white\"}}, \"type\": \"table\"}]}, \"layout\": {\"annotationdefaults\": {\"arrowcolor\": \"#2a3f5f\", \"arrowhead\": 0, \"arrowwidth\": 1}, \"coloraxis\": {\"colorbar\": {\"outlinewidth\": 0, \"ticks\": \"\"}}, \"colorscale\": {\"diverging\": [[0, \"#8e0152\"], [0.1, \"#c51b7d\"], [0.2, \"#de77ae\"], [0.3, \"#f1b6da\"], [0.4, \"#fde0ef\"], [0.5, \"#f7f7f7\"], [0.6, \"#e6f5d0\"], [0.7, \"#b8e186\"], [0.8, \"#7fbc41\"], [0.9, \"#4d9221\"], [1, \"#276419\"]], \"sequential\": [[0.0, \"#0d0887\"], [0.1111111111111111, \"#46039f\"], [0.2222222222222222, \"#7201a8\"], [0.3333333333333333, \"#9c179e\"], [0.4444444444444444, \"#bd3786\"], [0.5555555555555556, \"#d8576b\"], [0.6666666666666666, \"#ed7953\"], [0.7777777777777778, \"#fb9f3a\"], [0.8888888888888888, \"#fdca26\"], [1.0, \"#f0f921\"]], \"sequentialminus\": [[0.0, \"#0d0887\"], [0.1111111111111111, \"#46039f\"], [0.2222222222222222, \"#7201a8\"], [0.3333333333333333, \"#9c179e\"], [0.4444444444444444, \"#bd3786\"], [0.5555555555555556, \"#d8576b\"], [0.6666666666666666, \"#ed7953\"], [0.7777777777777778, \"#fb9f3a\"], [0.8888888888888888, \"#fdca26\"], [1.0, \"#f0f921\"]]}, \"colorway\": [\"#636efa\", \"#EF553B\", \"#00cc96\", \"#ab63fa\", \"#FFA15A\", \"#19d3f3\", \"#FF6692\", \"#B6E880\", \"#FF97FF\", \"#FECB52\"], \"font\": {\"color\": \"#2a3f5f\"}, \"geo\": {\"bgcolor\": \"white\", \"lakecolor\": \"white\", \"landcolor\": \"#E5ECF6\", \"showlakes\": true, \"showland\": true, \"subunitcolor\": \"white\"}, \"hoverlabel\": {\"align\": \"left\"}, \"hovermode\": \"closest\", \"mapbox\": {\"style\": \"light\"}, \"paper_bgcolor\": \"white\", \"plot_bgcolor\": \"#E5ECF6\", \"polar\": {\"angularaxis\": {\"gridcolor\": \"white\", \"linecolor\": \"white\", \"ticks\": \"\"}, \"bgcolor\": \"#E5ECF6\", \"radialaxis\": {\"gridcolor\": \"white\", \"linecolor\": \"white\", \"ticks\": \"\"}}, \"scene\": {\"xaxis\": {\"backgroundcolor\": \"#E5ECF6\", \"gridcolor\": \"white\", \"gridwidth\": 2, \"linecolor\": \"white\", \"showbackground\": true, \"ticks\": \"\", \"zerolinecolor\": \"white\"}, \"yaxis\": {\"backgroundcolor\": \"#E5ECF6\", \"gridcolor\": \"white\", \"gridwidth\": 2, \"linecolor\": \"white\", \"showbackground\": true, \"ticks\": \"\", \"zerolinecolor\": \"white\"}, \"zaxis\": {\"backgroundcolor\": \"#E5ECF6\", \"gridcolor\": \"white\", \"gridwidth\": 2, \"linecolor\": \"white\", \"showbackground\": true, \"ticks\": \"\", \"zerolinecolor\": \"white\"}}, \"shapedefaults\": {\"line\": {\"color\": \"#2a3f5f\"}}, \"ternary\": {\"aaxis\": {\"gridcolor\": \"white\", \"linecolor\": \"white\", \"ticks\": \"\"}, \"baxis\": {\"gridcolor\": \"white\", \"linecolor\": \"white\", \"ticks\": \"\"}, \"bgcolor\": \"#E5ECF6\", \"caxis\": {\"gridcolor\": \"white\", \"linecolor\": \"white\", \"ticks\": \"\"}}, \"title\": {\"x\": 0.05}, \"xaxis\": {\"automargin\": true, \"gridcolor\": \"white\", \"linecolor\": \"white\", \"ticks\": \"\", \"title\": {\"standoff\": 15}, \"zerolinecolor\": \"white\", \"zerolinewidth\": 2}, \"yaxis\": {\"automargin\": true, \"gridcolor\": \"white\", \"linecolor\": \"white\", \"ticks\": \"\", \"title\": {\"standoff\": 15}, \"zerolinecolor\": \"white\", \"zerolinewidth\": 2}}}, \"title\": {\"text\": \"Average Delay Time of Airline \\\"VX\\\" Route in 2015<br> Hover for value\"}},\n",
       "                        {\"responsive\": true}\n",
       "                    ).then(function(){\n",
       "                            \n",
       "var gd = document.getElementById('381eef77-331a-46fb-8fd7-ad26d9d6bb24');\n",
       "var x = new MutationObserver(function (mutations, observer) {{\n",
       "        var display = window.getComputedStyle(gd).display;\n",
       "        if (!display || display === 'none') {{\n",
       "            console.log([gd, 'removed!']);\n",
       "            Plotly.purge(gd);\n",
       "            observer.disconnect();\n",
       "        }}\n",
       "}});\n",
       "\n",
       "// Listen for the removal of the full notebook cells\n",
       "var notebookContainer = gd.closest('#notebook-container');\n",
       "if (notebookContainer) {{\n",
       "    x.observe(notebookContainer, {childList: true});\n",
       "}}\n",
       "\n",
       "// Listen for the clearing of the current output cell\n",
       "var outputEl = gd.closest('.output');\n",
       "if (outputEl) {{\n",
       "    x.observe(outputEl, {childList: true});\n",
       "}}\n",
       "\n",
       "                        })\n",
       "                };\n",
       "                });\n",
       "            </script>\n",
       "        </div>"
      ]
     },
     "metadata": {},
     "output_type": "display_data"
    }
   ],
   "source": [
    "data = [\n",
    "    dict(\n",
    "        type='scattergeo',\n",
    "        lat=c_sorted['LATITUDE'],\n",
    "        lon=c_sorted['LONGITUDE'],\n",
    "        marker=dict(color='#FFD700',\n",
    "                    line=dict(color=\"rgba(102,102,102)\", width=1),\n",
    "                    opacity=0.8,\n",
    "                    size=6),\n",
    "        mode='markers',\n",
    "    )\n",
    "]\n",
    "\n",
    "#draw the flight route in the map\n",
    "for i in range(60):#len(c_sorted)\n",
    "    data += [\n",
    "        dict(lat=[c_sorted['LATITUDE'].iloc[i], d_sorted['LATITUDE'].iloc[i]],\n",
    "             line=dict(color='#4682B4', width=1),\n",
    "             locationmode=\"USA-states\",\n",
    "             lon=[c_sorted['LONGITUDE'].iloc[i], d_sorted['LONGITUDE'].iloc[i]],\n",
    "             mode=\"lines\",\n",
    "             text=('From: ' + (c_sorted['AIRPORT'].iloc[i]) + '<br>To: ' +\n",
    "                   d_sorted['AIRPORT'].iloc[i] + '<br>Avg. Delay: ' +\n",
    "                   ((c_sorted['ARRIVAL_DELAY'].iloc[i] * 100).astype(int) /\n",
    "                    100).astype(str) + ' mins'),\n",
    "             opacity=(c_sorted['ARRIVAL_DELAY'].iloc[i]) / 30 if\n",
    "             (c_sorted['ARRIVAL_DELAY'].iloc[i]) > 0 else 0,\n",
    "             type=\"scattergeo\")\n",
    "    ]\n",
    "\n",
    "    #layout\n",
    "    layout = dict(\n",
    "        title='Average Delay Time of Airline \"VX\" Route in 2015'\n",
    "        + '<br> Hover for value',\n",
    "        geo=dict(scope='north america',\n",
    "                 projection=dict(type=\"azimuthal equal area\"),\n",
    "                 showlakes=True,\n",
    "                 showland=True,\n",
    "                 lakecolor='rgb(95,145,237)',\n",
    "                 landcolor='rgb(250,250,250)'),\n",
    "        showlegend=False)\n",
    "\n",
    "fig = dict(data=data, layout=layout)\n",
    "py.iplot(fig)"
   ]
  },
  {
   "cell_type": "markdown",
   "metadata": {},
   "source": [
    "# HA "
   ]
  },
  {
   "cell_type": "code",
   "execution_count": 62,
   "metadata": {
    "ExecuteTime": {
     "end_time": "2020-06-29T23:20:12.572985Z",
     "start_time": "2020-06-29T23:19:32.442628Z"
    }
   },
   "outputs": [
    {
     "data": {
      "text/html": [
       "<div>\n",
       "<style scoped>\n",
       "    .dataframe tbody tr th:only-of-type {\n",
       "        vertical-align: middle;\n",
       "    }\n",
       "\n",
       "    .dataframe tbody tr th {\n",
       "        vertical-align: top;\n",
       "    }\n",
       "\n",
       "    .dataframe thead th {\n",
       "        text-align: right;\n",
       "    }\n",
       "</style>\n",
       "<table border=\"1\" class=\"dataframe\">\n",
       "  <thead>\n",
       "    <tr style=\"text-align: right;\">\n",
       "      <th></th>\n",
       "      <th>ORIGIN_AIRPORT</th>\n",
       "      <th>AIRPORT</th>\n",
       "      <th>CITY</th>\n",
       "      <th>STATE</th>\n",
       "      <th>COUNTRY</th>\n",
       "      <th>LATITUDE</th>\n",
       "      <th>LONGITUDE</th>\n",
       "      <th>ARRIVAL_DELAY</th>\n",
       "    </tr>\n",
       "    <tr>\n",
       "      <th>AtoB</th>\n",
       "      <th></th>\n",
       "      <th></th>\n",
       "      <th></th>\n",
       "      <th></th>\n",
       "      <th></th>\n",
       "      <th></th>\n",
       "      <th></th>\n",
       "      <th></th>\n",
       "    </tr>\n",
       "  </thead>\n",
       "  <tbody>\n",
       "    <tr>\n",
       "      <th>HNLITO</th>\n",
       "      <td>HNL</td>\n",
       "      <td>Honolulu International Airport</td>\n",
       "      <td>Honolulu</td>\n",
       "      <td>HI</td>\n",
       "      <td>USA</td>\n",
       "      <td>21.31869</td>\n",
       "      <td>-157.92241</td>\n",
       "      <td>1.380067</td>\n",
       "    </tr>\n",
       "    <tr>\n",
       "      <th>HNLJFK</th>\n",
       "      <td>HNL</td>\n",
       "      <td>Honolulu International Airport</td>\n",
       "      <td>Honolulu</td>\n",
       "      <td>HI</td>\n",
       "      <td>USA</td>\n",
       "      <td>21.31869</td>\n",
       "      <td>-157.92241</td>\n",
       "      <td>10.262799</td>\n",
       "    </tr>\n",
       "    <tr>\n",
       "      <th>HNLKOA</th>\n",
       "      <td>HNL</td>\n",
       "      <td>Honolulu International Airport</td>\n",
       "      <td>Honolulu</td>\n",
       "      <td>HI</td>\n",
       "      <td>USA</td>\n",
       "      <td>21.31869</td>\n",
       "      <td>-157.92241</td>\n",
       "      <td>0.655902</td>\n",
       "    </tr>\n",
       "    <tr>\n",
       "      <th>HNLLAS</th>\n",
       "      <td>HNL</td>\n",
       "      <td>Honolulu International Airport</td>\n",
       "      <td>Honolulu</td>\n",
       "      <td>HI</td>\n",
       "      <td>USA</td>\n",
       "      <td>21.31869</td>\n",
       "      <td>-157.92241</td>\n",
       "      <td>-2.821208</td>\n",
       "    </tr>\n",
       "    <tr>\n",
       "      <th>HNLLAX</th>\n",
       "      <td>HNL</td>\n",
       "      <td>Honolulu International Airport</td>\n",
       "      <td>Honolulu</td>\n",
       "      <td>HI</td>\n",
       "      <td>USA</td>\n",
       "      <td>21.31869</td>\n",
       "      <td>-157.92241</td>\n",
       "      <td>-7.289000</td>\n",
       "    </tr>\n",
       "  </tbody>\n",
       "</table>\n",
       "</div>"
      ],
      "text/plain": [
       "       ORIGIN_AIRPORT                         AIRPORT      CITY STATE COUNTRY  \\\n",
       "AtoB                                                                            \n",
       "HNLITO            HNL  Honolulu International Airport  Honolulu    HI     USA   \n",
       "HNLJFK            HNL  Honolulu International Airport  Honolulu    HI     USA   \n",
       "HNLKOA            HNL  Honolulu International Airport  Honolulu    HI     USA   \n",
       "HNLLAS            HNL  Honolulu International Airport  Honolulu    HI     USA   \n",
       "HNLLAX            HNL  Honolulu International Airport  Honolulu    HI     USA   \n",
       "\n",
       "        LATITUDE  LONGITUDE  ARRIVAL_DELAY  \n",
       "AtoB                                        \n",
       "HNLITO  21.31869 -157.92241       1.380067  \n",
       "HNLJFK  21.31869 -157.92241      10.262799  \n",
       "HNLKOA  21.31869 -157.92241       0.655902  \n",
       "HNLLAS  21.31869 -157.92241      -2.821208  \n",
       "HNLLAX  21.31869 -157.92241      -7.289000  "
      ]
     },
     "execution_count": 62,
     "metadata": {},
     "output_type": "execute_result"
    }
   ],
   "source": [
    "a = df[df.IATA_CODE_PLANE == 'HA'].loc[:, ['ORIGIN_AIRPORT', 'DESTINATION_AIRPORT', 'ARRIVAL_DELAY']]\n",
    "a['AtoB'] = a['ORIGIN_AIRPORT'] + a['DESTINATION_AIRPORT']\n",
    "b = a.loc[:,['AtoB','ARRIVAL_DELAY']].groupby('AtoB').mean().compute()\n",
    "b['IATA_CODE'] = b.index.str[:3]\n",
    "c = dd.merge(airport, b.reset_index())\n",
    "c=c.rename(columns={'IATA_CODE': 'ORIGIN_AIRPORT'})\n",
    "c_sorted = c.set_index('AtoB').compute()\n",
    "c_sorted.head(5)"
   ]
  },
  {
   "cell_type": "code",
   "execution_count": 72,
   "metadata": {
    "ExecuteTime": {
     "end_time": "2020-06-29T23:26:32.393480Z",
     "start_time": "2020-06-29T23:26:32.389065Z"
    }
   },
   "outputs": [
    {
     "data": {
      "text/plain": [
       "56"
      ]
     },
     "execution_count": 72,
     "metadata": {},
     "output_type": "execute_result"
    }
   ],
   "source": [
    "len(c_sorted.index)"
   ]
  },
  {
   "cell_type": "code",
   "execution_count": 63,
   "metadata": {
    "ExecuteTime": {
     "end_time": "2020-06-29T23:21:03.145189Z",
     "start_time": "2020-06-29T23:21:03.084338Z"
    }
   },
   "outputs": [],
   "source": [
    "b.drop('IATA_CODE', axis=1, inplace=True)\n",
    "b['IATA_CODE'] = b.index.str[3:]\n",
    "d = dd.merge(airport, b.reset_index())\n",
    "d.rename(columns={'IATA_CODE': 'DESTINATION_AIRPORT'})\n",
    "d_sorted = d.set_index('AtoB').compute()"
   ]
  },
  {
   "cell_type": "code",
   "execution_count": 64,
   "metadata": {
    "ExecuteTime": {
     "end_time": "2020-06-29T23:21:18.843169Z",
     "start_time": "2020-06-29T23:21:18.830470Z"
    }
   },
   "outputs": [
    {
     "data": {
      "text/html": [
       "<div>\n",
       "<style scoped>\n",
       "    .dataframe tbody tr th:only-of-type {\n",
       "        vertical-align: middle;\n",
       "    }\n",
       "\n",
       "    .dataframe tbody tr th {\n",
       "        vertical-align: top;\n",
       "    }\n",
       "\n",
       "    .dataframe thead th {\n",
       "        text-align: right;\n",
       "    }\n",
       "</style>\n",
       "<table border=\"1\" class=\"dataframe\">\n",
       "  <thead>\n",
       "    <tr style=\"text-align: right;\">\n",
       "      <th></th>\n",
       "      <th>IATA_CODE</th>\n",
       "      <th>AIRPORT</th>\n",
       "      <th>CITY</th>\n",
       "      <th>STATE</th>\n",
       "      <th>COUNTRY</th>\n",
       "      <th>LATITUDE</th>\n",
       "      <th>LONGITUDE</th>\n",
       "      <th>ARRIVAL_DELAY</th>\n",
       "    </tr>\n",
       "    <tr>\n",
       "      <th>AtoB</th>\n",
       "      <th></th>\n",
       "      <th></th>\n",
       "      <th></th>\n",
       "      <th></th>\n",
       "      <th></th>\n",
       "      <th></th>\n",
       "      <th></th>\n",
       "      <th></th>\n",
       "    </tr>\n",
       "  </thead>\n",
       "  <tbody>\n",
       "    <tr>\n",
       "      <th>HNLITO</th>\n",
       "      <td>ITO</td>\n",
       "      <td>Hilo International Airport</td>\n",
       "      <td>Hilo</td>\n",
       "      <td>HI</td>\n",
       "      <td>USA</td>\n",
       "      <td>19.72026</td>\n",
       "      <td>-155.04847</td>\n",
       "      <td>1.380067</td>\n",
       "    </tr>\n",
       "    <tr>\n",
       "      <th>HNLJFK</th>\n",
       "      <td>JFK</td>\n",
       "      <td>John F. Kennedy International Airport (New Yor...</td>\n",
       "      <td>New York</td>\n",
       "      <td>NY</td>\n",
       "      <td>USA</td>\n",
       "      <td>40.63975</td>\n",
       "      <td>-73.77893</td>\n",
       "      <td>10.262799</td>\n",
       "    </tr>\n",
       "    <tr>\n",
       "      <th>HNLKOA</th>\n",
       "      <td>KOA</td>\n",
       "      <td>Kona International Airport at Keahole</td>\n",
       "      <td>Kailua/Kona</td>\n",
       "      <td>HI</td>\n",
       "      <td>USA</td>\n",
       "      <td>19.73877</td>\n",
       "      <td>-156.04563</td>\n",
       "      <td>0.655902</td>\n",
       "    </tr>\n",
       "    <tr>\n",
       "      <th>HNLLAS</th>\n",
       "      <td>LAS</td>\n",
       "      <td>McCarran International Airport</td>\n",
       "      <td>Las Vegas</td>\n",
       "      <td>NV</td>\n",
       "      <td>USA</td>\n",
       "      <td>36.08036</td>\n",
       "      <td>-115.15233</td>\n",
       "      <td>-2.821208</td>\n",
       "    </tr>\n",
       "    <tr>\n",
       "      <th>HNLLAX</th>\n",
       "      <td>LAX</td>\n",
       "      <td>Los Angeles International Airport</td>\n",
       "      <td>Los Angeles</td>\n",
       "      <td>CA</td>\n",
       "      <td>USA</td>\n",
       "      <td>33.94254</td>\n",
       "      <td>-118.40807</td>\n",
       "      <td>-7.289000</td>\n",
       "    </tr>\n",
       "  </tbody>\n",
       "</table>\n",
       "</div>"
      ],
      "text/plain": [
       "       IATA_CODE                                            AIRPORT  \\\n",
       "AtoB                                                                  \n",
       "HNLITO       ITO                         Hilo International Airport   \n",
       "HNLJFK       JFK  John F. Kennedy International Airport (New Yor...   \n",
       "HNLKOA       KOA              Kona International Airport at Keahole   \n",
       "HNLLAS       LAS                     McCarran International Airport   \n",
       "HNLLAX       LAX                  Los Angeles International Airport   \n",
       "\n",
       "               CITY STATE COUNTRY  LATITUDE  LONGITUDE  ARRIVAL_DELAY  \n",
       "AtoB                                                                   \n",
       "HNLITO         Hilo    HI     USA  19.72026 -155.04847       1.380067  \n",
       "HNLJFK     New York    NY     USA  40.63975  -73.77893      10.262799  \n",
       "HNLKOA  Kailua/Kona    HI     USA  19.73877 -156.04563       0.655902  \n",
       "HNLLAS    Las Vegas    NV     USA  36.08036 -115.15233      -2.821208  \n",
       "HNLLAX  Los Angeles    CA     USA  33.94254 -118.40807      -7.289000  "
      ]
     },
     "execution_count": 64,
     "metadata": {},
     "output_type": "execute_result"
    }
   ],
   "source": [
    "d_sorted.head(5)"
   ]
  },
  {
   "cell_type": "code",
   "execution_count": 74,
   "metadata": {
    "ExecuteTime": {
     "end_time": "2020-06-29T23:27:09.052509Z",
     "start_time": "2020-06-29T23:27:08.970052Z"
    }
   },
   "outputs": [
    {
     "data": {
      "application/vnd.plotly.v1+json": {
       "config": {
        "linkText": "Export to plot.ly",
        "plotlyServerURL": "https://plot.ly",
        "showLink": false
       },
       "data": [
        {
         "lat": [
          21.31869,
          21.31869,
          21.31869,
          21.31869,
          21.31869,
          21.31869,
          21.31869,
          21.31869,
          21.31869,
          21.31869,
          21.31869,
          21.31869,
          21.31869,
          21.31869,
          21.31869,
          21.31869,
          19.72026,
          19.72026,
          40.63975,
          19.738770000000002,
          19.738770000000002,
          19.738770000000002,
          19.738770000000002,
          36.08036,
          33.94254,
          33.94254,
          33.94254,
          33.94254,
          21.97598,
          21.97598,
          21.97598,
          21.97598,
          37.72129,
          37.72129,
          37.72129,
          37.72129,
          20.89865,
          20.89865,
          20.89865,
          20.89865,
          20.89865,
          20.89865,
          20.89865,
          20.89865,
          20.89865,
          45.58872,
          33.43417,
          14.33102,
          32.73356,
          47.44898,
          47.44898,
          37.619,
          37.619,
          37.36186,
          37.36186,
          38.69542
         ],
         "lon": [
          -157.92241,
          -157.92241,
          -157.92241,
          -157.92241,
          -157.92241,
          -157.92241,
          -157.92241,
          -157.92241,
          -157.92241,
          -157.92241,
          -157.92241,
          -157.92241,
          -157.92241,
          -157.92241,
          -157.92241,
          -157.92241,
          -155.04847,
          -155.04847,
          -73.77893,
          -156.04563000000002,
          -156.04563000000002,
          -156.04563000000002,
          -156.04563000000002,
          -115.15233,
          -118.40807,
          -118.40807,
          -118.40807,
          -118.40807,
          -159.33896000000001,
          -159.33896000000001,
          -159.33896000000001,
          -159.33896000000001,
          -122.22072,
          -122.22072,
          -122.22072,
          -122.22072,
          -156.43046,
          -156.43046,
          -156.43046,
          -156.43046,
          -156.43046,
          -156.43046,
          -156.43046,
          -156.43046,
          -156.43046,
          -122.5975,
          -112.00806000000001,
          -170.71053,
          -117.18966,
          -122.30931000000001,
          -122.30931000000001,
          -122.37483999999999,
          -122.37483999999999,
          -121.92901,
          -121.92901,
          -121.59076999999999
         ],
         "marker": {
          "color": "#FFD700",
          "line": {
           "color": "rgba(102,102,102)",
           "width": 1
          },
          "opacity": 0.8,
          "size": 6
         },
         "mode": "markers",
         "type": "scattergeo"
        },
        {
         "lat": [
          21.31869,
          19.72026
         ],
         "line": {
          "color": "#4682B4",
          "width": 1
         },
         "locationmode": "USA-states",
         "lon": [
          -157.92241,
          -155.04847
         ],
         "mode": "lines",
         "opacity": 0.046002228722663324,
         "text": "From: Honolulu International Airport<br>To: Hilo International Airport<br>Avg. Delay: 1.38 mins",
         "type": "scattergeo"
        },
        {
         "lat": [
          21.31869,
          40.63975
         ],
         "line": {
          "color": "#4682B4",
          "width": 1
         },
         "locationmode": "USA-states",
         "lon": [
          -157.92241,
          -73.77893
         ],
         "mode": "lines",
         "opacity": 0.3420932878270762,
         "text": "From: Honolulu International Airport<br>To: John F. Kennedy International Airport (New York International Airport)<br>Avg. Delay: 10.26 mins",
         "type": "scattergeo"
        },
        {
         "lat": [
          21.31869,
          19.738770000000002
         ],
         "line": {
          "color": "#4682B4",
          "width": 1
         },
         "locationmode": "USA-states",
         "lon": [
          -157.92241,
          -156.04563000000002
         ],
         "mode": "lines",
         "opacity": 0.02186340596749752,
         "text": "From: Honolulu International Airport<br>To: Kona International Airport at Keahole<br>Avg. Delay: 0.65 mins",
         "type": "scattergeo"
        },
        {
         "lat": [
          21.31869,
          36.08036
         ],
         "line": {
          "color": "#4682B4",
          "width": 1
         },
         "locationmode": "USA-states",
         "lon": [
          -157.92241,
          -115.15233
         ],
         "mode": "lines",
         "opacity": 0,
         "text": "From: Honolulu International Airport<br>To: McCarran International Airport<br>Avg. Delay: -2.82 mins",
         "type": "scattergeo"
        },
        {
         "lat": [
          21.31869,
          33.94254
         ],
         "line": {
          "color": "#4682B4",
          "width": 1
         },
         "locationmode": "USA-states",
         "lon": [
          -157.92241,
          -118.40807
         ],
         "mode": "lines",
         "opacity": 0,
         "text": "From: Honolulu International Airport<br>To: Los Angeles International Airport<br>Avg. Delay: -7.28 mins",
         "type": "scattergeo"
        },
        {
         "lat": [
          21.31869,
          21.97598
         ],
         "line": {
          "color": "#4682B4",
          "width": 1
         },
         "locationmode": "USA-states",
         "lon": [
          -157.92241,
          -159.33896000000001
         ],
         "mode": "lines",
         "opacity": 0.00911111111111111,
         "text": "From: Honolulu International Airport<br>To: Lihue Airport<br>Avg. Delay: 0.27 mins",
         "type": "scattergeo"
        },
        {
         "lat": [
          21.31869,
          37.72129
         ],
         "line": {
          "color": "#4682B4",
          "width": 1
         },
         "locationmode": "USA-states",
         "lon": [
          -157.92241,
          -122.22072
         ],
         "mode": "lines",
         "opacity": 0,
         "text": "From: Honolulu International Airport<br>To: Oakland International Airport<br>Avg. Delay: -1.75 mins",
         "type": "scattergeo"
        },
        {
         "lat": [
          21.31869,
          20.89865
         ],
         "line": {
          "color": "#4682B4",
          "width": 1
         },
         "locationmode": "USA-states",
         "lon": [
          -157.92241,
          -156.43046
         ],
         "mode": "lines",
         "opacity": 0.05379577977201067,
         "text": "From: Honolulu International Airport<br>To: Kahului Airport<br>Avg. Delay: 1.61 mins",
         "type": "scattergeo"
        },
        {
         "lat": [
          21.31869,
          45.58872
         ],
         "line": {
          "color": "#4682B4",
          "width": 1
         },
         "locationmode": "USA-states",
         "lon": [
          -157.92241,
          -122.5975
         ],
         "mode": "lines",
         "opacity": 0.0811377245508982,
         "text": "From: Honolulu International Airport<br>To: Portland International Airport<br>Avg. Delay: 2.43 mins",
         "type": "scattergeo"
        },
        {
         "lat": [
          21.31869,
          33.43417
         ],
         "line": {
          "color": "#4682B4",
          "width": 1
         },
         "locationmode": "USA-states",
         "lon": [
          -157.92241,
          -112.00806000000001
         ],
         "mode": "lines",
         "opacity": 0.25768463073852294,
         "text": "From: Honolulu International Airport<br>To: Phoenix Sky Harbor International Airport<br>Avg. Delay: 7.73 mins",
         "type": "scattergeo"
        },
        {
         "lat": [
          21.31869,
          14.33102
         ],
         "line": {
          "color": "#4682B4",
          "width": 1
         },
         "locationmode": "USA-states",
         "lon": [
          -157.92241,
          -170.71053
         ],
         "mode": "lines",
         "opacity": 0.2467289719626168,
         "text": "From: Honolulu International Airport<br>To: Pago Pago International Airport (Tafuna Airport)<br>Avg. Delay: 7.4 mins",
         "type": "scattergeo"
        },
        {
         "lat": [
          21.31869,
          32.73356
         ],
         "line": {
          "color": "#4682B4",
          "width": 1
         },
         "locationmode": "USA-states",
         "lon": [
          -157.92241,
          -117.18966
         ],
         "mode": "lines",
         "opacity": 0.18755020080321286,
         "text": "From: Honolulu International Airport<br>To: San Diego International Airport (Lindbergh Field)<br>Avg. Delay: 5.62 mins",
         "type": "scattergeo"
        },
        {
         "lat": [
          21.31869,
          47.44898
         ],
         "line": {
          "color": "#4682B4",
          "width": 1
         },
         "locationmode": "USA-states",
         "lon": [
          -157.92241,
          -122.30931000000001
         ],
         "mode": "lines",
         "opacity": 0.08654618473895583,
         "text": "From: Honolulu International Airport<br>To: Seattle-Tacoma International Airport<br>Avg. Delay: 2.59 mins",
         "type": "scattergeo"
        },
        {
         "lat": [
          21.31869,
          37.619
         ],
         "line": {
          "color": "#4682B4",
          "width": 1
         },
         "locationmode": "USA-states",
         "lon": [
          -157.92241,
          -122.37483999999999
         ],
         "mode": "lines",
         "opacity": 0.10582329317269076,
         "text": "From: Honolulu International Airport<br>To: San Francisco International Airport<br>Avg. Delay: 3.17 mins",
         "type": "scattergeo"
        },
        {
         "lat": [
          21.31869,
          37.36186
         ],
         "line": {
          "color": "#4682B4",
          "width": 1
         },
         "locationmode": "USA-states",
         "lon": [
          -157.92241,
          -121.92901
         ],
         "mode": "lines",
         "opacity": 0.13949494949494948,
         "text": "From: Honolulu International Airport<br>To: Norman Y. Mineta San José International Airport<br>Avg. Delay: 4.18 mins",
         "type": "scattergeo"
        },
        {
         "lat": [
          21.31869,
          38.69542
         ],
         "line": {
          "color": "#4682B4",
          "width": 1
         },
         "locationmode": "USA-states",
         "lon": [
          -157.92241,
          -121.59076999999999
         ],
         "mode": "lines",
         "opacity": 0.24367469879518072,
         "text": "From: Honolulu International Airport<br>To: Sacramento International Airport<br>Avg. Delay: 7.31 mins",
         "type": "scattergeo"
        },
        {
         "lat": [
          19.72026,
          21.31869
         ],
         "line": {
          "color": "#4682B4",
          "width": 1
         },
         "locationmode": "USA-states",
         "lon": [
          -155.04847,
          -157.92241
         ],
         "mode": "lines",
         "opacity": 0.020891675374433993,
         "text": "From: Hilo International Airport<br>To: Honolulu International Airport<br>Avg. Delay: 0.62 mins",
         "type": "scattergeo"
        },
        {
         "lat": [
          19.72026,
          20.89865
         ],
         "line": {
          "color": "#4682B4",
          "width": 1
         },
         "locationmode": "USA-states",
         "lon": [
          -155.04847,
          -156.43046
         ],
         "mode": "lines",
         "opacity": 0,
         "text": "From: Hilo International Airport<br>To: Kahului Airport<br>Avg. Delay: -1.16 mins",
         "type": "scattergeo"
        },
        {
         "lat": [
          40.63975,
          21.31869
         ],
         "line": {
          "color": "#4682B4",
          "width": 1
         },
         "locationmode": "USA-states",
         "lon": [
          -73.77893,
          -157.92241
         ],
         "mode": "lines",
         "opacity": 0.7491467576791809,
         "text": "From: John F. Kennedy International Airport (New York International Airport)<br>To: Honolulu International Airport<br>Avg. Delay: 22.47 mins",
         "type": "scattergeo"
        },
        {
         "lat": [
          19.738770000000002,
          21.31869
         ],
         "line": {
          "color": "#4682B4",
          "width": 1
         },
         "locationmode": "USA-states",
         "lon": [
          -156.04563000000002,
          -157.92241
         ],
         "mode": "lines",
         "opacity": 0.06527602191319005,
         "text": "From: Kona International Airport at Keahole<br>To: Honolulu International Airport<br>Avg. Delay: 1.95 mins",
         "type": "scattergeo"
        },
        {
         "lat": [
          19.738770000000002,
          33.94254
         ],
         "line": {
          "color": "#4682B4",
          "width": 1
         },
         "locationmode": "USA-states",
         "lon": [
          -156.04563000000002,
          -118.40807
         ],
         "mode": "lines",
         "opacity": 0.17750000000000002,
         "text": "From: Kona International Airport at Keahole<br>To: Los Angeles International Airport<br>Avg. Delay: 5.32 mins",
         "type": "scattergeo"
        },
        {
         "lat": [
          19.738770000000002,
          37.72129
         ],
         "line": {
          "color": "#4682B4",
          "width": 1
         },
         "locationmode": "USA-states",
         "lon": [
          -156.04563000000002,
          -122.22072
         ],
         "mode": "lines",
         "opacity": 0.09938271604938272,
         "text": "From: Kona International Airport at Keahole<br>To: Oakland International Airport<br>Avg. Delay: 2.98 mins",
         "type": "scattergeo"
        },
        {
         "lat": [
          19.738770000000002,
          20.89865
         ],
         "line": {
          "color": "#4682B4",
          "width": 1
         },
         "locationmode": "USA-states",
         "lon": [
          -156.04563000000002,
          -156.43046
         ],
         "mode": "lines",
         "opacity": 0.033450019447685726,
         "text": "From: Kona International Airport at Keahole<br>To: Kahului Airport<br>Avg. Delay: 1.0 mins",
         "type": "scattergeo"
        },
        {
         "lat": [
          36.08036,
          21.31869
         ],
         "line": {
          "color": "#4682B4",
          "width": 1
         },
         "locationmode": "USA-states",
         "lon": [
          -115.15233,
          -157.92241
         ],
         "mode": "lines",
         "opacity": 0.32854785478547854,
         "text": "From: McCarran International Airport<br>To: Honolulu International Airport<br>Avg. Delay: 9.85 mins",
         "type": "scattergeo"
        },
        {
         "lat": [
          33.94254,
          21.31869
         ],
         "line": {
          "color": "#4682B4",
          "width": 1
         },
         "locationmode": "USA-states",
         "lon": [
          -118.40807,
          -157.92241
         ],
         "mode": "lines",
         "opacity": 0.04444444444444444,
         "text": "From: Los Angeles International Airport<br>To: Honolulu International Airport<br>Avg. Delay: 1.33 mins",
         "type": "scattergeo"
        },
        {
         "lat": [
          33.94254,
          19.738770000000002
         ],
         "line": {
          "color": "#4682B4",
          "width": 1
         },
         "locationmode": "USA-states",
         "lon": [
          -118.40807,
          -156.04563000000002
         ],
         "mode": "lines",
         "opacity": 0,
         "text": "From: Los Angeles International Airport<br>To: Kona International Airport at Keahole<br>Avg. Delay: -16.07 mins",
         "type": "scattergeo"
        },
        {
         "lat": [
          33.94254,
          21.97598
         ],
         "line": {
          "color": "#4682B4",
          "width": 1
         },
         "locationmode": "USA-states",
         "lon": [
          -118.40807,
          -159.33896000000001
         ],
         "mode": "lines",
         "opacity": 0,
         "text": "From: Los Angeles International Airport<br>To: Lihue Airport<br>Avg. Delay: -0.64 mins",
         "type": "scattergeo"
        },
        {
         "lat": [
          33.94254,
          20.89865
         ],
         "line": {
          "color": "#4682B4",
          "width": 1
         },
         "locationmode": "USA-states",
         "lon": [
          -118.40807,
          -156.43046
         ],
         "mode": "lines",
         "opacity": 0.20685142417244032,
         "text": "From: Los Angeles International Airport<br>To: Kahului Airport<br>Avg. Delay: 6.2 mins",
         "type": "scattergeo"
        },
        {
         "lat": [
          21.97598,
          21.31869
         ],
         "line": {
          "color": "#4682B4",
          "width": 1
         },
         "locationmode": "USA-states",
         "lon": [
          -159.33896000000001,
          -157.92241
         ],
         "mode": "lines",
         "opacity": 0.03183347590533219,
         "text": "From: Lihue Airport<br>To: Honolulu International Airport<br>Avg. Delay: 0.95 mins",
         "type": "scattergeo"
        },
        {
         "lat": [
          21.97598,
          33.94254
         ],
         "line": {
          "color": "#4682B4",
          "width": 1
         },
         "locationmode": "USA-states",
         "lon": [
          -159.33896000000001,
          -118.40807
         ],
         "mode": "lines",
         "opacity": 0.34684684684684686,
         "text": "From: Lihue Airport<br>To: Los Angeles International Airport<br>Avg. Delay: 10.4 mins",
         "type": "scattergeo"
        },
        {
         "lat": [
          21.97598,
          37.72129
         ],
         "line": {
          "color": "#4682B4",
          "width": 1
         },
         "locationmode": "USA-states",
         "lon": [
          -159.33896000000001,
          -122.22072
         ],
         "mode": "lines",
         "opacity": 0.16594202898550725,
         "text": "From: Lihue Airport<br>To: Oakland International Airport<br>Avg. Delay: 4.97 mins",
         "type": "scattergeo"
        },
        {
         "lat": [
          21.97598,
          20.89865
         ],
         "line": {
          "color": "#4682B4",
          "width": 1
         },
         "locationmode": "USA-states",
         "lon": [
          -159.33896000000001,
          -156.43046
         ],
         "mode": "lines",
         "opacity": 0.0720030349013657,
         "text": "From: Lihue Airport<br>To: Kahului Airport<br>Avg. Delay: 2.16 mins",
         "type": "scattergeo"
        },
        {
         "lat": [
          37.72129,
          21.31869
         ],
         "line": {
          "color": "#4682B4",
          "width": 1
         },
         "locationmode": "USA-states",
         "lon": [
          -122.22072,
          -157.92241
         ],
         "mode": "lines",
         "opacity": 0.14702920443101714,
         "text": "From: Oakland International Airport<br>To: Honolulu International Airport<br>Avg. Delay: 4.41 mins",
         "type": "scattergeo"
        },
        {
         "lat": [
          37.72129,
          19.738770000000002
         ],
         "line": {
          "color": "#4682B4",
          "width": 1
         },
         "locationmode": "USA-states",
         "lon": [
          -122.22072,
          -156.04563000000002
         ],
         "mode": "lines",
         "opacity": 0.2895061728395062,
         "text": "From: Oakland International Airport<br>To: Kona International Airport at Keahole<br>Avg. Delay: 8.68 mins",
         "type": "scattergeo"
        },
        {
         "lat": [
          37.72129,
          21.97598
         ],
         "line": {
          "color": "#4682B4",
          "width": 1
         },
         "locationmode": "USA-states",
         "lon": [
          -122.22072,
          -159.33896000000001
         ],
         "mode": "lines",
         "opacity": 0.4652482269503546,
         "text": "From: Oakland International Airport<br>To: Lihue Airport<br>Avg. Delay: 13.95 mins",
         "type": "scattergeo"
        },
        {
         "lat": [
          37.72129,
          20.89865
         ],
         "line": {
          "color": "#4682B4",
          "width": 1
         },
         "locationmode": "USA-states",
         "lon": [
          -122.22072,
          -156.43046
         ],
         "mode": "lines",
         "opacity": 0.21151515151515152,
         "text": "From: Oakland International Airport<br>To: Kahului Airport<br>Avg. Delay: 6.34 mins",
         "type": "scattergeo"
        },
        {
         "lat": [
          20.89865,
          21.31869
         ],
         "line": {
          "color": "#4682B4",
          "width": 1
         },
         "locationmode": "USA-states",
         "lon": [
          -156.43046,
          -157.92241
         ],
         "mode": "lines",
         "opacity": 0.11980728914691179,
         "text": "From: Kahului Airport<br>To: Honolulu International Airport<br>Avg. Delay: 3.59 mins",
         "type": "scattergeo"
        },
        {
         "lat": [
          20.89865,
          19.72026
         ],
         "line": {
          "color": "#4682B4",
          "width": 1
         },
         "locationmode": "USA-states",
         "lon": [
          -156.43046,
          -155.04847
         ],
         "mode": "lines",
         "opacity": 0,
         "text": "From: Kahului Airport<br>To: Hilo International Airport<br>Avg. Delay: -0.09 mins",
         "type": "scattergeo"
        },
        {
         "lat": [
          20.89865,
          19.738770000000002
         ],
         "line": {
          "color": "#4682B4",
          "width": 1
         },
         "locationmode": "USA-states",
         "lon": [
          -156.43046,
          -156.04563000000002
         ],
         "mode": "lines",
         "opacity": 0.0848075348075348,
         "text": "From: Kahului Airport<br>To: Kona International Airport at Keahole<br>Avg. Delay: 2.54 mins",
         "type": "scattergeo"
        },
        {
         "lat": [
          20.89865,
          33.94254
         ],
         "line": {
          "color": "#4682B4",
          "width": 1
         },
         "locationmode": "USA-states",
         "lon": [
          -156.43046,
          -118.40807
         ],
         "mode": "lines",
         "opacity": 0,
         "text": "From: Kahului Airport<br>To: Los Angeles International Airport<br>Avg. Delay: -2.12 mins",
         "type": "scattergeo"
        },
        {
         "lat": [
          20.89865,
          21.97598
         ],
         "line": {
          "color": "#4682B4",
          "width": 1
         },
         "locationmode": "USA-states",
         "lon": [
          -156.43046,
          -159.33896000000001
         ],
         "mode": "lines",
         "opacity": 0.13734544536966944,
         "text": "From: Kahului Airport<br>To: Lihue Airport<br>Avg. Delay: 4.12 mins",
         "type": "scattergeo"
        },
        {
         "lat": [
          20.89865,
          37.72129
         ],
         "line": {
          "color": "#4682B4",
          "width": 1
         },
         "locationmode": "USA-states",
         "lon": [
          -156.43046,
          -122.22072
         ],
         "mode": "lines",
         "opacity": 0.1784848484848485,
         "text": "From: Kahului Airport<br>To: Oakland International Airport<br>Avg. Delay: 5.35 mins",
         "type": "scattergeo"
        },
        {
         "lat": [
          20.89865,
          47.44898
         ],
         "line": {
          "color": "#4682B4",
          "width": 1
         },
         "locationmode": "USA-states",
         "lon": [
          -156.43046,
          -122.30931000000001
         ],
         "mode": "lines",
         "opacity": 0.3094810379241517,
         "text": "From: Kahului Airport<br>To: Seattle-Tacoma International Airport<br>Avg. Delay: 9.28 mins",
         "type": "scattergeo"
        },
        {
         "lat": [
          20.89865,
          37.619
         ],
         "line": {
          "color": "#4682B4",
          "width": 1
         },
         "locationmode": "USA-states",
         "lon": [
          -156.43046,
          -122.37483999999999
         ],
         "mode": "lines",
         "opacity": 0,
         "text": "From: Kahului Airport<br>To: San Francisco International Airport<br>Avg. Delay: -2.67 mins",
         "type": "scattergeo"
        },
        {
         "lat": [
          20.89865,
          37.36186
         ],
         "line": {
          "color": "#4682B4",
          "width": 1
         },
         "locationmode": "USA-states",
         "lon": [
          -156.43046,
          -121.92901
         ],
         "mode": "lines",
         "opacity": 0.08218218218218218,
         "text": "From: Kahului Airport<br>To: Norman Y. Mineta San José International Airport<br>Avg. Delay: 2.46 mins",
         "type": "scattergeo"
        },
        {
         "lat": [
          45.58872,
          21.31869
         ],
         "line": {
          "color": "#4682B4",
          "width": 1
         },
         "locationmode": "USA-states",
         "lon": [
          -122.5975,
          -157.92241
         ],
         "mode": "lines",
         "opacity": 0.08562874251497006,
         "text": "From: Portland International Airport<br>To: Honolulu International Airport<br>Avg. Delay: 2.56 mins",
         "type": "scattergeo"
        },
        {
         "lat": [
          33.43417,
          21.31869
         ],
         "line": {
          "color": "#4682B4",
          "width": 1
         },
         "locationmode": "USA-states",
         "lon": [
          -112.00806000000001,
          -157.92241
         ],
         "mode": "lines",
         "opacity": 0.2552552552552553,
         "text": "From: Phoenix Sky Harbor International Airport<br>To: Honolulu International Airport<br>Avg. Delay: 7.65 mins",
         "type": "scattergeo"
        },
        {
         "lat": [
          14.33102,
          21.31869
         ],
         "line": {
          "color": "#4682B4",
          "width": 1
         },
         "locationmode": "USA-states",
         "lon": [
          -170.71053,
          -157.92241
         ],
         "mode": "lines",
         "opacity": 0.7166666666666667,
         "text": "From: Pago Pago International Airport (Tafuna Airport)<br>To: Honolulu International Airport<br>Avg. Delay: 21.5 mins",
         "type": "scattergeo"
        },
        {
         "lat": [
          32.73356,
          21.31869
         ],
         "line": {
          "color": "#4682B4",
          "width": 1
         },
         "locationmode": "USA-states",
         "lon": [
          -117.18966,
          -157.92241
         ],
         "mode": "lines",
         "opacity": 0.36506986027944116,
         "text": "From: San Diego International Airport (Lindbergh Field)<br>To: Honolulu International Airport<br>Avg. Delay: 10.95 mins",
         "type": "scattergeo"
        },
        {
         "lat": [
          47.44898,
          21.31869
         ],
         "line": {
          "color": "#4682B4",
          "width": 1
         },
         "locationmode": "USA-states",
         "lon": [
          -122.30931000000001,
          -157.92241
         ],
         "mode": "lines",
         "opacity": 0.17265469061876246,
         "text": "From: Seattle-Tacoma International Airport<br>To: Honolulu International Airport<br>Avg. Delay: 5.17 mins",
         "type": "scattergeo"
        },
        {
         "lat": [
          47.44898,
          20.89865
         ],
         "line": {
          "color": "#4682B4",
          "width": 1
         },
         "locationmode": "USA-states",
         "lon": [
          -122.30931000000001,
          -156.43046
         ],
         "mode": "lines",
         "opacity": 0.43363363363363366,
         "text": "From: Seattle-Tacoma International Airport<br>To: Kahului Airport<br>Avg. Delay: 13.0 mins",
         "type": "scattergeo"
        },
        {
         "lat": [
          37.619,
          21.31869
         ],
         "line": {
          "color": "#4682B4",
          "width": 1
         },
         "locationmode": "USA-states",
         "lon": [
          -122.37483999999999,
          -157.92241
         ],
         "mode": "lines",
         "opacity": 0.5963073852295409,
         "text": "From: San Francisco International Airport<br>To: Honolulu International Airport<br>Avg. Delay: 17.88 mins",
         "type": "scattergeo"
        },
        {
         "lat": [
          37.619,
          20.89865
         ],
         "line": {
          "color": "#4682B4",
          "width": 1
         },
         "locationmode": "USA-states",
         "lon": [
          -122.37483999999999,
          -156.43046
         ],
         "mode": "lines",
         "opacity": 0.20851063829787234,
         "text": "From: San Francisco International Airport<br>To: Kahului Airport<br>Avg. Delay: 6.25 mins",
         "type": "scattergeo"
        },
        {
         "lat": [
          37.36186,
          21.31869
         ],
         "line": {
          "color": "#4682B4",
          "width": 1
         },
         "locationmode": "USA-states",
         "lon": [
          -121.92901,
          -157.92241
         ],
         "mode": "lines",
         "opacity": 0.33636363636363636,
         "text": "From: Norman Y. Mineta San José International Airport<br>To: Honolulu International Airport<br>Avg. Delay: 10.09 mins",
         "type": "scattergeo"
        },
        {
         "lat": [
          37.36186,
          20.89865
         ],
         "line": {
          "color": "#4682B4",
          "width": 1
         },
         "locationmode": "USA-states",
         "lon": [
          -121.92901,
          -156.43046
         ],
         "mode": "lines",
         "opacity": 0.19080808080808082,
         "text": "From: Norman Y. Mineta San José International Airport<br>To: Kahului Airport<br>Avg. Delay: 5.72 mins",
         "type": "scattergeo"
        },
        {
         "lat": [
          38.69542,
          21.31869
         ],
         "line": {
          "color": "#4682B4",
          "width": 1
         },
         "locationmode": "USA-states",
         "lon": [
          -121.59076999999999,
          -157.92241
         ],
         "mode": "lines",
         "opacity": 0.3071856287425149,
         "text": "From: Sacramento International Airport<br>To: Honolulu International Airport<br>Avg. Delay: 9.21 mins",
         "type": "scattergeo"
        }
       ],
       "layout": {
        "geo": {
         "lakecolor": "rgb(95,145,237)",
         "landcolor": "rgb(250,250,250)",
         "projection": {
          "type": "azimuthal equal area"
         },
         "scope": "north america",
         "showlakes": true,
         "showland": true
        },
        "showlegend": false,
        "template": {
         "data": {
          "bar": [
           {
            "error_x": {
             "color": "#2a3f5f"
            },
            "error_y": {
             "color": "#2a3f5f"
            },
            "marker": {
             "line": {
              "color": "#E5ECF6",
              "width": 0.5
             }
            },
            "type": "bar"
           }
          ],
          "barpolar": [
           {
            "marker": {
             "line": {
              "color": "#E5ECF6",
              "width": 0.5
             }
            },
            "type": "barpolar"
           }
          ],
          "carpet": [
           {
            "aaxis": {
             "endlinecolor": "#2a3f5f",
             "gridcolor": "white",
             "linecolor": "white",
             "minorgridcolor": "white",
             "startlinecolor": "#2a3f5f"
            },
            "baxis": {
             "endlinecolor": "#2a3f5f",
             "gridcolor": "white",
             "linecolor": "white",
             "minorgridcolor": "white",
             "startlinecolor": "#2a3f5f"
            },
            "type": "carpet"
           }
          ],
          "choropleth": [
           {
            "colorbar": {
             "outlinewidth": 0,
             "ticks": ""
            },
            "type": "choropleth"
           }
          ],
          "contour": [
           {
            "colorbar": {
             "outlinewidth": 0,
             "ticks": ""
            },
            "colorscale": [
             [
              0,
              "#0d0887"
             ],
             [
              0.1111111111111111,
              "#46039f"
             ],
             [
              0.2222222222222222,
              "#7201a8"
             ],
             [
              0.3333333333333333,
              "#9c179e"
             ],
             [
              0.4444444444444444,
              "#bd3786"
             ],
             [
              0.5555555555555556,
              "#d8576b"
             ],
             [
              0.6666666666666666,
              "#ed7953"
             ],
             [
              0.7777777777777778,
              "#fb9f3a"
             ],
             [
              0.8888888888888888,
              "#fdca26"
             ],
             [
              1,
              "#f0f921"
             ]
            ],
            "type": "contour"
           }
          ],
          "contourcarpet": [
           {
            "colorbar": {
             "outlinewidth": 0,
             "ticks": ""
            },
            "type": "contourcarpet"
           }
          ],
          "heatmap": [
           {
            "colorbar": {
             "outlinewidth": 0,
             "ticks": ""
            },
            "colorscale": [
             [
              0,
              "#0d0887"
             ],
             [
              0.1111111111111111,
              "#46039f"
             ],
             [
              0.2222222222222222,
              "#7201a8"
             ],
             [
              0.3333333333333333,
              "#9c179e"
             ],
             [
              0.4444444444444444,
              "#bd3786"
             ],
             [
              0.5555555555555556,
              "#d8576b"
             ],
             [
              0.6666666666666666,
              "#ed7953"
             ],
             [
              0.7777777777777778,
              "#fb9f3a"
             ],
             [
              0.8888888888888888,
              "#fdca26"
             ],
             [
              1,
              "#f0f921"
             ]
            ],
            "type": "heatmap"
           }
          ],
          "heatmapgl": [
           {
            "colorbar": {
             "outlinewidth": 0,
             "ticks": ""
            },
            "colorscale": [
             [
              0,
              "#0d0887"
             ],
             [
              0.1111111111111111,
              "#46039f"
             ],
             [
              0.2222222222222222,
              "#7201a8"
             ],
             [
              0.3333333333333333,
              "#9c179e"
             ],
             [
              0.4444444444444444,
              "#bd3786"
             ],
             [
              0.5555555555555556,
              "#d8576b"
             ],
             [
              0.6666666666666666,
              "#ed7953"
             ],
             [
              0.7777777777777778,
              "#fb9f3a"
             ],
             [
              0.8888888888888888,
              "#fdca26"
             ],
             [
              1,
              "#f0f921"
             ]
            ],
            "type": "heatmapgl"
           }
          ],
          "histogram": [
           {
            "marker": {
             "colorbar": {
              "outlinewidth": 0,
              "ticks": ""
             }
            },
            "type": "histogram"
           }
          ],
          "histogram2d": [
           {
            "colorbar": {
             "outlinewidth": 0,
             "ticks": ""
            },
            "colorscale": [
             [
              0,
              "#0d0887"
             ],
             [
              0.1111111111111111,
              "#46039f"
             ],
             [
              0.2222222222222222,
              "#7201a8"
             ],
             [
              0.3333333333333333,
              "#9c179e"
             ],
             [
              0.4444444444444444,
              "#bd3786"
             ],
             [
              0.5555555555555556,
              "#d8576b"
             ],
             [
              0.6666666666666666,
              "#ed7953"
             ],
             [
              0.7777777777777778,
              "#fb9f3a"
             ],
             [
              0.8888888888888888,
              "#fdca26"
             ],
             [
              1,
              "#f0f921"
             ]
            ],
            "type": "histogram2d"
           }
          ],
          "histogram2dcontour": [
           {
            "colorbar": {
             "outlinewidth": 0,
             "ticks": ""
            },
            "colorscale": [
             [
              0,
              "#0d0887"
             ],
             [
              0.1111111111111111,
              "#46039f"
             ],
             [
              0.2222222222222222,
              "#7201a8"
             ],
             [
              0.3333333333333333,
              "#9c179e"
             ],
             [
              0.4444444444444444,
              "#bd3786"
             ],
             [
              0.5555555555555556,
              "#d8576b"
             ],
             [
              0.6666666666666666,
              "#ed7953"
             ],
             [
              0.7777777777777778,
              "#fb9f3a"
             ],
             [
              0.8888888888888888,
              "#fdca26"
             ],
             [
              1,
              "#f0f921"
             ]
            ],
            "type": "histogram2dcontour"
           }
          ],
          "mesh3d": [
           {
            "colorbar": {
             "outlinewidth": 0,
             "ticks": ""
            },
            "type": "mesh3d"
           }
          ],
          "parcoords": [
           {
            "line": {
             "colorbar": {
              "outlinewidth": 0,
              "ticks": ""
             }
            },
            "type": "parcoords"
           }
          ],
          "pie": [
           {
            "automargin": true,
            "type": "pie"
           }
          ],
          "scatter": [
           {
            "marker": {
             "colorbar": {
              "outlinewidth": 0,
              "ticks": ""
             }
            },
            "type": "scatter"
           }
          ],
          "scatter3d": [
           {
            "line": {
             "colorbar": {
              "outlinewidth": 0,
              "ticks": ""
             }
            },
            "marker": {
             "colorbar": {
              "outlinewidth": 0,
              "ticks": ""
             }
            },
            "type": "scatter3d"
           }
          ],
          "scattercarpet": [
           {
            "marker": {
             "colorbar": {
              "outlinewidth": 0,
              "ticks": ""
             }
            },
            "type": "scattercarpet"
           }
          ],
          "scattergeo": [
           {
            "marker": {
             "colorbar": {
              "outlinewidth": 0,
              "ticks": ""
             }
            },
            "type": "scattergeo"
           }
          ],
          "scattergl": [
           {
            "marker": {
             "colorbar": {
              "outlinewidth": 0,
              "ticks": ""
             }
            },
            "type": "scattergl"
           }
          ],
          "scattermapbox": [
           {
            "marker": {
             "colorbar": {
              "outlinewidth": 0,
              "ticks": ""
             }
            },
            "type": "scattermapbox"
           }
          ],
          "scatterpolar": [
           {
            "marker": {
             "colorbar": {
              "outlinewidth": 0,
              "ticks": ""
             }
            },
            "type": "scatterpolar"
           }
          ],
          "scatterpolargl": [
           {
            "marker": {
             "colorbar": {
              "outlinewidth": 0,
              "ticks": ""
             }
            },
            "type": "scatterpolargl"
           }
          ],
          "scatterternary": [
           {
            "marker": {
             "colorbar": {
              "outlinewidth": 0,
              "ticks": ""
             }
            },
            "type": "scatterternary"
           }
          ],
          "surface": [
           {
            "colorbar": {
             "outlinewidth": 0,
             "ticks": ""
            },
            "colorscale": [
             [
              0,
              "#0d0887"
             ],
             [
              0.1111111111111111,
              "#46039f"
             ],
             [
              0.2222222222222222,
              "#7201a8"
             ],
             [
              0.3333333333333333,
              "#9c179e"
             ],
             [
              0.4444444444444444,
              "#bd3786"
             ],
             [
              0.5555555555555556,
              "#d8576b"
             ],
             [
              0.6666666666666666,
              "#ed7953"
             ],
             [
              0.7777777777777778,
              "#fb9f3a"
             ],
             [
              0.8888888888888888,
              "#fdca26"
             ],
             [
              1,
              "#f0f921"
             ]
            ],
            "type": "surface"
           }
          ],
          "table": [
           {
            "cells": {
             "fill": {
              "color": "#EBF0F8"
             },
             "line": {
              "color": "white"
             }
            },
            "header": {
             "fill": {
              "color": "#C8D4E3"
             },
             "line": {
              "color": "white"
             }
            },
            "type": "table"
           }
          ]
         },
         "layout": {
          "annotationdefaults": {
           "arrowcolor": "#2a3f5f",
           "arrowhead": 0,
           "arrowwidth": 1
          },
          "coloraxis": {
           "colorbar": {
            "outlinewidth": 0,
            "ticks": ""
           }
          },
          "colorscale": {
           "diverging": [
            [
             0,
             "#8e0152"
            ],
            [
             0.1,
             "#c51b7d"
            ],
            [
             0.2,
             "#de77ae"
            ],
            [
             0.3,
             "#f1b6da"
            ],
            [
             0.4,
             "#fde0ef"
            ],
            [
             0.5,
             "#f7f7f7"
            ],
            [
             0.6,
             "#e6f5d0"
            ],
            [
             0.7,
             "#b8e186"
            ],
            [
             0.8,
             "#7fbc41"
            ],
            [
             0.9,
             "#4d9221"
            ],
            [
             1,
             "#276419"
            ]
           ],
           "sequential": [
            [
             0,
             "#0d0887"
            ],
            [
             0.1111111111111111,
             "#46039f"
            ],
            [
             0.2222222222222222,
             "#7201a8"
            ],
            [
             0.3333333333333333,
             "#9c179e"
            ],
            [
             0.4444444444444444,
             "#bd3786"
            ],
            [
             0.5555555555555556,
             "#d8576b"
            ],
            [
             0.6666666666666666,
             "#ed7953"
            ],
            [
             0.7777777777777778,
             "#fb9f3a"
            ],
            [
             0.8888888888888888,
             "#fdca26"
            ],
            [
             1,
             "#f0f921"
            ]
           ],
           "sequentialminus": [
            [
             0,
             "#0d0887"
            ],
            [
             0.1111111111111111,
             "#46039f"
            ],
            [
             0.2222222222222222,
             "#7201a8"
            ],
            [
             0.3333333333333333,
             "#9c179e"
            ],
            [
             0.4444444444444444,
             "#bd3786"
            ],
            [
             0.5555555555555556,
             "#d8576b"
            ],
            [
             0.6666666666666666,
             "#ed7953"
            ],
            [
             0.7777777777777778,
             "#fb9f3a"
            ],
            [
             0.8888888888888888,
             "#fdca26"
            ],
            [
             1,
             "#f0f921"
            ]
           ]
          },
          "colorway": [
           "#636efa",
           "#EF553B",
           "#00cc96",
           "#ab63fa",
           "#FFA15A",
           "#19d3f3",
           "#FF6692",
           "#B6E880",
           "#FF97FF",
           "#FECB52"
          ],
          "font": {
           "color": "#2a3f5f"
          },
          "geo": {
           "bgcolor": "white",
           "lakecolor": "white",
           "landcolor": "#E5ECF6",
           "showlakes": true,
           "showland": true,
           "subunitcolor": "white"
          },
          "hoverlabel": {
           "align": "left"
          },
          "hovermode": "closest",
          "mapbox": {
           "style": "light"
          },
          "paper_bgcolor": "white",
          "plot_bgcolor": "#E5ECF6",
          "polar": {
           "angularaxis": {
            "gridcolor": "white",
            "linecolor": "white",
            "ticks": ""
           },
           "bgcolor": "#E5ECF6",
           "radialaxis": {
            "gridcolor": "white",
            "linecolor": "white",
            "ticks": ""
           }
          },
          "scene": {
           "xaxis": {
            "backgroundcolor": "#E5ECF6",
            "gridcolor": "white",
            "gridwidth": 2,
            "linecolor": "white",
            "showbackground": true,
            "ticks": "",
            "zerolinecolor": "white"
           },
           "yaxis": {
            "backgroundcolor": "#E5ECF6",
            "gridcolor": "white",
            "gridwidth": 2,
            "linecolor": "white",
            "showbackground": true,
            "ticks": "",
            "zerolinecolor": "white"
           },
           "zaxis": {
            "backgroundcolor": "#E5ECF6",
            "gridcolor": "white",
            "gridwidth": 2,
            "linecolor": "white",
            "showbackground": true,
            "ticks": "",
            "zerolinecolor": "white"
           }
          },
          "shapedefaults": {
           "line": {
            "color": "#2a3f5f"
           }
          },
          "ternary": {
           "aaxis": {
            "gridcolor": "white",
            "linecolor": "white",
            "ticks": ""
           },
           "baxis": {
            "gridcolor": "white",
            "linecolor": "white",
            "ticks": ""
           },
           "bgcolor": "#E5ECF6",
           "caxis": {
            "gridcolor": "white",
            "linecolor": "white",
            "ticks": ""
           }
          },
          "title": {
           "x": 0.05
          },
          "xaxis": {
           "automargin": true,
           "gridcolor": "white",
           "linecolor": "white",
           "ticks": "",
           "title": {
            "standoff": 15
           },
           "zerolinecolor": "white",
           "zerolinewidth": 2
          },
          "yaxis": {
           "automargin": true,
           "gridcolor": "white",
           "linecolor": "white",
           "ticks": "",
           "title": {
            "standoff": 15
           },
           "zerolinecolor": "white",
           "zerolinewidth": 2
          }
         }
        },
        "title": {
         "text": "Average Delay Time of Airline \"HA\" Route in 2015<br> Hover for value"
        }
       }
      },
      "text/html": [
       "<div>\n",
       "        \n",
       "        \n",
       "            <div id=\"4f5a8565-511f-488b-9c98-d2e5d934e42e\" class=\"plotly-graph-div\" style=\"height:525px; width:100%;\"></div>\n",
       "            <script type=\"text/javascript\">\n",
       "                require([\"plotly\"], function(Plotly) {\n",
       "                    window.PLOTLYENV=window.PLOTLYENV || {};\n",
       "                    \n",
       "                if (document.getElementById(\"4f5a8565-511f-488b-9c98-d2e5d934e42e\")) {\n",
       "                    Plotly.newPlot(\n",
       "                        '4f5a8565-511f-488b-9c98-d2e5d934e42e',\n",
       "                        [{\"lat\": [21.31869, 21.31869, 21.31869, 21.31869, 21.31869, 21.31869, 21.31869, 21.31869, 21.31869, 21.31869, 21.31869, 21.31869, 21.31869, 21.31869, 21.31869, 21.31869, 19.72026, 19.72026, 40.63975, 19.738770000000002, 19.738770000000002, 19.738770000000002, 19.738770000000002, 36.08036, 33.94254, 33.94254, 33.94254, 33.94254, 21.97598, 21.97598, 21.97598, 21.97598, 37.72129, 37.72129, 37.72129, 37.72129, 20.89865, 20.89865, 20.89865, 20.89865, 20.89865, 20.89865, 20.89865, 20.89865, 20.89865, 45.58872, 33.43417, 14.33102, 32.73356, 47.44898, 47.44898, 37.619, 37.619, 37.36186, 37.36186, 38.69542], \"lon\": [-157.92241, -157.92241, -157.92241, -157.92241, -157.92241, -157.92241, -157.92241, -157.92241, -157.92241, -157.92241, -157.92241, -157.92241, -157.92241, -157.92241, -157.92241, -157.92241, -155.04847, -155.04847, -73.77893, -156.04563000000002, -156.04563000000002, -156.04563000000002, -156.04563000000002, -115.15233, -118.40807, -118.40807, -118.40807, -118.40807, -159.33896000000001, -159.33896000000001, -159.33896000000001, -159.33896000000001, -122.22072, -122.22072, -122.22072, -122.22072, -156.43046, -156.43046, -156.43046, -156.43046, -156.43046, -156.43046, -156.43046, -156.43046, -156.43046, -122.5975, -112.00806000000001, -170.71053, -117.18966, -122.30931000000001, -122.30931000000001, -122.37483999999999, -122.37483999999999, -121.92901, -121.92901, -121.59076999999999], \"marker\": {\"color\": \"#FFD700\", \"line\": {\"color\": \"rgba(102,102,102)\", \"width\": 1}, \"opacity\": 0.8, \"size\": 6}, \"mode\": \"markers\", \"type\": \"scattergeo\"}, {\"lat\": [21.31869, 19.72026], \"line\": {\"color\": \"#4682B4\", \"width\": 1}, \"locationmode\": \"USA-states\", \"lon\": [-157.92241, -155.04847], \"mode\": \"lines\", \"opacity\": 0.046002228722663324, \"text\": \"From: Honolulu International Airport<br>To: Hilo International Airport<br>Avg. Delay: 1.38 mins\", \"type\": \"scattergeo\"}, {\"lat\": [21.31869, 40.63975], \"line\": {\"color\": \"#4682B4\", \"width\": 1}, \"locationmode\": \"USA-states\", \"lon\": [-157.92241, -73.77893], \"mode\": \"lines\", \"opacity\": 0.3420932878270762, \"text\": \"From: Honolulu International Airport<br>To: John F. Kennedy International Airport\\u00a0(New York International Airport)<br>Avg. Delay: 10.26 mins\", \"type\": \"scattergeo\"}, {\"lat\": [21.31869, 19.738770000000002], \"line\": {\"color\": \"#4682B4\", \"width\": 1}, \"locationmode\": \"USA-states\", \"lon\": [-157.92241, -156.04563000000002], \"mode\": \"lines\", \"opacity\": 0.02186340596749752, \"text\": \"From: Honolulu International Airport<br>To: Kona International Airport at Keahole<br>Avg. Delay: 0.65 mins\", \"type\": \"scattergeo\"}, {\"lat\": [21.31869, 36.08036], \"line\": {\"color\": \"#4682B4\", \"width\": 1}, \"locationmode\": \"USA-states\", \"lon\": [-157.92241, -115.15233], \"mode\": \"lines\", \"opacity\": 0, \"text\": \"From: Honolulu International Airport<br>To: McCarran International Airport<br>Avg. Delay: -2.82 mins\", \"type\": \"scattergeo\"}, {\"lat\": [21.31869, 33.94254], \"line\": {\"color\": \"#4682B4\", \"width\": 1}, \"locationmode\": \"USA-states\", \"lon\": [-157.92241, -118.40807], \"mode\": \"lines\", \"opacity\": 0, \"text\": \"From: Honolulu International Airport<br>To: Los Angeles International Airport<br>Avg. Delay: -7.28 mins\", \"type\": \"scattergeo\"}, {\"lat\": [21.31869, 21.97598], \"line\": {\"color\": \"#4682B4\", \"width\": 1}, \"locationmode\": \"USA-states\", \"lon\": [-157.92241, -159.33896000000001], \"mode\": \"lines\", \"opacity\": 0.00911111111111111, \"text\": \"From: Honolulu International Airport<br>To: Lihue Airport<br>Avg. Delay: 0.27 mins\", \"type\": \"scattergeo\"}, {\"lat\": [21.31869, 37.72129], \"line\": {\"color\": \"#4682B4\", \"width\": 1}, \"locationmode\": \"USA-states\", \"lon\": [-157.92241, -122.22072], \"mode\": \"lines\", \"opacity\": 0, \"text\": \"From: Honolulu International Airport<br>To: Oakland International Airport<br>Avg. Delay: -1.75 mins\", \"type\": \"scattergeo\"}, {\"lat\": [21.31869, 20.89865], \"line\": {\"color\": \"#4682B4\", \"width\": 1}, \"locationmode\": \"USA-states\", \"lon\": [-157.92241, -156.43046], \"mode\": \"lines\", \"opacity\": 0.05379577977201067, \"text\": \"From: Honolulu International Airport<br>To: Kahului Airport<br>Avg. Delay: 1.61 mins\", \"type\": \"scattergeo\"}, {\"lat\": [21.31869, 45.58872], \"line\": {\"color\": \"#4682B4\", \"width\": 1}, \"locationmode\": \"USA-states\", \"lon\": [-157.92241, -122.5975], \"mode\": \"lines\", \"opacity\": 0.0811377245508982, \"text\": \"From: Honolulu International Airport<br>To: Portland International Airport<br>Avg. Delay: 2.43 mins\", \"type\": \"scattergeo\"}, {\"lat\": [21.31869, 33.43417], \"line\": {\"color\": \"#4682B4\", \"width\": 1}, \"locationmode\": \"USA-states\", \"lon\": [-157.92241, -112.00806000000001], \"mode\": \"lines\", \"opacity\": 0.25768463073852294, \"text\": \"From: Honolulu International Airport<br>To: Phoenix Sky Harbor International Airport<br>Avg. Delay: 7.73 mins\", \"type\": \"scattergeo\"}, {\"lat\": [21.31869, 14.33102], \"line\": {\"color\": \"#4682B4\", \"width\": 1}, \"locationmode\": \"USA-states\", \"lon\": [-157.92241, -170.71053], \"mode\": \"lines\", \"opacity\": 0.2467289719626168, \"text\": \"From: Honolulu International Airport<br>To: Pago Pago International Airport (Tafuna Airport)<br>Avg. Delay: 7.4 mins\", \"type\": \"scattergeo\"}, {\"lat\": [21.31869, 32.73356], \"line\": {\"color\": \"#4682B4\", \"width\": 1}, \"locationmode\": \"USA-states\", \"lon\": [-157.92241, -117.18966], \"mode\": \"lines\", \"opacity\": 0.18755020080321286, \"text\": \"From: Honolulu International Airport<br>To: San Diego International Airport\\u00a0(Lindbergh Field)<br>Avg. Delay: 5.62 mins\", \"type\": \"scattergeo\"}, {\"lat\": [21.31869, 47.44898], \"line\": {\"color\": \"#4682B4\", \"width\": 1}, \"locationmode\": \"USA-states\", \"lon\": [-157.92241, -122.30931000000001], \"mode\": \"lines\", \"opacity\": 0.08654618473895583, \"text\": \"From: Honolulu International Airport<br>To: Seattle-Tacoma International Airport<br>Avg. Delay: 2.59 mins\", \"type\": \"scattergeo\"}, {\"lat\": [21.31869, 37.619], \"line\": {\"color\": \"#4682B4\", \"width\": 1}, \"locationmode\": \"USA-states\", \"lon\": [-157.92241, -122.37483999999999], \"mode\": \"lines\", \"opacity\": 0.10582329317269076, \"text\": \"From: Honolulu International Airport<br>To: San Francisco International Airport<br>Avg. Delay: 3.17 mins\", \"type\": \"scattergeo\"}, {\"lat\": [21.31869, 37.36186], \"line\": {\"color\": \"#4682B4\", \"width\": 1}, \"locationmode\": \"USA-states\", \"lon\": [-157.92241, -121.92901], \"mode\": \"lines\", \"opacity\": 0.13949494949494948, \"text\": \"From: Honolulu International Airport<br>To: Norman Y. Mineta San Jos\\u00e9 International Airport<br>Avg. Delay: 4.18 mins\", \"type\": \"scattergeo\"}, {\"lat\": [21.31869, 38.69542], \"line\": {\"color\": \"#4682B4\", \"width\": 1}, \"locationmode\": \"USA-states\", \"lon\": [-157.92241, -121.59076999999999], \"mode\": \"lines\", \"opacity\": 0.24367469879518072, \"text\": \"From: Honolulu International Airport<br>To: Sacramento International Airport<br>Avg. Delay: 7.31 mins\", \"type\": \"scattergeo\"}, {\"lat\": [19.72026, 21.31869], \"line\": {\"color\": \"#4682B4\", \"width\": 1}, \"locationmode\": \"USA-states\", \"lon\": [-155.04847, -157.92241], \"mode\": \"lines\", \"opacity\": 0.020891675374433993, \"text\": \"From: Hilo International Airport<br>To: Honolulu International Airport<br>Avg. Delay: 0.62 mins\", \"type\": \"scattergeo\"}, {\"lat\": [19.72026, 20.89865], \"line\": {\"color\": \"#4682B4\", \"width\": 1}, \"locationmode\": \"USA-states\", \"lon\": [-155.04847, -156.43046], \"mode\": \"lines\", \"opacity\": 0, \"text\": \"From: Hilo International Airport<br>To: Kahului Airport<br>Avg. Delay: -1.16 mins\", \"type\": \"scattergeo\"}, {\"lat\": [40.63975, 21.31869], \"line\": {\"color\": \"#4682B4\", \"width\": 1}, \"locationmode\": \"USA-states\", \"lon\": [-73.77893, -157.92241], \"mode\": \"lines\", \"opacity\": 0.7491467576791809, \"text\": \"From: John F. Kennedy International Airport\\u00a0(New York International Airport)<br>To: Honolulu International Airport<br>Avg. Delay: 22.47 mins\", \"type\": \"scattergeo\"}, {\"lat\": [19.738770000000002, 21.31869], \"line\": {\"color\": \"#4682B4\", \"width\": 1}, \"locationmode\": \"USA-states\", \"lon\": [-156.04563000000002, -157.92241], \"mode\": \"lines\", \"opacity\": 0.06527602191319005, \"text\": \"From: Kona International Airport at Keahole<br>To: Honolulu International Airport<br>Avg. Delay: 1.95 mins\", \"type\": \"scattergeo\"}, {\"lat\": [19.738770000000002, 33.94254], \"line\": {\"color\": \"#4682B4\", \"width\": 1}, \"locationmode\": \"USA-states\", \"lon\": [-156.04563000000002, -118.40807], \"mode\": \"lines\", \"opacity\": 0.17750000000000002, \"text\": \"From: Kona International Airport at Keahole<br>To: Los Angeles International Airport<br>Avg. Delay: 5.32 mins\", \"type\": \"scattergeo\"}, {\"lat\": [19.738770000000002, 37.72129], \"line\": {\"color\": \"#4682B4\", \"width\": 1}, \"locationmode\": \"USA-states\", \"lon\": [-156.04563000000002, -122.22072], \"mode\": \"lines\", \"opacity\": 0.09938271604938272, \"text\": \"From: Kona International Airport at Keahole<br>To: Oakland International Airport<br>Avg. Delay: 2.98 mins\", \"type\": \"scattergeo\"}, {\"lat\": [19.738770000000002, 20.89865], \"line\": {\"color\": \"#4682B4\", \"width\": 1}, \"locationmode\": \"USA-states\", \"lon\": [-156.04563000000002, -156.43046], \"mode\": \"lines\", \"opacity\": 0.033450019447685726, \"text\": \"From: Kona International Airport at Keahole<br>To: Kahului Airport<br>Avg. Delay: 1.0 mins\", \"type\": \"scattergeo\"}, {\"lat\": [36.08036, 21.31869], \"line\": {\"color\": \"#4682B4\", \"width\": 1}, \"locationmode\": \"USA-states\", \"lon\": [-115.15233, -157.92241], \"mode\": \"lines\", \"opacity\": 0.32854785478547854, \"text\": \"From: McCarran International Airport<br>To: Honolulu International Airport<br>Avg. Delay: 9.85 mins\", \"type\": \"scattergeo\"}, {\"lat\": [33.94254, 21.31869], \"line\": {\"color\": \"#4682B4\", \"width\": 1}, \"locationmode\": \"USA-states\", \"lon\": [-118.40807, -157.92241], \"mode\": \"lines\", \"opacity\": 0.04444444444444444, \"text\": \"From: Los Angeles International Airport<br>To: Honolulu International Airport<br>Avg. Delay: 1.33 mins\", \"type\": \"scattergeo\"}, {\"lat\": [33.94254, 19.738770000000002], \"line\": {\"color\": \"#4682B4\", \"width\": 1}, \"locationmode\": \"USA-states\", \"lon\": [-118.40807, -156.04563000000002], \"mode\": \"lines\", \"opacity\": 0, \"text\": \"From: Los Angeles International Airport<br>To: Kona International Airport at Keahole<br>Avg. Delay: -16.07 mins\", \"type\": \"scattergeo\"}, {\"lat\": [33.94254, 21.97598], \"line\": {\"color\": \"#4682B4\", \"width\": 1}, \"locationmode\": \"USA-states\", \"lon\": [-118.40807, -159.33896000000001], \"mode\": \"lines\", \"opacity\": 0, \"text\": \"From: Los Angeles International Airport<br>To: Lihue Airport<br>Avg. Delay: -0.64 mins\", \"type\": \"scattergeo\"}, {\"lat\": [33.94254, 20.89865], \"line\": {\"color\": \"#4682B4\", \"width\": 1}, \"locationmode\": \"USA-states\", \"lon\": [-118.40807, -156.43046], \"mode\": \"lines\", \"opacity\": 0.20685142417244032, \"text\": \"From: Los Angeles International Airport<br>To: Kahului Airport<br>Avg. Delay: 6.2 mins\", \"type\": \"scattergeo\"}, {\"lat\": [21.97598, 21.31869], \"line\": {\"color\": \"#4682B4\", \"width\": 1}, \"locationmode\": \"USA-states\", \"lon\": [-159.33896000000001, -157.92241], \"mode\": \"lines\", \"opacity\": 0.03183347590533219, \"text\": \"From: Lihue Airport<br>To: Honolulu International Airport<br>Avg. Delay: 0.95 mins\", \"type\": \"scattergeo\"}, {\"lat\": [21.97598, 33.94254], \"line\": {\"color\": \"#4682B4\", \"width\": 1}, \"locationmode\": \"USA-states\", \"lon\": [-159.33896000000001, -118.40807], \"mode\": \"lines\", \"opacity\": 0.34684684684684686, \"text\": \"From: Lihue Airport<br>To: Los Angeles International Airport<br>Avg. Delay: 10.4 mins\", \"type\": \"scattergeo\"}, {\"lat\": [21.97598, 37.72129], \"line\": {\"color\": \"#4682B4\", \"width\": 1}, \"locationmode\": \"USA-states\", \"lon\": [-159.33896000000001, -122.22072], \"mode\": \"lines\", \"opacity\": 0.16594202898550725, \"text\": \"From: Lihue Airport<br>To: Oakland International Airport<br>Avg. Delay: 4.97 mins\", \"type\": \"scattergeo\"}, {\"lat\": [21.97598, 20.89865], \"line\": {\"color\": \"#4682B4\", \"width\": 1}, \"locationmode\": \"USA-states\", \"lon\": [-159.33896000000001, -156.43046], \"mode\": \"lines\", \"opacity\": 0.0720030349013657, \"text\": \"From: Lihue Airport<br>To: Kahului Airport<br>Avg. Delay: 2.16 mins\", \"type\": \"scattergeo\"}, {\"lat\": [37.72129, 21.31869], \"line\": {\"color\": \"#4682B4\", \"width\": 1}, \"locationmode\": \"USA-states\", \"lon\": [-122.22072, -157.92241], \"mode\": \"lines\", \"opacity\": 0.14702920443101714, \"text\": \"From: Oakland International Airport<br>To: Honolulu International Airport<br>Avg. Delay: 4.41 mins\", \"type\": \"scattergeo\"}, {\"lat\": [37.72129, 19.738770000000002], \"line\": {\"color\": \"#4682B4\", \"width\": 1}, \"locationmode\": \"USA-states\", \"lon\": [-122.22072, -156.04563000000002], \"mode\": \"lines\", \"opacity\": 0.2895061728395062, \"text\": \"From: Oakland International Airport<br>To: Kona International Airport at Keahole<br>Avg. Delay: 8.68 mins\", \"type\": \"scattergeo\"}, {\"lat\": [37.72129, 21.97598], \"line\": {\"color\": \"#4682B4\", \"width\": 1}, \"locationmode\": \"USA-states\", \"lon\": [-122.22072, -159.33896000000001], \"mode\": \"lines\", \"opacity\": 0.4652482269503546, \"text\": \"From: Oakland International Airport<br>To: Lihue Airport<br>Avg. Delay: 13.95 mins\", \"type\": \"scattergeo\"}, {\"lat\": [37.72129, 20.89865], \"line\": {\"color\": \"#4682B4\", \"width\": 1}, \"locationmode\": \"USA-states\", \"lon\": [-122.22072, -156.43046], \"mode\": \"lines\", \"opacity\": 0.21151515151515152, \"text\": \"From: Oakland International Airport<br>To: Kahului Airport<br>Avg. Delay: 6.34 mins\", \"type\": \"scattergeo\"}, {\"lat\": [20.89865, 21.31869], \"line\": {\"color\": \"#4682B4\", \"width\": 1}, \"locationmode\": \"USA-states\", \"lon\": [-156.43046, -157.92241], \"mode\": \"lines\", \"opacity\": 0.11980728914691179, \"text\": \"From: Kahului Airport<br>To: Honolulu International Airport<br>Avg. Delay: 3.59 mins\", \"type\": \"scattergeo\"}, {\"lat\": [20.89865, 19.72026], \"line\": {\"color\": \"#4682B4\", \"width\": 1}, \"locationmode\": \"USA-states\", \"lon\": [-156.43046, -155.04847], \"mode\": \"lines\", \"opacity\": 0, \"text\": \"From: Kahului Airport<br>To: Hilo International Airport<br>Avg. Delay: -0.09 mins\", \"type\": \"scattergeo\"}, {\"lat\": [20.89865, 19.738770000000002], \"line\": {\"color\": \"#4682B4\", \"width\": 1}, \"locationmode\": \"USA-states\", \"lon\": [-156.43046, -156.04563000000002], \"mode\": \"lines\", \"opacity\": 0.0848075348075348, \"text\": \"From: Kahului Airport<br>To: Kona International Airport at Keahole<br>Avg. Delay: 2.54 mins\", \"type\": \"scattergeo\"}, {\"lat\": [20.89865, 33.94254], \"line\": {\"color\": \"#4682B4\", \"width\": 1}, \"locationmode\": \"USA-states\", \"lon\": [-156.43046, -118.40807], \"mode\": \"lines\", \"opacity\": 0, \"text\": \"From: Kahului Airport<br>To: Los Angeles International Airport<br>Avg. Delay: -2.12 mins\", \"type\": \"scattergeo\"}, {\"lat\": [20.89865, 21.97598], \"line\": {\"color\": \"#4682B4\", \"width\": 1}, \"locationmode\": \"USA-states\", \"lon\": [-156.43046, -159.33896000000001], \"mode\": \"lines\", \"opacity\": 0.13734544536966944, \"text\": \"From: Kahului Airport<br>To: Lihue Airport<br>Avg. Delay: 4.12 mins\", \"type\": \"scattergeo\"}, {\"lat\": [20.89865, 37.72129], \"line\": {\"color\": \"#4682B4\", \"width\": 1}, \"locationmode\": \"USA-states\", \"lon\": [-156.43046, -122.22072], \"mode\": \"lines\", \"opacity\": 0.1784848484848485, \"text\": \"From: Kahului Airport<br>To: Oakland International Airport<br>Avg. Delay: 5.35 mins\", \"type\": \"scattergeo\"}, {\"lat\": [20.89865, 47.44898], \"line\": {\"color\": \"#4682B4\", \"width\": 1}, \"locationmode\": \"USA-states\", \"lon\": [-156.43046, -122.30931000000001], \"mode\": \"lines\", \"opacity\": 0.3094810379241517, \"text\": \"From: Kahului Airport<br>To: Seattle-Tacoma International Airport<br>Avg. Delay: 9.28 mins\", \"type\": \"scattergeo\"}, {\"lat\": [20.89865, 37.619], \"line\": {\"color\": \"#4682B4\", \"width\": 1}, \"locationmode\": \"USA-states\", \"lon\": [-156.43046, -122.37483999999999], \"mode\": \"lines\", \"opacity\": 0, \"text\": \"From: Kahului Airport<br>To: San Francisco International Airport<br>Avg. Delay: -2.67 mins\", \"type\": \"scattergeo\"}, {\"lat\": [20.89865, 37.36186], \"line\": {\"color\": \"#4682B4\", \"width\": 1}, \"locationmode\": \"USA-states\", \"lon\": [-156.43046, -121.92901], \"mode\": \"lines\", \"opacity\": 0.08218218218218218, \"text\": \"From: Kahului Airport<br>To: Norman Y. Mineta San Jos\\u00e9 International Airport<br>Avg. Delay: 2.46 mins\", \"type\": \"scattergeo\"}, {\"lat\": [45.58872, 21.31869], \"line\": {\"color\": \"#4682B4\", \"width\": 1}, \"locationmode\": \"USA-states\", \"lon\": [-122.5975, -157.92241], \"mode\": \"lines\", \"opacity\": 0.08562874251497006, \"text\": \"From: Portland International Airport<br>To: Honolulu International Airport<br>Avg. Delay: 2.56 mins\", \"type\": \"scattergeo\"}, {\"lat\": [33.43417, 21.31869], \"line\": {\"color\": \"#4682B4\", \"width\": 1}, \"locationmode\": \"USA-states\", \"lon\": [-112.00806000000001, -157.92241], \"mode\": \"lines\", \"opacity\": 0.2552552552552553, \"text\": \"From: Phoenix Sky Harbor International Airport<br>To: Honolulu International Airport<br>Avg. Delay: 7.65 mins\", \"type\": \"scattergeo\"}, {\"lat\": [14.33102, 21.31869], \"line\": {\"color\": \"#4682B4\", \"width\": 1}, \"locationmode\": \"USA-states\", \"lon\": [-170.71053, -157.92241], \"mode\": \"lines\", \"opacity\": 0.7166666666666667, \"text\": \"From: Pago Pago International Airport (Tafuna Airport)<br>To: Honolulu International Airport<br>Avg. Delay: 21.5 mins\", \"type\": \"scattergeo\"}, {\"lat\": [32.73356, 21.31869], \"line\": {\"color\": \"#4682B4\", \"width\": 1}, \"locationmode\": \"USA-states\", \"lon\": [-117.18966, -157.92241], \"mode\": \"lines\", \"opacity\": 0.36506986027944116, \"text\": \"From: San Diego International Airport\\u00a0(Lindbergh Field)<br>To: Honolulu International Airport<br>Avg. Delay: 10.95 mins\", \"type\": \"scattergeo\"}, {\"lat\": [47.44898, 21.31869], \"line\": {\"color\": \"#4682B4\", \"width\": 1}, \"locationmode\": \"USA-states\", \"lon\": [-122.30931000000001, -157.92241], \"mode\": \"lines\", \"opacity\": 0.17265469061876246, \"text\": \"From: Seattle-Tacoma International Airport<br>To: Honolulu International Airport<br>Avg. Delay: 5.17 mins\", \"type\": \"scattergeo\"}, {\"lat\": [47.44898, 20.89865], \"line\": {\"color\": \"#4682B4\", \"width\": 1}, \"locationmode\": \"USA-states\", \"lon\": [-122.30931000000001, -156.43046], \"mode\": \"lines\", \"opacity\": 0.43363363363363366, \"text\": \"From: Seattle-Tacoma International Airport<br>To: Kahului Airport<br>Avg. Delay: 13.0 mins\", \"type\": \"scattergeo\"}, {\"lat\": [37.619, 21.31869], \"line\": {\"color\": \"#4682B4\", \"width\": 1}, \"locationmode\": \"USA-states\", \"lon\": [-122.37483999999999, -157.92241], \"mode\": \"lines\", \"opacity\": 0.5963073852295409, \"text\": \"From: San Francisco International Airport<br>To: Honolulu International Airport<br>Avg. Delay: 17.88 mins\", \"type\": \"scattergeo\"}, {\"lat\": [37.619, 20.89865], \"line\": {\"color\": \"#4682B4\", \"width\": 1}, \"locationmode\": \"USA-states\", \"lon\": [-122.37483999999999, -156.43046], \"mode\": \"lines\", \"opacity\": 0.20851063829787234, \"text\": \"From: San Francisco International Airport<br>To: Kahului Airport<br>Avg. Delay: 6.25 mins\", \"type\": \"scattergeo\"}, {\"lat\": [37.36186, 21.31869], \"line\": {\"color\": \"#4682B4\", \"width\": 1}, \"locationmode\": \"USA-states\", \"lon\": [-121.92901, -157.92241], \"mode\": \"lines\", \"opacity\": 0.33636363636363636, \"text\": \"From: Norman Y. Mineta San Jos\\u00e9 International Airport<br>To: Honolulu International Airport<br>Avg. Delay: 10.09 mins\", \"type\": \"scattergeo\"}, {\"lat\": [37.36186, 20.89865], \"line\": {\"color\": \"#4682B4\", \"width\": 1}, \"locationmode\": \"USA-states\", \"lon\": [-121.92901, -156.43046], \"mode\": \"lines\", \"opacity\": 0.19080808080808082, \"text\": \"From: Norman Y. Mineta San Jos\\u00e9 International Airport<br>To: Kahului Airport<br>Avg. Delay: 5.72 mins\", \"type\": \"scattergeo\"}, {\"lat\": [38.69542, 21.31869], \"line\": {\"color\": \"#4682B4\", \"width\": 1}, \"locationmode\": \"USA-states\", \"lon\": [-121.59076999999999, -157.92241], \"mode\": \"lines\", \"opacity\": 0.3071856287425149, \"text\": \"From: Sacramento International Airport<br>To: Honolulu International Airport<br>Avg. Delay: 9.21 mins\", \"type\": \"scattergeo\"}],\n",
       "                        {\"geo\": {\"lakecolor\": \"rgb(95,145,237)\", \"landcolor\": \"rgb(250,250,250)\", \"projection\": {\"type\": \"azimuthal equal area\"}, \"scope\": \"north america\", \"showlakes\": true, \"showland\": true}, \"showlegend\": false, \"template\": {\"data\": {\"bar\": [{\"error_x\": {\"color\": \"#2a3f5f\"}, \"error_y\": {\"color\": \"#2a3f5f\"}, \"marker\": {\"line\": {\"color\": \"#E5ECF6\", \"width\": 0.5}}, \"type\": \"bar\"}], \"barpolar\": [{\"marker\": {\"line\": {\"color\": \"#E5ECF6\", \"width\": 0.5}}, \"type\": \"barpolar\"}], \"carpet\": [{\"aaxis\": {\"endlinecolor\": \"#2a3f5f\", \"gridcolor\": \"white\", \"linecolor\": \"white\", \"minorgridcolor\": \"white\", \"startlinecolor\": \"#2a3f5f\"}, \"baxis\": {\"endlinecolor\": \"#2a3f5f\", \"gridcolor\": \"white\", \"linecolor\": \"white\", \"minorgridcolor\": \"white\", \"startlinecolor\": \"#2a3f5f\"}, \"type\": \"carpet\"}], \"choropleth\": [{\"colorbar\": {\"outlinewidth\": 0, \"ticks\": \"\"}, \"type\": \"choropleth\"}], \"contour\": [{\"colorbar\": {\"outlinewidth\": 0, \"ticks\": \"\"}, \"colorscale\": [[0.0, \"#0d0887\"], [0.1111111111111111, \"#46039f\"], [0.2222222222222222, \"#7201a8\"], [0.3333333333333333, \"#9c179e\"], [0.4444444444444444, \"#bd3786\"], [0.5555555555555556, \"#d8576b\"], [0.6666666666666666, \"#ed7953\"], [0.7777777777777778, \"#fb9f3a\"], [0.8888888888888888, \"#fdca26\"], [1.0, \"#f0f921\"]], \"type\": \"contour\"}], \"contourcarpet\": [{\"colorbar\": {\"outlinewidth\": 0, \"ticks\": \"\"}, \"type\": \"contourcarpet\"}], \"heatmap\": [{\"colorbar\": {\"outlinewidth\": 0, \"ticks\": \"\"}, \"colorscale\": [[0.0, \"#0d0887\"], [0.1111111111111111, \"#46039f\"], [0.2222222222222222, \"#7201a8\"], [0.3333333333333333, \"#9c179e\"], [0.4444444444444444, \"#bd3786\"], [0.5555555555555556, \"#d8576b\"], [0.6666666666666666, \"#ed7953\"], [0.7777777777777778, \"#fb9f3a\"], [0.8888888888888888, \"#fdca26\"], [1.0, \"#f0f921\"]], \"type\": \"heatmap\"}], \"heatmapgl\": [{\"colorbar\": {\"outlinewidth\": 0, \"ticks\": \"\"}, \"colorscale\": [[0.0, \"#0d0887\"], [0.1111111111111111, \"#46039f\"], [0.2222222222222222, \"#7201a8\"], [0.3333333333333333, \"#9c179e\"], [0.4444444444444444, \"#bd3786\"], [0.5555555555555556, \"#d8576b\"], [0.6666666666666666, \"#ed7953\"], [0.7777777777777778, \"#fb9f3a\"], [0.8888888888888888, \"#fdca26\"], [1.0, \"#f0f921\"]], \"type\": \"heatmapgl\"}], \"histogram\": [{\"marker\": {\"colorbar\": {\"outlinewidth\": 0, \"ticks\": \"\"}}, \"type\": \"histogram\"}], \"histogram2d\": [{\"colorbar\": {\"outlinewidth\": 0, \"ticks\": \"\"}, \"colorscale\": [[0.0, \"#0d0887\"], [0.1111111111111111, \"#46039f\"], [0.2222222222222222, \"#7201a8\"], [0.3333333333333333, \"#9c179e\"], [0.4444444444444444, \"#bd3786\"], [0.5555555555555556, \"#d8576b\"], [0.6666666666666666, \"#ed7953\"], [0.7777777777777778, \"#fb9f3a\"], [0.8888888888888888, \"#fdca26\"], [1.0, \"#f0f921\"]], \"type\": \"histogram2d\"}], \"histogram2dcontour\": [{\"colorbar\": {\"outlinewidth\": 0, \"ticks\": \"\"}, \"colorscale\": [[0.0, \"#0d0887\"], [0.1111111111111111, \"#46039f\"], [0.2222222222222222, \"#7201a8\"], [0.3333333333333333, \"#9c179e\"], [0.4444444444444444, \"#bd3786\"], [0.5555555555555556, \"#d8576b\"], [0.6666666666666666, \"#ed7953\"], [0.7777777777777778, \"#fb9f3a\"], [0.8888888888888888, \"#fdca26\"], [1.0, \"#f0f921\"]], \"type\": \"histogram2dcontour\"}], \"mesh3d\": [{\"colorbar\": {\"outlinewidth\": 0, \"ticks\": \"\"}, \"type\": \"mesh3d\"}], \"parcoords\": [{\"line\": {\"colorbar\": {\"outlinewidth\": 0, \"ticks\": \"\"}}, \"type\": \"parcoords\"}], \"pie\": [{\"automargin\": true, \"type\": \"pie\"}], \"scatter\": [{\"marker\": {\"colorbar\": {\"outlinewidth\": 0, \"ticks\": \"\"}}, \"type\": \"scatter\"}], \"scatter3d\": [{\"line\": {\"colorbar\": {\"outlinewidth\": 0, \"ticks\": \"\"}}, \"marker\": {\"colorbar\": {\"outlinewidth\": 0, \"ticks\": \"\"}}, \"type\": \"scatter3d\"}], \"scattercarpet\": [{\"marker\": {\"colorbar\": {\"outlinewidth\": 0, \"ticks\": \"\"}}, \"type\": \"scattercarpet\"}], \"scattergeo\": [{\"marker\": {\"colorbar\": {\"outlinewidth\": 0, \"ticks\": \"\"}}, \"type\": \"scattergeo\"}], \"scattergl\": [{\"marker\": {\"colorbar\": {\"outlinewidth\": 0, \"ticks\": \"\"}}, \"type\": \"scattergl\"}], \"scattermapbox\": [{\"marker\": {\"colorbar\": {\"outlinewidth\": 0, \"ticks\": \"\"}}, \"type\": \"scattermapbox\"}], \"scatterpolar\": [{\"marker\": {\"colorbar\": {\"outlinewidth\": 0, \"ticks\": \"\"}}, \"type\": \"scatterpolar\"}], \"scatterpolargl\": [{\"marker\": {\"colorbar\": {\"outlinewidth\": 0, \"ticks\": \"\"}}, \"type\": \"scatterpolargl\"}], \"scatterternary\": [{\"marker\": {\"colorbar\": {\"outlinewidth\": 0, \"ticks\": \"\"}}, \"type\": \"scatterternary\"}], \"surface\": [{\"colorbar\": {\"outlinewidth\": 0, \"ticks\": \"\"}, \"colorscale\": [[0.0, \"#0d0887\"], [0.1111111111111111, \"#46039f\"], [0.2222222222222222, \"#7201a8\"], [0.3333333333333333, \"#9c179e\"], [0.4444444444444444, \"#bd3786\"], [0.5555555555555556, \"#d8576b\"], [0.6666666666666666, \"#ed7953\"], [0.7777777777777778, \"#fb9f3a\"], [0.8888888888888888, \"#fdca26\"], [1.0, \"#f0f921\"]], \"type\": \"surface\"}], \"table\": [{\"cells\": {\"fill\": {\"color\": \"#EBF0F8\"}, \"line\": {\"color\": \"white\"}}, \"header\": {\"fill\": {\"color\": \"#C8D4E3\"}, \"line\": {\"color\": \"white\"}}, \"type\": \"table\"}]}, \"layout\": {\"annotationdefaults\": {\"arrowcolor\": \"#2a3f5f\", \"arrowhead\": 0, \"arrowwidth\": 1}, \"coloraxis\": {\"colorbar\": {\"outlinewidth\": 0, \"ticks\": \"\"}}, \"colorscale\": {\"diverging\": [[0, \"#8e0152\"], [0.1, \"#c51b7d\"], [0.2, \"#de77ae\"], [0.3, \"#f1b6da\"], [0.4, \"#fde0ef\"], [0.5, \"#f7f7f7\"], [0.6, \"#e6f5d0\"], [0.7, \"#b8e186\"], [0.8, \"#7fbc41\"], [0.9, \"#4d9221\"], [1, \"#276419\"]], \"sequential\": [[0.0, \"#0d0887\"], [0.1111111111111111, \"#46039f\"], [0.2222222222222222, \"#7201a8\"], [0.3333333333333333, \"#9c179e\"], [0.4444444444444444, \"#bd3786\"], [0.5555555555555556, \"#d8576b\"], [0.6666666666666666, \"#ed7953\"], [0.7777777777777778, \"#fb9f3a\"], [0.8888888888888888, \"#fdca26\"], [1.0, \"#f0f921\"]], \"sequentialminus\": [[0.0, \"#0d0887\"], [0.1111111111111111, \"#46039f\"], [0.2222222222222222, \"#7201a8\"], [0.3333333333333333, \"#9c179e\"], [0.4444444444444444, \"#bd3786\"], [0.5555555555555556, \"#d8576b\"], [0.6666666666666666, \"#ed7953\"], [0.7777777777777778, \"#fb9f3a\"], [0.8888888888888888, \"#fdca26\"], [1.0, \"#f0f921\"]]}, \"colorway\": [\"#636efa\", \"#EF553B\", \"#00cc96\", \"#ab63fa\", \"#FFA15A\", \"#19d3f3\", \"#FF6692\", \"#B6E880\", \"#FF97FF\", \"#FECB52\"], \"font\": {\"color\": \"#2a3f5f\"}, \"geo\": {\"bgcolor\": \"white\", \"lakecolor\": \"white\", \"landcolor\": \"#E5ECF6\", \"showlakes\": true, \"showland\": true, \"subunitcolor\": \"white\"}, \"hoverlabel\": {\"align\": \"left\"}, \"hovermode\": \"closest\", \"mapbox\": {\"style\": \"light\"}, \"paper_bgcolor\": \"white\", \"plot_bgcolor\": \"#E5ECF6\", \"polar\": {\"angularaxis\": {\"gridcolor\": \"white\", \"linecolor\": \"white\", \"ticks\": \"\"}, \"bgcolor\": \"#E5ECF6\", \"radialaxis\": {\"gridcolor\": \"white\", \"linecolor\": \"white\", \"ticks\": \"\"}}, \"scene\": {\"xaxis\": {\"backgroundcolor\": \"#E5ECF6\", \"gridcolor\": \"white\", \"gridwidth\": 2, \"linecolor\": \"white\", \"showbackground\": true, \"ticks\": \"\", \"zerolinecolor\": \"white\"}, \"yaxis\": {\"backgroundcolor\": \"#E5ECF6\", \"gridcolor\": \"white\", \"gridwidth\": 2, \"linecolor\": \"white\", \"showbackground\": true, \"ticks\": \"\", \"zerolinecolor\": \"white\"}, \"zaxis\": {\"backgroundcolor\": \"#E5ECF6\", \"gridcolor\": \"white\", \"gridwidth\": 2, \"linecolor\": \"white\", \"showbackground\": true, \"ticks\": \"\", \"zerolinecolor\": \"white\"}}, \"shapedefaults\": {\"line\": {\"color\": \"#2a3f5f\"}}, \"ternary\": {\"aaxis\": {\"gridcolor\": \"white\", \"linecolor\": \"white\", \"ticks\": \"\"}, \"baxis\": {\"gridcolor\": \"white\", \"linecolor\": \"white\", \"ticks\": \"\"}, \"bgcolor\": \"#E5ECF6\", \"caxis\": {\"gridcolor\": \"white\", \"linecolor\": \"white\", \"ticks\": \"\"}}, \"title\": {\"x\": 0.05}, \"xaxis\": {\"automargin\": true, \"gridcolor\": \"white\", \"linecolor\": \"white\", \"ticks\": \"\", \"title\": {\"standoff\": 15}, \"zerolinecolor\": \"white\", \"zerolinewidth\": 2}, \"yaxis\": {\"automargin\": true, \"gridcolor\": \"white\", \"linecolor\": \"white\", \"ticks\": \"\", \"title\": {\"standoff\": 15}, \"zerolinecolor\": \"white\", \"zerolinewidth\": 2}}}, \"title\": {\"text\": \"Average Delay Time of Airline \\\"HA\\\" Route in 2015<br> Hover for value\"}},\n",
       "                        {\"responsive\": true}\n",
       "                    ).then(function(){\n",
       "                            \n",
       "var gd = document.getElementById('4f5a8565-511f-488b-9c98-d2e5d934e42e');\n",
       "var x = new MutationObserver(function (mutations, observer) {{\n",
       "        var display = window.getComputedStyle(gd).display;\n",
       "        if (!display || display === 'none') {{\n",
       "            console.log([gd, 'removed!']);\n",
       "            Plotly.purge(gd);\n",
       "            observer.disconnect();\n",
       "        }}\n",
       "}});\n",
       "\n",
       "// Listen for the removal of the full notebook cells\n",
       "var notebookContainer = gd.closest('#notebook-container');\n",
       "if (notebookContainer) {{\n",
       "    x.observe(notebookContainer, {childList: true});\n",
       "}}\n",
       "\n",
       "// Listen for the clearing of the current output cell\n",
       "var outputEl = gd.closest('.output');\n",
       "if (outputEl) {{\n",
       "    x.observe(outputEl, {childList: true});\n",
       "}}\n",
       "\n",
       "                        })\n",
       "                };\n",
       "                });\n",
       "            </script>\n",
       "        </div>"
      ]
     },
     "metadata": {},
     "output_type": "display_data"
    }
   ],
   "source": [
    "data = [\n",
    "    dict(\n",
    "        type='scattergeo',\n",
    "        lat=c_sorted['LATITUDE'],\n",
    "        lon=c_sorted['LONGITUDE'],\n",
    "        marker=dict(color='#FFD700',\n",
    "                    line=dict(color=\"rgba(102,102,102)\", width=1),\n",
    "                    opacity=0.8,\n",
    "                    size=6),\n",
    "        mode='markers',\n",
    "    )\n",
    "]\n",
    "\n",
    "#draw the flight route in the map\n",
    "for i in range(len(c_sorted.index)):#len(c_sorted)\n",
    "    data += [\n",
    "        dict(lat=[c_sorted['LATITUDE'].iloc[i], d_sorted['LATITUDE'].iloc[i]],\n",
    "             line=dict(color='#4682B4', width=1),\n",
    "             locationmode=\"USA-states\",\n",
    "             lon=[c_sorted['LONGITUDE'].iloc[i], d_sorted['LONGITUDE'].iloc[i]],\n",
    "             mode=\"lines\",\n",
    "             text=('From: ' + (c_sorted['AIRPORT'].iloc[i]) + '<br>To: ' +\n",
    "                   d_sorted['AIRPORT'].iloc[i] + '<br>Avg. Delay: ' +\n",
    "                   ((c_sorted['ARRIVAL_DELAY'].iloc[i] * 100).astype(int) /\n",
    "                    100).astype(str) + ' mins'),\n",
    "             opacity=(c_sorted['ARRIVAL_DELAY'].iloc[i]) / 30 if\n",
    "             (c_sorted['ARRIVAL_DELAY'].iloc[i]) > 0 else 0,\n",
    "             type=\"scattergeo\")\n",
    "    ]\n",
    "\n",
    "    #layout\n",
    "    layout = dict(\n",
    "        title='Average Delay Time of Airline \"HA\" Route in 2015'\n",
    "        + '<br> Hover for value',\n",
    "        geo=dict(scope='north america',\n",
    "                 projection=dict(type=\"azimuthal equal area\"),\n",
    "                 showlakes=True,\n",
    "                 showland=True,\n",
    "                 lakecolor='rgb(95,145,237)',\n",
    "                 landcolor='rgb(250,250,250)'),\n",
    "        showlegend=False)\n",
    "\n",
    "fig = dict(data=data, layout=layout)\n",
    "py.iplot(fig)"
   ]
  },
  {
   "cell_type": "code",
   "execution_count": null,
   "metadata": {},
   "outputs": [],
   "source": []
  }
 ],
 "metadata": {
  "kernelspec": {
   "display_name": "Python 3",
   "language": "python",
   "name": "python3"
  },
  "language_info": {
   "codemirror_mode": {
    "name": "ipython",
    "version": 3
   },
   "file_extension": ".py",
   "mimetype": "text/x-python",
   "name": "python",
   "nbconvert_exporter": "python",
   "pygments_lexer": "ipython3",
   "version": "3.7.4"
  },
  "toc": {
   "base_numbering": 1,
   "nav_menu": {},
   "number_sections": true,
   "sideBar": true,
   "skip_h1_title": false,
   "title_cell": "Table of Contents",
   "title_sidebar": "Contents",
   "toc_cell": false,
   "toc_position": {},
   "toc_section_display": true,
   "toc_window_display": false
  },
  "varInspector": {
   "cols": {
    "lenName": 16,
    "lenType": 16,
    "lenVar": 40
   },
   "kernels_config": {
    "python": {
     "delete_cmd_postfix": "",
     "delete_cmd_prefix": "del ",
     "library": "var_list.py",
     "varRefreshCmd": "print(var_dic_list())"
    },
    "r": {
     "delete_cmd_postfix": ") ",
     "delete_cmd_prefix": "rm(",
     "library": "var_list.r",
     "varRefreshCmd": "cat(var_dic_list()) "
    }
   },
   "types_to_exclude": [
    "module",
    "function",
    "builtin_function_or_method",
    "instance",
    "_Feature"
   ],
   "window_display": false
  }
 },
 "nbformat": 4,
 "nbformat_minor": 4
}
